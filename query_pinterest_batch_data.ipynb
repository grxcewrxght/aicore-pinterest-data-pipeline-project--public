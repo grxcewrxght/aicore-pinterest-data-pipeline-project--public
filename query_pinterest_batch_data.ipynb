{
 "cells": [
  {
   "cell_type": "code",
   "execution_count": 0,
   "metadata": {
    "application/vnd.databricks.v1+cell": {
     "cellMetadata": {
      "byteLimit": 2048000,
      "rowLimit": 10000
     },
     "inputWidgets": {},
     "nuid": "957e5a2b-85b1-459e-ab3d-37486cbc6a0d",
     "showTitle": false,
     "title": ""
    }
   },
   "outputs": [
    {
     "output_type": "display_data",
     "data": {
      "text/html": [
       "<style scoped>\n",
       "  .ansiout {\n",
       "    display: block;\n",
       "    unicode-bidi: embed;\n",
       "    white-space: pre-wrap;\n",
       "    word-wrap: break-word;\n",
       "    word-break: break-all;\n",
       "    font-family: \"Menlo\", \"Monaco\", \"Consolas\", \"Ubuntu Mono\", \"Source Code Pro\", monospace;\n",
       "    font-size: 13px;\n",
       "    color: #555;\n",
       "    margin-left: 4px;\n",
       "    line-height: 19px;\n",
       "  }\n",
       "</style>\n",
       "<div class=\"ansiout\"></div>"
      ]
     },
     "metadata": {
      "application/vnd.databricks.v1+output": {
       "addedWidgets": {},
       "arguments": {},
       "data": "<div class=\"ansiout\"></div>",
       "datasetInfos": [],
       "metadata": {},
       "removedWidgets": [],
       "type": "html"
      }
     },
     "output_type": "display_data"
    },
    {
     "output_type": "display_data",
     "data": {
      "text/html": [
       "<style scoped>\n",
       "  .ansiout {\n",
       "    display: block;\n",
       "    unicode-bidi: embed;\n",
       "    white-space: pre-wrap;\n",
       "    word-wrap: break-word;\n",
       "    word-break: break-all;\n",
       "    font-family: \"Menlo\", \"Monaco\", \"Consolas\", \"Ubuntu Mono\", \"Source Code Pro\", monospace;\n",
       "    font-size: 13px;\n",
       "    color: #555;\n",
       "    margin-left: 4px;\n",
       "    line-height: 19px;\n",
       "  }\n",
       "</style>\n",
       "<div class=\"ansiout\"></div>"
      ]
     },
     "metadata": {
      "application/vnd.databricks.v1+output": {
       "addedWidgets": {},
       "arguments": {},
       "data": "<div class=\"ansiout\"></div>",
       "datasetInfos": [],
       "metadata": {},
       "removedWidgets": [],
       "type": "html"
      }
     },
     "output_type": "display_data"
    },
    {
     "output_type": "display_data",
     "data": {
      "text/html": [
       "<style scoped>\n",
       "  .ansiout {\n",
       "    display: block;\n",
       "    unicode-bidi: embed;\n",
       "    white-space: pre-wrap;\n",
       "    word-wrap: break-word;\n",
       "    word-break: break-all;\n",
       "    font-family: \"Menlo\", \"Monaco\", \"Consolas\", \"Ubuntu Mono\", \"Source Code Pro\", monospace;\n",
       "    font-size: 13px;\n",
       "    color: #555;\n",
       "    margin-left: 4px;\n",
       "    line-height: 19px;\n",
       "  }\n",
       "</style>\n",
       "<div class=\"ansiout\">/mnt/s3_bucket_test has been unmounted.\n",
       "Out[51]: True</div>"
      ]
     },
     "metadata": {
      "application/vnd.databricks.v1+output": {
       "addedWidgets": {},
       "arguments": {},
       "data": "<div class=\"ansiout\">/mnt/s3_bucket_test has been unmounted.\nOut[51]: True</div>",
       "datasetInfos": [],
       "metadata": {},
       "removedWidgets": [],
       "type": "html"
      }
     },
     "output_type": "display_data"
    },
    {
     "output_type": "display_data",
     "data": {
      "text/html": [
       "<style scoped>\n",
       "  .table-result-container {\n",
       "    max-height: 300px;\n",
       "    overflow: auto;\n",
       "  }\n",
       "  table, th, td {\n",
       "    border: 1px solid black;\n",
       "    border-collapse: collapse;\n",
       "  }\n",
       "  th, td {\n",
       "    padding: 5px;\n",
       "  }\n",
       "  th {\n",
       "    text-align: left;\n",
       "  }\n",
       "</style><div class='table-result-container'><table class='table-result'><thead style='background-color: white'><tr><th>path</th><th>name</th><th>size</th><th>modificationTime</th></tr></thead><tbody><tr><td>dbfs:/mnt/s3_bucket_test/topics/12a3da8f7ced.pin/partition=0/12a3da8f7ced.pin+0+0000000000.json</td><td>12a3da8f7ced.pin+0+0000000000.json</td><td>444</td><td>1705678762000</td></tr><tr><td>dbfs:/mnt/s3_bucket_test/topics/12a3da8f7ced.pin/partition=0/12a3da8f7ced.pin+0+0000000001.json</td><td>12a3da8f7ced.pin+0+0000000001.json</td><td>681</td><td>1705678764000</td></tr><tr><td>dbfs:/mnt/s3_bucket_test/topics/12a3da8f7ced.pin/partition=0/12a3da8f7ced.pin+0+0000000002.json</td><td>12a3da8f7ced.pin+0+0000000002.json</td><td>714</td><td>1705678766000</td></tr><tr><td>dbfs:/mnt/s3_bucket_test/topics/12a3da8f7ced.pin/partition=0/12a3da8f7ced.pin+0+0000000003.json</td><td>12a3da8f7ced.pin+0+0000000003.json</td><td>640</td><td>1705678767000</td></tr><tr><td>dbfs:/mnt/s3_bucket_test/topics/12a3da8f7ced.pin/partition=0/12a3da8f7ced.pin+0+0000000004.json</td><td>12a3da8f7ced.pin+0+0000000004.json</td><td>643</td><td>1705678768000</td></tr><tr><td>dbfs:/mnt/s3_bucket_test/topics/12a3da8f7ced.pin/partition=0/12a3da8f7ced.pin+0+0000000005.json</td><td>12a3da8f7ced.pin+0+0000000005.json</td><td>602</td><td>1705678769000</td></tr><tr><td>dbfs:/mnt/s3_bucket_test/topics/12a3da8f7ced.pin/partition=0/12a3da8f7ced.pin+0+0000000006.json</td><td>12a3da8f7ced.pin+0+0000000006.json</td><td>767</td><td>1705678770000</td></tr><tr><td>dbfs:/mnt/s3_bucket_test/topics/12a3da8f7ced.pin/partition=0/12a3da8f7ced.pin+0+0000000007.json</td><td>12a3da8f7ced.pin+0+0000000007.json</td><td>444</td><td>1705682924000</td></tr><tr><td>dbfs:/mnt/s3_bucket_test/topics/12a3da8f7ced.pin/partition=0/12a3da8f7ced.pin+0+0000000008.json</td><td>12a3da8f7ced.pin+0+0000000008.json</td><td>681</td><td>1705682928000</td></tr><tr><td>dbfs:/mnt/s3_bucket_test/topics/12a3da8f7ced.pin/partition=0/12a3da8f7ced.pin+0+0000000009.json</td><td>12a3da8f7ced.pin+0+0000000009.json</td><td>714</td><td>1705682933000</td></tr><tr><td>dbfs:/mnt/s3_bucket_test/topics/12a3da8f7ced.pin/partition=0/12a3da8f7ced.pin+0+0000000010.json</td><td>12a3da8f7ced.pin+0+0000000010.json</td><td>640</td><td>1705682941000</td></tr><tr><td>dbfs:/mnt/s3_bucket_test/topics/12a3da8f7ced.pin/partition=0/12a3da8f7ced.pin+0+0000000011.json</td><td>12a3da8f7ced.pin+0+0000000011.json</td><td>643</td><td>1705682942000</td></tr><tr><td>dbfs:/mnt/s3_bucket_test/topics/12a3da8f7ced.pin/partition=0/12a3da8f7ced.pin+0+0000000012.json</td><td>12a3da8f7ced.pin+0+0000000012.json</td><td>602</td><td>1705682945000</td></tr><tr><td>dbfs:/mnt/s3_bucket_test/topics/12a3da8f7ced.pin/partition=0/12a3da8f7ced.pin+0+0000000013.json</td><td>12a3da8f7ced.pin+0+0000000013.json</td><td>767</td><td>1705682949000</td></tr><tr><td>dbfs:/mnt/s3_bucket_test/topics/12a3da8f7ced.pin/partition=0/12a3da8f7ced.pin+0+0000000014.json</td><td>12a3da8f7ced.pin+0+0000000014.json</td><td>509</td><td>1705682952000</td></tr><tr><td>dbfs:/mnt/s3_bucket_test/topics/12a3da8f7ced.pin/partition=0/12a3da8f7ced.pin+0+0000000015.json</td><td>12a3da8f7ced.pin+0+0000000015.json</td><td>810</td><td>1705682956000</td></tr><tr><td>dbfs:/mnt/s3_bucket_test/topics/12a3da8f7ced.pin/partition=0/12a3da8f7ced.pin+0+0000000016.json</td><td>12a3da8f7ced.pin+0+0000000016.json</td><td>766</td><td>1705682959000</td></tr><tr><td>dbfs:/mnt/s3_bucket_test/topics/12a3da8f7ced.pin/partition=0/12a3da8f7ced.pin+0+0000000017.json</td><td>12a3da8f7ced.pin+0+0000000017.json</td><td>680</td><td>1705682963000</td></tr><tr><td>dbfs:/mnt/s3_bucket_test/topics/12a3da8f7ced.pin/partition=0/12a3da8f7ced.pin+0+0000000018.json</td><td>12a3da8f7ced.pin+0+0000000018.json</td><td>448</td><td>1705682966000</td></tr><tr><td>dbfs:/mnt/s3_bucket_test/topics/12a3da8f7ced.pin/partition=0/12a3da8f7ced.pin+0+0000000019.json</td><td>12a3da8f7ced.pin+0+0000000019.json</td><td>760</td><td>1705682971000</td></tr><tr><td>dbfs:/mnt/s3_bucket_test/topics/12a3da8f7ced.pin/partition=0/12a3da8f7ced.pin+0+0000000020.json</td><td>12a3da8f7ced.pin+0+0000000020.json</td><td>719</td><td>1705682976000</td></tr><tr><td>dbfs:/mnt/s3_bucket_test/topics/12a3da8f7ced.pin/partition=0/12a3da8f7ced.pin+0+0000000021.json</td><td>12a3da8f7ced.pin+0+0000000021.json</td><td>626</td><td>1705682980000</td></tr><tr><td>dbfs:/mnt/s3_bucket_test/topics/12a3da8f7ced.pin/partition=0/12a3da8f7ced.pin+0+0000000022.json</td><td>12a3da8f7ced.pin+0+0000000022.json</td><td>772</td><td>1705682985000</td></tr><tr><td>dbfs:/mnt/s3_bucket_test/topics/12a3da8f7ced.pin/partition=0/12a3da8f7ced.pin+0+0000000023.json</td><td>12a3da8f7ced.pin+0+0000000023.json</td><td>582</td><td>1705682988000</td></tr><tr><td>dbfs:/mnt/s3_bucket_test/topics/12a3da8f7ced.pin/partition=0/12a3da8f7ced.pin+0+0000000024.json</td><td>12a3da8f7ced.pin+0+0000000024.json</td><td>733</td><td>1705682992000</td></tr><tr><td>dbfs:/mnt/s3_bucket_test/topics/12a3da8f7ced.pin/partition=0/12a3da8f7ced.pin+0+0000000025.json</td><td>12a3da8f7ced.pin+0+0000000025.json</td><td>727</td><td>1705682995000</td></tr><tr><td>dbfs:/mnt/s3_bucket_test/topics/12a3da8f7ced.pin/partition=0/12a3da8f7ced.pin+0+0000000026.json</td><td>12a3da8f7ced.pin+0+0000000026.json</td><td>802</td><td>1705682999000</td></tr><tr><td>dbfs:/mnt/s3_bucket_test/topics/12a3da8f7ced.pin/partition=0/12a3da8f7ced.pin+0+0000000027.json</td><td>12a3da8f7ced.pin+0+0000000027.json</td><td>823</td><td>1705683003000</td></tr><tr><td>dbfs:/mnt/s3_bucket_test/topics/12a3da8f7ced.pin/partition=0/12a3da8f7ced.pin+0+0000000028.json</td><td>12a3da8f7ced.pin+0+0000000028.json</td><td>727</td><td>1705683006000</td></tr><tr><td>dbfs:/mnt/s3_bucket_test/topics/12a3da8f7ced.pin/partition=0/12a3da8f7ced.pin+0+0000000029.json</td><td>12a3da8f7ced.pin+0+0000000029.json</td><td>766</td><td>1705683010000</td></tr><tr><td>dbfs:/mnt/s3_bucket_test/topics/12a3da8f7ced.pin/partition=0/12a3da8f7ced.pin+0+0000000030.json</td><td>12a3da8f7ced.pin+0+0000000030.json</td><td>700</td><td>1705683014000</td></tr><tr><td>dbfs:/mnt/s3_bucket_test/topics/12a3da8f7ced.pin/partition=0/12a3da8f7ced.pin+0+0000000031.json</td><td>12a3da8f7ced.pin+0+0000000031.json</td><td>444</td><td>1706033263000</td></tr><tr><td>dbfs:/mnt/s3_bucket_test/topics/12a3da8f7ced.pin/partition=0/12a3da8f7ced.pin+0+0000000032.json</td><td>12a3da8f7ced.pin+0+0000000032.json</td><td>681</td><td>1706033270000</td></tr><tr><td>dbfs:/mnt/s3_bucket_test/topics/12a3da8f7ced.pin/partition=0/12a3da8f7ced.pin+0+0000000033.json</td><td>12a3da8f7ced.pin+0+0000000033.json</td><td>714</td><td>1706033278000</td></tr><tr><td>dbfs:/mnt/s3_bucket_test/topics/12a3da8f7ced.pin/partition=0/12a3da8f7ced.pin+0+0000000034.json</td><td>12a3da8f7ced.pin+0+0000000034.json</td><td>640</td><td>1706033283000</td></tr><tr><td>dbfs:/mnt/s3_bucket_test/topics/12a3da8f7ced.pin/partition=0/12a3da8f7ced.pin+0+0000000035.json</td><td>12a3da8f7ced.pin+0+0000000035.json</td><td>643</td><td>1706033288000</td></tr><tr><td>dbfs:/mnt/s3_bucket_test/topics/12a3da8f7ced.pin/partition=0/12a3da8f7ced.pin+0+0000000036.json</td><td>12a3da8f7ced.pin+0+0000000036.json</td><td>602</td><td>1706033292000</td></tr><tr><td>dbfs:/mnt/s3_bucket_test/topics/12a3da8f7ced.pin/partition=0/12a3da8f7ced.pin+0+0000000037.json</td><td>12a3da8f7ced.pin+0+0000000037.json</td><td>767</td><td>1706033297000</td></tr><tr><td>dbfs:/mnt/s3_bucket_test/topics/12a3da8f7ced.pin/partition=0/12a3da8f7ced.pin+0+0000000038.json</td><td>12a3da8f7ced.pin+0+0000000038.json</td><td>509</td><td>1706033302000</td></tr><tr><td>dbfs:/mnt/s3_bucket_test/topics/12a3da8f7ced.pin/partition=0/12a3da8f7ced.pin+0+0000000039.json</td><td>12a3da8f7ced.pin+0+0000000039.json</td><td>810</td><td>1706033307000</td></tr><tr><td>dbfs:/mnt/s3_bucket_test/topics/12a3da8f7ced.pin/partition=0/12a3da8f7ced.pin+0+0000000040.json</td><td>12a3da8f7ced.pin+0+0000000040.json</td><td>766</td><td>1706033311000</td></tr><tr><td>dbfs:/mnt/s3_bucket_test/topics/12a3da8f7ced.pin/partition=0/12a3da8f7ced.pin+0+0000000041.json</td><td>12a3da8f7ced.pin+0+0000000041.json</td><td>680</td><td>1706033317000</td></tr><tr><td>dbfs:/mnt/s3_bucket_test/topics/12a3da8f7ced.pin/partition=0/12a3da8f7ced.pin+0+0000000042.json</td><td>12a3da8f7ced.pin+0+0000000042.json</td><td>448</td><td>1706033321000</td></tr><tr><td>dbfs:/mnt/s3_bucket_test/topics/12a3da8f7ced.pin/partition=0/12a3da8f7ced.pin+0+0000000043.json</td><td>12a3da8f7ced.pin+0+0000000043.json</td><td>760</td><td>1706033327000</td></tr><tr><td>dbfs:/mnt/s3_bucket_test/topics/12a3da8f7ced.pin/partition=0/12a3da8f7ced.pin+0+0000000044.json</td><td>12a3da8f7ced.pin+0+0000000044.json</td><td>719</td><td>1706033332000</td></tr><tr><td>dbfs:/mnt/s3_bucket_test/topics/12a3da8f7ced.pin/partition=0/12a3da8f7ced.pin+0+0000000045.json</td><td>12a3da8f7ced.pin+0+0000000045.json</td><td>626</td><td>1706033337000</td></tr><tr><td>dbfs:/mnt/s3_bucket_test/topics/12a3da8f7ced.pin/partition=0/12a3da8f7ced.pin+0+0000000046.json</td><td>12a3da8f7ced.pin+0+0000000046.json</td><td>772</td><td>1706033343000</td></tr><tr><td>dbfs:/mnt/s3_bucket_test/topics/12a3da8f7ced.pin/partition=0/12a3da8f7ced.pin+0+0000000047.json</td><td>12a3da8f7ced.pin+0+0000000047.json</td><td>582</td><td>1706033347000</td></tr><tr><td>dbfs:/mnt/s3_bucket_test/topics/12a3da8f7ced.pin/partition=0/12a3da8f7ced.pin+0+0000000048.json</td><td>12a3da8f7ced.pin+0+0000000048.json</td><td>733</td><td>1706033353000</td></tr><tr><td>dbfs:/mnt/s3_bucket_test/topics/12a3da8f7ced.pin/partition=0/12a3da8f7ced.pin+0+0000000049.json</td><td>12a3da8f7ced.pin+0+0000000049.json</td><td>727</td><td>1706033357000</td></tr><tr><td>dbfs:/mnt/s3_bucket_test/topics/12a3da8f7ced.pin/partition=0/12a3da8f7ced.pin+0+0000000050.json</td><td>12a3da8f7ced.pin+0+0000000050.json</td><td>802</td><td>1706033362000</td></tr><tr><td>dbfs:/mnt/s3_bucket_test/topics/12a3da8f7ced.pin/partition=0/12a3da8f7ced.pin+0+0000000051.json</td><td>12a3da8f7ced.pin+0+0000000051.json</td><td>823</td><td>1706033366000</td></tr><tr><td>dbfs:/mnt/s3_bucket_test/topics/12a3da8f7ced.pin/partition=0/12a3da8f7ced.pin+0+0000000052.json</td><td>12a3da8f7ced.pin+0+0000000052.json</td><td>727</td><td>1706033370000</td></tr><tr><td>dbfs:/mnt/s3_bucket_test/topics/12a3da8f7ced.pin/partition=0/12a3da8f7ced.pin+0+0000000053.json</td><td>12a3da8f7ced.pin+0+0000000053.json</td><td>766</td><td>1706033375000</td></tr><tr><td>dbfs:/mnt/s3_bucket_test/topics/12a3da8f7ced.pin/partition=0/12a3da8f7ced.pin+0+0000000054.json</td><td>12a3da8f7ced.pin+0+0000000054.json</td><td>700</td><td>1706033382000</td></tr><tr><td>dbfs:/mnt/s3_bucket_test/topics/12a3da8f7ced.pin/partition=0/12a3da8f7ced.pin+0+0000000055.json</td><td>12a3da8f7ced.pin+0+0000000055.json</td><td>779</td><td>1706033387000</td></tr><tr><td>dbfs:/mnt/s3_bucket_test/topics/12a3da8f7ced.pin/partition=0/12a3da8f7ced.pin+0+0000000056.json</td><td>12a3da8f7ced.pin+0+0000000056.json</td><td>838</td><td>1706033391000</td></tr><tr><td>dbfs:/mnt/s3_bucket_test/topics/12a3da8f7ced.pin/partition=0/12a3da8f7ced.pin+0+0000000057.json</td><td>12a3da8f7ced.pin+0+0000000057.json</td><td>744</td><td>1706033398000</td></tr><tr><td>dbfs:/mnt/s3_bucket_test/topics/12a3da8f7ced.pin/partition=0/12a3da8f7ced.pin+0+0000000058.json</td><td>12a3da8f7ced.pin+0+0000000058.json</td><td>681</td><td>1706033403000</td></tr><tr><td>dbfs:/mnt/s3_bucket_test/topics/12a3da8f7ced.pin/partition=0/12a3da8f7ced.pin+0+0000000059.json</td><td>12a3da8f7ced.pin+0+0000000059.json</td><td>622</td><td>1706033409000</td></tr><tr><td>dbfs:/mnt/s3_bucket_test/topics/12a3da8f7ced.pin/partition=0/12a3da8f7ced.pin+0+0000000060.json</td><td>12a3da8f7ced.pin+0+0000000060.json</td><td>790</td><td>1706033415000</td></tr><tr><td>dbfs:/mnt/s3_bucket_test/topics/12a3da8f7ced.pin/partition=0/12a3da8f7ced.pin+0+0000000061.json</td><td>12a3da8f7ced.pin+0+0000000061.json</td><td>524</td><td>1706033420000</td></tr><tr><td>dbfs:/mnt/s3_bucket_test/topics/12a3da8f7ced.pin/partition=0/12a3da8f7ced.pin+0+0000000062.json</td><td>12a3da8f7ced.pin+0+0000000062.json</td><td>734</td><td>1706033425000</td></tr><tr><td>dbfs:/mnt/s3_bucket_test/topics/12a3da8f7ced.pin/partition=0/12a3da8f7ced.pin+0+0000000063.json</td><td>12a3da8f7ced.pin+0+0000000063.json</td><td>751</td><td>1706033430000</td></tr><tr><td>dbfs:/mnt/s3_bucket_test/topics/12a3da8f7ced.pin/partition=0/12a3da8f7ced.pin+0+0000000064.json</td><td>12a3da8f7ced.pin+0+0000000064.json</td><td>745</td><td>1706033434000</td></tr><tr><td>dbfs:/mnt/s3_bucket_test/topics/12a3da8f7ced.pin/partition=0/12a3da8f7ced.pin+0+0000000065.json</td><td>12a3da8f7ced.pin+0+0000000065.json</td><td>650</td><td>1706033439000</td></tr><tr><td>dbfs:/mnt/s3_bucket_test/topics/12a3da8f7ced.pin/partition=0/12a3da8f7ced.pin+0+0000000066.json</td><td>12a3da8f7ced.pin+0+0000000066.json</td><td>749</td><td>1706033445000</td></tr><tr><td>dbfs:/mnt/s3_bucket_test/topics/12a3da8f7ced.pin/partition=0/12a3da8f7ced.pin+0+0000000067.json</td><td>12a3da8f7ced.pin+0+0000000067.json</td><td>574</td><td>1706033449000</td></tr><tr><td>dbfs:/mnt/s3_bucket_test/topics/12a3da8f7ced.pin/partition=0/12a3da8f7ced.pin+0+0000000068.json</td><td>12a3da8f7ced.pin+0+0000000068.json</td><td>775</td><td>1706033456000</td></tr><tr><td>dbfs:/mnt/s3_bucket_test/topics/12a3da8f7ced.pin/partition=0/12a3da8f7ced.pin+0+0000000069.json</td><td>12a3da8f7ced.pin+0+0000000069.json</td><td>786</td><td>1706033459000</td></tr><tr><td>dbfs:/mnt/s3_bucket_test/topics/12a3da8f7ced.pin/partition=0/12a3da8f7ced.pin+0+0000000070.json</td><td>12a3da8f7ced.pin+0+0000000070.json</td><td>699</td><td>1706033464000</td></tr><tr><td>dbfs:/mnt/s3_bucket_test/topics/12a3da8f7ced.pin/partition=0/12a3da8f7ced.pin+0+0000000071.json</td><td>12a3da8f7ced.pin+0+0000000071.json</td><td>759</td><td>1706033470000</td></tr><tr><td>dbfs:/mnt/s3_bucket_test/topics/12a3da8f7ced.pin/partition=0/12a3da8f7ced.pin+0+0000000072.json</td><td>12a3da8f7ced.pin+0+0000000072.json</td><td>682</td><td>1706033477000</td></tr><tr><td>dbfs:/mnt/s3_bucket_test/topics/12a3da8f7ced.pin/partition=0/12a3da8f7ced.pin+0+0000000073.json</td><td>12a3da8f7ced.pin+0+0000000073.json</td><td>692</td><td>1706033482000</td></tr><tr><td>dbfs:/mnt/s3_bucket_test/topics/12a3da8f7ced.pin/partition=0/12a3da8f7ced.pin+0+0000000074.json</td><td>12a3da8f7ced.pin+0+0000000074.json</td><td>697</td><td>1706033487000</td></tr><tr><td>dbfs:/mnt/s3_bucket_test/topics/12a3da8f7ced.pin/partition=0/12a3da8f7ced.pin+0+0000000075.json</td><td>12a3da8f7ced.pin+0+0000000075.json</td><td>691</td><td>1706033493000</td></tr><tr><td>dbfs:/mnt/s3_bucket_test/topics/12a3da8f7ced.pin/partition=0/12a3da8f7ced.pin+0+0000000076.json</td><td>12a3da8f7ced.pin+0+0000000076.json</td><td>766</td><td>1706033499000</td></tr><tr><td>dbfs:/mnt/s3_bucket_test/topics/12a3da8f7ced.pin/partition=0/12a3da8f7ced.pin+0+0000000077.json</td><td>12a3da8f7ced.pin+0+0000000077.json</td><td>778</td><td>1706033504000</td></tr><tr><td>dbfs:/mnt/s3_bucket_test/topics/12a3da8f7ced.pin/partition=0/12a3da8f7ced.pin+0+0000000078.json</td><td>12a3da8f7ced.pin+0+0000000078.json</td><td>703</td><td>1706033511000</td></tr><tr><td>dbfs:/mnt/s3_bucket_test/topics/12a3da8f7ced.pin/partition=0/12a3da8f7ced.pin+0+0000000079.json</td><td>12a3da8f7ced.pin+0+0000000079.json</td><td>770</td><td>1706033518000</td></tr><tr><td>dbfs:/mnt/s3_bucket_test/topics/12a3da8f7ced.pin/partition=0/12a3da8f7ced.pin+0+0000000080.json</td><td>12a3da8f7ced.pin+0+0000000080.json</td><td>886</td><td>1706033525000</td></tr><tr><td>dbfs:/mnt/s3_bucket_test/topics/12a3da8f7ced.pin/partition=0/12a3da8f7ced.pin+0+0000000081.json</td><td>12a3da8f7ced.pin+0+0000000081.json</td><td>745</td><td>1706033532000</td></tr><tr><td>dbfs:/mnt/s3_bucket_test/topics/12a3da8f7ced.pin/partition=0/12a3da8f7ced.pin+0+0000000082.json</td><td>12a3da8f7ced.pin+0+0000000082.json</td><td>740</td><td>1706033538000</td></tr><tr><td>dbfs:/mnt/s3_bucket_test/topics/12a3da8f7ced.pin/partition=0/12a3da8f7ced.pin+0+0000000083.json</td><td>12a3da8f7ced.pin+0+0000000083.json</td><td>696</td><td>1706033543000</td></tr><tr><td>dbfs:/mnt/s3_bucket_test/topics/12a3da8f7ced.pin/partition=0/12a3da8f7ced.pin+0+0000000084.json</td><td>12a3da8f7ced.pin+0+0000000084.json</td><td>788</td><td>1706033548000</td></tr><tr><td>dbfs:/mnt/s3_bucket_test/topics/12a3da8f7ced.pin/partition=0/12a3da8f7ced.pin+0+0000000085.json</td><td>12a3da8f7ced.pin+0+0000000085.json</td><td>784</td><td>1706033554000</td></tr><tr><td>dbfs:/mnt/s3_bucket_test/topics/12a3da8f7ced.pin/partition=0/12a3da8f7ced.pin+0+0000000086.json</td><td>12a3da8f7ced.pin+0+0000000086.json</td><td>698</td><td>1706033558000</td></tr><tr><td>dbfs:/mnt/s3_bucket_test/topics/12a3da8f7ced.pin/partition=0/12a3da8f7ced.pin+0+0000000087.json</td><td>12a3da8f7ced.pin+0+0000000087.json</td><td>784</td><td>1706033561000</td></tr><tr><td>dbfs:/mnt/s3_bucket_test/topics/12a3da8f7ced.pin/partition=0/12a3da8f7ced.pin+0+0000000088.json</td><td>12a3da8f7ced.pin+0+0000000088.json</td><td>621</td><td>1706033565000</td></tr><tr><td>dbfs:/mnt/s3_bucket_test/topics/12a3da8f7ced.pin/partition=0/12a3da8f7ced.pin+0+0000000089.json</td><td>12a3da8f7ced.pin+0+0000000089.json</td><td>736</td><td>1706033569000</td></tr><tr><td>dbfs:/mnt/s3_bucket_test/topics/12a3da8f7ced.pin/partition=0/12a3da8f7ced.pin+0+0000000090.json</td><td>12a3da8f7ced.pin+0+0000000090.json</td><td>503</td><td>1706033574000</td></tr><tr><td>dbfs:/mnt/s3_bucket_test/topics/12a3da8f7ced.pin/partition=0/12a3da8f7ced.pin+0+0000000091.json</td><td>12a3da8f7ced.pin+0+0000000091.json</td><td>711</td><td>1706033580000</td></tr><tr><td>dbfs:/mnt/s3_bucket_test/topics/12a3da8f7ced.pin/partition=0/12a3da8f7ced.pin+0+0000000092.json</td><td>12a3da8f7ced.pin+0+0000000092.json</td><td>675</td><td>1706033585000</td></tr><tr><td>dbfs:/mnt/s3_bucket_test/topics/12a3da8f7ced.pin/partition=0/12a3da8f7ced.pin+0+0000000093.json</td><td>12a3da8f7ced.pin+0+0000000093.json</td><td>649</td><td>1706033590000</td></tr><tr><td>dbfs:/mnt/s3_bucket_test/topics/12a3da8f7ced.pin/partition=0/12a3da8f7ced.pin+0+0000000094.json</td><td>12a3da8f7ced.pin+0+0000000094.json</td><td>755</td><td>1706033596000</td></tr><tr><td>dbfs:/mnt/s3_bucket_test/topics/12a3da8f7ced.pin/partition=0/12a3da8f7ced.pin+0+0000000095.json</td><td>12a3da8f7ced.pin+0+0000000095.json</td><td>678</td><td>1706033600000</td></tr><tr><td>dbfs:/mnt/s3_bucket_test/topics/12a3da8f7ced.pin/partition=0/12a3da8f7ced.pin+0+0000000096.json</td><td>12a3da8f7ced.pin+0+0000000096.json</td><td>560</td><td>1706033605000</td></tr><tr><td>dbfs:/mnt/s3_bucket_test/topics/12a3da8f7ced.pin/partition=0/12a3da8f7ced.pin+0+0000000097.json</td><td>12a3da8f7ced.pin+0+0000000097.json</td><td>817</td><td>1706033610000</td></tr><tr><td>dbfs:/mnt/s3_bucket_test/topics/12a3da8f7ced.pin/partition=0/12a3da8f7ced.pin+0+0000000098.json</td><td>12a3da8f7ced.pin+0+0000000098.json</td><td>667</td><td>1706033615000</td></tr><tr><td>dbfs:/mnt/s3_bucket_test/topics/12a3da8f7ced.pin/partition=0/12a3da8f7ced.pin+0+0000000099.json</td><td>12a3da8f7ced.pin+0+0000000099.json</td><td>750</td><td>1706033621000</td></tr><tr><td>dbfs:/mnt/s3_bucket_test/topics/12a3da8f7ced.pin/partition=0/12a3da8f7ced.pin+0+0000000100.json</td><td>12a3da8f7ced.pin+0+0000000100.json</td><td>696</td><td>1706033627000</td></tr><tr><td>dbfs:/mnt/s3_bucket_test/topics/12a3da8f7ced.pin/partition=0/12a3da8f7ced.pin+0+0000000101.json</td><td>12a3da8f7ced.pin+0+0000000101.json</td><td>743</td><td>1706033631000</td></tr><tr><td>dbfs:/mnt/s3_bucket_test/topics/12a3da8f7ced.pin/partition=0/12a3da8f7ced.pin+0+0000000102.json</td><td>12a3da8f7ced.pin+0+0000000102.json</td><td>718</td><td>1706033636000</td></tr><tr><td>dbfs:/mnt/s3_bucket_test/topics/12a3da8f7ced.pin/partition=0/12a3da8f7ced.pin+0+0000000103.json</td><td>12a3da8f7ced.pin+0+0000000103.json</td><td>661</td><td>1706033644000</td></tr><tr><td>dbfs:/mnt/s3_bucket_test/topics/12a3da8f7ced.pin/partition=0/12a3da8f7ced.pin+0+0000000104.json</td><td>12a3da8f7ced.pin+0+0000000104.json</td><td>576</td><td>1706033648000</td></tr><tr><td>dbfs:/mnt/s3_bucket_test/topics/12a3da8f7ced.pin/partition=0/12a3da8f7ced.pin+0+0000000105.json</td><td>12a3da8f7ced.pin+0+0000000105.json</td><td>771</td><td>1706033652000</td></tr><tr><td>dbfs:/mnt/s3_bucket_test/topics/12a3da8f7ced.pin/partition=0/12a3da8f7ced.pin+0+0000000106.json</td><td>12a3da8f7ced.pin+0+0000000106.json</td><td>721</td><td>1706033657000</td></tr><tr><td>dbfs:/mnt/s3_bucket_test/topics/12a3da8f7ced.pin/partition=0/12a3da8f7ced.pin+0+0000000107.json</td><td>12a3da8f7ced.pin+0+0000000107.json</td><td>780</td><td>1706033661000</td></tr><tr><td>dbfs:/mnt/s3_bucket_test/topics/12a3da8f7ced.pin/partition=0/12a3da8f7ced.pin+0+0000000108.json</td><td>12a3da8f7ced.pin+0+0000000108.json</td><td>767</td><td>1706033665000</td></tr><tr><td>dbfs:/mnt/s3_bucket_test/topics/12a3da8f7ced.pin/partition=0/12a3da8f7ced.pin+0+0000000109.json</td><td>12a3da8f7ced.pin+0+0000000109.json</td><td>714</td><td>1706033670000</td></tr><tr><td>dbfs:/mnt/s3_bucket_test/topics/12a3da8f7ced.pin/partition=0/12a3da8f7ced.pin+0+0000000110.json</td><td>12a3da8f7ced.pin+0+0000000110.json</td><td>690</td><td>1706033674000</td></tr><tr><td>dbfs:/mnt/s3_bucket_test/topics/12a3da8f7ced.pin/partition=0/12a3da8f7ced.pin+0+0000000111.json</td><td>12a3da8f7ced.pin+0+0000000111.json</td><td>660</td><td>1706033680000</td></tr><tr><td>dbfs:/mnt/s3_bucket_test/topics/12a3da8f7ced.pin/partition=0/12a3da8f7ced.pin+0+0000000112.json</td><td>12a3da8f7ced.pin+0+0000000112.json</td><td>756</td><td>1706033686000</td></tr><tr><td>dbfs:/mnt/s3_bucket_test/topics/12a3da8f7ced.pin/partition=0/12a3da8f7ced.pin+0+0000000113.json</td><td>12a3da8f7ced.pin+0+0000000113.json</td><td>727</td><td>1706033690000</td></tr><tr><td>dbfs:/mnt/s3_bucket_test/topics/12a3da8f7ced.pin/partition=0/12a3da8f7ced.pin+0+0000000114.json</td><td>12a3da8f7ced.pin+0+0000000114.json</td><td>819</td><td>1706033693000</td></tr><tr><td>dbfs:/mnt/s3_bucket_test/topics/12a3da8f7ced.pin/partition=0/12a3da8f7ced.pin+0+0000000115.json</td><td>12a3da8f7ced.pin+0+0000000115.json</td><td>763</td><td>1706033698000</td></tr><tr><td>dbfs:/mnt/s3_bucket_test/topics/12a3da8f7ced.pin/partition=0/12a3da8f7ced.pin+0+0000000116.json</td><td>12a3da8f7ced.pin+0+0000000116.json</td><td>831</td><td>1706033701000</td></tr></tbody></table></div>"
      ]
     },
     "metadata": {
      "application/vnd.databricks.v1+output": {
       "addedWidgets": {},
       "aggData": [],
       "aggError": "",
       "aggOverflow": false,
       "aggSchema": [],
       "aggSeriesLimitReached": false,
       "aggType": "",
       "arguments": {},
       "columnCustomDisplayInfos": {},
       "data": [
        [
         "dbfs:/mnt/s3_bucket_test/topics/12a3da8f7ced.pin/partition=0/12a3da8f7ced.pin+0+0000000000.json",
         "12a3da8f7ced.pin+0+0000000000.json",
         444,
         1705678762000
        ],
        [
         "dbfs:/mnt/s3_bucket_test/topics/12a3da8f7ced.pin/partition=0/12a3da8f7ced.pin+0+0000000001.json",
         "12a3da8f7ced.pin+0+0000000001.json",
         681,
         1705678764000
        ],
        [
         "dbfs:/mnt/s3_bucket_test/topics/12a3da8f7ced.pin/partition=0/12a3da8f7ced.pin+0+0000000002.json",
         "12a3da8f7ced.pin+0+0000000002.json",
         714,
         1705678766000
        ],
        [
         "dbfs:/mnt/s3_bucket_test/topics/12a3da8f7ced.pin/partition=0/12a3da8f7ced.pin+0+0000000003.json",
         "12a3da8f7ced.pin+0+0000000003.json",
         640,
         1705678767000
        ],
        [
         "dbfs:/mnt/s3_bucket_test/topics/12a3da8f7ced.pin/partition=0/12a3da8f7ced.pin+0+0000000004.json",
         "12a3da8f7ced.pin+0+0000000004.json",
         643,
         1705678768000
        ],
        [
         "dbfs:/mnt/s3_bucket_test/topics/12a3da8f7ced.pin/partition=0/12a3da8f7ced.pin+0+0000000005.json",
         "12a3da8f7ced.pin+0+0000000005.json",
         602,
         1705678769000
        ],
        [
         "dbfs:/mnt/s3_bucket_test/topics/12a3da8f7ced.pin/partition=0/12a3da8f7ced.pin+0+0000000006.json",
         "12a3da8f7ced.pin+0+0000000006.json",
         767,
         1705678770000
        ],
        [
         "dbfs:/mnt/s3_bucket_test/topics/12a3da8f7ced.pin/partition=0/12a3da8f7ced.pin+0+0000000007.json",
         "12a3da8f7ced.pin+0+0000000007.json",
         444,
         1705682924000
        ],
        [
         "dbfs:/mnt/s3_bucket_test/topics/12a3da8f7ced.pin/partition=0/12a3da8f7ced.pin+0+0000000008.json",
         "12a3da8f7ced.pin+0+0000000008.json",
         681,
         1705682928000
        ],
        [
         "dbfs:/mnt/s3_bucket_test/topics/12a3da8f7ced.pin/partition=0/12a3da8f7ced.pin+0+0000000009.json",
         "12a3da8f7ced.pin+0+0000000009.json",
         714,
         1705682933000
        ],
        [
         "dbfs:/mnt/s3_bucket_test/topics/12a3da8f7ced.pin/partition=0/12a3da8f7ced.pin+0+0000000010.json",
         "12a3da8f7ced.pin+0+0000000010.json",
         640,
         1705682941000
        ],
        [
         "dbfs:/mnt/s3_bucket_test/topics/12a3da8f7ced.pin/partition=0/12a3da8f7ced.pin+0+0000000011.json",
         "12a3da8f7ced.pin+0+0000000011.json",
         643,
         1705682942000
        ],
        [
         "dbfs:/mnt/s3_bucket_test/topics/12a3da8f7ced.pin/partition=0/12a3da8f7ced.pin+0+0000000012.json",
         "12a3da8f7ced.pin+0+0000000012.json",
         602,
         1705682945000
        ],
        [
         "dbfs:/mnt/s3_bucket_test/topics/12a3da8f7ced.pin/partition=0/12a3da8f7ced.pin+0+0000000013.json",
         "12a3da8f7ced.pin+0+0000000013.json",
         767,
         1705682949000
        ],
        [
         "dbfs:/mnt/s3_bucket_test/topics/12a3da8f7ced.pin/partition=0/12a3da8f7ced.pin+0+0000000014.json",
         "12a3da8f7ced.pin+0+0000000014.json",
         509,
         1705682952000
        ],
        [
         "dbfs:/mnt/s3_bucket_test/topics/12a3da8f7ced.pin/partition=0/12a3da8f7ced.pin+0+0000000015.json",
         "12a3da8f7ced.pin+0+0000000015.json",
         810,
         1705682956000
        ],
        [
         "dbfs:/mnt/s3_bucket_test/topics/12a3da8f7ced.pin/partition=0/12a3da8f7ced.pin+0+0000000016.json",
         "12a3da8f7ced.pin+0+0000000016.json",
         766,
         1705682959000
        ],
        [
         "dbfs:/mnt/s3_bucket_test/topics/12a3da8f7ced.pin/partition=0/12a3da8f7ced.pin+0+0000000017.json",
         "12a3da8f7ced.pin+0+0000000017.json",
         680,
         1705682963000
        ],
        [
         "dbfs:/mnt/s3_bucket_test/topics/12a3da8f7ced.pin/partition=0/12a3da8f7ced.pin+0+0000000018.json",
         "12a3da8f7ced.pin+0+0000000018.json",
         448,
         1705682966000
        ],
        [
         "dbfs:/mnt/s3_bucket_test/topics/12a3da8f7ced.pin/partition=0/12a3da8f7ced.pin+0+0000000019.json",
         "12a3da8f7ced.pin+0+0000000019.json",
         760,
         1705682971000
        ],
        [
         "dbfs:/mnt/s3_bucket_test/topics/12a3da8f7ced.pin/partition=0/12a3da8f7ced.pin+0+0000000020.json",
         "12a3da8f7ced.pin+0+0000000020.json",
         719,
         1705682976000
        ],
        [
         "dbfs:/mnt/s3_bucket_test/topics/12a3da8f7ced.pin/partition=0/12a3da8f7ced.pin+0+0000000021.json",
         "12a3da8f7ced.pin+0+0000000021.json",
         626,
         1705682980000
        ],
        [
         "dbfs:/mnt/s3_bucket_test/topics/12a3da8f7ced.pin/partition=0/12a3da8f7ced.pin+0+0000000022.json",
         "12a3da8f7ced.pin+0+0000000022.json",
         772,
         1705682985000
        ],
        [
         "dbfs:/mnt/s3_bucket_test/topics/12a3da8f7ced.pin/partition=0/12a3da8f7ced.pin+0+0000000023.json",
         "12a3da8f7ced.pin+0+0000000023.json",
         582,
         1705682988000
        ],
        [
         "dbfs:/mnt/s3_bucket_test/topics/12a3da8f7ced.pin/partition=0/12a3da8f7ced.pin+0+0000000024.json",
         "12a3da8f7ced.pin+0+0000000024.json",
         733,
         1705682992000
        ],
        [
         "dbfs:/mnt/s3_bucket_test/topics/12a3da8f7ced.pin/partition=0/12a3da8f7ced.pin+0+0000000025.json",
         "12a3da8f7ced.pin+0+0000000025.json",
         727,
         1705682995000
        ],
        [
         "dbfs:/mnt/s3_bucket_test/topics/12a3da8f7ced.pin/partition=0/12a3da8f7ced.pin+0+0000000026.json",
         "12a3da8f7ced.pin+0+0000000026.json",
         802,
         1705682999000
        ],
        [
         "dbfs:/mnt/s3_bucket_test/topics/12a3da8f7ced.pin/partition=0/12a3da8f7ced.pin+0+0000000027.json",
         "12a3da8f7ced.pin+0+0000000027.json",
         823,
         1705683003000
        ],
        [
         "dbfs:/mnt/s3_bucket_test/topics/12a3da8f7ced.pin/partition=0/12a3da8f7ced.pin+0+0000000028.json",
         "12a3da8f7ced.pin+0+0000000028.json",
         727,
         1705683006000
        ],
        [
         "dbfs:/mnt/s3_bucket_test/topics/12a3da8f7ced.pin/partition=0/12a3da8f7ced.pin+0+0000000029.json",
         "12a3da8f7ced.pin+0+0000000029.json",
         766,
         1705683010000
        ],
        [
         "dbfs:/mnt/s3_bucket_test/topics/12a3da8f7ced.pin/partition=0/12a3da8f7ced.pin+0+0000000030.json",
         "12a3da8f7ced.pin+0+0000000030.json",
         700,
         1705683014000
        ],
        [
         "dbfs:/mnt/s3_bucket_test/topics/12a3da8f7ced.pin/partition=0/12a3da8f7ced.pin+0+0000000031.json",
         "12a3da8f7ced.pin+0+0000000031.json",
         444,
         1706033263000
        ],
        [
         "dbfs:/mnt/s3_bucket_test/topics/12a3da8f7ced.pin/partition=0/12a3da8f7ced.pin+0+0000000032.json",
         "12a3da8f7ced.pin+0+0000000032.json",
         681,
         1706033270000
        ],
        [
         "dbfs:/mnt/s3_bucket_test/topics/12a3da8f7ced.pin/partition=0/12a3da8f7ced.pin+0+0000000033.json",
         "12a3da8f7ced.pin+0+0000000033.json",
         714,
         1706033278000
        ],
        [
         "dbfs:/mnt/s3_bucket_test/topics/12a3da8f7ced.pin/partition=0/12a3da8f7ced.pin+0+0000000034.json",
         "12a3da8f7ced.pin+0+0000000034.json",
         640,
         1706033283000
        ],
        [
         "dbfs:/mnt/s3_bucket_test/topics/12a3da8f7ced.pin/partition=0/12a3da8f7ced.pin+0+0000000035.json",
         "12a3da8f7ced.pin+0+0000000035.json",
         643,
         1706033288000
        ],
        [
         "dbfs:/mnt/s3_bucket_test/topics/12a3da8f7ced.pin/partition=0/12a3da8f7ced.pin+0+0000000036.json",
         "12a3da8f7ced.pin+0+0000000036.json",
         602,
         1706033292000
        ],
        [
         "dbfs:/mnt/s3_bucket_test/topics/12a3da8f7ced.pin/partition=0/12a3da8f7ced.pin+0+0000000037.json",
         "12a3da8f7ced.pin+0+0000000037.json",
         767,
         1706033297000
        ],
        [
         "dbfs:/mnt/s3_bucket_test/topics/12a3da8f7ced.pin/partition=0/12a3da8f7ced.pin+0+0000000038.json",
         "12a3da8f7ced.pin+0+0000000038.json",
         509,
         1706033302000
        ],
        [
         "dbfs:/mnt/s3_bucket_test/topics/12a3da8f7ced.pin/partition=0/12a3da8f7ced.pin+0+0000000039.json",
         "12a3da8f7ced.pin+0+0000000039.json",
         810,
         1706033307000
        ],
        [
         "dbfs:/mnt/s3_bucket_test/topics/12a3da8f7ced.pin/partition=0/12a3da8f7ced.pin+0+0000000040.json",
         "12a3da8f7ced.pin+0+0000000040.json",
         766,
         1706033311000
        ],
        [
         "dbfs:/mnt/s3_bucket_test/topics/12a3da8f7ced.pin/partition=0/12a3da8f7ced.pin+0+0000000041.json",
         "12a3da8f7ced.pin+0+0000000041.json",
         680,
         1706033317000
        ],
        [
         "dbfs:/mnt/s3_bucket_test/topics/12a3da8f7ced.pin/partition=0/12a3da8f7ced.pin+0+0000000042.json",
         "12a3da8f7ced.pin+0+0000000042.json",
         448,
         1706033321000
        ],
        [
         "dbfs:/mnt/s3_bucket_test/topics/12a3da8f7ced.pin/partition=0/12a3da8f7ced.pin+0+0000000043.json",
         "12a3da8f7ced.pin+0+0000000043.json",
         760,
         1706033327000
        ],
        [
         "dbfs:/mnt/s3_bucket_test/topics/12a3da8f7ced.pin/partition=0/12a3da8f7ced.pin+0+0000000044.json",
         "12a3da8f7ced.pin+0+0000000044.json",
         719,
         1706033332000
        ],
        [
         "dbfs:/mnt/s3_bucket_test/topics/12a3da8f7ced.pin/partition=0/12a3da8f7ced.pin+0+0000000045.json",
         "12a3da8f7ced.pin+0+0000000045.json",
         626,
         1706033337000
        ],
        [
         "dbfs:/mnt/s3_bucket_test/topics/12a3da8f7ced.pin/partition=0/12a3da8f7ced.pin+0+0000000046.json",
         "12a3da8f7ced.pin+0+0000000046.json",
         772,
         1706033343000
        ],
        [
         "dbfs:/mnt/s3_bucket_test/topics/12a3da8f7ced.pin/partition=0/12a3da8f7ced.pin+0+0000000047.json",
         "12a3da8f7ced.pin+0+0000000047.json",
         582,
         1706033347000
        ],
        [
         "dbfs:/mnt/s3_bucket_test/topics/12a3da8f7ced.pin/partition=0/12a3da8f7ced.pin+0+0000000048.json",
         "12a3da8f7ced.pin+0+0000000048.json",
         733,
         1706033353000
        ],
        [
         "dbfs:/mnt/s3_bucket_test/topics/12a3da8f7ced.pin/partition=0/12a3da8f7ced.pin+0+0000000049.json",
         "12a3da8f7ced.pin+0+0000000049.json",
         727,
         1706033357000
        ],
        [
         "dbfs:/mnt/s3_bucket_test/topics/12a3da8f7ced.pin/partition=0/12a3da8f7ced.pin+0+0000000050.json",
         "12a3da8f7ced.pin+0+0000000050.json",
         802,
         1706033362000
        ],
        [
         "dbfs:/mnt/s3_bucket_test/topics/12a3da8f7ced.pin/partition=0/12a3da8f7ced.pin+0+0000000051.json",
         "12a3da8f7ced.pin+0+0000000051.json",
         823,
         1706033366000
        ],
        [
         "dbfs:/mnt/s3_bucket_test/topics/12a3da8f7ced.pin/partition=0/12a3da8f7ced.pin+0+0000000052.json",
         "12a3da8f7ced.pin+0+0000000052.json",
         727,
         1706033370000
        ],
        [
         "dbfs:/mnt/s3_bucket_test/topics/12a3da8f7ced.pin/partition=0/12a3da8f7ced.pin+0+0000000053.json",
         "12a3da8f7ced.pin+0+0000000053.json",
         766,
         1706033375000
        ],
        [
         "dbfs:/mnt/s3_bucket_test/topics/12a3da8f7ced.pin/partition=0/12a3da8f7ced.pin+0+0000000054.json",
         "12a3da8f7ced.pin+0+0000000054.json",
         700,
         1706033382000
        ],
        [
         "dbfs:/mnt/s3_bucket_test/topics/12a3da8f7ced.pin/partition=0/12a3da8f7ced.pin+0+0000000055.json",
         "12a3da8f7ced.pin+0+0000000055.json",
         779,
         1706033387000
        ],
        [
         "dbfs:/mnt/s3_bucket_test/topics/12a3da8f7ced.pin/partition=0/12a3da8f7ced.pin+0+0000000056.json",
         "12a3da8f7ced.pin+0+0000000056.json",
         838,
         1706033391000
        ],
        [
         "dbfs:/mnt/s3_bucket_test/topics/12a3da8f7ced.pin/partition=0/12a3da8f7ced.pin+0+0000000057.json",
         "12a3da8f7ced.pin+0+0000000057.json",
         744,
         1706033398000
        ],
        [
         "dbfs:/mnt/s3_bucket_test/topics/12a3da8f7ced.pin/partition=0/12a3da8f7ced.pin+0+0000000058.json",
         "12a3da8f7ced.pin+0+0000000058.json",
         681,
         1706033403000
        ],
        [
         "dbfs:/mnt/s3_bucket_test/topics/12a3da8f7ced.pin/partition=0/12a3da8f7ced.pin+0+0000000059.json",
         "12a3da8f7ced.pin+0+0000000059.json",
         622,
         1706033409000
        ],
        [
         "dbfs:/mnt/s3_bucket_test/topics/12a3da8f7ced.pin/partition=0/12a3da8f7ced.pin+0+0000000060.json",
         "12a3da8f7ced.pin+0+0000000060.json",
         790,
         1706033415000
        ],
        [
         "dbfs:/mnt/s3_bucket_test/topics/12a3da8f7ced.pin/partition=0/12a3da8f7ced.pin+0+0000000061.json",
         "12a3da8f7ced.pin+0+0000000061.json",
         524,
         1706033420000
        ],
        [
         "dbfs:/mnt/s3_bucket_test/topics/12a3da8f7ced.pin/partition=0/12a3da8f7ced.pin+0+0000000062.json",
         "12a3da8f7ced.pin+0+0000000062.json",
         734,
         1706033425000
        ],
        [
         "dbfs:/mnt/s3_bucket_test/topics/12a3da8f7ced.pin/partition=0/12a3da8f7ced.pin+0+0000000063.json",
         "12a3da8f7ced.pin+0+0000000063.json",
         751,
         1706033430000
        ],
        [
         "dbfs:/mnt/s3_bucket_test/topics/12a3da8f7ced.pin/partition=0/12a3da8f7ced.pin+0+0000000064.json",
         "12a3da8f7ced.pin+0+0000000064.json",
         745,
         1706033434000
        ],
        [
         "dbfs:/mnt/s3_bucket_test/topics/12a3da8f7ced.pin/partition=0/12a3da8f7ced.pin+0+0000000065.json",
         "12a3da8f7ced.pin+0+0000000065.json",
         650,
         1706033439000
        ],
        [
         "dbfs:/mnt/s3_bucket_test/topics/12a3da8f7ced.pin/partition=0/12a3da8f7ced.pin+0+0000000066.json",
         "12a3da8f7ced.pin+0+0000000066.json",
         749,
         1706033445000
        ],
        [
         "dbfs:/mnt/s3_bucket_test/topics/12a3da8f7ced.pin/partition=0/12a3da8f7ced.pin+0+0000000067.json",
         "12a3da8f7ced.pin+0+0000000067.json",
         574,
         1706033449000
        ],
        [
         "dbfs:/mnt/s3_bucket_test/topics/12a3da8f7ced.pin/partition=0/12a3da8f7ced.pin+0+0000000068.json",
         "12a3da8f7ced.pin+0+0000000068.json",
         775,
         1706033456000
        ],
        [
         "dbfs:/mnt/s3_bucket_test/topics/12a3da8f7ced.pin/partition=0/12a3da8f7ced.pin+0+0000000069.json",
         "12a3da8f7ced.pin+0+0000000069.json",
         786,
         1706033459000
        ],
        [
         "dbfs:/mnt/s3_bucket_test/topics/12a3da8f7ced.pin/partition=0/12a3da8f7ced.pin+0+0000000070.json",
         "12a3da8f7ced.pin+0+0000000070.json",
         699,
         1706033464000
        ],
        [
         "dbfs:/mnt/s3_bucket_test/topics/12a3da8f7ced.pin/partition=0/12a3da8f7ced.pin+0+0000000071.json",
         "12a3da8f7ced.pin+0+0000000071.json",
         759,
         1706033470000
        ],
        [
         "dbfs:/mnt/s3_bucket_test/topics/12a3da8f7ced.pin/partition=0/12a3da8f7ced.pin+0+0000000072.json",
         "12a3da8f7ced.pin+0+0000000072.json",
         682,
         1706033477000
        ],
        [
         "dbfs:/mnt/s3_bucket_test/topics/12a3da8f7ced.pin/partition=0/12a3da8f7ced.pin+0+0000000073.json",
         "12a3da8f7ced.pin+0+0000000073.json",
         692,
         1706033482000
        ],
        [
         "dbfs:/mnt/s3_bucket_test/topics/12a3da8f7ced.pin/partition=0/12a3da8f7ced.pin+0+0000000074.json",
         "12a3da8f7ced.pin+0+0000000074.json",
         697,
         1706033487000
        ],
        [
         "dbfs:/mnt/s3_bucket_test/topics/12a3da8f7ced.pin/partition=0/12a3da8f7ced.pin+0+0000000075.json",
         "12a3da8f7ced.pin+0+0000000075.json",
         691,
         1706033493000
        ],
        [
         "dbfs:/mnt/s3_bucket_test/topics/12a3da8f7ced.pin/partition=0/12a3da8f7ced.pin+0+0000000076.json",
         "12a3da8f7ced.pin+0+0000000076.json",
         766,
         1706033499000
        ],
        [
         "dbfs:/mnt/s3_bucket_test/topics/12a3da8f7ced.pin/partition=0/12a3da8f7ced.pin+0+0000000077.json",
         "12a3da8f7ced.pin+0+0000000077.json",
         778,
         1706033504000
        ],
        [
         "dbfs:/mnt/s3_bucket_test/topics/12a3da8f7ced.pin/partition=0/12a3da8f7ced.pin+0+0000000078.json",
         "12a3da8f7ced.pin+0+0000000078.json",
         703,
         1706033511000
        ],
        [
         "dbfs:/mnt/s3_bucket_test/topics/12a3da8f7ced.pin/partition=0/12a3da8f7ced.pin+0+0000000079.json",
         "12a3da8f7ced.pin+0+0000000079.json",
         770,
         1706033518000
        ],
        [
         "dbfs:/mnt/s3_bucket_test/topics/12a3da8f7ced.pin/partition=0/12a3da8f7ced.pin+0+0000000080.json",
         "12a3da8f7ced.pin+0+0000000080.json",
         886,
         1706033525000
        ],
        [
         "dbfs:/mnt/s3_bucket_test/topics/12a3da8f7ced.pin/partition=0/12a3da8f7ced.pin+0+0000000081.json",
         "12a3da8f7ced.pin+0+0000000081.json",
         745,
         1706033532000
        ],
        [
         "dbfs:/mnt/s3_bucket_test/topics/12a3da8f7ced.pin/partition=0/12a3da8f7ced.pin+0+0000000082.json",
         "12a3da8f7ced.pin+0+0000000082.json",
         740,
         1706033538000
        ],
        [
         "dbfs:/mnt/s3_bucket_test/topics/12a3da8f7ced.pin/partition=0/12a3da8f7ced.pin+0+0000000083.json",
         "12a3da8f7ced.pin+0+0000000083.json",
         696,
         1706033543000
        ],
        [
         "dbfs:/mnt/s3_bucket_test/topics/12a3da8f7ced.pin/partition=0/12a3da8f7ced.pin+0+0000000084.json",
         "12a3da8f7ced.pin+0+0000000084.json",
         788,
         1706033548000
        ],
        [
         "dbfs:/mnt/s3_bucket_test/topics/12a3da8f7ced.pin/partition=0/12a3da8f7ced.pin+0+0000000085.json",
         "12a3da8f7ced.pin+0+0000000085.json",
         784,
         1706033554000
        ],
        [
         "dbfs:/mnt/s3_bucket_test/topics/12a3da8f7ced.pin/partition=0/12a3da8f7ced.pin+0+0000000086.json",
         "12a3da8f7ced.pin+0+0000000086.json",
         698,
         1706033558000
        ],
        [
         "dbfs:/mnt/s3_bucket_test/topics/12a3da8f7ced.pin/partition=0/12a3da8f7ced.pin+0+0000000087.json",
         "12a3da8f7ced.pin+0+0000000087.json",
         784,
         1706033561000
        ],
        [
         "dbfs:/mnt/s3_bucket_test/topics/12a3da8f7ced.pin/partition=0/12a3da8f7ced.pin+0+0000000088.json",
         "12a3da8f7ced.pin+0+0000000088.json",
         621,
         1706033565000
        ],
        [
         "dbfs:/mnt/s3_bucket_test/topics/12a3da8f7ced.pin/partition=0/12a3da8f7ced.pin+0+0000000089.json",
         "12a3da8f7ced.pin+0+0000000089.json",
         736,
         1706033569000
        ],
        [
         "dbfs:/mnt/s3_bucket_test/topics/12a3da8f7ced.pin/partition=0/12a3da8f7ced.pin+0+0000000090.json",
         "12a3da8f7ced.pin+0+0000000090.json",
         503,
         1706033574000
        ],
        [
         "dbfs:/mnt/s3_bucket_test/topics/12a3da8f7ced.pin/partition=0/12a3da8f7ced.pin+0+0000000091.json",
         "12a3da8f7ced.pin+0+0000000091.json",
         711,
         1706033580000
        ],
        [
         "dbfs:/mnt/s3_bucket_test/topics/12a3da8f7ced.pin/partition=0/12a3da8f7ced.pin+0+0000000092.json",
         "12a3da8f7ced.pin+0+0000000092.json",
         675,
         1706033585000
        ],
        [
         "dbfs:/mnt/s3_bucket_test/topics/12a3da8f7ced.pin/partition=0/12a3da8f7ced.pin+0+0000000093.json",
         "12a3da8f7ced.pin+0+0000000093.json",
         649,
         1706033590000
        ],
        [
         "dbfs:/mnt/s3_bucket_test/topics/12a3da8f7ced.pin/partition=0/12a3da8f7ced.pin+0+0000000094.json",
         "12a3da8f7ced.pin+0+0000000094.json",
         755,
         1706033596000
        ],
        [
         "dbfs:/mnt/s3_bucket_test/topics/12a3da8f7ced.pin/partition=0/12a3da8f7ced.pin+0+0000000095.json",
         "12a3da8f7ced.pin+0+0000000095.json",
         678,
         1706033600000
        ],
        [
         "dbfs:/mnt/s3_bucket_test/topics/12a3da8f7ced.pin/partition=0/12a3da8f7ced.pin+0+0000000096.json",
         "12a3da8f7ced.pin+0+0000000096.json",
         560,
         1706033605000
        ],
        [
         "dbfs:/mnt/s3_bucket_test/topics/12a3da8f7ced.pin/partition=0/12a3da8f7ced.pin+0+0000000097.json",
         "12a3da8f7ced.pin+0+0000000097.json",
         817,
         1706033610000
        ],
        [
         "dbfs:/mnt/s3_bucket_test/topics/12a3da8f7ced.pin/partition=0/12a3da8f7ced.pin+0+0000000098.json",
         "12a3da8f7ced.pin+0+0000000098.json",
         667,
         1706033615000
        ],
        [
         "dbfs:/mnt/s3_bucket_test/topics/12a3da8f7ced.pin/partition=0/12a3da8f7ced.pin+0+0000000099.json",
         "12a3da8f7ced.pin+0+0000000099.json",
         750,
         1706033621000
        ],
        [
         "dbfs:/mnt/s3_bucket_test/topics/12a3da8f7ced.pin/partition=0/12a3da8f7ced.pin+0+0000000100.json",
         "12a3da8f7ced.pin+0+0000000100.json",
         696,
         1706033627000
        ],
        [
         "dbfs:/mnt/s3_bucket_test/topics/12a3da8f7ced.pin/partition=0/12a3da8f7ced.pin+0+0000000101.json",
         "12a3da8f7ced.pin+0+0000000101.json",
         743,
         1706033631000
        ],
        [
         "dbfs:/mnt/s3_bucket_test/topics/12a3da8f7ced.pin/partition=0/12a3da8f7ced.pin+0+0000000102.json",
         "12a3da8f7ced.pin+0+0000000102.json",
         718,
         1706033636000
        ],
        [
         "dbfs:/mnt/s3_bucket_test/topics/12a3da8f7ced.pin/partition=0/12a3da8f7ced.pin+0+0000000103.json",
         "12a3da8f7ced.pin+0+0000000103.json",
         661,
         1706033644000
        ],
        [
         "dbfs:/mnt/s3_bucket_test/topics/12a3da8f7ced.pin/partition=0/12a3da8f7ced.pin+0+0000000104.json",
         "12a3da8f7ced.pin+0+0000000104.json",
         576,
         1706033648000
        ],
        [
         "dbfs:/mnt/s3_bucket_test/topics/12a3da8f7ced.pin/partition=0/12a3da8f7ced.pin+0+0000000105.json",
         "12a3da8f7ced.pin+0+0000000105.json",
         771,
         1706033652000
        ],
        [
         "dbfs:/mnt/s3_bucket_test/topics/12a3da8f7ced.pin/partition=0/12a3da8f7ced.pin+0+0000000106.json",
         "12a3da8f7ced.pin+0+0000000106.json",
         721,
         1706033657000
        ],
        [
         "dbfs:/mnt/s3_bucket_test/topics/12a3da8f7ced.pin/partition=0/12a3da8f7ced.pin+0+0000000107.json",
         "12a3da8f7ced.pin+0+0000000107.json",
         780,
         1706033661000
        ],
        [
         "dbfs:/mnt/s3_bucket_test/topics/12a3da8f7ced.pin/partition=0/12a3da8f7ced.pin+0+0000000108.json",
         "12a3da8f7ced.pin+0+0000000108.json",
         767,
         1706033665000
        ],
        [
         "dbfs:/mnt/s3_bucket_test/topics/12a3da8f7ced.pin/partition=0/12a3da8f7ced.pin+0+0000000109.json",
         "12a3da8f7ced.pin+0+0000000109.json",
         714,
         1706033670000
        ],
        [
         "dbfs:/mnt/s3_bucket_test/topics/12a3da8f7ced.pin/partition=0/12a3da8f7ced.pin+0+0000000110.json",
         "12a3da8f7ced.pin+0+0000000110.json",
         690,
         1706033674000
        ],
        [
         "dbfs:/mnt/s3_bucket_test/topics/12a3da8f7ced.pin/partition=0/12a3da8f7ced.pin+0+0000000111.json",
         "12a3da8f7ced.pin+0+0000000111.json",
         660,
         1706033680000
        ],
        [
         "dbfs:/mnt/s3_bucket_test/topics/12a3da8f7ced.pin/partition=0/12a3da8f7ced.pin+0+0000000112.json",
         "12a3da8f7ced.pin+0+0000000112.json",
         756,
         1706033686000
        ],
        [
         "dbfs:/mnt/s3_bucket_test/topics/12a3da8f7ced.pin/partition=0/12a3da8f7ced.pin+0+0000000113.json",
         "12a3da8f7ced.pin+0+0000000113.json",
         727,
         1706033690000
        ],
        [
         "dbfs:/mnt/s3_bucket_test/topics/12a3da8f7ced.pin/partition=0/12a3da8f7ced.pin+0+0000000114.json",
         "12a3da8f7ced.pin+0+0000000114.json",
         819,
         1706033693000
        ],
        [
         "dbfs:/mnt/s3_bucket_test/topics/12a3da8f7ced.pin/partition=0/12a3da8f7ced.pin+0+0000000115.json",
         "12a3da8f7ced.pin+0+0000000115.json",
         763,
         1706033698000
        ],
        [
         "dbfs:/mnt/s3_bucket_test/topics/12a3da8f7ced.pin/partition=0/12a3da8f7ced.pin+0+0000000116.json",
         "12a3da8f7ced.pin+0+0000000116.json",
         831,
         1706033701000
        ]
       ],
       "datasetInfos": [],
       "dbfsResultPath": null,
       "isJsonSchema": true,
       "metadata": {},
       "overflow": false,
       "plotOptions": {
        "customPlotOptions": {},
        "displayType": "table",
        "pivotAggregation": null,
        "pivotColumns": null,
        "xColumns": null,
        "yColumns": null
       },
       "removedWidgets": [],
       "schema": [
        {
         "metadata": "{}",
         "name": "path",
         "type": "\"string\""
        },
        {
         "metadata": "{}",
         "name": "name",
         "type": "\"string\""
        },
        {
         "metadata": "{}",
         "name": "size",
         "type": "\"long\""
        },
        {
         "metadata": "{}",
         "name": "modificationTime",
         "type": "\"long\""
        }
       ],
       "type": "table"
      }
     },
     "output_type": "display_data"
    },
    {
     "output_type": "display_data",
     "data": {
      "text/html": [
       "<style scoped>\n",
       "  .table-result-container {\n",
       "    max-height: 300px;\n",
       "    overflow: auto;\n",
       "  }\n",
       "  table, th, td {\n",
       "    border: 1px solid black;\n",
       "    border-collapse: collapse;\n",
       "  }\n",
       "  th, td {\n",
       "    padding: 5px;\n",
       "  }\n",
       "  th {\n",
       "    text-align: left;\n",
       "  }\n",
       "</style><div class='table-result-container'><table class='table-result'><thead style='background-color: white'><tr><th>path</th><th>name</th><th>size</th><th>modificationTime</th></tr></thead><tbody><tr><td>dbfs:/mnt/s3_bucket_test/topics/12a3da8f7ced.geo/partition=0/12a3da8f7ced.geo+0+0000000000.json</td><td>12a3da8f7ced.geo+0+0000000000.json</td><td>110</td><td>1705682925000</td></tr><tr><td>dbfs:/mnt/s3_bucket_test/topics/12a3da8f7ced.geo/partition=0/12a3da8f7ced.geo+0+0000000001.json</td><td>12a3da8f7ced.geo+0+0000000001.json</td><td>110</td><td>1705682929000</td></tr><tr><td>dbfs:/mnt/s3_bucket_test/topics/12a3da8f7ced.geo/partition=0/12a3da8f7ced.geo+0+0000000002.json</td><td>12a3da8f7ced.geo+0+0000000002.json</td><td>110</td><td>1705682934000</td></tr><tr><td>dbfs:/mnt/s3_bucket_test/topics/12a3da8f7ced.geo/partition=0/12a3da8f7ced.geo+0+0000000003.json</td><td>12a3da8f7ced.geo+0+0000000003.json</td><td>115</td><td>1705682942000</td></tr><tr><td>dbfs:/mnt/s3_bucket_test/topics/12a3da8f7ced.geo/partition=0/12a3da8f7ced.geo+0+0000000004.json</td><td>12a3da8f7ced.geo+0+0000000004.json</td><td>107</td><td>1705682942000</td></tr><tr><td>dbfs:/mnt/s3_bucket_test/topics/12a3da8f7ced.geo/partition=0/12a3da8f7ced.geo+0+0000000005.json</td><td>12a3da8f7ced.geo+0+0000000005.json</td><td>109</td><td>1705682946000</td></tr><tr><td>dbfs:/mnt/s3_bucket_test/topics/12a3da8f7ced.geo/partition=0/12a3da8f7ced.geo+0+0000000006.json</td><td>12a3da8f7ced.geo+0+0000000006.json</td><td>115</td><td>1705682950000</td></tr><tr><td>dbfs:/mnt/s3_bucket_test/topics/12a3da8f7ced.geo/partition=0/12a3da8f7ced.geo+0+0000000007.json</td><td>12a3da8f7ced.geo+0+0000000007.json</td><td>127</td><td>1705682953000</td></tr><tr><td>dbfs:/mnt/s3_bucket_test/topics/12a3da8f7ced.geo/partition=0/12a3da8f7ced.geo+0+0000000008.json</td><td>12a3da8f7ced.geo+0+0000000008.json</td><td>111</td><td>1705682957000</td></tr><tr><td>dbfs:/mnt/s3_bucket_test/topics/12a3da8f7ced.geo/partition=0/12a3da8f7ced.geo+0+0000000009.json</td><td>12a3da8f7ced.geo+0+0000000009.json</td><td>113</td><td>1705682960000</td></tr><tr><td>dbfs:/mnt/s3_bucket_test/topics/12a3da8f7ced.geo/partition=0/12a3da8f7ced.geo+0+0000000010.json</td><td>12a3da8f7ced.geo+0+0000000010.json</td><td>116</td><td>1705682964000</td></tr><tr><td>dbfs:/mnt/s3_bucket_test/topics/12a3da8f7ced.geo/partition=0/12a3da8f7ced.geo+0+0000000011.json</td><td>12a3da8f7ced.geo+0+0000000011.json</td><td>110</td><td>1705682967000</td></tr><tr><td>dbfs:/mnt/s3_bucket_test/topics/12a3da8f7ced.geo/partition=0/12a3da8f7ced.geo+0+0000000012.json</td><td>12a3da8f7ced.geo+0+0000000012.json</td><td>111</td><td>1705682972000</td></tr><tr><td>dbfs:/mnt/s3_bucket_test/topics/12a3da8f7ced.geo/partition=0/12a3da8f7ced.geo+0+0000000013.json</td><td>12a3da8f7ced.geo+0+0000000013.json</td><td>111</td><td>1705682977000</td></tr><tr><td>dbfs:/mnt/s3_bucket_test/topics/12a3da8f7ced.geo/partition=0/12a3da8f7ced.geo+0+0000000014.json</td><td>12a3da8f7ced.geo+0+0000000014.json</td><td>108</td><td>1705682981000</td></tr><tr><td>dbfs:/mnt/s3_bucket_test/topics/12a3da8f7ced.geo/partition=0/12a3da8f7ced.geo+0+0000000015.json</td><td>12a3da8f7ced.geo+0+0000000015.json</td><td>113</td><td>1705682986000</td></tr><tr><td>dbfs:/mnt/s3_bucket_test/topics/12a3da8f7ced.geo/partition=0/12a3da8f7ced.geo+0+0000000016.json</td><td>12a3da8f7ced.geo+0+0000000016.json</td><td>111</td><td>1705682989000</td></tr><tr><td>dbfs:/mnt/s3_bucket_test/topics/12a3da8f7ced.geo/partition=0/12a3da8f7ced.geo+0+0000000017.json</td><td>12a3da8f7ced.geo+0+0000000017.json</td><td>109</td><td>1705682993000</td></tr><tr><td>dbfs:/mnt/s3_bucket_test/topics/12a3da8f7ced.geo/partition=0/12a3da8f7ced.geo+0+0000000018.json</td><td>12a3da8f7ced.geo+0+0000000018.json</td><td>111</td><td>1705682996000</td></tr><tr><td>dbfs:/mnt/s3_bucket_test/topics/12a3da8f7ced.geo/partition=0/12a3da8f7ced.geo+0+0000000019.json</td><td>12a3da8f7ced.geo+0+0000000019.json</td><td>147</td><td>1705683000000</td></tr><tr><td>dbfs:/mnt/s3_bucket_test/topics/12a3da8f7ced.geo/partition=0/12a3da8f7ced.geo+0+0000000020.json</td><td>12a3da8f7ced.geo+0+0000000020.json</td><td>109</td><td>1705683004000</td></tr><tr><td>dbfs:/mnt/s3_bucket_test/topics/12a3da8f7ced.geo/partition=0/12a3da8f7ced.geo+0+0000000021.json</td><td>12a3da8f7ced.geo+0+0000000021.json</td><td>112</td><td>1705683007000</td></tr><tr><td>dbfs:/mnt/s3_bucket_test/topics/12a3da8f7ced.geo/partition=0/12a3da8f7ced.geo+0+0000000022.json</td><td>12a3da8f7ced.geo+0+0000000022.json</td><td>112</td><td>1705683010000</td></tr><tr><td>dbfs:/mnt/s3_bucket_test/topics/12a3da8f7ced.geo/partition=0/12a3da8f7ced.geo+0+0000000023.json</td><td>12a3da8f7ced.geo+0+0000000023.json</td><td>125</td><td>1705683015000</td></tr><tr><td>dbfs:/mnt/s3_bucket_test/topics/12a3da8f7ced.geo/partition=0/12a3da8f7ced.geo+0+0000000024.json</td><td>12a3da8f7ced.geo+0+0000000024.json</td><td>110</td><td>1706033264000</td></tr><tr><td>dbfs:/mnt/s3_bucket_test/topics/12a3da8f7ced.geo/partition=0/12a3da8f7ced.geo+0+0000000025.json</td><td>12a3da8f7ced.geo+0+0000000025.json</td><td>110</td><td>1706033271000</td></tr><tr><td>dbfs:/mnt/s3_bucket_test/topics/12a3da8f7ced.geo/partition=0/12a3da8f7ced.geo+0+0000000026.json</td><td>12a3da8f7ced.geo+0+0000000026.json</td><td>110</td><td>1706033279000</td></tr><tr><td>dbfs:/mnt/s3_bucket_test/topics/12a3da8f7ced.geo/partition=0/12a3da8f7ced.geo+0+0000000027.json</td><td>12a3da8f7ced.geo+0+0000000027.json</td><td>115</td><td>1706033284000</td></tr><tr><td>dbfs:/mnt/s3_bucket_test/topics/12a3da8f7ced.geo/partition=0/12a3da8f7ced.geo+0+0000000028.json</td><td>12a3da8f7ced.geo+0+0000000028.json</td><td>107</td><td>1706033289000</td></tr><tr><td>dbfs:/mnt/s3_bucket_test/topics/12a3da8f7ced.geo/partition=0/12a3da8f7ced.geo+0+0000000029.json</td><td>12a3da8f7ced.geo+0+0000000029.json</td><td>109</td><td>1706033293000</td></tr><tr><td>dbfs:/mnt/s3_bucket_test/topics/12a3da8f7ced.geo/partition=0/12a3da8f7ced.geo+0+0000000030.json</td><td>12a3da8f7ced.geo+0+0000000030.json</td><td>115</td><td>1706033299000</td></tr><tr><td>dbfs:/mnt/s3_bucket_test/topics/12a3da8f7ced.geo/partition=0/12a3da8f7ced.geo+0+0000000031.json</td><td>12a3da8f7ced.geo+0+0000000031.json</td><td>127</td><td>1706033303000</td></tr><tr><td>dbfs:/mnt/s3_bucket_test/topics/12a3da8f7ced.geo/partition=0/12a3da8f7ced.geo+0+0000000032.json</td><td>12a3da8f7ced.geo+0+0000000032.json</td><td>111</td><td>1706033308000</td></tr><tr><td>dbfs:/mnt/s3_bucket_test/topics/12a3da8f7ced.geo/partition=0/12a3da8f7ced.geo+0+0000000033.json</td><td>12a3da8f7ced.geo+0+0000000033.json</td><td>113</td><td>1706033313000</td></tr><tr><td>dbfs:/mnt/s3_bucket_test/topics/12a3da8f7ced.geo/partition=0/12a3da8f7ced.geo+0+0000000034.json</td><td>12a3da8f7ced.geo+0+0000000034.json</td><td>116</td><td>1706033319000</td></tr><tr><td>dbfs:/mnt/s3_bucket_test/topics/12a3da8f7ced.geo/partition=0/12a3da8f7ced.geo+0+0000000035.json</td><td>12a3da8f7ced.geo+0+0000000035.json</td><td>110</td><td>1706033323000</td></tr><tr><td>dbfs:/mnt/s3_bucket_test/topics/12a3da8f7ced.geo/partition=0/12a3da8f7ced.geo+0+0000000036.json</td><td>12a3da8f7ced.geo+0+0000000036.json</td><td>111</td><td>1706033328000</td></tr><tr><td>dbfs:/mnt/s3_bucket_test/topics/12a3da8f7ced.geo/partition=0/12a3da8f7ced.geo+0+0000000037.json</td><td>12a3da8f7ced.geo+0+0000000037.json</td><td>111</td><td>1706033333000</td></tr><tr><td>dbfs:/mnt/s3_bucket_test/topics/12a3da8f7ced.geo/partition=0/12a3da8f7ced.geo+0+0000000038.json</td><td>12a3da8f7ced.geo+0+0000000038.json</td><td>108</td><td>1706033338000</td></tr><tr><td>dbfs:/mnt/s3_bucket_test/topics/12a3da8f7ced.geo/partition=0/12a3da8f7ced.geo+0+0000000039.json</td><td>12a3da8f7ced.geo+0+0000000039.json</td><td>113</td><td>1706033344000</td></tr><tr><td>dbfs:/mnt/s3_bucket_test/topics/12a3da8f7ced.geo/partition=0/12a3da8f7ced.geo+0+0000000040.json</td><td>12a3da8f7ced.geo+0+0000000040.json</td><td>111</td><td>1706033349000</td></tr><tr><td>dbfs:/mnt/s3_bucket_test/topics/12a3da8f7ced.geo/partition=0/12a3da8f7ced.geo+0+0000000041.json</td><td>12a3da8f7ced.geo+0+0000000041.json</td><td>109</td><td>1706033354000</td></tr><tr><td>dbfs:/mnt/s3_bucket_test/topics/12a3da8f7ced.geo/partition=0/12a3da8f7ced.geo+0+0000000042.json</td><td>12a3da8f7ced.geo+0+0000000042.json</td><td>111</td><td>1706033358000</td></tr><tr><td>dbfs:/mnt/s3_bucket_test/topics/12a3da8f7ced.geo/partition=0/12a3da8f7ced.geo+0+0000000043.json</td><td>12a3da8f7ced.geo+0+0000000043.json</td><td>147</td><td>1706033363000</td></tr><tr><td>dbfs:/mnt/s3_bucket_test/topics/12a3da8f7ced.geo/partition=0/12a3da8f7ced.geo+0+0000000044.json</td><td>12a3da8f7ced.geo+0+0000000044.json</td><td>109</td><td>1706033367000</td></tr><tr><td>dbfs:/mnt/s3_bucket_test/topics/12a3da8f7ced.geo/partition=0/12a3da8f7ced.geo+0+0000000045.json</td><td>12a3da8f7ced.geo+0+0000000045.json</td><td>112</td><td>1706033372000</td></tr><tr><td>dbfs:/mnt/s3_bucket_test/topics/12a3da8f7ced.geo/partition=0/12a3da8f7ced.geo+0+0000000046.json</td><td>12a3da8f7ced.geo+0+0000000046.json</td><td>112</td><td>1706033376000</td></tr><tr><td>dbfs:/mnt/s3_bucket_test/topics/12a3da8f7ced.geo/partition=0/12a3da8f7ced.geo+0+0000000047.json</td><td>12a3da8f7ced.geo+0+0000000047.json</td><td>125</td><td>1706033383000</td></tr><tr><td>dbfs:/mnt/s3_bucket_test/topics/12a3da8f7ced.geo/partition=0/12a3da8f7ced.geo+0+0000000048.json</td><td>12a3da8f7ced.geo+0+0000000048.json</td><td>120</td><td>1706033388000</td></tr><tr><td>dbfs:/mnt/s3_bucket_test/topics/12a3da8f7ced.geo/partition=0/12a3da8f7ced.geo+0+0000000049.json</td><td>12a3da8f7ced.geo+0+0000000049.json</td><td>110</td><td>1706033393000</td></tr><tr><td>dbfs:/mnt/s3_bucket_test/topics/12a3da8f7ced.geo/partition=0/12a3da8f7ced.geo+0+0000000050.json</td><td>12a3da8f7ced.geo+0+0000000050.json</td><td>107</td><td>1706033399000</td></tr><tr><td>dbfs:/mnt/s3_bucket_test/topics/12a3da8f7ced.geo/partition=0/12a3da8f7ced.geo+0+0000000051.json</td><td>12a3da8f7ced.geo+0+0000000051.json</td><td>112</td><td>1706033404000</td></tr><tr><td>dbfs:/mnt/s3_bucket_test/topics/12a3da8f7ced.geo/partition=0/12a3da8f7ced.geo+0+0000000052.json</td><td>12a3da8f7ced.geo+0+0000000052.json</td><td>111</td><td>1706033411000</td></tr><tr><td>dbfs:/mnt/s3_bucket_test/topics/12a3da8f7ced.geo/partition=0/12a3da8f7ced.geo+0+0000000053.json</td><td>12a3da8f7ced.geo+0+0000000053.json</td><td>122</td><td>1706033416000</td></tr><tr><td>dbfs:/mnt/s3_bucket_test/topics/12a3da8f7ced.geo/partition=0/12a3da8f7ced.geo+0+0000000054.json</td><td>12a3da8f7ced.geo+0+0000000054.json</td><td>106</td><td>1706033421000</td></tr><tr><td>dbfs:/mnt/s3_bucket_test/topics/12a3da8f7ced.geo/partition=0/12a3da8f7ced.geo+0+0000000055.json</td><td>12a3da8f7ced.geo+0+0000000055.json</td><td>108</td><td>1706033426000</td></tr><tr><td>dbfs:/mnt/s3_bucket_test/topics/12a3da8f7ced.geo/partition=0/12a3da8f7ced.geo+0+0000000056.json</td><td>12a3da8f7ced.geo+0+0000000056.json</td><td>111</td><td>1706033431000</td></tr><tr><td>dbfs:/mnt/s3_bucket_test/topics/12a3da8f7ced.geo/partition=0/12a3da8f7ced.geo+0+0000000057.json</td><td>12a3da8f7ced.geo+0+0000000057.json</td><td>108</td><td>1706033435000</td></tr><tr><td>dbfs:/mnt/s3_bucket_test/topics/12a3da8f7ced.geo/partition=0/12a3da8f7ced.geo+0+0000000058.json</td><td>12a3da8f7ced.geo+0+0000000058.json</td><td>110</td><td>1706033440000</td></tr><tr><td>dbfs:/mnt/s3_bucket_test/topics/12a3da8f7ced.geo/partition=0/12a3da8f7ced.geo+0+0000000059.json</td><td>12a3da8f7ced.geo+0+0000000059.json</td><td>110</td><td>1706033446000</td></tr><tr><td>dbfs:/mnt/s3_bucket_test/topics/12a3da8f7ced.geo/partition=0/12a3da8f7ced.geo+0+0000000060.json</td><td>12a3da8f7ced.geo+0+0000000060.json</td><td>110</td><td>1706033450000</td></tr><tr><td>dbfs:/mnt/s3_bucket_test/topics/12a3da8f7ced.geo/partition=0/12a3da8f7ced.geo+0+0000000061.json</td><td>12a3da8f7ced.geo+0+0000000061.json</td><td>106</td><td>1706033457000</td></tr><tr><td>dbfs:/mnt/s3_bucket_test/topics/12a3da8f7ced.geo/partition=0/12a3da8f7ced.geo+0+0000000062.json</td><td>12a3da8f7ced.geo+0+0000000062.json</td><td>113</td><td>1706033460000</td></tr><tr><td>dbfs:/mnt/s3_bucket_test/topics/12a3da8f7ced.geo/partition=0/12a3da8f7ced.geo+0+0000000063.json</td><td>12a3da8f7ced.geo+0+0000000063.json</td><td>107</td><td>1706033465000</td></tr><tr><td>dbfs:/mnt/s3_bucket_test/topics/12a3da8f7ced.geo/partition=0/12a3da8f7ced.geo+0+0000000064.json</td><td>12a3da8f7ced.geo+0+0000000064.json</td><td>110</td><td>1706033472000</td></tr><tr><td>dbfs:/mnt/s3_bucket_test/topics/12a3da8f7ced.geo/partition=0/12a3da8f7ced.geo+0+0000000065.json</td><td>12a3da8f7ced.geo+0+0000000065.json</td><td>124</td><td>1706033478000</td></tr><tr><td>dbfs:/mnt/s3_bucket_test/topics/12a3da8f7ced.geo/partition=0/12a3da8f7ced.geo+0+0000000066.json</td><td>12a3da8f7ced.geo+0+0000000066.json</td><td>112</td><td>1706033483000</td></tr><tr><td>dbfs:/mnt/s3_bucket_test/topics/12a3da8f7ced.geo/partition=0/12a3da8f7ced.geo+0+0000000067.json</td><td>12a3da8f7ced.geo+0+0000000067.json</td><td>110</td><td>1706033488000</td></tr><tr><td>dbfs:/mnt/s3_bucket_test/topics/12a3da8f7ced.geo/partition=0/12a3da8f7ced.geo+0+0000000068.json</td><td>12a3da8f7ced.geo+0+0000000068.json</td><td>117</td><td>1706033495000</td></tr><tr><td>dbfs:/mnt/s3_bucket_test/topics/12a3da8f7ced.geo/partition=0/12a3da8f7ced.geo+0+0000000069.json</td><td>12a3da8f7ced.geo+0+0000000069.json</td><td>122</td><td>1706033500000</td></tr><tr><td>dbfs:/mnt/s3_bucket_test/topics/12a3da8f7ced.geo/partition=0/12a3da8f7ced.geo+0+0000000070.json</td><td>12a3da8f7ced.geo+0+0000000070.json</td><td>117</td><td>1706033505000</td></tr><tr><td>dbfs:/mnt/s3_bucket_test/topics/12a3da8f7ced.geo/partition=0/12a3da8f7ced.geo+0+0000000071.json</td><td>12a3da8f7ced.geo+0+0000000071.json</td><td>109</td><td>1706033513000</td></tr><tr><td>dbfs:/mnt/s3_bucket_test/topics/12a3da8f7ced.geo/partition=0/12a3da8f7ced.geo+0+0000000072.json</td><td>12a3da8f7ced.geo+0+0000000072.json</td><td>119</td><td>1706033519000</td></tr><tr><td>dbfs:/mnt/s3_bucket_test/topics/12a3da8f7ced.geo/partition=0/12a3da8f7ced.geo+0+0000000073.json</td><td>12a3da8f7ced.geo+0+0000000073.json</td><td>109</td><td>1706033526000</td></tr><tr><td>dbfs:/mnt/s3_bucket_test/topics/12a3da8f7ced.geo/partition=0/12a3da8f7ced.geo+0+0000000074.json</td><td>12a3da8f7ced.geo+0+0000000074.json</td><td>112</td><td>1706033533000</td></tr><tr><td>dbfs:/mnt/s3_bucket_test/topics/12a3da8f7ced.geo/partition=0/12a3da8f7ced.geo+0+0000000075.json</td><td>12a3da8f7ced.geo+0+0000000075.json</td><td>112</td><td>1706033539000</td></tr><tr><td>dbfs:/mnt/s3_bucket_test/topics/12a3da8f7ced.geo/partition=0/12a3da8f7ced.geo+0+0000000076.json</td><td>12a3da8f7ced.geo+0+0000000076.json</td><td>109</td><td>1706033544000</td></tr><tr><td>dbfs:/mnt/s3_bucket_test/topics/12a3da8f7ced.geo/partition=0/12a3da8f7ced.geo+0+0000000077.json</td><td>12a3da8f7ced.geo+0+0000000077.json</td><td>112</td><td>1706033550000</td></tr><tr><td>dbfs:/mnt/s3_bucket_test/topics/12a3da8f7ced.geo/partition=0/12a3da8f7ced.geo+0+0000000078.json</td><td>12a3da8f7ced.geo+0+0000000078.json</td><td>112</td><td>1706033555000</td></tr><tr><td>dbfs:/mnt/s3_bucket_test/topics/12a3da8f7ced.geo/partition=0/12a3da8f7ced.geo+0+0000000079.json</td><td>12a3da8f7ced.geo+0+0000000079.json</td><td>109</td><td>1706033559000</td></tr><tr><td>dbfs:/mnt/s3_bucket_test/topics/12a3da8f7ced.geo/partition=0/12a3da8f7ced.geo+0+0000000080.json</td><td>12a3da8f7ced.geo+0+0000000080.json</td><td>125</td><td>1706033562000</td></tr><tr><td>dbfs:/mnt/s3_bucket_test/topics/12a3da8f7ced.geo/partition=0/12a3da8f7ced.geo+0+0000000081.json</td><td>12a3da8f7ced.geo+0+0000000081.json</td><td>112</td><td>1706033566000</td></tr><tr><td>dbfs:/mnt/s3_bucket_test/topics/12a3da8f7ced.geo/partition=0/12a3da8f7ced.geo+0+0000000082.json</td><td>12a3da8f7ced.geo+0+0000000082.json</td><td>109</td><td>1706033570000</td></tr><tr><td>dbfs:/mnt/s3_bucket_test/topics/12a3da8f7ced.geo/partition=0/12a3da8f7ced.geo+0+0000000083.json</td><td>12a3da8f7ced.geo+0+0000000083.json</td><td>110</td><td>1706033575000</td></tr><tr><td>dbfs:/mnt/s3_bucket_test/topics/12a3da8f7ced.geo/partition=0/12a3da8f7ced.geo+0+0000000084.json</td><td>12a3da8f7ced.geo+0+0000000084.json</td><td>121</td><td>1706033581000</td></tr><tr><td>dbfs:/mnt/s3_bucket_test/topics/12a3da8f7ced.geo/partition=0/12a3da8f7ced.geo+0+0000000085.json</td><td>12a3da8f7ced.geo+0+0000000085.json</td><td>109</td><td>1706033586000</td></tr><tr><td>dbfs:/mnt/s3_bucket_test/topics/12a3da8f7ced.geo/partition=0/12a3da8f7ced.geo+0+0000000086.json</td><td>12a3da8f7ced.geo+0+0000000086.json</td><td>110</td><td>1706033592000</td></tr><tr><td>dbfs:/mnt/s3_bucket_test/topics/12a3da8f7ced.geo/partition=0/12a3da8f7ced.geo+0+0000000087.json</td><td>12a3da8f7ced.geo+0+0000000087.json</td><td>115</td><td>1706033597000</td></tr><tr><td>dbfs:/mnt/s3_bucket_test/topics/12a3da8f7ced.geo/partition=0/12a3da8f7ced.geo+0+0000000088.json</td><td>12a3da8f7ced.geo+0+0000000088.json</td><td>112</td><td>1706033601000</td></tr><tr><td>dbfs:/mnt/s3_bucket_test/topics/12a3da8f7ced.geo/partition=0/12a3da8f7ced.geo+0+0000000089.json</td><td>12a3da8f7ced.geo+0+0000000089.json</td><td>115</td><td>1706033606000</td></tr><tr><td>dbfs:/mnt/s3_bucket_test/topics/12a3da8f7ced.geo/partition=0/12a3da8f7ced.geo+0+0000000090.json</td><td>12a3da8f7ced.geo+0+0000000090.json</td><td>108</td><td>1706033611000</td></tr><tr><td>dbfs:/mnt/s3_bucket_test/topics/12a3da8f7ced.geo/partition=0/12a3da8f7ced.geo+0+0000000091.json</td><td>12a3da8f7ced.geo+0+0000000091.json</td><td>111</td><td>1706033617000</td></tr><tr><td>dbfs:/mnt/s3_bucket_test/topics/12a3da8f7ced.geo/partition=0/12a3da8f7ced.geo+0+0000000092.json</td><td>12a3da8f7ced.geo+0+0000000092.json</td><td>112</td><td>1706033622000</td></tr><tr><td>dbfs:/mnt/s3_bucket_test/topics/12a3da8f7ced.geo/partition=0/12a3da8f7ced.geo+0+0000000093.json</td><td>12a3da8f7ced.geo+0+0000000093.json</td><td>108</td><td>1706033628000</td></tr><tr><td>dbfs:/mnt/s3_bucket_test/topics/12a3da8f7ced.geo/partition=0/12a3da8f7ced.geo+0+0000000094.json</td><td>12a3da8f7ced.geo+0+0000000094.json</td><td>109</td><td>1706033632000</td></tr><tr><td>dbfs:/mnt/s3_bucket_test/topics/12a3da8f7ced.geo/partition=0/12a3da8f7ced.geo+0+0000000095.json</td><td>12a3da8f7ced.geo+0+0000000095.json</td><td>110</td><td>1706033637000</td></tr><tr><td>dbfs:/mnt/s3_bucket_test/topics/12a3da8f7ced.geo/partition=0/12a3da8f7ced.geo+0+0000000096.json</td><td>12a3da8f7ced.geo+0+0000000096.json</td><td>110</td><td>1706033644000</td></tr><tr><td>dbfs:/mnt/s3_bucket_test/topics/12a3da8f7ced.geo/partition=0/12a3da8f7ced.geo+0+0000000097.json</td><td>12a3da8f7ced.geo+0+0000000097.json</td><td>113</td><td>1706033649000</td></tr><tr><td>dbfs:/mnt/s3_bucket_test/topics/12a3da8f7ced.geo/partition=0/12a3da8f7ced.geo+0+0000000098.json</td><td>12a3da8f7ced.geo+0+0000000098.json</td><td>113</td><td>1706033653000</td></tr><tr><td>dbfs:/mnt/s3_bucket_test/topics/12a3da8f7ced.geo/partition=0/12a3da8f7ced.geo+0+0000000099.json</td><td>12a3da8f7ced.geo+0+0000000099.json</td><td>107</td><td>1706033658000</td></tr><tr><td>dbfs:/mnt/s3_bucket_test/topics/12a3da8f7ced.geo/partition=0/12a3da8f7ced.geo+0+0000000100.json</td><td>12a3da8f7ced.geo+0+0000000100.json</td><td>109</td><td>1706033662000</td></tr><tr><td>dbfs:/mnt/s3_bucket_test/topics/12a3da8f7ced.geo/partition=0/12a3da8f7ced.geo+0+0000000101.json</td><td>12a3da8f7ced.geo+0+0000000101.json</td><td>114</td><td>1706033666000</td></tr><tr><td>dbfs:/mnt/s3_bucket_test/topics/12a3da8f7ced.geo/partition=0/12a3da8f7ced.geo+0+0000000102.json</td><td>12a3da8f7ced.geo+0+0000000102.json</td><td>110</td><td>1706033671000</td></tr><tr><td>dbfs:/mnt/s3_bucket_test/topics/12a3da8f7ced.geo/partition=0/12a3da8f7ced.geo+0+0000000103.json</td><td>12a3da8f7ced.geo+0+0000000103.json</td><td>117</td><td>1706033676000</td></tr><tr><td>dbfs:/mnt/s3_bucket_test/topics/12a3da8f7ced.geo/partition=0/12a3da8f7ced.geo+0+0000000104.json</td><td>12a3da8f7ced.geo+0+0000000104.json</td><td>111</td><td>1706033681000</td></tr><tr><td>dbfs:/mnt/s3_bucket_test/topics/12a3da8f7ced.geo/partition=0/12a3da8f7ced.geo+0+0000000105.json</td><td>12a3da8f7ced.geo+0+0000000105.json</td><td>108</td><td>1706033687000</td></tr><tr><td>dbfs:/mnt/s3_bucket_test/topics/12a3da8f7ced.geo/partition=0/12a3da8f7ced.geo+0+0000000106.json</td><td>12a3da8f7ced.geo+0+0000000106.json</td><td>110</td><td>1706033691000</td></tr><tr><td>dbfs:/mnt/s3_bucket_test/topics/12a3da8f7ced.geo/partition=0/12a3da8f7ced.geo+0+0000000107.json</td><td>12a3da8f7ced.geo+0+0000000107.json</td><td>120</td><td>1706033694000</td></tr><tr><td>dbfs:/mnt/s3_bucket_test/topics/12a3da8f7ced.geo/partition=0/12a3da8f7ced.geo+0+0000000108.json</td><td>12a3da8f7ced.geo+0+0000000108.json</td><td>110</td><td>1706033699000</td></tr><tr><td>dbfs:/mnt/s3_bucket_test/topics/12a3da8f7ced.geo/partition=0/12a3da8f7ced.geo+0+0000000109.json</td><td>12a3da8f7ced.geo+0+0000000109.json</td><td>122</td><td>1706033702000</td></tr></tbody></table></div>"
      ]
     },
     "metadata": {
      "application/vnd.databricks.v1+output": {
       "addedWidgets": {},
       "aggData": [],
       "aggError": "",
       "aggOverflow": false,
       "aggSchema": [],
       "aggSeriesLimitReached": false,
       "aggType": "",
       "arguments": {},
       "columnCustomDisplayInfos": {},
       "data": [
        [
         "dbfs:/mnt/s3_bucket_test/topics/12a3da8f7ced.geo/partition=0/12a3da8f7ced.geo+0+0000000000.json",
         "12a3da8f7ced.geo+0+0000000000.json",
         110,
         1705682925000
        ],
        [
         "dbfs:/mnt/s3_bucket_test/topics/12a3da8f7ced.geo/partition=0/12a3da8f7ced.geo+0+0000000001.json",
         "12a3da8f7ced.geo+0+0000000001.json",
         110,
         1705682929000
        ],
        [
         "dbfs:/mnt/s3_bucket_test/topics/12a3da8f7ced.geo/partition=0/12a3da8f7ced.geo+0+0000000002.json",
         "12a3da8f7ced.geo+0+0000000002.json",
         110,
         1705682934000
        ],
        [
         "dbfs:/mnt/s3_bucket_test/topics/12a3da8f7ced.geo/partition=0/12a3da8f7ced.geo+0+0000000003.json",
         "12a3da8f7ced.geo+0+0000000003.json",
         115,
         1705682942000
        ],
        [
         "dbfs:/mnt/s3_bucket_test/topics/12a3da8f7ced.geo/partition=0/12a3da8f7ced.geo+0+0000000004.json",
         "12a3da8f7ced.geo+0+0000000004.json",
         107,
         1705682942000
        ],
        [
         "dbfs:/mnt/s3_bucket_test/topics/12a3da8f7ced.geo/partition=0/12a3da8f7ced.geo+0+0000000005.json",
         "12a3da8f7ced.geo+0+0000000005.json",
         109,
         1705682946000
        ],
        [
         "dbfs:/mnt/s3_bucket_test/topics/12a3da8f7ced.geo/partition=0/12a3da8f7ced.geo+0+0000000006.json",
         "12a3da8f7ced.geo+0+0000000006.json",
         115,
         1705682950000
        ],
        [
         "dbfs:/mnt/s3_bucket_test/topics/12a3da8f7ced.geo/partition=0/12a3da8f7ced.geo+0+0000000007.json",
         "12a3da8f7ced.geo+0+0000000007.json",
         127,
         1705682953000
        ],
        [
         "dbfs:/mnt/s3_bucket_test/topics/12a3da8f7ced.geo/partition=0/12a3da8f7ced.geo+0+0000000008.json",
         "12a3da8f7ced.geo+0+0000000008.json",
         111,
         1705682957000
        ],
        [
         "dbfs:/mnt/s3_bucket_test/topics/12a3da8f7ced.geo/partition=0/12a3da8f7ced.geo+0+0000000009.json",
         "12a3da8f7ced.geo+0+0000000009.json",
         113,
         1705682960000
        ],
        [
         "dbfs:/mnt/s3_bucket_test/topics/12a3da8f7ced.geo/partition=0/12a3da8f7ced.geo+0+0000000010.json",
         "12a3da8f7ced.geo+0+0000000010.json",
         116,
         1705682964000
        ],
        [
         "dbfs:/mnt/s3_bucket_test/topics/12a3da8f7ced.geo/partition=0/12a3da8f7ced.geo+0+0000000011.json",
         "12a3da8f7ced.geo+0+0000000011.json",
         110,
         1705682967000
        ],
        [
         "dbfs:/mnt/s3_bucket_test/topics/12a3da8f7ced.geo/partition=0/12a3da8f7ced.geo+0+0000000012.json",
         "12a3da8f7ced.geo+0+0000000012.json",
         111,
         1705682972000
        ],
        [
         "dbfs:/mnt/s3_bucket_test/topics/12a3da8f7ced.geo/partition=0/12a3da8f7ced.geo+0+0000000013.json",
         "12a3da8f7ced.geo+0+0000000013.json",
         111,
         1705682977000
        ],
        [
         "dbfs:/mnt/s3_bucket_test/topics/12a3da8f7ced.geo/partition=0/12a3da8f7ced.geo+0+0000000014.json",
         "12a3da8f7ced.geo+0+0000000014.json",
         108,
         1705682981000
        ],
        [
         "dbfs:/mnt/s3_bucket_test/topics/12a3da8f7ced.geo/partition=0/12a3da8f7ced.geo+0+0000000015.json",
         "12a3da8f7ced.geo+0+0000000015.json",
         113,
         1705682986000
        ],
        [
         "dbfs:/mnt/s3_bucket_test/topics/12a3da8f7ced.geo/partition=0/12a3da8f7ced.geo+0+0000000016.json",
         "12a3da8f7ced.geo+0+0000000016.json",
         111,
         1705682989000
        ],
        [
         "dbfs:/mnt/s3_bucket_test/topics/12a3da8f7ced.geo/partition=0/12a3da8f7ced.geo+0+0000000017.json",
         "12a3da8f7ced.geo+0+0000000017.json",
         109,
         1705682993000
        ],
        [
         "dbfs:/mnt/s3_bucket_test/topics/12a3da8f7ced.geo/partition=0/12a3da8f7ced.geo+0+0000000018.json",
         "12a3da8f7ced.geo+0+0000000018.json",
         111,
         1705682996000
        ],
        [
         "dbfs:/mnt/s3_bucket_test/topics/12a3da8f7ced.geo/partition=0/12a3da8f7ced.geo+0+0000000019.json",
         "12a3da8f7ced.geo+0+0000000019.json",
         147,
         1705683000000
        ],
        [
         "dbfs:/mnt/s3_bucket_test/topics/12a3da8f7ced.geo/partition=0/12a3da8f7ced.geo+0+0000000020.json",
         "12a3da8f7ced.geo+0+0000000020.json",
         109,
         1705683004000
        ],
        [
         "dbfs:/mnt/s3_bucket_test/topics/12a3da8f7ced.geo/partition=0/12a3da8f7ced.geo+0+0000000021.json",
         "12a3da8f7ced.geo+0+0000000021.json",
         112,
         1705683007000
        ],
        [
         "dbfs:/mnt/s3_bucket_test/topics/12a3da8f7ced.geo/partition=0/12a3da8f7ced.geo+0+0000000022.json",
         "12a3da8f7ced.geo+0+0000000022.json",
         112,
         1705683010000
        ],
        [
         "dbfs:/mnt/s3_bucket_test/topics/12a3da8f7ced.geo/partition=0/12a3da8f7ced.geo+0+0000000023.json",
         "12a3da8f7ced.geo+0+0000000023.json",
         125,
         1705683015000
        ],
        [
         "dbfs:/mnt/s3_bucket_test/topics/12a3da8f7ced.geo/partition=0/12a3da8f7ced.geo+0+0000000024.json",
         "12a3da8f7ced.geo+0+0000000024.json",
         110,
         1706033264000
        ],
        [
         "dbfs:/mnt/s3_bucket_test/topics/12a3da8f7ced.geo/partition=0/12a3da8f7ced.geo+0+0000000025.json",
         "12a3da8f7ced.geo+0+0000000025.json",
         110,
         1706033271000
        ],
        [
         "dbfs:/mnt/s3_bucket_test/topics/12a3da8f7ced.geo/partition=0/12a3da8f7ced.geo+0+0000000026.json",
         "12a3da8f7ced.geo+0+0000000026.json",
         110,
         1706033279000
        ],
        [
         "dbfs:/mnt/s3_bucket_test/topics/12a3da8f7ced.geo/partition=0/12a3da8f7ced.geo+0+0000000027.json",
         "12a3da8f7ced.geo+0+0000000027.json",
         115,
         1706033284000
        ],
        [
         "dbfs:/mnt/s3_bucket_test/topics/12a3da8f7ced.geo/partition=0/12a3da8f7ced.geo+0+0000000028.json",
         "12a3da8f7ced.geo+0+0000000028.json",
         107,
         1706033289000
        ],
        [
         "dbfs:/mnt/s3_bucket_test/topics/12a3da8f7ced.geo/partition=0/12a3da8f7ced.geo+0+0000000029.json",
         "12a3da8f7ced.geo+0+0000000029.json",
         109,
         1706033293000
        ],
        [
         "dbfs:/mnt/s3_bucket_test/topics/12a3da8f7ced.geo/partition=0/12a3da8f7ced.geo+0+0000000030.json",
         "12a3da8f7ced.geo+0+0000000030.json",
         115,
         1706033299000
        ],
        [
         "dbfs:/mnt/s3_bucket_test/topics/12a3da8f7ced.geo/partition=0/12a3da8f7ced.geo+0+0000000031.json",
         "12a3da8f7ced.geo+0+0000000031.json",
         127,
         1706033303000
        ],
        [
         "dbfs:/mnt/s3_bucket_test/topics/12a3da8f7ced.geo/partition=0/12a3da8f7ced.geo+0+0000000032.json",
         "12a3da8f7ced.geo+0+0000000032.json",
         111,
         1706033308000
        ],
        [
         "dbfs:/mnt/s3_bucket_test/topics/12a3da8f7ced.geo/partition=0/12a3da8f7ced.geo+0+0000000033.json",
         "12a3da8f7ced.geo+0+0000000033.json",
         113,
         1706033313000
        ],
        [
         "dbfs:/mnt/s3_bucket_test/topics/12a3da8f7ced.geo/partition=0/12a3da8f7ced.geo+0+0000000034.json",
         "12a3da8f7ced.geo+0+0000000034.json",
         116,
         1706033319000
        ],
        [
         "dbfs:/mnt/s3_bucket_test/topics/12a3da8f7ced.geo/partition=0/12a3da8f7ced.geo+0+0000000035.json",
         "12a3da8f7ced.geo+0+0000000035.json",
         110,
         1706033323000
        ],
        [
         "dbfs:/mnt/s3_bucket_test/topics/12a3da8f7ced.geo/partition=0/12a3da8f7ced.geo+0+0000000036.json",
         "12a3da8f7ced.geo+0+0000000036.json",
         111,
         1706033328000
        ],
        [
         "dbfs:/mnt/s3_bucket_test/topics/12a3da8f7ced.geo/partition=0/12a3da8f7ced.geo+0+0000000037.json",
         "12a3da8f7ced.geo+0+0000000037.json",
         111,
         1706033333000
        ],
        [
         "dbfs:/mnt/s3_bucket_test/topics/12a3da8f7ced.geo/partition=0/12a3da8f7ced.geo+0+0000000038.json",
         "12a3da8f7ced.geo+0+0000000038.json",
         108,
         1706033338000
        ],
        [
         "dbfs:/mnt/s3_bucket_test/topics/12a3da8f7ced.geo/partition=0/12a3da8f7ced.geo+0+0000000039.json",
         "12a3da8f7ced.geo+0+0000000039.json",
         113,
         1706033344000
        ],
        [
         "dbfs:/mnt/s3_bucket_test/topics/12a3da8f7ced.geo/partition=0/12a3da8f7ced.geo+0+0000000040.json",
         "12a3da8f7ced.geo+0+0000000040.json",
         111,
         1706033349000
        ],
        [
         "dbfs:/mnt/s3_bucket_test/topics/12a3da8f7ced.geo/partition=0/12a3da8f7ced.geo+0+0000000041.json",
         "12a3da8f7ced.geo+0+0000000041.json",
         109,
         1706033354000
        ],
        [
         "dbfs:/mnt/s3_bucket_test/topics/12a3da8f7ced.geo/partition=0/12a3da8f7ced.geo+0+0000000042.json",
         "12a3da8f7ced.geo+0+0000000042.json",
         111,
         1706033358000
        ],
        [
         "dbfs:/mnt/s3_bucket_test/topics/12a3da8f7ced.geo/partition=0/12a3da8f7ced.geo+0+0000000043.json",
         "12a3da8f7ced.geo+0+0000000043.json",
         147,
         1706033363000
        ],
        [
         "dbfs:/mnt/s3_bucket_test/topics/12a3da8f7ced.geo/partition=0/12a3da8f7ced.geo+0+0000000044.json",
         "12a3da8f7ced.geo+0+0000000044.json",
         109,
         1706033367000
        ],
        [
         "dbfs:/mnt/s3_bucket_test/topics/12a3da8f7ced.geo/partition=0/12a3da8f7ced.geo+0+0000000045.json",
         "12a3da8f7ced.geo+0+0000000045.json",
         112,
         1706033372000
        ],
        [
         "dbfs:/mnt/s3_bucket_test/topics/12a3da8f7ced.geo/partition=0/12a3da8f7ced.geo+0+0000000046.json",
         "12a3da8f7ced.geo+0+0000000046.json",
         112,
         1706033376000
        ],
        [
         "dbfs:/mnt/s3_bucket_test/topics/12a3da8f7ced.geo/partition=0/12a3da8f7ced.geo+0+0000000047.json",
         "12a3da8f7ced.geo+0+0000000047.json",
         125,
         1706033383000
        ],
        [
         "dbfs:/mnt/s3_bucket_test/topics/12a3da8f7ced.geo/partition=0/12a3da8f7ced.geo+0+0000000048.json",
         "12a3da8f7ced.geo+0+0000000048.json",
         120,
         1706033388000
        ],
        [
         "dbfs:/mnt/s3_bucket_test/topics/12a3da8f7ced.geo/partition=0/12a3da8f7ced.geo+0+0000000049.json",
         "12a3da8f7ced.geo+0+0000000049.json",
         110,
         1706033393000
        ],
        [
         "dbfs:/mnt/s3_bucket_test/topics/12a3da8f7ced.geo/partition=0/12a3da8f7ced.geo+0+0000000050.json",
         "12a3da8f7ced.geo+0+0000000050.json",
         107,
         1706033399000
        ],
        [
         "dbfs:/mnt/s3_bucket_test/topics/12a3da8f7ced.geo/partition=0/12a3da8f7ced.geo+0+0000000051.json",
         "12a3da8f7ced.geo+0+0000000051.json",
         112,
         1706033404000
        ],
        [
         "dbfs:/mnt/s3_bucket_test/topics/12a3da8f7ced.geo/partition=0/12a3da8f7ced.geo+0+0000000052.json",
         "12a3da8f7ced.geo+0+0000000052.json",
         111,
         1706033411000
        ],
        [
         "dbfs:/mnt/s3_bucket_test/topics/12a3da8f7ced.geo/partition=0/12a3da8f7ced.geo+0+0000000053.json",
         "12a3da8f7ced.geo+0+0000000053.json",
         122,
         1706033416000
        ],
        [
         "dbfs:/mnt/s3_bucket_test/topics/12a3da8f7ced.geo/partition=0/12a3da8f7ced.geo+0+0000000054.json",
         "12a3da8f7ced.geo+0+0000000054.json",
         106,
         1706033421000
        ],
        [
         "dbfs:/mnt/s3_bucket_test/topics/12a3da8f7ced.geo/partition=0/12a3da8f7ced.geo+0+0000000055.json",
         "12a3da8f7ced.geo+0+0000000055.json",
         108,
         1706033426000
        ],
        [
         "dbfs:/mnt/s3_bucket_test/topics/12a3da8f7ced.geo/partition=0/12a3da8f7ced.geo+0+0000000056.json",
         "12a3da8f7ced.geo+0+0000000056.json",
         111,
         1706033431000
        ],
        [
         "dbfs:/mnt/s3_bucket_test/topics/12a3da8f7ced.geo/partition=0/12a3da8f7ced.geo+0+0000000057.json",
         "12a3da8f7ced.geo+0+0000000057.json",
         108,
         1706033435000
        ],
        [
         "dbfs:/mnt/s3_bucket_test/topics/12a3da8f7ced.geo/partition=0/12a3da8f7ced.geo+0+0000000058.json",
         "12a3da8f7ced.geo+0+0000000058.json",
         110,
         1706033440000
        ],
        [
         "dbfs:/mnt/s3_bucket_test/topics/12a3da8f7ced.geo/partition=0/12a3da8f7ced.geo+0+0000000059.json",
         "12a3da8f7ced.geo+0+0000000059.json",
         110,
         1706033446000
        ],
        [
         "dbfs:/mnt/s3_bucket_test/topics/12a3da8f7ced.geo/partition=0/12a3da8f7ced.geo+0+0000000060.json",
         "12a3da8f7ced.geo+0+0000000060.json",
         110,
         1706033450000
        ],
        [
         "dbfs:/mnt/s3_bucket_test/topics/12a3da8f7ced.geo/partition=0/12a3da8f7ced.geo+0+0000000061.json",
         "12a3da8f7ced.geo+0+0000000061.json",
         106,
         1706033457000
        ],
        [
         "dbfs:/mnt/s3_bucket_test/topics/12a3da8f7ced.geo/partition=0/12a3da8f7ced.geo+0+0000000062.json",
         "12a3da8f7ced.geo+0+0000000062.json",
         113,
         1706033460000
        ],
        [
         "dbfs:/mnt/s3_bucket_test/topics/12a3da8f7ced.geo/partition=0/12a3da8f7ced.geo+0+0000000063.json",
         "12a3da8f7ced.geo+0+0000000063.json",
         107,
         1706033465000
        ],
        [
         "dbfs:/mnt/s3_bucket_test/topics/12a3da8f7ced.geo/partition=0/12a3da8f7ced.geo+0+0000000064.json",
         "12a3da8f7ced.geo+0+0000000064.json",
         110,
         1706033472000
        ],
        [
         "dbfs:/mnt/s3_bucket_test/topics/12a3da8f7ced.geo/partition=0/12a3da8f7ced.geo+0+0000000065.json",
         "12a3da8f7ced.geo+0+0000000065.json",
         124,
         1706033478000
        ],
        [
         "dbfs:/mnt/s3_bucket_test/topics/12a3da8f7ced.geo/partition=0/12a3da8f7ced.geo+0+0000000066.json",
         "12a3da8f7ced.geo+0+0000000066.json",
         112,
         1706033483000
        ],
        [
         "dbfs:/mnt/s3_bucket_test/topics/12a3da8f7ced.geo/partition=0/12a3da8f7ced.geo+0+0000000067.json",
         "12a3da8f7ced.geo+0+0000000067.json",
         110,
         1706033488000
        ],
        [
         "dbfs:/mnt/s3_bucket_test/topics/12a3da8f7ced.geo/partition=0/12a3da8f7ced.geo+0+0000000068.json",
         "12a3da8f7ced.geo+0+0000000068.json",
         117,
         1706033495000
        ],
        [
         "dbfs:/mnt/s3_bucket_test/topics/12a3da8f7ced.geo/partition=0/12a3da8f7ced.geo+0+0000000069.json",
         "12a3da8f7ced.geo+0+0000000069.json",
         122,
         1706033500000
        ],
        [
         "dbfs:/mnt/s3_bucket_test/topics/12a3da8f7ced.geo/partition=0/12a3da8f7ced.geo+0+0000000070.json",
         "12a3da8f7ced.geo+0+0000000070.json",
         117,
         1706033505000
        ],
        [
         "dbfs:/mnt/s3_bucket_test/topics/12a3da8f7ced.geo/partition=0/12a3da8f7ced.geo+0+0000000071.json",
         "12a3da8f7ced.geo+0+0000000071.json",
         109,
         1706033513000
        ],
        [
         "dbfs:/mnt/s3_bucket_test/topics/12a3da8f7ced.geo/partition=0/12a3da8f7ced.geo+0+0000000072.json",
         "12a3da8f7ced.geo+0+0000000072.json",
         119,
         1706033519000
        ],
        [
         "dbfs:/mnt/s3_bucket_test/topics/12a3da8f7ced.geo/partition=0/12a3da8f7ced.geo+0+0000000073.json",
         "12a3da8f7ced.geo+0+0000000073.json",
         109,
         1706033526000
        ],
        [
         "dbfs:/mnt/s3_bucket_test/topics/12a3da8f7ced.geo/partition=0/12a3da8f7ced.geo+0+0000000074.json",
         "12a3da8f7ced.geo+0+0000000074.json",
         112,
         1706033533000
        ],
        [
         "dbfs:/mnt/s3_bucket_test/topics/12a3da8f7ced.geo/partition=0/12a3da8f7ced.geo+0+0000000075.json",
         "12a3da8f7ced.geo+0+0000000075.json",
         112,
         1706033539000
        ],
        [
         "dbfs:/mnt/s3_bucket_test/topics/12a3da8f7ced.geo/partition=0/12a3da8f7ced.geo+0+0000000076.json",
         "12a3da8f7ced.geo+0+0000000076.json",
         109,
         1706033544000
        ],
        [
         "dbfs:/mnt/s3_bucket_test/topics/12a3da8f7ced.geo/partition=0/12a3da8f7ced.geo+0+0000000077.json",
         "12a3da8f7ced.geo+0+0000000077.json",
         112,
         1706033550000
        ],
        [
         "dbfs:/mnt/s3_bucket_test/topics/12a3da8f7ced.geo/partition=0/12a3da8f7ced.geo+0+0000000078.json",
         "12a3da8f7ced.geo+0+0000000078.json",
         112,
         1706033555000
        ],
        [
         "dbfs:/mnt/s3_bucket_test/topics/12a3da8f7ced.geo/partition=0/12a3da8f7ced.geo+0+0000000079.json",
         "12a3da8f7ced.geo+0+0000000079.json",
         109,
         1706033559000
        ],
        [
         "dbfs:/mnt/s3_bucket_test/topics/12a3da8f7ced.geo/partition=0/12a3da8f7ced.geo+0+0000000080.json",
         "12a3da8f7ced.geo+0+0000000080.json",
         125,
         1706033562000
        ],
        [
         "dbfs:/mnt/s3_bucket_test/topics/12a3da8f7ced.geo/partition=0/12a3da8f7ced.geo+0+0000000081.json",
         "12a3da8f7ced.geo+0+0000000081.json",
         112,
         1706033566000
        ],
        [
         "dbfs:/mnt/s3_bucket_test/topics/12a3da8f7ced.geo/partition=0/12a3da8f7ced.geo+0+0000000082.json",
         "12a3da8f7ced.geo+0+0000000082.json",
         109,
         1706033570000
        ],
        [
         "dbfs:/mnt/s3_bucket_test/topics/12a3da8f7ced.geo/partition=0/12a3da8f7ced.geo+0+0000000083.json",
         "12a3da8f7ced.geo+0+0000000083.json",
         110,
         1706033575000
        ],
        [
         "dbfs:/mnt/s3_bucket_test/topics/12a3da8f7ced.geo/partition=0/12a3da8f7ced.geo+0+0000000084.json",
         "12a3da8f7ced.geo+0+0000000084.json",
         121,
         1706033581000
        ],
        [
         "dbfs:/mnt/s3_bucket_test/topics/12a3da8f7ced.geo/partition=0/12a3da8f7ced.geo+0+0000000085.json",
         "12a3da8f7ced.geo+0+0000000085.json",
         109,
         1706033586000
        ],
        [
         "dbfs:/mnt/s3_bucket_test/topics/12a3da8f7ced.geo/partition=0/12a3da8f7ced.geo+0+0000000086.json",
         "12a3da8f7ced.geo+0+0000000086.json",
         110,
         1706033592000
        ],
        [
         "dbfs:/mnt/s3_bucket_test/topics/12a3da8f7ced.geo/partition=0/12a3da8f7ced.geo+0+0000000087.json",
         "12a3da8f7ced.geo+0+0000000087.json",
         115,
         1706033597000
        ],
        [
         "dbfs:/mnt/s3_bucket_test/topics/12a3da8f7ced.geo/partition=0/12a3da8f7ced.geo+0+0000000088.json",
         "12a3da8f7ced.geo+0+0000000088.json",
         112,
         1706033601000
        ],
        [
         "dbfs:/mnt/s3_bucket_test/topics/12a3da8f7ced.geo/partition=0/12a3da8f7ced.geo+0+0000000089.json",
         "12a3da8f7ced.geo+0+0000000089.json",
         115,
         1706033606000
        ],
        [
         "dbfs:/mnt/s3_bucket_test/topics/12a3da8f7ced.geo/partition=0/12a3da8f7ced.geo+0+0000000090.json",
         "12a3da8f7ced.geo+0+0000000090.json",
         108,
         1706033611000
        ],
        [
         "dbfs:/mnt/s3_bucket_test/topics/12a3da8f7ced.geo/partition=0/12a3da8f7ced.geo+0+0000000091.json",
         "12a3da8f7ced.geo+0+0000000091.json",
         111,
         1706033617000
        ],
        [
         "dbfs:/mnt/s3_bucket_test/topics/12a3da8f7ced.geo/partition=0/12a3da8f7ced.geo+0+0000000092.json",
         "12a3da8f7ced.geo+0+0000000092.json",
         112,
         1706033622000
        ],
        [
         "dbfs:/mnt/s3_bucket_test/topics/12a3da8f7ced.geo/partition=0/12a3da8f7ced.geo+0+0000000093.json",
         "12a3da8f7ced.geo+0+0000000093.json",
         108,
         1706033628000
        ],
        [
         "dbfs:/mnt/s3_bucket_test/topics/12a3da8f7ced.geo/partition=0/12a3da8f7ced.geo+0+0000000094.json",
         "12a3da8f7ced.geo+0+0000000094.json",
         109,
         1706033632000
        ],
        [
         "dbfs:/mnt/s3_bucket_test/topics/12a3da8f7ced.geo/partition=0/12a3da8f7ced.geo+0+0000000095.json",
         "12a3da8f7ced.geo+0+0000000095.json",
         110,
         1706033637000
        ],
        [
         "dbfs:/mnt/s3_bucket_test/topics/12a3da8f7ced.geo/partition=0/12a3da8f7ced.geo+0+0000000096.json",
         "12a3da8f7ced.geo+0+0000000096.json",
         110,
         1706033644000
        ],
        [
         "dbfs:/mnt/s3_bucket_test/topics/12a3da8f7ced.geo/partition=0/12a3da8f7ced.geo+0+0000000097.json",
         "12a3da8f7ced.geo+0+0000000097.json",
         113,
         1706033649000
        ],
        [
         "dbfs:/mnt/s3_bucket_test/topics/12a3da8f7ced.geo/partition=0/12a3da8f7ced.geo+0+0000000098.json",
         "12a3da8f7ced.geo+0+0000000098.json",
         113,
         1706033653000
        ],
        [
         "dbfs:/mnt/s3_bucket_test/topics/12a3da8f7ced.geo/partition=0/12a3da8f7ced.geo+0+0000000099.json",
         "12a3da8f7ced.geo+0+0000000099.json",
         107,
         1706033658000
        ],
        [
         "dbfs:/mnt/s3_bucket_test/topics/12a3da8f7ced.geo/partition=0/12a3da8f7ced.geo+0+0000000100.json",
         "12a3da8f7ced.geo+0+0000000100.json",
         109,
         1706033662000
        ],
        [
         "dbfs:/mnt/s3_bucket_test/topics/12a3da8f7ced.geo/partition=0/12a3da8f7ced.geo+0+0000000101.json",
         "12a3da8f7ced.geo+0+0000000101.json",
         114,
         1706033666000
        ],
        [
         "dbfs:/mnt/s3_bucket_test/topics/12a3da8f7ced.geo/partition=0/12a3da8f7ced.geo+0+0000000102.json",
         "12a3da8f7ced.geo+0+0000000102.json",
         110,
         1706033671000
        ],
        [
         "dbfs:/mnt/s3_bucket_test/topics/12a3da8f7ced.geo/partition=0/12a3da8f7ced.geo+0+0000000103.json",
         "12a3da8f7ced.geo+0+0000000103.json",
         117,
         1706033676000
        ],
        [
         "dbfs:/mnt/s3_bucket_test/topics/12a3da8f7ced.geo/partition=0/12a3da8f7ced.geo+0+0000000104.json",
         "12a3da8f7ced.geo+0+0000000104.json",
         111,
         1706033681000
        ],
        [
         "dbfs:/mnt/s3_bucket_test/topics/12a3da8f7ced.geo/partition=0/12a3da8f7ced.geo+0+0000000105.json",
         "12a3da8f7ced.geo+0+0000000105.json",
         108,
         1706033687000
        ],
        [
         "dbfs:/mnt/s3_bucket_test/topics/12a3da8f7ced.geo/partition=0/12a3da8f7ced.geo+0+0000000106.json",
         "12a3da8f7ced.geo+0+0000000106.json",
         110,
         1706033691000
        ],
        [
         "dbfs:/mnt/s3_bucket_test/topics/12a3da8f7ced.geo/partition=0/12a3da8f7ced.geo+0+0000000107.json",
         "12a3da8f7ced.geo+0+0000000107.json",
         120,
         1706033694000
        ],
        [
         "dbfs:/mnt/s3_bucket_test/topics/12a3da8f7ced.geo/partition=0/12a3da8f7ced.geo+0+0000000108.json",
         "12a3da8f7ced.geo+0+0000000108.json",
         110,
         1706033699000
        ],
        [
         "dbfs:/mnt/s3_bucket_test/topics/12a3da8f7ced.geo/partition=0/12a3da8f7ced.geo+0+0000000109.json",
         "12a3da8f7ced.geo+0+0000000109.json",
         122,
         1706033702000
        ]
       ],
       "datasetInfos": [],
       "dbfsResultPath": null,
       "isJsonSchema": true,
       "metadata": {},
       "overflow": false,
       "plotOptions": {
        "customPlotOptions": {},
        "displayType": "table",
        "pivotAggregation": null,
        "pivotColumns": null,
        "xColumns": null,
        "yColumns": null
       },
       "removedWidgets": [],
       "schema": [
        {
         "metadata": "{}",
         "name": "path",
         "type": "\"string\""
        },
        {
         "metadata": "{}",
         "name": "name",
         "type": "\"string\""
        },
        {
         "metadata": "{}",
         "name": "size",
         "type": "\"long\""
        },
        {
         "metadata": "{}",
         "name": "modificationTime",
         "type": "\"long\""
        }
       ],
       "type": "table"
      }
     },
     "output_type": "display_data"
    },
    {
     "output_type": "display_data",
     "data": {
      "text/html": [
       "<style scoped>\n",
       "  .table-result-container {\n",
       "    max-height: 300px;\n",
       "    overflow: auto;\n",
       "  }\n",
       "  table, th, td {\n",
       "    border: 1px solid black;\n",
       "    border-collapse: collapse;\n",
       "  }\n",
       "  th, td {\n",
       "    padding: 5px;\n",
       "  }\n",
       "  th {\n",
       "    text-align: left;\n",
       "  }\n",
       "</style><div class='table-result-container'><table class='table-result'><thead style='background-color: white'><tr><th>path</th><th>name</th><th>size</th><th>modificationTime</th></tr></thead><tbody><tr><td>dbfs:/mnt/s3_bucket_test/topics/12a3da8f7ced.user/partition=0/12a3da8f7ced.user+0+0000000000.json</td><td>12a3da8f7ced.user+0+0000000000.json</td><td>101</td><td>1705682925000</td></tr><tr><td>dbfs:/mnt/s3_bucket_test/topics/12a3da8f7ced.user/partition=0/12a3da8f7ced.user+0+0000000001.json</td><td>12a3da8f7ced.user+0+0000000001.json</td><td>102</td><td>1705682930000</td></tr><tr><td>dbfs:/mnt/s3_bucket_test/topics/12a3da8f7ced.user/partition=0/12a3da8f7ced.user+0+0000000002.json</td><td>12a3da8f7ced.user+0+0000000002.json</td><td>102</td><td>1705682942000</td></tr><tr><td>dbfs:/mnt/s3_bucket_test/topics/12a3da8f7ced.user/partition=0/12a3da8f7ced.user+0+0000000003.json</td><td>12a3da8f7ced.user+0+0000000003.json</td><td>103</td><td>1705682942000</td></tr><tr><td>dbfs:/mnt/s3_bucket_test/topics/12a3da8f7ced.user/partition=0/12a3da8f7ced.user+0+0000000004.json</td><td>12a3da8f7ced.user+0+0000000004.json</td><td>106</td><td>1705682943000</td></tr><tr><td>dbfs:/mnt/s3_bucket_test/topics/12a3da8f7ced.user/partition=0/12a3da8f7ced.user+0+0000000005.json</td><td>12a3da8f7ced.user+0+0000000005.json</td><td>104</td><td>1705682947000</td></tr><tr><td>dbfs:/mnt/s3_bucket_test/topics/12a3da8f7ced.user/partition=0/12a3da8f7ced.user+0+0000000006.json</td><td>12a3da8f7ced.user+0+0000000006.json</td><td>105</td><td>1705682951000</td></tr><tr><td>dbfs:/mnt/s3_bucket_test/topics/12a3da8f7ced.user/partition=0/12a3da8f7ced.user+0+0000000007.json</td><td>12a3da8f7ced.user+0+0000000007.json</td><td>104</td><td>1705682954000</td></tr><tr><td>dbfs:/mnt/s3_bucket_test/topics/12a3da8f7ced.user/partition=0/12a3da8f7ced.user+0+0000000008.json</td><td>12a3da8f7ced.user+0+0000000008.json</td><td>100</td><td>1705682958000</td></tr><tr><td>dbfs:/mnt/s3_bucket_test/topics/12a3da8f7ced.user/partition=0/12a3da8f7ced.user+0+0000000009.json</td><td>12a3da8f7ced.user+0+0000000009.json</td><td>101</td><td>1705682961000</td></tr><tr><td>dbfs:/mnt/s3_bucket_test/topics/12a3da8f7ced.user/partition=0/12a3da8f7ced.user+0+0000000010.json</td><td>12a3da8f7ced.user+0+0000000010.json</td><td>102</td><td>1705682965000</td></tr><tr><td>dbfs:/mnt/s3_bucket_test/topics/12a3da8f7ced.user/partition=0/12a3da8f7ced.user+0+0000000011.json</td><td>12a3da8f7ced.user+0+0000000011.json</td><td>101</td><td>1705682968000</td></tr><tr><td>dbfs:/mnt/s3_bucket_test/topics/12a3da8f7ced.user/partition=0/12a3da8f7ced.user+0+0000000012.json</td><td>12a3da8f7ced.user+0+0000000012.json</td><td>103</td><td>1705682973000</td></tr><tr><td>dbfs:/mnt/s3_bucket_test/topics/12a3da8f7ced.user/partition=0/12a3da8f7ced.user+0+0000000013.json</td><td>12a3da8f7ced.user+0+0000000013.json</td><td>103</td><td>1705682978000</td></tr><tr><td>dbfs:/mnt/s3_bucket_test/topics/12a3da8f7ced.user/partition=0/12a3da8f7ced.user+0+0000000014.json</td><td>12a3da8f7ced.user+0+0000000014.json</td><td>103</td><td>1705682982000</td></tr><tr><td>dbfs:/mnt/s3_bucket_test/topics/12a3da8f7ced.user/partition=0/12a3da8f7ced.user+0+0000000015.json</td><td>12a3da8f7ced.user+0+0000000015.json</td><td>103</td><td>1705682987000</td></tr><tr><td>dbfs:/mnt/s3_bucket_test/topics/12a3da8f7ced.user/partition=0/12a3da8f7ced.user+0+0000000016.json</td><td>12a3da8f7ced.user+0+0000000016.json</td><td>105</td><td>1705682990000</td></tr><tr><td>dbfs:/mnt/s3_bucket_test/topics/12a3da8f7ced.user/partition=0/12a3da8f7ced.user+0+0000000017.json</td><td>12a3da8f7ced.user+0+0000000017.json</td><td>104</td><td>1705682994000</td></tr><tr><td>dbfs:/mnt/s3_bucket_test/topics/12a3da8f7ced.user/partition=0/12a3da8f7ced.user+0+0000000018.json</td><td>12a3da8f7ced.user+0+0000000018.json</td><td>104</td><td>1705682997000</td></tr><tr><td>dbfs:/mnt/s3_bucket_test/topics/12a3da8f7ced.user/partition=0/12a3da8f7ced.user+0+0000000019.json</td><td>12a3da8f7ced.user+0+0000000019.json</td><td>102</td><td>1705683001000</td></tr><tr><td>dbfs:/mnt/s3_bucket_test/topics/12a3da8f7ced.user/partition=0/12a3da8f7ced.user+0+0000000020.json</td><td>12a3da8f7ced.user+0+0000000020.json</td><td>102</td><td>1705683005000</td></tr><tr><td>dbfs:/mnt/s3_bucket_test/topics/12a3da8f7ced.user/partition=0/12a3da8f7ced.user+0+0000000021.json</td><td>12a3da8f7ced.user+0+0000000021.json</td><td>102</td><td>1705683008000</td></tr><tr><td>dbfs:/mnt/s3_bucket_test/topics/12a3da8f7ced.user/partition=0/12a3da8f7ced.user+0+0000000022.json</td><td>12a3da8f7ced.user+0+0000000022.json</td><td>102</td><td>1705683011000</td></tr><tr><td>dbfs:/mnt/s3_bucket_test/topics/12a3da8f7ced.user/partition=0/12a3da8f7ced.user+0+0000000023.json</td><td>12a3da8f7ced.user+0+0000000023.json</td><td>104</td><td>1705683016000</td></tr><tr><td>dbfs:/mnt/s3_bucket_test/topics/12a3da8f7ced.user/partition=0/12a3da8f7ced.user+0+0000000024.json</td><td>12a3da8f7ced.user+0+0000000024.json</td><td>101</td><td>1706033266000</td></tr><tr><td>dbfs:/mnt/s3_bucket_test/topics/12a3da8f7ced.user/partition=0/12a3da8f7ced.user+0+0000000025.json</td><td>12a3da8f7ced.user+0+0000000025.json</td><td>102</td><td>1706033272000</td></tr><tr><td>dbfs:/mnt/s3_bucket_test/topics/12a3da8f7ced.user/partition=0/12a3da8f7ced.user+0+0000000026.json</td><td>12a3da8f7ced.user+0+0000000026.json</td><td>102</td><td>1706033280000</td></tr><tr><td>dbfs:/mnt/s3_bucket_test/topics/12a3da8f7ced.user/partition=0/12a3da8f7ced.user+0+0000000027.json</td><td>12a3da8f7ced.user+0+0000000027.json</td><td>103</td><td>1706033286000</td></tr><tr><td>dbfs:/mnt/s3_bucket_test/topics/12a3da8f7ced.user/partition=0/12a3da8f7ced.user+0+0000000028.json</td><td>12a3da8f7ced.user+0+0000000028.json</td><td>106</td><td>1706033290000</td></tr><tr><td>dbfs:/mnt/s3_bucket_test/topics/12a3da8f7ced.user/partition=0/12a3da8f7ced.user+0+0000000029.json</td><td>12a3da8f7ced.user+0+0000000029.json</td><td>104</td><td>1706033294000</td></tr><tr><td>dbfs:/mnt/s3_bucket_test/topics/12a3da8f7ced.user/partition=0/12a3da8f7ced.user+0+0000000030.json</td><td>12a3da8f7ced.user+0+0000000030.json</td><td>105</td><td>1706033300000</td></tr><tr><td>dbfs:/mnt/s3_bucket_test/topics/12a3da8f7ced.user/partition=0/12a3da8f7ced.user+0+0000000031.json</td><td>12a3da8f7ced.user+0+0000000031.json</td><td>104</td><td>1706033305000</td></tr><tr><td>dbfs:/mnt/s3_bucket_test/topics/12a3da8f7ced.user/partition=0/12a3da8f7ced.user+0+0000000032.json</td><td>12a3da8f7ced.user+0+0000000032.json</td><td>100</td><td>1706033310000</td></tr><tr><td>dbfs:/mnt/s3_bucket_test/topics/12a3da8f7ced.user/partition=0/12a3da8f7ced.user+0+0000000033.json</td><td>12a3da8f7ced.user+0+0000000033.json</td><td>101</td><td>1706033314000</td></tr><tr><td>dbfs:/mnt/s3_bucket_test/topics/12a3da8f7ced.user/partition=0/12a3da8f7ced.user+0+0000000034.json</td><td>12a3da8f7ced.user+0+0000000034.json</td><td>102</td><td>1706033320000</td></tr><tr><td>dbfs:/mnt/s3_bucket_test/topics/12a3da8f7ced.user/partition=0/12a3da8f7ced.user+0+0000000035.json</td><td>12a3da8f7ced.user+0+0000000035.json</td><td>101</td><td>1706033324000</td></tr><tr><td>dbfs:/mnt/s3_bucket_test/topics/12a3da8f7ced.user/partition=0/12a3da8f7ced.user+0+0000000036.json</td><td>12a3da8f7ced.user+0+0000000036.json</td><td>103</td><td>1706033329000</td></tr><tr><td>dbfs:/mnt/s3_bucket_test/topics/12a3da8f7ced.user/partition=0/12a3da8f7ced.user+0+0000000037.json</td><td>12a3da8f7ced.user+0+0000000037.json</td><td>103</td><td>1706033334000</td></tr><tr><td>dbfs:/mnt/s3_bucket_test/topics/12a3da8f7ced.user/partition=0/12a3da8f7ced.user+0+0000000038.json</td><td>12a3da8f7ced.user+0+0000000038.json</td><td>103</td><td>1706033340000</td></tr><tr><td>dbfs:/mnt/s3_bucket_test/topics/12a3da8f7ced.user/partition=0/12a3da8f7ced.user+0+0000000039.json</td><td>12a3da8f7ced.user+0+0000000039.json</td><td>103</td><td>1706033345000</td></tr><tr><td>dbfs:/mnt/s3_bucket_test/topics/12a3da8f7ced.user/partition=0/12a3da8f7ced.user+0+0000000040.json</td><td>12a3da8f7ced.user+0+0000000040.json</td><td>105</td><td>1706033351000</td></tr><tr><td>dbfs:/mnt/s3_bucket_test/topics/12a3da8f7ced.user/partition=0/12a3da8f7ced.user+0+0000000041.json</td><td>12a3da8f7ced.user+0+0000000041.json</td><td>104</td><td>1706033355000</td></tr><tr><td>dbfs:/mnt/s3_bucket_test/topics/12a3da8f7ced.user/partition=0/12a3da8f7ced.user+0+0000000042.json</td><td>12a3da8f7ced.user+0+0000000042.json</td><td>104</td><td>1706033359000</td></tr><tr><td>dbfs:/mnt/s3_bucket_test/topics/12a3da8f7ced.user/partition=0/12a3da8f7ced.user+0+0000000043.json</td><td>12a3da8f7ced.user+0+0000000043.json</td><td>102</td><td>1706033364000</td></tr><tr><td>dbfs:/mnt/s3_bucket_test/topics/12a3da8f7ced.user/partition=0/12a3da8f7ced.user+0+0000000044.json</td><td>12a3da8f7ced.user+0+0000000044.json</td><td>102</td><td>1706033368000</td></tr><tr><td>dbfs:/mnt/s3_bucket_test/topics/12a3da8f7ced.user/partition=0/12a3da8f7ced.user+0+0000000045.json</td><td>12a3da8f7ced.user+0+0000000045.json</td><td>102</td><td>1706033373000</td></tr><tr><td>dbfs:/mnt/s3_bucket_test/topics/12a3da8f7ced.user/partition=0/12a3da8f7ced.user+0+0000000046.json</td><td>12a3da8f7ced.user+0+0000000046.json</td><td>102</td><td>1706033377000</td></tr><tr><td>dbfs:/mnt/s3_bucket_test/topics/12a3da8f7ced.user/partition=0/12a3da8f7ced.user+0+0000000047.json</td><td>12a3da8f7ced.user+0+0000000047.json</td><td>104</td><td>1706033385000</td></tr><tr><td>dbfs:/mnt/s3_bucket_test/topics/12a3da8f7ced.user/partition=0/12a3da8f7ced.user+0+0000000048.json</td><td>12a3da8f7ced.user+0+0000000048.json</td><td>103</td><td>1706033389000</td></tr><tr><td>dbfs:/mnt/s3_bucket_test/topics/12a3da8f7ced.user/partition=0/12a3da8f7ced.user+0+0000000049.json</td><td>12a3da8f7ced.user+0+0000000049.json</td><td>102</td><td>1706033395000</td></tr><tr><td>dbfs:/mnt/s3_bucket_test/topics/12a3da8f7ced.user/partition=0/12a3da8f7ced.user+0+0000000050.json</td><td>12a3da8f7ced.user+0+0000000050.json</td><td>105</td><td>1706033400000</td></tr><tr><td>dbfs:/mnt/s3_bucket_test/topics/12a3da8f7ced.user/partition=0/12a3da8f7ced.user+0+0000000051.json</td><td>12a3da8f7ced.user+0+0000000051.json</td><td>101</td><td>1706033406000</td></tr><tr><td>dbfs:/mnt/s3_bucket_test/topics/12a3da8f7ced.user/partition=0/12a3da8f7ced.user+0+0000000052.json</td><td>12a3da8f7ced.user+0+0000000052.json</td><td>106</td><td>1706033412000</td></tr><tr><td>dbfs:/mnt/s3_bucket_test/topics/12a3da8f7ced.user/partition=0/12a3da8f7ced.user+0+0000000053.json</td><td>12a3da8f7ced.user+0+0000000053.json</td><td>102</td><td>1706033417000</td></tr><tr><td>dbfs:/mnt/s3_bucket_test/topics/12a3da8f7ced.user/partition=0/12a3da8f7ced.user+0+0000000054.json</td><td>12a3da8f7ced.user+0+0000000054.json</td><td>104</td><td>1706033423000</td></tr><tr><td>dbfs:/mnt/s3_bucket_test/topics/12a3da8f7ced.user/partition=0/12a3da8f7ced.user+0+0000000055.json</td><td>12a3da8f7ced.user+0+0000000055.json</td><td>103</td><td>1706033427000</td></tr><tr><td>dbfs:/mnt/s3_bucket_test/topics/12a3da8f7ced.user/partition=0/12a3da8f7ced.user+0+0000000056.json</td><td>12a3da8f7ced.user+0+0000000056.json</td><td>104</td><td>1706033433000</td></tr><tr><td>dbfs:/mnt/s3_bucket_test/topics/12a3da8f7ced.user/partition=0/12a3da8f7ced.user+0+0000000057.json</td><td>12a3da8f7ced.user+0+0000000057.json</td><td>101</td><td>1706033436000</td></tr><tr><td>dbfs:/mnt/s3_bucket_test/topics/12a3da8f7ced.user/partition=0/12a3da8f7ced.user+0+0000000058.json</td><td>12a3da8f7ced.user+0+0000000058.json</td><td>101</td><td>1706033442000</td></tr><tr><td>dbfs:/mnt/s3_bucket_test/topics/12a3da8f7ced.user/partition=0/12a3da8f7ced.user+0+0000000059.json</td><td>12a3da8f7ced.user+0+0000000059.json</td><td>104</td><td>1706033447000</td></tr><tr><td>dbfs:/mnt/s3_bucket_test/topics/12a3da8f7ced.user/partition=0/12a3da8f7ced.user+0+0000000060.json</td><td>12a3da8f7ced.user+0+0000000060.json</td><td>102</td><td>1706033451000</td></tr><tr><td>dbfs:/mnt/s3_bucket_test/topics/12a3da8f7ced.user/partition=0/12a3da8f7ced.user+0+0000000061.json</td><td>12a3da8f7ced.user+0+0000000061.json</td><td>102</td><td>1706033458000</td></tr><tr><td>dbfs:/mnt/s3_bucket_test/topics/12a3da8f7ced.user/partition=0/12a3da8f7ced.user+0+0000000062.json</td><td>12a3da8f7ced.user+0+0000000062.json</td><td>104</td><td>1706033461000</td></tr><tr><td>dbfs:/mnt/s3_bucket_test/topics/12a3da8f7ced.user/partition=0/12a3da8f7ced.user+0+0000000063.json</td><td>12a3da8f7ced.user+0+0000000063.json</td><td>102</td><td>1706033466000</td></tr><tr><td>dbfs:/mnt/s3_bucket_test/topics/12a3da8f7ced.user/partition=0/12a3da8f7ced.user+0+0000000064.json</td><td>12a3da8f7ced.user+0+0000000064.json</td><td>108</td><td>1706033474000</td></tr><tr><td>dbfs:/mnt/s3_bucket_test/topics/12a3da8f7ced.user/partition=0/12a3da8f7ced.user+0+0000000065.json</td><td>12a3da8f7ced.user+0+0000000065.json</td><td>100</td><td>1706033479000</td></tr><tr><td>dbfs:/mnt/s3_bucket_test/topics/12a3da8f7ced.user/partition=0/12a3da8f7ced.user+0+0000000066.json</td><td>12a3da8f7ced.user+0+0000000066.json</td><td>101</td><td>1706033484000</td></tr><tr><td>dbfs:/mnt/s3_bucket_test/topics/12a3da8f7ced.user/partition=0/12a3da8f7ced.user+0+0000000067.json</td><td>12a3da8f7ced.user+0+0000000067.json</td><td>101</td><td>1706033489000</td></tr><tr><td>dbfs:/mnt/s3_bucket_test/topics/12a3da8f7ced.user/partition=0/12a3da8f7ced.user+0+0000000068.json</td><td>12a3da8f7ced.user+0+0000000068.json</td><td>108</td><td>1706033496000</td></tr><tr><td>dbfs:/mnt/s3_bucket_test/topics/12a3da8f7ced.user/partition=0/12a3da8f7ced.user+0+0000000069.json</td><td>12a3da8f7ced.user+0+0000000069.json</td><td>102</td><td>1706033502000</td></tr><tr><td>dbfs:/mnt/s3_bucket_test/topics/12a3da8f7ced.user/partition=0/12a3da8f7ced.user+0+0000000070.json</td><td>12a3da8f7ced.user+0+0000000070.json</td><td>103</td><td>1706033508000</td></tr><tr><td>dbfs:/mnt/s3_bucket_test/topics/12a3da8f7ced.user/partition=0/12a3da8f7ced.user+0+0000000071.json</td><td>12a3da8f7ced.user+0+0000000071.json</td><td>101</td><td>1706033514000</td></tr><tr><td>dbfs:/mnt/s3_bucket_test/topics/12a3da8f7ced.user/partition=0/12a3da8f7ced.user+0+0000000072.json</td><td>12a3da8f7ced.user+0+0000000072.json</td><td>100</td><td>1706033520000</td></tr><tr><td>dbfs:/mnt/s3_bucket_test/topics/12a3da8f7ced.user/partition=0/12a3da8f7ced.user+0+0000000073.json</td><td>12a3da8f7ced.user+0+0000000073.json</td><td>100</td><td>1706033527000</td></tr><tr><td>dbfs:/mnt/s3_bucket_test/topics/12a3da8f7ced.user/partition=0/12a3da8f7ced.user+0+0000000074.json</td><td>12a3da8f7ced.user+0+0000000074.json</td><td>105</td><td>1706033535000</td></tr><tr><td>dbfs:/mnt/s3_bucket_test/topics/12a3da8f7ced.user/partition=0/12a3da8f7ced.user+0+0000000075.json</td><td>12a3da8f7ced.user+0+0000000075.json</td><td>103</td><td>1706033541000</td></tr><tr><td>dbfs:/mnt/s3_bucket_test/topics/12a3da8f7ced.user/partition=0/12a3da8f7ced.user+0+0000000076.json</td><td>12a3da8f7ced.user+0+0000000076.json</td><td>103</td><td>1706033545000</td></tr><tr><td>dbfs:/mnt/s3_bucket_test/topics/12a3da8f7ced.user/partition=0/12a3da8f7ced.user+0+0000000077.json</td><td>12a3da8f7ced.user+0+0000000077.json</td><td>104</td><td>1706033551000</td></tr><tr><td>dbfs:/mnt/s3_bucket_test/topics/12a3da8f7ced.user/partition=0/12a3da8f7ced.user+0+0000000078.json</td><td>12a3da8f7ced.user+0+0000000078.json</td><td>102</td><td>1706033556000</td></tr><tr><td>dbfs:/mnt/s3_bucket_test/topics/12a3da8f7ced.user/partition=0/12a3da8f7ced.user+0+0000000079.json</td><td>12a3da8f7ced.user+0+0000000079.json</td><td>104</td><td>1706033559000</td></tr><tr><td>dbfs:/mnt/s3_bucket_test/topics/12a3da8f7ced.user/partition=0/12a3da8f7ced.user+0+0000000080.json</td><td>12a3da8f7ced.user+0+0000000080.json</td><td>99</td><td>1706033563000</td></tr><tr><td>dbfs:/mnt/s3_bucket_test/topics/12a3da8f7ced.user/partition=0/12a3da8f7ced.user+0+0000000081.json</td><td>12a3da8f7ced.user+0+0000000081.json</td><td>108</td><td>1706033567000</td></tr><tr><td>dbfs:/mnt/s3_bucket_test/topics/12a3da8f7ced.user/partition=0/12a3da8f7ced.user+0+0000000082.json</td><td>12a3da8f7ced.user+0+0000000082.json</td><td>110</td><td>1706033571000</td></tr><tr><td>dbfs:/mnt/s3_bucket_test/topics/12a3da8f7ced.user/partition=0/12a3da8f7ced.user+0+0000000083.json</td><td>12a3da8f7ced.user+0+0000000083.json</td><td>101</td><td>1706033577000</td></tr><tr><td>dbfs:/mnt/s3_bucket_test/topics/12a3da8f7ced.user/partition=0/12a3da8f7ced.user+0+0000000084.json</td><td>12a3da8f7ced.user+0+0000000084.json</td><td>104</td><td>1706033582000</td></tr><tr><td>dbfs:/mnt/s3_bucket_test/topics/12a3da8f7ced.user/partition=0/12a3da8f7ced.user+0+0000000085.json</td><td>12a3da8f7ced.user+0+0000000085.json</td><td>106</td><td>1706033587000</td></tr><tr><td>dbfs:/mnt/s3_bucket_test/topics/12a3da8f7ced.user/partition=0/12a3da8f7ced.user+0+0000000086.json</td><td>12a3da8f7ced.user+0+0000000086.json</td><td>104</td><td>1706033593000</td></tr><tr><td>dbfs:/mnt/s3_bucket_test/topics/12a3da8f7ced.user/partition=0/12a3da8f7ced.user+0+0000000087.json</td><td>12a3da8f7ced.user+0+0000000087.json</td><td>98</td><td>1706033598000</td></tr><tr><td>dbfs:/mnt/s3_bucket_test/topics/12a3da8f7ced.user/partition=0/12a3da8f7ced.user+0+0000000088.json</td><td>12a3da8f7ced.user+0+0000000088.json</td><td>103</td><td>1706033602000</td></tr><tr><td>dbfs:/mnt/s3_bucket_test/topics/12a3da8f7ced.user/partition=0/12a3da8f7ced.user+0+0000000089.json</td><td>12a3da8f7ced.user+0+0000000089.json</td><td>103</td><td>1706033607000</td></tr><tr><td>dbfs:/mnt/s3_bucket_test/topics/12a3da8f7ced.user/partition=0/12a3da8f7ced.user+0+0000000090.json</td><td>12a3da8f7ced.user+0+0000000090.json</td><td>103</td><td>1706033612000</td></tr><tr><td>dbfs:/mnt/s3_bucket_test/topics/12a3da8f7ced.user/partition=0/12a3da8f7ced.user+0+0000000091.json</td><td>12a3da8f7ced.user+0+0000000091.json</td><td>104</td><td>1706033618000</td></tr><tr><td>dbfs:/mnt/s3_bucket_test/topics/12a3da8f7ced.user/partition=0/12a3da8f7ced.user+0+0000000092.json</td><td>12a3da8f7ced.user+0+0000000092.json</td><td>105</td><td>1706033623000</td></tr><tr><td>dbfs:/mnt/s3_bucket_test/topics/12a3da8f7ced.user/partition=0/12a3da8f7ced.user+0+0000000093.json</td><td>12a3da8f7ced.user+0+0000000093.json</td><td>104</td><td>1706033629000</td></tr><tr><td>dbfs:/mnt/s3_bucket_test/topics/12a3da8f7ced.user/partition=0/12a3da8f7ced.user+0+0000000094.json</td><td>12a3da8f7ced.user+0+0000000094.json</td><td>105</td><td>1706033633000</td></tr><tr><td>dbfs:/mnt/s3_bucket_test/topics/12a3da8f7ced.user/partition=0/12a3da8f7ced.user+0+0000000095.json</td><td>12a3da8f7ced.user+0+0000000095.json</td><td>109</td><td>1706033640000</td></tr><tr><td>dbfs:/mnt/s3_bucket_test/topics/12a3da8f7ced.user/partition=0/12a3da8f7ced.user+0+0000000096.json</td><td>12a3da8f7ced.user+0+0000000096.json</td><td>99</td><td>1706033646000</td></tr><tr><td>dbfs:/mnt/s3_bucket_test/topics/12a3da8f7ced.user/partition=0/12a3da8f7ced.user+0+0000000097.json</td><td>12a3da8f7ced.user+0+0000000097.json</td><td>103</td><td>1706033650000</td></tr><tr><td>dbfs:/mnt/s3_bucket_test/topics/12a3da8f7ced.user/partition=0/12a3da8f7ced.user+0+0000000098.json</td><td>12a3da8f7ced.user+0+0000000098.json</td><td>98</td><td>1706033654000</td></tr><tr><td>dbfs:/mnt/s3_bucket_test/topics/12a3da8f7ced.user/partition=0/12a3da8f7ced.user+0+0000000099.json</td><td>12a3da8f7ced.user+0+0000000099.json</td><td>104</td><td>1706033659000</td></tr><tr><td>dbfs:/mnt/s3_bucket_test/topics/12a3da8f7ced.user/partition=0/12a3da8f7ced.user+0+0000000100.json</td><td>12a3da8f7ced.user+0+0000000100.json</td><td>100</td><td>1706033663000</td></tr><tr><td>dbfs:/mnt/s3_bucket_test/topics/12a3da8f7ced.user/partition=0/12a3da8f7ced.user+0+0000000101.json</td><td>12a3da8f7ced.user+0+0000000101.json</td><td>109</td><td>1706033667000</td></tr><tr><td>dbfs:/mnt/s3_bucket_test/topics/12a3da8f7ced.user/partition=0/12a3da8f7ced.user+0+0000000102.json</td><td>12a3da8f7ced.user+0+0000000102.json</td><td>105</td><td>1706033673000</td></tr><tr><td>dbfs:/mnt/s3_bucket_test/topics/12a3da8f7ced.user/partition=0/12a3da8f7ced.user+0+0000000103.json</td><td>12a3da8f7ced.user+0+0000000103.json</td><td>102</td><td>1706033677000</td></tr><tr><td>dbfs:/mnt/s3_bucket_test/topics/12a3da8f7ced.user/partition=0/12a3da8f7ced.user+0+0000000104.json</td><td>12a3da8f7ced.user+0+0000000104.json</td><td>100</td><td>1706033683000</td></tr><tr><td>dbfs:/mnt/s3_bucket_test/topics/12a3da8f7ced.user/partition=0/12a3da8f7ced.user+0+0000000105.json</td><td>12a3da8f7ced.user+0+0000000105.json</td><td>103</td><td>1706033688000</td></tr><tr><td>dbfs:/mnt/s3_bucket_test/topics/12a3da8f7ced.user/partition=0/12a3da8f7ced.user+0+0000000106.json</td><td>12a3da8f7ced.user+0+0000000106.json</td><td>102</td><td>1706033692000</td></tr><tr><td>dbfs:/mnt/s3_bucket_test/topics/12a3da8f7ced.user/partition=0/12a3da8f7ced.user+0+0000000107.json</td><td>12a3da8f7ced.user+0+0000000107.json</td><td>107</td><td>1706033695000</td></tr><tr><td>dbfs:/mnt/s3_bucket_test/topics/12a3da8f7ced.user/partition=0/12a3da8f7ced.user+0+0000000108.json</td><td>12a3da8f7ced.user+0+0000000108.json</td><td>105</td><td>1706033700000</td></tr></tbody></table></div>"
      ]
     },
     "metadata": {
      "application/vnd.databricks.v1+output": {
       "addedWidgets": {},
       "aggData": [],
       "aggError": "",
       "aggOverflow": false,
       "aggSchema": [],
       "aggSeriesLimitReached": false,
       "aggType": "",
       "arguments": {},
       "columnCustomDisplayInfos": {},
       "data": [
        [
         "dbfs:/mnt/s3_bucket_test/topics/12a3da8f7ced.user/partition=0/12a3da8f7ced.user+0+0000000000.json",
         "12a3da8f7ced.user+0+0000000000.json",
         101,
         1705682925000
        ],
        [
         "dbfs:/mnt/s3_bucket_test/topics/12a3da8f7ced.user/partition=0/12a3da8f7ced.user+0+0000000001.json",
         "12a3da8f7ced.user+0+0000000001.json",
         102,
         1705682930000
        ],
        [
         "dbfs:/mnt/s3_bucket_test/topics/12a3da8f7ced.user/partition=0/12a3da8f7ced.user+0+0000000002.json",
         "12a3da8f7ced.user+0+0000000002.json",
         102,
         1705682942000
        ],
        [
         "dbfs:/mnt/s3_bucket_test/topics/12a3da8f7ced.user/partition=0/12a3da8f7ced.user+0+0000000003.json",
         "12a3da8f7ced.user+0+0000000003.json",
         103,
         1705682942000
        ],
        [
         "dbfs:/mnt/s3_bucket_test/topics/12a3da8f7ced.user/partition=0/12a3da8f7ced.user+0+0000000004.json",
         "12a3da8f7ced.user+0+0000000004.json",
         106,
         1705682943000
        ],
        [
         "dbfs:/mnt/s3_bucket_test/topics/12a3da8f7ced.user/partition=0/12a3da8f7ced.user+0+0000000005.json",
         "12a3da8f7ced.user+0+0000000005.json",
         104,
         1705682947000
        ],
        [
         "dbfs:/mnt/s3_bucket_test/topics/12a3da8f7ced.user/partition=0/12a3da8f7ced.user+0+0000000006.json",
         "12a3da8f7ced.user+0+0000000006.json",
         105,
         1705682951000
        ],
        [
         "dbfs:/mnt/s3_bucket_test/topics/12a3da8f7ced.user/partition=0/12a3da8f7ced.user+0+0000000007.json",
         "12a3da8f7ced.user+0+0000000007.json",
         104,
         1705682954000
        ],
        [
         "dbfs:/mnt/s3_bucket_test/topics/12a3da8f7ced.user/partition=0/12a3da8f7ced.user+0+0000000008.json",
         "12a3da8f7ced.user+0+0000000008.json",
         100,
         1705682958000
        ],
        [
         "dbfs:/mnt/s3_bucket_test/topics/12a3da8f7ced.user/partition=0/12a3da8f7ced.user+0+0000000009.json",
         "12a3da8f7ced.user+0+0000000009.json",
         101,
         1705682961000
        ],
        [
         "dbfs:/mnt/s3_bucket_test/topics/12a3da8f7ced.user/partition=0/12a3da8f7ced.user+0+0000000010.json",
         "12a3da8f7ced.user+0+0000000010.json",
         102,
         1705682965000
        ],
        [
         "dbfs:/mnt/s3_bucket_test/topics/12a3da8f7ced.user/partition=0/12a3da8f7ced.user+0+0000000011.json",
         "12a3da8f7ced.user+0+0000000011.json",
         101,
         1705682968000
        ],
        [
         "dbfs:/mnt/s3_bucket_test/topics/12a3da8f7ced.user/partition=0/12a3da8f7ced.user+0+0000000012.json",
         "12a3da8f7ced.user+0+0000000012.json",
         103,
         1705682973000
        ],
        [
         "dbfs:/mnt/s3_bucket_test/topics/12a3da8f7ced.user/partition=0/12a3da8f7ced.user+0+0000000013.json",
         "12a3da8f7ced.user+0+0000000013.json",
         103,
         1705682978000
        ],
        [
         "dbfs:/mnt/s3_bucket_test/topics/12a3da8f7ced.user/partition=0/12a3da8f7ced.user+0+0000000014.json",
         "12a3da8f7ced.user+0+0000000014.json",
         103,
         1705682982000
        ],
        [
         "dbfs:/mnt/s3_bucket_test/topics/12a3da8f7ced.user/partition=0/12a3da8f7ced.user+0+0000000015.json",
         "12a3da8f7ced.user+0+0000000015.json",
         103,
         1705682987000
        ],
        [
         "dbfs:/mnt/s3_bucket_test/topics/12a3da8f7ced.user/partition=0/12a3da8f7ced.user+0+0000000016.json",
         "12a3da8f7ced.user+0+0000000016.json",
         105,
         1705682990000
        ],
        [
         "dbfs:/mnt/s3_bucket_test/topics/12a3da8f7ced.user/partition=0/12a3da8f7ced.user+0+0000000017.json",
         "12a3da8f7ced.user+0+0000000017.json",
         104,
         1705682994000
        ],
        [
         "dbfs:/mnt/s3_bucket_test/topics/12a3da8f7ced.user/partition=0/12a3da8f7ced.user+0+0000000018.json",
         "12a3da8f7ced.user+0+0000000018.json",
         104,
         1705682997000
        ],
        [
         "dbfs:/mnt/s3_bucket_test/topics/12a3da8f7ced.user/partition=0/12a3da8f7ced.user+0+0000000019.json",
         "12a3da8f7ced.user+0+0000000019.json",
         102,
         1705683001000
        ],
        [
         "dbfs:/mnt/s3_bucket_test/topics/12a3da8f7ced.user/partition=0/12a3da8f7ced.user+0+0000000020.json",
         "12a3da8f7ced.user+0+0000000020.json",
         102,
         1705683005000
        ],
        [
         "dbfs:/mnt/s3_bucket_test/topics/12a3da8f7ced.user/partition=0/12a3da8f7ced.user+0+0000000021.json",
         "12a3da8f7ced.user+0+0000000021.json",
         102,
         1705683008000
        ],
        [
         "dbfs:/mnt/s3_bucket_test/topics/12a3da8f7ced.user/partition=0/12a3da8f7ced.user+0+0000000022.json",
         "12a3da8f7ced.user+0+0000000022.json",
         102,
         1705683011000
        ],
        [
         "dbfs:/mnt/s3_bucket_test/topics/12a3da8f7ced.user/partition=0/12a3da8f7ced.user+0+0000000023.json",
         "12a3da8f7ced.user+0+0000000023.json",
         104,
         1705683016000
        ],
        [
         "dbfs:/mnt/s3_bucket_test/topics/12a3da8f7ced.user/partition=0/12a3da8f7ced.user+0+0000000024.json",
         "12a3da8f7ced.user+0+0000000024.json",
         101,
         1706033266000
        ],
        [
         "dbfs:/mnt/s3_bucket_test/topics/12a3da8f7ced.user/partition=0/12a3da8f7ced.user+0+0000000025.json",
         "12a3da8f7ced.user+0+0000000025.json",
         102,
         1706033272000
        ],
        [
         "dbfs:/mnt/s3_bucket_test/topics/12a3da8f7ced.user/partition=0/12a3da8f7ced.user+0+0000000026.json",
         "12a3da8f7ced.user+0+0000000026.json",
         102,
         1706033280000
        ],
        [
         "dbfs:/mnt/s3_bucket_test/topics/12a3da8f7ced.user/partition=0/12a3da8f7ced.user+0+0000000027.json",
         "12a3da8f7ced.user+0+0000000027.json",
         103,
         1706033286000
        ],
        [
         "dbfs:/mnt/s3_bucket_test/topics/12a3da8f7ced.user/partition=0/12a3da8f7ced.user+0+0000000028.json",
         "12a3da8f7ced.user+0+0000000028.json",
         106,
         1706033290000
        ],
        [
         "dbfs:/mnt/s3_bucket_test/topics/12a3da8f7ced.user/partition=0/12a3da8f7ced.user+0+0000000029.json",
         "12a3da8f7ced.user+0+0000000029.json",
         104,
         1706033294000
        ],
        [
         "dbfs:/mnt/s3_bucket_test/topics/12a3da8f7ced.user/partition=0/12a3da8f7ced.user+0+0000000030.json",
         "12a3da8f7ced.user+0+0000000030.json",
         105,
         1706033300000
        ],
        [
         "dbfs:/mnt/s3_bucket_test/topics/12a3da8f7ced.user/partition=0/12a3da8f7ced.user+0+0000000031.json",
         "12a3da8f7ced.user+0+0000000031.json",
         104,
         1706033305000
        ],
        [
         "dbfs:/mnt/s3_bucket_test/topics/12a3da8f7ced.user/partition=0/12a3da8f7ced.user+0+0000000032.json",
         "12a3da8f7ced.user+0+0000000032.json",
         100,
         1706033310000
        ],
        [
         "dbfs:/mnt/s3_bucket_test/topics/12a3da8f7ced.user/partition=0/12a3da8f7ced.user+0+0000000033.json",
         "12a3da8f7ced.user+0+0000000033.json",
         101,
         1706033314000
        ],
        [
         "dbfs:/mnt/s3_bucket_test/topics/12a3da8f7ced.user/partition=0/12a3da8f7ced.user+0+0000000034.json",
         "12a3da8f7ced.user+0+0000000034.json",
         102,
         1706033320000
        ],
        [
         "dbfs:/mnt/s3_bucket_test/topics/12a3da8f7ced.user/partition=0/12a3da8f7ced.user+0+0000000035.json",
         "12a3da8f7ced.user+0+0000000035.json",
         101,
         1706033324000
        ],
        [
         "dbfs:/mnt/s3_bucket_test/topics/12a3da8f7ced.user/partition=0/12a3da8f7ced.user+0+0000000036.json",
         "12a3da8f7ced.user+0+0000000036.json",
         103,
         1706033329000
        ],
        [
         "dbfs:/mnt/s3_bucket_test/topics/12a3da8f7ced.user/partition=0/12a3da8f7ced.user+0+0000000037.json",
         "12a3da8f7ced.user+0+0000000037.json",
         103,
         1706033334000
        ],
        [
         "dbfs:/mnt/s3_bucket_test/topics/12a3da8f7ced.user/partition=0/12a3da8f7ced.user+0+0000000038.json",
         "12a3da8f7ced.user+0+0000000038.json",
         103,
         1706033340000
        ],
        [
         "dbfs:/mnt/s3_bucket_test/topics/12a3da8f7ced.user/partition=0/12a3da8f7ced.user+0+0000000039.json",
         "12a3da8f7ced.user+0+0000000039.json",
         103,
         1706033345000
        ],
        [
         "dbfs:/mnt/s3_bucket_test/topics/12a3da8f7ced.user/partition=0/12a3da8f7ced.user+0+0000000040.json",
         "12a3da8f7ced.user+0+0000000040.json",
         105,
         1706033351000
        ],
        [
         "dbfs:/mnt/s3_bucket_test/topics/12a3da8f7ced.user/partition=0/12a3da8f7ced.user+0+0000000041.json",
         "12a3da8f7ced.user+0+0000000041.json",
         104,
         1706033355000
        ],
        [
         "dbfs:/mnt/s3_bucket_test/topics/12a3da8f7ced.user/partition=0/12a3da8f7ced.user+0+0000000042.json",
         "12a3da8f7ced.user+0+0000000042.json",
         104,
         1706033359000
        ],
        [
         "dbfs:/mnt/s3_bucket_test/topics/12a3da8f7ced.user/partition=0/12a3da8f7ced.user+0+0000000043.json",
         "12a3da8f7ced.user+0+0000000043.json",
         102,
         1706033364000
        ],
        [
         "dbfs:/mnt/s3_bucket_test/topics/12a3da8f7ced.user/partition=0/12a3da8f7ced.user+0+0000000044.json",
         "12a3da8f7ced.user+0+0000000044.json",
         102,
         1706033368000
        ],
        [
         "dbfs:/mnt/s3_bucket_test/topics/12a3da8f7ced.user/partition=0/12a3da8f7ced.user+0+0000000045.json",
         "12a3da8f7ced.user+0+0000000045.json",
         102,
         1706033373000
        ],
        [
         "dbfs:/mnt/s3_bucket_test/topics/12a3da8f7ced.user/partition=0/12a3da8f7ced.user+0+0000000046.json",
         "12a3da8f7ced.user+0+0000000046.json",
         102,
         1706033377000
        ],
        [
         "dbfs:/mnt/s3_bucket_test/topics/12a3da8f7ced.user/partition=0/12a3da8f7ced.user+0+0000000047.json",
         "12a3da8f7ced.user+0+0000000047.json",
         104,
         1706033385000
        ],
        [
         "dbfs:/mnt/s3_bucket_test/topics/12a3da8f7ced.user/partition=0/12a3da8f7ced.user+0+0000000048.json",
         "12a3da8f7ced.user+0+0000000048.json",
         103,
         1706033389000
        ],
        [
         "dbfs:/mnt/s3_bucket_test/topics/12a3da8f7ced.user/partition=0/12a3da8f7ced.user+0+0000000049.json",
         "12a3da8f7ced.user+0+0000000049.json",
         102,
         1706033395000
        ],
        [
         "dbfs:/mnt/s3_bucket_test/topics/12a3da8f7ced.user/partition=0/12a3da8f7ced.user+0+0000000050.json",
         "12a3da8f7ced.user+0+0000000050.json",
         105,
         1706033400000
        ],
        [
         "dbfs:/mnt/s3_bucket_test/topics/12a3da8f7ced.user/partition=0/12a3da8f7ced.user+0+0000000051.json",
         "12a3da8f7ced.user+0+0000000051.json",
         101,
         1706033406000
        ],
        [
         "dbfs:/mnt/s3_bucket_test/topics/12a3da8f7ced.user/partition=0/12a3da8f7ced.user+0+0000000052.json",
         "12a3da8f7ced.user+0+0000000052.json",
         106,
         1706033412000
        ],
        [
         "dbfs:/mnt/s3_bucket_test/topics/12a3da8f7ced.user/partition=0/12a3da8f7ced.user+0+0000000053.json",
         "12a3da8f7ced.user+0+0000000053.json",
         102,
         1706033417000
        ],
        [
         "dbfs:/mnt/s3_bucket_test/topics/12a3da8f7ced.user/partition=0/12a3da8f7ced.user+0+0000000054.json",
         "12a3da8f7ced.user+0+0000000054.json",
         104,
         1706033423000
        ],
        [
         "dbfs:/mnt/s3_bucket_test/topics/12a3da8f7ced.user/partition=0/12a3da8f7ced.user+0+0000000055.json",
         "12a3da8f7ced.user+0+0000000055.json",
         103,
         1706033427000
        ],
        [
         "dbfs:/mnt/s3_bucket_test/topics/12a3da8f7ced.user/partition=0/12a3da8f7ced.user+0+0000000056.json",
         "12a3da8f7ced.user+0+0000000056.json",
         104,
         1706033433000
        ],
        [
         "dbfs:/mnt/s3_bucket_test/topics/12a3da8f7ced.user/partition=0/12a3da8f7ced.user+0+0000000057.json",
         "12a3da8f7ced.user+0+0000000057.json",
         101,
         1706033436000
        ],
        [
         "dbfs:/mnt/s3_bucket_test/topics/12a3da8f7ced.user/partition=0/12a3da8f7ced.user+0+0000000058.json",
         "12a3da8f7ced.user+0+0000000058.json",
         101,
         1706033442000
        ],
        [
         "dbfs:/mnt/s3_bucket_test/topics/12a3da8f7ced.user/partition=0/12a3da8f7ced.user+0+0000000059.json",
         "12a3da8f7ced.user+0+0000000059.json",
         104,
         1706033447000
        ],
        [
         "dbfs:/mnt/s3_bucket_test/topics/12a3da8f7ced.user/partition=0/12a3da8f7ced.user+0+0000000060.json",
         "12a3da8f7ced.user+0+0000000060.json",
         102,
         1706033451000
        ],
        [
         "dbfs:/mnt/s3_bucket_test/topics/12a3da8f7ced.user/partition=0/12a3da8f7ced.user+0+0000000061.json",
         "12a3da8f7ced.user+0+0000000061.json",
         102,
         1706033458000
        ],
        [
         "dbfs:/mnt/s3_bucket_test/topics/12a3da8f7ced.user/partition=0/12a3da8f7ced.user+0+0000000062.json",
         "12a3da8f7ced.user+0+0000000062.json",
         104,
         1706033461000
        ],
        [
         "dbfs:/mnt/s3_bucket_test/topics/12a3da8f7ced.user/partition=0/12a3da8f7ced.user+0+0000000063.json",
         "12a3da8f7ced.user+0+0000000063.json",
         102,
         1706033466000
        ],
        [
         "dbfs:/mnt/s3_bucket_test/topics/12a3da8f7ced.user/partition=0/12a3da8f7ced.user+0+0000000064.json",
         "12a3da8f7ced.user+0+0000000064.json",
         108,
         1706033474000
        ],
        [
         "dbfs:/mnt/s3_bucket_test/topics/12a3da8f7ced.user/partition=0/12a3da8f7ced.user+0+0000000065.json",
         "12a3da8f7ced.user+0+0000000065.json",
         100,
         1706033479000
        ],
        [
         "dbfs:/mnt/s3_bucket_test/topics/12a3da8f7ced.user/partition=0/12a3da8f7ced.user+0+0000000066.json",
         "12a3da8f7ced.user+0+0000000066.json",
         101,
         1706033484000
        ],
        [
         "dbfs:/mnt/s3_bucket_test/topics/12a3da8f7ced.user/partition=0/12a3da8f7ced.user+0+0000000067.json",
         "12a3da8f7ced.user+0+0000000067.json",
         101,
         1706033489000
        ],
        [
         "dbfs:/mnt/s3_bucket_test/topics/12a3da8f7ced.user/partition=0/12a3da8f7ced.user+0+0000000068.json",
         "12a3da8f7ced.user+0+0000000068.json",
         108,
         1706033496000
        ],
        [
         "dbfs:/mnt/s3_bucket_test/topics/12a3da8f7ced.user/partition=0/12a3da8f7ced.user+0+0000000069.json",
         "12a3da8f7ced.user+0+0000000069.json",
         102,
         1706033502000
        ],
        [
         "dbfs:/mnt/s3_bucket_test/topics/12a3da8f7ced.user/partition=0/12a3da8f7ced.user+0+0000000070.json",
         "12a3da8f7ced.user+0+0000000070.json",
         103,
         1706033508000
        ],
        [
         "dbfs:/mnt/s3_bucket_test/topics/12a3da8f7ced.user/partition=0/12a3da8f7ced.user+0+0000000071.json",
         "12a3da8f7ced.user+0+0000000071.json",
         101,
         1706033514000
        ],
        [
         "dbfs:/mnt/s3_bucket_test/topics/12a3da8f7ced.user/partition=0/12a3da8f7ced.user+0+0000000072.json",
         "12a3da8f7ced.user+0+0000000072.json",
         100,
         1706033520000
        ],
        [
         "dbfs:/mnt/s3_bucket_test/topics/12a3da8f7ced.user/partition=0/12a3da8f7ced.user+0+0000000073.json",
         "12a3da8f7ced.user+0+0000000073.json",
         100,
         1706033527000
        ],
        [
         "dbfs:/mnt/s3_bucket_test/topics/12a3da8f7ced.user/partition=0/12a3da8f7ced.user+0+0000000074.json",
         "12a3da8f7ced.user+0+0000000074.json",
         105,
         1706033535000
        ],
        [
         "dbfs:/mnt/s3_bucket_test/topics/12a3da8f7ced.user/partition=0/12a3da8f7ced.user+0+0000000075.json",
         "12a3da8f7ced.user+0+0000000075.json",
         103,
         1706033541000
        ],
        [
         "dbfs:/mnt/s3_bucket_test/topics/12a3da8f7ced.user/partition=0/12a3da8f7ced.user+0+0000000076.json",
         "12a3da8f7ced.user+0+0000000076.json",
         103,
         1706033545000
        ],
        [
         "dbfs:/mnt/s3_bucket_test/topics/12a3da8f7ced.user/partition=0/12a3da8f7ced.user+0+0000000077.json",
         "12a3da8f7ced.user+0+0000000077.json",
         104,
         1706033551000
        ],
        [
         "dbfs:/mnt/s3_bucket_test/topics/12a3da8f7ced.user/partition=0/12a3da8f7ced.user+0+0000000078.json",
         "12a3da8f7ced.user+0+0000000078.json",
         102,
         1706033556000
        ],
        [
         "dbfs:/mnt/s3_bucket_test/topics/12a3da8f7ced.user/partition=0/12a3da8f7ced.user+0+0000000079.json",
         "12a3da8f7ced.user+0+0000000079.json",
         104,
         1706033559000
        ],
        [
         "dbfs:/mnt/s3_bucket_test/topics/12a3da8f7ced.user/partition=0/12a3da8f7ced.user+0+0000000080.json",
         "12a3da8f7ced.user+0+0000000080.json",
         99,
         1706033563000
        ],
        [
         "dbfs:/mnt/s3_bucket_test/topics/12a3da8f7ced.user/partition=0/12a3da8f7ced.user+0+0000000081.json",
         "12a3da8f7ced.user+0+0000000081.json",
         108,
         1706033567000
        ],
        [
         "dbfs:/mnt/s3_bucket_test/topics/12a3da8f7ced.user/partition=0/12a3da8f7ced.user+0+0000000082.json",
         "12a3da8f7ced.user+0+0000000082.json",
         110,
         1706033571000
        ],
        [
         "dbfs:/mnt/s3_bucket_test/topics/12a3da8f7ced.user/partition=0/12a3da8f7ced.user+0+0000000083.json",
         "12a3da8f7ced.user+0+0000000083.json",
         101,
         1706033577000
        ],
        [
         "dbfs:/mnt/s3_bucket_test/topics/12a3da8f7ced.user/partition=0/12a3da8f7ced.user+0+0000000084.json",
         "12a3da8f7ced.user+0+0000000084.json",
         104,
         1706033582000
        ],
        [
         "dbfs:/mnt/s3_bucket_test/topics/12a3da8f7ced.user/partition=0/12a3da8f7ced.user+0+0000000085.json",
         "12a3da8f7ced.user+0+0000000085.json",
         106,
         1706033587000
        ],
        [
         "dbfs:/mnt/s3_bucket_test/topics/12a3da8f7ced.user/partition=0/12a3da8f7ced.user+0+0000000086.json",
         "12a3da8f7ced.user+0+0000000086.json",
         104,
         1706033593000
        ],
        [
         "dbfs:/mnt/s3_bucket_test/topics/12a3da8f7ced.user/partition=0/12a3da8f7ced.user+0+0000000087.json",
         "12a3da8f7ced.user+0+0000000087.json",
         98,
         1706033598000
        ],
        [
         "dbfs:/mnt/s3_bucket_test/topics/12a3da8f7ced.user/partition=0/12a3da8f7ced.user+0+0000000088.json",
         "12a3da8f7ced.user+0+0000000088.json",
         103,
         1706033602000
        ],
        [
         "dbfs:/mnt/s3_bucket_test/topics/12a3da8f7ced.user/partition=0/12a3da8f7ced.user+0+0000000089.json",
         "12a3da8f7ced.user+0+0000000089.json",
         103,
         1706033607000
        ],
        [
         "dbfs:/mnt/s3_bucket_test/topics/12a3da8f7ced.user/partition=0/12a3da8f7ced.user+0+0000000090.json",
         "12a3da8f7ced.user+0+0000000090.json",
         103,
         1706033612000
        ],
        [
         "dbfs:/mnt/s3_bucket_test/topics/12a3da8f7ced.user/partition=0/12a3da8f7ced.user+0+0000000091.json",
         "12a3da8f7ced.user+0+0000000091.json",
         104,
         1706033618000
        ],
        [
         "dbfs:/mnt/s3_bucket_test/topics/12a3da8f7ced.user/partition=0/12a3da8f7ced.user+0+0000000092.json",
         "12a3da8f7ced.user+0+0000000092.json",
         105,
         1706033623000
        ],
        [
         "dbfs:/mnt/s3_bucket_test/topics/12a3da8f7ced.user/partition=0/12a3da8f7ced.user+0+0000000093.json",
         "12a3da8f7ced.user+0+0000000093.json",
         104,
         1706033629000
        ],
        [
         "dbfs:/mnt/s3_bucket_test/topics/12a3da8f7ced.user/partition=0/12a3da8f7ced.user+0+0000000094.json",
         "12a3da8f7ced.user+0+0000000094.json",
         105,
         1706033633000
        ],
        [
         "dbfs:/mnt/s3_bucket_test/topics/12a3da8f7ced.user/partition=0/12a3da8f7ced.user+0+0000000095.json",
         "12a3da8f7ced.user+0+0000000095.json",
         109,
         1706033640000
        ],
        [
         "dbfs:/mnt/s3_bucket_test/topics/12a3da8f7ced.user/partition=0/12a3da8f7ced.user+0+0000000096.json",
         "12a3da8f7ced.user+0+0000000096.json",
         99,
         1706033646000
        ],
        [
         "dbfs:/mnt/s3_bucket_test/topics/12a3da8f7ced.user/partition=0/12a3da8f7ced.user+0+0000000097.json",
         "12a3da8f7ced.user+0+0000000097.json",
         103,
         1706033650000
        ],
        [
         "dbfs:/mnt/s3_bucket_test/topics/12a3da8f7ced.user/partition=0/12a3da8f7ced.user+0+0000000098.json",
         "12a3da8f7ced.user+0+0000000098.json",
         98,
         1706033654000
        ],
        [
         "dbfs:/mnt/s3_bucket_test/topics/12a3da8f7ced.user/partition=0/12a3da8f7ced.user+0+0000000099.json",
         "12a3da8f7ced.user+0+0000000099.json",
         104,
         1706033659000
        ],
        [
         "dbfs:/mnt/s3_bucket_test/topics/12a3da8f7ced.user/partition=0/12a3da8f7ced.user+0+0000000100.json",
         "12a3da8f7ced.user+0+0000000100.json",
         100,
         1706033663000
        ],
        [
         "dbfs:/mnt/s3_bucket_test/topics/12a3da8f7ced.user/partition=0/12a3da8f7ced.user+0+0000000101.json",
         "12a3da8f7ced.user+0+0000000101.json",
         109,
         1706033667000
        ],
        [
         "dbfs:/mnt/s3_bucket_test/topics/12a3da8f7ced.user/partition=0/12a3da8f7ced.user+0+0000000102.json",
         "12a3da8f7ced.user+0+0000000102.json",
         105,
         1706033673000
        ],
        [
         "dbfs:/mnt/s3_bucket_test/topics/12a3da8f7ced.user/partition=0/12a3da8f7ced.user+0+0000000103.json",
         "12a3da8f7ced.user+0+0000000103.json",
         102,
         1706033677000
        ],
        [
         "dbfs:/mnt/s3_bucket_test/topics/12a3da8f7ced.user/partition=0/12a3da8f7ced.user+0+0000000104.json",
         "12a3da8f7ced.user+0+0000000104.json",
         100,
         1706033683000
        ],
        [
         "dbfs:/mnt/s3_bucket_test/topics/12a3da8f7ced.user/partition=0/12a3da8f7ced.user+0+0000000105.json",
         "12a3da8f7ced.user+0+0000000105.json",
         103,
         1706033688000
        ],
        [
         "dbfs:/mnt/s3_bucket_test/topics/12a3da8f7ced.user/partition=0/12a3da8f7ced.user+0+0000000106.json",
         "12a3da8f7ced.user+0+0000000106.json",
         102,
         1706033692000
        ],
        [
         "dbfs:/mnt/s3_bucket_test/topics/12a3da8f7ced.user/partition=0/12a3da8f7ced.user+0+0000000107.json",
         "12a3da8f7ced.user+0+0000000107.json",
         107,
         1706033695000
        ],
        [
         "dbfs:/mnt/s3_bucket_test/topics/12a3da8f7ced.user/partition=0/12a3da8f7ced.user+0+0000000108.json",
         "12a3da8f7ced.user+0+0000000108.json",
         105,
         1706033700000
        ]
       ],
       "datasetInfos": [],
       "dbfsResultPath": null,
       "isJsonSchema": true,
       "metadata": {},
       "overflow": false,
       "plotOptions": {
        "customPlotOptions": {},
        "displayType": "table",
        "pivotAggregation": null,
        "pivotColumns": null,
        "xColumns": null,
        "yColumns": null
       },
       "removedWidgets": [],
       "schema": [
        {
         "metadata": "{}",
         "name": "path",
         "type": "\"string\""
        },
        {
         "metadata": "{}",
         "name": "name",
         "type": "\"string\""
        },
        {
         "metadata": "{}",
         "name": "size",
         "type": "\"long\""
        },
        {
         "metadata": "{}",
         "name": "modificationTime",
         "type": "\"long\""
        }
       ],
       "type": "table"
      }
     },
     "output_type": "display_data"
    },
    {
     "output_type": "display_data",
     "data": {
      "text/html": [
       "<style scoped>\n",
       "  .table-result-container {\n",
       "    max-height: 300px;\n",
       "    overflow: auto;\n",
       "  }\n",
       "  table, th, td {\n",
       "    border: 1px solid black;\n",
       "    border-collapse: collapse;\n",
       "  }\n",
       "  th, td {\n",
       "    padding: 5px;\n",
       "  }\n",
       "  th {\n",
       "    text-align: left;\n",
       "  }\n",
       "</style><div class='table-result-container'><table class='table-result'><thead style='background-color: white'><tr><th>key</th><th>value</th></tr></thead><tbody><tr><td>spark.databricks.delta.formatCheck.enabled</td><td>false</td></tr></tbody></table></div>"
      ]
     },
     "metadata": {
      "application/vnd.databricks.v1+output": {
       "addedWidgets": {},
       "aggData": [],
       "aggError": "",
       "aggOverflow": false,
       "aggSchema": [],
       "aggSeriesLimitReached": false,
       "aggType": "",
       "arguments": {},
       "columnCustomDisplayInfos": {},
       "data": [
        [
         "spark.databricks.delta.formatCheck.enabled",
         "false"
        ]
       ],
       "datasetInfos": [],
       "dbfsResultPath": null,
       "isJsonSchema": true,
       "metadata": {},
       "overflow": false,
       "plotOptions": {
        "customPlotOptions": {},
        "displayType": "table",
        "pivotAggregation": null,
        "pivotColumns": null,
        "xColumns": null,
        "yColumns": null
       },
       "removedWidgets": [],
       "schema": [
        {
         "metadata": "{}",
         "name": "key",
         "type": "\"string\""
        },
        {
         "metadata": "{}",
         "name": "value",
         "type": "\"string\""
        }
       ],
       "type": "table"
      }
     },
     "output_type": "display_data"
    },
    {
     "output_type": "display_data",
     "data": {
      "text/html": [
       "<style scoped>\n",
       "  .table-result-container {\n",
       "    max-height: 300px;\n",
       "    overflow: auto;\n",
       "  }\n",
       "  table, th, td {\n",
       "    border: 1px solid black;\n",
       "    border-collapse: collapse;\n",
       "  }\n",
       "  th, td {\n",
       "    padding: 5px;\n",
       "  }\n",
       "  th {\n",
       "    text-align: left;\n",
       "  }\n",
       "</style><div class='table-result-container'><table class='table-result'><thead style='background-color: white'><tr><th>category</th><th>description</th><th>downloaded</th><th>follower_count</th><th>image_src</th><th>index</th><th>is_image_or_video</th><th>poster_name</th><th>save_location</th><th>tag_list</th><th>title</th><th>unique_id</th></tr></thead><tbody><tr><td>christmas</td><td>Christmas decorating ideas for porches. Beautiful holiday decor ideas for front porches both small and large. Outdoor decorations like sleds, lanterns, Christmas trees, wreaths,… </td><td>1</td><td>46k</td><td>https://i.pinimg.com/videos/thumbnails/originals/40/83/f5/4083f5b4971bf235f89a4784ab87271e.0000001.jpg</td><td>2482</td><td>video</td><td>Life on Summerhill | Home, Holiday Decor & DIY Website</td><td>Local save in /data/christmas</td><td>Diy Christmas Decorations For Home,Farmhouse Christmas Decor,Christmas Home,Christmas Holidays,Christmas Front Porches,How To Decorate For Christmas,Christmas Porch Ideas,Christmas Decorating Ideas,Large Outdoor Christmas Decorations</td><td>FORNT PORCH CHRISTMAS DECORATING IDEAS</td><td>08604f20-fa17-4b9a-9949-781717eca6cd</td></tr><tr><td>travel</td><td>This Costa Rica itinerary is the ultimate guide to spending two weeks in Costa Rica. Find out about visiting La Fortuna, Arenal, Monteverde, Naranjo, Corcovado National Park, Or… </td><td>1</td><td>10k</td><td>https://i.pinimg.com/originals/30/93/cb/3093cb01d9de2d125fda8ba5e3e41946.jpg</td><td>10138</td><td>image</td><td>Wanderlust Chloe ✈️ Travel guides, inspo and adventure travel ✈️</td><td>Local save in /data/travel</td><td>Costa Rica Travel,Rio Celeste Costa Rica,Dream Vacations,Vacation Spots,Vacation Travel,Travel Pictures,Travel Photos,Fortuna Costa Rica,Costa Rica Pictures</td><td>14 Amazing Things To Do In Costa Rica | Volcanoes, Waterfalls, Wildlife And More</td><td>927c4658-cc3f-4b92-9b5c-70743d0c238d</td></tr><tr><td>christmas</td><td>My favorite 75+ Neutral Christmas Home Decor for decorating your house during the Holiday Season in earth tones and a farmhouse, rustic style all winter. I love this modern, sim… </td><td>1</td><td>31k</td><td>https://i.pinimg.com/originals/86/84/39/868439dd894969e3abd6a2a8a9fe1e9c.jpg</td><td>2604</td><td>image</td><td>Everyday Wholesome</td><td>Local save in /data/christmas</td><td>Colorful Christmas Decorations,Colorful Christmas Tree,Christmas Centerpieces,Christmas Colors,Xmas Colors,Winter Decorations,Christmas Trends,Christmas Inspiration,Christmas Home</td><td>75+ Neutral Christmas Home Decor for the Holiday Season in Farmhouse Style using Earth Tones Modern</td><td>087b0fa9-f901-4262-aa0a-6caf234d1b35</td></tr><tr><td>diy-and-crafts</td><td>This post may contain affiliate links, read our Disclosure Policy for more information. As an Amazon Associate I earn from qualifying purchases, thank you! Make some cute handpr… </td><td>1</td><td>892k</td><td>https://i.pinimg.com/originals/ff/fe/38/fffe384f3ec18a0d87cb2d80cc8c1499.jpg</td><td>3156</td><td>image</td><td>Michelle {CraftyMorning.com}</td><td>Local save in /data/diy-and-crafts</td><td>Christmas Gifts For Parents,Christmas Decorations For Kids,Christmas Crafts For Toddlers,Preschool Christmas,Christmas Crafts For Gifts,Christmas Activities,Toddler Crafts,Kids Christmas,Christmas Feeling</td><td>Handprint Reindeer Ornaments - Crafty Morning</td><td>fa6e31a4-18c2-4eca-a6d8-e903eee2c2a4</td></tr><tr><td>diy-and-crafts</td><td>This post may contain affiliate links, read our Disclosure Policy for more information. As an Amazon Associate I earn from qualifying purchases, thank you! Make some cute handpr… </td><td>1</td><td>892k</td><td>https://i.pinimg.com/originals/ff/fe/38/fffe384f3ec18a0d87cb2d80cc8c1499.jpg</td><td>3156</td><td>image</td><td>Michelle {CraftyMorning.com}</td><td>Local save in /data/diy-and-crafts</td><td>Christmas Gifts For Parents,Christmas Decorations For Kids,Christmas Crafts For Toddlers,Preschool Christmas,Christmas Crafts For Gifts,Christmas Activities,Toddler Crafts,Kids Christmas,Christmas Feeling</td><td>Handprint Reindeer Ornaments - Crafty Morning</td><td>fa6e31a4-18c2-4eca-a6d8-e903eee2c2a4</td></tr><tr><td>travel</td><td>See families traveling all the time and wonder, \"how the heck do they afford this?\" Read 10 mistakes you might be making, and what you should do instead.</td><td>1</td><td>9k</td><td>https://i.pinimg.com/originals/0a/49/fb/0a49fbcec746c4219d3a6f30834f378e.jpg</td><td>10119</td><td>image</td><td>OUR NEXT ADVENTURE | family travel blog</td><td>Local save in /data/travel</td><td>Family Vacation Destinations,Vacation Trips,Travel Destinations,Vacation Ideas,Cheap Family Vacations,Vacation Travel,Best Family Vacation Spots,Vacation Quotes,Vacation Memories</td><td>How to Afford Family Travel: 10 Mistakes You're Making (and what to do instead) | Our Next Adventure</td><td>40eab9ba-7812-4f26-baca-35a6bed95a9f</td></tr><tr><td>diy-and-crafts</td><td>Easy Christmas tree Craft Ideas for toddlers and preschoolers. Engage your kids in these DIY</td><td>1</td><td>3k</td><td>https://i.pinimg.com/originals/69/f0/75/69f075939d4449dffa69519756c30e26.png</td><td>3419</td><td>image</td><td>Kids Crafts & Free Preschool Printables- Sharing Our Experiences</td><td>Local save in /data/diy-and-crafts</td><td>Christmas Crafts For Kids To Make,Christmas Tree Painting,Christmas Activities For Kids,Easy Christmas Crafts For Toddlers,Kid Activities,Christmas Handprint Crafts,Christmas Tree Crafts,Christmas Baby,Xmas Tree</td><td>Easy Christmas Tree Crafts Ideas for toddlers and preschoolers | Sharing Our Experiences</td><td>d0b80187-0171-49b2-8ee4-572984244f65</td></tr><tr><td>finance</td><td>If you love budgeting, make sure to give Dave Ramsey's 7 Baby Steps a try. Follow these steps to begin your debt snowball, build an emergency fund, invest and reach riches. I ca… </td><td>1</td><td>26k</td><td>https://i.pinimg.com/originals/1e/9d/90/1e9d906e4e150e3b95187f3b76ea7c71.png</td><td>5494</td><td>image</td><td>Living Low Key | Save Money, Make Money, & Frugal Living</td><td>Local save in /data/finance</td><td>Financial Peace,Financial Tips,Saving Money Quotes,Total Money Makeover,Budgeting Finances,Money Management,Wealth Management,Personal Finance,Making Ideas</td><td>Dave Ramsey's 7 Baby Steps: What Are They And Will They Work For You</td><td>8fb2af68-543b-4639-8119-de33d28706ed</td></tr><tr><td>finance</td><td>If you love budgeting, make sure to give Dave Ramsey's 7 Baby Steps a try. Follow these steps to begin your debt snowball, build an emergency fund, invest and reach riches. I ca… </td><td>1</td><td>26k</td><td>https://i.pinimg.com/originals/1e/9d/90/1e9d906e4e150e3b95187f3b76ea7c71.png</td><td>5494</td><td>image</td><td>Living Low Key | Save Money, Make Money, & Frugal Living</td><td>Local save in /data/finance</td><td>Financial Peace,Financial Tips,Saving Money Quotes,Total Money Makeover,Budgeting Finances,Money Management,Wealth Management,Personal Finance,Making Ideas</td><td>Dave Ramsey's 7 Baby Steps: What Are They And Will They Work For You</td><td>8fb2af68-543b-4639-8119-de33d28706ed</td></tr><tr><td>christmas</td><td>Here are the best DIY Christmas Centerpieces ideas perfect for your Christmas & holiday season home decor. From Christmas Vignettes to Table Centerpieces.</td><td>1</td><td>500k</td><td>https://i.pinimg.com/originals/aa/6d/0f/aa6d0f44d7c1c96b998cb9aa6c4446b8.png</td><td>2418</td><td>image</td><td>HikenDip</td><td>Local save in /data/christmas</td><td>Farmhouse Christmas Decor,Rustic Christmas,Christmas Time,Vintage Christmas,Xmas,Primitive Christmas Crafts,Christmas Vignette,Indoor Christmas Decorations,Diy Christmas Ornaments</td><td>100 DIY Christmas Centerpieces You'll Love To Decorate Your Home With For The Christmas Season - Hike n Dip</td><td>da8745a6-5160-46c4-877d-181d50a729fd</td></tr><tr><td>christmas</td><td>Here are the best DIY Christmas Centerpieces ideas perfect for your Christmas & holiday season home decor. From Christmas Vignettes to Table Centerpieces.</td><td>1</td><td>500k</td><td>https://i.pinimg.com/originals/aa/6d/0f/aa6d0f44d7c1c96b998cb9aa6c4446b8.png</td><td>2418</td><td>image</td><td>HikenDip</td><td>Local save in /data/christmas</td><td>Farmhouse Christmas Decor,Rustic Christmas,Christmas Time,Vintage Christmas,Xmas,Primitive Christmas Crafts,Christmas Vignette,Indoor Christmas Decorations,Diy Christmas Ornaments</td><td>100 DIY Christmas Centerpieces You'll Love To Decorate Your Home With For The Christmas Season - Hike n Dip</td><td>da8745a6-5160-46c4-877d-181d50a729fd</td></tr><tr><td>quotes</td><td>summcoco gives you inspiration for the women fashion trends you want. Thinking about a new look or lifestyle? This is your ultimate resource to get the hottest trends. 45 Top Li… </td><td>1</td><td>306k</td><td>https://i.pinimg.com/originals/bb/c0/e6/bbc0e6a797079505f11ac12bcb0b8c66.jpg</td><td>7922</td><td>image</td><td>Sumcoco | Decor Ideas, Hairstyles, Nails Fashion Advice</td><td>Local save in /data/quotes</td><td>Life Quotes Love,Inspirational Quotes About Love,Mood Quotes,Motivational Quotes,Tears Quotes,Quotes About Sadness,Deep Quotes About Life,Quotes Quotes,Quote Life</td><td>45 Top Life Quotes School Did Not Teach You</td><td>a584581c-1b38-4731-a1cc-f36115ecf229</td></tr><tr><td>art</td><td>Use your mini world figures to create this beautiful African sunset. Your kids will love learning about shadows, angles and distortion in this fun art and STEM activity for kids.</td><td>1</td><td>4k</td><td>https://i.pinimg.com/originals/e3/aa/35/e3aa350f8f104d0e59f26d7f17ea7461.png</td><td>771</td><td>image</td><td>Taming Little Monsters - Fun Activities for Kids</td><td>Local save in /data/art</td><td>African Art Projects,Cool Art Projects,Projects For Kids,African Art For Kids,African Crafts Kids,Art Club Projects,Art Education Projects,Tracing Art,African Sunset</td><td>African Sunset Shadow Tracing Art - Taming Little Monsters</td><td>a5021766-a8aa-4dc7-9857-4da6b8e3dc1a</td></tr><tr><td>event-planning</td><td>Personalize your event or shop with a customized neon sign. Make a statement with your own custom vibes! This light is 32 -40 inches (80cm-100cm) if you need something bigger, p… </td><td>1</td><td>111</td><td>https://i.pinimg.com/originals/e9/c0/7c/e9c07cf0cf16cab23764a36718ab76c1.jpg</td><td>4508</td><td>image</td><td>Life of Neon | Custom Neon Light Signs | Home Decor Wall Art</td><td>Local save in /data/event-planning</td><td>Our Wedding,Wedding Venues,Dream Wedding,Wedding Cakes,Church Wedding,Wedding Flowers,Lace Wedding,Wedding Rings,Wedding Dresses</td><td>Custom Event and Shop Neon Sign Lights - Event & Shop</td><td>9064f4a2-2753-476c-815e-db360f45a93e</td></tr><tr><td>education</td><td>Hi everyone! As a teacher using the Orton-Gillingham approach, I am constantly looking for phonics activities that my students will find fun and engaging. Using Orton-Gillingham… </td><td>1</td><td>22k</td><td>https://i.pinimg.com/originals/58/8e/38/588e380b19942a71a86a69d9c9973d25.png</td><td>4076</td><td>image</td><td>The Literacy Nest</td><td>Local save in /data/education</td><td>Literacy Games,Kindergarten Activities,Literacy Centers,Fun Phonics Activities,Listening Activities,Vocabulary Games,Literacy Stations,Letter Activities,Montessori Activities</td><td>Phonics Activities Your Kids Will Love - The Literacy Nest</td><td>3a52d364-7c04-47cb-a3e5-56d9e2b77528</td></tr><tr><td>christmas</td><td>Over 40 of the BEST Homemade Christmas Ornaments...these easy Holiday crafts are so fun to make for Kids and Adults! Lots of great class party ideas!</td><td>1</td><td>245k</td><td>https://i.pinimg.com/originals/d0/d3/a3/d0d3a31e87296224d5ba8896904b5b88.jpg</td><td>2293</td><td>image</td><td>Kitchen Fun With My 3 Sons</td><td>Local save in /data/christmas</td><td>Diy Christmas Lights,Homemade Christmas Decorations,Christmas Crafts For Gifts,Mini Christmas Tree,Christmas Ornament Crafts,Homemade Christmas Gifts,Xmas Decorations,Simple Christmas,Handmade Christmas</td><td>Over 40 of the BEST Homemade Christmas Ornament Ideas</td><td>1fd7d4cc-54c1-4542-9c1f-449cb4c875f4</td></tr><tr><td>art</td><td>This bee directed drawing and associated pages will help you create a fun and creative Valentine's Day Directed Drawing Art Project activity for your class.Choose to do a painti… </td><td>1</td><td>1M</td><td>https://i.pinimg.com/originals/49/ff/2e/49ff2e83c0cefdd37213f6084c6f0566.jpg</td><td>159</td><td>image</td><td>Teachers Pay Teachers</td><td>Local save in /data/art</td><td>Classroom Art Projects,School Art Projects,Art Classroom,Art Projects For Kindergarteners,Spring Art Projects,Classroom Posters,Valentines Art Lessons,Valentines Day Activities,Grade 1 Art</td><td>Valentine's Day Bee Directed Drawing {Art Project}</td><td>841a161a-47b8-4161-884d-adeb67a28b1e</td></tr><tr><td>travel</td><td>Are you traveling to Paris during the summer? Find out what to do in Paris, France during the summer. Fun summertime activities in Paris. Enjoy the incredible outdoors when trav… </td><td>1</td><td>3k</td><td>https://i.pinimg.com/originals/6c/4c/90/6c4c90bba27ebf8c8bfe4c1acfb9f07a.jpg</td><td>9979</td><td>image</td><td>Petite in Paris</td><td>Local save in /data/travel</td><td>Torre Eiffel Paris,Tour Eiffel,Picnic In Paris,Hello France,Voyage Europe,Destination Voyage,Beautiful Places To Travel,Travel Aesthetic,Paris Travel</td><td>Paris in the Summer. 10 fun things to do in Paris in the Summertime • Petite in Paris</td><td>2b2abc85-fc51-481f-8ae6-17681993da28</td></tr><tr><td>travel</td><td>Although you'd think Greek islands are fairly similar, you'd be completely wrong! Each island has it's own personality and appeal. Here are the 8 Best Greek Islands to visit, es… </td><td>1</td><td>42k</td><td>https://i.pinimg.com/originals/06/1d/ce/061dce38929dec8e74844442116bea4a.jpg</td><td>9759</td><td>image</td><td>TheFab20s | Travel+Food+DIY+Listicles</td><td>Local save in /data/travel</td><td>Greek Islands To Visit,Best Greek Islands,Greece Islands,Cool Places To Visit,Places To Go,Best Places In Portugal,Copenhagen Travel,Paros Island,Santorini Island</td><td>8 Best Greek Islands You Have To Visit - TheFab20s</td><td>d105eb6e-0f9f-46e7-8d02-d24b62f6ae90</td></tr><tr><td>diy-and-crafts</td><td>DIY Dollar Store Valentine’s Day Heart Wreath Decoration. There are so many great Valentine crafts at the Dollar Tree right now! During our last trip, we picked up a few supplie… </td><td>1</td><td>9k</td><td>https://i.pinimg.com/originals/dc/f6/8a/dcf68adcc63c339c24fa5664f1115994.png</td><td>2698</td><td>image</td><td>South Lumina Style</td><td>Local save in /data/diy-and-crafts</td><td>Valentine Day Wreaths,Valentines Day Hearts,Valentines Day Decorations,Valentine Day Crafts,Holiday Crafts,Diy Christmas,Christmas Wreaths,Valentine Tree,Printable Valentine</td><td>DIY Dollar Tree Valentine's Day Wreath</td><td>73f16302-4871-486a-8836-947530526337</td></tr><tr><td>home-decor</td><td>Holiday mantle decor, Christmas decor, metallic mercury glass style Christmas trees, eucalyptus vine, evergreen pine branches, white neutral holiday decor, cozy mantle for the h… </td><td>1</td><td>83k</td><td>https://i.pinimg.com/originals/9d/82/1a/9d821a80acd8f90c16454e978bd9b115.jpg</td><td>6145</td><td>image</td><td>Stylin by Aylin</td><td>Local save in /data/home-decor</td><td>Winter Home Decor,Christmas Living Room Decor,Living Room Decor Cozy,Christmas Decor,Cozy Fireplace,Rustic Fireplace Decor,Fireplace Decorations,Rustic Room,House Decorations</td><td>HOLIDAY MANTLE DECOR - @AMAZON & @TARGET FINDS</td><td>82e13a07-db99-43a3-b1c0-89a4b75821da</td></tr><tr><td>home-decor</td><td>Holiday mantle decor, Christmas decor, metallic mercury glass style Christmas trees, eucalyptus vine, evergreen pine branches, white neutral holiday decor, cozy mantle for the h… </td><td>1</td><td>83k</td><td>https://i.pinimg.com/originals/9d/82/1a/9d821a80acd8f90c16454e978bd9b115.jpg</td><td>6145</td><td>image</td><td>Stylin by Aylin</td><td>Local save in /data/home-decor</td><td>Winter Home Decor,Christmas Living Room Decor,Living Room Decor Cozy,Christmas Decor,Cozy Fireplace,Rustic Fireplace Decor,Fireplace Decorations,Rustic Room,House Decorations</td><td>HOLIDAY MANTLE DECOR - @AMAZON & @TARGET FINDS</td><td>82e13a07-db99-43a3-b1c0-89a4b75821da</td></tr><tr><td>art</td><td>Easy to follow steps for this easy DIY wall art. Acrylic Paint Pouring with a blow dryer, Dutch paint pour. Written steps and full step by step video to help you do it too! 👍</td><td>1</td><td>52k</td><td>https://i.pinimg.com/videos/thumbnails/originals/d5/5e/fa/d55efa6ef50d35dac425cea935f39c89.0000001.jpg</td><td>427</td><td>video</td><td>Abbotts At Home</td><td>Local save in /data/art</td><td>Acrylic Pouring Art,Acrylic Wall Art,Acrylic Pouring Techniques,Acrylic Paintings,Art Paintings,Marble Art,Marble Painting,Pour Painting,Large Canvas Art</td><td>DIY Acrylic Paint Pouring Wall Art - Abbotts At Home</td><td>4a455340-09a2-4370-ad86-73d7964603db</td></tr><tr><td>christmas</td><td>Christmas Trees From Pallet Wood | Holiday DIY: Deck the yard with some fun outdoor Christmas Trees! We made these merry and bright decorations from two old pallets we had lying… </td><td>1</td><td>3M</td><td>https://i.pinimg.com/originals/64/7b/ca/647bca35169b7c144604116c64bcba8a.png</td><td>1704</td><td>image</td><td>Instructables</td><td>Local save in /data/christmas</td><td>Pallet Wood Christmas Tree,Wooden Christmas Crafts,Diy Christmas Tree,Christmas Projects,Holiday Crafts,Wooden Xmas Trees,Different Christmas Trees,Pallet Tree,Christmas Kitchen</td><td>Christmas Trees From Pallet Wood | Holiday DIY</td><td>5fbf9863-fb79-477c-a5b6-540c3020a55f</td></tr><tr><td>education</td><td>Podcasts for Teachers or Parents of Teenagers: Teaching teens middle school and high school can feel joyful and rewarding most days, but can also frustrate you with one challeng… </td><td>1</td><td>25k</td><td>https://i.pinimg.com/originals/50/19/31/501931a27ee4d076658980851b995b2c.jpg</td><td>4315</td><td>image</td><td>Math Giraffe</td><td>Local save in /data/education</td><td>Middle School Classroom,High School Students,High School Teachers,Middle School Tips,High School Counseling,Ela Classroom,High School Science,Future Classroom,Google Classroom</td><td>Podcasts for Teachers or Parents of Teenagers</td><td>21b59ba9-829d-4c33-8c27-4cd4c56d26b8</td></tr><tr><td>education</td><td>Podcasts for Teachers or Parents of Teenagers: Teaching teens middle school and high school can feel joyful and rewarding most days, but can also frustrate you with one challeng… </td><td>1</td><td>25k</td><td>https://i.pinimg.com/originals/50/19/31/501931a27ee4d076658980851b995b2c.jpg</td><td>4315</td><td>image</td><td>Math Giraffe</td><td>Local save in /data/education</td><td>Middle School Classroom,High School Students,High School Teachers,Middle School Tips,High School Counseling,Ela Classroom,High School Science,Future Classroom,Google Classroom</td><td>Podcasts for Teachers or Parents of Teenagers</td><td>21b59ba9-829d-4c33-8c27-4cd4c56d26b8</td></tr><tr><td>education</td><td>Podcasts for Teachers or Parents of Teenagers: Teaching teens middle school and high school can feel joyful and rewarding most days, but can also frustrate you with one challeng… </td><td>1</td><td>25k</td><td>https://i.pinimg.com/originals/50/19/31/501931a27ee4d076658980851b995b2c.jpg</td><td>4315</td><td>image</td><td>Math Giraffe</td><td>Local save in /data/education</td><td>Middle School Classroom,High School Students,High School Teachers,Middle School Tips,High School Counseling,Ela Classroom,High School Science,Future Classroom,Google Classroom</td><td>Podcasts for Teachers or Parents of Teenagers</td><td>21b59ba9-829d-4c33-8c27-4cd4c56d26b8</td></tr><tr><td>education</td><td>This book presents 10 inspirational case studies of how centre leaders, principals and leadership teams in high-needs New Zealand educational settings have enacted leadership to… </td><td>1</td><td>2M</td><td>https://i.pinimg.com/originals/0e/ea/c4/0eeac457780bbe43fcc5e9eaabd80f62.jpg</td><td>3599</td><td>image</td><td>Walmart</td><td>Local save in /data/education</td><td>Research Studies,Educational Leadership,Education System,Secondary School,Try It Free,Book Format,Social Justice,Young People,Paperback Books</td><td>Educational Leadership in Aotearoa New Zealand : Issues of Context and Social Justice</td><td>ff0dd945-dafa-411c-8cef-eb43e374e815</td></tr><tr><td>event-planning</td><td>Sacramento California Wedding 2 Chic Events & Design Jodi Yorston Photography Wilson Vineyards Barn Miosa Couture Yellow Barn Vineyard Outdoor Candles DIY</td><td>1</td><td>6M</td><td>https://i.pinimg.com/originals/7e/45/90/7e45905fefa36347e83333fd6d091140.jpg</td><td>5069</td><td>image</td><td>Style Me Pretty</td><td>Local save in /data/event-planning</td><td>60th Anniversary Parties,Anniversary Decorations,Golden Anniversary,25th Wedding Anniversary,Anniversary Pictures,Anniversary Ideas,Birthday Decorations,Event Planning Design,Event Design</td><td>The Vault: Curated & Refined Wedding Inspiration</td><td>b75b6f87-deb3-444f-b29e-ce9161b2df49</td></tr><tr><td>mens-fashion</td><td>Black And Brown Outfits You Need To Try This Fall Season. The trick with black and brown outfits is to know how to combine colors, fabrics, and shapes to get a cohesive look. So… </td><td>1</td><td>1M</td><td>https://i.pinimg.com/originals/3e/49/09/3e4909c0ccc4dbba3cad83d97eab4a61.png</td><td>7343</td><td>image</td><td>Cultura Colectiva</td><td>Local save in /data/mens-fashion</td><td>Winter Outfits Men,Stylish Mens Outfits,Casual Outfits,Men Casual,Smart Casual,Outfits For Men,Fall Outfits,Mens Winter Boots,Business Casual Men</td><td>This Fashion Rule Is Nonsense, And We Should All Forget About It</td><td>b8c63a95-6fe8-4d7f-9455-1eef3462fee0</td></tr><tr><td>event-planning</td><td>Sacramento California Wedding 2 Chic Events & Design Jodi Yorston Photography Wilson Vineyards Barn Miosa Couture Yellow Barn Vineyard Outdoor Candles DIY</td><td>1</td><td>6M</td><td>https://i.pinimg.com/originals/7e/45/90/7e45905fefa36347e83333fd6d091140.jpg</td><td>5069</td><td>image</td><td>Style Me Pretty</td><td>Local save in /data/event-planning</td><td>60th Anniversary Parties,Anniversary Decorations,Golden Anniversary,25th Wedding Anniversary,Anniversary Pictures,Anniversary Ideas,Birthday Decorations,Event Planning Design,Event Design</td><td>The Vault: Curated & Refined Wedding Inspiration</td><td>b75b6f87-deb3-444f-b29e-ce9161b2df49</td></tr><tr><td>mens-fashion</td><td>Black And Brown Outfits You Need To Try This Fall Season. The trick with black and brown outfits is to know how to combine colors, fabrics, and shapes to get a cohesive look. So… </td><td>1</td><td>1M</td><td>https://i.pinimg.com/originals/3e/49/09/3e4909c0ccc4dbba3cad83d97eab4a61.png</td><td>7343</td><td>image</td><td>Cultura Colectiva</td><td>Local save in /data/mens-fashion</td><td>Winter Outfits Men,Stylish Mens Outfits,Casual Outfits,Men Casual,Smart Casual,Outfits For Men,Fall Outfits,Mens Winter Boots,Business Casual Men</td><td>This Fashion Rule Is Nonsense, And We Should All Forget About It</td><td>b8c63a95-6fe8-4d7f-9455-1eef3462fee0</td></tr><tr><td>tattoos</td><td>summcoco gives you inspiration for the women fashion trends you want. Thinking about a new look or lifestyle? This is your ultimate resource to get the hottest trends. 30+ Eagle… </td><td>1</td><td>306k</td><td>https://i.pinimg.com/originals/8d/c6/ed/8dc6ed0b212393187a14c7d07a88060f.png</td><td>8606</td><td>image</td><td>Sumcoco | Decor Ideas, Hairstyles, Nails Fashion Advice</td><td>Local save in /data/tattoos</td><td>White Bird Tattoos,Rose Tattoos,Flower Tattoos,Tattoo Black,Bird And Flower Tattoo,Tattoo Floral,Mini Tattoos,Flower Art,Girls With Sleeve Tattoos</td><td>30+ Eagle Tattoos Ideas for Women</td><td>71757040-bfc8-4631-9cac-22801e61d9e3</td></tr><tr><td>tattoos</td><td>Disney characters never go out with time. From small to bold, here are the best Disney tattoos that both adults and children will adore.</td><td>1</td><td>190k</td><td>https://i.pinimg.com/originals/29/1d/13/291d1361e275358df53c1db02b63d3a4.jpg</td><td>9074</td><td>image</td><td>Our Mindful Life</td><td>Local save in /data/tattoos</td><td>Small Disney Tattoos,Disney Thigh Tattoo,Matching Disney Tattoos,Disney Couple Tattoos,Disney Inspired Tattoos,Disney Sleeve Tattoos,Matching Best Friend Tattoos,Small Tattoos,3 Best Friend Tattoos</td><td>77 Disney Tattoos To Unleash Your Magic Power - Our Mindful Life</td><td>2adede06-7fb0-4b5f-8cf9-ce8e6d6fa6a1</td></tr><tr><td>home-decor</td><td>Beautiful and easy ways to update every room in your home with fall decor. Plus, my favorite finds in fall decor for 2020!</td><td>1</td><td>92k</td><td>https://i.pinimg.com/originals/e5/ae/dc/e5aedc14ce557e3a69f672e0f8c88f6e.png</td><td>6063</td><td>image</td><td>Kristen | Lifestyle, Mom Tips & Teacher Stuff Blog</td><td>Local save in /data/home-decor</td><td>Fall Home Decor,Autumn Home,Fall Decor Outdoor,Front Porch Fall Decor,Home Decor Ideas,Porch Ideas For Fall,Fall Outdoor Decorating,Decorating Ideas For Fall,Fall Front Doors</td><td>41 Gorgeous Fall Decor Ideas For Your Home - Chaylor & Mads</td><td>60693727-4927-4bd6-a8c5-096a392d63e6</td></tr><tr><td>home-decor</td><td>Beautiful and easy ways to update every room in your home with fall decor. Plus, my favorite finds in fall decor for 2020!</td><td>1</td><td>92k</td><td>https://i.pinimg.com/originals/e5/ae/dc/e5aedc14ce557e3a69f672e0f8c88f6e.png</td><td>6063</td><td>image</td><td>Kristen | Lifestyle, Mom Tips & Teacher Stuff Blog</td><td>Local save in /data/home-decor</td><td>Fall Home Decor,Autumn Home,Fall Decor Outdoor,Front Porch Fall Decor,Home Decor Ideas,Porch Ideas For Fall,Fall Outdoor Decorating,Decorating Ideas For Fall,Fall Front Doors</td><td>41 Gorgeous Fall Decor Ideas For Your Home - Chaylor & Mads</td><td>60693727-4927-4bd6-a8c5-096a392d63e6</td></tr><tr><td>event-planning</td><td>So you're thinking of getting your event planner certification, but how much do you REALLY know about event planning? Event planners need to be knowledgeable and able to answer… </td><td>1</td><td>5k</td><td>https://i.pinimg.com/originals/6f/19/bc/6f19bce24921bf843540fc04da9eb6bf.jpg</td><td>5076</td><td>image</td><td>QC Career School</td><td>Local save in /data/event-planning</td><td>Diy Wedding Food,Best Wedding Makeup,Wedding Events,Wedding Tips,Wedding Stuff,Weddings,Event Planning Business,Business Events,Wedding Makeup Tutorial</td><td>Quiz: Test Your Event IQ! - Pointers For Planners</td><td>fa3af29c-dc78-4eed-a4c5-52a407ea04c0</td></tr><tr><td>art</td><td>Nike trainers sprout plants and French perfumiers inspire by mysterious scientific icons in Katie Scott’s visions that take botanical illustration into the digital age</td><td>1</td><td>908k</td><td>https://i.pinimg.com/originals/16/8a/fa/168afae02d5ffc71da10cdb312de2cb1.jpg</td><td>552</td><td>image</td><td>The Guardian</td><td>Local save in /data/art</td><td>Art And Illustration,Illustration Inspiration,Botanical Illustration,Vintage Illustrations,Botanical Drawings,Botanical Prints,Arte Inspo,Insect Art,Psychedelic</td><td>The herbal bed: Katie Scott's psychedelic flora and fauna – in pictures</td><td>b82602a9-e434-42cf-9481-22f3f41d82ce</td></tr><tr><td>tattoos</td><td>Snake temporary tattoo for collarbone. Spooky 3D tattoo for Halloween Includes 2 copies, 1 for the right side and 1 for the left side Apply with water and remove anytime with ba… </td><td>1</td><td>0</td><td>https://i.pinimg.com/originals/d8/b7/a1/d8b7a11a3fe64e7fab91d3afb1536537.jpg</td><td>8578</td><td>image</td><td>Livitrevisani</td><td>Local save in /data/tattoos</td><td>Finger Tattoo Designs,Small Tattoo Designs,Finger Tattoos,Small 3d Tattoos,Cool Tattoos,Line Work Tattoo,Back Tattoo,Collarbone Tattoo,Tattoo Neck</td><td>Snake Collarbone Temporary Tattoo. Halloween Tattoos  Spooky | Etsy</td><td>036ec267-658b-4dad-a097-8ef0b4f30c0d</td></tr><tr><td>education</td><td>15 Essential Classroom Items For First Year Teachers / First Year Teacher Must Haves</td><td>1</td><td>5k</td><td>https://i.pinimg.com/originals/4b/b9/a8/4bb9a85f609a8384ed9c9ab14e7bcea0.jpg</td><td>4137</td><td>image</td><td>Write Your Story | Budgeting, Healthy Lifestyle, Faith</td><td>Local save in /data/education</td><td>1st Year Teachers,First Year Teaching,First Grade Teachers,Elementary Teacher,Montessori Elementary,Teaching Reading,History Teachers,High School Classroom,First Grade Classroom</td><td>15 Essential Classroom Items For First Year Teachers / First Year Teacher Must Haves</td><td>bf275054-4464-448b-9143-1bf101aa366d</td></tr><tr><td>home-decor</td><td>Celebrate fall with a neutral color palette with natural elements. This Navy and Neutral Fall Living Room + Kitchen Tour will make you rethink fall decor.</td><td>1</td><td>178k</td><td>https://i.pinimg.com/originals/f1/be/b6/f1beb6d3414f1c52929df39a83d8da9f.jpg</td><td>6566</td><td>image</td><td>Sand and Sisal</td><td>Local save in /data/home-decor</td><td>Fall Living Room,Coastal Living Rooms,Living Room Paint,Living Room Kitchen,Living Room Interior,Living Room Furniture,Living Room Decor,Living Area,Small Living</td><td>Navy and Neutral Fall Living Room + Kitchen Tour - Sand and Sisal</td><td>6d8848f8-f515-4935-8dae-5dd02304d76e</td></tr><tr><td>christmas</td><td>Transform mini terra cotta pots into the sweetest gingerbread house ornaments! Kids will love making this adorable Christmas craft to hang on the tree.</td><td>1</td><td>20k</td><td>https://i.pinimg.com/originals/13/28/09/1328097d7c290d1bf8642b01a6ba1c6c.jpg</td><td>2411</td><td>image</td><td>Projects with Kids</td><td>Local save in /data/christmas</td><td>Noel Christmas,Diy Christmas Ornaments,Homemade Christmas,Simple Christmas,Gingerbread Ornaments,Christmas Gingerbread,Gingerbread Houses,Preschool Christmas,Ornaments Ideas</td><td>The Sweetest Gingerbread House Ornaments Kids Can Make</td><td>4e11801e-7a64-4f1e-90dd-e900677595c5</td></tr><tr><td>mens-fashion</td><td>Women's T-shirt. Design inspired by the rock band The Killers' hit \"Mr. Brightside\". One of the greatest song from the album Hot Fuss released in 2004. Soft and light, 100% cott… </td><td>1</td><td>27</td><td>https://i.pinimg.com/originals/8c/42/39/8c42391d35fcad51a4a79f7cd81bf26d.jpg</td><td>7166</td><td>image</td><td>Mala Rock | Rock T-shirts</td><td>Local save in /data/mens-fashion</td><td>Mr Brightside,Rock T Shirts,Greatest Songs,Timeless Classic,Rock Bands,Album,T Shirts For Women,Inspired,Hot</td><td>The Killers - Mr. Brightside - Women's T-Shirt - Heather Dark Grey / S</td><td>4a844b03-e161-47a1-904b-591eb5dc4fb1</td></tr><tr><td>tattoos</td><td>We have put together the Ultimative Sunflower Tattoo Collection in 2020. Check out our highest rated handpicked Sunflower designs here!</td><td>1</td><td>800k</td><td>https://i.pinimg.com/originals/18/de/6c/18de6c81a8637e224c7d63dce1414ceb.jpg</td><td>8930</td><td>image</td><td>Next Luxury</td><td>Local save in /data/tattoos</td><td>Sunflower Tattoo Sleeve,Sunflower Tattoo Shoulder,Sunflower Tattoo Small,Sunflower Tattoos,Sunflower Tattoo Design,Shoulder Tattoo,Sunflower Mandala Tattoo,Sunflower Tattoo Meaning,Form Tattoo</td><td>135 Sunflower Tattoo Ideas - [Best Rated Designs in 2021]</td><td>a2999c28-f7b2-4577-af87-49d21d6d8a18</td></tr><tr><td>travel</td><td>On our Calgary to Vancouver road trip we got to spend time in Banff, Canada. We visited the stunning Lake Moraine as well as Lake Louise and plenty of other of Canada's natural… </td><td>1</td><td>7k</td><td>https://i.pinimg.com/videos/thumbnails/originals/57/9d/52/579d52242ae5609978c754d393e44e81.0000001.jpg</td><td>9672</td><td>video</td><td>Travel Mad Mum</td><td>Local save in /data/travel</td><td>Beautiful Places To Travel,Cool Places To Visit,Beautiful Roads,Beautiful Scenery,Wonderful Places,Lac Moraine,Moraine Lake,Lac Louise,Natur Wallpaper</td><td>Lake Moraine, Banff, Canada</td><td>1a5050a4-ac82-472c-aeff-3457de8bbee9</td></tr><tr><td>education</td><td>Our family would rather spend time outdoors than indoors. We love nature! That said, sometimes mother nature is uncooperative. On these days, it can be fun to pull out some natu… </td><td>1</td><td>9k</td><td>https://i.pinimg.com/originals/d6/3b/1a/d63b1a2a36534ecac5d1fbd0d932403a.jpg</td><td>3729</td><td>image</td><td>My Little Poppies (Cait Curley, MA/CAGS)</td><td>Local save in /data/education</td><td>Diy Nature,Theme Nature,Nature Study,Science And Nature,Summer Science,Earth Science,Nature Crafts,Outdoor Education,Outdoor Learning</td><td>5 + Nature Games for Your Homeschool</td><td>ac90f1d2-dc9e-438c-b073-dd48511b80b0</td></tr><tr><td>mens-fashion</td><td>Looking for the coolest fall fashion for men this season? Click to read this article on fall fashion for men to look sharp on LLEGANCE.</td><td>1</td><td>28k</td><td>https://i.pinimg.com/originals/4c/bf/2d/4cbf2d6e04d2502612169220553f4cef.jpg</td><td>7294</td><td>image</td><td>LLEGANCE | Workwear Fashion Woman Advice For Driven Professionals</td><td>Local save in /data/mens-fashion</td><td>Fashion 90s,Autumn Fashion,Fashion Ideas,Trendy Fashion,Fashion Photo,Fashion Outfits,Fashion Trends,Urban Fashion Men,Men's Casual Fashion</td><td>Foolproof Fall Fashion For Men You'll Love</td><td>9d8409ef-bea7-4133-a021-c58b9c042210</td></tr><tr><td>christmas</td><td>Take a look at this new collection of Christmas decor featuring 16 Blissful Christmas Table Decor Ideas That You Must See. Happy holidays!</td><td>1</td><td>616k</td><td>https://i.pinimg.com/originals/5f/70/30/5f7030a35bb8a1491e915fb0ae29bcf5.jpg</td><td>2015</td><td>image</td><td>ArchitectureArtDesigns</td><td>Local save in /data/christmas</td><td>Kids Crafts,Christmas Crafts For Kids,Homemade Christmas,Christmas Projects,Holiday Crafts,Christmas Gift Ideas,Preschool Christmas,Tree Crafts,Christmas Inspiration</td><td>16 Blissful Christmas Table Decor Ideas That You Must See</td><td>72359164-4419-452c-81cb-74f30a5a26b7</td></tr><tr><td>event-planning</td><td>Do you love planning parties? Do you want to work-at-home? This post covers everything you need to know about becoming a home-based event planner!</td><td>1</td><td>110k</td><td>https://i.pinimg.com/originals/4d/a3/a4/4da3a4730418239f1b43ce81fb032c15.jpg</td><td>4913</td><td>image</td><td>The Work at Home Woman</td><td>Local save in /data/event-planning</td><td>Event Planning Tips,Event Planning Business,Party Planning,Business Ideas,Craft Business,Business Chic,Business Inspiration,Business Goals,Business Opportunities</td><td>How to Work From Home as an Event Planner</td><td>4d2d79c6-9ca8-46c9-a38e-931c5d967804</td></tr><tr><td>diy-and-crafts</td><td>One thing I love about Crafts is how the evolve! These toilet paper rolls are adorable and modern. I love that something as simple as a recycled toilet paper roll can be taken t… </td><td>1</td><td>502k</td><td>https://i.pinimg.com/originals/c6/cd/0d/c6cd0d04da9cfc11566cfd34eeb1f918.jpg</td><td>2959</td><td>image</td><td>CraftGossip.com</td><td>Local save in /data/diy-and-crafts</td><td>Toilet Paper Roll Crafts,Cardboard Crafts,Diy Paper,Paper Crafting,Toilet Paper Rolls,Cardboard Playhouse,Paper Art,Kids Crafts,Toddler Crafts</td><td>The Cutest Toilet Paper Crafts</td><td>439cac4b-18e8-4aaa-88c5-edb26a701111</td></tr><tr><td>diy-and-crafts</td><td>One thing I love about Crafts is how the evolve! These toilet paper rolls are adorable and modern. I love that something as simple as a recycled toilet paper roll can be taken t… </td><td>1</td><td>502k</td><td>https://i.pinimg.com/originals/c6/cd/0d/c6cd0d04da9cfc11566cfd34eeb1f918.jpg</td><td>2959</td><td>image</td><td>CraftGossip.com</td><td>Local save in /data/diy-and-crafts</td><td>Toilet Paper Roll Crafts,Cardboard Crafts,Diy Paper,Paper Crafting,Toilet Paper Rolls,Cardboard Playhouse,Paper Art,Kids Crafts,Toddler Crafts</td><td>The Cutest Toilet Paper Crafts</td><td>439cac4b-18e8-4aaa-88c5-edb26a701111</td></tr><tr><td>travel</td><td>35 European bucket list destinations for any traveler heading to Europe. From Cinque Terre, Italy to Iceland - there are so many amazing sites to see in Europe.</td><td>1</td><td>28k</td><td>https://i.pinimg.com/originals/71/04/1a/71041ad83ede43d9665741e719c58a86.jpg</td><td>9875</td><td>image</td><td>Nicki </td><td>Local save in /data/travel</td><td>Backpacking Europe,Europe Travel Guide,Travel Guides,Travel Packing,Traveling Europe,Travelling,Travel Backpack,Budget Travel,2 Week Europe Itinerary</td><td>European Bucket List: 35 Things NOT To Miss When Traveling Europe</td><td>782dcbad-ff91-40a6-ba60-216efe29adb7</td></tr><tr><td>art</td><td>Fashion designer Issac Mizrahi’s Greenwich Village home is an amalgamation of three apartments that was 20 years in the making</td><td>1</td><td>3M</td><td>https://i.pinimg.com/originals/f4/6c/54/f46c546a2e480022a42d842b7dca157e.jpg</td><td>428</td><td>image</td><td>Architectural Digest</td><td>Local save in /data/art</td><td>Modern Art,Contemporary Art,Contemporary Kitchens,Contemporary Bedroom,New York City Apartment,Manhattan Apartment,Art Moderne,Architectural Digest,Painting Inspiration</td><td>Fashion Designer Isaac Mizrahi’s Updated 1930s New York City Apartment</td><td>610b3f83-9fe0-469d-946c-d16b577fca71</td></tr><tr><td>travel</td><td>35 European bucket list destinations for any traveler heading to Europe. From Cinque Terre, Italy to Iceland - there are so many amazing sites to see in Europe.</td><td>1</td><td>28k</td><td>https://i.pinimg.com/originals/71/04/1a/71041ad83ede43d9665741e719c58a86.jpg</td><td>9875</td><td>image</td><td>Nicki </td><td>Local save in /data/travel</td><td>Backpacking Europe,Europe Travel Guide,Travel Guides,Travel Packing,Traveling Europe,Travelling,Travel Backpack,Budget Travel,2 Week Europe Itinerary</td><td>European Bucket List: 35 Things NOT To Miss When Traveling Europe</td><td>782dcbad-ff91-40a6-ba60-216efe29adb7</td></tr><tr><td>art</td><td>Fashion designer Issac Mizrahi’s Greenwich Village home is an amalgamation of three apartments that was 20 years in the making</td><td>1</td><td>3M</td><td>https://i.pinimg.com/originals/f4/6c/54/f46c546a2e480022a42d842b7dca157e.jpg</td><td>428</td><td>image</td><td>Architectural Digest</td><td>Local save in /data/art</td><td>Modern Art,Contemporary Art,Contemporary Kitchens,Contemporary Bedroom,New York City Apartment,Manhattan Apartment,Art Moderne,Architectural Digest,Painting Inspiration</td><td>Fashion Designer Isaac Mizrahi’s Updated 1930s New York City Apartment</td><td>610b3f83-9fe0-469d-946c-d16b577fca71</td></tr><tr><td>beauty</td><td>What are the basic things you need for makeup? Let’s be honest, ladies; all women can do makeup, yet not all women know how to do makeup right. The good news is, this post can t… </td><td>1</td><td>799k</td><td>https://i.pinimg.com/originals/2c/1a/d4/2c1ad45b5c54034a2dbc73c84a89f5e4.jpg</td><td>1371</td><td>image</td><td>Glaminati</td><td>Local save in /data/beauty</td><td>Contouring Makeup,Skin Makeup,Beauty Makeup,Makeup Brushes,Eyeliner Makeup,Makeup Tips Lips,Makeup 101,Cheap Makeup,Rosa Eyeliner</td><td>How To Do Makeup - Step By Step Tips For The Perfect Look</td><td>33e92ac1-73d1-4c31-9892-d5e633060790</td></tr><tr><td>education</td><td>behavior, special education, token boards, when token boards don't work, money token systems</td><td>1</td><td>11k</td><td>https://i.pinimg.com/originals/24/f9/e2/24f9e22ada4a79c61432ef6c8fe1d0f9.jpg</td><td>3800</td><td>image</td><td>Traci Bender - The Bender Bunch</td><td>Local save in /data/education</td><td>Special Education Behavior,Classroom Behavior Management,Behavior Plans,Behaviour Management,Behavior Charts,Behavior Board,Behavior Report,Behavior Analyst,Preschool Special Education</td><td>Reinforcing the Difficult Child When Token Boards Don't Work!</td><td>d2c367ed-9287-4ea3-b173-198b292d9981</td></tr><tr><td>diy-and-crafts</td><td>HELPFUL RESOURCES – Check out my resin colorants resources page here with links to all the products mentioned in this article (and more). Let me know if you have any that you lo… </td><td>1</td><td>6k</td><td>https://i.pinimg.com/originals/d4/12/78/d4127833023ca32600571ddca16f1556.jpg</td><td>3454</td><td>image</td><td>Mixed Media Crafts</td><td>Local save in /data/diy-and-crafts</td><td>Epoxy Resin Art,Diy Resin Art,Diy Resin Crafts,Resin Molds,Ice Resin,Resin Pour,Diy Epoxy,Diy Resin Painting,Diy Resin Dice</td><td>What can you use to color resin?</td><td>46bd3f86-b09d-4e29-9033-7ff2df595e51</td></tr><tr><td>diy-and-crafts</td><td>HELPFUL RESOURCES – Check out my resin colorants resources page here with links to all the products mentioned in this article (and more). Let me know if you have any that you lo… </td><td>1</td><td>6k</td><td>https://i.pinimg.com/originals/d4/12/78/d4127833023ca32600571ddca16f1556.jpg</td><td>3454</td><td>image</td><td>Mixed Media Crafts</td><td>Local save in /data/diy-and-crafts</td><td>Epoxy Resin Art,Diy Resin Art,Diy Resin Crafts,Resin Molds,Ice Resin,Resin Pour,Diy Epoxy,Diy Resin Painting,Diy Resin Dice</td><td>What can you use to color resin?</td><td>46bd3f86-b09d-4e29-9033-7ff2df595e51</td></tr><tr><td>home-decor</td><td>No description available Story format</td><td>1</td><td>117k</td><td>https://i.pinimg.com/videos/thumbnails/originals/75/48/3b/75483b74822855519ec8b40df4c670ef.0000001.jpg</td><td>6398</td><td>multi-video(story page format)</td><td>MojisStyle</td><td>Local save in /data/home-decor</td><td>Decor Home Living Room,Home And Living,Diy Bedroom Decor,Home Decor,Bathroom Interior Design,Interior Design Living Room,Dream Home Design,House Design,Beautiful Bathrooms</td><td>My master bathroom makeover with @flooranddecor ! Follow me on Instagram @Mojisstyle for more</td><td>ea44d318-2ced-4cf8-a66f-a6a036b84faa</td></tr><tr><td>finance</td><td>Description Coupon Organizer in a fun colorful fabric -island oasis, Great Size for the \"basic\" couponer - holds up to 500 coupons with ease, and is made long enough so that you… </td><td>1</td><td>0</td><td>https://i.pinimg.com/originals/65/bb/ea/65bbeaf458907bb079317d8303c4fa0e.jpg</td><td>5730</td><td>image</td><td>Consuelo Aguirre</td><td>Local save in /data/finance</td><td>Grocery Items,Grocery Coupons,Care Organization,Coupon Organization,Extreme Couponing,Couponing 101,Life Binder,Save My Money,Love Coupons</td><td>Island Oasis Coupon Organizer</td><td>1e1f0c8b-9fcf-460b-9154-c775827206eb</td></tr><tr><td>finance</td><td>Description Coupon Organizer in a fun colorful fabric -island oasis, Great Size for the \"basic\" couponer - holds up to 500 coupons with ease, and is made long enough so that you… </td><td>1</td><td>0</td><td>https://i.pinimg.com/originals/65/bb/ea/65bbeaf458907bb079317d8303c4fa0e.jpg</td><td>5730</td><td>image</td><td>Consuelo Aguirre</td><td>Local save in /data/finance</td><td>Grocery Items,Grocery Coupons,Care Organization,Coupon Organization,Extreme Couponing,Couponing 101,Life Binder,Save My Money,Love Coupons</td><td>Island Oasis Coupon Organizer</td><td>1e1f0c8b-9fcf-460b-9154-c775827206eb</td></tr><tr><td>finance</td><td>Description Coupon Organizer in a fun colorful fabric -island oasis, Great Size for the \"basic\" couponer - holds up to 500 coupons with ease, and is made long enough so that you… </td><td>1</td><td>0</td><td>https://i.pinimg.com/originals/65/bb/ea/65bbeaf458907bb079317d8303c4fa0e.jpg</td><td>5730</td><td>image</td><td>Consuelo Aguirre</td><td>Local save in /data/finance</td><td>Grocery Items,Grocery Coupons,Care Organization,Coupon Organization,Extreme Couponing,Couponing 101,Life Binder,Save My Money,Love Coupons</td><td>Island Oasis Coupon Organizer</td><td>1e1f0c8b-9fcf-460b-9154-c775827206eb</td></tr><tr><td>vehicles</td><td>January 23, 2009 We can see emergency responders queueing up for this one. ATVCorp has created versions of its Prowler Light Tactical All Terrain Vehicle (LTATV) for fire-fighti… </td><td>1</td><td>314</td><td>https://i.pinimg.com/originals/14/6b/6b/146b6b1a1127773f7046e08550e68ed0.jpg</td><td>10552</td><td>image</td><td>p hump</td><td>Local save in /data/vehicles</td><td>Army Vehicles,Armored Vehicles,Go Kart Buggy,Atv Attachments,Aviation Fuel,Special Forces,Special Ops,Terrain Vehicle,Emergency Response</td><td>The Prowler Emergency Response Vehicle</td><td>17301b8c-ccbb-42ad-b2df-3876df35b1cd</td></tr><tr><td>art</td><td>Learn to create alcohol ink rings for gorgeous pieces of art. Each ring sits on top of another, giving a multilayered appearance</td><td>1</td><td>7k</td><td>https://i.pinimg.com/originals/03/03/1f/03031fdc9775d0c06f61d68e51362379.png</td><td>603</td><td>image</td><td>Kim Cook-Thirteen Chairs-Slates Mugs And Tees</td><td>Local save in /data/art</td><td>Alcohol Ink Tiles,Alcohol Ink Glass,Alcohol Ink Crafts,Alcohol Ink Painting,Pour Painting,Zealand Tattoo,Copics,Types Of Art,Art Techniques</td><td>How to Create Alcohol Ink Rings For Gorgeous Pieces of Art -</td><td>78e21a64-53b0-4745-8294-e8c456f0ccc1</td></tr><tr><td>art</td><td>10 art sub lessons that only need a pencil. Cover lessons for art teachers. Make the perfect art sub lessson folder with this amazing resources.</td><td>1</td><td>25k</td><td>https://i.pinimg.com/originals/ee/a8/78/eea878911033897d981a69d9f6b2fb7c.png</td><td>719</td><td>image</td><td>The Arty Teacher</td><td>Local save in /data/art</td><td>Art Lessons For Kids,Art Lessons Elementary,Art For Kids,Art Sub Plans,Art Lesson Plans,Art Substitute Plans,High School Art,Middle School Art,Primary School Art</td><td>10 Art Sub Lessons that only need a Pencil</td><td>d7c53e34-9540-4f48-a31b-89b6ed1852bb</td></tr><tr><td>christmas</td><td>20 Christmas Decorating Ideas We Bet You Haven't Thought Of via @PureWow</td><td>1</td><td>868k</td><td>https://i.pinimg.com/originals/e9/b9/f0/e9b9f01cc3b2cf41948b45854335396c.jpg</td><td>2074</td><td>image</td><td>PureWow</td><td>Local save in /data/christmas</td><td>Holiday Centerpieces,Xmas Decorations,Centerpiece Ideas,Table Centerpieces,Valentine Decorations,Wedding Centerpieces,Outdoor Decorations,Christmas Centerpieces With Candles,Christmas Dining Table Decorations</td><td>35 Christmas Decorating Ideas We Bet You Haven't Thought Of</td><td>86ed09a7-842d-496d-9501-010c654eb340</td></tr><tr><td>christmas</td><td>20 Christmas Decorating Ideas We Bet You Haven't Thought Of via @PureWow</td><td>1</td><td>868k</td><td>https://i.pinimg.com/originals/e9/b9/f0/e9b9f01cc3b2cf41948b45854335396c.jpg</td><td>2074</td><td>image</td><td>PureWow</td><td>Local save in /data/christmas</td><td>Holiday Centerpieces,Xmas Decorations,Centerpiece Ideas,Table Centerpieces,Valentine Decorations,Wedding Centerpieces,Outdoor Decorations,Christmas Centerpieces With Candles,Christmas Dining Table Decorations</td><td>35 Christmas Decorating Ideas We Bet You Haven't Thought Of</td><td>86ed09a7-842d-496d-9501-010c654eb340</td></tr><tr><td>art</td><td>Free quick inspirational video on creating a mixed media face with acrylic, collage, stenciling and simple techniques. Come on over to watch</td><td>1</td><td>27k</td><td>https://i.pinimg.com/videos/thumbnails/originals/05/86/a4/0586a4116e1fc34efc25e064ccd123e8.0000001.jpg</td><td>831</td><td>video</td><td>Shawn Petite</td><td>Local save in /data/art</td><td>Collage Kunst,Paper Collage Art,Collage Art Mixed Media,Mixed Media Painting,Mixed Media Canvas,Canvas Collage,Art Collages,Wall Canvas,Canvas Art</td><td>creating mixed-media faces tutorial</td><td>5e65914d-9f58-4ff1-9676-658e426e8ce5</td></tr><tr><td>beauty</td><td>The oil cleansing method is a simple, natural way to have clean skin without using toxic chemicals. It will leave your face radiant and soft!</td><td>1</td><td>85k</td><td>https://i.pinimg.com/originals/2c/1c/da/2c1cda7da86ee711536bbacfe89c75c9.jpg</td><td>1545</td><td>image</td><td>Thank Your Body</td><td>Local save in /data/beauty</td><td>Beauty Care,Diy Beauty,Beauty Hacks,Beauty Shop,Oil Cleansing Method,Goji,Korean Skincare Routine,Homemade Beauty Products,Organic Beauty</td><td>Oil Cleansing Method: What it is and why you should do it.</td><td>0c629541-cc5b-4b61-bd3f-613346893258</td></tr><tr><td>art</td><td>Use our easy step by step tutorial to create a DIY abstract heart painting on any canvas size. Lots of inspiration to help you choose colors.</td><td>1</td><td>410k</td><td>https://i.pinimg.com/originals/33/85/f8/3385f82ee5e8ecdcccdf798bdcbee3d2.jpg</td><td>205</td><td>image</td><td>The Creativity Exchange</td><td>Local save in /data/art</td><td>Painting & Drawing,Watercolor Paintings,Original Paintings,Owl Watercolor,Acrylic Paintings,Owl Art,Bird Art,Beginner Painting,Animal Paintings</td><td>DIY Abstract Heart Painting and a Fun Paint Party</td><td>f4afd543-b9fe-44c3-8064-f2198faa1372</td></tr><tr><td>art</td><td>Kids will use chalk pastels and black paper to create this bold and bright hot chocolate art project! Easy to follow tutorial included.</td><td>1</td><td>20k</td><td>https://i.pinimg.com/originals/5a/d3/82/5ad38202cf8acb022cb8f46ce2a78ad6.jpg</td><td>808</td><td>image</td><td>Projects with Kids</td><td>Local save in /data/art</td><td>Hot Chocolate Art,Chocolate Crafts,Art Activities For Kids,Preschool Art,Preschool Winter,Christmas Activities,Winter Art Projects,Clay Art Projects,Chalk Pastel Art</td><td>Chalk Pastel Hot Chocolate Art Project</td><td>23f67e42-db9f-4aae-8b82-cbec64ad9f4d</td></tr><tr><td>beauty</td><td>Skin Purging sorgt für die reinste Haut, die du jemals hattest #skin äpurging #skinpurging #skincare #hautpflege #schönehaut #haut #beauty #tips</td><td>1</td><td>326k</td><td>https://i.pinimg.com/originals/93/b2/7b/93b27be044b2fd2f227f30a7f2c2faf2.jpg</td><td>1555</td><td>image</td><td>ELLE Germany</td><td>Local save in /data/beauty</td><td>Natural Hair Mask,Natural Hair Styles,Natural Beauty,Skin Tag,How To Apply Makeup,Pimples,Beauty Routines,Skincare Routine,Glowing Skin</td><td>Skin Purging: Die Pflegemethode für reine Haut | ELLE</td><td>1f20551b-a21c-4ff0-b20d-49e95fdc50d3</td></tr><tr><td>finance</td><td>Don't fight about budgets and money with your spouse! Here are a few tips that we've found that make it work in our marriage!</td><td>1</td><td>313</td><td>https://i.pinimg.com/originals/37/d5/82/37d58296bcef3471a633c76b89d8625e.jpg</td><td>5468</td><td>image</td><td>Annamarie Hilton</td><td>Local save in /data/finance</td><td>Ways To Save Money,Money Tips,Money Saving Tips,How To Make Money,Managing Money,Saving Time,College Fund,Scholarships For College,Education College</td><td>Budgets, Spouses & Making It Work! - Tshanina Peterson</td><td>91ee49f6-0070-4270-ba19-fde88ba51c91</td></tr><tr><td>quotes</td><td>Are you looking for some heart touching sad quotes and sayings; Here we have collected for you 50 best heart touching sad quotes..</td><td>1</td><td>112</td><td>https://i.pinimg.com/originals/0c/0f/40/0c0f408d96458080e0c82adb50be8e8f.jpg</td><td>7790</td><td>image</td><td>AnnaLee Kick</td><td>Local save in /data/quotes</td><td>Crush Quotes For Girls,Sad Crush Quotes,Hurt Quotes,Love Me Quotes,Mood Quotes,Quotes To Live By,Life Quotes,Quotes Quotes,Sad Quotes That Make You Cry</td><td>50 Heart Touching Sad Quotes That Will Make You Cry</td><td>9cd89fb9-d1af-4e66-85ca-c9d656c918b4</td></tr><tr><td>beauty</td><td>Might try this... I'm generally skeptical about at-home remedies, but I know baking soda and lemons both do wonders. More</td><td>1</td><td>5M</td><td>https://i.pinimg.com/originals/c8/ab/af/c8abaffc56050f674eef8e65ad684929.jpg</td><td>1422</td><td>image</td><td>BuzzFeed</td><td>Local save in /data/beauty</td><td>Baking Soda Lemon Juice,Diy Beauté,Tips Belleza,Belleza Natural,Health And Beauty Tips,Beauty Secrets,Beauty Advice,Diy Beauty Tips,Beauty Life Hacks</td><td>41 Life-Saving Beauty Hacks Every Girl Should Have In Her Arsenal</td><td>7bbe860c-a739-4ba9-babd-feb24bb6e4d9</td></tr><tr><td>vehicles</td><td>There are a lot of options of places to stay so you probably only have to book the initial one so you know the best place to land from the airport</td><td>1</td><td>171k</td><td>https://i.pinimg.com/originals/e9/01/4d/e9014d537dd2b81c606e8466cef3904c.jpg</td><td>10663</td><td>image</td><td>vintagetopia</td><td>Local save in /data/vehicles</td><td>Old Classic Cars,Classic Trucks,Old Vintage Cars,Antique Cars,Vintage Trucks,Antique Trucks,Cadillac,Convertible,Mustang</td><td>21+ Classic Car Picture of the 1950s - Vintagetopia</td><td>d5208c16-82ae-4fd1-87f0-36e5ef789412</td></tr><tr><td>diy-and-crafts</td><td>Keep the kids busy this summer with these easy diy crafts and projects. Creative and…</td><td>1</td><td>124k</td><td>https://i.pinimg.com/originals/b3/bc/e2/b3bce2964e8c8975387b39660eed5f16.jpg</td><td>2863</td><td>image</td><td>Of Life & Lisa | Lifestyle Blog</td><td>Local save in /data/diy-and-crafts</td><td>Summer Crafts For Kids,Fun Crafts For Kids,Summer Kids,Toddler Crafts,Crafts To Do,Diy For Kids,Summer Snow,Diys For Summer,Craft Ideas For Girls</td><td>25 Super Fun Summer Crafts for Kids - Of Life and Lisa</td><td>9bf39437-42a6-4f02-99a0-9a0383d8cd70</td></tr><tr><td>diy-and-crafts</td><td>Keep the kids busy this summer with these easy diy crafts and projects. Creative and…</td><td>1</td><td>124k</td><td>https://i.pinimg.com/originals/b3/bc/e2/b3bce2964e8c8975387b39660eed5f16.jpg</td><td>2863</td><td>image</td><td>Of Life & Lisa | Lifestyle Blog</td><td>Local save in /data/diy-and-crafts</td><td>Summer Crafts For Kids,Fun Crafts For Kids,Summer Kids,Toddler Crafts,Crafts To Do,Diy For Kids,Summer Snow,Diys For Summer,Craft Ideas For Girls</td><td>25 Super Fun Summer Crafts for Kids - Of Life and Lisa</td><td>9bf39437-42a6-4f02-99a0-9a0383d8cd70</td></tr><tr><td>diy-and-crafts</td><td>Keep the kids busy this summer with these easy diy crafts and projects. Creative and…</td><td>1</td><td>124k</td><td>https://i.pinimg.com/originals/b3/bc/e2/b3bce2964e8c8975387b39660eed5f16.jpg</td><td>2863</td><td>image</td><td>Of Life & Lisa | Lifestyle Blog</td><td>Local save in /data/diy-and-crafts</td><td>Summer Crafts For Kids,Fun Crafts For Kids,Summer Kids,Toddler Crafts,Crafts To Do,Diy For Kids,Summer Snow,Diys For Summer,Craft Ideas For Girls</td><td>25 Super Fun Summer Crafts for Kids - Of Life and Lisa</td><td>9bf39437-42a6-4f02-99a0-9a0383d8cd70</td></tr><tr><td>tattoos</td><td>We welcome you to our latest collection of Beautiful Tattoo Ideas For Women. Check out and get inspired by the most beautiful design for yourself.</td><td>1</td><td>21k</td><td>https://i.pinimg.com/originals/fa/cf/7c/facf7cd752a4bc7c09faaa8925ab80b1.jpg</td><td>8653</td><td>image</td><td>ALL FOR WOMAN</td><td>Local save in /data/tattoos</td><td>Small Back Tattoos,Small Girl Tattoos,Little Tattoos,Tattoo Girls,Mini Tattoos,Tattoo Small,Back Tattoo Women,Tattoo On Back,Girl Back Tattoos</td><td>Unique Women Tattoos Ideas 2020</td><td>24b1343c-4d86-4705-8ec9-7f1f2df2d77e</td></tr><tr><td>diy-and-crafts</td><td>A fun space activity for kids. Preshoolers and kindergartners will love making their own alien spacecraft!</td><td>1</td><td>192k</td><td>https://i.pinimg.com/originals/6f/e8/aa/6fe8aa405513c6d2f77b5f47d17cdce8.jpg</td><td>2923</td><td>image</td><td>The Crafting Chicks</td><td>Local save in /data/diy-and-crafts</td><td>Paper Plate Crafts For Kids,Fun Crafts For Kids,Summer Crafts,Toddler Crafts,Art For Kids,Outer Space Crafts For Kids,Kid Crafts,Space Kids,Back To School Crafts For Kids</td><td>UFO Paper Plate Craft</td><td>52fa3af5-24a4-4ccb-8f17-9c3eb12327ee</td></tr><tr><td>diy-and-crafts</td><td>A fun space activity for kids. Preshoolers and kindergartners will love making their own alien spacecraft!</td><td>1</td><td>192k</td><td>https://i.pinimg.com/originals/6f/e8/aa/6fe8aa405513c6d2f77b5f47d17cdce8.jpg</td><td>2923</td><td>image</td><td>The Crafting Chicks</td><td>Local save in /data/diy-and-crafts</td><td>Paper Plate Crafts For Kids,Fun Crafts For Kids,Summer Crafts,Toddler Crafts,Art For Kids,Outer Space Crafts For Kids,Kid Crafts,Space Kids,Back To School Crafts For Kids</td><td>UFO Paper Plate Craft</td><td>52fa3af5-24a4-4ccb-8f17-9c3eb12327ee</td></tr><tr><td>travel</td><td>Volcanoes, hikes, and hot springs in Costa Rica! The ultimate 5 day travel itinerary. - #costarica #travel #blogging #blog #bucketlist</td><td>1</td><td>22k</td><td>https://i.pinimg.com/originals/60/fe/4c/60fe4c3602e8e50e2e9f787ed27d2aba.jpg</td><td>9936</td><td>image</td><td>Jess Wandering</td><td>Local save in /data/travel</td><td>Costa Rica Reisen,Costa Rica Travel,Vacation Places,Dream Vacations,Vacation Spots,Vacation Food,Vacation Ideas,Voyage Dubai,Beautiful Places To Travel</td><td>Chasing Waterfalls in Costa Rica</td><td>1f3154a6-13f0-4049-8d5c-faea15b9f07c</td></tr><tr><td>quotes</td><td>motivation quotes</td><td>1</td><td>45k</td><td>https://i.pinimg.com/originals/ee/b4/bc/eeb4bccdb074edb787ea61711e0c4dfd.jpg</td><td>7768</td><td>image</td><td>Boss Babe Chronicles | Personal Development, Finances, Self Care</td><td>Local save in /data/quotes</td><td>Motivacional Quotes,Motivational Quotes For Life,Uplifting Quotes,True Quotes,Words Quotes,Empowering Quotes,Boss Up Quotes,Inspirational Success Quotes,Boss Babe Quotes Work Hard</td><td>16 Motivational Quotes Get You Inspired Today - Boss Babe Chronicles</td><td>ae1a61f6-d958-40fe-ba93-6a78b3a73178</td></tr><tr><td>beauty</td><td>Here’s how to get long-lasting makeup, so you can do your face in the morning and be set for the entire day. Follow these makeup tips for foundation, lipstick and more using pro… </td><td>1</td><td>3k</td><td>https://i.pinimg.com/originals/d9/d1/3b/d9d13b9ac47d54940f05a75345a873d4.jpg</td><td>1268</td><td>image</td><td>Tony</td><td>Local save in /data/beauty</td><td>Beauty Makeup,Eye Makeup,Diy Beauty,Beauty Ideas,Beauty Skin,Homemade Beauty,Wolf Makeup,Oily Skin Makeup,Face Beauty</td><td>Janet on Twitter</td><td>e2f2cec5-cda5-42b2-ab9d-6dddf863e94e</td></tr><tr><td>art</td><td>Mountain monologue watercolor</td><td>1</td><td>27k</td><td>https://i.pinimg.com/originals/fd/54/89/fd548935dcb13545120a2115baaa41d9.jpg</td><td>46</td><td>image</td><td>It's me, JD | DIY, Crafts, Home & Organization</td><td>Local save in /data/art</td><td>Arte Inspo,Kunst Inspo,Watercolor Artists,Watercolor Ideas,Simple Watercolor,Tattoo Watercolor,Watercolor Techniques,Watercolor Animals,Watercolor Illustration</td><td>10 Watercolor Hacks For Beginners | Tips and Tricks to Making Watercolor Painting Easier</td><td>19234073-8905-4885-b0d5-98e0b84cbf27</td></tr><tr><td>finance</td><td>How to Get Rid of Cable and Still Watch all of your favorite shows! Saving Money Tips for TV & Cable!</td><td>1</td><td>330k</td><td>https://i.pinimg.com/originals/c9/18/be/c918be2784382dc49010719bf1742a61.jpg</td><td>5309</td><td>image</td><td>Passion For Savings</td><td>Local save in /data/finance</td><td>Ways To Save Money,Money Tips,Money Saving Tips,Money Hacks,Managing Money,Cable Tv Alternatives,Budget Planer,Financial Tips,Financial Planning</td><td>How to Watch Your Favorite Shows Without Cable</td><td>c38bb47b-9584-4fc4-af0d-a31e1061df41</td></tr><tr><td>travel</td><td>The best trips to take when you are young!</td><td>1</td><td>89k</td><td>https://i.pinimg.com/videos/thumbnails/originals/81/97/c1/8197c1beef8bcb19bea5d8b422211f34.0000001.jpg</td><td>9546</td><td>video</td><td>The World Pursuit Travel Website</td><td>Local save in /data/travel</td><td>Fun Places To Go,Beautiful Places To Travel,Best Places To Travel,Travel Jobs,Holiday Places,Future Travel,Travel Around The World,Adventure Travel,Travel Photos</td><td>20 Amazing Trips to Take in Your Twenties!</td><td>efd5b2d6-2f69-40cd-bb59-41f18c089e52</td></tr><tr><td>finance</td><td>Get your personal finance in order with these 8 fr…</td><td>1</td><td>46k</td><td>https://i.pinimg.com/originals/f1/4f/cc/f14fcc75ee73ff22c983bdce70c022e2.jpg</td><td>5630</td><td>image</td><td>R.J. Weiss at The Ways To Wealth | Personal Finance | Debt Payoff</td><td>Local save in /data/finance</td><td>Ways To Save Money,Money Tips,Money Saving Tips,Money Budget,Saving Ideas,Budgeting Finances,Budgeting Tips,Planning Budget,Budget Planer</td><td>7 Insanely Useful Money Management Worksheets</td><td>d41e703c-c97c-4c5a-9f9c-338982ca7504</td></tr><tr><td>tattoos</td><td>Koi fish tattoos are a popular choice for men who want to make a statement, thanks to their rich symbolism and bold design.</td><td>1</td><td>211k</td><td>https://i.pinimg.com/originals/8a/0c/0a/8a0c0a7b6236565c519acd41ad1a52c0.jpg</td><td>8731</td><td>image</td><td>TheTrendSpotter</td><td>Local save in /data/tattoos</td><td>Dr Tattoo,Wörter Tattoos,Pisces Tattoos,Tatoo Art,Dream Tattoos,Dope Tattoos,Mini Tattoos,Finger Tattoos,Body Art Tattoos</td><td>20 Koi Fish Tattoos For Lucky Men</td><td>ea760f71-febf-4023-b592-d17396659039</td></tr><tr><td>tattoos</td><td>Koi fish tattoos are a popular choice for men who want to make a statement, thanks to their rich symbolism and bold design.</td><td>1</td><td>211k</td><td>https://i.pinimg.com/originals/8a/0c/0a/8a0c0a7b6236565c519acd41ad1a52c0.jpg</td><td>8731</td><td>image</td><td>TheTrendSpotter</td><td>Local save in /data/tattoos</td><td>Dr Tattoo,Wörter Tattoos,Pisces Tattoos,Tatoo Art,Dream Tattoos,Dope Tattoos,Mini Tattoos,Finger Tattoos,Body Art Tattoos</td><td>20 Koi Fish Tattoos For Lucky Men</td><td>ea760f71-febf-4023-b592-d17396659039</td></tr><tr><td>tattoos</td><td>Koi fish tattoos are a popular choice for men who want to make a statement, thanks to their rich symbolism and bold design.</td><td>1</td><td>211k</td><td>https://i.pinimg.com/originals/8a/0c/0a/8a0c0a7b6236565c519acd41ad1a52c0.jpg</td><td>8731</td><td>image</td><td>TheTrendSpotter</td><td>Local save in /data/tattoos</td><td>Dr Tattoo,Wörter Tattoos,Pisces Tattoos,Tatoo Art,Dream Tattoos,Dope Tattoos,Mini Tattoos,Finger Tattoos,Body Art Tattoos</td><td>20 Koi Fish Tattoos For Lucky Men</td><td>ea760f71-febf-4023-b592-d17396659039</td></tr><tr><td>quotes</td><td>#lovequotes #matchmaker #matchmadeinheaven #loveyourself #respectyourself</td><td>1</td><td>51k</td><td>https://i.pinimg.com/originals/c6/64/ee/c664ee71524fb5a6e7b7b49233f93b43.png</td><td>8304</td><td>image</td><td>Commitment Connection</td><td>Local save in /data/quotes</td><td>Wise Quotes,Quotable Quotes,Words Quotes,Wise Words,Quotes To Live By,Great Quotes,Motivational Quotes,Inspirational Quotes,Funny Quotes</td><td>The #1 Reason You’re Not His Priority Anymore - Matthew Coast</td><td>5b6d0913-25e4-43ab-839d-85d5516f78a4</td></tr><tr><td>quotes</td><td>#lovequotes #matchmaker #matchmadeinheaven #loveyourself #respectyourself</td><td>1</td><td>51k</td><td>https://i.pinimg.com/originals/c6/64/ee/c664ee71524fb5a6e7b7b49233f93b43.png</td><td>8304</td><td>image</td><td>Commitment Connection</td><td>Local save in /data/quotes</td><td>Wise Quotes,Quotable Quotes,Words Quotes,Wise Words,Quotes To Live By,Great Quotes,Motivational Quotes,Inspirational Quotes,Funny Quotes</td><td>The #1 Reason You’re Not His Priority Anymore - Matthew Coast</td><td>5b6d0913-25e4-43ab-839d-85d5516f78a4</td></tr><tr><td>quotes</td><td>#lovequotes #matchmaker #matchmadeinheaven #loveyourself #respectyourself</td><td>1</td><td>51k</td><td>https://i.pinimg.com/originals/c6/64/ee/c664ee71524fb5a6e7b7b49233f93b43.png</td><td>8304</td><td>image</td><td>Commitment Connection</td><td>Local save in /data/quotes</td><td>Wise Quotes,Quotable Quotes,Words Quotes,Wise Words,Quotes To Live By,Great Quotes,Motivational Quotes,Inspirational Quotes,Funny Quotes</td><td>The #1 Reason You’re Not His Priority Anymore - Matthew Coast</td><td>5b6d0913-25e4-43ab-839d-85d5516f78a4</td></tr><tr><td>mens-fashion</td><td>imgentleboss: “ - More about men’s fashion at @Gentleboss - GB’s Facebook - ”</td><td>1</td><td>940</td><td>https://i.pinimg.com/originals/e7/6e/8e/e76e8ed6cc838b84a934c6948a5caff7.jpg</td><td>7554</td><td>image</td><td>iElylike ..✿◕‿◕✿ஐ✿◕‿◕✿</td><td>Local save in /data/mens-fashion</td><td>Mens Fashion Blog,Look Fashion,Autumn Fashion,Fashion News,Fashion Sale,80s Fashion,Paris Fashion,Runway Fashion,Fashion Trends</td><td>Craig Style</td><td>c6fa12f4-0d4a-4b07-a335-5bf9f37f8281</td></tr><tr><td>mens-fashion</td><td>imgentleboss: “ - More about men’s fashion at @Gentleboss - GB’s Facebook - ”</td><td>1</td><td>940</td><td>https://i.pinimg.com/originals/e7/6e/8e/e76e8ed6cc838b84a934c6948a5caff7.jpg</td><td>7554</td><td>image</td><td>iElylike ..✿◕‿◕✿ஐ✿◕‿◕✿</td><td>Local save in /data/mens-fashion</td><td>Mens Fashion Blog,Look Fashion,Autumn Fashion,Fashion News,Fashion Sale,80s Fashion,Paris Fashion,Runway Fashion,Fashion Trends</td><td>Craig Style</td><td>c6fa12f4-0d4a-4b07-a335-5bf9f37f8281</td></tr><tr><td>tattoos</td><td>Tattoos are one of the most efficient ways through which one decides to express themselves…</td><td>1</td><td>4k</td><td>https://i.pinimg.com/originals/ab/8e/50/ab8e505b04d4abc8f23e273c15f8a65d.jpg</td><td>8887</td><td>image</td><td>RapidLeaks</td><td>Local save in /data/tattoos</td><td>Dream Tattoos,Body Art Tattoos,New Tattoos,Small Tattoos,Cross Tattoos,Random Tattoos,Fashion Tattoos,Bird Tattoos,Fitness Tattoos</td><td>25 Ultra Sexy Back Tattoo Ideas For Girls</td><td>5df9f6e5-07f5-4ce8-a82e-96586bbc05d8</td></tr><tr><td>vehicles</td><td>No description available Story format</td><td>1</td><td>89k</td><td>https://i.pinimg.com/videos/thumbnails/originals/4a/d4/96/4ad4961606179854f1141a90f50f002c.0000001.jpg</td><td>10509</td><td>multi-video(story page format)</td><td>TheSuperBOO!</td><td>Local save in /data/vehicles</td><td>Electric Off Road Vehicle,Cool Illusions,Flying Vehicles,Wow Video,Art And Craft Videos,Top Luxury Cars,Chevy Muscle Cars,Street Racing Cars,Funny Videos Clean</td><td>Flying Car</td><td>6a5f0e7e-1389-4e54-942f-4cb69f09f140</td></tr><tr><td>beauty</td><td>Instantly create the look of lash extensions with this award-winning, best-selling mascara that won't clump, flake or smudge. Available in 3 shades!</td><td>1</td><td>43k</td><td>https://i.pinimg.com/videos/thumbnails/originals/69/84/e2/6984e20f3e262098fa9c0614c3453254.0000001.jpg</td><td>1313</td><td>video</td><td>Thrive Causemetics</td><td>Local save in /data/beauty</td><td>N,o, ,T,a,g,s, ,A,v,a,i,l,a,b,l,e</td><td>Liquid Lash Extensions Mascara</td><td>44662045-e891-4821-8a19-ebe7eedd371a</td></tr><tr><td>beauty</td><td>Instantly create the look of lash extensions with this award-winning, best-selling mascara that won't clump, flake or smudge. Available in 3 shades!</td><td>1</td><td>43k</td><td>https://i.pinimg.com/videos/thumbnails/originals/69/84/e2/6984e20f3e262098fa9c0614c3453254.0000001.jpg</td><td>1313</td><td>video</td><td>Thrive Causemetics</td><td>Local save in /data/beauty</td><td>N,o, ,T,a,g,s, ,A,v,a,i,l,a,b,l,e</td><td>Liquid Lash Extensions Mascara</td><td>44662045-e891-4821-8a19-ebe7eedd371a</td></tr><tr><td>beauty</td><td>Instantly create the look of lash extensions with this award-winning, best-selling mascara that won't clump, flake or smudge. Available in 3 shades!</td><td>1</td><td>43k</td><td>https://i.pinimg.com/videos/thumbnails/originals/69/84/e2/6984e20f3e262098fa9c0614c3453254.0000001.jpg</td><td>1313</td><td>video</td><td>Thrive Causemetics</td><td>Local save in /data/beauty</td><td>N,o, ,T,a,g,s, ,A,v,a,i,l,a,b,l,e</td><td>Liquid Lash Extensions Mascara</td><td>44662045-e891-4821-8a19-ebe7eedd371a</td></tr><tr><td>vehicles</td><td>1937 Jaguar SS100 - 2 1/2 Litre Roadster, one of the most sought after pre-war sports cars</td><td>1</td><td>8k</td><td>https://i.pinimg.com/originals/26/81/a7/2681a71bd0c8f7fd0ab79c455338a49a.jpg</td><td>10625</td><td>image</td><td>hobbyDB</td><td>Local save in /data/vehicles</td><td>Jaguar Type E,Jaguar Xk,Jaguar Cars,Jaguar Roadster,Jaguar Sport,Retro Cars,Vintage Cars,Antique Cars,British Sports Cars</td><td>Jaguar Type E</td><td>d31885b7-742a-4e2a-bbb7-ac5f9d334340</td></tr><tr><td>vehicles</td><td>1937 Jaguar SS100 - 2 1/2 Litre Roadster, one of the most sought after pre-war sports cars</td><td>1</td><td>8k</td><td>https://i.pinimg.com/originals/26/81/a7/2681a71bd0c8f7fd0ab79c455338a49a.jpg</td><td>10625</td><td>image</td><td>hobbyDB</td><td>Local save in /data/vehicles</td><td>Jaguar Type E,Jaguar Xk,Jaguar Cars,Jaguar Roadster,Jaguar Sport,Retro Cars,Vintage Cars,Antique Cars,British Sports Cars</td><td>Jaguar Type E</td><td>d31885b7-742a-4e2a-bbb7-ac5f9d334340</td></tr><tr><td>event-planning</td><td>Fun Book Page Crafts - MomAdvice</td><td>1</td><td>112k</td><td>https://i.pinimg.com/originals/17/55/87/175587b334e71c12300453b8b4b4c6aa.jpg</td><td>4988</td><td>image</td><td>MomAdvice</td><td>Local save in /data/event-planning</td><td>Harry Potter Wedding,Harry Potter Theme,Wedding Book,Wedding Table,Wedding Ideas,Wedding Vintage,Garden Wedding,Vintage Party,Wedding Paper</td><td>Fun Book Page Crafts - MomAdvice</td><td>fbdfd355-a356-46c2-a251-301869ae2674</td></tr><tr><td>travel</td><td>Best spots to see for travel through Ireland!</td><td>1</td><td>130k</td><td>https://i.pinimg.com/originals/c7/50/d3/c750d36524856873d64406652d69b4fb.png</td><td>9590</td><td>image</td><td>Fun Life Crisis</td><td>Local save in /data/travel</td><td>Vacation Ideas,Vacation Spots,Emerald Isle,London England,Travel Guides,Travel Tips,Travel Hacks,Travel Packing,Places To Travel</td><td>Top 20 Things To See And Do In Ireland</td><td>b849e976-52f6-45d7-8b25-51559318f167</td></tr><tr><td>mens-fashion</td><td>billy-george: “Summer styles ”</td><td>1</td><td>377</td><td>https://i.pinimg.com/originals/3c/8c/53/3c8c534cd02334c50047bd3a4feccce9.jpg</td><td>6844</td><td>image</td><td>Au'vey Smith</td><td>Local save in /data/mens-fashion</td><td>Fashion Week Hommes,La Fashion Week,Fashion Moda,Urban Fashion,Trendy Fashion,Fashion Spring,Fashion 2017,New Mens Fashion,Trendy Clothing</td><td>♔the-fashman♔</td><td>69c3f268-274f-44bd-9cb4-427e64fefc44</td></tr><tr><td>beauty</td><td>Untitled</td><td>1</td><td>0</td><td>https://i.pinimg.com/originals/af/c4/59/afc459bd6e1fd8f9aef212504afebf3a.jpg</td><td>1014</td><td>image</td><td>Grecia Perales</td><td>Local save in /data/beauty</td><td>Hair Inspo,Hair Inspiration,Motivation Inspiration,Cl Rapper,Foto Glamour,Kreative Portraits,Classy Aesthetic,Pretty Hairstyles,Hair Looks</td><td>Hairstyles & Beauty</td><td>9ac94307-bb27-410e-b554-0a0ab6c19847</td></tr><tr><td>vehicles</td><td>Nissan GT-R. Sick.</td><td>1</td><td>437</td><td>https://i.pinimg.com/originals/0d/29/9f/0d299f3df020395aa7ce8387f40fbeed.jpg</td><td>10794</td><td>image</td><td>Ray Uyemura</td><td>Local save in /data/vehicles</td><td>Lowrider,Old Vintage Cars,Antique Cars,Austin Martin,Nissan Gtr Black,Jaguar,1959 Cadillac,Cadillac Ct6,Old School Cars</td><td>TireBuyer</td><td>c4bd2577-a7bb-4409-bb7a-17d5ed7e1cf1</td></tr><tr><td>vehicles</td><td>Nissan GT-R. Sick.</td><td>1</td><td>437</td><td>https://i.pinimg.com/originals/0d/29/9f/0d299f3df020395aa7ce8387f40fbeed.jpg</td><td>10794</td><td>image</td><td>Ray Uyemura</td><td>Local save in /data/vehicles</td><td>Lowrider,Old Vintage Cars,Antique Cars,Austin Martin,Nissan Gtr Black,Jaguar,1959 Cadillac,Cadillac Ct6,Old School Cars</td><td>TireBuyer</td><td>c4bd2577-a7bb-4409-bb7a-17d5ed7e1cf1</td></tr><tr><td>beauty</td><td>9 colors lazy lipstick</td><td>1</td><td>8k</td><td>https://i.pinimg.com/originals/25/cf/8c/25cf8cb74b43ab95591342c2bbe4ecd8.jpg</td><td>1094</td><td>image</td><td>Jiew82633</td><td>Local save in /data/beauty</td><td>Nail Inspo,Lazy,Lipstick,How To Apply,Makeup,Colors,Products,Make Up,Lipsticks</td><td>9 colors lazy lipstick - 9 colors lazy lipstick4</td><td>6deacdcd-75ed-4dd8-8951-9b77453f38e0</td></tr><tr><td>diy-and-crafts</td><td>No description available Story format</td><td>0</td><td>User Info Error</td><td>Image src error.</td><td>3089</td><td>multi-video(story page format)</td><td>User Info Error</td><td>Local save in /data/diy-and-crafts</td><td>N,o, ,T,a,g,s, ,A,v,a,i,l,a,b,l,e</td><td>No Title Data Available</td><td>88f9227e-88d0-4b1c-b0be-bcfc3028b8e2</td></tr><tr><td>diy-and-crafts</td><td>No description available Story format</td><td>0</td><td>User Info Error</td><td>Image src error.</td><td>3089</td><td>multi-video(story page format)</td><td>User Info Error</td><td>Local save in /data/diy-and-crafts</td><td>N,o, ,T,a,g,s, ,A,v,a,i,l,a,b,l,e</td><td>No Title Data Available</td><td>88f9227e-88d0-4b1c-b0be-bcfc3028b8e2</td></tr><tr><td>mens-fashion</td><td>No description available Story format</td><td>0</td><td>User Info Error</td><td>Image src error.</td><td>7528</td><td>multi-video(story page format)</td><td>User Info Error</td><td>Local save in /data/mens-fashion</td><td>N,o, ,T,a,g,s, ,A,v,a,i,l,a,b,l,e</td><td>No Title Data Available</td><td>fbe53c66-3442-4773-b19e-d3ec6f54dddf</td></tr><tr><td>mens-fashion</td><td>No description available Story format</td><td>0</td><td>User Info Error</td><td>Image src error.</td><td>7528</td><td>multi-video(story page format)</td><td>User Info Error</td><td>Local save in /data/mens-fashion</td><td>N,o, ,T,a,g,s, ,A,v,a,i,l,a,b,l,e</td><td>No Title Data Available</td><td>fbe53c66-3442-4773-b19e-d3ec6f54dddf</td></tr><tr><td>mens-fashion</td><td>No description available Story format</td><td>0</td><td>User Info Error</td><td>Image src error.</td><td>7528</td><td>multi-video(story page format)</td><td>User Info Error</td><td>Local save in /data/mens-fashion</td><td>N,o, ,T,a,g,s, ,A,v,a,i,l,a,b,l,e</td><td>No Title Data Available</td><td>fbe53c66-3442-4773-b19e-d3ec6f54dddf</td></tr></tbody></table></div>"
      ]
     },
     "metadata": {
      "application/vnd.databricks.v1+output": {
       "addedWidgets": {},
       "aggData": [],
       "aggError": "",
       "aggOverflow": false,
       "aggSchema": [],
       "aggSeriesLimitReached": false,
       "aggType": "",
       "arguments": {},
       "columnCustomDisplayInfos": {},
       "data": [
        [
         "christmas",
         "Christmas decorating ideas for porches. Beautiful holiday decor ideas for front porches both small and large. Outdoor decorations like sleds, lanterns, Christmas trees, wreaths,… ",
         1,
         "46k",
         "https://i.pinimg.com/videos/thumbnails/originals/40/83/f5/4083f5b4971bf235f89a4784ab87271e.0000001.jpg",
         2482,
         "video",
         "Life on Summerhill | Home, Holiday Decor & DIY Website",
         "Local save in /data/christmas",
         "Diy Christmas Decorations For Home,Farmhouse Christmas Decor,Christmas Home,Christmas Holidays,Christmas Front Porches,How To Decorate For Christmas,Christmas Porch Ideas,Christmas Decorating Ideas,Large Outdoor Christmas Decorations",
         "FORNT PORCH CHRISTMAS DECORATING IDEAS",
         "08604f20-fa17-4b9a-9949-781717eca6cd"
        ],
        [
         "travel",
         "This Costa Rica itinerary is the ultimate guide to spending two weeks in Costa Rica. Find out about visiting La Fortuna, Arenal, Monteverde, Naranjo, Corcovado National Park, Or… ",
         1,
         "10k",
         "https://i.pinimg.com/originals/30/93/cb/3093cb01d9de2d125fda8ba5e3e41946.jpg",
         10138,
         "image",
         "Wanderlust Chloe ✈️ Travel guides, inspo and adventure travel ✈️",
         "Local save in /data/travel",
         "Costa Rica Travel,Rio Celeste Costa Rica,Dream Vacations,Vacation Spots,Vacation Travel,Travel Pictures,Travel Photos,Fortuna Costa Rica,Costa Rica Pictures",
         "14 Amazing Things To Do In Costa Rica | Volcanoes, Waterfalls, Wildlife And More",
         "927c4658-cc3f-4b92-9b5c-70743d0c238d"
        ],
        [
         "christmas",
         "My favorite 75+ Neutral Christmas Home Decor for decorating your house during the Holiday Season in earth tones and a farmhouse, rustic style all winter. I love this modern, sim… ",
         1,
         "31k",
         "https://i.pinimg.com/originals/86/84/39/868439dd894969e3abd6a2a8a9fe1e9c.jpg",
         2604,
         "image",
         "Everyday Wholesome",
         "Local save in /data/christmas",
         "Colorful Christmas Decorations,Colorful Christmas Tree,Christmas Centerpieces,Christmas Colors,Xmas Colors,Winter Decorations,Christmas Trends,Christmas Inspiration,Christmas Home",
         "75+ Neutral Christmas Home Decor for the Holiday Season in Farmhouse Style using Earth Tones Modern",
         "087b0fa9-f901-4262-aa0a-6caf234d1b35"
        ],
        [
         "diy-and-crafts",
         "This post may contain affiliate links, read our Disclosure Policy for more information. As an Amazon Associate I earn from qualifying purchases, thank you! Make some cute handpr… ",
         1,
         "892k",
         "https://i.pinimg.com/originals/ff/fe/38/fffe384f3ec18a0d87cb2d80cc8c1499.jpg",
         3156,
         "image",
         "Michelle {CraftyMorning.com}",
         "Local save in /data/diy-and-crafts",
         "Christmas Gifts For Parents,Christmas Decorations For Kids,Christmas Crafts For Toddlers,Preschool Christmas,Christmas Crafts For Gifts,Christmas Activities,Toddler Crafts,Kids Christmas,Christmas Feeling",
         "Handprint Reindeer Ornaments - Crafty Morning",
         "fa6e31a4-18c2-4eca-a6d8-e903eee2c2a4"
        ],
        [
         "diy-and-crafts",
         "This post may contain affiliate links, read our Disclosure Policy for more information. As an Amazon Associate I earn from qualifying purchases, thank you! Make some cute handpr… ",
         1,
         "892k",
         "https://i.pinimg.com/originals/ff/fe/38/fffe384f3ec18a0d87cb2d80cc8c1499.jpg",
         3156,
         "image",
         "Michelle {CraftyMorning.com}",
         "Local save in /data/diy-and-crafts",
         "Christmas Gifts For Parents,Christmas Decorations For Kids,Christmas Crafts For Toddlers,Preschool Christmas,Christmas Crafts For Gifts,Christmas Activities,Toddler Crafts,Kids Christmas,Christmas Feeling",
         "Handprint Reindeer Ornaments - Crafty Morning",
         "fa6e31a4-18c2-4eca-a6d8-e903eee2c2a4"
        ],
        [
         "travel",
         "See families traveling all the time and wonder, \"how the heck do they afford this?\" Read 10 mistakes you might be making, and what you should do instead.",
         1,
         "9k",
         "https://i.pinimg.com/originals/0a/49/fb/0a49fbcec746c4219d3a6f30834f378e.jpg",
         10119,
         "image",
         "OUR NEXT ADVENTURE | family travel blog",
         "Local save in /data/travel",
         "Family Vacation Destinations,Vacation Trips,Travel Destinations,Vacation Ideas,Cheap Family Vacations,Vacation Travel,Best Family Vacation Spots,Vacation Quotes,Vacation Memories",
         "How to Afford Family Travel: 10 Mistakes You're Making (and what to do instead) | Our Next Adventure",
         "40eab9ba-7812-4f26-baca-35a6bed95a9f"
        ],
        [
         "diy-and-crafts",
         "Easy Christmas tree Craft Ideas for toddlers and preschoolers. Engage your kids in these DIY",
         1,
         "3k",
         "https://i.pinimg.com/originals/69/f0/75/69f075939d4449dffa69519756c30e26.png",
         3419,
         "image",
         "Kids Crafts & Free Preschool Printables- Sharing Our Experiences",
         "Local save in /data/diy-and-crafts",
         "Christmas Crafts For Kids To Make,Christmas Tree Painting,Christmas Activities For Kids,Easy Christmas Crafts For Toddlers,Kid Activities,Christmas Handprint Crafts,Christmas Tree Crafts,Christmas Baby,Xmas Tree",
         "Easy Christmas Tree Crafts Ideas for toddlers and preschoolers | Sharing Our Experiences",
         "d0b80187-0171-49b2-8ee4-572984244f65"
        ],
        [
         "finance",
         "If you love budgeting, make sure to give Dave Ramsey's 7 Baby Steps a try. Follow these steps to begin your debt snowball, build an emergency fund, invest and reach riches. I ca… ",
         1,
         "26k",
         "https://i.pinimg.com/originals/1e/9d/90/1e9d906e4e150e3b95187f3b76ea7c71.png",
         5494,
         "image",
         "Living Low Key | Save Money, Make Money, & Frugal Living",
         "Local save in /data/finance",
         "Financial Peace,Financial Tips,Saving Money Quotes,Total Money Makeover,Budgeting Finances,Money Management,Wealth Management,Personal Finance,Making Ideas",
         "Dave Ramsey's 7 Baby Steps: What Are They And Will They Work For You",
         "8fb2af68-543b-4639-8119-de33d28706ed"
        ],
        [
         "finance",
         "If you love budgeting, make sure to give Dave Ramsey's 7 Baby Steps a try. Follow these steps to begin your debt snowball, build an emergency fund, invest and reach riches. I ca… ",
         1,
         "26k",
         "https://i.pinimg.com/originals/1e/9d/90/1e9d906e4e150e3b95187f3b76ea7c71.png",
         5494,
         "image",
         "Living Low Key | Save Money, Make Money, & Frugal Living",
         "Local save in /data/finance",
         "Financial Peace,Financial Tips,Saving Money Quotes,Total Money Makeover,Budgeting Finances,Money Management,Wealth Management,Personal Finance,Making Ideas",
         "Dave Ramsey's 7 Baby Steps: What Are They And Will They Work For You",
         "8fb2af68-543b-4639-8119-de33d28706ed"
        ],
        [
         "christmas",
         "Here are the best DIY Christmas Centerpieces ideas perfect for your Christmas & holiday season home decor. From Christmas Vignettes to Table Centerpieces.",
         1,
         "500k",
         "https://i.pinimg.com/originals/aa/6d/0f/aa6d0f44d7c1c96b998cb9aa6c4446b8.png",
         2418,
         "image",
         "HikenDip",
         "Local save in /data/christmas",
         "Farmhouse Christmas Decor,Rustic Christmas,Christmas Time,Vintage Christmas,Xmas,Primitive Christmas Crafts,Christmas Vignette,Indoor Christmas Decorations,Diy Christmas Ornaments",
         "100 DIY Christmas Centerpieces You'll Love To Decorate Your Home With For The Christmas Season - Hike n Dip",
         "da8745a6-5160-46c4-877d-181d50a729fd"
        ],
        [
         "christmas",
         "Here are the best DIY Christmas Centerpieces ideas perfect for your Christmas & holiday season home decor. From Christmas Vignettes to Table Centerpieces.",
         1,
         "500k",
         "https://i.pinimg.com/originals/aa/6d/0f/aa6d0f44d7c1c96b998cb9aa6c4446b8.png",
         2418,
         "image",
         "HikenDip",
         "Local save in /data/christmas",
         "Farmhouse Christmas Decor,Rustic Christmas,Christmas Time,Vintage Christmas,Xmas,Primitive Christmas Crafts,Christmas Vignette,Indoor Christmas Decorations,Diy Christmas Ornaments",
         "100 DIY Christmas Centerpieces You'll Love To Decorate Your Home With For The Christmas Season - Hike n Dip",
         "da8745a6-5160-46c4-877d-181d50a729fd"
        ],
        [
         "quotes",
         "summcoco gives you inspiration for the women fashion trends you want. Thinking about a new look or lifestyle? This is your ultimate resource to get the hottest trends. 45 Top Li… ",
         1,
         "306k",
         "https://i.pinimg.com/originals/bb/c0/e6/bbc0e6a797079505f11ac12bcb0b8c66.jpg",
         7922,
         "image",
         "Sumcoco | Decor Ideas, Hairstyles, Nails Fashion Advice",
         "Local save in /data/quotes",
         "Life Quotes Love,Inspirational Quotes About Love,Mood Quotes,Motivational Quotes,Tears Quotes,Quotes About Sadness,Deep Quotes About Life,Quotes Quotes,Quote Life",
         "45 Top Life Quotes School Did Not Teach You",
         "a584581c-1b38-4731-a1cc-f36115ecf229"
        ],
        [
         "art",
         "Use your mini world figures to create this beautiful African sunset. Your kids will love learning about shadows, angles and distortion in this fun art and STEM activity for kids.",
         1,
         "4k",
         "https://i.pinimg.com/originals/e3/aa/35/e3aa350f8f104d0e59f26d7f17ea7461.png",
         771,
         "image",
         "Taming Little Monsters - Fun Activities for Kids",
         "Local save in /data/art",
         "African Art Projects,Cool Art Projects,Projects For Kids,African Art For Kids,African Crafts Kids,Art Club Projects,Art Education Projects,Tracing Art,African Sunset",
         "African Sunset Shadow Tracing Art - Taming Little Monsters",
         "a5021766-a8aa-4dc7-9857-4da6b8e3dc1a"
        ],
        [
         "event-planning",
         "Personalize your event or shop with a customized neon sign. Make a statement with your own custom vibes! This light is 32 -40 inches (80cm-100cm) if you need something bigger, p… ",
         1,
         "111",
         "https://i.pinimg.com/originals/e9/c0/7c/e9c07cf0cf16cab23764a36718ab76c1.jpg",
         4508,
         "image",
         "Life of Neon | Custom Neon Light Signs | Home Decor Wall Art",
         "Local save in /data/event-planning",
         "Our Wedding,Wedding Venues,Dream Wedding,Wedding Cakes,Church Wedding,Wedding Flowers,Lace Wedding,Wedding Rings,Wedding Dresses",
         "Custom Event and Shop Neon Sign Lights - Event & Shop",
         "9064f4a2-2753-476c-815e-db360f45a93e"
        ],
        [
         "education",
         "Hi everyone! As a teacher using the Orton-Gillingham approach, I am constantly looking for phonics activities that my students will find fun and engaging. Using Orton-Gillingham… ",
         1,
         "22k",
         "https://i.pinimg.com/originals/58/8e/38/588e380b19942a71a86a69d9c9973d25.png",
         4076,
         "image",
         "The Literacy Nest",
         "Local save in /data/education",
         "Literacy Games,Kindergarten Activities,Literacy Centers,Fun Phonics Activities,Listening Activities,Vocabulary Games,Literacy Stations,Letter Activities,Montessori Activities",
         "Phonics Activities Your Kids Will Love - The Literacy Nest",
         "3a52d364-7c04-47cb-a3e5-56d9e2b77528"
        ],
        [
         "christmas",
         "Over 40 of the BEST Homemade Christmas Ornaments...these easy Holiday crafts are so fun to make for Kids and Adults! Lots of great class party ideas!",
         1,
         "245k",
         "https://i.pinimg.com/originals/d0/d3/a3/d0d3a31e87296224d5ba8896904b5b88.jpg",
         2293,
         "image",
         "Kitchen Fun With My 3 Sons",
         "Local save in /data/christmas",
         "Diy Christmas Lights,Homemade Christmas Decorations,Christmas Crafts For Gifts,Mini Christmas Tree,Christmas Ornament Crafts,Homemade Christmas Gifts,Xmas Decorations,Simple Christmas,Handmade Christmas",
         "Over 40 of the BEST Homemade Christmas Ornament Ideas",
         "1fd7d4cc-54c1-4542-9c1f-449cb4c875f4"
        ],
        [
         "art",
         "This bee directed drawing and associated pages will help you create a fun and creative Valentine's Day Directed Drawing Art Project activity for your class.Choose to do a painti… ",
         1,
         "1M",
         "https://i.pinimg.com/originals/49/ff/2e/49ff2e83c0cefdd37213f6084c6f0566.jpg",
         159,
         "image",
         "Teachers Pay Teachers",
         "Local save in /data/art",
         "Classroom Art Projects,School Art Projects,Art Classroom,Art Projects For Kindergarteners,Spring Art Projects,Classroom Posters,Valentines Art Lessons,Valentines Day Activities,Grade 1 Art",
         "Valentine's Day Bee Directed Drawing {Art Project}",
         "841a161a-47b8-4161-884d-adeb67a28b1e"
        ],
        [
         "travel",
         "Are you traveling to Paris during the summer? Find out what to do in Paris, France during the summer. Fun summertime activities in Paris. Enjoy the incredible outdoors when trav… ",
         1,
         "3k",
         "https://i.pinimg.com/originals/6c/4c/90/6c4c90bba27ebf8c8bfe4c1acfb9f07a.jpg",
         9979,
         "image",
         "Petite in Paris",
         "Local save in /data/travel",
         "Torre Eiffel Paris,Tour Eiffel,Picnic In Paris,Hello France,Voyage Europe,Destination Voyage,Beautiful Places To Travel,Travel Aesthetic,Paris Travel",
         "Paris in the Summer. 10 fun things to do in Paris in the Summertime • Petite in Paris",
         "2b2abc85-fc51-481f-8ae6-17681993da28"
        ],
        [
         "travel",
         "Although you'd think Greek islands are fairly similar, you'd be completely wrong! Each island has it's own personality and appeal. Here are the 8 Best Greek Islands to visit, es… ",
         1,
         "42k",
         "https://i.pinimg.com/originals/06/1d/ce/061dce38929dec8e74844442116bea4a.jpg",
         9759,
         "image",
         "TheFab20s | Travel+Food+DIY+Listicles",
         "Local save in /data/travel",
         "Greek Islands To Visit,Best Greek Islands,Greece Islands,Cool Places To Visit,Places To Go,Best Places In Portugal,Copenhagen Travel,Paros Island,Santorini Island",
         "8 Best Greek Islands You Have To Visit - TheFab20s",
         "d105eb6e-0f9f-46e7-8d02-d24b62f6ae90"
        ],
        [
         "diy-and-crafts",
         "DIY Dollar Store Valentine’s Day Heart Wreath Decoration. There are so many great Valentine crafts at the Dollar Tree right now! During our last trip, we picked up a few supplie… ",
         1,
         "9k",
         "https://i.pinimg.com/originals/dc/f6/8a/dcf68adcc63c339c24fa5664f1115994.png",
         2698,
         "image",
         "South Lumina Style",
         "Local save in /data/diy-and-crafts",
         "Valentine Day Wreaths,Valentines Day Hearts,Valentines Day Decorations,Valentine Day Crafts,Holiday Crafts,Diy Christmas,Christmas Wreaths,Valentine Tree,Printable Valentine",
         "DIY Dollar Tree Valentine's Day Wreath",
         "73f16302-4871-486a-8836-947530526337"
        ],
        [
         "home-decor",
         "Holiday mantle decor, Christmas decor, metallic mercury glass style Christmas trees, eucalyptus vine, evergreen pine branches, white neutral holiday decor, cozy mantle for the h… ",
         1,
         "83k",
         "https://i.pinimg.com/originals/9d/82/1a/9d821a80acd8f90c16454e978bd9b115.jpg",
         6145,
         "image",
         "Stylin by Aylin",
         "Local save in /data/home-decor",
         "Winter Home Decor,Christmas Living Room Decor,Living Room Decor Cozy,Christmas Decor,Cozy Fireplace,Rustic Fireplace Decor,Fireplace Decorations,Rustic Room,House Decorations",
         "HOLIDAY MANTLE DECOR - @AMAZON & @TARGET FINDS",
         "82e13a07-db99-43a3-b1c0-89a4b75821da"
        ],
        [
         "home-decor",
         "Holiday mantle decor, Christmas decor, metallic mercury glass style Christmas trees, eucalyptus vine, evergreen pine branches, white neutral holiday decor, cozy mantle for the h… ",
         1,
         "83k",
         "https://i.pinimg.com/originals/9d/82/1a/9d821a80acd8f90c16454e978bd9b115.jpg",
         6145,
         "image",
         "Stylin by Aylin",
         "Local save in /data/home-decor",
         "Winter Home Decor,Christmas Living Room Decor,Living Room Decor Cozy,Christmas Decor,Cozy Fireplace,Rustic Fireplace Decor,Fireplace Decorations,Rustic Room,House Decorations",
         "HOLIDAY MANTLE DECOR - @AMAZON & @TARGET FINDS",
         "82e13a07-db99-43a3-b1c0-89a4b75821da"
        ],
        [
         "art",
         "Easy to follow steps for this easy DIY wall art. Acrylic Paint Pouring with a blow dryer, Dutch paint pour. Written steps and full step by step video to help you do it too! 👍",
         1,
         "52k",
         "https://i.pinimg.com/videos/thumbnails/originals/d5/5e/fa/d55efa6ef50d35dac425cea935f39c89.0000001.jpg",
         427,
         "video",
         "Abbotts At Home",
         "Local save in /data/art",
         "Acrylic Pouring Art,Acrylic Wall Art,Acrylic Pouring Techniques,Acrylic Paintings,Art Paintings,Marble Art,Marble Painting,Pour Painting,Large Canvas Art",
         "DIY Acrylic Paint Pouring Wall Art - Abbotts At Home",
         "4a455340-09a2-4370-ad86-73d7964603db"
        ],
        [
         "christmas",
         "Christmas Trees From Pallet Wood | Holiday DIY: Deck the yard with some fun outdoor Christmas Trees! We made these merry and bright decorations from two old pallets we had lying… ",
         1,
         "3M",
         "https://i.pinimg.com/originals/64/7b/ca/647bca35169b7c144604116c64bcba8a.png",
         1704,
         "image",
         "Instructables",
         "Local save in /data/christmas",
         "Pallet Wood Christmas Tree,Wooden Christmas Crafts,Diy Christmas Tree,Christmas Projects,Holiday Crafts,Wooden Xmas Trees,Different Christmas Trees,Pallet Tree,Christmas Kitchen",
         "Christmas Trees From Pallet Wood | Holiday DIY",
         "5fbf9863-fb79-477c-a5b6-540c3020a55f"
        ],
        [
         "education",
         "Podcasts for Teachers or Parents of Teenagers: Teaching teens middle school and high school can feel joyful and rewarding most days, but can also frustrate you with one challeng… ",
         1,
         "25k",
         "https://i.pinimg.com/originals/50/19/31/501931a27ee4d076658980851b995b2c.jpg",
         4315,
         "image",
         "Math Giraffe",
         "Local save in /data/education",
         "Middle School Classroom,High School Students,High School Teachers,Middle School Tips,High School Counseling,Ela Classroom,High School Science,Future Classroom,Google Classroom",
         "Podcasts for Teachers or Parents of Teenagers",
         "21b59ba9-829d-4c33-8c27-4cd4c56d26b8"
        ],
        [
         "education",
         "Podcasts for Teachers or Parents of Teenagers: Teaching teens middle school and high school can feel joyful and rewarding most days, but can also frustrate you with one challeng… ",
         1,
         "25k",
         "https://i.pinimg.com/originals/50/19/31/501931a27ee4d076658980851b995b2c.jpg",
         4315,
         "image",
         "Math Giraffe",
         "Local save in /data/education",
         "Middle School Classroom,High School Students,High School Teachers,Middle School Tips,High School Counseling,Ela Classroom,High School Science,Future Classroom,Google Classroom",
         "Podcasts for Teachers or Parents of Teenagers",
         "21b59ba9-829d-4c33-8c27-4cd4c56d26b8"
        ],
        [
         "education",
         "Podcasts for Teachers or Parents of Teenagers: Teaching teens middle school and high school can feel joyful and rewarding most days, but can also frustrate you with one challeng… ",
         1,
         "25k",
         "https://i.pinimg.com/originals/50/19/31/501931a27ee4d076658980851b995b2c.jpg",
         4315,
         "image",
         "Math Giraffe",
         "Local save in /data/education",
         "Middle School Classroom,High School Students,High School Teachers,Middle School Tips,High School Counseling,Ela Classroom,High School Science,Future Classroom,Google Classroom",
         "Podcasts for Teachers or Parents of Teenagers",
         "21b59ba9-829d-4c33-8c27-4cd4c56d26b8"
        ],
        [
         "education",
         "This book presents 10 inspirational case studies of how centre leaders, principals and leadership teams in high-needs New Zealand educational settings have enacted leadership to… ",
         1,
         "2M",
         "https://i.pinimg.com/originals/0e/ea/c4/0eeac457780bbe43fcc5e9eaabd80f62.jpg",
         3599,
         "image",
         "Walmart",
         "Local save in /data/education",
         "Research Studies,Educational Leadership,Education System,Secondary School,Try It Free,Book Format,Social Justice,Young People,Paperback Books",
         "Educational Leadership in Aotearoa New Zealand : Issues of Context and Social Justice",
         "ff0dd945-dafa-411c-8cef-eb43e374e815"
        ],
        [
         "event-planning",
         "Sacramento California Wedding 2 Chic Events & Design Jodi Yorston Photography Wilson Vineyards Barn Miosa Couture Yellow Barn Vineyard Outdoor Candles DIY",
         1,
         "6M",
         "https://i.pinimg.com/originals/7e/45/90/7e45905fefa36347e83333fd6d091140.jpg",
         5069,
         "image",
         "Style Me Pretty",
         "Local save in /data/event-planning",
         "60th Anniversary Parties,Anniversary Decorations,Golden Anniversary,25th Wedding Anniversary,Anniversary Pictures,Anniversary Ideas,Birthday Decorations,Event Planning Design,Event Design",
         "The Vault: Curated & Refined Wedding Inspiration",
         "b75b6f87-deb3-444f-b29e-ce9161b2df49"
        ],
        [
         "mens-fashion",
         "Black And Brown Outfits You Need To Try This Fall Season. The trick with black and brown outfits is to know how to combine colors, fabrics, and shapes to get a cohesive look. So… ",
         1,
         "1M",
         "https://i.pinimg.com/originals/3e/49/09/3e4909c0ccc4dbba3cad83d97eab4a61.png",
         7343,
         "image",
         "Cultura Colectiva",
         "Local save in /data/mens-fashion",
         "Winter Outfits Men,Stylish Mens Outfits,Casual Outfits,Men Casual,Smart Casual,Outfits For Men,Fall Outfits,Mens Winter Boots,Business Casual Men",
         "This Fashion Rule Is Nonsense, And We Should All Forget About It",
         "b8c63a95-6fe8-4d7f-9455-1eef3462fee0"
        ],
        [
         "event-planning",
         "Sacramento California Wedding 2 Chic Events & Design Jodi Yorston Photography Wilson Vineyards Barn Miosa Couture Yellow Barn Vineyard Outdoor Candles DIY",
         1,
         "6M",
         "https://i.pinimg.com/originals/7e/45/90/7e45905fefa36347e83333fd6d091140.jpg",
         5069,
         "image",
         "Style Me Pretty",
         "Local save in /data/event-planning",
         "60th Anniversary Parties,Anniversary Decorations,Golden Anniversary,25th Wedding Anniversary,Anniversary Pictures,Anniversary Ideas,Birthday Decorations,Event Planning Design,Event Design",
         "The Vault: Curated & Refined Wedding Inspiration",
         "b75b6f87-deb3-444f-b29e-ce9161b2df49"
        ],
        [
         "mens-fashion",
         "Black And Brown Outfits You Need To Try This Fall Season. The trick with black and brown outfits is to know how to combine colors, fabrics, and shapes to get a cohesive look. So… ",
         1,
         "1M",
         "https://i.pinimg.com/originals/3e/49/09/3e4909c0ccc4dbba3cad83d97eab4a61.png",
         7343,
         "image",
         "Cultura Colectiva",
         "Local save in /data/mens-fashion",
         "Winter Outfits Men,Stylish Mens Outfits,Casual Outfits,Men Casual,Smart Casual,Outfits For Men,Fall Outfits,Mens Winter Boots,Business Casual Men",
         "This Fashion Rule Is Nonsense, And We Should All Forget About It",
         "b8c63a95-6fe8-4d7f-9455-1eef3462fee0"
        ],
        [
         "tattoos",
         "summcoco gives you inspiration for the women fashion trends you want. Thinking about a new look or lifestyle? This is your ultimate resource to get the hottest trends. 30+ Eagle… ",
         1,
         "306k",
         "https://i.pinimg.com/originals/8d/c6/ed/8dc6ed0b212393187a14c7d07a88060f.png",
         8606,
         "image",
         "Sumcoco | Decor Ideas, Hairstyles, Nails Fashion Advice",
         "Local save in /data/tattoos",
         "White Bird Tattoos,Rose Tattoos,Flower Tattoos,Tattoo Black,Bird And Flower Tattoo,Tattoo Floral,Mini Tattoos,Flower Art,Girls With Sleeve Tattoos",
         "30+ Eagle Tattoos Ideas for Women",
         "71757040-bfc8-4631-9cac-22801e61d9e3"
        ],
        [
         "tattoos",
         "Disney characters never go out with time. From small to bold, here are the best Disney tattoos that both adults and children will adore.",
         1,
         "190k",
         "https://i.pinimg.com/originals/29/1d/13/291d1361e275358df53c1db02b63d3a4.jpg",
         9074,
         "image",
         "Our Mindful Life",
         "Local save in /data/tattoos",
         "Small Disney Tattoos,Disney Thigh Tattoo,Matching Disney Tattoos,Disney Couple Tattoos,Disney Inspired Tattoos,Disney Sleeve Tattoos,Matching Best Friend Tattoos,Small Tattoos,3 Best Friend Tattoos",
         "77 Disney Tattoos To Unleash Your Magic Power - Our Mindful Life",
         "2adede06-7fb0-4b5f-8cf9-ce8e6d6fa6a1"
        ],
        [
         "home-decor",
         "Beautiful and easy ways to update every room in your home with fall decor. Plus, my favorite finds in fall decor for 2020!",
         1,
         "92k",
         "https://i.pinimg.com/originals/e5/ae/dc/e5aedc14ce557e3a69f672e0f8c88f6e.png",
         6063,
         "image",
         "Kristen | Lifestyle, Mom Tips & Teacher Stuff Blog",
         "Local save in /data/home-decor",
         "Fall Home Decor,Autumn Home,Fall Decor Outdoor,Front Porch Fall Decor,Home Decor Ideas,Porch Ideas For Fall,Fall Outdoor Decorating,Decorating Ideas For Fall,Fall Front Doors",
         "41 Gorgeous Fall Decor Ideas For Your Home - Chaylor & Mads",
         "60693727-4927-4bd6-a8c5-096a392d63e6"
        ],
        [
         "home-decor",
         "Beautiful and easy ways to update every room in your home with fall decor. Plus, my favorite finds in fall decor for 2020!",
         1,
         "92k",
         "https://i.pinimg.com/originals/e5/ae/dc/e5aedc14ce557e3a69f672e0f8c88f6e.png",
         6063,
         "image",
         "Kristen | Lifestyle, Mom Tips & Teacher Stuff Blog",
         "Local save in /data/home-decor",
         "Fall Home Decor,Autumn Home,Fall Decor Outdoor,Front Porch Fall Decor,Home Decor Ideas,Porch Ideas For Fall,Fall Outdoor Decorating,Decorating Ideas For Fall,Fall Front Doors",
         "41 Gorgeous Fall Decor Ideas For Your Home - Chaylor & Mads",
         "60693727-4927-4bd6-a8c5-096a392d63e6"
        ],
        [
         "event-planning",
         "So you're thinking of getting your event planner certification, but how much do you REALLY know about event planning? Event planners need to be knowledgeable and able to answer… ",
         1,
         "5k",
         "https://i.pinimg.com/originals/6f/19/bc/6f19bce24921bf843540fc04da9eb6bf.jpg",
         5076,
         "image",
         "QC Career School",
         "Local save in /data/event-planning",
         "Diy Wedding Food,Best Wedding Makeup,Wedding Events,Wedding Tips,Wedding Stuff,Weddings,Event Planning Business,Business Events,Wedding Makeup Tutorial",
         "Quiz: Test Your Event IQ! - Pointers For Planners",
         "fa3af29c-dc78-4eed-a4c5-52a407ea04c0"
        ],
        [
         "art",
         "Nike trainers sprout plants and French perfumiers inspire by mysterious scientific icons in Katie Scott’s visions that take botanical illustration into the digital age",
         1,
         "908k",
         "https://i.pinimg.com/originals/16/8a/fa/168afae02d5ffc71da10cdb312de2cb1.jpg",
         552,
         "image",
         "The Guardian",
         "Local save in /data/art",
         "Art And Illustration,Illustration Inspiration,Botanical Illustration,Vintage Illustrations,Botanical Drawings,Botanical Prints,Arte Inspo,Insect Art,Psychedelic",
         "The herbal bed: Katie Scott's psychedelic flora and fauna – in pictures",
         "b82602a9-e434-42cf-9481-22f3f41d82ce"
        ],
        [
         "tattoos",
         "Snake temporary tattoo for collarbone. Spooky 3D tattoo for Halloween Includes 2 copies, 1 for the right side and 1 for the left side Apply with water and remove anytime with ba… ",
         1,
         "0",
         "https://i.pinimg.com/originals/d8/b7/a1/d8b7a11a3fe64e7fab91d3afb1536537.jpg",
         8578,
         "image",
         "Livitrevisani",
         "Local save in /data/tattoos",
         "Finger Tattoo Designs,Small Tattoo Designs,Finger Tattoos,Small 3d Tattoos,Cool Tattoos,Line Work Tattoo,Back Tattoo,Collarbone Tattoo,Tattoo Neck",
         "Snake Collarbone Temporary Tattoo. Halloween Tattoos  Spooky | Etsy",
         "036ec267-658b-4dad-a097-8ef0b4f30c0d"
        ],
        [
         "education",
         "15 Essential Classroom Items For First Year Teachers / First Year Teacher Must Haves",
         1,
         "5k",
         "https://i.pinimg.com/originals/4b/b9/a8/4bb9a85f609a8384ed9c9ab14e7bcea0.jpg",
         4137,
         "image",
         "Write Your Story | Budgeting, Healthy Lifestyle, Faith",
         "Local save in /data/education",
         "1st Year Teachers,First Year Teaching,First Grade Teachers,Elementary Teacher,Montessori Elementary,Teaching Reading,History Teachers,High School Classroom,First Grade Classroom",
         "15 Essential Classroom Items For First Year Teachers / First Year Teacher Must Haves",
         "bf275054-4464-448b-9143-1bf101aa366d"
        ],
        [
         "home-decor",
         "Celebrate fall with a neutral color palette with natural elements. This Navy and Neutral Fall Living Room + Kitchen Tour will make you rethink fall decor.",
         1,
         "178k",
         "https://i.pinimg.com/originals/f1/be/b6/f1beb6d3414f1c52929df39a83d8da9f.jpg",
         6566,
         "image",
         "Sand and Sisal",
         "Local save in /data/home-decor",
         "Fall Living Room,Coastal Living Rooms,Living Room Paint,Living Room Kitchen,Living Room Interior,Living Room Furniture,Living Room Decor,Living Area,Small Living",
         "Navy and Neutral Fall Living Room + Kitchen Tour - Sand and Sisal",
         "6d8848f8-f515-4935-8dae-5dd02304d76e"
        ],
        [
         "christmas",
         "Transform mini terra cotta pots into the sweetest gingerbread house ornaments! Kids will love making this adorable Christmas craft to hang on the tree.",
         1,
         "20k",
         "https://i.pinimg.com/originals/13/28/09/1328097d7c290d1bf8642b01a6ba1c6c.jpg",
         2411,
         "image",
         "Projects with Kids",
         "Local save in /data/christmas",
         "Noel Christmas,Diy Christmas Ornaments,Homemade Christmas,Simple Christmas,Gingerbread Ornaments,Christmas Gingerbread,Gingerbread Houses,Preschool Christmas,Ornaments Ideas",
         "The Sweetest Gingerbread House Ornaments Kids Can Make",
         "4e11801e-7a64-4f1e-90dd-e900677595c5"
        ],
        [
         "mens-fashion",
         "Women's T-shirt. Design inspired by the rock band The Killers' hit \"Mr. Brightside\". One of the greatest song from the album Hot Fuss released in 2004. Soft and light, 100% cott… ",
         1,
         "27",
         "https://i.pinimg.com/originals/8c/42/39/8c42391d35fcad51a4a79f7cd81bf26d.jpg",
         7166,
         "image",
         "Mala Rock | Rock T-shirts",
         "Local save in /data/mens-fashion",
         "Mr Brightside,Rock T Shirts,Greatest Songs,Timeless Classic,Rock Bands,Album,T Shirts For Women,Inspired,Hot",
         "The Killers - Mr. Brightside - Women's T-Shirt - Heather Dark Grey / S",
         "4a844b03-e161-47a1-904b-591eb5dc4fb1"
        ],
        [
         "tattoos",
         "We have put together the Ultimative Sunflower Tattoo Collection in 2020. Check out our highest rated handpicked Sunflower designs here!",
         1,
         "800k",
         "https://i.pinimg.com/originals/18/de/6c/18de6c81a8637e224c7d63dce1414ceb.jpg",
         8930,
         "image",
         "Next Luxury",
         "Local save in /data/tattoos",
         "Sunflower Tattoo Sleeve,Sunflower Tattoo Shoulder,Sunflower Tattoo Small,Sunflower Tattoos,Sunflower Tattoo Design,Shoulder Tattoo,Sunflower Mandala Tattoo,Sunflower Tattoo Meaning,Form Tattoo",
         "135 Sunflower Tattoo Ideas - [Best Rated Designs in 2021]",
         "a2999c28-f7b2-4577-af87-49d21d6d8a18"
        ],
        [
         "travel",
         "On our Calgary to Vancouver road trip we got to spend time in Banff, Canada. We visited the stunning Lake Moraine as well as Lake Louise and plenty of other of Canada's natural… ",
         1,
         "7k",
         "https://i.pinimg.com/videos/thumbnails/originals/57/9d/52/579d52242ae5609978c754d393e44e81.0000001.jpg",
         9672,
         "video",
         "Travel Mad Mum",
         "Local save in /data/travel",
         "Beautiful Places To Travel,Cool Places To Visit,Beautiful Roads,Beautiful Scenery,Wonderful Places,Lac Moraine,Moraine Lake,Lac Louise,Natur Wallpaper",
         "Lake Moraine, Banff, Canada",
         "1a5050a4-ac82-472c-aeff-3457de8bbee9"
        ],
        [
         "education",
         "Our family would rather spend time outdoors than indoors. We love nature! That said, sometimes mother nature is uncooperative. On these days, it can be fun to pull out some natu… ",
         1,
         "9k",
         "https://i.pinimg.com/originals/d6/3b/1a/d63b1a2a36534ecac5d1fbd0d932403a.jpg",
         3729,
         "image",
         "My Little Poppies (Cait Curley, MA/CAGS)",
         "Local save in /data/education",
         "Diy Nature,Theme Nature,Nature Study,Science And Nature,Summer Science,Earth Science,Nature Crafts,Outdoor Education,Outdoor Learning",
         "5 + Nature Games for Your Homeschool",
         "ac90f1d2-dc9e-438c-b073-dd48511b80b0"
        ],
        [
         "mens-fashion",
         "Looking for the coolest fall fashion for men this season? Click to read this article on fall fashion for men to look sharp on LLEGANCE.",
         1,
         "28k",
         "https://i.pinimg.com/originals/4c/bf/2d/4cbf2d6e04d2502612169220553f4cef.jpg",
         7294,
         "image",
         "LLEGANCE | Workwear Fashion Woman Advice For Driven Professionals",
         "Local save in /data/mens-fashion",
         "Fashion 90s,Autumn Fashion,Fashion Ideas,Trendy Fashion,Fashion Photo,Fashion Outfits,Fashion Trends,Urban Fashion Men,Men's Casual Fashion",
         "Foolproof Fall Fashion For Men You'll Love",
         "9d8409ef-bea7-4133-a021-c58b9c042210"
        ],
        [
         "christmas",
         "Take a look at this new collection of Christmas decor featuring 16 Blissful Christmas Table Decor Ideas That You Must See. Happy holidays!",
         1,
         "616k",
         "https://i.pinimg.com/originals/5f/70/30/5f7030a35bb8a1491e915fb0ae29bcf5.jpg",
         2015,
         "image",
         "ArchitectureArtDesigns",
         "Local save in /data/christmas",
         "Kids Crafts,Christmas Crafts For Kids,Homemade Christmas,Christmas Projects,Holiday Crafts,Christmas Gift Ideas,Preschool Christmas,Tree Crafts,Christmas Inspiration",
         "16 Blissful Christmas Table Decor Ideas That You Must See",
         "72359164-4419-452c-81cb-74f30a5a26b7"
        ],
        [
         "event-planning",
         "Do you love planning parties? Do you want to work-at-home? This post covers everything you need to know about becoming a home-based event planner!",
         1,
         "110k",
         "https://i.pinimg.com/originals/4d/a3/a4/4da3a4730418239f1b43ce81fb032c15.jpg",
         4913,
         "image",
         "The Work at Home Woman",
         "Local save in /data/event-planning",
         "Event Planning Tips,Event Planning Business,Party Planning,Business Ideas,Craft Business,Business Chic,Business Inspiration,Business Goals,Business Opportunities",
         "How to Work From Home as an Event Planner",
         "4d2d79c6-9ca8-46c9-a38e-931c5d967804"
        ],
        [
         "diy-and-crafts",
         "One thing I love about Crafts is how the evolve! These toilet paper rolls are adorable and modern. I love that something as simple as a recycled toilet paper roll can be taken t… ",
         1,
         "502k",
         "https://i.pinimg.com/originals/c6/cd/0d/c6cd0d04da9cfc11566cfd34eeb1f918.jpg",
         2959,
         "image",
         "CraftGossip.com",
         "Local save in /data/diy-and-crafts",
         "Toilet Paper Roll Crafts,Cardboard Crafts,Diy Paper,Paper Crafting,Toilet Paper Rolls,Cardboard Playhouse,Paper Art,Kids Crafts,Toddler Crafts",
         "The Cutest Toilet Paper Crafts",
         "439cac4b-18e8-4aaa-88c5-edb26a701111"
        ],
        [
         "diy-and-crafts",
         "One thing I love about Crafts is how the evolve! These toilet paper rolls are adorable and modern. I love that something as simple as a recycled toilet paper roll can be taken t… ",
         1,
         "502k",
         "https://i.pinimg.com/originals/c6/cd/0d/c6cd0d04da9cfc11566cfd34eeb1f918.jpg",
         2959,
         "image",
         "CraftGossip.com",
         "Local save in /data/diy-and-crafts",
         "Toilet Paper Roll Crafts,Cardboard Crafts,Diy Paper,Paper Crafting,Toilet Paper Rolls,Cardboard Playhouse,Paper Art,Kids Crafts,Toddler Crafts",
         "The Cutest Toilet Paper Crafts",
         "439cac4b-18e8-4aaa-88c5-edb26a701111"
        ],
        [
         "travel",
         "35 European bucket list destinations for any traveler heading to Europe. From Cinque Terre, Italy to Iceland - there are so many amazing sites to see in Europe.",
         1,
         "28k",
         "https://i.pinimg.com/originals/71/04/1a/71041ad83ede43d9665741e719c58a86.jpg",
         9875,
         "image",
         "Nicki ",
         "Local save in /data/travel",
         "Backpacking Europe,Europe Travel Guide,Travel Guides,Travel Packing,Traveling Europe,Travelling,Travel Backpack,Budget Travel,2 Week Europe Itinerary",
         "European Bucket List: 35 Things NOT To Miss When Traveling Europe",
         "782dcbad-ff91-40a6-ba60-216efe29adb7"
        ],
        [
         "art",
         "Fashion designer Issac Mizrahi’s Greenwich Village home is an amalgamation of three apartments that was 20 years in the making",
         1,
         "3M",
         "https://i.pinimg.com/originals/f4/6c/54/f46c546a2e480022a42d842b7dca157e.jpg",
         428,
         "image",
         "Architectural Digest",
         "Local save in /data/art",
         "Modern Art,Contemporary Art,Contemporary Kitchens,Contemporary Bedroom,New York City Apartment,Manhattan Apartment,Art Moderne,Architectural Digest,Painting Inspiration",
         "Fashion Designer Isaac Mizrahi’s Updated 1930s New York City Apartment",
         "610b3f83-9fe0-469d-946c-d16b577fca71"
        ],
        [
         "travel",
         "35 European bucket list destinations for any traveler heading to Europe. From Cinque Terre, Italy to Iceland - there are so many amazing sites to see in Europe.",
         1,
         "28k",
         "https://i.pinimg.com/originals/71/04/1a/71041ad83ede43d9665741e719c58a86.jpg",
         9875,
         "image",
         "Nicki ",
         "Local save in /data/travel",
         "Backpacking Europe,Europe Travel Guide,Travel Guides,Travel Packing,Traveling Europe,Travelling,Travel Backpack,Budget Travel,2 Week Europe Itinerary",
         "European Bucket List: 35 Things NOT To Miss When Traveling Europe",
         "782dcbad-ff91-40a6-ba60-216efe29adb7"
        ],
        [
         "art",
         "Fashion designer Issac Mizrahi’s Greenwich Village home is an amalgamation of three apartments that was 20 years in the making",
         1,
         "3M",
         "https://i.pinimg.com/originals/f4/6c/54/f46c546a2e480022a42d842b7dca157e.jpg",
         428,
         "image",
         "Architectural Digest",
         "Local save in /data/art",
         "Modern Art,Contemporary Art,Contemporary Kitchens,Contemporary Bedroom,New York City Apartment,Manhattan Apartment,Art Moderne,Architectural Digest,Painting Inspiration",
         "Fashion Designer Isaac Mizrahi’s Updated 1930s New York City Apartment",
         "610b3f83-9fe0-469d-946c-d16b577fca71"
        ],
        [
         "beauty",
         "What are the basic things you need for makeup? Let’s be honest, ladies; all women can do makeup, yet not all women know how to do makeup right. The good news is, this post can t… ",
         1,
         "799k",
         "https://i.pinimg.com/originals/2c/1a/d4/2c1ad45b5c54034a2dbc73c84a89f5e4.jpg",
         1371,
         "image",
         "Glaminati",
         "Local save in /data/beauty",
         "Contouring Makeup,Skin Makeup,Beauty Makeup,Makeup Brushes,Eyeliner Makeup,Makeup Tips Lips,Makeup 101,Cheap Makeup,Rosa Eyeliner",
         "How To Do Makeup - Step By Step Tips For The Perfect Look",
         "33e92ac1-73d1-4c31-9892-d5e633060790"
        ],
        [
         "education",
         "behavior, special education, token boards, when token boards don't work, money token systems",
         1,
         "11k",
         "https://i.pinimg.com/originals/24/f9/e2/24f9e22ada4a79c61432ef6c8fe1d0f9.jpg",
         3800,
         "image",
         "Traci Bender - The Bender Bunch",
         "Local save in /data/education",
         "Special Education Behavior,Classroom Behavior Management,Behavior Plans,Behaviour Management,Behavior Charts,Behavior Board,Behavior Report,Behavior Analyst,Preschool Special Education",
         "Reinforcing the Difficult Child When Token Boards Don't Work!",
         "d2c367ed-9287-4ea3-b173-198b292d9981"
        ],
        [
         "diy-and-crafts",
         "HELPFUL RESOURCES – Check out my resin colorants resources page here with links to all the products mentioned in this article (and more). Let me know if you have any that you lo… ",
         1,
         "6k",
         "https://i.pinimg.com/originals/d4/12/78/d4127833023ca32600571ddca16f1556.jpg",
         3454,
         "image",
         "Mixed Media Crafts",
         "Local save in /data/diy-and-crafts",
         "Epoxy Resin Art,Diy Resin Art,Diy Resin Crafts,Resin Molds,Ice Resin,Resin Pour,Diy Epoxy,Diy Resin Painting,Diy Resin Dice",
         "What can you use to color resin?",
         "46bd3f86-b09d-4e29-9033-7ff2df595e51"
        ],
        [
         "diy-and-crafts",
         "HELPFUL RESOURCES – Check out my resin colorants resources page here with links to all the products mentioned in this article (and more). Let me know if you have any that you lo… ",
         1,
         "6k",
         "https://i.pinimg.com/originals/d4/12/78/d4127833023ca32600571ddca16f1556.jpg",
         3454,
         "image",
         "Mixed Media Crafts",
         "Local save in /data/diy-and-crafts",
         "Epoxy Resin Art,Diy Resin Art,Diy Resin Crafts,Resin Molds,Ice Resin,Resin Pour,Diy Epoxy,Diy Resin Painting,Diy Resin Dice",
         "What can you use to color resin?",
         "46bd3f86-b09d-4e29-9033-7ff2df595e51"
        ],
        [
         "home-decor",
         "No description available Story format",
         1,
         "117k",
         "https://i.pinimg.com/videos/thumbnails/originals/75/48/3b/75483b74822855519ec8b40df4c670ef.0000001.jpg",
         6398,
         "multi-video(story page format)",
         "MojisStyle",
         "Local save in /data/home-decor",
         "Decor Home Living Room,Home And Living,Diy Bedroom Decor,Home Decor,Bathroom Interior Design,Interior Design Living Room,Dream Home Design,House Design,Beautiful Bathrooms",
         "My master bathroom makeover with @flooranddecor ! Follow me on Instagram @Mojisstyle for more",
         "ea44d318-2ced-4cf8-a66f-a6a036b84faa"
        ],
        [
         "finance",
         "Description Coupon Organizer in a fun colorful fabric -island oasis, Great Size for the \"basic\" couponer - holds up to 500 coupons with ease, and is made long enough so that you… ",
         1,
         "0",
         "https://i.pinimg.com/originals/65/bb/ea/65bbeaf458907bb079317d8303c4fa0e.jpg",
         5730,
         "image",
         "Consuelo Aguirre",
         "Local save in /data/finance",
         "Grocery Items,Grocery Coupons,Care Organization,Coupon Organization,Extreme Couponing,Couponing 101,Life Binder,Save My Money,Love Coupons",
         "Island Oasis Coupon Organizer",
         "1e1f0c8b-9fcf-460b-9154-c775827206eb"
        ],
        [
         "finance",
         "Description Coupon Organizer in a fun colorful fabric -island oasis, Great Size for the \"basic\" couponer - holds up to 500 coupons with ease, and is made long enough so that you… ",
         1,
         "0",
         "https://i.pinimg.com/originals/65/bb/ea/65bbeaf458907bb079317d8303c4fa0e.jpg",
         5730,
         "image",
         "Consuelo Aguirre",
         "Local save in /data/finance",
         "Grocery Items,Grocery Coupons,Care Organization,Coupon Organization,Extreme Couponing,Couponing 101,Life Binder,Save My Money,Love Coupons",
         "Island Oasis Coupon Organizer",
         "1e1f0c8b-9fcf-460b-9154-c775827206eb"
        ],
        [
         "finance",
         "Description Coupon Organizer in a fun colorful fabric -island oasis, Great Size for the \"basic\" couponer - holds up to 500 coupons with ease, and is made long enough so that you… ",
         1,
         "0",
         "https://i.pinimg.com/originals/65/bb/ea/65bbeaf458907bb079317d8303c4fa0e.jpg",
         5730,
         "image",
         "Consuelo Aguirre",
         "Local save in /data/finance",
         "Grocery Items,Grocery Coupons,Care Organization,Coupon Organization,Extreme Couponing,Couponing 101,Life Binder,Save My Money,Love Coupons",
         "Island Oasis Coupon Organizer",
         "1e1f0c8b-9fcf-460b-9154-c775827206eb"
        ],
        [
         "vehicles",
         "January 23, 2009 We can see emergency responders queueing up for this one. ATVCorp has created versions of its Prowler Light Tactical All Terrain Vehicle (LTATV) for fire-fighti… ",
         1,
         "314",
         "https://i.pinimg.com/originals/14/6b/6b/146b6b1a1127773f7046e08550e68ed0.jpg",
         10552,
         "image",
         "p hump",
         "Local save in /data/vehicles",
         "Army Vehicles,Armored Vehicles,Go Kart Buggy,Atv Attachments,Aviation Fuel,Special Forces,Special Ops,Terrain Vehicle,Emergency Response",
         "The Prowler Emergency Response Vehicle",
         "17301b8c-ccbb-42ad-b2df-3876df35b1cd"
        ],
        [
         "art",
         "Learn to create alcohol ink rings for gorgeous pieces of art. Each ring sits on top of another, giving a multilayered appearance",
         1,
         "7k",
         "https://i.pinimg.com/originals/03/03/1f/03031fdc9775d0c06f61d68e51362379.png",
         603,
         "image",
         "Kim Cook-Thirteen Chairs-Slates Mugs And Tees",
         "Local save in /data/art",
         "Alcohol Ink Tiles,Alcohol Ink Glass,Alcohol Ink Crafts,Alcohol Ink Painting,Pour Painting,Zealand Tattoo,Copics,Types Of Art,Art Techniques",
         "How to Create Alcohol Ink Rings For Gorgeous Pieces of Art -",
         "78e21a64-53b0-4745-8294-e8c456f0ccc1"
        ],
        [
         "art",
         "10 art sub lessons that only need a pencil. Cover lessons for art teachers. Make the perfect art sub lessson folder with this amazing resources.",
         1,
         "25k",
         "https://i.pinimg.com/originals/ee/a8/78/eea878911033897d981a69d9f6b2fb7c.png",
         719,
         "image",
         "The Arty Teacher",
         "Local save in /data/art",
         "Art Lessons For Kids,Art Lessons Elementary,Art For Kids,Art Sub Plans,Art Lesson Plans,Art Substitute Plans,High School Art,Middle School Art,Primary School Art",
         "10 Art Sub Lessons that only need a Pencil",
         "d7c53e34-9540-4f48-a31b-89b6ed1852bb"
        ],
        [
         "christmas",
         "20 Christmas Decorating Ideas We Bet You Haven't Thought Of via @PureWow",
         1,
         "868k",
         "https://i.pinimg.com/originals/e9/b9/f0/e9b9f01cc3b2cf41948b45854335396c.jpg",
         2074,
         "image",
         "PureWow",
         "Local save in /data/christmas",
         "Holiday Centerpieces,Xmas Decorations,Centerpiece Ideas,Table Centerpieces,Valentine Decorations,Wedding Centerpieces,Outdoor Decorations,Christmas Centerpieces With Candles,Christmas Dining Table Decorations",
         "35 Christmas Decorating Ideas We Bet You Haven't Thought Of",
         "86ed09a7-842d-496d-9501-010c654eb340"
        ],
        [
         "christmas",
         "20 Christmas Decorating Ideas We Bet You Haven't Thought Of via @PureWow",
         1,
         "868k",
         "https://i.pinimg.com/originals/e9/b9/f0/e9b9f01cc3b2cf41948b45854335396c.jpg",
         2074,
         "image",
         "PureWow",
         "Local save in /data/christmas",
         "Holiday Centerpieces,Xmas Decorations,Centerpiece Ideas,Table Centerpieces,Valentine Decorations,Wedding Centerpieces,Outdoor Decorations,Christmas Centerpieces With Candles,Christmas Dining Table Decorations",
         "35 Christmas Decorating Ideas We Bet You Haven't Thought Of",
         "86ed09a7-842d-496d-9501-010c654eb340"
        ],
        [
         "art",
         "Free quick inspirational video on creating a mixed media face with acrylic, collage, stenciling and simple techniques. Come on over to watch",
         1,
         "27k",
         "https://i.pinimg.com/videos/thumbnails/originals/05/86/a4/0586a4116e1fc34efc25e064ccd123e8.0000001.jpg",
         831,
         "video",
         "Shawn Petite",
         "Local save in /data/art",
         "Collage Kunst,Paper Collage Art,Collage Art Mixed Media,Mixed Media Painting,Mixed Media Canvas,Canvas Collage,Art Collages,Wall Canvas,Canvas Art",
         "creating mixed-media faces tutorial",
         "5e65914d-9f58-4ff1-9676-658e426e8ce5"
        ],
        [
         "beauty",
         "The oil cleansing method is a simple, natural way to have clean skin without using toxic chemicals. It will leave your face radiant and soft!",
         1,
         "85k",
         "https://i.pinimg.com/originals/2c/1c/da/2c1cda7da86ee711536bbacfe89c75c9.jpg",
         1545,
         "image",
         "Thank Your Body",
         "Local save in /data/beauty",
         "Beauty Care,Diy Beauty,Beauty Hacks,Beauty Shop,Oil Cleansing Method,Goji,Korean Skincare Routine,Homemade Beauty Products,Organic Beauty",
         "Oil Cleansing Method: What it is and why you should do it.",
         "0c629541-cc5b-4b61-bd3f-613346893258"
        ],
        [
         "art",
         "Use our easy step by step tutorial to create a DIY abstract heart painting on any canvas size. Lots of inspiration to help you choose colors.",
         1,
         "410k",
         "https://i.pinimg.com/originals/33/85/f8/3385f82ee5e8ecdcccdf798bdcbee3d2.jpg",
         205,
         "image",
         "The Creativity Exchange",
         "Local save in /data/art",
         "Painting & Drawing,Watercolor Paintings,Original Paintings,Owl Watercolor,Acrylic Paintings,Owl Art,Bird Art,Beginner Painting,Animal Paintings",
         "DIY Abstract Heart Painting and a Fun Paint Party",
         "f4afd543-b9fe-44c3-8064-f2198faa1372"
        ],
        [
         "art",
         "Kids will use chalk pastels and black paper to create this bold and bright hot chocolate art project! Easy to follow tutorial included.",
         1,
         "20k",
         "https://i.pinimg.com/originals/5a/d3/82/5ad38202cf8acb022cb8f46ce2a78ad6.jpg",
         808,
         "image",
         "Projects with Kids",
         "Local save in /data/art",
         "Hot Chocolate Art,Chocolate Crafts,Art Activities For Kids,Preschool Art,Preschool Winter,Christmas Activities,Winter Art Projects,Clay Art Projects,Chalk Pastel Art",
         "Chalk Pastel Hot Chocolate Art Project",
         "23f67e42-db9f-4aae-8b82-cbec64ad9f4d"
        ],
        [
         "beauty",
         "Skin Purging sorgt für die reinste Haut, die du jemals hattest #skin äpurging #skinpurging #skincare #hautpflege #schönehaut #haut #beauty #tips",
         1,
         "326k",
         "https://i.pinimg.com/originals/93/b2/7b/93b27be044b2fd2f227f30a7f2c2faf2.jpg",
         1555,
         "image",
         "ELLE Germany",
         "Local save in /data/beauty",
         "Natural Hair Mask,Natural Hair Styles,Natural Beauty,Skin Tag,How To Apply Makeup,Pimples,Beauty Routines,Skincare Routine,Glowing Skin",
         "Skin Purging: Die Pflegemethode für reine Haut | ELLE",
         "1f20551b-a21c-4ff0-b20d-49e95fdc50d3"
        ],
        [
         "finance",
         "Don't fight about budgets and money with your spouse! Here are a few tips that we've found that make it work in our marriage!",
         1,
         "313",
         "https://i.pinimg.com/originals/37/d5/82/37d58296bcef3471a633c76b89d8625e.jpg",
         5468,
         "image",
         "Annamarie Hilton",
         "Local save in /data/finance",
         "Ways To Save Money,Money Tips,Money Saving Tips,How To Make Money,Managing Money,Saving Time,College Fund,Scholarships For College,Education College",
         "Budgets, Spouses & Making It Work! - Tshanina Peterson",
         "91ee49f6-0070-4270-ba19-fde88ba51c91"
        ],
        [
         "quotes",
         "Are you looking for some heart touching sad quotes and sayings; Here we have collected for you 50 best heart touching sad quotes..",
         1,
         "112",
         "https://i.pinimg.com/originals/0c/0f/40/0c0f408d96458080e0c82adb50be8e8f.jpg",
         7790,
         "image",
         "AnnaLee Kick",
         "Local save in /data/quotes",
         "Crush Quotes For Girls,Sad Crush Quotes,Hurt Quotes,Love Me Quotes,Mood Quotes,Quotes To Live By,Life Quotes,Quotes Quotes,Sad Quotes That Make You Cry",
         "50 Heart Touching Sad Quotes That Will Make You Cry",
         "9cd89fb9-d1af-4e66-85ca-c9d656c918b4"
        ],
        [
         "beauty",
         "Might try this... I'm generally skeptical about at-home remedies, but I know baking soda and lemons both do wonders. More",
         1,
         "5M",
         "https://i.pinimg.com/originals/c8/ab/af/c8abaffc56050f674eef8e65ad684929.jpg",
         1422,
         "image",
         "BuzzFeed",
         "Local save in /data/beauty",
         "Baking Soda Lemon Juice,Diy Beauté,Tips Belleza,Belleza Natural,Health And Beauty Tips,Beauty Secrets,Beauty Advice,Diy Beauty Tips,Beauty Life Hacks",
         "41 Life-Saving Beauty Hacks Every Girl Should Have In Her Arsenal",
         "7bbe860c-a739-4ba9-babd-feb24bb6e4d9"
        ],
        [
         "vehicles",
         "There are a lot of options of places to stay so you probably only have to book the initial one so you know the best place to land from the airport",
         1,
         "171k",
         "https://i.pinimg.com/originals/e9/01/4d/e9014d537dd2b81c606e8466cef3904c.jpg",
         10663,
         "image",
         "vintagetopia",
         "Local save in /data/vehicles",
         "Old Classic Cars,Classic Trucks,Old Vintage Cars,Antique Cars,Vintage Trucks,Antique Trucks,Cadillac,Convertible,Mustang",
         "21+ Classic Car Picture of the 1950s - Vintagetopia",
         "d5208c16-82ae-4fd1-87f0-36e5ef789412"
        ],
        [
         "diy-and-crafts",
         "Keep the kids busy this summer with these easy diy crafts and projects. Creative and…",
         1,
         "124k",
         "https://i.pinimg.com/originals/b3/bc/e2/b3bce2964e8c8975387b39660eed5f16.jpg",
         2863,
         "image",
         "Of Life & Lisa | Lifestyle Blog",
         "Local save in /data/diy-and-crafts",
         "Summer Crafts For Kids,Fun Crafts For Kids,Summer Kids,Toddler Crafts,Crafts To Do,Diy For Kids,Summer Snow,Diys For Summer,Craft Ideas For Girls",
         "25 Super Fun Summer Crafts for Kids - Of Life and Lisa",
         "9bf39437-42a6-4f02-99a0-9a0383d8cd70"
        ],
        [
         "diy-and-crafts",
         "Keep the kids busy this summer with these easy diy crafts and projects. Creative and…",
         1,
         "124k",
         "https://i.pinimg.com/originals/b3/bc/e2/b3bce2964e8c8975387b39660eed5f16.jpg",
         2863,
         "image",
         "Of Life & Lisa | Lifestyle Blog",
         "Local save in /data/diy-and-crafts",
         "Summer Crafts For Kids,Fun Crafts For Kids,Summer Kids,Toddler Crafts,Crafts To Do,Diy For Kids,Summer Snow,Diys For Summer,Craft Ideas For Girls",
         "25 Super Fun Summer Crafts for Kids - Of Life and Lisa",
         "9bf39437-42a6-4f02-99a0-9a0383d8cd70"
        ],
        [
         "diy-and-crafts",
         "Keep the kids busy this summer with these easy diy crafts and projects. Creative and…",
         1,
         "124k",
         "https://i.pinimg.com/originals/b3/bc/e2/b3bce2964e8c8975387b39660eed5f16.jpg",
         2863,
         "image",
         "Of Life & Lisa | Lifestyle Blog",
         "Local save in /data/diy-and-crafts",
         "Summer Crafts For Kids,Fun Crafts For Kids,Summer Kids,Toddler Crafts,Crafts To Do,Diy For Kids,Summer Snow,Diys For Summer,Craft Ideas For Girls",
         "25 Super Fun Summer Crafts for Kids - Of Life and Lisa",
         "9bf39437-42a6-4f02-99a0-9a0383d8cd70"
        ],
        [
         "tattoos",
         "We welcome you to our latest collection of Beautiful Tattoo Ideas For Women. Check out and get inspired by the most beautiful design for yourself.",
         1,
         "21k",
         "https://i.pinimg.com/originals/fa/cf/7c/facf7cd752a4bc7c09faaa8925ab80b1.jpg",
         8653,
         "image",
         "ALL FOR WOMAN",
         "Local save in /data/tattoos",
         "Small Back Tattoos,Small Girl Tattoos,Little Tattoos,Tattoo Girls,Mini Tattoos,Tattoo Small,Back Tattoo Women,Tattoo On Back,Girl Back Tattoos",
         "Unique Women Tattoos Ideas 2020",
         "24b1343c-4d86-4705-8ec9-7f1f2df2d77e"
        ],
        [
         "diy-and-crafts",
         "A fun space activity for kids. Preshoolers and kindergartners will love making their own alien spacecraft!",
         1,
         "192k",
         "https://i.pinimg.com/originals/6f/e8/aa/6fe8aa405513c6d2f77b5f47d17cdce8.jpg",
         2923,
         "image",
         "The Crafting Chicks",
         "Local save in /data/diy-and-crafts",
         "Paper Plate Crafts For Kids,Fun Crafts For Kids,Summer Crafts,Toddler Crafts,Art For Kids,Outer Space Crafts For Kids,Kid Crafts,Space Kids,Back To School Crafts For Kids",
         "UFO Paper Plate Craft",
         "52fa3af5-24a4-4ccb-8f17-9c3eb12327ee"
        ],
        [
         "diy-and-crafts",
         "A fun space activity for kids. Preshoolers and kindergartners will love making their own alien spacecraft!",
         1,
         "192k",
         "https://i.pinimg.com/originals/6f/e8/aa/6fe8aa405513c6d2f77b5f47d17cdce8.jpg",
         2923,
         "image",
         "The Crafting Chicks",
         "Local save in /data/diy-and-crafts",
         "Paper Plate Crafts For Kids,Fun Crafts For Kids,Summer Crafts,Toddler Crafts,Art For Kids,Outer Space Crafts For Kids,Kid Crafts,Space Kids,Back To School Crafts For Kids",
         "UFO Paper Plate Craft",
         "52fa3af5-24a4-4ccb-8f17-9c3eb12327ee"
        ],
        [
         "travel",
         "Volcanoes, hikes, and hot springs in Costa Rica! The ultimate 5 day travel itinerary. - #costarica #travel #blogging #blog #bucketlist",
         1,
         "22k",
         "https://i.pinimg.com/originals/60/fe/4c/60fe4c3602e8e50e2e9f787ed27d2aba.jpg",
         9936,
         "image",
         "Jess Wandering",
         "Local save in /data/travel",
         "Costa Rica Reisen,Costa Rica Travel,Vacation Places,Dream Vacations,Vacation Spots,Vacation Food,Vacation Ideas,Voyage Dubai,Beautiful Places To Travel",
         "Chasing Waterfalls in Costa Rica",
         "1f3154a6-13f0-4049-8d5c-faea15b9f07c"
        ],
        [
         "quotes",
         "motivation quotes",
         1,
         "45k",
         "https://i.pinimg.com/originals/ee/b4/bc/eeb4bccdb074edb787ea61711e0c4dfd.jpg",
         7768,
         "image",
         "Boss Babe Chronicles | Personal Development, Finances, Self Care",
         "Local save in /data/quotes",
         "Motivacional Quotes,Motivational Quotes For Life,Uplifting Quotes,True Quotes,Words Quotes,Empowering Quotes,Boss Up Quotes,Inspirational Success Quotes,Boss Babe Quotes Work Hard",
         "16 Motivational Quotes Get You Inspired Today - Boss Babe Chronicles",
         "ae1a61f6-d958-40fe-ba93-6a78b3a73178"
        ],
        [
         "beauty",
         "Here’s how to get long-lasting makeup, so you can do your face in the morning and be set for the entire day. Follow these makeup tips for foundation, lipstick and more using pro… ",
         1,
         "3k",
         "https://i.pinimg.com/originals/d9/d1/3b/d9d13b9ac47d54940f05a75345a873d4.jpg",
         1268,
         "image",
         "Tony",
         "Local save in /data/beauty",
         "Beauty Makeup,Eye Makeup,Diy Beauty,Beauty Ideas,Beauty Skin,Homemade Beauty,Wolf Makeup,Oily Skin Makeup,Face Beauty",
         "Janet on Twitter",
         "e2f2cec5-cda5-42b2-ab9d-6dddf863e94e"
        ],
        [
         "art",
         "Mountain monologue watercolor",
         1,
         "27k",
         "https://i.pinimg.com/originals/fd/54/89/fd548935dcb13545120a2115baaa41d9.jpg",
         46,
         "image",
         "It's me, JD | DIY, Crafts, Home & Organization",
         "Local save in /data/art",
         "Arte Inspo,Kunst Inspo,Watercolor Artists,Watercolor Ideas,Simple Watercolor,Tattoo Watercolor,Watercolor Techniques,Watercolor Animals,Watercolor Illustration",
         "10 Watercolor Hacks For Beginners | Tips and Tricks to Making Watercolor Painting Easier",
         "19234073-8905-4885-b0d5-98e0b84cbf27"
        ],
        [
         "finance",
         "How to Get Rid of Cable and Still Watch all of your favorite shows! Saving Money Tips for TV & Cable!",
         1,
         "330k",
         "https://i.pinimg.com/originals/c9/18/be/c918be2784382dc49010719bf1742a61.jpg",
         5309,
         "image",
         "Passion For Savings",
         "Local save in /data/finance",
         "Ways To Save Money,Money Tips,Money Saving Tips,Money Hacks,Managing Money,Cable Tv Alternatives,Budget Planer,Financial Tips,Financial Planning",
         "How to Watch Your Favorite Shows Without Cable",
         "c38bb47b-9584-4fc4-af0d-a31e1061df41"
        ],
        [
         "travel",
         "The best trips to take when you are young!",
         1,
         "89k",
         "https://i.pinimg.com/videos/thumbnails/originals/81/97/c1/8197c1beef8bcb19bea5d8b422211f34.0000001.jpg",
         9546,
         "video",
         "The World Pursuit Travel Website",
         "Local save in /data/travel",
         "Fun Places To Go,Beautiful Places To Travel,Best Places To Travel,Travel Jobs,Holiday Places,Future Travel,Travel Around The World,Adventure Travel,Travel Photos",
         "20 Amazing Trips to Take in Your Twenties!",
         "efd5b2d6-2f69-40cd-bb59-41f18c089e52"
        ],
        [
         "finance",
         "Get your personal finance in order with these 8 fr…",
         1,
         "46k",
         "https://i.pinimg.com/originals/f1/4f/cc/f14fcc75ee73ff22c983bdce70c022e2.jpg",
         5630,
         "image",
         "R.J. Weiss at The Ways To Wealth | Personal Finance | Debt Payoff",
         "Local save in /data/finance",
         "Ways To Save Money,Money Tips,Money Saving Tips,Money Budget,Saving Ideas,Budgeting Finances,Budgeting Tips,Planning Budget,Budget Planer",
         "7 Insanely Useful Money Management Worksheets",
         "d41e703c-c97c-4c5a-9f9c-338982ca7504"
        ],
        [
         "tattoos",
         "Koi fish tattoos are a popular choice for men who want to make a statement, thanks to their rich symbolism and bold design.",
         1,
         "211k",
         "https://i.pinimg.com/originals/8a/0c/0a/8a0c0a7b6236565c519acd41ad1a52c0.jpg",
         8731,
         "image",
         "TheTrendSpotter",
         "Local save in /data/tattoos",
         "Dr Tattoo,Wörter Tattoos,Pisces Tattoos,Tatoo Art,Dream Tattoos,Dope Tattoos,Mini Tattoos,Finger Tattoos,Body Art Tattoos",
         "20 Koi Fish Tattoos For Lucky Men",
         "ea760f71-febf-4023-b592-d17396659039"
        ],
        [
         "tattoos",
         "Koi fish tattoos are a popular choice for men who want to make a statement, thanks to their rich symbolism and bold design.",
         1,
         "211k",
         "https://i.pinimg.com/originals/8a/0c/0a/8a0c0a7b6236565c519acd41ad1a52c0.jpg",
         8731,
         "image",
         "TheTrendSpotter",
         "Local save in /data/tattoos",
         "Dr Tattoo,Wörter Tattoos,Pisces Tattoos,Tatoo Art,Dream Tattoos,Dope Tattoos,Mini Tattoos,Finger Tattoos,Body Art Tattoos",
         "20 Koi Fish Tattoos For Lucky Men",
         "ea760f71-febf-4023-b592-d17396659039"
        ],
        [
         "tattoos",
         "Koi fish tattoos are a popular choice for men who want to make a statement, thanks to their rich symbolism and bold design.",
         1,
         "211k",
         "https://i.pinimg.com/originals/8a/0c/0a/8a0c0a7b6236565c519acd41ad1a52c0.jpg",
         8731,
         "image",
         "TheTrendSpotter",
         "Local save in /data/tattoos",
         "Dr Tattoo,Wörter Tattoos,Pisces Tattoos,Tatoo Art,Dream Tattoos,Dope Tattoos,Mini Tattoos,Finger Tattoos,Body Art Tattoos",
         "20 Koi Fish Tattoos For Lucky Men",
         "ea760f71-febf-4023-b592-d17396659039"
        ],
        [
         "quotes",
         "#lovequotes #matchmaker #matchmadeinheaven #loveyourself #respectyourself",
         1,
         "51k",
         "https://i.pinimg.com/originals/c6/64/ee/c664ee71524fb5a6e7b7b49233f93b43.png",
         8304,
         "image",
         "Commitment Connection",
         "Local save in /data/quotes",
         "Wise Quotes,Quotable Quotes,Words Quotes,Wise Words,Quotes To Live By,Great Quotes,Motivational Quotes,Inspirational Quotes,Funny Quotes",
         "The #1 Reason You’re Not His Priority Anymore - Matthew Coast",
         "5b6d0913-25e4-43ab-839d-85d5516f78a4"
        ],
        [
         "quotes",
         "#lovequotes #matchmaker #matchmadeinheaven #loveyourself #respectyourself",
         1,
         "51k",
         "https://i.pinimg.com/originals/c6/64/ee/c664ee71524fb5a6e7b7b49233f93b43.png",
         8304,
         "image",
         "Commitment Connection",
         "Local save in /data/quotes",
         "Wise Quotes,Quotable Quotes,Words Quotes,Wise Words,Quotes To Live By,Great Quotes,Motivational Quotes,Inspirational Quotes,Funny Quotes",
         "The #1 Reason You’re Not His Priority Anymore - Matthew Coast",
         "5b6d0913-25e4-43ab-839d-85d5516f78a4"
        ],
        [
         "quotes",
         "#lovequotes #matchmaker #matchmadeinheaven #loveyourself #respectyourself",
         1,
         "51k",
         "https://i.pinimg.com/originals/c6/64/ee/c664ee71524fb5a6e7b7b49233f93b43.png",
         8304,
         "image",
         "Commitment Connection",
         "Local save in /data/quotes",
         "Wise Quotes,Quotable Quotes,Words Quotes,Wise Words,Quotes To Live By,Great Quotes,Motivational Quotes,Inspirational Quotes,Funny Quotes",
         "The #1 Reason You’re Not His Priority Anymore - Matthew Coast",
         "5b6d0913-25e4-43ab-839d-85d5516f78a4"
        ],
        [
         "mens-fashion",
         "imgentleboss: “ - More about men’s fashion at @Gentleboss - GB’s Facebook - ”",
         1,
         "940",
         "https://i.pinimg.com/originals/e7/6e/8e/e76e8ed6cc838b84a934c6948a5caff7.jpg",
         7554,
         "image",
         "iElylike ..✿◕‿◕✿ஐ✿◕‿◕✿",
         "Local save in /data/mens-fashion",
         "Mens Fashion Blog,Look Fashion,Autumn Fashion,Fashion News,Fashion Sale,80s Fashion,Paris Fashion,Runway Fashion,Fashion Trends",
         "Craig Style",
         "c6fa12f4-0d4a-4b07-a335-5bf9f37f8281"
        ],
        [
         "mens-fashion",
         "imgentleboss: “ - More about men’s fashion at @Gentleboss - GB’s Facebook - ”",
         1,
         "940",
         "https://i.pinimg.com/originals/e7/6e/8e/e76e8ed6cc838b84a934c6948a5caff7.jpg",
         7554,
         "image",
         "iElylike ..✿◕‿◕✿ஐ✿◕‿◕✿",
         "Local save in /data/mens-fashion",
         "Mens Fashion Blog,Look Fashion,Autumn Fashion,Fashion News,Fashion Sale,80s Fashion,Paris Fashion,Runway Fashion,Fashion Trends",
         "Craig Style",
         "c6fa12f4-0d4a-4b07-a335-5bf9f37f8281"
        ],
        [
         "tattoos",
         "Tattoos are one of the most efficient ways through which one decides to express themselves…",
         1,
         "4k",
         "https://i.pinimg.com/originals/ab/8e/50/ab8e505b04d4abc8f23e273c15f8a65d.jpg",
         8887,
         "image",
         "RapidLeaks",
         "Local save in /data/tattoos",
         "Dream Tattoos,Body Art Tattoos,New Tattoos,Small Tattoos,Cross Tattoos,Random Tattoos,Fashion Tattoos,Bird Tattoos,Fitness Tattoos",
         "25 Ultra Sexy Back Tattoo Ideas For Girls",
         "5df9f6e5-07f5-4ce8-a82e-96586bbc05d8"
        ],
        [
         "vehicles",
         "No description available Story format",
         1,
         "89k",
         "https://i.pinimg.com/videos/thumbnails/originals/4a/d4/96/4ad4961606179854f1141a90f50f002c.0000001.jpg",
         10509,
         "multi-video(story page format)",
         "TheSuperBOO!",
         "Local save in /data/vehicles",
         "Electric Off Road Vehicle,Cool Illusions,Flying Vehicles,Wow Video,Art And Craft Videos,Top Luxury Cars,Chevy Muscle Cars,Street Racing Cars,Funny Videos Clean",
         "Flying Car",
         "6a5f0e7e-1389-4e54-942f-4cb69f09f140"
        ],
        [
         "beauty",
         "Instantly create the look of lash extensions with this award-winning, best-selling mascara that won't clump, flake or smudge. Available in 3 shades!",
         1,
         "43k",
         "https://i.pinimg.com/videos/thumbnails/originals/69/84/e2/6984e20f3e262098fa9c0614c3453254.0000001.jpg",
         1313,
         "video",
         "Thrive Causemetics",
         "Local save in /data/beauty",
         "N,o, ,T,a,g,s, ,A,v,a,i,l,a,b,l,e",
         "Liquid Lash Extensions Mascara",
         "44662045-e891-4821-8a19-ebe7eedd371a"
        ],
        [
         "beauty",
         "Instantly create the look of lash extensions with this award-winning, best-selling mascara that won't clump, flake or smudge. Available in 3 shades!",
         1,
         "43k",
         "https://i.pinimg.com/videos/thumbnails/originals/69/84/e2/6984e20f3e262098fa9c0614c3453254.0000001.jpg",
         1313,
         "video",
         "Thrive Causemetics",
         "Local save in /data/beauty",
         "N,o, ,T,a,g,s, ,A,v,a,i,l,a,b,l,e",
         "Liquid Lash Extensions Mascara",
         "44662045-e891-4821-8a19-ebe7eedd371a"
        ],
        [
         "beauty",
         "Instantly create the look of lash extensions with this award-winning, best-selling mascara that won't clump, flake or smudge. Available in 3 shades!",
         1,
         "43k",
         "https://i.pinimg.com/videos/thumbnails/originals/69/84/e2/6984e20f3e262098fa9c0614c3453254.0000001.jpg",
         1313,
         "video",
         "Thrive Causemetics",
         "Local save in /data/beauty",
         "N,o, ,T,a,g,s, ,A,v,a,i,l,a,b,l,e",
         "Liquid Lash Extensions Mascara",
         "44662045-e891-4821-8a19-ebe7eedd371a"
        ],
        [
         "vehicles",
         "1937 Jaguar SS100 - 2 1/2 Litre Roadster, one of the most sought after pre-war sports cars",
         1,
         "8k",
         "https://i.pinimg.com/originals/26/81/a7/2681a71bd0c8f7fd0ab79c455338a49a.jpg",
         10625,
         "image",
         "hobbyDB",
         "Local save in /data/vehicles",
         "Jaguar Type E,Jaguar Xk,Jaguar Cars,Jaguar Roadster,Jaguar Sport,Retro Cars,Vintage Cars,Antique Cars,British Sports Cars",
         "Jaguar Type E",
         "d31885b7-742a-4e2a-bbb7-ac5f9d334340"
        ],
        [
         "vehicles",
         "1937 Jaguar SS100 - 2 1/2 Litre Roadster, one of the most sought after pre-war sports cars",
         1,
         "8k",
         "https://i.pinimg.com/originals/26/81/a7/2681a71bd0c8f7fd0ab79c455338a49a.jpg",
         10625,
         "image",
         "hobbyDB",
         "Local save in /data/vehicles",
         "Jaguar Type E,Jaguar Xk,Jaguar Cars,Jaguar Roadster,Jaguar Sport,Retro Cars,Vintage Cars,Antique Cars,British Sports Cars",
         "Jaguar Type E",
         "d31885b7-742a-4e2a-bbb7-ac5f9d334340"
        ],
        [
         "event-planning",
         "Fun Book Page Crafts - MomAdvice",
         1,
         "112k",
         "https://i.pinimg.com/originals/17/55/87/175587b334e71c12300453b8b4b4c6aa.jpg",
         4988,
         "image",
         "MomAdvice",
         "Local save in /data/event-planning",
         "Harry Potter Wedding,Harry Potter Theme,Wedding Book,Wedding Table,Wedding Ideas,Wedding Vintage,Garden Wedding,Vintage Party,Wedding Paper",
         "Fun Book Page Crafts - MomAdvice",
         "fbdfd355-a356-46c2-a251-301869ae2674"
        ],
        [
         "travel",
         "Best spots to see for travel through Ireland!",
         1,
         "130k",
         "https://i.pinimg.com/originals/c7/50/d3/c750d36524856873d64406652d69b4fb.png",
         9590,
         "image",
         "Fun Life Crisis",
         "Local save in /data/travel",
         "Vacation Ideas,Vacation Spots,Emerald Isle,London England,Travel Guides,Travel Tips,Travel Hacks,Travel Packing,Places To Travel",
         "Top 20 Things To See And Do In Ireland",
         "b849e976-52f6-45d7-8b25-51559318f167"
        ],
        [
         "mens-fashion",
         "billy-george: “Summer styles ”",
         1,
         "377",
         "https://i.pinimg.com/originals/3c/8c/53/3c8c534cd02334c50047bd3a4feccce9.jpg",
         6844,
         "image",
         "Au'vey Smith",
         "Local save in /data/mens-fashion",
         "Fashion Week Hommes,La Fashion Week,Fashion Moda,Urban Fashion,Trendy Fashion,Fashion Spring,Fashion 2017,New Mens Fashion,Trendy Clothing",
         "♔the-fashman♔",
         "69c3f268-274f-44bd-9cb4-427e64fefc44"
        ],
        [
         "beauty",
         "Untitled",
         1,
         "0",
         "https://i.pinimg.com/originals/af/c4/59/afc459bd6e1fd8f9aef212504afebf3a.jpg",
         1014,
         "image",
         "Grecia Perales",
         "Local save in /data/beauty",
         "Hair Inspo,Hair Inspiration,Motivation Inspiration,Cl Rapper,Foto Glamour,Kreative Portraits,Classy Aesthetic,Pretty Hairstyles,Hair Looks",
         "Hairstyles & Beauty",
         "9ac94307-bb27-410e-b554-0a0ab6c19847"
        ],
        [
         "vehicles",
         "Nissan GT-R. Sick.",
         1,
         "437",
         "https://i.pinimg.com/originals/0d/29/9f/0d299f3df020395aa7ce8387f40fbeed.jpg",
         10794,
         "image",
         "Ray Uyemura",
         "Local save in /data/vehicles",
         "Lowrider,Old Vintage Cars,Antique Cars,Austin Martin,Nissan Gtr Black,Jaguar,1959 Cadillac,Cadillac Ct6,Old School Cars",
         "TireBuyer",
         "c4bd2577-a7bb-4409-bb7a-17d5ed7e1cf1"
        ],
        [
         "vehicles",
         "Nissan GT-R. Sick.",
         1,
         "437",
         "https://i.pinimg.com/originals/0d/29/9f/0d299f3df020395aa7ce8387f40fbeed.jpg",
         10794,
         "image",
         "Ray Uyemura",
         "Local save in /data/vehicles",
         "Lowrider,Old Vintage Cars,Antique Cars,Austin Martin,Nissan Gtr Black,Jaguar,1959 Cadillac,Cadillac Ct6,Old School Cars",
         "TireBuyer",
         "c4bd2577-a7bb-4409-bb7a-17d5ed7e1cf1"
        ],
        [
         "beauty",
         "9 colors lazy lipstick",
         1,
         "8k",
         "https://i.pinimg.com/originals/25/cf/8c/25cf8cb74b43ab95591342c2bbe4ecd8.jpg",
         1094,
         "image",
         "Jiew82633",
         "Local save in /data/beauty",
         "Nail Inspo,Lazy,Lipstick,How To Apply,Makeup,Colors,Products,Make Up,Lipsticks",
         "9 colors lazy lipstick - 9 colors lazy lipstick4",
         "6deacdcd-75ed-4dd8-8951-9b77453f38e0"
        ],
        [
         "diy-and-crafts",
         "No description available Story format",
         0,
         "User Info Error",
         "Image src error.",
         3089,
         "multi-video(story page format)",
         "User Info Error",
         "Local save in /data/diy-and-crafts",
         "N,o, ,T,a,g,s, ,A,v,a,i,l,a,b,l,e",
         "No Title Data Available",
         "88f9227e-88d0-4b1c-b0be-bcfc3028b8e2"
        ],
        [
         "diy-and-crafts",
         "No description available Story format",
         0,
         "User Info Error",
         "Image src error.",
         3089,
         "multi-video(story page format)",
         "User Info Error",
         "Local save in /data/diy-and-crafts",
         "N,o, ,T,a,g,s, ,A,v,a,i,l,a,b,l,e",
         "No Title Data Available",
         "88f9227e-88d0-4b1c-b0be-bcfc3028b8e2"
        ],
        [
         "mens-fashion",
         "No description available Story format",
         0,
         "User Info Error",
         "Image src error.",
         7528,
         "multi-video(story page format)",
         "User Info Error",
         "Local save in /data/mens-fashion",
         "N,o, ,T,a,g,s, ,A,v,a,i,l,a,b,l,e",
         "No Title Data Available",
         "fbe53c66-3442-4773-b19e-d3ec6f54dddf"
        ],
        [
         "mens-fashion",
         "No description available Story format",
         0,
         "User Info Error",
         "Image src error.",
         7528,
         "multi-video(story page format)",
         "User Info Error",
         "Local save in /data/mens-fashion",
         "N,o, ,T,a,g,s, ,A,v,a,i,l,a,b,l,e",
         "No Title Data Available",
         "fbe53c66-3442-4773-b19e-d3ec6f54dddf"
        ],
        [
         "mens-fashion",
         "No description available Story format",
         0,
         "User Info Error",
         "Image src error.",
         7528,
         "multi-video(story page format)",
         "User Info Error",
         "Local save in /data/mens-fashion",
         "N,o, ,T,a,g,s, ,A,v,a,i,l,a,b,l,e",
         "No Title Data Available",
         "fbe53c66-3442-4773-b19e-d3ec6f54dddf"
        ]
       ],
       "datasetInfos": [],
       "dbfsResultPath": null,
       "isJsonSchema": true,
       "metadata": {},
       "overflow": false,
       "plotOptions": {
        "customPlotOptions": {},
        "displayType": "table",
        "pivotAggregation": null,
        "pivotColumns": null,
        "xColumns": null,
        "yColumns": null
       },
       "removedWidgets": [],
       "schema": [
        {
         "metadata": "{}",
         "name": "category",
         "type": "\"string\""
        },
        {
         "metadata": "{}",
         "name": "description",
         "type": "\"string\""
        },
        {
         "metadata": "{}",
         "name": "downloaded",
         "type": "\"long\""
        },
        {
         "metadata": "{}",
         "name": "follower_count",
         "type": "\"string\""
        },
        {
         "metadata": "{}",
         "name": "image_src",
         "type": "\"string\""
        },
        {
         "metadata": "{}",
         "name": "index",
         "type": "\"long\""
        },
        {
         "metadata": "{}",
         "name": "is_image_or_video",
         "type": "\"string\""
        },
        {
         "metadata": "{}",
         "name": "poster_name",
         "type": "\"string\""
        },
        {
         "metadata": "{}",
         "name": "save_location",
         "type": "\"string\""
        },
        {
         "metadata": "{}",
         "name": "tag_list",
         "type": "\"string\""
        },
        {
         "metadata": "{}",
         "name": "title",
         "type": "\"string\""
        },
        {
         "metadata": "{}",
         "name": "unique_id",
         "type": "\"string\""
        }
       ],
       "type": "table"
      }
     },
     "output_type": "display_data"
    },
    {
     "output_type": "display_data",
     "data": {
      "text/html": [
       "<style scoped>\n",
       "  .table-result-container {\n",
       "    max-height: 300px;\n",
       "    overflow: auto;\n",
       "  }\n",
       "  table, th, td {\n",
       "    border: 1px solid black;\n",
       "    border-collapse: collapse;\n",
       "  }\n",
       "  th, td {\n",
       "    padding: 5px;\n",
       "  }\n",
       "  th {\n",
       "    text-align: left;\n",
       "  }\n",
       "</style><div class='table-result-container'><table class='table-result'><thead style='background-color: white'><tr><th>country</th><th>index</th><th>latitude</th><th>longitude</th><th>timestamp</th></tr></thead><tbody><tr><td>Antarctica (the territory South of 60 deg S)</td><td>2418</td><td>-88.4642</td><td>-171.061</td><td>2022-05-27T11:30:59</td></tr><tr><td>Antarctica (the territory South of 60 deg S)</td><td>2418</td><td>-88.4642</td><td>-171.061</td><td>2022-05-27T11:30:59</td></tr><tr><td>Cocos (Keeling) Islands</td><td>10794</td><td>-89.5236</td><td>-154.567</td><td>2022-01-01T02:26:50</td></tr><tr><td>Cocos (Keeling) Islands</td><td>10794</td><td>-89.5236</td><td>-154.567</td><td>2022-01-01T02:26:50</td></tr><tr><td>Central African Republic</td><td>2074</td><td>-52.3213</td><td>-50.11</td><td>2019-11-03T05:41:59</td></tr><tr><td>Central African Republic</td><td>2074</td><td>-52.3213</td><td>-50.11</td><td>2019-11-03T05:41:59</td></tr><tr><td>British Virgin Islands</td><td>2293</td><td>-87.7946</td><td>-159.647</td><td>2022-03-21T10:46:53</td></tr><tr><td>Saint Kitts and Nevis</td><td>10663</td><td>-27.3474</td><td>-162.83</td><td>2019-07-25T18:53:51</td></tr><tr><td>Antigua and Barbuda</td><td>7922</td><td>-88.0974</td><td>-172.052</td><td>2021-01-27T09:14:19</td></tr><tr><td>Antigua and Barbuda</td><td>8606</td><td>-88.0974</td><td>-172.052</td><td>2021-03-28T14:54:07</td></tr><tr><td>Antigua and Barbuda</td><td>2604</td><td>-80.8933</td><td>-104.972</td><td>2018-12-01T09:23:35</td></tr><tr><td>Netherlands Antilles</td><td>603</td><td>14.0083</td><td>-141.603</td><td>2019-06-25T05:13:01</td></tr><tr><td>Dominican Republic</td><td>9979</td><td>14.9967</td><td>-120.682</td><td>2018-07-18T19:01:46</td></tr><tr><td>Christmas Island</td><td>10119</td><td>-74.5431</td><td>-162.795</td><td>2020-10-22T01:59:58</td></tr><tr><td>Christmas Island</td><td>1704</td><td>-56.8702</td><td>-93.6232</td><td>2018-11-29T04:46:39</td></tr><tr><td>Papua New Guinea</td><td>7790</td><td>-43.692</td><td>64.9839</td><td>2018-07-31T08:19:15</td></tr><tr><td>American Samoa</td><td>9759</td><td>-77.9744</td><td>-106.258</td><td>2017-12-30T13:05:49</td></tr><tr><td>American Samoa</td><td>1422</td><td>-88.5252</td><td>-172.436</td><td>2018-04-30T08:27:21</td></tr><tr><td>Cote d'Ivoire</td><td>2923</td><td>-84.6302</td><td>-164.507</td><td>2019-09-08T22:53:09</td></tr><tr><td>Cote d'Ivoire</td><td>2923</td><td>-84.6302</td><td>-164.507</td><td>2019-09-08T22:53:09</td></tr><tr><td>French Guiana</td><td>8304</td><td>-28.8852</td><td>-164.87</td><td>2019-09-13T04:50:29</td></tr><tr><td>Cote d'Ivoire</td><td>4315</td><td>-45.8508</td><td>66.1003</td><td>2019-12-15T03:51:28</td></tr><tr><td>French Guiana</td><td>8304</td><td>-28.8852</td><td>-164.87</td><td>2019-09-13T04:50:29</td></tr><tr><td>Cote d'Ivoire</td><td>4315</td><td>-45.8508</td><td>66.1003</td><td>2019-12-15T03:51:28</td></tr><tr><td>Guinea-Bissau</td><td>8578</td><td>34.6427</td><td>-161.397</td><td>2018-01-26T19:27:11</td></tr><tr><td>New Caledonia</td><td>6844</td><td>-22.6915</td><td>5.69245</td><td>2021-06-06T21:53:11</td></tr><tr><td>Afghanistan</td><td>3599</td><td>-88.5478</td><td>-174.971</td><td>2019-03-03T06:13:41</td></tr><tr><td>Azerbaijan</td><td>5069</td><td>-63.0063</td><td>-157.474</td><td>2021-03-20T09:32:44</td></tr><tr><td>Mozambique</td><td>6145</td><td>-65.9079</td><td>-143.845</td><td>2019-12-05T02:09:44</td></tr><tr><td>Azerbaijan</td><td>5069</td><td>-63.0063</td><td>-157.474</td><td>2021-03-20T09:32:44</td></tr><tr><td>Mozambique</td><td>6145</td><td>-65.9079</td><td>-143.845</td><td>2019-12-05T02:09:44</td></tr><tr><td>Philippines</td><td>4508</td><td>69.1858</td><td>-76.0761</td><td>2019-01-04T11:15:27</td></tr><tr><td>Madagascar</td><td>4988</td><td>-32.1879</td><td>-35.2784</td><td>2020-07-11T11:01:12</td></tr><tr><td>Isle of Man</td><td>427</td><td>-66.9418</td><td>-30.0087</td><td>2020-04-22T03:08:50</td></tr><tr><td>Bangladesh</td><td>428</td><td>-83.4105</td><td>-150.788</td><td>2020-09-27T18:46:41</td></tr><tr><td>Australia</td><td>7343</td><td>-65.4428</td><td>-161.684</td><td>2018-08-06T12:17:07</td></tr><tr><td>Bangladesh</td><td>428</td><td>-83.4105</td><td>-150.788</td><td>2020-09-27T18:46:41</td></tr><tr><td>Australia</td><td>7343</td><td>-65.4428</td><td>-161.684</td><td>2018-08-06T12:17:07</td></tr><tr><td>Seychelles</td><td>8653</td><td>48.4569</td><td>-139.658</td><td>2022-04-11T18:30:19</td></tr><tr><td>Isle of Man</td><td>5468</td><td>-83.544</td><td>33.9473</td><td>2020-05-16T23:17:50</td></tr><tr><td>Argentina</td><td>8930</td><td>-89.4739</td><td>-176.154</td><td>2021-09-29T13:25:49</td></tr><tr><td>Australia</td><td>7294</td><td>-76.2967</td><td>-136.501</td><td>2018-02-12T08:06:28</td></tr><tr><td>Montserrat</td><td>771</td><td>-29.1712</td><td>-107.111</td><td>2018-06-21T08:42:57</td></tr><tr><td>Mauritania</td><td>4076</td><td>-67.2157</td><td>27.8139</td><td>2019-06-07T20:13:50</td></tr><tr><td>Gibraltar</td><td>10509</td><td>-67.187</td><td>-24.2977</td><td>2019-03-06T12:21:56</td></tr><tr><td>Australia</td><td>9936</td><td>-82.1715</td><td>-147.691</td><td>2018-06-30T22:07:13</td></tr><tr><td>Cape Verde</td><td>6566</td><td>-39.225</td><td>-71.6593</td><td>2020-11-19T10:06:13</td></tr><tr><td>Bulgaria</td><td>5494</td><td>-82.6768</td><td>-129.202</td><td>2021-07-21T02:02:35</td></tr><tr><td>Anguilla</td><td>6063</td><td>-89.1797</td><td>-174.015</td><td>2021-07-20T09:02:47</td></tr><tr><td>Cambodia</td><td>3454</td><td>-0.375174</td><td>49.8106</td><td>2021-07-25T02:20:29</td></tr><tr><td>Jamaica</td><td>10625</td><td>-84.4944</td><td>-81.0613</td><td>2018-07-13T11:51:15</td></tr><tr><td>Barbados</td><td>9875</td><td>-74.3382</td><td>-110.484</td><td>2020-03-20T13:03:18</td></tr><tr><td>Bulgaria</td><td>5494</td><td>-82.6768</td><td>-129.202</td><td>2021-07-21T02:02:35</td></tr><tr><td>Anguilla</td><td>6063</td><td>-89.1797</td><td>-174.015</td><td>2021-07-20T09:02:47</td></tr><tr><td>Cambodia</td><td>3454</td><td>-0.375174</td><td>49.8106</td><td>2021-07-25T02:20:29</td></tr><tr><td>Jamaica</td><td>10625</td><td>-84.4944</td><td>-81.0613</td><td>2018-07-13T11:51:15</td></tr><tr><td>Barbados</td><td>9875</td><td>-74.3382</td><td>-110.484</td><td>2020-03-20T13:03:18</td></tr><tr><td>Botswana</td><td>8887</td><td>-28.0137</td><td>-160.708</td><td>2021-09-19T05:27:43</td></tr><tr><td>Australia</td><td>4137</td><td>-55.3079</td><td>108.918</td><td>2019-06-23T22:16:34</td></tr><tr><td>Argentina</td><td>1268</td><td>-41.7803</td><td>-177.23</td><td>2019-07-06T04:10:29</td></tr><tr><td>Maldives</td><td>5309</td><td>-89.4194</td><td>-84.2493</td><td>2020-05-04T22:00:32</td></tr><tr><td>Albania</td><td>7528</td><td>-89.9787</td><td>-173.293</td><td>2020-08-28T03:52:47</td></tr><tr><td>Armenia</td><td>2863</td><td>-5.34445</td><td>-177.924</td><td>2020-04-27T13:34:16</td></tr><tr><td>Colombia</td><td>5730</td><td>-77.015</td><td>-101.437</td><td>2021-04-19T17:37:03</td></tr><tr><td>Albania</td><td>3089</td><td>-89.9787</td><td>-173.293</td><td>2018-02-28T05:31:29</td></tr><tr><td>Albania</td><td>7528</td><td>-89.9787</td><td>-173.293</td><td>2020-08-28T03:52:47</td></tr><tr><td>Armenia</td><td>2863</td><td>-5.34445</td><td>-177.924</td><td>2020-04-27T13:34:16</td></tr><tr><td>Colombia</td><td>5730</td><td>-77.015</td><td>-101.437</td><td>2021-04-19T17:37:03</td></tr><tr><td>Albania</td><td>3089</td><td>-89.9787</td><td>-173.293</td><td>2018-02-28T05:31:29</td></tr><tr><td>Austria</td><td>10138</td><td>-72.142</td><td>-74.3545</td><td>2019-08-03T00:59:29</td></tr><tr><td>Austria</td><td>9546</td><td>-70.0295</td><td>-155.428</td><td>2018-02-10T06:16:40</td></tr><tr><td>Albania</td><td>2411</td><td>-71.6856</td><td>-179.126</td><td>2020-11-15T17:10:07</td></tr><tr><td>Algeria</td><td>9590</td><td>-64.3876</td><td>-174.281</td><td>2019-05-20T19:48:48</td></tr><tr><td>Germany</td><td>5076</td><td>-70.7195</td><td>-91.1935</td><td>2019-05-05T16:22:23</td></tr><tr><td>Barbados</td><td>205</td><td>-75.8378</td><td>-163.945</td><td>2020-07-08T14:10:38</td></tr><tr><td>Armenia</td><td>1094</td><td>-46.7328</td><td>-124.445</td><td>2018-08-19T00:34:20</td></tr><tr><td>Bahrain</td><td>5630</td><td>-19.1403</td><td>-164.987</td><td>2019-05-12T14:43:19</td></tr><tr><td>Albania</td><td>6398</td><td>-3.29267</td><td>-179.726</td><td>2020-01-19T01:49:05</td></tr><tr><td>Afghanistan</td><td>46</td><td>4.21689</td><td>-145.82</td><td>2018-09-15T09:16:57</td></tr><tr><td>Grenada</td><td>10552</td><td>32.7568</td><td>-179.812</td><td>2020-08-24T11:39:32</td></tr><tr><td>Andorra</td><td>1371</td><td>-89.4584</td><td>-134.271</td><td>2018-08-08T04:41:17</td></tr><tr><td>Andorra</td><td>9074</td><td>-84.7363</td><td>-179.087</td><td>2022-04-10T17:06:13</td></tr><tr><td>Maldives</td><td>1313</td><td>77.0447</td><td>61.9119</td><td>2018-06-26T02:39:25</td></tr><tr><td>Angola</td><td>2959</td><td>-68.0095</td><td>-157.227</td><td>2019-08-19T08:22:02</td></tr><tr><td>Armenia</td><td>3156</td><td>-84.738</td><td>-160.795</td><td>2018-01-13T19:33:49</td></tr><tr><td>Maldives</td><td>1313</td><td>77.0447</td><td>61.9119</td><td>2018-06-26T02:39:25</td></tr><tr><td>Angola</td><td>2959</td><td>-68.0095</td><td>-157.227</td><td>2019-08-19T08:22:02</td></tr><tr><td>Armenia</td><td>3156</td><td>-84.738</td><td>-160.795</td><td>2018-01-13T19:33:49</td></tr><tr><td>Armenia</td><td>719</td><td>-38.4062</td><td>-154.323</td><td>2018-10-29T04:05:12</td></tr><tr><td>Bermuda</td><td>2482</td><td>63.4563</td><td>-164.709</td><td>2019-09-13T08:20:13</td></tr><tr><td>Albania</td><td>808</td><td>-71.6856</td><td>-179.126</td><td>2019-01-03T15:43:12</td></tr><tr><td>Anguilla</td><td>1545</td><td>-30.18</td><td>-72.3784</td><td>2022-06-17T05:47:12</td></tr><tr><td>Armenia</td><td>2015</td><td>-17.629</td><td>-177.685</td><td>2018-09-22T13:52:19</td></tr><tr><td>Algeria</td><td>7768</td><td>-88.355</td><td>-96.0131</td><td>2018-05-25T21:34:19</td></tr><tr><td>Turkey</td><td>3729</td><td>-24.4793</td><td>-150.145</td><td>2018-01-17T03:43:38</td></tr><tr><td>Andorra</td><td>159</td><td>-88.0812</td><td>-166.603</td><td>2017-11-20T21:14:56</td></tr><tr><td>Sudan</td><td>7554</td><td>-51.2172</td><td>-77.9768</td><td>2019-03-20T03:15:07</td></tr><tr><td>Sudan</td><td>7554</td><td>-51.2172</td><td>-77.9768</td><td>2019-03-20T03:15:07</td></tr><tr><td>Aruba</td><td>4913</td><td>-84.3768</td><td>-157.544</td><td>2019-03-08T06:45:39</td></tr><tr><td>Aruba</td><td>7166</td><td>-86.4063</td><td>-136.657</td><td>2022-07-25T03:07:37</td></tr><tr><td>Bhutan</td><td>3419</td><td>7.60293</td><td>-108.979</td><td>2021-12-20T05:01:54</td></tr><tr><td>Algeria</td><td>1555</td><td>-1.7046</td><td>-55.332</td><td>2017-12-24T18:41:23</td></tr><tr><td>Lesotho</td><td>552</td><td>-80.6043</td><td>31.9601</td><td>2022-03-14T05:12:07</td></tr><tr><td>Aruba</td><td>8731</td><td>-83.104</td><td>-171.302</td><td>2020-07-17T04:39:09</td></tr><tr><td>Aruba</td><td>8731</td><td>-83.104</td><td>-171.302</td><td>2020-07-17T04:39:09</td></tr><tr><td>India</td><td>9672</td><td>79.4658</td><td>-69.4133</td><td>2019-11-03T13:15:52</td></tr><tr><td>Congo</td><td>831</td><td>-43.7816</td><td>-66.1592</td><td>2021-06-23T23:16:10</td></tr><tr><td>Aruba</td><td>3800</td><td>-61.471</td><td>-154.912</td><td>2018-01-27T16:49:07</td></tr><tr><td>Tonga</td><td>1014</td><td>81.1477</td><td>69.3538</td><td>2022-02-03T22:05:34</td></tr><tr><td>Egypt</td><td>2698</td><td>-72.7174</td><td>24.169</td><td>2021-11-24T08:33:51</td></tr></tbody></table></div>"
      ]
     },
     "metadata": {
      "application/vnd.databricks.v1+output": {
       "addedWidgets": {},
       "aggData": [],
       "aggError": "",
       "aggOverflow": false,
       "aggSchema": [],
       "aggSeriesLimitReached": false,
       "aggType": "",
       "arguments": {},
       "columnCustomDisplayInfos": {},
       "data": [
        [
         "Antarctica (the territory South of 60 deg S)",
         2418,
         -88.4642,
         -171.061,
         "2022-05-27T11:30:59"
        ],
        [
         "Antarctica (the territory South of 60 deg S)",
         2418,
         -88.4642,
         -171.061,
         "2022-05-27T11:30:59"
        ],
        [
         "Cocos (Keeling) Islands",
         10794,
         -89.5236,
         -154.567,
         "2022-01-01T02:26:50"
        ],
        [
         "Cocos (Keeling) Islands",
         10794,
         -89.5236,
         -154.567,
         "2022-01-01T02:26:50"
        ],
        [
         "Central African Republic",
         2074,
         -52.3213,
         -50.11,
         "2019-11-03T05:41:59"
        ],
        [
         "Central African Republic",
         2074,
         -52.3213,
         -50.11,
         "2019-11-03T05:41:59"
        ],
        [
         "British Virgin Islands",
         2293,
         -87.7946,
         -159.647,
         "2022-03-21T10:46:53"
        ],
        [
         "Saint Kitts and Nevis",
         10663,
         -27.3474,
         -162.83,
         "2019-07-25T18:53:51"
        ],
        [
         "Antigua and Barbuda",
         7922,
         -88.0974,
         -172.052,
         "2021-01-27T09:14:19"
        ],
        [
         "Antigua and Barbuda",
         8606,
         -88.0974,
         -172.052,
         "2021-03-28T14:54:07"
        ],
        [
         "Antigua and Barbuda",
         2604,
         -80.8933,
         -104.972,
         "2018-12-01T09:23:35"
        ],
        [
         "Netherlands Antilles",
         603,
         14.0083,
         -141.603,
         "2019-06-25T05:13:01"
        ],
        [
         "Dominican Republic",
         9979,
         14.9967,
         -120.682,
         "2018-07-18T19:01:46"
        ],
        [
         "Christmas Island",
         10119,
         -74.5431,
         -162.795,
         "2020-10-22T01:59:58"
        ],
        [
         "Christmas Island",
         1704,
         -56.8702,
         -93.6232,
         "2018-11-29T04:46:39"
        ],
        [
         "Papua New Guinea",
         7790,
         -43.692,
         64.9839,
         "2018-07-31T08:19:15"
        ],
        [
         "American Samoa",
         9759,
         -77.9744,
         -106.258,
         "2017-12-30T13:05:49"
        ],
        [
         "American Samoa",
         1422,
         -88.5252,
         -172.436,
         "2018-04-30T08:27:21"
        ],
        [
         "Cote d'Ivoire",
         2923,
         -84.6302,
         -164.507,
         "2019-09-08T22:53:09"
        ],
        [
         "Cote d'Ivoire",
         2923,
         -84.6302,
         -164.507,
         "2019-09-08T22:53:09"
        ],
        [
         "French Guiana",
         8304,
         -28.8852,
         -164.87,
         "2019-09-13T04:50:29"
        ],
        [
         "Cote d'Ivoire",
         4315,
         -45.8508,
         66.1003,
         "2019-12-15T03:51:28"
        ],
        [
         "French Guiana",
         8304,
         -28.8852,
         -164.87,
         "2019-09-13T04:50:29"
        ],
        [
         "Cote d'Ivoire",
         4315,
         -45.8508,
         66.1003,
         "2019-12-15T03:51:28"
        ],
        [
         "Guinea-Bissau",
         8578,
         34.6427,
         -161.397,
         "2018-01-26T19:27:11"
        ],
        [
         "New Caledonia",
         6844,
         -22.6915,
         5.69245,
         "2021-06-06T21:53:11"
        ],
        [
         "Afghanistan",
         3599,
         -88.5478,
         -174.971,
         "2019-03-03T06:13:41"
        ],
        [
         "Azerbaijan",
         5069,
         -63.0063,
         -157.474,
         "2021-03-20T09:32:44"
        ],
        [
         "Mozambique",
         6145,
         -65.9079,
         -143.845,
         "2019-12-05T02:09:44"
        ],
        [
         "Azerbaijan",
         5069,
         -63.0063,
         -157.474,
         "2021-03-20T09:32:44"
        ],
        [
         "Mozambique",
         6145,
         -65.9079,
         -143.845,
         "2019-12-05T02:09:44"
        ],
        [
         "Philippines",
         4508,
         69.1858,
         -76.0761,
         "2019-01-04T11:15:27"
        ],
        [
         "Madagascar",
         4988,
         -32.1879,
         -35.2784,
         "2020-07-11T11:01:12"
        ],
        [
         "Isle of Man",
         427,
         -66.9418,
         -30.0087,
         "2020-04-22T03:08:50"
        ],
        [
         "Bangladesh",
         428,
         -83.4105,
         -150.788,
         "2020-09-27T18:46:41"
        ],
        [
         "Australia",
         7343,
         -65.4428,
         -161.684,
         "2018-08-06T12:17:07"
        ],
        [
         "Bangladesh",
         428,
         -83.4105,
         -150.788,
         "2020-09-27T18:46:41"
        ],
        [
         "Australia",
         7343,
         -65.4428,
         -161.684,
         "2018-08-06T12:17:07"
        ],
        [
         "Seychelles",
         8653,
         48.4569,
         -139.658,
         "2022-04-11T18:30:19"
        ],
        [
         "Isle of Man",
         5468,
         -83.544,
         33.9473,
         "2020-05-16T23:17:50"
        ],
        [
         "Argentina",
         8930,
         -89.4739,
         -176.154,
         "2021-09-29T13:25:49"
        ],
        [
         "Australia",
         7294,
         -76.2967,
         -136.501,
         "2018-02-12T08:06:28"
        ],
        [
         "Montserrat",
         771,
         -29.1712,
         -107.111,
         "2018-06-21T08:42:57"
        ],
        [
         "Mauritania",
         4076,
         -67.2157,
         27.8139,
         "2019-06-07T20:13:50"
        ],
        [
         "Gibraltar",
         10509,
         -67.187,
         -24.2977,
         "2019-03-06T12:21:56"
        ],
        [
         "Australia",
         9936,
         -82.1715,
         -147.691,
         "2018-06-30T22:07:13"
        ],
        [
         "Cape Verde",
         6566,
         -39.225,
         -71.6593,
         "2020-11-19T10:06:13"
        ],
        [
         "Bulgaria",
         5494,
         -82.6768,
         -129.202,
         "2021-07-21T02:02:35"
        ],
        [
         "Anguilla",
         6063,
         -89.1797,
         -174.015,
         "2021-07-20T09:02:47"
        ],
        [
         "Cambodia",
         3454,
         -0.375174,
         49.8106,
         "2021-07-25T02:20:29"
        ],
        [
         "Jamaica",
         10625,
         -84.4944,
         -81.0613,
         "2018-07-13T11:51:15"
        ],
        [
         "Barbados",
         9875,
         -74.3382,
         -110.484,
         "2020-03-20T13:03:18"
        ],
        [
         "Bulgaria",
         5494,
         -82.6768,
         -129.202,
         "2021-07-21T02:02:35"
        ],
        [
         "Anguilla",
         6063,
         -89.1797,
         -174.015,
         "2021-07-20T09:02:47"
        ],
        [
         "Cambodia",
         3454,
         -0.375174,
         49.8106,
         "2021-07-25T02:20:29"
        ],
        [
         "Jamaica",
         10625,
         -84.4944,
         -81.0613,
         "2018-07-13T11:51:15"
        ],
        [
         "Barbados",
         9875,
         -74.3382,
         -110.484,
         "2020-03-20T13:03:18"
        ],
        [
         "Botswana",
         8887,
         -28.0137,
         -160.708,
         "2021-09-19T05:27:43"
        ],
        [
         "Australia",
         4137,
         -55.3079,
         108.918,
         "2019-06-23T22:16:34"
        ],
        [
         "Argentina",
         1268,
         -41.7803,
         -177.23,
         "2019-07-06T04:10:29"
        ],
        [
         "Maldives",
         5309,
         -89.4194,
         -84.2493,
         "2020-05-04T22:00:32"
        ],
        [
         "Albania",
         7528,
         -89.9787,
         -173.293,
         "2020-08-28T03:52:47"
        ],
        [
         "Armenia",
         2863,
         -5.34445,
         -177.924,
         "2020-04-27T13:34:16"
        ],
        [
         "Colombia",
         5730,
         -77.015,
         -101.437,
         "2021-04-19T17:37:03"
        ],
        [
         "Albania",
         3089,
         -89.9787,
         -173.293,
         "2018-02-28T05:31:29"
        ],
        [
         "Albania",
         7528,
         -89.9787,
         -173.293,
         "2020-08-28T03:52:47"
        ],
        [
         "Armenia",
         2863,
         -5.34445,
         -177.924,
         "2020-04-27T13:34:16"
        ],
        [
         "Colombia",
         5730,
         -77.015,
         -101.437,
         "2021-04-19T17:37:03"
        ],
        [
         "Albania",
         3089,
         -89.9787,
         -173.293,
         "2018-02-28T05:31:29"
        ],
        [
         "Austria",
         10138,
         -72.142,
         -74.3545,
         "2019-08-03T00:59:29"
        ],
        [
         "Austria",
         9546,
         -70.0295,
         -155.428,
         "2018-02-10T06:16:40"
        ],
        [
         "Albania",
         2411,
         -71.6856,
         -179.126,
         "2020-11-15T17:10:07"
        ],
        [
         "Algeria",
         9590,
         -64.3876,
         -174.281,
         "2019-05-20T19:48:48"
        ],
        [
         "Germany",
         5076,
         -70.7195,
         -91.1935,
         "2019-05-05T16:22:23"
        ],
        [
         "Barbados",
         205,
         -75.8378,
         -163.945,
         "2020-07-08T14:10:38"
        ],
        [
         "Armenia",
         1094,
         -46.7328,
         -124.445,
         "2018-08-19T00:34:20"
        ],
        [
         "Bahrain",
         5630,
         -19.1403,
         -164.987,
         "2019-05-12T14:43:19"
        ],
        [
         "Albania",
         6398,
         -3.29267,
         -179.726,
         "2020-01-19T01:49:05"
        ],
        [
         "Afghanistan",
         46,
         4.21689,
         -145.82,
         "2018-09-15T09:16:57"
        ],
        [
         "Grenada",
         10552,
         32.7568,
         -179.812,
         "2020-08-24T11:39:32"
        ],
        [
         "Andorra",
         1371,
         -89.4584,
         -134.271,
         "2018-08-08T04:41:17"
        ],
        [
         "Andorra",
         9074,
         -84.7363,
         -179.087,
         "2022-04-10T17:06:13"
        ],
        [
         "Maldives",
         1313,
         77.0447,
         61.9119,
         "2018-06-26T02:39:25"
        ],
        [
         "Angola",
         2959,
         -68.0095,
         -157.227,
         "2019-08-19T08:22:02"
        ],
        [
         "Armenia",
         3156,
         -84.738,
         -160.795,
         "2018-01-13T19:33:49"
        ],
        [
         "Maldives",
         1313,
         77.0447,
         61.9119,
         "2018-06-26T02:39:25"
        ],
        [
         "Angola",
         2959,
         -68.0095,
         -157.227,
         "2019-08-19T08:22:02"
        ],
        [
         "Armenia",
         3156,
         -84.738,
         -160.795,
         "2018-01-13T19:33:49"
        ],
        [
         "Armenia",
         719,
         -38.4062,
         -154.323,
         "2018-10-29T04:05:12"
        ],
        [
         "Bermuda",
         2482,
         63.4563,
         -164.709,
         "2019-09-13T08:20:13"
        ],
        [
         "Albania",
         808,
         -71.6856,
         -179.126,
         "2019-01-03T15:43:12"
        ],
        [
         "Anguilla",
         1545,
         -30.18,
         -72.3784,
         "2022-06-17T05:47:12"
        ],
        [
         "Armenia",
         2015,
         -17.629,
         -177.685,
         "2018-09-22T13:52:19"
        ],
        [
         "Algeria",
         7768,
         -88.355,
         -96.0131,
         "2018-05-25T21:34:19"
        ],
        [
         "Turkey",
         3729,
         -24.4793,
         -150.145,
         "2018-01-17T03:43:38"
        ],
        [
         "Andorra",
         159,
         -88.0812,
         -166.603,
         "2017-11-20T21:14:56"
        ],
        [
         "Sudan",
         7554,
         -51.2172,
         -77.9768,
         "2019-03-20T03:15:07"
        ],
        [
         "Sudan",
         7554,
         -51.2172,
         -77.9768,
         "2019-03-20T03:15:07"
        ],
        [
         "Aruba",
         4913,
         -84.3768,
         -157.544,
         "2019-03-08T06:45:39"
        ],
        [
         "Aruba",
         7166,
         -86.4063,
         -136.657,
         "2022-07-25T03:07:37"
        ],
        [
         "Bhutan",
         3419,
         7.60293,
         -108.979,
         "2021-12-20T05:01:54"
        ],
        [
         "Algeria",
         1555,
         -1.7046,
         -55.332,
         "2017-12-24T18:41:23"
        ],
        [
         "Lesotho",
         552,
         -80.6043,
         31.9601,
         "2022-03-14T05:12:07"
        ],
        [
         "Aruba",
         8731,
         -83.104,
         -171.302,
         "2020-07-17T04:39:09"
        ],
        [
         "Aruba",
         8731,
         -83.104,
         -171.302,
         "2020-07-17T04:39:09"
        ],
        [
         "India",
         9672,
         79.4658,
         -69.4133,
         "2019-11-03T13:15:52"
        ],
        [
         "Congo",
         831,
         -43.7816,
         -66.1592,
         "2021-06-23T23:16:10"
        ],
        [
         "Aruba",
         3800,
         -61.471,
         -154.912,
         "2018-01-27T16:49:07"
        ],
        [
         "Tonga",
         1014,
         81.1477,
         69.3538,
         "2022-02-03T22:05:34"
        ],
        [
         "Egypt",
         2698,
         -72.7174,
         24.169,
         "2021-11-24T08:33:51"
        ]
       ],
       "datasetInfos": [],
       "dbfsResultPath": null,
       "isJsonSchema": true,
       "metadata": {},
       "overflow": false,
       "plotOptions": {
        "customPlotOptions": {},
        "displayType": "table",
        "pivotAggregation": null,
        "pivotColumns": null,
        "xColumns": null,
        "yColumns": null
       },
       "removedWidgets": [],
       "schema": [
        {
         "metadata": "{}",
         "name": "country",
         "type": "\"string\""
        },
        {
         "metadata": "{}",
         "name": "index",
         "type": "\"long\""
        },
        {
         "metadata": "{}",
         "name": "latitude",
         "type": "\"double\""
        },
        {
         "metadata": "{}",
         "name": "longitude",
         "type": "\"double\""
        },
        {
         "metadata": "{}",
         "name": "timestamp",
         "type": "\"string\""
        }
       ],
       "type": "table"
      }
     },
     "output_type": "display_data"
    },
    {
     "output_type": "display_data",
     "data": {
      "text/html": [
       "<style scoped>\n",
       "  .table-result-container {\n",
       "    max-height: 300px;\n",
       "    overflow: auto;\n",
       "  }\n",
       "  table, th, td {\n",
       "    border: 1px solid black;\n",
       "    border-collapse: collapse;\n",
       "  }\n",
       "  th, td {\n",
       "    padding: 5px;\n",
       "  }\n",
       "  th {\n",
       "    text-align: left;\n",
       "  }\n",
       "</style><div class='table-result-container'><table class='table-result'><thead style='background-color: white'><tr><th>age</th><th>date_joined</th><th>first_name</th><th>index</th><th>last_name</th></tr></thead><tbody><tr><td>27</td><td>2016-03-08T13:38:37</td><td>Christopher</td><td>2015</td><td>Bradshaw</td></tr><tr><td>39</td><td>2016-06-29T20:43:59</td><td>Christina</td><td>6398</td><td>Davenport</td></tr><tr><td>20</td><td>2015-10-23T04:13:23</td><td>Alexandria</td><td>3599</td><td>Alvarado</td></tr><tr><td>20</td><td>2015-12-01T15:08:31</td><td>Christopher</td><td>5076</td><td>Butler</td></tr><tr><td>39</td><td>2017-07-19T07:12:04</td><td>Michelle</td><td>7790</td><td>Gutierrez</td></tr><tr><td>49</td><td>2016-04-22T20:36:02</td><td>Brittany</td><td>10509</td><td>Thompson</td></tr><tr><td>43</td><td>2016-07-21T15:25:08</td><td>Chelsea</td><td>10119</td><td>Gonzalez</td></tr><tr><td>21</td><td>2015-11-10T09:27:42</td><td>Andrea</td><td>8731</td><td>Alexander</td></tr><tr><td>21</td><td>2015-11-10T09:27:42</td><td>Andrea</td><td>8731</td><td>Alexander</td></tr><tr><td>24</td><td>2016-03-31T20:56:39</td><td>Austin</td><td>8887</td><td>Rodriguez</td></tr><tr><td>23</td><td>2015-12-01T18:15:02</td><td>Christine</td><td>7768</td><td>Cortez</td></tr><tr><td>36</td><td>2015-12-20T16:38:13</td><td>Michelle</td><td>4315</td><td>Prince</td></tr><tr><td>32</td><td>2017-10-10T20:09:33</td><td>Christian</td><td>10625</td><td>Lang</td></tr><tr><td>36</td><td>2015-12-20T16:38:13</td><td>Michelle</td><td>4315</td><td>Prince</td></tr><tr><td>32</td><td>2017-10-10T20:09:33</td><td>Christian</td><td>10625</td><td>Lang</td></tr><tr><td>22</td><td>2016-02-11T20:46:04</td><td>Jennifer</td><td>9672</td><td>Hudson</td></tr><tr><td>23</td><td>2015-11-28T11:52:37</td><td>Andrew</td><td>8930</td><td>Anderson</td></tr><tr><td>31</td><td>2017-08-04T14:30:22</td><td>Alexander</td><td>6566</td><td>Perez</td></tr><tr><td>52</td><td>2016-02-07T20:00:25</td><td>Richard</td><td>3729</td><td>Edwards</td></tr><tr><td>40</td><td>2017-05-16T07:09:21</td><td>Michael</td><td>10552</td><td>Hunter</td></tr><tr><td>21</td><td>2015-10-25T07:36:08</td><td>Aaron</td><td>9074</td><td>Alexander</td></tr><tr><td>32</td><td>2016-04-02T03:51:23</td><td>Brittany</td><td>1313</td><td>Jones</td></tr><tr><td>34</td><td>2016-12-22T00:02:02</td><td>Thomas</td><td>10794</td><td>Turner</td></tr><tr><td>20</td><td>2016-01-07T19:49:22</td><td>David</td><td>2959</td><td>Griffith</td></tr><tr><td>26</td><td>2015-12-20T10:28:00</td><td>Brendan</td><td>9875</td><td>Joseph</td></tr><tr><td>21</td><td>2016-01-03T15:42:12</td><td>Annette</td><td>2074</td><td>Forbes</td></tr><tr><td>32</td><td>2016-04-02T03:51:23</td><td>Brittany</td><td>1313</td><td>Jones</td></tr><tr><td>34</td><td>2016-12-22T00:02:02</td><td>Thomas</td><td>10794</td><td>Turner</td></tr><tr><td>20</td><td>2016-01-07T19:49:22</td><td>David</td><td>2959</td><td>Griffith</td></tr><tr><td>26</td><td>2015-12-20T10:28:00</td><td>Brendan</td><td>9875</td><td>Joseph</td></tr><tr><td>21</td><td>2016-01-03T15:42:12</td><td>Annette</td><td>2074</td><td>Forbes</td></tr><tr><td>56</td><td>2016-10-15T17:21:39</td><td>Gregory</td><td>1014</td><td>Ramsey</td></tr><tr><td>59</td><td>2017-06-29T22:35:17</td><td>Michael</td><td>4137</td><td>Decker</td></tr><tr><td>21</td><td>2015-11-24T02:15:36</td><td>Aaron</td><td>2411</td><td>Bartlett</td></tr><tr><td>58</td><td>2016-06-03T23:35:30</td><td>Michael</td><td>4508</td><td>Carter</td></tr><tr><td>32</td><td>2016-03-10T04:11:31</td><td>Brittany</td><td>771</td><td>Butler</td></tr><tr><td>46</td><td>2015-11-27T23:11:21</td><td>Jonathan</td><td>1545</td><td>Avila</td></tr><tr><td>44</td><td>2016-10-29T02:07:21</td><td>Brandon</td><td>603</td><td>Jackson</td></tr><tr><td>22</td><td>2016-02-09T17:01:38</td><td>Carlos</td><td>5630</td><td>Estrada</td></tr><tr><td>32</td><td>2016-06-08T22:10:13</td><td>Donna</td><td>1268</td><td>Campbell</td></tr><tr><td>54</td><td>2016-05-15T04:22:01</td><td>Alexis</td><td>1555</td><td>Bennett</td></tr><tr><td>20</td><td>2015-12-17T08:43:40</td><td>Adam</td><td>3800</td><td>Armstrong</td></tr><tr><td>25</td><td>2015-12-28T04:21:39</td><td>Charles</td><td>8304</td><td>Berry</td></tr><tr><td>23</td><td>2015-11-25T13:36:22</td><td>Corey</td><td>6063</td><td>Andrews</td></tr><tr><td>48</td><td>2017-09-26T16:31:56</td><td>Robert</td><td>3454</td><td>Murphy</td></tr><tr><td>20</td><td>2017-04-11T16:35:33</td><td>Cheryl</td><td>7554</td><td>Huerta</td></tr><tr><td>30</td><td>2015-12-25T20:24:37</td><td>Emily</td><td>6145</td><td>Hawkins</td></tr><tr><td>25</td><td>2015-12-28T04:21:39</td><td>Charles</td><td>8304</td><td>Berry</td></tr><tr><td>23</td><td>2015-11-25T13:36:22</td><td>Corey</td><td>6063</td><td>Andrews</td></tr><tr><td>48</td><td>2017-09-26T16:31:56</td><td>Robert</td><td>3454</td><td>Murphy</td></tr><tr><td>20</td><td>2017-04-11T16:35:33</td><td>Cheryl</td><td>7554</td><td>Huerta</td></tr><tr><td>30</td><td>2015-12-25T20:24:37</td><td>Emily</td><td>6145</td><td>Hawkins</td></tr><tr><td>31</td><td>2016-11-09T19:50:51</td><td>Kaylee</td><td>9979</td><td>Miller</td></tr><tr><td>24</td><td>2015-11-20T05:37:11</td><td>Angela</td><td>4913</td><td>Brooks</td></tr><tr><td>25</td><td>2015-11-19T21:24:33</td><td>Daniel</td><td>9759</td><td>Brooks</td></tr><tr><td>20</td><td>2016-12-31T00:06:36</td><td>Dawn</td><td>7294</td><td>Anderson</td></tr><tr><td>21</td><td>2015-11-24T02:15:36</td><td>Aaron</td><td>808</td><td>Bartlett</td></tr><tr><td>28</td><td>2016-11-15T10:40:03</td><td>Anthony</td><td>9936</td><td>Cantu</td></tr><tr><td>30</td><td>2016-07-03T10:59:40</td><td>Peter</td><td>6844</td><td>Roberts</td></tr><tr><td>47</td><td>2017-04-26T03:26:23</td><td>Aaron</td><td>3419</td><td>Jenkins</td></tr><tr><td>25</td><td>2017-07-20T05:51:23</td><td>Rhonda</td><td>4988</td><td>Durham</td></tr><tr><td>20</td><td>2017-01-17T01:49:27</td><td>Regina</td><td>552</td><td>Morales</td></tr><tr><td>32</td><td>2016-10-23T14:06:51</td><td>Dylan</td><td>2863</td><td>Holmes</td></tr><tr><td>36</td><td>2015-12-08T20:02:43</td><td>Rachel</td><td>5730</td><td>Davis</td></tr><tr><td>26</td><td>2015-11-11T03:20:57</td><td>Brian</td><td>2923</td><td>Nelson</td></tr><tr><td>20</td><td>2015-10-21T08:27:36</td><td>Amanda</td><td>2418</td><td>Adams</td></tr><tr><td>22</td><td>2015-12-21T08:06:54</td><td>Andrew</td><td>3156</td><td>Baker</td></tr><tr><td>20</td><td>2015-11-28T02:20:29</td><td>Claudia</td><td>428</td><td>Adams</td></tr><tr><td>24</td><td>2016-01-11T12:03:48</td><td>Anne</td><td>7343</td><td>Clayton</td></tr><tr><td>32</td><td>2016-10-23T14:06:51</td><td>Dylan</td><td>2863</td><td>Holmes</td></tr><tr><td>36</td><td>2015-12-08T20:02:43</td><td>Rachel</td><td>5730</td><td>Davis</td></tr><tr><td>26</td><td>2015-11-11T03:20:57</td><td>Brian</td><td>2923</td><td>Nelson</td></tr><tr><td>20</td><td>2015-10-21T08:27:36</td><td>Amanda</td><td>2418</td><td>Adams</td></tr><tr><td>22</td><td>2015-12-21T08:06:54</td><td>Andrew</td><td>3156</td><td>Baker</td></tr><tr><td>20</td><td>2015-11-28T02:20:29</td><td>Claudia</td><td>428</td><td>Adams</td></tr><tr><td>24</td><td>2016-01-11T12:03:48</td><td>Anne</td><td>7343</td><td>Clayton</td></tr><tr><td>22</td><td>2015-12-31T14:57:02</td><td>Carol</td><td>10138</td><td>Silva</td></tr><tr><td>21</td><td>2015-11-12T06:21:36</td><td>Denise</td><td>7922</td><td>Adams</td></tr><tr><td>22</td><td>2015-10-24T18:56:30</td><td>Amanda</td><td>9590</td><td>Allen</td></tr><tr><td>44</td><td>2017-06-21T19:53:27</td><td>Kayla</td><td>2698</td><td>Burton</td></tr><tr><td>28</td><td>2016-06-16T02:06:38</td><td>Aimee</td><td>831</td><td>Collins</td></tr><tr><td>21</td><td>2015-11-12T06:21:36</td><td>Denise</td><td>8606</td><td>Adams</td></tr><tr><td>20</td><td>2015-10-23T22:47:39</td><td>Larry</td><td>4076</td><td>Pineda</td></tr><tr><td>20</td><td>2015-10-31T18:51:07</td><td>Aaron</td><td>1422</td><td>Abbott</td></tr><tr><td>20</td><td>2015-11-12T03:23:49</td><td>Amanda</td><td>1371</td><td>Brown</td></tr><tr><td>20</td><td>2015-10-24T11:23:51</td><td>Abigail</td><td>7528</td><td>Ali</td></tr><tr><td>25</td><td>2016-01-13T17:36:30</td><td>Amanda</td><td>5069</td><td>Ball</td></tr><tr><td>20</td><td>2015-10-24T11:23:51</td><td>Abigail</td><td>3089</td><td>Ali</td></tr><tr><td>20</td><td>2015-10-24T11:23:51</td><td>Abigail</td><td>7528</td><td>Ali</td></tr><tr><td>25</td><td>2016-01-13T17:36:30</td><td>Amanda</td><td>5069</td><td>Ball</td></tr><tr><td>20</td><td>2015-10-24T11:23:51</td><td>Abigail</td><td>3089</td><td>Ali</td></tr><tr><td>24</td><td>2016-03-09T10:48:14</td><td>Tammy</td><td>8653</td><td>Davis</td></tr><tr><td>20</td><td>2016-01-01T13:50:40</td><td>Alvin</td><td>7166</td><td>Adams</td></tr><tr><td>20</td><td>2016-02-27T21:13:44</td><td>Alex</td><td>9546</td><td>Barnes</td></tr><tr><td>20</td><td>2016-07-23T20:51:06</td><td>Lisa</td><td>5468</td><td>Gamble</td></tr><tr><td>20</td><td>2015-10-23T12:40:19</td><td>Brett</td><td>205</td><td>Bryant</td></tr><tr><td>20</td><td>2016-01-26T01:49:23</td><td>Alicia</td><td>719</td><td>Avila</td></tr><tr><td>20</td><td>2016-07-02T02:32:30</td><td>Ann</td><td>1094</td><td>Elliott</td></tr><tr><td>27</td><td>2015-12-16T15:20:05</td><td>Anne</td><td>5494</td><td>Allen</td></tr><tr><td>27</td><td>2015-12-16T15:20:05</td><td>Anne</td><td>5494</td><td>Allen</td></tr><tr><td>23</td><td>2016-06-23T14:38:00</td><td>Julie</td><td>10663</td><td>Cox</td></tr><tr><td>20</td><td>2015-10-28T05:00:33</td><td>Barry</td><td>1704</td><td>Lynn</td></tr><tr><td>22</td><td>2016-03-01T07:11:48</td><td>David</td><td>2482</td><td>Moss</td></tr><tr><td>21</td><td>2016-01-07T08:11:35</td><td>Alison</td><td>159</td><td>Bell</td></tr><tr><td>31</td><td>2016-03-07T01:01:24</td><td>Daniel</td><td>5309</td><td>Roy</td></tr><tr><td>24</td><td>2016-01-11T23:08:27</td><td>Alex</td><td>2293</td><td>Bean</td></tr><tr><td>30</td><td>2016-01-06T09:58:56</td><td>Erik</td><td>46</td><td>Kelley</td></tr><tr><td>48</td><td>2017-06-01T23:13:27</td><td>Joe</td><td>8578</td><td>Pham</td></tr><tr><td>25</td><td>2015-11-26T17:42:37</td><td>Jon</td><td>427</td><td>Burke</td></tr></tbody></table></div>"
      ]
     },
     "metadata": {
      "application/vnd.databricks.v1+output": {
       "addedWidgets": {},
       "aggData": [],
       "aggError": "",
       "aggOverflow": false,
       "aggSchema": [],
       "aggSeriesLimitReached": false,
       "aggType": "",
       "arguments": {},
       "columnCustomDisplayInfos": {},
       "data": [
        [
         27,
         "2016-03-08T13:38:37",
         "Christopher",
         2015,
         "Bradshaw"
        ],
        [
         39,
         "2016-06-29T20:43:59",
         "Christina",
         6398,
         "Davenport"
        ],
        [
         20,
         "2015-10-23T04:13:23",
         "Alexandria",
         3599,
         "Alvarado"
        ],
        [
         20,
         "2015-12-01T15:08:31",
         "Christopher",
         5076,
         "Butler"
        ],
        [
         39,
         "2017-07-19T07:12:04",
         "Michelle",
         7790,
         "Gutierrez"
        ],
        [
         49,
         "2016-04-22T20:36:02",
         "Brittany",
         10509,
         "Thompson"
        ],
        [
         43,
         "2016-07-21T15:25:08",
         "Chelsea",
         10119,
         "Gonzalez"
        ],
        [
         21,
         "2015-11-10T09:27:42",
         "Andrea",
         8731,
         "Alexander"
        ],
        [
         21,
         "2015-11-10T09:27:42",
         "Andrea",
         8731,
         "Alexander"
        ],
        [
         24,
         "2016-03-31T20:56:39",
         "Austin",
         8887,
         "Rodriguez"
        ],
        [
         23,
         "2015-12-01T18:15:02",
         "Christine",
         7768,
         "Cortez"
        ],
        [
         36,
         "2015-12-20T16:38:13",
         "Michelle",
         4315,
         "Prince"
        ],
        [
         32,
         "2017-10-10T20:09:33",
         "Christian",
         10625,
         "Lang"
        ],
        [
         36,
         "2015-12-20T16:38:13",
         "Michelle",
         4315,
         "Prince"
        ],
        [
         32,
         "2017-10-10T20:09:33",
         "Christian",
         10625,
         "Lang"
        ],
        [
         22,
         "2016-02-11T20:46:04",
         "Jennifer",
         9672,
         "Hudson"
        ],
        [
         23,
         "2015-11-28T11:52:37",
         "Andrew",
         8930,
         "Anderson"
        ],
        [
         31,
         "2017-08-04T14:30:22",
         "Alexander",
         6566,
         "Perez"
        ],
        [
         52,
         "2016-02-07T20:00:25",
         "Richard",
         3729,
         "Edwards"
        ],
        [
         40,
         "2017-05-16T07:09:21",
         "Michael",
         10552,
         "Hunter"
        ],
        [
         21,
         "2015-10-25T07:36:08",
         "Aaron",
         9074,
         "Alexander"
        ],
        [
         32,
         "2016-04-02T03:51:23",
         "Brittany",
         1313,
         "Jones"
        ],
        [
         34,
         "2016-12-22T00:02:02",
         "Thomas",
         10794,
         "Turner"
        ],
        [
         20,
         "2016-01-07T19:49:22",
         "David",
         2959,
         "Griffith"
        ],
        [
         26,
         "2015-12-20T10:28:00",
         "Brendan",
         9875,
         "Joseph"
        ],
        [
         21,
         "2016-01-03T15:42:12",
         "Annette",
         2074,
         "Forbes"
        ],
        [
         32,
         "2016-04-02T03:51:23",
         "Brittany",
         1313,
         "Jones"
        ],
        [
         34,
         "2016-12-22T00:02:02",
         "Thomas",
         10794,
         "Turner"
        ],
        [
         20,
         "2016-01-07T19:49:22",
         "David",
         2959,
         "Griffith"
        ],
        [
         26,
         "2015-12-20T10:28:00",
         "Brendan",
         9875,
         "Joseph"
        ],
        [
         21,
         "2016-01-03T15:42:12",
         "Annette",
         2074,
         "Forbes"
        ],
        [
         56,
         "2016-10-15T17:21:39",
         "Gregory",
         1014,
         "Ramsey"
        ],
        [
         59,
         "2017-06-29T22:35:17",
         "Michael",
         4137,
         "Decker"
        ],
        [
         21,
         "2015-11-24T02:15:36",
         "Aaron",
         2411,
         "Bartlett"
        ],
        [
         58,
         "2016-06-03T23:35:30",
         "Michael",
         4508,
         "Carter"
        ],
        [
         32,
         "2016-03-10T04:11:31",
         "Brittany",
         771,
         "Butler"
        ],
        [
         46,
         "2015-11-27T23:11:21",
         "Jonathan",
         1545,
         "Avila"
        ],
        [
         44,
         "2016-10-29T02:07:21",
         "Brandon",
         603,
         "Jackson"
        ],
        [
         22,
         "2016-02-09T17:01:38",
         "Carlos",
         5630,
         "Estrada"
        ],
        [
         32,
         "2016-06-08T22:10:13",
         "Donna",
         1268,
         "Campbell"
        ],
        [
         54,
         "2016-05-15T04:22:01",
         "Alexis",
         1555,
         "Bennett"
        ],
        [
         20,
         "2015-12-17T08:43:40",
         "Adam",
         3800,
         "Armstrong"
        ],
        [
         25,
         "2015-12-28T04:21:39",
         "Charles",
         8304,
         "Berry"
        ],
        [
         23,
         "2015-11-25T13:36:22",
         "Corey",
         6063,
         "Andrews"
        ],
        [
         48,
         "2017-09-26T16:31:56",
         "Robert",
         3454,
         "Murphy"
        ],
        [
         20,
         "2017-04-11T16:35:33",
         "Cheryl",
         7554,
         "Huerta"
        ],
        [
         30,
         "2015-12-25T20:24:37",
         "Emily",
         6145,
         "Hawkins"
        ],
        [
         25,
         "2015-12-28T04:21:39",
         "Charles",
         8304,
         "Berry"
        ],
        [
         23,
         "2015-11-25T13:36:22",
         "Corey",
         6063,
         "Andrews"
        ],
        [
         48,
         "2017-09-26T16:31:56",
         "Robert",
         3454,
         "Murphy"
        ],
        [
         20,
         "2017-04-11T16:35:33",
         "Cheryl",
         7554,
         "Huerta"
        ],
        [
         30,
         "2015-12-25T20:24:37",
         "Emily",
         6145,
         "Hawkins"
        ],
        [
         31,
         "2016-11-09T19:50:51",
         "Kaylee",
         9979,
         "Miller"
        ],
        [
         24,
         "2015-11-20T05:37:11",
         "Angela",
         4913,
         "Brooks"
        ],
        [
         25,
         "2015-11-19T21:24:33",
         "Daniel",
         9759,
         "Brooks"
        ],
        [
         20,
         "2016-12-31T00:06:36",
         "Dawn",
         7294,
         "Anderson"
        ],
        [
         21,
         "2015-11-24T02:15:36",
         "Aaron",
         808,
         "Bartlett"
        ],
        [
         28,
         "2016-11-15T10:40:03",
         "Anthony",
         9936,
         "Cantu"
        ],
        [
         30,
         "2016-07-03T10:59:40",
         "Peter",
         6844,
         "Roberts"
        ],
        [
         47,
         "2017-04-26T03:26:23",
         "Aaron",
         3419,
         "Jenkins"
        ],
        [
         25,
         "2017-07-20T05:51:23",
         "Rhonda",
         4988,
         "Durham"
        ],
        [
         20,
         "2017-01-17T01:49:27",
         "Regina",
         552,
         "Morales"
        ],
        [
         32,
         "2016-10-23T14:06:51",
         "Dylan",
         2863,
         "Holmes"
        ],
        [
         36,
         "2015-12-08T20:02:43",
         "Rachel",
         5730,
         "Davis"
        ],
        [
         26,
         "2015-11-11T03:20:57",
         "Brian",
         2923,
         "Nelson"
        ],
        [
         20,
         "2015-10-21T08:27:36",
         "Amanda",
         2418,
         "Adams"
        ],
        [
         22,
         "2015-12-21T08:06:54",
         "Andrew",
         3156,
         "Baker"
        ],
        [
         20,
         "2015-11-28T02:20:29",
         "Claudia",
         428,
         "Adams"
        ],
        [
         24,
         "2016-01-11T12:03:48",
         "Anne",
         7343,
         "Clayton"
        ],
        [
         32,
         "2016-10-23T14:06:51",
         "Dylan",
         2863,
         "Holmes"
        ],
        [
         36,
         "2015-12-08T20:02:43",
         "Rachel",
         5730,
         "Davis"
        ],
        [
         26,
         "2015-11-11T03:20:57",
         "Brian",
         2923,
         "Nelson"
        ],
        [
         20,
         "2015-10-21T08:27:36",
         "Amanda",
         2418,
         "Adams"
        ],
        [
         22,
         "2015-12-21T08:06:54",
         "Andrew",
         3156,
         "Baker"
        ],
        [
         20,
         "2015-11-28T02:20:29",
         "Claudia",
         428,
         "Adams"
        ],
        [
         24,
         "2016-01-11T12:03:48",
         "Anne",
         7343,
         "Clayton"
        ],
        [
         22,
         "2015-12-31T14:57:02",
         "Carol",
         10138,
         "Silva"
        ],
        [
         21,
         "2015-11-12T06:21:36",
         "Denise",
         7922,
         "Adams"
        ],
        [
         22,
         "2015-10-24T18:56:30",
         "Amanda",
         9590,
         "Allen"
        ],
        [
         44,
         "2017-06-21T19:53:27",
         "Kayla",
         2698,
         "Burton"
        ],
        [
         28,
         "2016-06-16T02:06:38",
         "Aimee",
         831,
         "Collins"
        ],
        [
         21,
         "2015-11-12T06:21:36",
         "Denise",
         8606,
         "Adams"
        ],
        [
         20,
         "2015-10-23T22:47:39",
         "Larry",
         4076,
         "Pineda"
        ],
        [
         20,
         "2015-10-31T18:51:07",
         "Aaron",
         1422,
         "Abbott"
        ],
        [
         20,
         "2015-11-12T03:23:49",
         "Amanda",
         1371,
         "Brown"
        ],
        [
         20,
         "2015-10-24T11:23:51",
         "Abigail",
         7528,
         "Ali"
        ],
        [
         25,
         "2016-01-13T17:36:30",
         "Amanda",
         5069,
         "Ball"
        ],
        [
         20,
         "2015-10-24T11:23:51",
         "Abigail",
         3089,
         "Ali"
        ],
        [
         20,
         "2015-10-24T11:23:51",
         "Abigail",
         7528,
         "Ali"
        ],
        [
         25,
         "2016-01-13T17:36:30",
         "Amanda",
         5069,
         "Ball"
        ],
        [
         20,
         "2015-10-24T11:23:51",
         "Abigail",
         3089,
         "Ali"
        ],
        [
         24,
         "2016-03-09T10:48:14",
         "Tammy",
         8653,
         "Davis"
        ],
        [
         20,
         "2016-01-01T13:50:40",
         "Alvin",
         7166,
         "Adams"
        ],
        [
         20,
         "2016-02-27T21:13:44",
         "Alex",
         9546,
         "Barnes"
        ],
        [
         20,
         "2016-07-23T20:51:06",
         "Lisa",
         5468,
         "Gamble"
        ],
        [
         20,
         "2015-10-23T12:40:19",
         "Brett",
         205,
         "Bryant"
        ],
        [
         20,
         "2016-01-26T01:49:23",
         "Alicia",
         719,
         "Avila"
        ],
        [
         20,
         "2016-07-02T02:32:30",
         "Ann",
         1094,
         "Elliott"
        ],
        [
         27,
         "2015-12-16T15:20:05",
         "Anne",
         5494,
         "Allen"
        ],
        [
         27,
         "2015-12-16T15:20:05",
         "Anne",
         5494,
         "Allen"
        ],
        [
         23,
         "2016-06-23T14:38:00",
         "Julie",
         10663,
         "Cox"
        ],
        [
         20,
         "2015-10-28T05:00:33",
         "Barry",
         1704,
         "Lynn"
        ],
        [
         22,
         "2016-03-01T07:11:48",
         "David",
         2482,
         "Moss"
        ],
        [
         21,
         "2016-01-07T08:11:35",
         "Alison",
         159,
         "Bell"
        ],
        [
         31,
         "2016-03-07T01:01:24",
         "Daniel",
         5309,
         "Roy"
        ],
        [
         24,
         "2016-01-11T23:08:27",
         "Alex",
         2293,
         "Bean"
        ],
        [
         30,
         "2016-01-06T09:58:56",
         "Erik",
         46,
         "Kelley"
        ],
        [
         48,
         "2017-06-01T23:13:27",
         "Joe",
         8578,
         "Pham"
        ],
        [
         25,
         "2015-11-26T17:42:37",
         "Jon",
         427,
         "Burke"
        ]
       ],
       "datasetInfos": [],
       "dbfsResultPath": null,
       "isJsonSchema": true,
       "metadata": {},
       "overflow": false,
       "plotOptions": {
        "customPlotOptions": {},
        "displayType": "table",
        "pivotAggregation": null,
        "pivotColumns": null,
        "xColumns": null,
        "yColumns": null
       },
       "removedWidgets": [],
       "schema": [
        {
         "metadata": "{}",
         "name": "age",
         "type": "\"long\""
        },
        {
         "metadata": "{}",
         "name": "date_joined",
         "type": "\"string\""
        },
        {
         "metadata": "{}",
         "name": "first_name",
         "type": "\"string\""
        },
        {
         "metadata": "{}",
         "name": "index",
         "type": "\"long\""
        },
        {
         "metadata": "{}",
         "name": "last_name",
         "type": "\"string\""
        }
       ],
       "type": "table"
      }
     },
     "output_type": "display_data"
    },
    {
     "output_type": "display_data",
     "data": {
      "text/html": [
       "<style scoped>\n",
       "  .table-result-container {\n",
       "    max-height: 300px;\n",
       "    overflow: auto;\n",
       "  }\n",
       "  table, th, td {\n",
       "    border: 1px solid black;\n",
       "    border-collapse: collapse;\n",
       "  }\n",
       "  th, td {\n",
       "    padding: 5px;\n",
       "  }\n",
       "  th {\n",
       "    text-align: left;\n",
       "  }\n",
       "</style><div class='table-result-container'><table class='table-result'><thead style='background-color: white'><tr><th>ind</th><th>unique_id</th><th>title</th><th>description</th><th>follower_count</th><th>poster_name</th><th>tag_list</th><th>is_image_or_video</th><th>image_src</th><th>save_location</th><th>category</th></tr></thead><tbody><tr><td>2482</td><td>08604f20-fa17-4b9a-9949-781717eca6cd</td><td>FORNT PORCH CHRISTMAS DECORATING IDEAS</td><td>Christmas decorating ideas for porches. Beautiful holiday decor ideas for front porches both small and large. Outdoor decorations like sleds, lanterns, Christmas trees, wreaths,… </td><td>46000.0</td><td>Life on Summerhill | Home, Holiday Decor & DIY Website</td><td>Diy Christmas Decorations For Home,Farmhouse Christmas Decor,Christmas Home,Christmas Holidays,Christmas Front Porches,How To Decorate For Christmas,Christmas Porch Ideas,Christmas Decorating Ideas,Large Outdoor Christmas Decorations</td><td>video</td><td>https://i.pinimg.com/videos/thumbnails/originals/40/83/f5/4083f5b4971bf235f89a4784ab87271e.0000001.jpg</td><td>Local save in /data/christmas</td><td>christmas</td></tr><tr><td>10138</td><td>927c4658-cc3f-4b92-9b5c-70743d0c238d</td><td>14 Amazing Things To Do In Costa Rica | Volcanoes, Waterfalls, Wildlife And More</td><td>This Costa Rica itinerary is the ultimate guide to spending two weeks in Costa Rica. Find out about visiting La Fortuna, Arenal, Monteverde, Naranjo, Corcovado National Park, Or… </td><td>10000.0</td><td>Wanderlust Chloe ✈️ Travel guides, inspo and adventure travel ✈️</td><td>Costa Rica Travel,Rio Celeste Costa Rica,Dream Vacations,Vacation Spots,Vacation Travel,Travel Pictures,Travel Photos,Fortuna Costa Rica,Costa Rica Pictures</td><td>image</td><td>https://i.pinimg.com/originals/30/93/cb/3093cb01d9de2d125fda8ba5e3e41946.jpg</td><td>Local save in /data/travel</td><td>travel</td></tr><tr><td>2604</td><td>087b0fa9-f901-4262-aa0a-6caf234d1b35</td><td>75+ Neutral Christmas Home Decor for the Holiday Season in Farmhouse Style using Earth Tones Modern</td><td>My favorite 75+ Neutral Christmas Home Decor for decorating your house during the Holiday Season in earth tones and a farmhouse, rustic style all winter. I love this modern, sim… </td><td>31000.0</td><td>Everyday Wholesome</td><td>Colorful Christmas Decorations,Colorful Christmas Tree,Christmas Centerpieces,Christmas Colors,Xmas Colors,Winter Decorations,Christmas Trends,Christmas Inspiration,Christmas Home</td><td>image</td><td>https://i.pinimg.com/originals/86/84/39/868439dd894969e3abd6a2a8a9fe1e9c.jpg</td><td>Local save in /data/christmas</td><td>christmas</td></tr><tr><td>3156</td><td>fa6e31a4-18c2-4eca-a6d8-e903eee2c2a4</td><td>Handprint Reindeer Ornaments - Crafty Morning</td><td>This post may contain affiliate links, read our Disclosure Policy for more information. As an Amazon Associate I earn from qualifying purchases, thank you! Make some cute handpr… </td><td>892000.0</td><td>Michelle {CraftyMorning.com}</td><td>Christmas Gifts For Parents,Christmas Decorations For Kids,Christmas Crafts For Toddlers,Preschool Christmas,Christmas Crafts For Gifts,Christmas Activities,Toddler Crafts,Kids Christmas,Christmas Feeling</td><td>image</td><td>https://i.pinimg.com/originals/ff/fe/38/fffe384f3ec18a0d87cb2d80cc8c1499.jpg</td><td>Local save in /data/diy-and-crafts</td><td>diy-and-crafts</td></tr><tr><td>3156</td><td>fa6e31a4-18c2-4eca-a6d8-e903eee2c2a4</td><td>Handprint Reindeer Ornaments - Crafty Morning</td><td>This post may contain affiliate links, read our Disclosure Policy for more information. As an Amazon Associate I earn from qualifying purchases, thank you! Make some cute handpr… </td><td>892000.0</td><td>Michelle {CraftyMorning.com}</td><td>Christmas Gifts For Parents,Christmas Decorations For Kids,Christmas Crafts For Toddlers,Preschool Christmas,Christmas Crafts For Gifts,Christmas Activities,Toddler Crafts,Kids Christmas,Christmas Feeling</td><td>image</td><td>https://i.pinimg.com/originals/ff/fe/38/fffe384f3ec18a0d87cb2d80cc8c1499.jpg</td><td>Local save in /data/diy-and-crafts</td><td>diy-and-crafts</td></tr><tr><td>10119</td><td>40eab9ba-7812-4f26-baca-35a6bed95a9f</td><td>How to Afford Family Travel: 10 Mistakes You're Making (and what to do instead) | Our Next Adventure</td><td>See families traveling all the time and wonder, \"how the heck do they afford this?\" Read 10 mistakes you might be making, and what you should do instead.</td><td>9000.0</td><td>OUR NEXT ADVENTURE | family travel blog</td><td>Family Vacation Destinations,Vacation Trips,Travel Destinations,Vacation Ideas,Cheap Family Vacations,Vacation Travel,Best Family Vacation Spots,Vacation Quotes,Vacation Memories</td><td>image</td><td>https://i.pinimg.com/originals/0a/49/fb/0a49fbcec746c4219d3a6f30834f378e.jpg</td><td>Local save in /data/travel</td><td>travel</td></tr><tr><td>3419</td><td>d0b80187-0171-49b2-8ee4-572984244f65</td><td>Easy Christmas Tree Crafts Ideas for toddlers and preschoolers | Sharing Our Experiences</td><td>Easy Christmas tree Craft Ideas for toddlers and preschoolers. Engage your kids in these DIY</td><td>3000.0</td><td>Kids Crafts & Free Preschool Printables- Sharing Our Experiences</td><td>Christmas Crafts For Kids To Make,Christmas Tree Painting,Christmas Activities For Kids,Easy Christmas Crafts For Toddlers,Kid Activities,Christmas Handprint Crafts,Christmas Tree Crafts,Christmas Baby,Xmas Tree</td><td>image</td><td>https://i.pinimg.com/originals/69/f0/75/69f075939d4449dffa69519756c30e26.png</td><td>Local save in /data/diy-and-crafts</td><td>diy-and-crafts</td></tr><tr><td>5494</td><td>8fb2af68-543b-4639-8119-de33d28706ed</td><td>Dave Ramsey's 7 Baby Steps: What Are They And Will They Work For You</td><td>If you love budgeting, make sure to give Dave Ramsey's 7 Baby Steps a try. Follow these steps to begin your debt snowball, build an emergency fund, invest and reach riches. I ca… </td><td>26000.0</td><td>Living Low Key | Save Money, Make Money, & Frugal Living</td><td>Financial Peace,Financial Tips,Saving Money Quotes,Total Money Makeover,Budgeting Finances,Money Management,Wealth Management,Personal Finance,Making Ideas</td><td>image</td><td>https://i.pinimg.com/originals/1e/9d/90/1e9d906e4e150e3b95187f3b76ea7c71.png</td><td>Local save in /data/finance</td><td>finance</td></tr><tr><td>5494</td><td>8fb2af68-543b-4639-8119-de33d28706ed</td><td>Dave Ramsey's 7 Baby Steps: What Are They And Will They Work For You</td><td>If you love budgeting, make sure to give Dave Ramsey's 7 Baby Steps a try. Follow these steps to begin your debt snowball, build an emergency fund, invest and reach riches. I ca… </td><td>26000.0</td><td>Living Low Key | Save Money, Make Money, & Frugal Living</td><td>Financial Peace,Financial Tips,Saving Money Quotes,Total Money Makeover,Budgeting Finances,Money Management,Wealth Management,Personal Finance,Making Ideas</td><td>image</td><td>https://i.pinimg.com/originals/1e/9d/90/1e9d906e4e150e3b95187f3b76ea7c71.png</td><td>Local save in /data/finance</td><td>finance</td></tr><tr><td>2418</td><td>da8745a6-5160-46c4-877d-181d50a729fd</td><td>100 DIY Christmas Centerpieces You'll Love To Decorate Your Home With For The Christmas Season - Hike n Dip</td><td>Here are the best DIY Christmas Centerpieces ideas perfect for your Christmas & holiday season home decor. From Christmas Vignettes to Table Centerpieces.</td><td>500000.0</td><td>HikenDip</td><td>Farmhouse Christmas Decor,Rustic Christmas,Christmas Time,Vintage Christmas,Xmas,Primitive Christmas Crafts,Christmas Vignette,Indoor Christmas Decorations,Diy Christmas Ornaments</td><td>image</td><td>https://i.pinimg.com/originals/aa/6d/0f/aa6d0f44d7c1c96b998cb9aa6c4446b8.png</td><td>Local save in /data/christmas</td><td>christmas</td></tr><tr><td>2418</td><td>da8745a6-5160-46c4-877d-181d50a729fd</td><td>100 DIY Christmas Centerpieces You'll Love To Decorate Your Home With For The Christmas Season - Hike n Dip</td><td>Here are the best DIY Christmas Centerpieces ideas perfect for your Christmas & holiday season home decor. From Christmas Vignettes to Table Centerpieces.</td><td>500000.0</td><td>HikenDip</td><td>Farmhouse Christmas Decor,Rustic Christmas,Christmas Time,Vintage Christmas,Xmas,Primitive Christmas Crafts,Christmas Vignette,Indoor Christmas Decorations,Diy Christmas Ornaments</td><td>image</td><td>https://i.pinimg.com/originals/aa/6d/0f/aa6d0f44d7c1c96b998cb9aa6c4446b8.png</td><td>Local save in /data/christmas</td><td>christmas</td></tr><tr><td>7922</td><td>a584581c-1b38-4731-a1cc-f36115ecf229</td><td>45 Top Life Quotes School Did Not Teach You</td><td>summcoco gives you inspiration for the women fashion trends you want. Thinking about a new look or lifestyle? This is your ultimate resource to get the hottest trends. 45 Top Li… </td><td>306000.0</td><td>Sumcoco | Decor Ideas, Hairstyles, Nails Fashion Advice</td><td>Life Quotes Love,Inspirational Quotes About Love,Mood Quotes,Motivational Quotes,Tears Quotes,Quotes About Sadness,Deep Quotes About Life,Quotes Quotes,Quote Life</td><td>image</td><td>https://i.pinimg.com/originals/bb/c0/e6/bbc0e6a797079505f11ac12bcb0b8c66.jpg</td><td>Local save in /data/quotes</td><td>quotes</td></tr><tr><td>771</td><td>a5021766-a8aa-4dc7-9857-4da6b8e3dc1a</td><td>African Sunset Shadow Tracing Art - Taming Little Monsters</td><td>Use your mini world figures to create this beautiful African sunset. Your kids will love learning about shadows, angles and distortion in this fun art and STEM activity for kids.</td><td>4000.0</td><td>Taming Little Monsters - Fun Activities for Kids</td><td>African Art Projects,Cool Art Projects,Projects For Kids,African Art For Kids,African Crafts Kids,Art Club Projects,Art Education Projects,Tracing Art,African Sunset</td><td>image</td><td>https://i.pinimg.com/originals/e3/aa/35/e3aa350f8f104d0e59f26d7f17ea7461.png</td><td>Local save in /data/art</td><td>art</td></tr><tr><td>4508</td><td>9064f4a2-2753-476c-815e-db360f45a93e</td><td>Custom Event and Shop Neon Sign Lights - Event & Shop</td><td>Personalize your event or shop with a customized neon sign. Make a statement with your own custom vibes! This light is 32 -40 inches (80cm-100cm) if you need something bigger, p… </td><td>111.0</td><td>Life of Neon | Custom Neon Light Signs | Home Decor Wall Art</td><td>Our Wedding,Wedding Venues,Dream Wedding,Wedding Cakes,Church Wedding,Wedding Flowers,Lace Wedding,Wedding Rings,Wedding Dresses</td><td>image</td><td>https://i.pinimg.com/originals/e9/c0/7c/e9c07cf0cf16cab23764a36718ab76c1.jpg</td><td>Local save in /data/event-planning</td><td>event-planning</td></tr><tr><td>4076</td><td>3a52d364-7c04-47cb-a3e5-56d9e2b77528</td><td>Phonics Activities Your Kids Will Love - The Literacy Nest</td><td>Hi everyone! As a teacher using the Orton-Gillingham approach, I am constantly looking for phonics activities that my students will find fun and engaging. Using Orton-Gillingham… </td><td>22000.0</td><td>The Literacy Nest</td><td>Literacy Games,Kindergarten Activities,Literacy Centers,Fun Phonics Activities,Listening Activities,Vocabulary Games,Literacy Stations,Letter Activities,Montessori Activities</td><td>image</td><td>https://i.pinimg.com/originals/58/8e/38/588e380b19942a71a86a69d9c9973d25.png</td><td>Local save in /data/education</td><td>education</td></tr><tr><td>2293</td><td>1fd7d4cc-54c1-4542-9c1f-449cb4c875f4</td><td>Over 40 of the BEST Homemade Christmas Ornament Ideas</td><td>Over 40 of the BEST Homemade Christmas Ornaments...these easy Holiday crafts are so fun to make for Kids and Adults! Lots of great class party ideas!</td><td>245000.0</td><td>Kitchen Fun With My 3 Sons</td><td>Diy Christmas Lights,Homemade Christmas Decorations,Christmas Crafts For Gifts,Mini Christmas Tree,Christmas Ornament Crafts,Homemade Christmas Gifts,Xmas Decorations,Simple Christmas,Handmade Christmas</td><td>image</td><td>https://i.pinimg.com/originals/d0/d3/a3/d0d3a31e87296224d5ba8896904b5b88.jpg</td><td>Local save in /data/christmas</td><td>christmas</td></tr><tr><td>159</td><td>841a161a-47b8-4161-884d-adeb67a28b1e</td><td>Valentine's Day Bee Directed Drawing {Art Project}</td><td>This bee directed drawing and associated pages will help you create a fun and creative Valentine's Day Directed Drawing Art Project activity for your class.Choose to do a painti… </td><td>null</td><td>Teachers Pay Teachers</td><td>Classroom Art Projects,School Art Projects,Art Classroom,Art Projects For Kindergarteners,Spring Art Projects,Classroom Posters,Valentines Art Lessons,Valentines Day Activities,Grade 1 Art</td><td>image</td><td>https://i.pinimg.com/originals/49/ff/2e/49ff2e83c0cefdd37213f6084c6f0566.jpg</td><td>Local save in /data/art</td><td>art</td></tr><tr><td>9979</td><td>2b2abc85-fc51-481f-8ae6-17681993da28</td><td>Paris in the Summer. 10 fun things to do in Paris in the Summertime • Petite in Paris</td><td>Are you traveling to Paris during the summer? Find out what to do in Paris, France during the summer. Fun summertime activities in Paris. Enjoy the incredible outdoors when trav… </td><td>3000.0</td><td>Petite in Paris</td><td>Torre Eiffel Paris,Tour Eiffel,Picnic In Paris,Hello France,Voyage Europe,Destination Voyage,Beautiful Places To Travel,Travel Aesthetic,Paris Travel</td><td>image</td><td>https://i.pinimg.com/originals/6c/4c/90/6c4c90bba27ebf8c8bfe4c1acfb9f07a.jpg</td><td>Local save in /data/travel</td><td>travel</td></tr><tr><td>9759</td><td>d105eb6e-0f9f-46e7-8d02-d24b62f6ae90</td><td>8 Best Greek Islands You Have To Visit - TheFab20s</td><td>Although you'd think Greek islands are fairly similar, you'd be completely wrong! Each island has it's own personality and appeal. Here are the 8 Best Greek Islands to visit, es… </td><td>42000.0</td><td>TheFab20s | Travel+Food+DIY+Listicles</td><td>Greek Islands To Visit,Best Greek Islands,Greece Islands,Cool Places To Visit,Places To Go,Best Places In Portugal,Copenhagen Travel,Paros Island,Santorini Island</td><td>image</td><td>https://i.pinimg.com/originals/06/1d/ce/061dce38929dec8e74844442116bea4a.jpg</td><td>Local save in /data/travel</td><td>travel</td></tr><tr><td>2698</td><td>73f16302-4871-486a-8836-947530526337</td><td>DIY Dollar Tree Valentine's Day Wreath</td><td>DIY Dollar Store Valentine’s Day Heart Wreath Decoration. There are so many great Valentine crafts at the Dollar Tree right now! During our last trip, we picked up a few supplie… </td><td>9000.0</td><td>South Lumina Style</td><td>Valentine Day Wreaths,Valentines Day Hearts,Valentines Day Decorations,Valentine Day Crafts,Holiday Crafts,Diy Christmas,Christmas Wreaths,Valentine Tree,Printable Valentine</td><td>image</td><td>https://i.pinimg.com/originals/dc/f6/8a/dcf68adcc63c339c24fa5664f1115994.png</td><td>Local save in /data/diy-and-crafts</td><td>diy-and-crafts</td></tr><tr><td>6145</td><td>82e13a07-db99-43a3-b1c0-89a4b75821da</td><td>HOLIDAY MANTLE DECOR - @AMAZON & @TARGET FINDS</td><td>Holiday mantle decor, Christmas decor, metallic mercury glass style Christmas trees, eucalyptus vine, evergreen pine branches, white neutral holiday decor, cozy mantle for the h… </td><td>83000.0</td><td>Stylin by Aylin</td><td>Winter Home Decor,Christmas Living Room Decor,Living Room Decor Cozy,Christmas Decor,Cozy Fireplace,Rustic Fireplace Decor,Fireplace Decorations,Rustic Room,House Decorations</td><td>image</td><td>https://i.pinimg.com/originals/9d/82/1a/9d821a80acd8f90c16454e978bd9b115.jpg</td><td>Local save in /data/home-decor</td><td>home-decor</td></tr><tr><td>6145</td><td>82e13a07-db99-43a3-b1c0-89a4b75821da</td><td>HOLIDAY MANTLE DECOR - @AMAZON & @TARGET FINDS</td><td>Holiday mantle decor, Christmas decor, metallic mercury glass style Christmas trees, eucalyptus vine, evergreen pine branches, white neutral holiday decor, cozy mantle for the h… </td><td>83000.0</td><td>Stylin by Aylin</td><td>Winter Home Decor,Christmas Living Room Decor,Living Room Decor Cozy,Christmas Decor,Cozy Fireplace,Rustic Fireplace Decor,Fireplace Decorations,Rustic Room,House Decorations</td><td>image</td><td>https://i.pinimg.com/originals/9d/82/1a/9d821a80acd8f90c16454e978bd9b115.jpg</td><td>Local save in /data/home-decor</td><td>home-decor</td></tr><tr><td>427</td><td>4a455340-09a2-4370-ad86-73d7964603db</td><td>DIY Acrylic Paint Pouring Wall Art - Abbotts At Home</td><td>Easy to follow steps for this easy DIY wall art. Acrylic Paint Pouring with a blow dryer, Dutch paint pour. Written steps and full step by step video to help you do it too! 👍</td><td>52000.0</td><td>Abbotts At Home</td><td>Acrylic Pouring Art,Acrylic Wall Art,Acrylic Pouring Techniques,Acrylic Paintings,Art Paintings,Marble Art,Marble Painting,Pour Painting,Large Canvas Art</td><td>video</td><td>https://i.pinimg.com/videos/thumbnails/originals/d5/5e/fa/d55efa6ef50d35dac425cea935f39c89.0000001.jpg</td><td>Local save in /data/art</td><td>art</td></tr><tr><td>1704</td><td>5fbf9863-fb79-477c-a5b6-540c3020a55f</td><td>Christmas Trees From Pallet Wood | Holiday DIY</td><td>Christmas Trees From Pallet Wood | Holiday DIY: Deck the yard with some fun outdoor Christmas Trees! We made these merry and bright decorations from two old pallets we had lying… </td><td>null</td><td>Instructables</td><td>Pallet Wood Christmas Tree,Wooden Christmas Crafts,Diy Christmas Tree,Christmas Projects,Holiday Crafts,Wooden Xmas Trees,Different Christmas Trees,Pallet Tree,Christmas Kitchen</td><td>image</td><td>https://i.pinimg.com/originals/64/7b/ca/647bca35169b7c144604116c64bcba8a.png</td><td>Local save in /data/christmas</td><td>christmas</td></tr><tr><td>4315</td><td>21b59ba9-829d-4c33-8c27-4cd4c56d26b8</td><td>Podcasts for Teachers or Parents of Teenagers</td><td>Podcasts for Teachers or Parents of Teenagers: Teaching teens middle school and high school can feel joyful and rewarding most days, but can also frustrate you with one challeng… </td><td>25000.0</td><td>Math Giraffe</td><td>Middle School Classroom,High School Students,High School Teachers,Middle School Tips,High School Counseling,Ela Classroom,High School Science,Future Classroom,Google Classroom</td><td>image</td><td>https://i.pinimg.com/originals/50/19/31/501931a27ee4d076658980851b995b2c.jpg</td><td>Local save in /data/education</td><td>education</td></tr><tr><td>4315</td><td>21b59ba9-829d-4c33-8c27-4cd4c56d26b8</td><td>Podcasts for Teachers or Parents of Teenagers</td><td>Podcasts for Teachers or Parents of Teenagers: Teaching teens middle school and high school can feel joyful and rewarding most days, but can also frustrate you with one challeng… </td><td>25000.0</td><td>Math Giraffe</td><td>Middle School Classroom,High School Students,High School Teachers,Middle School Tips,High School Counseling,Ela Classroom,High School Science,Future Classroom,Google Classroom</td><td>image</td><td>https://i.pinimg.com/originals/50/19/31/501931a27ee4d076658980851b995b2c.jpg</td><td>Local save in /data/education</td><td>education</td></tr><tr><td>4315</td><td>21b59ba9-829d-4c33-8c27-4cd4c56d26b8</td><td>Podcasts for Teachers or Parents of Teenagers</td><td>Podcasts for Teachers or Parents of Teenagers: Teaching teens middle school and high school can feel joyful and rewarding most days, but can also frustrate you with one challeng… </td><td>25000.0</td><td>Math Giraffe</td><td>Middle School Classroom,High School Students,High School Teachers,Middle School Tips,High School Counseling,Ela Classroom,High School Science,Future Classroom,Google Classroom</td><td>image</td><td>https://i.pinimg.com/originals/50/19/31/501931a27ee4d076658980851b995b2c.jpg</td><td>Local save in /data/education</td><td>education</td></tr><tr><td>3599</td><td>ff0dd945-dafa-411c-8cef-eb43e374e815</td><td>Educational Leadership in Aotearoa New Zealand : Issues of Context and Social Justice</td><td>This book presents 10 inspirational case studies of how centre leaders, principals and leadership teams in high-needs New Zealand educational settings have enacted leadership to… </td><td>null</td><td>Walmart</td><td>Research Studies,Educational Leadership,Education System,Secondary School,Try It Free,Book Format,Social Justice,Young People,Paperback Books</td><td>image</td><td>https://i.pinimg.com/originals/0e/ea/c4/0eeac457780bbe43fcc5e9eaabd80f62.jpg</td><td>Local save in /data/education</td><td>education</td></tr><tr><td>5069</td><td>b75b6f87-deb3-444f-b29e-ce9161b2df49</td><td>The Vault: Curated & Refined Wedding Inspiration</td><td>Sacramento California Wedding 2 Chic Events & Design Jodi Yorston Photography Wilson Vineyards Barn Miosa Couture Yellow Barn Vineyard Outdoor Candles DIY</td><td>null</td><td>Style Me Pretty</td><td>60th Anniversary Parties,Anniversary Decorations,Golden Anniversary,25th Wedding Anniversary,Anniversary Pictures,Anniversary Ideas,Birthday Decorations,Event Planning Design,Event Design</td><td>image</td><td>https://i.pinimg.com/originals/7e/45/90/7e45905fefa36347e83333fd6d091140.jpg</td><td>Local save in /data/event-planning</td><td>event-planning</td></tr><tr><td>7343</td><td>b8c63a95-6fe8-4d7f-9455-1eef3462fee0</td><td>This Fashion Rule Is Nonsense, And We Should All Forget About It</td><td>Black And Brown Outfits You Need To Try This Fall Season. The trick with black and brown outfits is to know how to combine colors, fabrics, and shapes to get a cohesive look. So… </td><td>null</td><td>Cultura Colectiva</td><td>Winter Outfits Men,Stylish Mens Outfits,Casual Outfits,Men Casual,Smart Casual,Outfits For Men,Fall Outfits,Mens Winter Boots,Business Casual Men</td><td>image</td><td>https://i.pinimg.com/originals/3e/49/09/3e4909c0ccc4dbba3cad83d97eab4a61.png</td><td>Local save in /data/mens-fashion</td><td>mens-fashion</td></tr><tr><td>5069</td><td>b75b6f87-deb3-444f-b29e-ce9161b2df49</td><td>The Vault: Curated & Refined Wedding Inspiration</td><td>Sacramento California Wedding 2 Chic Events & Design Jodi Yorston Photography Wilson Vineyards Barn Miosa Couture Yellow Barn Vineyard Outdoor Candles DIY</td><td>null</td><td>Style Me Pretty</td><td>60th Anniversary Parties,Anniversary Decorations,Golden Anniversary,25th Wedding Anniversary,Anniversary Pictures,Anniversary Ideas,Birthday Decorations,Event Planning Design,Event Design</td><td>image</td><td>https://i.pinimg.com/originals/7e/45/90/7e45905fefa36347e83333fd6d091140.jpg</td><td>Local save in /data/event-planning</td><td>event-planning</td></tr><tr><td>7343</td><td>b8c63a95-6fe8-4d7f-9455-1eef3462fee0</td><td>This Fashion Rule Is Nonsense, And We Should All Forget About It</td><td>Black And Brown Outfits You Need To Try This Fall Season. The trick with black and brown outfits is to know how to combine colors, fabrics, and shapes to get a cohesive look. So… </td><td>null</td><td>Cultura Colectiva</td><td>Winter Outfits Men,Stylish Mens Outfits,Casual Outfits,Men Casual,Smart Casual,Outfits For Men,Fall Outfits,Mens Winter Boots,Business Casual Men</td><td>image</td><td>https://i.pinimg.com/originals/3e/49/09/3e4909c0ccc4dbba3cad83d97eab4a61.png</td><td>Local save in /data/mens-fashion</td><td>mens-fashion</td></tr><tr><td>8606</td><td>71757040-bfc8-4631-9cac-22801e61d9e3</td><td>30+ Eagle Tattoos Ideas for Women</td><td>summcoco gives you inspiration for the women fashion trends you want. Thinking about a new look or lifestyle? This is your ultimate resource to get the hottest trends. 30+ Eagle… </td><td>306000.0</td><td>Sumcoco | Decor Ideas, Hairstyles, Nails Fashion Advice</td><td>White Bird Tattoos,Rose Tattoos,Flower Tattoos,Tattoo Black,Bird And Flower Tattoo,Tattoo Floral,Mini Tattoos,Flower Art,Girls With Sleeve Tattoos</td><td>image</td><td>https://i.pinimg.com/originals/8d/c6/ed/8dc6ed0b212393187a14c7d07a88060f.png</td><td>Local save in /data/tattoos</td><td>tattoos</td></tr><tr><td>9074</td><td>2adede06-7fb0-4b5f-8cf9-ce8e6d6fa6a1</td><td>77 Disney Tattoos To Unleash Your Magic Power - Our Mindful Life</td><td>Disney characters never go out with time. From small to bold, here are the best Disney tattoos that both adults and children will adore.</td><td>190000.0</td><td>Our Mindful Life</td><td>Small Disney Tattoos,Disney Thigh Tattoo,Matching Disney Tattoos,Disney Couple Tattoos,Disney Inspired Tattoos,Disney Sleeve Tattoos,Matching Best Friend Tattoos,Small Tattoos,3 Best Friend Tattoos</td><td>image</td><td>https://i.pinimg.com/originals/29/1d/13/291d1361e275358df53c1db02b63d3a4.jpg</td><td>Local save in /data/tattoos</td><td>tattoos</td></tr><tr><td>6063</td><td>60693727-4927-4bd6-a8c5-096a392d63e6</td><td>41 Gorgeous Fall Decor Ideas For Your Home - Chaylor & Mads</td><td>Beautiful and easy ways to update every room in your home with fall decor. Plus, my favorite finds in fall decor for 2020!</td><td>92000.0</td><td>Kristen | Lifestyle, Mom Tips & Teacher Stuff Blog</td><td>Fall Home Decor,Autumn Home,Fall Decor Outdoor,Front Porch Fall Decor,Home Decor Ideas,Porch Ideas For Fall,Fall Outdoor Decorating,Decorating Ideas For Fall,Fall Front Doors</td><td>image</td><td>https://i.pinimg.com/originals/e5/ae/dc/e5aedc14ce557e3a69f672e0f8c88f6e.png</td><td>Local save in /data/home-decor</td><td>home-decor</td></tr><tr><td>6063</td><td>60693727-4927-4bd6-a8c5-096a392d63e6</td><td>41 Gorgeous Fall Decor Ideas For Your Home - Chaylor & Mads</td><td>Beautiful and easy ways to update every room in your home with fall decor. Plus, my favorite finds in fall decor for 2020!</td><td>92000.0</td><td>Kristen | Lifestyle, Mom Tips & Teacher Stuff Blog</td><td>Fall Home Decor,Autumn Home,Fall Decor Outdoor,Front Porch Fall Decor,Home Decor Ideas,Porch Ideas For Fall,Fall Outdoor Decorating,Decorating Ideas For Fall,Fall Front Doors</td><td>image</td><td>https://i.pinimg.com/originals/e5/ae/dc/e5aedc14ce557e3a69f672e0f8c88f6e.png</td><td>Local save in /data/home-decor</td><td>home-decor</td></tr><tr><td>5076</td><td>fa3af29c-dc78-4eed-a4c5-52a407ea04c0</td><td>Quiz: Test Your Event IQ! - Pointers For Planners</td><td>So you're thinking of getting your event planner certification, but how much do you REALLY know about event planning? Event planners need to be knowledgeable and able to answer… </td><td>5000.0</td><td>QC Career School</td><td>Diy Wedding Food,Best Wedding Makeup,Wedding Events,Wedding Tips,Wedding Stuff,Weddings,Event Planning Business,Business Events,Wedding Makeup Tutorial</td><td>image</td><td>https://i.pinimg.com/originals/6f/19/bc/6f19bce24921bf843540fc04da9eb6bf.jpg</td><td>Local save in /data/event-planning</td><td>event-planning</td></tr><tr><td>552</td><td>b82602a9-e434-42cf-9481-22f3f41d82ce</td><td>The herbal bed: Katie Scott's psychedelic flora and fauna – in pictures</td><td>Nike trainers sprout plants and French perfumiers inspire by mysterious scientific icons in Katie Scott’s visions that take botanical illustration into the digital age</td><td>908000.0</td><td>The Guardian</td><td>Art And Illustration,Illustration Inspiration,Botanical Illustration,Vintage Illustrations,Botanical Drawings,Botanical Prints,Arte Inspo,Insect Art,Psychedelic</td><td>image</td><td>https://i.pinimg.com/originals/16/8a/fa/168afae02d5ffc71da10cdb312de2cb1.jpg</td><td>Local save in /data/art</td><td>art</td></tr><tr><td>8578</td><td>036ec267-658b-4dad-a097-8ef0b4f30c0d</td><td>Snake Collarbone Temporary Tattoo. Halloween Tattoos  Spooky | Etsy</td><td>Snake temporary tattoo for collarbone. Spooky 3D tattoo for Halloween Includes 2 copies, 1 for the right side and 1 for the left side Apply with water and remove anytime with ba… </td><td>0.0</td><td>Livitrevisani</td><td>Finger Tattoo Designs,Small Tattoo Designs,Finger Tattoos,Small 3d Tattoos,Cool Tattoos,Line Work Tattoo,Back Tattoo,Collarbone Tattoo,Tattoo Neck</td><td>image</td><td>https://i.pinimg.com/originals/d8/b7/a1/d8b7a11a3fe64e7fab91d3afb1536537.jpg</td><td>Local save in /data/tattoos</td><td>tattoos</td></tr><tr><td>4137</td><td>bf275054-4464-448b-9143-1bf101aa366d</td><td>15 Essential Classroom Items For First Year Teachers / First Year Teacher Must Haves</td><td>15 Essential Classroom Items For First Year Teachers / First Year Teacher Must Haves</td><td>5000.0</td><td>Write Your Story | Budgeting, Healthy Lifestyle, Faith</td><td>1st Year Teachers,First Year Teaching,First Grade Teachers,Elementary Teacher,Montessori Elementary,Teaching Reading,History Teachers,High School Classroom,First Grade Classroom</td><td>image</td><td>https://i.pinimg.com/originals/4b/b9/a8/4bb9a85f609a8384ed9c9ab14e7bcea0.jpg</td><td>Local save in /data/education</td><td>education</td></tr><tr><td>6566</td><td>6d8848f8-f515-4935-8dae-5dd02304d76e</td><td>Navy and Neutral Fall Living Room + Kitchen Tour - Sand and Sisal</td><td>Celebrate fall with a neutral color palette with natural elements. This Navy and Neutral Fall Living Room + Kitchen Tour will make you rethink fall decor.</td><td>178000.0</td><td>Sand and Sisal</td><td>Fall Living Room,Coastal Living Rooms,Living Room Paint,Living Room Kitchen,Living Room Interior,Living Room Furniture,Living Room Decor,Living Area,Small Living</td><td>image</td><td>https://i.pinimg.com/originals/f1/be/b6/f1beb6d3414f1c52929df39a83d8da9f.jpg</td><td>Local save in /data/home-decor</td><td>home-decor</td></tr><tr><td>2411</td><td>4e11801e-7a64-4f1e-90dd-e900677595c5</td><td>The Sweetest Gingerbread House Ornaments Kids Can Make</td><td>Transform mini terra cotta pots into the sweetest gingerbread house ornaments! Kids will love making this adorable Christmas craft to hang on the tree.</td><td>20000.0</td><td>Projects with Kids</td><td>Noel Christmas,Diy Christmas Ornaments,Homemade Christmas,Simple Christmas,Gingerbread Ornaments,Christmas Gingerbread,Gingerbread Houses,Preschool Christmas,Ornaments Ideas</td><td>image</td><td>https://i.pinimg.com/originals/13/28/09/1328097d7c290d1bf8642b01a6ba1c6c.jpg</td><td>Local save in /data/christmas</td><td>christmas</td></tr><tr><td>7166</td><td>4a844b03-e161-47a1-904b-591eb5dc4fb1</td><td>The Killers - Mr. Brightside - Women's T-Shirt - Heather Dark Grey / S</td><td>Women's T-shirt. Design inspired by the rock band The Killers' hit \"Mr. Brightside\". One of the greatest song from the album Hot Fuss released in 2004. Soft and light, 100% cott… </td><td>27.0</td><td>Mala Rock | Rock T-shirts</td><td>Mr Brightside,Rock T Shirts,Greatest Songs,Timeless Classic,Rock Bands,Album,T Shirts For Women,Inspired,Hot</td><td>image</td><td>https://i.pinimg.com/originals/8c/42/39/8c42391d35fcad51a4a79f7cd81bf26d.jpg</td><td>Local save in /data/mens-fashion</td><td>mens-fashion</td></tr><tr><td>8930</td><td>a2999c28-f7b2-4577-af87-49d21d6d8a18</td><td>135 Sunflower Tattoo Ideas - [Best Rated Designs in 2021]</td><td>We have put together the Ultimative Sunflower Tattoo Collection in 2020. Check out our highest rated handpicked Sunflower designs here!</td><td>800000.0</td><td>Next Luxury</td><td>Sunflower Tattoo Sleeve,Sunflower Tattoo Shoulder,Sunflower Tattoo Small,Sunflower Tattoos,Sunflower Tattoo Design,Shoulder Tattoo,Sunflower Mandala Tattoo,Sunflower Tattoo Meaning,Form Tattoo</td><td>image</td><td>https://i.pinimg.com/originals/18/de/6c/18de6c81a8637e224c7d63dce1414ceb.jpg</td><td>Local save in /data/tattoos</td><td>tattoos</td></tr><tr><td>9672</td><td>1a5050a4-ac82-472c-aeff-3457de8bbee9</td><td>Lake Moraine, Banff, Canada</td><td>On our Calgary to Vancouver road trip we got to spend time in Banff, Canada. We visited the stunning Lake Moraine as well as Lake Louise and plenty of other of Canada's natural… </td><td>7000.0</td><td>Travel Mad Mum</td><td>Beautiful Places To Travel,Cool Places To Visit,Beautiful Roads,Beautiful Scenery,Wonderful Places,Lac Moraine,Moraine Lake,Lac Louise,Natur Wallpaper</td><td>video</td><td>https://i.pinimg.com/videos/thumbnails/originals/57/9d/52/579d52242ae5609978c754d393e44e81.0000001.jpg</td><td>Local save in /data/travel</td><td>travel</td></tr><tr><td>3729</td><td>ac90f1d2-dc9e-438c-b073-dd48511b80b0</td><td>5 + Nature Games for Your Homeschool</td><td>Our family would rather spend time outdoors than indoors. We love nature! That said, sometimes mother nature is uncooperative. On these days, it can be fun to pull out some natu… </td><td>9000.0</td><td>My Little Poppies (Cait Curley, MA/CAGS)</td><td>Diy Nature,Theme Nature,Nature Study,Science And Nature,Summer Science,Earth Science,Nature Crafts,Outdoor Education,Outdoor Learning</td><td>image</td><td>https://i.pinimg.com/originals/d6/3b/1a/d63b1a2a36534ecac5d1fbd0d932403a.jpg</td><td>Local save in /data/education</td><td>education</td></tr><tr><td>7294</td><td>9d8409ef-bea7-4133-a021-c58b9c042210</td><td>Foolproof Fall Fashion For Men You'll Love</td><td>Looking for the coolest fall fashion for men this season? Click to read this article on fall fashion for men to look sharp on LLEGANCE.</td><td>28000.0</td><td>LLEGANCE | Workwear Fashion Woman Advice For Driven Professionals</td><td>Fashion 90s,Autumn Fashion,Fashion Ideas,Trendy Fashion,Fashion Photo,Fashion Outfits,Fashion Trends,Urban Fashion Men,Men's Casual Fashion</td><td>image</td><td>https://i.pinimg.com/originals/4c/bf/2d/4cbf2d6e04d2502612169220553f4cef.jpg</td><td>Local save in /data/mens-fashion</td><td>mens-fashion</td></tr><tr><td>2015</td><td>72359164-4419-452c-81cb-74f30a5a26b7</td><td>16 Blissful Christmas Table Decor Ideas That You Must See</td><td>Take a look at this new collection of Christmas decor featuring 16 Blissful Christmas Table Decor Ideas That You Must See. Happy holidays!</td><td>616000.0</td><td>ArchitectureArtDesigns</td><td>Kids Crafts,Christmas Crafts For Kids,Homemade Christmas,Christmas Projects,Holiday Crafts,Christmas Gift Ideas,Preschool Christmas,Tree Crafts,Christmas Inspiration</td><td>image</td><td>https://i.pinimg.com/originals/5f/70/30/5f7030a35bb8a1491e915fb0ae29bcf5.jpg</td><td>Local save in /data/christmas</td><td>christmas</td></tr><tr><td>4913</td><td>4d2d79c6-9ca8-46c9-a38e-931c5d967804</td><td>How to Work From Home as an Event Planner</td><td>Do you love planning parties? Do you want to work-at-home? This post covers everything you need to know about becoming a home-based event planner!</td><td>110000.0</td><td>The Work at Home Woman</td><td>Event Planning Tips,Event Planning Business,Party Planning,Business Ideas,Craft Business,Business Chic,Business Inspiration,Business Goals,Business Opportunities</td><td>image</td><td>https://i.pinimg.com/originals/4d/a3/a4/4da3a4730418239f1b43ce81fb032c15.jpg</td><td>Local save in /data/event-planning</td><td>event-planning</td></tr><tr><td>2959</td><td>439cac4b-18e8-4aaa-88c5-edb26a701111</td><td>The Cutest Toilet Paper Crafts</td><td>One thing I love about Crafts is how the evolve! These toilet paper rolls are adorable and modern. I love that something as simple as a recycled toilet paper roll can be taken t… </td><td>502000.0</td><td>CraftGossip.com</td><td>Toilet Paper Roll Crafts,Cardboard Crafts,Diy Paper,Paper Crafting,Toilet Paper Rolls,Cardboard Playhouse,Paper Art,Kids Crafts,Toddler Crafts</td><td>image</td><td>https://i.pinimg.com/originals/c6/cd/0d/c6cd0d04da9cfc11566cfd34eeb1f918.jpg</td><td>Local save in /data/diy-and-crafts</td><td>diy-and-crafts</td></tr><tr><td>2959</td><td>439cac4b-18e8-4aaa-88c5-edb26a701111</td><td>The Cutest Toilet Paper Crafts</td><td>One thing I love about Crafts is how the evolve! These toilet paper rolls are adorable and modern. I love that something as simple as a recycled toilet paper roll can be taken t… </td><td>502000.0</td><td>CraftGossip.com</td><td>Toilet Paper Roll Crafts,Cardboard Crafts,Diy Paper,Paper Crafting,Toilet Paper Rolls,Cardboard Playhouse,Paper Art,Kids Crafts,Toddler Crafts</td><td>image</td><td>https://i.pinimg.com/originals/c6/cd/0d/c6cd0d04da9cfc11566cfd34eeb1f918.jpg</td><td>Local save in /data/diy-and-crafts</td><td>diy-and-crafts</td></tr><tr><td>9875</td><td>782dcbad-ff91-40a6-ba60-216efe29adb7</td><td>European Bucket List: 35 Things NOT To Miss When Traveling Europe</td><td>35 European bucket list destinations for any traveler heading to Europe. From Cinque Terre, Italy to Iceland - there are so many amazing sites to see in Europe.</td><td>28000.0</td><td>Nicki </td><td>Backpacking Europe,Europe Travel Guide,Travel Guides,Travel Packing,Traveling Europe,Travelling,Travel Backpack,Budget Travel,2 Week Europe Itinerary</td><td>image</td><td>https://i.pinimg.com/originals/71/04/1a/71041ad83ede43d9665741e719c58a86.jpg</td><td>Local save in /data/travel</td><td>travel</td></tr><tr><td>428</td><td>610b3f83-9fe0-469d-946c-d16b577fca71</td><td>Fashion Designer Isaac Mizrahi’s Updated 1930s New York City Apartment</td><td>Fashion designer Issac Mizrahi’s Greenwich Village home is an amalgamation of three apartments that was 20 years in the making</td><td>null</td><td>Architectural Digest</td><td>Modern Art,Contemporary Art,Contemporary Kitchens,Contemporary Bedroom,New York City Apartment,Manhattan Apartment,Art Moderne,Architectural Digest,Painting Inspiration</td><td>image</td><td>https://i.pinimg.com/originals/f4/6c/54/f46c546a2e480022a42d842b7dca157e.jpg</td><td>Local save in /data/art</td><td>art</td></tr><tr><td>9875</td><td>782dcbad-ff91-40a6-ba60-216efe29adb7</td><td>European Bucket List: 35 Things NOT To Miss When Traveling Europe</td><td>35 European bucket list destinations for any traveler heading to Europe. From Cinque Terre, Italy to Iceland - there are so many amazing sites to see in Europe.</td><td>28000.0</td><td>Nicki </td><td>Backpacking Europe,Europe Travel Guide,Travel Guides,Travel Packing,Traveling Europe,Travelling,Travel Backpack,Budget Travel,2 Week Europe Itinerary</td><td>image</td><td>https://i.pinimg.com/originals/71/04/1a/71041ad83ede43d9665741e719c58a86.jpg</td><td>Local save in /data/travel</td><td>travel</td></tr><tr><td>428</td><td>610b3f83-9fe0-469d-946c-d16b577fca71</td><td>Fashion Designer Isaac Mizrahi’s Updated 1930s New York City Apartment</td><td>Fashion designer Issac Mizrahi’s Greenwich Village home is an amalgamation of three apartments that was 20 years in the making</td><td>null</td><td>Architectural Digest</td><td>Modern Art,Contemporary Art,Contemporary Kitchens,Contemporary Bedroom,New York City Apartment,Manhattan Apartment,Art Moderne,Architectural Digest,Painting Inspiration</td><td>image</td><td>https://i.pinimg.com/originals/f4/6c/54/f46c546a2e480022a42d842b7dca157e.jpg</td><td>Local save in /data/art</td><td>art</td></tr><tr><td>1371</td><td>33e92ac1-73d1-4c31-9892-d5e633060790</td><td>How To Do Makeup - Step By Step Tips For The Perfect Look</td><td>What are the basic things you need for makeup? Let’s be honest, ladies; all women can do makeup, yet not all women know how to do makeup right. The good news is, this post can t… </td><td>799000.0</td><td>Glaminati</td><td>Contouring Makeup,Skin Makeup,Beauty Makeup,Makeup Brushes,Eyeliner Makeup,Makeup Tips Lips,Makeup 101,Cheap Makeup,Rosa Eyeliner</td><td>image</td><td>https://i.pinimg.com/originals/2c/1a/d4/2c1ad45b5c54034a2dbc73c84a89f5e4.jpg</td><td>Local save in /data/beauty</td><td>beauty</td></tr><tr><td>3800</td><td>d2c367ed-9287-4ea3-b173-198b292d9981</td><td>Reinforcing the Difficult Child When Token Boards Don't Work!</td><td>behavior, special education, token boards, when token boards don't work, money token systems</td><td>11000.0</td><td>Traci Bender - The Bender Bunch</td><td>Special Education Behavior,Classroom Behavior Management,Behavior Plans,Behaviour Management,Behavior Charts,Behavior Board,Behavior Report,Behavior Analyst,Preschool Special Education</td><td>image</td><td>https://i.pinimg.com/originals/24/f9/e2/24f9e22ada4a79c61432ef6c8fe1d0f9.jpg</td><td>Local save in /data/education</td><td>education</td></tr><tr><td>3454</td><td>46bd3f86-b09d-4e29-9033-7ff2df595e51</td><td>What can you use to color resin?</td><td>HELPFUL RESOURCES – Check out my resin colorants resources page here with links to all the products mentioned in this article (and more). Let me know if you have any that you lo… </td><td>6000.0</td><td>Mixed Media Crafts</td><td>Epoxy Resin Art,Diy Resin Art,Diy Resin Crafts,Resin Molds,Ice Resin,Resin Pour,Diy Epoxy,Diy Resin Painting,Diy Resin Dice</td><td>image</td><td>https://i.pinimg.com/originals/d4/12/78/d4127833023ca32600571ddca16f1556.jpg</td><td>Local save in /data/diy-and-crafts</td><td>diy-and-crafts</td></tr><tr><td>3454</td><td>46bd3f86-b09d-4e29-9033-7ff2df595e51</td><td>What can you use to color resin?</td><td>HELPFUL RESOURCES – Check out my resin colorants resources page here with links to all the products mentioned in this article (and more). Let me know if you have any that you lo… </td><td>6000.0</td><td>Mixed Media Crafts</td><td>Epoxy Resin Art,Diy Resin Art,Diy Resin Crafts,Resin Molds,Ice Resin,Resin Pour,Diy Epoxy,Diy Resin Painting,Diy Resin Dice</td><td>image</td><td>https://i.pinimg.com/originals/d4/12/78/d4127833023ca32600571ddca16f1556.jpg</td><td>Local save in /data/diy-and-crafts</td><td>diy-and-crafts</td></tr><tr><td>6398</td><td>ea44d318-2ced-4cf8-a66f-a6a036b84faa</td><td>My master bathroom makeover with @flooranddecor ! Follow me on Instagram @Mojisstyle for more</td><td>null</td><td>117000.0</td><td>MojisStyle</td><td>Decor Home Living Room,Home And Living,Diy Bedroom Decor,Home Decor,Bathroom Interior Design,Interior Design Living Room,Dream Home Design,House Design,Beautiful Bathrooms</td><td>multi-video(story page format)</td><td>https://i.pinimg.com/videos/thumbnails/originals/75/48/3b/75483b74822855519ec8b40df4c670ef.0000001.jpg</td><td>Local save in /data/home-decor</td><td>home-decor</td></tr><tr><td>5730</td><td>1e1f0c8b-9fcf-460b-9154-c775827206eb</td><td>Island Oasis Coupon Organizer</td><td>Description Coupon Organizer in a fun colorful fabric -island oasis, Great Size for the \"basic\" couponer - holds up to 500 coupons with ease, and is made long enough so that you… </td><td>0.0</td><td>Consuelo Aguirre</td><td>Grocery Items,Grocery Coupons,Care Organization,Coupon Organization,Extreme Couponing,Couponing 101,Life Binder,Save My Money,Love Coupons</td><td>image</td><td>https://i.pinimg.com/originals/65/bb/ea/65bbeaf458907bb079317d8303c4fa0e.jpg</td><td>Local save in /data/finance</td><td>finance</td></tr><tr><td>5730</td><td>1e1f0c8b-9fcf-460b-9154-c775827206eb</td><td>Island Oasis Coupon Organizer</td><td>Description Coupon Organizer in a fun colorful fabric -island oasis, Great Size for the \"basic\" couponer - holds up to 500 coupons with ease, and is made long enough so that you… </td><td>0.0</td><td>Consuelo Aguirre</td><td>Grocery Items,Grocery Coupons,Care Organization,Coupon Organization,Extreme Couponing,Couponing 101,Life Binder,Save My Money,Love Coupons</td><td>image</td><td>https://i.pinimg.com/originals/65/bb/ea/65bbeaf458907bb079317d8303c4fa0e.jpg</td><td>Local save in /data/finance</td><td>finance</td></tr><tr><td>5730</td><td>1e1f0c8b-9fcf-460b-9154-c775827206eb</td><td>Island Oasis Coupon Organizer</td><td>Description Coupon Organizer in a fun colorful fabric -island oasis, Great Size for the \"basic\" couponer - holds up to 500 coupons with ease, and is made long enough so that you… </td><td>0.0</td><td>Consuelo Aguirre</td><td>Grocery Items,Grocery Coupons,Care Organization,Coupon Organization,Extreme Couponing,Couponing 101,Life Binder,Save My Money,Love Coupons</td><td>image</td><td>https://i.pinimg.com/originals/65/bb/ea/65bbeaf458907bb079317d8303c4fa0e.jpg</td><td>Local save in /data/finance</td><td>finance</td></tr><tr><td>10552</td><td>17301b8c-ccbb-42ad-b2df-3876df35b1cd</td><td>The Prowler Emergency Response Vehicle</td><td>January 23, 2009 We can see emergency responders queueing up for this one. ATVCorp has created versions of its Prowler Light Tactical All Terrain Vehicle (LTATV) for fire-fighti… </td><td>314.0</td><td>p hump</td><td>Army Vehicles,Armored Vehicles,Go Kart Buggy,Atv Attachments,Aviation Fuel,Special Forces,Special Ops,Terrain Vehicle,Emergency Response</td><td>image</td><td>https://i.pinimg.com/originals/14/6b/6b/146b6b1a1127773f7046e08550e68ed0.jpg</td><td>Local save in /data/vehicles</td><td>vehicles</td></tr><tr><td>603</td><td>78e21a64-53b0-4745-8294-e8c456f0ccc1</td><td>How to Create Alcohol Ink Rings For Gorgeous Pieces of Art -</td><td>Learn to create alcohol ink rings for gorgeous pieces of art. Each ring sits on top of another, giving a multilayered appearance</td><td>7000.0</td><td>Kim Cook-Thirteen Chairs-Slates Mugs And Tees</td><td>Alcohol Ink Tiles,Alcohol Ink Glass,Alcohol Ink Crafts,Alcohol Ink Painting,Pour Painting,Zealand Tattoo,Copics,Types Of Art,Art Techniques</td><td>image</td><td>https://i.pinimg.com/originals/03/03/1f/03031fdc9775d0c06f61d68e51362379.png</td><td>Local save in /data/art</td><td>art</td></tr><tr><td>719</td><td>d7c53e34-9540-4f48-a31b-89b6ed1852bb</td><td>10 Art Sub Lessons that only need a Pencil</td><td>10 art sub lessons that only need a pencil. Cover lessons for art teachers. Make the perfect art sub lessson folder with this amazing resources.</td><td>25000.0</td><td>The Arty Teacher</td><td>Art Lessons For Kids,Art Lessons Elementary,Art For Kids,Art Sub Plans,Art Lesson Plans,Art Substitute Plans,High School Art,Middle School Art,Primary School Art</td><td>image</td><td>https://i.pinimg.com/originals/ee/a8/78/eea878911033897d981a69d9f6b2fb7c.png</td><td>Local save in /data/art</td><td>art</td></tr><tr><td>2074</td><td>86ed09a7-842d-496d-9501-010c654eb340</td><td>35 Christmas Decorating Ideas We Bet You Haven't Thought Of</td><td>20 Christmas Decorating Ideas We Bet You Haven't Thought Of via @PureWow</td><td>868000.0</td><td>PureWow</td><td>Holiday Centerpieces,Xmas Decorations,Centerpiece Ideas,Table Centerpieces,Valentine Decorations,Wedding Centerpieces,Outdoor Decorations,Christmas Centerpieces With Candles,Christmas Dining Table Decorations</td><td>image</td><td>https://i.pinimg.com/originals/e9/b9/f0/e9b9f01cc3b2cf41948b45854335396c.jpg</td><td>Local save in /data/christmas</td><td>christmas</td></tr><tr><td>2074</td><td>86ed09a7-842d-496d-9501-010c654eb340</td><td>35 Christmas Decorating Ideas We Bet You Haven't Thought Of</td><td>20 Christmas Decorating Ideas We Bet You Haven't Thought Of via @PureWow</td><td>868000.0</td><td>PureWow</td><td>Holiday Centerpieces,Xmas Decorations,Centerpiece Ideas,Table Centerpieces,Valentine Decorations,Wedding Centerpieces,Outdoor Decorations,Christmas Centerpieces With Candles,Christmas Dining Table Decorations</td><td>image</td><td>https://i.pinimg.com/originals/e9/b9/f0/e9b9f01cc3b2cf41948b45854335396c.jpg</td><td>Local save in /data/christmas</td><td>christmas</td></tr><tr><td>831</td><td>5e65914d-9f58-4ff1-9676-658e426e8ce5</td><td>creating mixed-media faces tutorial</td><td>Free quick inspirational video on creating a mixed media face with acrylic, collage, stenciling and simple techniques. Come on over to watch</td><td>27000.0</td><td>Shawn Petite</td><td>Collage Kunst,Paper Collage Art,Collage Art Mixed Media,Mixed Media Painting,Mixed Media Canvas,Canvas Collage,Art Collages,Wall Canvas,Canvas Art</td><td>video</td><td>https://i.pinimg.com/videos/thumbnails/originals/05/86/a4/0586a4116e1fc34efc25e064ccd123e8.0000001.jpg</td><td>Local save in /data/art</td><td>art</td></tr><tr><td>1545</td><td>0c629541-cc5b-4b61-bd3f-613346893258</td><td>Oil Cleansing Method: What it is and why you should do it.</td><td>The oil cleansing method is a simple, natural way to have clean skin without using toxic chemicals. It will leave your face radiant and soft!</td><td>85000.0</td><td>Thank Your Body</td><td>Beauty Care,Diy Beauty,Beauty Hacks,Beauty Shop,Oil Cleansing Method,Goji,Korean Skincare Routine,Homemade Beauty Products,Organic Beauty</td><td>image</td><td>https://i.pinimg.com/originals/2c/1c/da/2c1cda7da86ee711536bbacfe89c75c9.jpg</td><td>Local save in /data/beauty</td><td>beauty</td></tr><tr><td>205</td><td>f4afd543-b9fe-44c3-8064-f2198faa1372</td><td>DIY Abstract Heart Painting and a Fun Paint Party</td><td>Use our easy step by step tutorial to create a DIY abstract heart painting on any canvas size. Lots of inspiration to help you choose colors.</td><td>410000.0</td><td>The Creativity Exchange</td><td>Painting & Drawing,Watercolor Paintings,Original Paintings,Owl Watercolor,Acrylic Paintings,Owl Art,Bird Art,Beginner Painting,Animal Paintings</td><td>image</td><td>https://i.pinimg.com/originals/33/85/f8/3385f82ee5e8ecdcccdf798bdcbee3d2.jpg</td><td>Local save in /data/art</td><td>art</td></tr><tr><td>808</td><td>23f67e42-db9f-4aae-8b82-cbec64ad9f4d</td><td>Chalk Pastel Hot Chocolate Art Project</td><td>Kids will use chalk pastels and black paper to create this bold and bright hot chocolate art project! Easy to follow tutorial included.</td><td>20000.0</td><td>Projects with Kids</td><td>Hot Chocolate Art,Chocolate Crafts,Art Activities For Kids,Preschool Art,Preschool Winter,Christmas Activities,Winter Art Projects,Clay Art Projects,Chalk Pastel Art</td><td>image</td><td>https://i.pinimg.com/originals/5a/d3/82/5ad38202cf8acb022cb8f46ce2a78ad6.jpg</td><td>Local save in /data/art</td><td>art</td></tr><tr><td>1555</td><td>1f20551b-a21c-4ff0-b20d-49e95fdc50d3</td><td>Skin Purging: Die Pflegemethode für reine Haut | ELLE</td><td>Skin Purging sorgt für die reinste Haut, die du jemals hattest #skin äpurging #skinpurging #skincare #hautpflege #schönehaut #haut #beauty #tips</td><td>326000.0</td><td>ELLE Germany</td><td>Natural Hair Mask,Natural Hair Styles,Natural Beauty,Skin Tag,How To Apply Makeup,Pimples,Beauty Routines,Skincare Routine,Glowing Skin</td><td>image</td><td>https://i.pinimg.com/originals/93/b2/7b/93b27be044b2fd2f227f30a7f2c2faf2.jpg</td><td>Local save in /data/beauty</td><td>beauty</td></tr><tr><td>5468</td><td>91ee49f6-0070-4270-ba19-fde88ba51c91</td><td>Budgets, Spouses & Making It Work! - Tshanina Peterson</td><td>Don't fight about budgets and money with your spouse! Here are a few tips that we've found that make it work in our marriage!</td><td>313.0</td><td>Annamarie Hilton</td><td>Ways To Save Money,Money Tips,Money Saving Tips,How To Make Money,Managing Money,Saving Time,College Fund,Scholarships For College,Education College</td><td>image</td><td>https://i.pinimg.com/originals/37/d5/82/37d58296bcef3471a633c76b89d8625e.jpg</td><td>Local save in /data/finance</td><td>finance</td></tr><tr><td>7790</td><td>9cd89fb9-d1af-4e66-85ca-c9d656c918b4</td><td>50 Heart Touching Sad Quotes That Will Make You Cry</td><td>Are you looking for some heart touching sad quotes and sayings; Here we have collected for you 50 best heart touching sad quotes..</td><td>112.0</td><td>AnnaLee Kick</td><td>Crush Quotes For Girls,Sad Crush Quotes,Hurt Quotes,Love Me Quotes,Mood Quotes,Quotes To Live By,Life Quotes,Quotes Quotes,Sad Quotes That Make You Cry</td><td>image</td><td>https://i.pinimg.com/originals/0c/0f/40/0c0f408d96458080e0c82adb50be8e8f.jpg</td><td>Local save in /data/quotes</td><td>quotes</td></tr><tr><td>1422</td><td>7bbe860c-a739-4ba9-babd-feb24bb6e4d9</td><td>41 Life-Saving Beauty Hacks Every Girl Should Have In Her Arsenal</td><td>Might try this... I'm generally skeptical about at-home remedies, but I know baking soda and lemons both do wonders. More</td><td>null</td><td>BuzzFeed</td><td>Baking Soda Lemon Juice,Diy Beauté,Tips Belleza,Belleza Natural,Health And Beauty Tips,Beauty Secrets,Beauty Advice,Diy Beauty Tips,Beauty Life Hacks</td><td>image</td><td>https://i.pinimg.com/originals/c8/ab/af/c8abaffc56050f674eef8e65ad684929.jpg</td><td>Local save in /data/beauty</td><td>beauty</td></tr><tr><td>10663</td><td>d5208c16-82ae-4fd1-87f0-36e5ef789412</td><td>21+ Classic Car Picture of the 1950s - Vintagetopia</td><td>There are a lot of options of places to stay so you probably only have to book the initial one so you know the best place to land from the airport</td><td>171000.0</td><td>vintagetopia</td><td>Old Classic Cars,Classic Trucks,Old Vintage Cars,Antique Cars,Vintage Trucks,Antique Trucks,Cadillac,Convertible,Mustang</td><td>image</td><td>https://i.pinimg.com/originals/e9/01/4d/e9014d537dd2b81c606e8466cef3904c.jpg</td><td>Local save in /data/vehicles</td><td>vehicles</td></tr><tr><td>2863</td><td>9bf39437-42a6-4f02-99a0-9a0383d8cd70</td><td>25 Super Fun Summer Crafts for Kids - Of Life and Lisa</td><td>Keep the kids busy this summer with these easy diy crafts and projects. Creative and…</td><td>124000.0</td><td>Of Life & Lisa | Lifestyle Blog</td><td>Summer Crafts For Kids,Fun Crafts For Kids,Summer Kids,Toddler Crafts,Crafts To Do,Diy For Kids,Summer Snow,Diys For Summer,Craft Ideas For Girls</td><td>image</td><td>https://i.pinimg.com/originals/b3/bc/e2/b3bce2964e8c8975387b39660eed5f16.jpg</td><td>Local save in /data/diy-and-crafts</td><td>diy-and-crafts</td></tr><tr><td>2863</td><td>9bf39437-42a6-4f02-99a0-9a0383d8cd70</td><td>25 Super Fun Summer Crafts for Kids - Of Life and Lisa</td><td>Keep the kids busy this summer with these easy diy crafts and projects. Creative and…</td><td>124000.0</td><td>Of Life & Lisa | Lifestyle Blog</td><td>Summer Crafts For Kids,Fun Crafts For Kids,Summer Kids,Toddler Crafts,Crafts To Do,Diy For Kids,Summer Snow,Diys For Summer,Craft Ideas For Girls</td><td>image</td><td>https://i.pinimg.com/originals/b3/bc/e2/b3bce2964e8c8975387b39660eed5f16.jpg</td><td>Local save in /data/diy-and-crafts</td><td>diy-and-crafts</td></tr><tr><td>2863</td><td>9bf39437-42a6-4f02-99a0-9a0383d8cd70</td><td>25 Super Fun Summer Crafts for Kids - Of Life and Lisa</td><td>Keep the kids busy this summer with these easy diy crafts and projects. Creative and…</td><td>124000.0</td><td>Of Life & Lisa | Lifestyle Blog</td><td>Summer Crafts For Kids,Fun Crafts For Kids,Summer Kids,Toddler Crafts,Crafts To Do,Diy For Kids,Summer Snow,Diys For Summer,Craft Ideas For Girls</td><td>image</td><td>https://i.pinimg.com/originals/b3/bc/e2/b3bce2964e8c8975387b39660eed5f16.jpg</td><td>Local save in /data/diy-and-crafts</td><td>diy-and-crafts</td></tr><tr><td>8653</td><td>24b1343c-4d86-4705-8ec9-7f1f2df2d77e</td><td>Unique Women Tattoos Ideas 2020</td><td>We welcome you to our latest collection of Beautiful Tattoo Ideas For Women. Check out and get inspired by the most beautiful design for yourself.</td><td>21000.0</td><td>ALL FOR WOMAN</td><td>Small Back Tattoos,Small Girl Tattoos,Little Tattoos,Tattoo Girls,Mini Tattoos,Tattoo Small,Back Tattoo Women,Tattoo On Back,Girl Back Tattoos</td><td>image</td><td>https://i.pinimg.com/originals/fa/cf/7c/facf7cd752a4bc7c09faaa8925ab80b1.jpg</td><td>Local save in /data/tattoos</td><td>tattoos</td></tr><tr><td>2923</td><td>52fa3af5-24a4-4ccb-8f17-9c3eb12327ee</td><td>UFO Paper Plate Craft</td><td>A fun space activity for kids. Preshoolers and kindergartners will love making their own alien spacecraft!</td><td>192000.0</td><td>The Crafting Chicks</td><td>Paper Plate Crafts For Kids,Fun Crafts For Kids,Summer Crafts,Toddler Crafts,Art For Kids,Outer Space Crafts For Kids,Kid Crafts,Space Kids,Back To School Crafts For Kids</td><td>image</td><td>https://i.pinimg.com/originals/6f/e8/aa/6fe8aa405513c6d2f77b5f47d17cdce8.jpg</td><td>Local save in /data/diy-and-crafts</td><td>diy-and-crafts</td></tr><tr><td>2923</td><td>52fa3af5-24a4-4ccb-8f17-9c3eb12327ee</td><td>UFO Paper Plate Craft</td><td>A fun space activity for kids. Preshoolers and kindergartners will love making their own alien spacecraft!</td><td>192000.0</td><td>The Crafting Chicks</td><td>Paper Plate Crafts For Kids,Fun Crafts For Kids,Summer Crafts,Toddler Crafts,Art For Kids,Outer Space Crafts For Kids,Kid Crafts,Space Kids,Back To School Crafts For Kids</td><td>image</td><td>https://i.pinimg.com/originals/6f/e8/aa/6fe8aa405513c6d2f77b5f47d17cdce8.jpg</td><td>Local save in /data/diy-and-crafts</td><td>diy-and-crafts</td></tr><tr><td>9936</td><td>1f3154a6-13f0-4049-8d5c-faea15b9f07c</td><td>Chasing Waterfalls in Costa Rica</td><td>Volcanoes, hikes, and hot springs in Costa Rica! The ultimate 5 day travel itinerary. - #costarica #travel #blogging #blog #bucketlist</td><td>22000.0</td><td>Jess Wandering</td><td>Costa Rica Reisen,Costa Rica Travel,Vacation Places,Dream Vacations,Vacation Spots,Vacation Food,Vacation Ideas,Voyage Dubai,Beautiful Places To Travel</td><td>image</td><td>https://i.pinimg.com/originals/60/fe/4c/60fe4c3602e8e50e2e9f787ed27d2aba.jpg</td><td>Local save in /data/travel</td><td>travel</td></tr><tr><td>7768</td><td>ae1a61f6-d958-40fe-ba93-6a78b3a73178</td><td>16 Motivational Quotes Get You Inspired Today - Boss Babe Chronicles</td><td>motivation quotes</td><td>45000.0</td><td>Boss Babe Chronicles | Personal Development, Finances, Self Care</td><td>Motivacional Quotes,Motivational Quotes For Life,Uplifting Quotes,True Quotes,Words Quotes,Empowering Quotes,Boss Up Quotes,Inspirational Success Quotes,Boss Babe Quotes Work Hard</td><td>image</td><td>https://i.pinimg.com/originals/ee/b4/bc/eeb4bccdb074edb787ea61711e0c4dfd.jpg</td><td>Local save in /data/quotes</td><td>quotes</td></tr><tr><td>1268</td><td>e2f2cec5-cda5-42b2-ab9d-6dddf863e94e</td><td>Janet on Twitter</td><td>Here’s how to get long-lasting makeup, so you can do your face in the morning and be set for the entire day. Follow these makeup tips for foundation, lipstick and more using pro… </td><td>3000.0</td><td>Tony</td><td>Beauty Makeup,Eye Makeup,Diy Beauty,Beauty Ideas,Beauty Skin,Homemade Beauty,Wolf Makeup,Oily Skin Makeup,Face Beauty</td><td>image</td><td>https://i.pinimg.com/originals/d9/d1/3b/d9d13b9ac47d54940f05a75345a873d4.jpg</td><td>Local save in /data/beauty</td><td>beauty</td></tr><tr><td>46</td><td>19234073-8905-4885-b0d5-98e0b84cbf27</td><td>10 Watercolor Hacks For Beginners | Tips and Tricks to Making Watercolor Painting Easier</td><td>Mountain monologue watercolor</td><td>27000.0</td><td>It's me, JD | DIY, Crafts, Home & Organization</td><td>Arte Inspo,Kunst Inspo,Watercolor Artists,Watercolor Ideas,Simple Watercolor,Tattoo Watercolor,Watercolor Techniques,Watercolor Animals,Watercolor Illustration</td><td>image</td><td>https://i.pinimg.com/originals/fd/54/89/fd548935dcb13545120a2115baaa41d9.jpg</td><td>Local save in /data/art</td><td>art</td></tr><tr><td>5309</td><td>c38bb47b-9584-4fc4-af0d-a31e1061df41</td><td>How to Watch Your Favorite Shows Without Cable</td><td>How to Get Rid of Cable and Still Watch all of your favorite shows! Saving Money Tips for TV & Cable!</td><td>330000.0</td><td>Passion For Savings</td><td>Ways To Save Money,Money Tips,Money Saving Tips,Money Hacks,Managing Money,Cable Tv Alternatives,Budget Planer,Financial Tips,Financial Planning</td><td>image</td><td>https://i.pinimg.com/originals/c9/18/be/c918be2784382dc49010719bf1742a61.jpg</td><td>Local save in /data/finance</td><td>finance</td></tr><tr><td>9546</td><td>efd5b2d6-2f69-40cd-bb59-41f18c089e52</td><td>20 Amazing Trips to Take in Your Twenties!</td><td>The best trips to take when you are young!</td><td>89000.0</td><td>The World Pursuit Travel Website</td><td>Fun Places To Go,Beautiful Places To Travel,Best Places To Travel,Travel Jobs,Holiday Places,Future Travel,Travel Around The World,Adventure Travel,Travel Photos</td><td>video</td><td>https://i.pinimg.com/videos/thumbnails/originals/81/97/c1/8197c1beef8bcb19bea5d8b422211f34.0000001.jpg</td><td>Local save in /data/travel</td><td>travel</td></tr><tr><td>5630</td><td>d41e703c-c97c-4c5a-9f9c-338982ca7504</td><td>7 Insanely Useful Money Management Worksheets</td><td>Get your personal finance in order with these 8 fr…</td><td>46000.0</td><td>R.J. Weiss at The Ways To Wealth | Personal Finance | Debt Payoff</td><td>Ways To Save Money,Money Tips,Money Saving Tips,Money Budget,Saving Ideas,Budgeting Finances,Budgeting Tips,Planning Budget,Budget Planer</td><td>image</td><td>https://i.pinimg.com/originals/f1/4f/cc/f14fcc75ee73ff22c983bdce70c022e2.jpg</td><td>Local save in /data/finance</td><td>finance</td></tr><tr><td>8731</td><td>ea760f71-febf-4023-b592-d17396659039</td><td>20 Koi Fish Tattoos For Lucky Men</td><td>Koi fish tattoos are a popular choice for men who want to make a statement, thanks to their rich symbolism and bold design.</td><td>211000.0</td><td>TheTrendSpotter</td><td>Dr Tattoo,Wörter Tattoos,Pisces Tattoos,Tatoo Art,Dream Tattoos,Dope Tattoos,Mini Tattoos,Finger Tattoos,Body Art Tattoos</td><td>image</td><td>https://i.pinimg.com/originals/8a/0c/0a/8a0c0a7b6236565c519acd41ad1a52c0.jpg</td><td>Local save in /data/tattoos</td><td>tattoos</td></tr><tr><td>8731</td><td>ea760f71-febf-4023-b592-d17396659039</td><td>20 Koi Fish Tattoos For Lucky Men</td><td>Koi fish tattoos are a popular choice for men who want to make a statement, thanks to their rich symbolism and bold design.</td><td>211000.0</td><td>TheTrendSpotter</td><td>Dr Tattoo,Wörter Tattoos,Pisces Tattoos,Tatoo Art,Dream Tattoos,Dope Tattoos,Mini Tattoos,Finger Tattoos,Body Art Tattoos</td><td>image</td><td>https://i.pinimg.com/originals/8a/0c/0a/8a0c0a7b6236565c519acd41ad1a52c0.jpg</td><td>Local save in /data/tattoos</td><td>tattoos</td></tr><tr><td>8731</td><td>ea760f71-febf-4023-b592-d17396659039</td><td>20 Koi Fish Tattoos For Lucky Men</td><td>Koi fish tattoos are a popular choice for men who want to make a statement, thanks to their rich symbolism and bold design.</td><td>211000.0</td><td>TheTrendSpotter</td><td>Dr Tattoo,Wörter Tattoos,Pisces Tattoos,Tatoo Art,Dream Tattoos,Dope Tattoos,Mini Tattoos,Finger Tattoos,Body Art Tattoos</td><td>image</td><td>https://i.pinimg.com/originals/8a/0c/0a/8a0c0a7b6236565c519acd41ad1a52c0.jpg</td><td>Local save in /data/tattoos</td><td>tattoos</td></tr><tr><td>8304</td><td>5b6d0913-25e4-43ab-839d-85d5516f78a4</td><td>The #1 Reason You’re Not His Priority Anymore - Matthew Coast</td><td>#lovequotes #matchmaker #matchmadeinheaven #loveyourself #respectyourself</td><td>51000.0</td><td>Commitment Connection</td><td>Wise Quotes,Quotable Quotes,Words Quotes,Wise Words,Quotes To Live By,Great Quotes,Motivational Quotes,Inspirational Quotes,Funny Quotes</td><td>image</td><td>https://i.pinimg.com/originals/c6/64/ee/c664ee71524fb5a6e7b7b49233f93b43.png</td><td>Local save in /data/quotes</td><td>quotes</td></tr><tr><td>8304</td><td>5b6d0913-25e4-43ab-839d-85d5516f78a4</td><td>The #1 Reason You’re Not His Priority Anymore - Matthew Coast</td><td>#lovequotes #matchmaker #matchmadeinheaven #loveyourself #respectyourself</td><td>51000.0</td><td>Commitment Connection</td><td>Wise Quotes,Quotable Quotes,Words Quotes,Wise Words,Quotes To Live By,Great Quotes,Motivational Quotes,Inspirational Quotes,Funny Quotes</td><td>image</td><td>https://i.pinimg.com/originals/c6/64/ee/c664ee71524fb5a6e7b7b49233f93b43.png</td><td>Local save in /data/quotes</td><td>quotes</td></tr><tr><td>8304</td><td>5b6d0913-25e4-43ab-839d-85d5516f78a4</td><td>The #1 Reason You’re Not His Priority Anymore - Matthew Coast</td><td>#lovequotes #matchmaker #matchmadeinheaven #loveyourself #respectyourself</td><td>51000.0</td><td>Commitment Connection</td><td>Wise Quotes,Quotable Quotes,Words Quotes,Wise Words,Quotes To Live By,Great Quotes,Motivational Quotes,Inspirational Quotes,Funny Quotes</td><td>image</td><td>https://i.pinimg.com/originals/c6/64/ee/c664ee71524fb5a6e7b7b49233f93b43.png</td><td>Local save in /data/quotes</td><td>quotes</td></tr><tr><td>7554</td><td>c6fa12f4-0d4a-4b07-a335-5bf9f37f8281</td><td>Craig Style</td><td>imgentleboss: “ - More about men’s fashion at @Gentleboss - GB’s Facebook - ”</td><td>940.0</td><td>iElylike ..✿◕‿◕✿ஐ✿◕‿◕✿</td><td>Mens Fashion Blog,Look Fashion,Autumn Fashion,Fashion News,Fashion Sale,80s Fashion,Paris Fashion,Runway Fashion,Fashion Trends</td><td>image</td><td>https://i.pinimg.com/originals/e7/6e/8e/e76e8ed6cc838b84a934c6948a5caff7.jpg</td><td>Local save in /data/mens-fashion</td><td>mens-fashion</td></tr><tr><td>7554</td><td>c6fa12f4-0d4a-4b07-a335-5bf9f37f8281</td><td>Craig Style</td><td>imgentleboss: “ - More about men’s fashion at @Gentleboss - GB’s Facebook - ”</td><td>940.0</td><td>iElylike ..✿◕‿◕✿ஐ✿◕‿◕✿</td><td>Mens Fashion Blog,Look Fashion,Autumn Fashion,Fashion News,Fashion Sale,80s Fashion,Paris Fashion,Runway Fashion,Fashion Trends</td><td>image</td><td>https://i.pinimg.com/originals/e7/6e/8e/e76e8ed6cc838b84a934c6948a5caff7.jpg</td><td>Local save in /data/mens-fashion</td><td>mens-fashion</td></tr><tr><td>8887</td><td>5df9f6e5-07f5-4ce8-a82e-96586bbc05d8</td><td>25 Ultra Sexy Back Tattoo Ideas For Girls</td><td>Tattoos are one of the most efficient ways through which one decides to express themselves…</td><td>4000.0</td><td>RapidLeaks</td><td>Dream Tattoos,Body Art Tattoos,New Tattoos,Small Tattoos,Cross Tattoos,Random Tattoos,Fashion Tattoos,Bird Tattoos,Fitness Tattoos</td><td>image</td><td>https://i.pinimg.com/originals/ab/8e/50/ab8e505b04d4abc8f23e273c15f8a65d.jpg</td><td>Local save in /data/tattoos</td><td>tattoos</td></tr><tr><td>10509</td><td>6a5f0e7e-1389-4e54-942f-4cb69f09f140</td><td>Flying Car</td><td>null</td><td>89000.0</td><td>TheSuperBOO!</td><td>Electric Off Road Vehicle,Cool Illusions,Flying Vehicles,Wow Video,Art And Craft Videos,Top Luxury Cars,Chevy Muscle Cars,Street Racing Cars,Funny Videos Clean</td><td>multi-video(story page format)</td><td>https://i.pinimg.com/videos/thumbnails/originals/4a/d4/96/4ad4961606179854f1141a90f50f002c.0000001.jpg</td><td>Local save in /data/vehicles</td><td>vehicles</td></tr><tr><td>1313</td><td>44662045-e891-4821-8a19-ebe7eedd371a</td><td>Liquid Lash Extensions Mascara</td><td>Instantly create the look of lash extensions with this award-winning, best-selling mascara that won't clump, flake or smudge. Available in 3 shades!</td><td>43000.0</td><td>Thrive Causemetics</td><td>null</td><td>video</td><td>https://i.pinimg.com/videos/thumbnails/originals/69/84/e2/6984e20f3e262098fa9c0614c3453254.0000001.jpg</td><td>Local save in /data/beauty</td><td>beauty</td></tr><tr><td>1313</td><td>44662045-e891-4821-8a19-ebe7eedd371a</td><td>Liquid Lash Extensions Mascara</td><td>Instantly create the look of lash extensions with this award-winning, best-selling mascara that won't clump, flake or smudge. Available in 3 shades!</td><td>43000.0</td><td>Thrive Causemetics</td><td>null</td><td>video</td><td>https://i.pinimg.com/videos/thumbnails/originals/69/84/e2/6984e20f3e262098fa9c0614c3453254.0000001.jpg</td><td>Local save in /data/beauty</td><td>beauty</td></tr><tr><td>1313</td><td>44662045-e891-4821-8a19-ebe7eedd371a</td><td>Liquid Lash Extensions Mascara</td><td>Instantly create the look of lash extensions with this award-winning, best-selling mascara that won't clump, flake or smudge. Available in 3 shades!</td><td>43000.0</td><td>Thrive Causemetics</td><td>null</td><td>video</td><td>https://i.pinimg.com/videos/thumbnails/originals/69/84/e2/6984e20f3e262098fa9c0614c3453254.0000001.jpg</td><td>Local save in /data/beauty</td><td>beauty</td></tr><tr><td>10625</td><td>d31885b7-742a-4e2a-bbb7-ac5f9d334340</td><td>Jaguar Type E</td><td>1937 Jaguar SS100 - 2 1/2 Litre Roadster, one of the most sought after pre-war sports cars</td><td>8000.0</td><td>hobbyDB</td><td>Jaguar Type E,Jaguar Xk,Jaguar Cars,Jaguar Roadster,Jaguar Sport,Retro Cars,Vintage Cars,Antique Cars,British Sports Cars</td><td>image</td><td>https://i.pinimg.com/originals/26/81/a7/2681a71bd0c8f7fd0ab79c455338a49a.jpg</td><td>Local save in /data/vehicles</td><td>vehicles</td></tr><tr><td>10625</td><td>d31885b7-742a-4e2a-bbb7-ac5f9d334340</td><td>Jaguar Type E</td><td>1937 Jaguar SS100 - 2 1/2 Litre Roadster, one of the most sought after pre-war sports cars</td><td>8000.0</td><td>hobbyDB</td><td>Jaguar Type E,Jaguar Xk,Jaguar Cars,Jaguar Roadster,Jaguar Sport,Retro Cars,Vintage Cars,Antique Cars,British Sports Cars</td><td>image</td><td>https://i.pinimg.com/originals/26/81/a7/2681a71bd0c8f7fd0ab79c455338a49a.jpg</td><td>Local save in /data/vehicles</td><td>vehicles</td></tr><tr><td>4988</td><td>fbdfd355-a356-46c2-a251-301869ae2674</td><td>Fun Book Page Crafts - MomAdvice</td><td>Fun Book Page Crafts - MomAdvice</td><td>112000.0</td><td>MomAdvice</td><td>Harry Potter Wedding,Harry Potter Theme,Wedding Book,Wedding Table,Wedding Ideas,Wedding Vintage,Garden Wedding,Vintage Party,Wedding Paper</td><td>image</td><td>https://i.pinimg.com/originals/17/55/87/175587b334e71c12300453b8b4b4c6aa.jpg</td><td>Local save in /data/event-planning</td><td>event-planning</td></tr><tr><td>9590</td><td>b849e976-52f6-45d7-8b25-51559318f167</td><td>Top 20 Things To See And Do In Ireland</td><td>Best spots to see for travel through Ireland!</td><td>130000.0</td><td>Fun Life Crisis</td><td>Vacation Ideas,Vacation Spots,Emerald Isle,London England,Travel Guides,Travel Tips,Travel Hacks,Travel Packing,Places To Travel</td><td>image</td><td>https://i.pinimg.com/originals/c7/50/d3/c750d36524856873d64406652d69b4fb.png</td><td>Local save in /data/travel</td><td>travel</td></tr><tr><td>6844</td><td>69c3f268-274f-44bd-9cb4-427e64fefc44</td><td>♔the-fashman♔</td><td>billy-george: “Summer styles ”</td><td>377.0</td><td>Au'vey Smith</td><td>Fashion Week Hommes,La Fashion Week,Fashion Moda,Urban Fashion,Trendy Fashion,Fashion Spring,Fashion 2017,New Mens Fashion,Trendy Clothing</td><td>image</td><td>https://i.pinimg.com/originals/3c/8c/53/3c8c534cd02334c50047bd3a4feccce9.jpg</td><td>Local save in /data/mens-fashion</td><td>mens-fashion</td></tr><tr><td>1014</td><td>9ac94307-bb27-410e-b554-0a0ab6c19847</td><td>Hairstyles & Beauty</td><td>Untitled</td><td>0.0</td><td>Grecia Perales</td><td>Hair Inspo,Hair Inspiration,Motivation Inspiration,Cl Rapper,Foto Glamour,Kreative Portraits,Classy Aesthetic,Pretty Hairstyles,Hair Looks</td><td>image</td><td>https://i.pinimg.com/originals/af/c4/59/afc459bd6e1fd8f9aef212504afebf3a.jpg</td><td>Local save in /data/beauty</td><td>beauty</td></tr><tr><td>10794</td><td>c4bd2577-a7bb-4409-bb7a-17d5ed7e1cf1</td><td>TireBuyer</td><td>Nissan GT-R. Sick.</td><td>437.0</td><td>Ray Uyemura</td><td>Lowrider,Old Vintage Cars,Antique Cars,Austin Martin,Nissan Gtr Black,Jaguar,1959 Cadillac,Cadillac Ct6,Old School Cars</td><td>image</td><td>https://i.pinimg.com/originals/0d/29/9f/0d299f3df020395aa7ce8387f40fbeed.jpg</td><td>Local save in /data/vehicles</td><td>vehicles</td></tr><tr><td>10794</td><td>c4bd2577-a7bb-4409-bb7a-17d5ed7e1cf1</td><td>TireBuyer</td><td>Nissan GT-R. Sick.</td><td>437.0</td><td>Ray Uyemura</td><td>Lowrider,Old Vintage Cars,Antique Cars,Austin Martin,Nissan Gtr Black,Jaguar,1959 Cadillac,Cadillac Ct6,Old School Cars</td><td>image</td><td>https://i.pinimg.com/originals/0d/29/9f/0d299f3df020395aa7ce8387f40fbeed.jpg</td><td>Local save in /data/vehicles</td><td>vehicles</td></tr><tr><td>1094</td><td>6deacdcd-75ed-4dd8-8951-9b77453f38e0</td><td>9 colors lazy lipstick - 9 colors lazy lipstick4</td><td>9 colors lazy lipstick</td><td>8000.0</td><td>Jiew82633</td><td>Nail Inspo,Lazy,Lipstick,How To Apply,Makeup,Colors,Products,Make Up,Lipsticks</td><td>image</td><td>https://i.pinimg.com/originals/25/cf/8c/25cf8cb74b43ab95591342c2bbe4ecd8.jpg</td><td>Local save in /data/beauty</td><td>beauty</td></tr><tr><td>3089</td><td>88f9227e-88d0-4b1c-b0be-bcfc3028b8e2</td><td>null</td><td>null</td><td>null</td><td>null</td><td>null</td><td>multi-video(story page format)</td><td>null</td><td>Local save in /data/diy-and-crafts</td><td>diy-and-crafts</td></tr><tr><td>3089</td><td>88f9227e-88d0-4b1c-b0be-bcfc3028b8e2</td><td>null</td><td>null</td><td>null</td><td>null</td><td>null</td><td>multi-video(story page format)</td><td>null</td><td>Local save in /data/diy-and-crafts</td><td>diy-and-crafts</td></tr><tr><td>7528</td><td>fbe53c66-3442-4773-b19e-d3ec6f54dddf</td><td>null</td><td>null</td><td>null</td><td>null</td><td>null</td><td>multi-video(story page format)</td><td>null</td><td>Local save in /data/mens-fashion</td><td>mens-fashion</td></tr><tr><td>7528</td><td>fbe53c66-3442-4773-b19e-d3ec6f54dddf</td><td>null</td><td>null</td><td>null</td><td>null</td><td>null</td><td>multi-video(story page format)</td><td>null</td><td>Local save in /data/mens-fashion</td><td>mens-fashion</td></tr><tr><td>7528</td><td>fbe53c66-3442-4773-b19e-d3ec6f54dddf</td><td>null</td><td>null</td><td>null</td><td>null</td><td>null</td><td>multi-video(story page format)</td><td>null</td><td>Local save in /data/mens-fashion</td><td>mens-fashion</td></tr></tbody></table></div>"
      ]
     },
     "metadata": {
      "application/vnd.databricks.v1+output": {
       "addedWidgets": {},
       "aggData": [],
       "aggError": "",
       "aggOverflow": false,
       "aggSchema": [],
       "aggSeriesLimitReached": false,
       "aggType": "",
       "arguments": {},
       "columnCustomDisplayInfos": {},
       "data": [
        [
         2482,
         "08604f20-fa17-4b9a-9949-781717eca6cd",
         "FORNT PORCH CHRISTMAS DECORATING IDEAS",
         "Christmas decorating ideas for porches. Beautiful holiday decor ideas for front porches both small and large. Outdoor decorations like sleds, lanterns, Christmas trees, wreaths,… ",
         46000.0,
         "Life on Summerhill | Home, Holiday Decor & DIY Website",
         "Diy Christmas Decorations For Home,Farmhouse Christmas Decor,Christmas Home,Christmas Holidays,Christmas Front Porches,How To Decorate For Christmas,Christmas Porch Ideas,Christmas Decorating Ideas,Large Outdoor Christmas Decorations",
         "video",
         "https://i.pinimg.com/videos/thumbnails/originals/40/83/f5/4083f5b4971bf235f89a4784ab87271e.0000001.jpg",
         "Local save in /data/christmas",
         "christmas"
        ],
        [
         10138,
         "927c4658-cc3f-4b92-9b5c-70743d0c238d",
         "14 Amazing Things To Do In Costa Rica | Volcanoes, Waterfalls, Wildlife And More",
         "This Costa Rica itinerary is the ultimate guide to spending two weeks in Costa Rica. Find out about visiting La Fortuna, Arenal, Monteverde, Naranjo, Corcovado National Park, Or… ",
         10000.0,
         "Wanderlust Chloe ✈️ Travel guides, inspo and adventure travel ✈️",
         "Costa Rica Travel,Rio Celeste Costa Rica,Dream Vacations,Vacation Spots,Vacation Travel,Travel Pictures,Travel Photos,Fortuna Costa Rica,Costa Rica Pictures",
         "image",
         "https://i.pinimg.com/originals/30/93/cb/3093cb01d9de2d125fda8ba5e3e41946.jpg",
         "Local save in /data/travel",
         "travel"
        ],
        [
         2604,
         "087b0fa9-f901-4262-aa0a-6caf234d1b35",
         "75+ Neutral Christmas Home Decor for the Holiday Season in Farmhouse Style using Earth Tones Modern",
         "My favorite 75+ Neutral Christmas Home Decor for decorating your house during the Holiday Season in earth tones and a farmhouse, rustic style all winter. I love this modern, sim… ",
         31000.0,
         "Everyday Wholesome",
         "Colorful Christmas Decorations,Colorful Christmas Tree,Christmas Centerpieces,Christmas Colors,Xmas Colors,Winter Decorations,Christmas Trends,Christmas Inspiration,Christmas Home",
         "image",
         "https://i.pinimg.com/originals/86/84/39/868439dd894969e3abd6a2a8a9fe1e9c.jpg",
         "Local save in /data/christmas",
         "christmas"
        ],
        [
         3156,
         "fa6e31a4-18c2-4eca-a6d8-e903eee2c2a4",
         "Handprint Reindeer Ornaments - Crafty Morning",
         "This post may contain affiliate links, read our Disclosure Policy for more information. As an Amazon Associate I earn from qualifying purchases, thank you! Make some cute handpr… ",
         892000.0,
         "Michelle {CraftyMorning.com}",
         "Christmas Gifts For Parents,Christmas Decorations For Kids,Christmas Crafts For Toddlers,Preschool Christmas,Christmas Crafts For Gifts,Christmas Activities,Toddler Crafts,Kids Christmas,Christmas Feeling",
         "image",
         "https://i.pinimg.com/originals/ff/fe/38/fffe384f3ec18a0d87cb2d80cc8c1499.jpg",
         "Local save in /data/diy-and-crafts",
         "diy-and-crafts"
        ],
        [
         3156,
         "fa6e31a4-18c2-4eca-a6d8-e903eee2c2a4",
         "Handprint Reindeer Ornaments - Crafty Morning",
         "This post may contain affiliate links, read our Disclosure Policy for more information. As an Amazon Associate I earn from qualifying purchases, thank you! Make some cute handpr… ",
         892000.0,
         "Michelle {CraftyMorning.com}",
         "Christmas Gifts For Parents,Christmas Decorations For Kids,Christmas Crafts For Toddlers,Preschool Christmas,Christmas Crafts For Gifts,Christmas Activities,Toddler Crafts,Kids Christmas,Christmas Feeling",
         "image",
         "https://i.pinimg.com/originals/ff/fe/38/fffe384f3ec18a0d87cb2d80cc8c1499.jpg",
         "Local save in /data/diy-and-crafts",
         "diy-and-crafts"
        ],
        [
         10119,
         "40eab9ba-7812-4f26-baca-35a6bed95a9f",
         "How to Afford Family Travel: 10 Mistakes You're Making (and what to do instead) | Our Next Adventure",
         "See families traveling all the time and wonder, \"how the heck do they afford this?\" Read 10 mistakes you might be making, and what you should do instead.",
         9000.0,
         "OUR NEXT ADVENTURE | family travel blog",
         "Family Vacation Destinations,Vacation Trips,Travel Destinations,Vacation Ideas,Cheap Family Vacations,Vacation Travel,Best Family Vacation Spots,Vacation Quotes,Vacation Memories",
         "image",
         "https://i.pinimg.com/originals/0a/49/fb/0a49fbcec746c4219d3a6f30834f378e.jpg",
         "Local save in /data/travel",
         "travel"
        ],
        [
         3419,
         "d0b80187-0171-49b2-8ee4-572984244f65",
         "Easy Christmas Tree Crafts Ideas for toddlers and preschoolers | Sharing Our Experiences",
         "Easy Christmas tree Craft Ideas for toddlers and preschoolers. Engage your kids in these DIY",
         3000.0,
         "Kids Crafts & Free Preschool Printables- Sharing Our Experiences",
         "Christmas Crafts For Kids To Make,Christmas Tree Painting,Christmas Activities For Kids,Easy Christmas Crafts For Toddlers,Kid Activities,Christmas Handprint Crafts,Christmas Tree Crafts,Christmas Baby,Xmas Tree",
         "image",
         "https://i.pinimg.com/originals/69/f0/75/69f075939d4449dffa69519756c30e26.png",
         "Local save in /data/diy-and-crafts",
         "diy-and-crafts"
        ],
        [
         5494,
         "8fb2af68-543b-4639-8119-de33d28706ed",
         "Dave Ramsey's 7 Baby Steps: What Are They And Will They Work For You",
         "If you love budgeting, make sure to give Dave Ramsey's 7 Baby Steps a try. Follow these steps to begin your debt snowball, build an emergency fund, invest and reach riches. I ca… ",
         26000.0,
         "Living Low Key | Save Money, Make Money, & Frugal Living",
         "Financial Peace,Financial Tips,Saving Money Quotes,Total Money Makeover,Budgeting Finances,Money Management,Wealth Management,Personal Finance,Making Ideas",
         "image",
         "https://i.pinimg.com/originals/1e/9d/90/1e9d906e4e150e3b95187f3b76ea7c71.png",
         "Local save in /data/finance",
         "finance"
        ],
        [
         5494,
         "8fb2af68-543b-4639-8119-de33d28706ed",
         "Dave Ramsey's 7 Baby Steps: What Are They And Will They Work For You",
         "If you love budgeting, make sure to give Dave Ramsey's 7 Baby Steps a try. Follow these steps to begin your debt snowball, build an emergency fund, invest and reach riches. I ca… ",
         26000.0,
         "Living Low Key | Save Money, Make Money, & Frugal Living",
         "Financial Peace,Financial Tips,Saving Money Quotes,Total Money Makeover,Budgeting Finances,Money Management,Wealth Management,Personal Finance,Making Ideas",
         "image",
         "https://i.pinimg.com/originals/1e/9d/90/1e9d906e4e150e3b95187f3b76ea7c71.png",
         "Local save in /data/finance",
         "finance"
        ],
        [
         2418,
         "da8745a6-5160-46c4-877d-181d50a729fd",
         "100 DIY Christmas Centerpieces You'll Love To Decorate Your Home With For The Christmas Season - Hike n Dip",
         "Here are the best DIY Christmas Centerpieces ideas perfect for your Christmas & holiday season home decor. From Christmas Vignettes to Table Centerpieces.",
         500000.0,
         "HikenDip",
         "Farmhouse Christmas Decor,Rustic Christmas,Christmas Time,Vintage Christmas,Xmas,Primitive Christmas Crafts,Christmas Vignette,Indoor Christmas Decorations,Diy Christmas Ornaments",
         "image",
         "https://i.pinimg.com/originals/aa/6d/0f/aa6d0f44d7c1c96b998cb9aa6c4446b8.png",
         "Local save in /data/christmas",
         "christmas"
        ],
        [
         2418,
         "da8745a6-5160-46c4-877d-181d50a729fd",
         "100 DIY Christmas Centerpieces You'll Love To Decorate Your Home With For The Christmas Season - Hike n Dip",
         "Here are the best DIY Christmas Centerpieces ideas perfect for your Christmas & holiday season home decor. From Christmas Vignettes to Table Centerpieces.",
         500000.0,
         "HikenDip",
         "Farmhouse Christmas Decor,Rustic Christmas,Christmas Time,Vintage Christmas,Xmas,Primitive Christmas Crafts,Christmas Vignette,Indoor Christmas Decorations,Diy Christmas Ornaments",
         "image",
         "https://i.pinimg.com/originals/aa/6d/0f/aa6d0f44d7c1c96b998cb9aa6c4446b8.png",
         "Local save in /data/christmas",
         "christmas"
        ],
        [
         7922,
         "a584581c-1b38-4731-a1cc-f36115ecf229",
         "45 Top Life Quotes School Did Not Teach You",
         "summcoco gives you inspiration for the women fashion trends you want. Thinking about a new look or lifestyle? This is your ultimate resource to get the hottest trends. 45 Top Li… ",
         306000.0,
         "Sumcoco | Decor Ideas, Hairstyles, Nails Fashion Advice",
         "Life Quotes Love,Inspirational Quotes About Love,Mood Quotes,Motivational Quotes,Tears Quotes,Quotes About Sadness,Deep Quotes About Life,Quotes Quotes,Quote Life",
         "image",
         "https://i.pinimg.com/originals/bb/c0/e6/bbc0e6a797079505f11ac12bcb0b8c66.jpg",
         "Local save in /data/quotes",
         "quotes"
        ],
        [
         771,
         "a5021766-a8aa-4dc7-9857-4da6b8e3dc1a",
         "African Sunset Shadow Tracing Art - Taming Little Monsters",
         "Use your mini world figures to create this beautiful African sunset. Your kids will love learning about shadows, angles and distortion in this fun art and STEM activity for kids.",
         4000.0,
         "Taming Little Monsters - Fun Activities for Kids",
         "African Art Projects,Cool Art Projects,Projects For Kids,African Art For Kids,African Crafts Kids,Art Club Projects,Art Education Projects,Tracing Art,African Sunset",
         "image",
         "https://i.pinimg.com/originals/e3/aa/35/e3aa350f8f104d0e59f26d7f17ea7461.png",
         "Local save in /data/art",
         "art"
        ],
        [
         4508,
         "9064f4a2-2753-476c-815e-db360f45a93e",
         "Custom Event and Shop Neon Sign Lights - Event & Shop",
         "Personalize your event or shop with a customized neon sign. Make a statement with your own custom vibes! This light is 32 -40 inches (80cm-100cm) if you need something bigger, p… ",
         111.0,
         "Life of Neon | Custom Neon Light Signs | Home Decor Wall Art",
         "Our Wedding,Wedding Venues,Dream Wedding,Wedding Cakes,Church Wedding,Wedding Flowers,Lace Wedding,Wedding Rings,Wedding Dresses",
         "image",
         "https://i.pinimg.com/originals/e9/c0/7c/e9c07cf0cf16cab23764a36718ab76c1.jpg",
         "Local save in /data/event-planning",
         "event-planning"
        ],
        [
         4076,
         "3a52d364-7c04-47cb-a3e5-56d9e2b77528",
         "Phonics Activities Your Kids Will Love - The Literacy Nest",
         "Hi everyone! As a teacher using the Orton-Gillingham approach, I am constantly looking for phonics activities that my students will find fun and engaging. Using Orton-Gillingham… ",
         22000.0,
         "The Literacy Nest",
         "Literacy Games,Kindergarten Activities,Literacy Centers,Fun Phonics Activities,Listening Activities,Vocabulary Games,Literacy Stations,Letter Activities,Montessori Activities",
         "image",
         "https://i.pinimg.com/originals/58/8e/38/588e380b19942a71a86a69d9c9973d25.png",
         "Local save in /data/education",
         "education"
        ],
        [
         2293,
         "1fd7d4cc-54c1-4542-9c1f-449cb4c875f4",
         "Over 40 of the BEST Homemade Christmas Ornament Ideas",
         "Over 40 of the BEST Homemade Christmas Ornaments...these easy Holiday crafts are so fun to make for Kids and Adults! Lots of great class party ideas!",
         245000.0,
         "Kitchen Fun With My 3 Sons",
         "Diy Christmas Lights,Homemade Christmas Decorations,Christmas Crafts For Gifts,Mini Christmas Tree,Christmas Ornament Crafts,Homemade Christmas Gifts,Xmas Decorations,Simple Christmas,Handmade Christmas",
         "image",
         "https://i.pinimg.com/originals/d0/d3/a3/d0d3a31e87296224d5ba8896904b5b88.jpg",
         "Local save in /data/christmas",
         "christmas"
        ],
        [
         159,
         "841a161a-47b8-4161-884d-adeb67a28b1e",
         "Valentine's Day Bee Directed Drawing {Art Project}",
         "This bee directed drawing and associated pages will help you create a fun and creative Valentine's Day Directed Drawing Art Project activity for your class.Choose to do a painti… ",
         null,
         "Teachers Pay Teachers",
         "Classroom Art Projects,School Art Projects,Art Classroom,Art Projects For Kindergarteners,Spring Art Projects,Classroom Posters,Valentines Art Lessons,Valentines Day Activities,Grade 1 Art",
         "image",
         "https://i.pinimg.com/originals/49/ff/2e/49ff2e83c0cefdd37213f6084c6f0566.jpg",
         "Local save in /data/art",
         "art"
        ],
        [
         9979,
         "2b2abc85-fc51-481f-8ae6-17681993da28",
         "Paris in the Summer. 10 fun things to do in Paris in the Summertime • Petite in Paris",
         "Are you traveling to Paris during the summer? Find out what to do in Paris, France during the summer. Fun summertime activities in Paris. Enjoy the incredible outdoors when trav… ",
         3000.0,
         "Petite in Paris",
         "Torre Eiffel Paris,Tour Eiffel,Picnic In Paris,Hello France,Voyage Europe,Destination Voyage,Beautiful Places To Travel,Travel Aesthetic,Paris Travel",
         "image",
         "https://i.pinimg.com/originals/6c/4c/90/6c4c90bba27ebf8c8bfe4c1acfb9f07a.jpg",
         "Local save in /data/travel",
         "travel"
        ],
        [
         9759,
         "d105eb6e-0f9f-46e7-8d02-d24b62f6ae90",
         "8 Best Greek Islands You Have To Visit - TheFab20s",
         "Although you'd think Greek islands are fairly similar, you'd be completely wrong! Each island has it's own personality and appeal. Here are the 8 Best Greek Islands to visit, es… ",
         42000.0,
         "TheFab20s | Travel+Food+DIY+Listicles",
         "Greek Islands To Visit,Best Greek Islands,Greece Islands,Cool Places To Visit,Places To Go,Best Places In Portugal,Copenhagen Travel,Paros Island,Santorini Island",
         "image",
         "https://i.pinimg.com/originals/06/1d/ce/061dce38929dec8e74844442116bea4a.jpg",
         "Local save in /data/travel",
         "travel"
        ],
        [
         2698,
         "73f16302-4871-486a-8836-947530526337",
         "DIY Dollar Tree Valentine's Day Wreath",
         "DIY Dollar Store Valentine’s Day Heart Wreath Decoration. There are so many great Valentine crafts at the Dollar Tree right now! During our last trip, we picked up a few supplie… ",
         9000.0,
         "South Lumina Style",
         "Valentine Day Wreaths,Valentines Day Hearts,Valentines Day Decorations,Valentine Day Crafts,Holiday Crafts,Diy Christmas,Christmas Wreaths,Valentine Tree,Printable Valentine",
         "image",
         "https://i.pinimg.com/originals/dc/f6/8a/dcf68adcc63c339c24fa5664f1115994.png",
         "Local save in /data/diy-and-crafts",
         "diy-and-crafts"
        ],
        [
         6145,
         "82e13a07-db99-43a3-b1c0-89a4b75821da",
         "HOLIDAY MANTLE DECOR - @AMAZON & @TARGET FINDS",
         "Holiday mantle decor, Christmas decor, metallic mercury glass style Christmas trees, eucalyptus vine, evergreen pine branches, white neutral holiday decor, cozy mantle for the h… ",
         83000.0,
         "Stylin by Aylin",
         "Winter Home Decor,Christmas Living Room Decor,Living Room Decor Cozy,Christmas Decor,Cozy Fireplace,Rustic Fireplace Decor,Fireplace Decorations,Rustic Room,House Decorations",
         "image",
         "https://i.pinimg.com/originals/9d/82/1a/9d821a80acd8f90c16454e978bd9b115.jpg",
         "Local save in /data/home-decor",
         "home-decor"
        ],
        [
         6145,
         "82e13a07-db99-43a3-b1c0-89a4b75821da",
         "HOLIDAY MANTLE DECOR - @AMAZON & @TARGET FINDS",
         "Holiday mantle decor, Christmas decor, metallic mercury glass style Christmas trees, eucalyptus vine, evergreen pine branches, white neutral holiday decor, cozy mantle for the h… ",
         83000.0,
         "Stylin by Aylin",
         "Winter Home Decor,Christmas Living Room Decor,Living Room Decor Cozy,Christmas Decor,Cozy Fireplace,Rustic Fireplace Decor,Fireplace Decorations,Rustic Room,House Decorations",
         "image",
         "https://i.pinimg.com/originals/9d/82/1a/9d821a80acd8f90c16454e978bd9b115.jpg",
         "Local save in /data/home-decor",
         "home-decor"
        ],
        [
         427,
         "4a455340-09a2-4370-ad86-73d7964603db",
         "DIY Acrylic Paint Pouring Wall Art - Abbotts At Home",
         "Easy to follow steps for this easy DIY wall art. Acrylic Paint Pouring with a blow dryer, Dutch paint pour. Written steps and full step by step video to help you do it too! 👍",
         52000.0,
         "Abbotts At Home",
         "Acrylic Pouring Art,Acrylic Wall Art,Acrylic Pouring Techniques,Acrylic Paintings,Art Paintings,Marble Art,Marble Painting,Pour Painting,Large Canvas Art",
         "video",
         "https://i.pinimg.com/videos/thumbnails/originals/d5/5e/fa/d55efa6ef50d35dac425cea935f39c89.0000001.jpg",
         "Local save in /data/art",
         "art"
        ],
        [
         1704,
         "5fbf9863-fb79-477c-a5b6-540c3020a55f",
         "Christmas Trees From Pallet Wood | Holiday DIY",
         "Christmas Trees From Pallet Wood | Holiday DIY: Deck the yard with some fun outdoor Christmas Trees! We made these merry and bright decorations from two old pallets we had lying… ",
         null,
         "Instructables",
         "Pallet Wood Christmas Tree,Wooden Christmas Crafts,Diy Christmas Tree,Christmas Projects,Holiday Crafts,Wooden Xmas Trees,Different Christmas Trees,Pallet Tree,Christmas Kitchen",
         "image",
         "https://i.pinimg.com/originals/64/7b/ca/647bca35169b7c144604116c64bcba8a.png",
         "Local save in /data/christmas",
         "christmas"
        ],
        [
         4315,
         "21b59ba9-829d-4c33-8c27-4cd4c56d26b8",
         "Podcasts for Teachers or Parents of Teenagers",
         "Podcasts for Teachers or Parents of Teenagers: Teaching teens middle school and high school can feel joyful and rewarding most days, but can also frustrate you with one challeng… ",
         25000.0,
         "Math Giraffe",
         "Middle School Classroom,High School Students,High School Teachers,Middle School Tips,High School Counseling,Ela Classroom,High School Science,Future Classroom,Google Classroom",
         "image",
         "https://i.pinimg.com/originals/50/19/31/501931a27ee4d076658980851b995b2c.jpg",
         "Local save in /data/education",
         "education"
        ],
        [
         4315,
         "21b59ba9-829d-4c33-8c27-4cd4c56d26b8",
         "Podcasts for Teachers or Parents of Teenagers",
         "Podcasts for Teachers or Parents of Teenagers: Teaching teens middle school and high school can feel joyful and rewarding most days, but can also frustrate you with one challeng… ",
         25000.0,
         "Math Giraffe",
         "Middle School Classroom,High School Students,High School Teachers,Middle School Tips,High School Counseling,Ela Classroom,High School Science,Future Classroom,Google Classroom",
         "image",
         "https://i.pinimg.com/originals/50/19/31/501931a27ee4d076658980851b995b2c.jpg",
         "Local save in /data/education",
         "education"
        ],
        [
         4315,
         "21b59ba9-829d-4c33-8c27-4cd4c56d26b8",
         "Podcasts for Teachers or Parents of Teenagers",
         "Podcasts for Teachers or Parents of Teenagers: Teaching teens middle school and high school can feel joyful and rewarding most days, but can also frustrate you with one challeng… ",
         25000.0,
         "Math Giraffe",
         "Middle School Classroom,High School Students,High School Teachers,Middle School Tips,High School Counseling,Ela Classroom,High School Science,Future Classroom,Google Classroom",
         "image",
         "https://i.pinimg.com/originals/50/19/31/501931a27ee4d076658980851b995b2c.jpg",
         "Local save in /data/education",
         "education"
        ],
        [
         3599,
         "ff0dd945-dafa-411c-8cef-eb43e374e815",
         "Educational Leadership in Aotearoa New Zealand : Issues of Context and Social Justice",
         "This book presents 10 inspirational case studies of how centre leaders, principals and leadership teams in high-needs New Zealand educational settings have enacted leadership to… ",
         null,
         "Walmart",
         "Research Studies,Educational Leadership,Education System,Secondary School,Try It Free,Book Format,Social Justice,Young People,Paperback Books",
         "image",
         "https://i.pinimg.com/originals/0e/ea/c4/0eeac457780bbe43fcc5e9eaabd80f62.jpg",
         "Local save in /data/education",
         "education"
        ],
        [
         5069,
         "b75b6f87-deb3-444f-b29e-ce9161b2df49",
         "The Vault: Curated & Refined Wedding Inspiration",
         "Sacramento California Wedding 2 Chic Events & Design Jodi Yorston Photography Wilson Vineyards Barn Miosa Couture Yellow Barn Vineyard Outdoor Candles DIY",
         null,
         "Style Me Pretty",
         "60th Anniversary Parties,Anniversary Decorations,Golden Anniversary,25th Wedding Anniversary,Anniversary Pictures,Anniversary Ideas,Birthday Decorations,Event Planning Design,Event Design",
         "image",
         "https://i.pinimg.com/originals/7e/45/90/7e45905fefa36347e83333fd6d091140.jpg",
         "Local save in /data/event-planning",
         "event-planning"
        ],
        [
         7343,
         "b8c63a95-6fe8-4d7f-9455-1eef3462fee0",
         "This Fashion Rule Is Nonsense, And We Should All Forget About It",
         "Black And Brown Outfits You Need To Try This Fall Season. The trick with black and brown outfits is to know how to combine colors, fabrics, and shapes to get a cohesive look. So… ",
         null,
         "Cultura Colectiva",
         "Winter Outfits Men,Stylish Mens Outfits,Casual Outfits,Men Casual,Smart Casual,Outfits For Men,Fall Outfits,Mens Winter Boots,Business Casual Men",
         "image",
         "https://i.pinimg.com/originals/3e/49/09/3e4909c0ccc4dbba3cad83d97eab4a61.png",
         "Local save in /data/mens-fashion",
         "mens-fashion"
        ],
        [
         5069,
         "b75b6f87-deb3-444f-b29e-ce9161b2df49",
         "The Vault: Curated & Refined Wedding Inspiration",
         "Sacramento California Wedding 2 Chic Events & Design Jodi Yorston Photography Wilson Vineyards Barn Miosa Couture Yellow Barn Vineyard Outdoor Candles DIY",
         null,
         "Style Me Pretty",
         "60th Anniversary Parties,Anniversary Decorations,Golden Anniversary,25th Wedding Anniversary,Anniversary Pictures,Anniversary Ideas,Birthday Decorations,Event Planning Design,Event Design",
         "image",
         "https://i.pinimg.com/originals/7e/45/90/7e45905fefa36347e83333fd6d091140.jpg",
         "Local save in /data/event-planning",
         "event-planning"
        ],
        [
         7343,
         "b8c63a95-6fe8-4d7f-9455-1eef3462fee0",
         "This Fashion Rule Is Nonsense, And We Should All Forget About It",
         "Black And Brown Outfits You Need To Try This Fall Season. The trick with black and brown outfits is to know how to combine colors, fabrics, and shapes to get a cohesive look. So… ",
         null,
         "Cultura Colectiva",
         "Winter Outfits Men,Stylish Mens Outfits,Casual Outfits,Men Casual,Smart Casual,Outfits For Men,Fall Outfits,Mens Winter Boots,Business Casual Men",
         "image",
         "https://i.pinimg.com/originals/3e/49/09/3e4909c0ccc4dbba3cad83d97eab4a61.png",
         "Local save in /data/mens-fashion",
         "mens-fashion"
        ],
        [
         8606,
         "71757040-bfc8-4631-9cac-22801e61d9e3",
         "30+ Eagle Tattoos Ideas for Women",
         "summcoco gives you inspiration for the women fashion trends you want. Thinking about a new look or lifestyle? This is your ultimate resource to get the hottest trends. 30+ Eagle… ",
         306000.0,
         "Sumcoco | Decor Ideas, Hairstyles, Nails Fashion Advice",
         "White Bird Tattoos,Rose Tattoos,Flower Tattoos,Tattoo Black,Bird And Flower Tattoo,Tattoo Floral,Mini Tattoos,Flower Art,Girls With Sleeve Tattoos",
         "image",
         "https://i.pinimg.com/originals/8d/c6/ed/8dc6ed0b212393187a14c7d07a88060f.png",
         "Local save in /data/tattoos",
         "tattoos"
        ],
        [
         9074,
         "2adede06-7fb0-4b5f-8cf9-ce8e6d6fa6a1",
         "77 Disney Tattoos To Unleash Your Magic Power - Our Mindful Life",
         "Disney characters never go out with time. From small to bold, here are the best Disney tattoos that both adults and children will adore.",
         190000.0,
         "Our Mindful Life",
         "Small Disney Tattoos,Disney Thigh Tattoo,Matching Disney Tattoos,Disney Couple Tattoos,Disney Inspired Tattoos,Disney Sleeve Tattoos,Matching Best Friend Tattoos,Small Tattoos,3 Best Friend Tattoos",
         "image",
         "https://i.pinimg.com/originals/29/1d/13/291d1361e275358df53c1db02b63d3a4.jpg",
         "Local save in /data/tattoos",
         "tattoos"
        ],
        [
         6063,
         "60693727-4927-4bd6-a8c5-096a392d63e6",
         "41 Gorgeous Fall Decor Ideas For Your Home - Chaylor & Mads",
         "Beautiful and easy ways to update every room in your home with fall decor. Plus, my favorite finds in fall decor for 2020!",
         92000.0,
         "Kristen | Lifestyle, Mom Tips & Teacher Stuff Blog",
         "Fall Home Decor,Autumn Home,Fall Decor Outdoor,Front Porch Fall Decor,Home Decor Ideas,Porch Ideas For Fall,Fall Outdoor Decorating,Decorating Ideas For Fall,Fall Front Doors",
         "image",
         "https://i.pinimg.com/originals/e5/ae/dc/e5aedc14ce557e3a69f672e0f8c88f6e.png",
         "Local save in /data/home-decor",
         "home-decor"
        ],
        [
         6063,
         "60693727-4927-4bd6-a8c5-096a392d63e6",
         "41 Gorgeous Fall Decor Ideas For Your Home - Chaylor & Mads",
         "Beautiful and easy ways to update every room in your home with fall decor. Plus, my favorite finds in fall decor for 2020!",
         92000.0,
         "Kristen | Lifestyle, Mom Tips & Teacher Stuff Blog",
         "Fall Home Decor,Autumn Home,Fall Decor Outdoor,Front Porch Fall Decor,Home Decor Ideas,Porch Ideas For Fall,Fall Outdoor Decorating,Decorating Ideas For Fall,Fall Front Doors",
         "image",
         "https://i.pinimg.com/originals/e5/ae/dc/e5aedc14ce557e3a69f672e0f8c88f6e.png",
         "Local save in /data/home-decor",
         "home-decor"
        ],
        [
         5076,
         "fa3af29c-dc78-4eed-a4c5-52a407ea04c0",
         "Quiz: Test Your Event IQ! - Pointers For Planners",
         "So you're thinking of getting your event planner certification, but how much do you REALLY know about event planning? Event planners need to be knowledgeable and able to answer… ",
         5000.0,
         "QC Career School",
         "Diy Wedding Food,Best Wedding Makeup,Wedding Events,Wedding Tips,Wedding Stuff,Weddings,Event Planning Business,Business Events,Wedding Makeup Tutorial",
         "image",
         "https://i.pinimg.com/originals/6f/19/bc/6f19bce24921bf843540fc04da9eb6bf.jpg",
         "Local save in /data/event-planning",
         "event-planning"
        ],
        [
         552,
         "b82602a9-e434-42cf-9481-22f3f41d82ce",
         "The herbal bed: Katie Scott's psychedelic flora and fauna – in pictures",
         "Nike trainers sprout plants and French perfumiers inspire by mysterious scientific icons in Katie Scott’s visions that take botanical illustration into the digital age",
         908000.0,
         "The Guardian",
         "Art And Illustration,Illustration Inspiration,Botanical Illustration,Vintage Illustrations,Botanical Drawings,Botanical Prints,Arte Inspo,Insect Art,Psychedelic",
         "image",
         "https://i.pinimg.com/originals/16/8a/fa/168afae02d5ffc71da10cdb312de2cb1.jpg",
         "Local save in /data/art",
         "art"
        ],
        [
         8578,
         "036ec267-658b-4dad-a097-8ef0b4f30c0d",
         "Snake Collarbone Temporary Tattoo. Halloween Tattoos  Spooky | Etsy",
         "Snake temporary tattoo for collarbone. Spooky 3D tattoo for Halloween Includes 2 copies, 1 for the right side and 1 for the left side Apply with water and remove anytime with ba… ",
         0.0,
         "Livitrevisani",
         "Finger Tattoo Designs,Small Tattoo Designs,Finger Tattoos,Small 3d Tattoos,Cool Tattoos,Line Work Tattoo,Back Tattoo,Collarbone Tattoo,Tattoo Neck",
         "image",
         "https://i.pinimg.com/originals/d8/b7/a1/d8b7a11a3fe64e7fab91d3afb1536537.jpg",
         "Local save in /data/tattoos",
         "tattoos"
        ],
        [
         4137,
         "bf275054-4464-448b-9143-1bf101aa366d",
         "15 Essential Classroom Items For First Year Teachers / First Year Teacher Must Haves",
         "15 Essential Classroom Items For First Year Teachers / First Year Teacher Must Haves",
         5000.0,
         "Write Your Story | Budgeting, Healthy Lifestyle, Faith",
         "1st Year Teachers,First Year Teaching,First Grade Teachers,Elementary Teacher,Montessori Elementary,Teaching Reading,History Teachers,High School Classroom,First Grade Classroom",
         "image",
         "https://i.pinimg.com/originals/4b/b9/a8/4bb9a85f609a8384ed9c9ab14e7bcea0.jpg",
         "Local save in /data/education",
         "education"
        ],
        [
         6566,
         "6d8848f8-f515-4935-8dae-5dd02304d76e",
         "Navy and Neutral Fall Living Room + Kitchen Tour - Sand and Sisal",
         "Celebrate fall with a neutral color palette with natural elements. This Navy and Neutral Fall Living Room + Kitchen Tour will make you rethink fall decor.",
         178000.0,
         "Sand and Sisal",
         "Fall Living Room,Coastal Living Rooms,Living Room Paint,Living Room Kitchen,Living Room Interior,Living Room Furniture,Living Room Decor,Living Area,Small Living",
         "image",
         "https://i.pinimg.com/originals/f1/be/b6/f1beb6d3414f1c52929df39a83d8da9f.jpg",
         "Local save in /data/home-decor",
         "home-decor"
        ],
        [
         2411,
         "4e11801e-7a64-4f1e-90dd-e900677595c5",
         "The Sweetest Gingerbread House Ornaments Kids Can Make",
         "Transform mini terra cotta pots into the sweetest gingerbread house ornaments! Kids will love making this adorable Christmas craft to hang on the tree.",
         20000.0,
         "Projects with Kids",
         "Noel Christmas,Diy Christmas Ornaments,Homemade Christmas,Simple Christmas,Gingerbread Ornaments,Christmas Gingerbread,Gingerbread Houses,Preschool Christmas,Ornaments Ideas",
         "image",
         "https://i.pinimg.com/originals/13/28/09/1328097d7c290d1bf8642b01a6ba1c6c.jpg",
         "Local save in /data/christmas",
         "christmas"
        ],
        [
         7166,
         "4a844b03-e161-47a1-904b-591eb5dc4fb1",
         "The Killers - Mr. Brightside - Women's T-Shirt - Heather Dark Grey / S",
         "Women's T-shirt. Design inspired by the rock band The Killers' hit \"Mr. Brightside\". One of the greatest song from the album Hot Fuss released in 2004. Soft and light, 100% cott… ",
         27.0,
         "Mala Rock | Rock T-shirts",
         "Mr Brightside,Rock T Shirts,Greatest Songs,Timeless Classic,Rock Bands,Album,T Shirts For Women,Inspired,Hot",
         "image",
         "https://i.pinimg.com/originals/8c/42/39/8c42391d35fcad51a4a79f7cd81bf26d.jpg",
         "Local save in /data/mens-fashion",
         "mens-fashion"
        ],
        [
         8930,
         "a2999c28-f7b2-4577-af87-49d21d6d8a18",
         "135 Sunflower Tattoo Ideas - [Best Rated Designs in 2021]",
         "We have put together the Ultimative Sunflower Tattoo Collection in 2020. Check out our highest rated handpicked Sunflower designs here!",
         800000.0,
         "Next Luxury",
         "Sunflower Tattoo Sleeve,Sunflower Tattoo Shoulder,Sunflower Tattoo Small,Sunflower Tattoos,Sunflower Tattoo Design,Shoulder Tattoo,Sunflower Mandala Tattoo,Sunflower Tattoo Meaning,Form Tattoo",
         "image",
         "https://i.pinimg.com/originals/18/de/6c/18de6c81a8637e224c7d63dce1414ceb.jpg",
         "Local save in /data/tattoos",
         "tattoos"
        ],
        [
         9672,
         "1a5050a4-ac82-472c-aeff-3457de8bbee9",
         "Lake Moraine, Banff, Canada",
         "On our Calgary to Vancouver road trip we got to spend time in Banff, Canada. We visited the stunning Lake Moraine as well as Lake Louise and plenty of other of Canada's natural… ",
         7000.0,
         "Travel Mad Mum",
         "Beautiful Places To Travel,Cool Places To Visit,Beautiful Roads,Beautiful Scenery,Wonderful Places,Lac Moraine,Moraine Lake,Lac Louise,Natur Wallpaper",
         "video",
         "https://i.pinimg.com/videos/thumbnails/originals/57/9d/52/579d52242ae5609978c754d393e44e81.0000001.jpg",
         "Local save in /data/travel",
         "travel"
        ],
        [
         3729,
         "ac90f1d2-dc9e-438c-b073-dd48511b80b0",
         "5 + Nature Games for Your Homeschool",
         "Our family would rather spend time outdoors than indoors. We love nature! That said, sometimes mother nature is uncooperative. On these days, it can be fun to pull out some natu… ",
         9000.0,
         "My Little Poppies (Cait Curley, MA/CAGS)",
         "Diy Nature,Theme Nature,Nature Study,Science And Nature,Summer Science,Earth Science,Nature Crafts,Outdoor Education,Outdoor Learning",
         "image",
         "https://i.pinimg.com/originals/d6/3b/1a/d63b1a2a36534ecac5d1fbd0d932403a.jpg",
         "Local save in /data/education",
         "education"
        ],
        [
         7294,
         "9d8409ef-bea7-4133-a021-c58b9c042210",
         "Foolproof Fall Fashion For Men You'll Love",
         "Looking for the coolest fall fashion for men this season? Click to read this article on fall fashion for men to look sharp on LLEGANCE.",
         28000.0,
         "LLEGANCE | Workwear Fashion Woman Advice For Driven Professionals",
         "Fashion 90s,Autumn Fashion,Fashion Ideas,Trendy Fashion,Fashion Photo,Fashion Outfits,Fashion Trends,Urban Fashion Men,Men's Casual Fashion",
         "image",
         "https://i.pinimg.com/originals/4c/bf/2d/4cbf2d6e04d2502612169220553f4cef.jpg",
         "Local save in /data/mens-fashion",
         "mens-fashion"
        ],
        [
         2015,
         "72359164-4419-452c-81cb-74f30a5a26b7",
         "16 Blissful Christmas Table Decor Ideas That You Must See",
         "Take a look at this new collection of Christmas decor featuring 16 Blissful Christmas Table Decor Ideas That You Must See. Happy holidays!",
         616000.0,
         "ArchitectureArtDesigns",
         "Kids Crafts,Christmas Crafts For Kids,Homemade Christmas,Christmas Projects,Holiday Crafts,Christmas Gift Ideas,Preschool Christmas,Tree Crafts,Christmas Inspiration",
         "image",
         "https://i.pinimg.com/originals/5f/70/30/5f7030a35bb8a1491e915fb0ae29bcf5.jpg",
         "Local save in /data/christmas",
         "christmas"
        ],
        [
         4913,
         "4d2d79c6-9ca8-46c9-a38e-931c5d967804",
         "How to Work From Home as an Event Planner",
         "Do you love planning parties? Do you want to work-at-home? This post covers everything you need to know about becoming a home-based event planner!",
         110000.0,
         "The Work at Home Woman",
         "Event Planning Tips,Event Planning Business,Party Planning,Business Ideas,Craft Business,Business Chic,Business Inspiration,Business Goals,Business Opportunities",
         "image",
         "https://i.pinimg.com/originals/4d/a3/a4/4da3a4730418239f1b43ce81fb032c15.jpg",
         "Local save in /data/event-planning",
         "event-planning"
        ],
        [
         2959,
         "439cac4b-18e8-4aaa-88c5-edb26a701111",
         "The Cutest Toilet Paper Crafts",
         "One thing I love about Crafts is how the evolve! These toilet paper rolls are adorable and modern. I love that something as simple as a recycled toilet paper roll can be taken t… ",
         502000.0,
         "CraftGossip.com",
         "Toilet Paper Roll Crafts,Cardboard Crafts,Diy Paper,Paper Crafting,Toilet Paper Rolls,Cardboard Playhouse,Paper Art,Kids Crafts,Toddler Crafts",
         "image",
         "https://i.pinimg.com/originals/c6/cd/0d/c6cd0d04da9cfc11566cfd34eeb1f918.jpg",
         "Local save in /data/diy-and-crafts",
         "diy-and-crafts"
        ],
        [
         2959,
         "439cac4b-18e8-4aaa-88c5-edb26a701111",
         "The Cutest Toilet Paper Crafts",
         "One thing I love about Crafts is how the evolve! These toilet paper rolls are adorable and modern. I love that something as simple as a recycled toilet paper roll can be taken t… ",
         502000.0,
         "CraftGossip.com",
         "Toilet Paper Roll Crafts,Cardboard Crafts,Diy Paper,Paper Crafting,Toilet Paper Rolls,Cardboard Playhouse,Paper Art,Kids Crafts,Toddler Crafts",
         "image",
         "https://i.pinimg.com/originals/c6/cd/0d/c6cd0d04da9cfc11566cfd34eeb1f918.jpg",
         "Local save in /data/diy-and-crafts",
         "diy-and-crafts"
        ],
        [
         9875,
         "782dcbad-ff91-40a6-ba60-216efe29adb7",
         "European Bucket List: 35 Things NOT To Miss When Traveling Europe",
         "35 European bucket list destinations for any traveler heading to Europe. From Cinque Terre, Italy to Iceland - there are so many amazing sites to see in Europe.",
         28000.0,
         "Nicki ",
         "Backpacking Europe,Europe Travel Guide,Travel Guides,Travel Packing,Traveling Europe,Travelling,Travel Backpack,Budget Travel,2 Week Europe Itinerary",
         "image",
         "https://i.pinimg.com/originals/71/04/1a/71041ad83ede43d9665741e719c58a86.jpg",
         "Local save in /data/travel",
         "travel"
        ],
        [
         428,
         "610b3f83-9fe0-469d-946c-d16b577fca71",
         "Fashion Designer Isaac Mizrahi’s Updated 1930s New York City Apartment",
         "Fashion designer Issac Mizrahi’s Greenwich Village home is an amalgamation of three apartments that was 20 years in the making",
         null,
         "Architectural Digest",
         "Modern Art,Contemporary Art,Contemporary Kitchens,Contemporary Bedroom,New York City Apartment,Manhattan Apartment,Art Moderne,Architectural Digest,Painting Inspiration",
         "image",
         "https://i.pinimg.com/originals/f4/6c/54/f46c546a2e480022a42d842b7dca157e.jpg",
         "Local save in /data/art",
         "art"
        ],
        [
         9875,
         "782dcbad-ff91-40a6-ba60-216efe29adb7",
         "European Bucket List: 35 Things NOT To Miss When Traveling Europe",
         "35 European bucket list destinations for any traveler heading to Europe. From Cinque Terre, Italy to Iceland - there are so many amazing sites to see in Europe.",
         28000.0,
         "Nicki ",
         "Backpacking Europe,Europe Travel Guide,Travel Guides,Travel Packing,Traveling Europe,Travelling,Travel Backpack,Budget Travel,2 Week Europe Itinerary",
         "image",
         "https://i.pinimg.com/originals/71/04/1a/71041ad83ede43d9665741e719c58a86.jpg",
         "Local save in /data/travel",
         "travel"
        ],
        [
         428,
         "610b3f83-9fe0-469d-946c-d16b577fca71",
         "Fashion Designer Isaac Mizrahi’s Updated 1930s New York City Apartment",
         "Fashion designer Issac Mizrahi’s Greenwich Village home is an amalgamation of three apartments that was 20 years in the making",
         null,
         "Architectural Digest",
         "Modern Art,Contemporary Art,Contemporary Kitchens,Contemporary Bedroom,New York City Apartment,Manhattan Apartment,Art Moderne,Architectural Digest,Painting Inspiration",
         "image",
         "https://i.pinimg.com/originals/f4/6c/54/f46c546a2e480022a42d842b7dca157e.jpg",
         "Local save in /data/art",
         "art"
        ],
        [
         1371,
         "33e92ac1-73d1-4c31-9892-d5e633060790",
         "How To Do Makeup - Step By Step Tips For The Perfect Look",
         "What are the basic things you need for makeup? Let’s be honest, ladies; all women can do makeup, yet not all women know how to do makeup right. The good news is, this post can t… ",
         799000.0,
         "Glaminati",
         "Contouring Makeup,Skin Makeup,Beauty Makeup,Makeup Brushes,Eyeliner Makeup,Makeup Tips Lips,Makeup 101,Cheap Makeup,Rosa Eyeliner",
         "image",
         "https://i.pinimg.com/originals/2c/1a/d4/2c1ad45b5c54034a2dbc73c84a89f5e4.jpg",
         "Local save in /data/beauty",
         "beauty"
        ],
        [
         3800,
         "d2c367ed-9287-4ea3-b173-198b292d9981",
         "Reinforcing the Difficult Child When Token Boards Don't Work!",
         "behavior, special education, token boards, when token boards don't work, money token systems",
         11000.0,
         "Traci Bender - The Bender Bunch",
         "Special Education Behavior,Classroom Behavior Management,Behavior Plans,Behaviour Management,Behavior Charts,Behavior Board,Behavior Report,Behavior Analyst,Preschool Special Education",
         "image",
         "https://i.pinimg.com/originals/24/f9/e2/24f9e22ada4a79c61432ef6c8fe1d0f9.jpg",
         "Local save in /data/education",
         "education"
        ],
        [
         3454,
         "46bd3f86-b09d-4e29-9033-7ff2df595e51",
         "What can you use to color resin?",
         "HELPFUL RESOURCES – Check out my resin colorants resources page here with links to all the products mentioned in this article (and more). Let me know if you have any that you lo… ",
         6000.0,
         "Mixed Media Crafts",
         "Epoxy Resin Art,Diy Resin Art,Diy Resin Crafts,Resin Molds,Ice Resin,Resin Pour,Diy Epoxy,Diy Resin Painting,Diy Resin Dice",
         "image",
         "https://i.pinimg.com/originals/d4/12/78/d4127833023ca32600571ddca16f1556.jpg",
         "Local save in /data/diy-and-crafts",
         "diy-and-crafts"
        ],
        [
         3454,
         "46bd3f86-b09d-4e29-9033-7ff2df595e51",
         "What can you use to color resin?",
         "HELPFUL RESOURCES – Check out my resin colorants resources page here with links to all the products mentioned in this article (and more). Let me know if you have any that you lo… ",
         6000.0,
         "Mixed Media Crafts",
         "Epoxy Resin Art,Diy Resin Art,Diy Resin Crafts,Resin Molds,Ice Resin,Resin Pour,Diy Epoxy,Diy Resin Painting,Diy Resin Dice",
         "image",
         "https://i.pinimg.com/originals/d4/12/78/d4127833023ca32600571ddca16f1556.jpg",
         "Local save in /data/diy-and-crafts",
         "diy-and-crafts"
        ],
        [
         6398,
         "ea44d318-2ced-4cf8-a66f-a6a036b84faa",
         "My master bathroom makeover with @flooranddecor ! Follow me on Instagram @Mojisstyle for more",
         null,
         117000.0,
         "MojisStyle",
         "Decor Home Living Room,Home And Living,Diy Bedroom Decor,Home Decor,Bathroom Interior Design,Interior Design Living Room,Dream Home Design,House Design,Beautiful Bathrooms",
         "multi-video(story page format)",
         "https://i.pinimg.com/videos/thumbnails/originals/75/48/3b/75483b74822855519ec8b40df4c670ef.0000001.jpg",
         "Local save in /data/home-decor",
         "home-decor"
        ],
        [
         5730,
         "1e1f0c8b-9fcf-460b-9154-c775827206eb",
         "Island Oasis Coupon Organizer",
         "Description Coupon Organizer in a fun colorful fabric -island oasis, Great Size for the \"basic\" couponer - holds up to 500 coupons with ease, and is made long enough so that you… ",
         0.0,
         "Consuelo Aguirre",
         "Grocery Items,Grocery Coupons,Care Organization,Coupon Organization,Extreme Couponing,Couponing 101,Life Binder,Save My Money,Love Coupons",
         "image",
         "https://i.pinimg.com/originals/65/bb/ea/65bbeaf458907bb079317d8303c4fa0e.jpg",
         "Local save in /data/finance",
         "finance"
        ],
        [
         5730,
         "1e1f0c8b-9fcf-460b-9154-c775827206eb",
         "Island Oasis Coupon Organizer",
         "Description Coupon Organizer in a fun colorful fabric -island oasis, Great Size for the \"basic\" couponer - holds up to 500 coupons with ease, and is made long enough so that you… ",
         0.0,
         "Consuelo Aguirre",
         "Grocery Items,Grocery Coupons,Care Organization,Coupon Organization,Extreme Couponing,Couponing 101,Life Binder,Save My Money,Love Coupons",
         "image",
         "https://i.pinimg.com/originals/65/bb/ea/65bbeaf458907bb079317d8303c4fa0e.jpg",
         "Local save in /data/finance",
         "finance"
        ],
        [
         5730,
         "1e1f0c8b-9fcf-460b-9154-c775827206eb",
         "Island Oasis Coupon Organizer",
         "Description Coupon Organizer in a fun colorful fabric -island oasis, Great Size for the \"basic\" couponer - holds up to 500 coupons with ease, and is made long enough so that you… ",
         0.0,
         "Consuelo Aguirre",
         "Grocery Items,Grocery Coupons,Care Organization,Coupon Organization,Extreme Couponing,Couponing 101,Life Binder,Save My Money,Love Coupons",
         "image",
         "https://i.pinimg.com/originals/65/bb/ea/65bbeaf458907bb079317d8303c4fa0e.jpg",
         "Local save in /data/finance",
         "finance"
        ],
        [
         10552,
         "17301b8c-ccbb-42ad-b2df-3876df35b1cd",
         "The Prowler Emergency Response Vehicle",
         "January 23, 2009 We can see emergency responders queueing up for this one. ATVCorp has created versions of its Prowler Light Tactical All Terrain Vehicle (LTATV) for fire-fighti… ",
         314.0,
         "p hump",
         "Army Vehicles,Armored Vehicles,Go Kart Buggy,Atv Attachments,Aviation Fuel,Special Forces,Special Ops,Terrain Vehicle,Emergency Response",
         "image",
         "https://i.pinimg.com/originals/14/6b/6b/146b6b1a1127773f7046e08550e68ed0.jpg",
         "Local save in /data/vehicles",
         "vehicles"
        ],
        [
         603,
         "78e21a64-53b0-4745-8294-e8c456f0ccc1",
         "How to Create Alcohol Ink Rings For Gorgeous Pieces of Art -",
         "Learn to create alcohol ink rings for gorgeous pieces of art. Each ring sits on top of another, giving a multilayered appearance",
         7000.0,
         "Kim Cook-Thirteen Chairs-Slates Mugs And Tees",
         "Alcohol Ink Tiles,Alcohol Ink Glass,Alcohol Ink Crafts,Alcohol Ink Painting,Pour Painting,Zealand Tattoo,Copics,Types Of Art,Art Techniques",
         "image",
         "https://i.pinimg.com/originals/03/03/1f/03031fdc9775d0c06f61d68e51362379.png",
         "Local save in /data/art",
         "art"
        ],
        [
         719,
         "d7c53e34-9540-4f48-a31b-89b6ed1852bb",
         "10 Art Sub Lessons that only need a Pencil",
         "10 art sub lessons that only need a pencil. Cover lessons for art teachers. Make the perfect art sub lessson folder with this amazing resources.",
         25000.0,
         "The Arty Teacher",
         "Art Lessons For Kids,Art Lessons Elementary,Art For Kids,Art Sub Plans,Art Lesson Plans,Art Substitute Plans,High School Art,Middle School Art,Primary School Art",
         "image",
         "https://i.pinimg.com/originals/ee/a8/78/eea878911033897d981a69d9f6b2fb7c.png",
         "Local save in /data/art",
         "art"
        ],
        [
         2074,
         "86ed09a7-842d-496d-9501-010c654eb340",
         "35 Christmas Decorating Ideas We Bet You Haven't Thought Of",
         "20 Christmas Decorating Ideas We Bet You Haven't Thought Of via @PureWow",
         868000.0,
         "PureWow",
         "Holiday Centerpieces,Xmas Decorations,Centerpiece Ideas,Table Centerpieces,Valentine Decorations,Wedding Centerpieces,Outdoor Decorations,Christmas Centerpieces With Candles,Christmas Dining Table Decorations",
         "image",
         "https://i.pinimg.com/originals/e9/b9/f0/e9b9f01cc3b2cf41948b45854335396c.jpg",
         "Local save in /data/christmas",
         "christmas"
        ],
        [
         2074,
         "86ed09a7-842d-496d-9501-010c654eb340",
         "35 Christmas Decorating Ideas We Bet You Haven't Thought Of",
         "20 Christmas Decorating Ideas We Bet You Haven't Thought Of via @PureWow",
         868000.0,
         "PureWow",
         "Holiday Centerpieces,Xmas Decorations,Centerpiece Ideas,Table Centerpieces,Valentine Decorations,Wedding Centerpieces,Outdoor Decorations,Christmas Centerpieces With Candles,Christmas Dining Table Decorations",
         "image",
         "https://i.pinimg.com/originals/e9/b9/f0/e9b9f01cc3b2cf41948b45854335396c.jpg",
         "Local save in /data/christmas",
         "christmas"
        ],
        [
         831,
         "5e65914d-9f58-4ff1-9676-658e426e8ce5",
         "creating mixed-media faces tutorial",
         "Free quick inspirational video on creating a mixed media face with acrylic, collage, stenciling and simple techniques. Come on over to watch",
         27000.0,
         "Shawn Petite",
         "Collage Kunst,Paper Collage Art,Collage Art Mixed Media,Mixed Media Painting,Mixed Media Canvas,Canvas Collage,Art Collages,Wall Canvas,Canvas Art",
         "video",
         "https://i.pinimg.com/videos/thumbnails/originals/05/86/a4/0586a4116e1fc34efc25e064ccd123e8.0000001.jpg",
         "Local save in /data/art",
         "art"
        ],
        [
         1545,
         "0c629541-cc5b-4b61-bd3f-613346893258",
         "Oil Cleansing Method: What it is and why you should do it.",
         "The oil cleansing method is a simple, natural way to have clean skin without using toxic chemicals. It will leave your face radiant and soft!",
         85000.0,
         "Thank Your Body",
         "Beauty Care,Diy Beauty,Beauty Hacks,Beauty Shop,Oil Cleansing Method,Goji,Korean Skincare Routine,Homemade Beauty Products,Organic Beauty",
         "image",
         "https://i.pinimg.com/originals/2c/1c/da/2c1cda7da86ee711536bbacfe89c75c9.jpg",
         "Local save in /data/beauty",
         "beauty"
        ],
        [
         205,
         "f4afd543-b9fe-44c3-8064-f2198faa1372",
         "DIY Abstract Heart Painting and a Fun Paint Party",
         "Use our easy step by step tutorial to create a DIY abstract heart painting on any canvas size. Lots of inspiration to help you choose colors.",
         410000.0,
         "The Creativity Exchange",
         "Painting & Drawing,Watercolor Paintings,Original Paintings,Owl Watercolor,Acrylic Paintings,Owl Art,Bird Art,Beginner Painting,Animal Paintings",
         "image",
         "https://i.pinimg.com/originals/33/85/f8/3385f82ee5e8ecdcccdf798bdcbee3d2.jpg",
         "Local save in /data/art",
         "art"
        ],
        [
         808,
         "23f67e42-db9f-4aae-8b82-cbec64ad9f4d",
         "Chalk Pastel Hot Chocolate Art Project",
         "Kids will use chalk pastels and black paper to create this bold and bright hot chocolate art project! Easy to follow tutorial included.",
         20000.0,
         "Projects with Kids",
         "Hot Chocolate Art,Chocolate Crafts,Art Activities For Kids,Preschool Art,Preschool Winter,Christmas Activities,Winter Art Projects,Clay Art Projects,Chalk Pastel Art",
         "image",
         "https://i.pinimg.com/originals/5a/d3/82/5ad38202cf8acb022cb8f46ce2a78ad6.jpg",
         "Local save in /data/art",
         "art"
        ],
        [
         1555,
         "1f20551b-a21c-4ff0-b20d-49e95fdc50d3",
         "Skin Purging: Die Pflegemethode für reine Haut | ELLE",
         "Skin Purging sorgt für die reinste Haut, die du jemals hattest #skin äpurging #skinpurging #skincare #hautpflege #schönehaut #haut #beauty #tips",
         326000.0,
         "ELLE Germany",
         "Natural Hair Mask,Natural Hair Styles,Natural Beauty,Skin Tag,How To Apply Makeup,Pimples,Beauty Routines,Skincare Routine,Glowing Skin",
         "image",
         "https://i.pinimg.com/originals/93/b2/7b/93b27be044b2fd2f227f30a7f2c2faf2.jpg",
         "Local save in /data/beauty",
         "beauty"
        ],
        [
         5468,
         "91ee49f6-0070-4270-ba19-fde88ba51c91",
         "Budgets, Spouses & Making It Work! - Tshanina Peterson",
         "Don't fight about budgets and money with your spouse! Here are a few tips that we've found that make it work in our marriage!",
         313.0,
         "Annamarie Hilton",
         "Ways To Save Money,Money Tips,Money Saving Tips,How To Make Money,Managing Money,Saving Time,College Fund,Scholarships For College,Education College",
         "image",
         "https://i.pinimg.com/originals/37/d5/82/37d58296bcef3471a633c76b89d8625e.jpg",
         "Local save in /data/finance",
         "finance"
        ],
        [
         7790,
         "9cd89fb9-d1af-4e66-85ca-c9d656c918b4",
         "50 Heart Touching Sad Quotes That Will Make You Cry",
         "Are you looking for some heart touching sad quotes and sayings; Here we have collected for you 50 best heart touching sad quotes..",
         112.0,
         "AnnaLee Kick",
         "Crush Quotes For Girls,Sad Crush Quotes,Hurt Quotes,Love Me Quotes,Mood Quotes,Quotes To Live By,Life Quotes,Quotes Quotes,Sad Quotes That Make You Cry",
         "image",
         "https://i.pinimg.com/originals/0c/0f/40/0c0f408d96458080e0c82adb50be8e8f.jpg",
         "Local save in /data/quotes",
         "quotes"
        ],
        [
         1422,
         "7bbe860c-a739-4ba9-babd-feb24bb6e4d9",
         "41 Life-Saving Beauty Hacks Every Girl Should Have In Her Arsenal",
         "Might try this... I'm generally skeptical about at-home remedies, but I know baking soda and lemons both do wonders. More",
         null,
         "BuzzFeed",
         "Baking Soda Lemon Juice,Diy Beauté,Tips Belleza,Belleza Natural,Health And Beauty Tips,Beauty Secrets,Beauty Advice,Diy Beauty Tips,Beauty Life Hacks",
         "image",
         "https://i.pinimg.com/originals/c8/ab/af/c8abaffc56050f674eef8e65ad684929.jpg",
         "Local save in /data/beauty",
         "beauty"
        ],
        [
         10663,
         "d5208c16-82ae-4fd1-87f0-36e5ef789412",
         "21+ Classic Car Picture of the 1950s - Vintagetopia",
         "There are a lot of options of places to stay so you probably only have to book the initial one so you know the best place to land from the airport",
         171000.0,
         "vintagetopia",
         "Old Classic Cars,Classic Trucks,Old Vintage Cars,Antique Cars,Vintage Trucks,Antique Trucks,Cadillac,Convertible,Mustang",
         "image",
         "https://i.pinimg.com/originals/e9/01/4d/e9014d537dd2b81c606e8466cef3904c.jpg",
         "Local save in /data/vehicles",
         "vehicles"
        ],
        [
         2863,
         "9bf39437-42a6-4f02-99a0-9a0383d8cd70",
         "25 Super Fun Summer Crafts for Kids - Of Life and Lisa",
         "Keep the kids busy this summer with these easy diy crafts and projects. Creative and…",
         124000.0,
         "Of Life & Lisa | Lifestyle Blog",
         "Summer Crafts For Kids,Fun Crafts For Kids,Summer Kids,Toddler Crafts,Crafts To Do,Diy For Kids,Summer Snow,Diys For Summer,Craft Ideas For Girls",
         "image",
         "https://i.pinimg.com/originals/b3/bc/e2/b3bce2964e8c8975387b39660eed5f16.jpg",
         "Local save in /data/diy-and-crafts",
         "diy-and-crafts"
        ],
        [
         2863,
         "9bf39437-42a6-4f02-99a0-9a0383d8cd70",
         "25 Super Fun Summer Crafts for Kids - Of Life and Lisa",
         "Keep the kids busy this summer with these easy diy crafts and projects. Creative and…",
         124000.0,
         "Of Life & Lisa | Lifestyle Blog",
         "Summer Crafts For Kids,Fun Crafts For Kids,Summer Kids,Toddler Crafts,Crafts To Do,Diy For Kids,Summer Snow,Diys For Summer,Craft Ideas For Girls",
         "image",
         "https://i.pinimg.com/originals/b3/bc/e2/b3bce2964e8c8975387b39660eed5f16.jpg",
         "Local save in /data/diy-and-crafts",
         "diy-and-crafts"
        ],
        [
         2863,
         "9bf39437-42a6-4f02-99a0-9a0383d8cd70",
         "25 Super Fun Summer Crafts for Kids - Of Life and Lisa",
         "Keep the kids busy this summer with these easy diy crafts and projects. Creative and…",
         124000.0,
         "Of Life & Lisa | Lifestyle Blog",
         "Summer Crafts For Kids,Fun Crafts For Kids,Summer Kids,Toddler Crafts,Crafts To Do,Diy For Kids,Summer Snow,Diys For Summer,Craft Ideas For Girls",
         "image",
         "https://i.pinimg.com/originals/b3/bc/e2/b3bce2964e8c8975387b39660eed5f16.jpg",
         "Local save in /data/diy-and-crafts",
         "diy-and-crafts"
        ],
        [
         8653,
         "24b1343c-4d86-4705-8ec9-7f1f2df2d77e",
         "Unique Women Tattoos Ideas 2020",
         "We welcome you to our latest collection of Beautiful Tattoo Ideas For Women. Check out and get inspired by the most beautiful design for yourself.",
         21000.0,
         "ALL FOR WOMAN",
         "Small Back Tattoos,Small Girl Tattoos,Little Tattoos,Tattoo Girls,Mini Tattoos,Tattoo Small,Back Tattoo Women,Tattoo On Back,Girl Back Tattoos",
         "image",
         "https://i.pinimg.com/originals/fa/cf/7c/facf7cd752a4bc7c09faaa8925ab80b1.jpg",
         "Local save in /data/tattoos",
         "tattoos"
        ],
        [
         2923,
         "52fa3af5-24a4-4ccb-8f17-9c3eb12327ee",
         "UFO Paper Plate Craft",
         "A fun space activity for kids. Preshoolers and kindergartners will love making their own alien spacecraft!",
         192000.0,
         "The Crafting Chicks",
         "Paper Plate Crafts For Kids,Fun Crafts For Kids,Summer Crafts,Toddler Crafts,Art For Kids,Outer Space Crafts For Kids,Kid Crafts,Space Kids,Back To School Crafts For Kids",
         "image",
         "https://i.pinimg.com/originals/6f/e8/aa/6fe8aa405513c6d2f77b5f47d17cdce8.jpg",
         "Local save in /data/diy-and-crafts",
         "diy-and-crafts"
        ],
        [
         2923,
         "52fa3af5-24a4-4ccb-8f17-9c3eb12327ee",
         "UFO Paper Plate Craft",
         "A fun space activity for kids. Preshoolers and kindergartners will love making their own alien spacecraft!",
         192000.0,
         "The Crafting Chicks",
         "Paper Plate Crafts For Kids,Fun Crafts For Kids,Summer Crafts,Toddler Crafts,Art For Kids,Outer Space Crafts For Kids,Kid Crafts,Space Kids,Back To School Crafts For Kids",
         "image",
         "https://i.pinimg.com/originals/6f/e8/aa/6fe8aa405513c6d2f77b5f47d17cdce8.jpg",
         "Local save in /data/diy-and-crafts",
         "diy-and-crafts"
        ],
        [
         9936,
         "1f3154a6-13f0-4049-8d5c-faea15b9f07c",
         "Chasing Waterfalls in Costa Rica",
         "Volcanoes, hikes, and hot springs in Costa Rica! The ultimate 5 day travel itinerary. - #costarica #travel #blogging #blog #bucketlist",
         22000.0,
         "Jess Wandering",
         "Costa Rica Reisen,Costa Rica Travel,Vacation Places,Dream Vacations,Vacation Spots,Vacation Food,Vacation Ideas,Voyage Dubai,Beautiful Places To Travel",
         "image",
         "https://i.pinimg.com/originals/60/fe/4c/60fe4c3602e8e50e2e9f787ed27d2aba.jpg",
         "Local save in /data/travel",
         "travel"
        ],
        [
         7768,
         "ae1a61f6-d958-40fe-ba93-6a78b3a73178",
         "16 Motivational Quotes Get You Inspired Today - Boss Babe Chronicles",
         "motivation quotes",
         45000.0,
         "Boss Babe Chronicles | Personal Development, Finances, Self Care",
         "Motivacional Quotes,Motivational Quotes For Life,Uplifting Quotes,True Quotes,Words Quotes,Empowering Quotes,Boss Up Quotes,Inspirational Success Quotes,Boss Babe Quotes Work Hard",
         "image",
         "https://i.pinimg.com/originals/ee/b4/bc/eeb4bccdb074edb787ea61711e0c4dfd.jpg",
         "Local save in /data/quotes",
         "quotes"
        ],
        [
         1268,
         "e2f2cec5-cda5-42b2-ab9d-6dddf863e94e",
         "Janet on Twitter",
         "Here’s how to get long-lasting makeup, so you can do your face in the morning and be set for the entire day. Follow these makeup tips for foundation, lipstick and more using pro… ",
         3000.0,
         "Tony",
         "Beauty Makeup,Eye Makeup,Diy Beauty,Beauty Ideas,Beauty Skin,Homemade Beauty,Wolf Makeup,Oily Skin Makeup,Face Beauty",
         "image",
         "https://i.pinimg.com/originals/d9/d1/3b/d9d13b9ac47d54940f05a75345a873d4.jpg",
         "Local save in /data/beauty",
         "beauty"
        ],
        [
         46,
         "19234073-8905-4885-b0d5-98e0b84cbf27",
         "10 Watercolor Hacks For Beginners | Tips and Tricks to Making Watercolor Painting Easier",
         "Mountain monologue watercolor",
         27000.0,
         "It's me, JD | DIY, Crafts, Home & Organization",
         "Arte Inspo,Kunst Inspo,Watercolor Artists,Watercolor Ideas,Simple Watercolor,Tattoo Watercolor,Watercolor Techniques,Watercolor Animals,Watercolor Illustration",
         "image",
         "https://i.pinimg.com/originals/fd/54/89/fd548935dcb13545120a2115baaa41d9.jpg",
         "Local save in /data/art",
         "art"
        ],
        [
         5309,
         "c38bb47b-9584-4fc4-af0d-a31e1061df41",
         "How to Watch Your Favorite Shows Without Cable",
         "How to Get Rid of Cable and Still Watch all of your favorite shows! Saving Money Tips for TV & Cable!",
         330000.0,
         "Passion For Savings",
         "Ways To Save Money,Money Tips,Money Saving Tips,Money Hacks,Managing Money,Cable Tv Alternatives,Budget Planer,Financial Tips,Financial Planning",
         "image",
         "https://i.pinimg.com/originals/c9/18/be/c918be2784382dc49010719bf1742a61.jpg",
         "Local save in /data/finance",
         "finance"
        ],
        [
         9546,
         "efd5b2d6-2f69-40cd-bb59-41f18c089e52",
         "20 Amazing Trips to Take in Your Twenties!",
         "The best trips to take when you are young!",
         89000.0,
         "The World Pursuit Travel Website",
         "Fun Places To Go,Beautiful Places To Travel,Best Places To Travel,Travel Jobs,Holiday Places,Future Travel,Travel Around The World,Adventure Travel,Travel Photos",
         "video",
         "https://i.pinimg.com/videos/thumbnails/originals/81/97/c1/8197c1beef8bcb19bea5d8b422211f34.0000001.jpg",
         "Local save in /data/travel",
         "travel"
        ],
        [
         5630,
         "d41e703c-c97c-4c5a-9f9c-338982ca7504",
         "7 Insanely Useful Money Management Worksheets",
         "Get your personal finance in order with these 8 fr…",
         46000.0,
         "R.J. Weiss at The Ways To Wealth | Personal Finance | Debt Payoff",
         "Ways To Save Money,Money Tips,Money Saving Tips,Money Budget,Saving Ideas,Budgeting Finances,Budgeting Tips,Planning Budget,Budget Planer",
         "image",
         "https://i.pinimg.com/originals/f1/4f/cc/f14fcc75ee73ff22c983bdce70c022e2.jpg",
         "Local save in /data/finance",
         "finance"
        ],
        [
         8731,
         "ea760f71-febf-4023-b592-d17396659039",
         "20 Koi Fish Tattoos For Lucky Men",
         "Koi fish tattoos are a popular choice for men who want to make a statement, thanks to their rich symbolism and bold design.",
         211000.0,
         "TheTrendSpotter",
         "Dr Tattoo,Wörter Tattoos,Pisces Tattoos,Tatoo Art,Dream Tattoos,Dope Tattoos,Mini Tattoos,Finger Tattoos,Body Art Tattoos",
         "image",
         "https://i.pinimg.com/originals/8a/0c/0a/8a0c0a7b6236565c519acd41ad1a52c0.jpg",
         "Local save in /data/tattoos",
         "tattoos"
        ],
        [
         8731,
         "ea760f71-febf-4023-b592-d17396659039",
         "20 Koi Fish Tattoos For Lucky Men",
         "Koi fish tattoos are a popular choice for men who want to make a statement, thanks to their rich symbolism and bold design.",
         211000.0,
         "TheTrendSpotter",
         "Dr Tattoo,Wörter Tattoos,Pisces Tattoos,Tatoo Art,Dream Tattoos,Dope Tattoos,Mini Tattoos,Finger Tattoos,Body Art Tattoos",
         "image",
         "https://i.pinimg.com/originals/8a/0c/0a/8a0c0a7b6236565c519acd41ad1a52c0.jpg",
         "Local save in /data/tattoos",
         "tattoos"
        ],
        [
         8731,
         "ea760f71-febf-4023-b592-d17396659039",
         "20 Koi Fish Tattoos For Lucky Men",
         "Koi fish tattoos are a popular choice for men who want to make a statement, thanks to their rich symbolism and bold design.",
         211000.0,
         "TheTrendSpotter",
         "Dr Tattoo,Wörter Tattoos,Pisces Tattoos,Tatoo Art,Dream Tattoos,Dope Tattoos,Mini Tattoos,Finger Tattoos,Body Art Tattoos",
         "image",
         "https://i.pinimg.com/originals/8a/0c/0a/8a0c0a7b6236565c519acd41ad1a52c0.jpg",
         "Local save in /data/tattoos",
         "tattoos"
        ],
        [
         8304,
         "5b6d0913-25e4-43ab-839d-85d5516f78a4",
         "The #1 Reason You’re Not His Priority Anymore - Matthew Coast",
         "#lovequotes #matchmaker #matchmadeinheaven #loveyourself #respectyourself",
         51000.0,
         "Commitment Connection",
         "Wise Quotes,Quotable Quotes,Words Quotes,Wise Words,Quotes To Live By,Great Quotes,Motivational Quotes,Inspirational Quotes,Funny Quotes",
         "image",
         "https://i.pinimg.com/originals/c6/64/ee/c664ee71524fb5a6e7b7b49233f93b43.png",
         "Local save in /data/quotes",
         "quotes"
        ],
        [
         8304,
         "5b6d0913-25e4-43ab-839d-85d5516f78a4",
         "The #1 Reason You’re Not His Priority Anymore - Matthew Coast",
         "#lovequotes #matchmaker #matchmadeinheaven #loveyourself #respectyourself",
         51000.0,
         "Commitment Connection",
         "Wise Quotes,Quotable Quotes,Words Quotes,Wise Words,Quotes To Live By,Great Quotes,Motivational Quotes,Inspirational Quotes,Funny Quotes",
         "image",
         "https://i.pinimg.com/originals/c6/64/ee/c664ee71524fb5a6e7b7b49233f93b43.png",
         "Local save in /data/quotes",
         "quotes"
        ],
        [
         8304,
         "5b6d0913-25e4-43ab-839d-85d5516f78a4",
         "The #1 Reason You’re Not His Priority Anymore - Matthew Coast",
         "#lovequotes #matchmaker #matchmadeinheaven #loveyourself #respectyourself",
         51000.0,
         "Commitment Connection",
         "Wise Quotes,Quotable Quotes,Words Quotes,Wise Words,Quotes To Live By,Great Quotes,Motivational Quotes,Inspirational Quotes,Funny Quotes",
         "image",
         "https://i.pinimg.com/originals/c6/64/ee/c664ee71524fb5a6e7b7b49233f93b43.png",
         "Local save in /data/quotes",
         "quotes"
        ],
        [
         7554,
         "c6fa12f4-0d4a-4b07-a335-5bf9f37f8281",
         "Craig Style",
         "imgentleboss: “ - More about men’s fashion at @Gentleboss - GB’s Facebook - ”",
         940.0,
         "iElylike ..✿◕‿◕✿ஐ✿◕‿◕✿",
         "Mens Fashion Blog,Look Fashion,Autumn Fashion,Fashion News,Fashion Sale,80s Fashion,Paris Fashion,Runway Fashion,Fashion Trends",
         "image",
         "https://i.pinimg.com/originals/e7/6e/8e/e76e8ed6cc838b84a934c6948a5caff7.jpg",
         "Local save in /data/mens-fashion",
         "mens-fashion"
        ],
        [
         7554,
         "c6fa12f4-0d4a-4b07-a335-5bf9f37f8281",
         "Craig Style",
         "imgentleboss: “ - More about men’s fashion at @Gentleboss - GB’s Facebook - ”",
         940.0,
         "iElylike ..✿◕‿◕✿ஐ✿◕‿◕✿",
         "Mens Fashion Blog,Look Fashion,Autumn Fashion,Fashion News,Fashion Sale,80s Fashion,Paris Fashion,Runway Fashion,Fashion Trends",
         "image",
         "https://i.pinimg.com/originals/e7/6e/8e/e76e8ed6cc838b84a934c6948a5caff7.jpg",
         "Local save in /data/mens-fashion",
         "mens-fashion"
        ],
        [
         8887,
         "5df9f6e5-07f5-4ce8-a82e-96586bbc05d8",
         "25 Ultra Sexy Back Tattoo Ideas For Girls",
         "Tattoos are one of the most efficient ways through which one decides to express themselves…",
         4000.0,
         "RapidLeaks",
         "Dream Tattoos,Body Art Tattoos,New Tattoos,Small Tattoos,Cross Tattoos,Random Tattoos,Fashion Tattoos,Bird Tattoos,Fitness Tattoos",
         "image",
         "https://i.pinimg.com/originals/ab/8e/50/ab8e505b04d4abc8f23e273c15f8a65d.jpg",
         "Local save in /data/tattoos",
         "tattoos"
        ],
        [
         10509,
         "6a5f0e7e-1389-4e54-942f-4cb69f09f140",
         "Flying Car",
         null,
         89000.0,
         "TheSuperBOO!",
         "Electric Off Road Vehicle,Cool Illusions,Flying Vehicles,Wow Video,Art And Craft Videos,Top Luxury Cars,Chevy Muscle Cars,Street Racing Cars,Funny Videos Clean",
         "multi-video(story page format)",
         "https://i.pinimg.com/videos/thumbnails/originals/4a/d4/96/4ad4961606179854f1141a90f50f002c.0000001.jpg",
         "Local save in /data/vehicles",
         "vehicles"
        ],
        [
         1313,
         "44662045-e891-4821-8a19-ebe7eedd371a",
         "Liquid Lash Extensions Mascara",
         "Instantly create the look of lash extensions with this award-winning, best-selling mascara that won't clump, flake or smudge. Available in 3 shades!",
         43000.0,
         "Thrive Causemetics",
         null,
         "video",
         "https://i.pinimg.com/videos/thumbnails/originals/69/84/e2/6984e20f3e262098fa9c0614c3453254.0000001.jpg",
         "Local save in /data/beauty",
         "beauty"
        ],
        [
         1313,
         "44662045-e891-4821-8a19-ebe7eedd371a",
         "Liquid Lash Extensions Mascara",
         "Instantly create the look of lash extensions with this award-winning, best-selling mascara that won't clump, flake or smudge. Available in 3 shades!",
         43000.0,
         "Thrive Causemetics",
         null,
         "video",
         "https://i.pinimg.com/videos/thumbnails/originals/69/84/e2/6984e20f3e262098fa9c0614c3453254.0000001.jpg",
         "Local save in /data/beauty",
         "beauty"
        ],
        [
         1313,
         "44662045-e891-4821-8a19-ebe7eedd371a",
         "Liquid Lash Extensions Mascara",
         "Instantly create the look of lash extensions with this award-winning, best-selling mascara that won't clump, flake or smudge. Available in 3 shades!",
         43000.0,
         "Thrive Causemetics",
         null,
         "video",
         "https://i.pinimg.com/videos/thumbnails/originals/69/84/e2/6984e20f3e262098fa9c0614c3453254.0000001.jpg",
         "Local save in /data/beauty",
         "beauty"
        ],
        [
         10625,
         "d31885b7-742a-4e2a-bbb7-ac5f9d334340",
         "Jaguar Type E",
         "1937 Jaguar SS100 - 2 1/2 Litre Roadster, one of the most sought after pre-war sports cars",
         8000.0,
         "hobbyDB",
         "Jaguar Type E,Jaguar Xk,Jaguar Cars,Jaguar Roadster,Jaguar Sport,Retro Cars,Vintage Cars,Antique Cars,British Sports Cars",
         "image",
         "https://i.pinimg.com/originals/26/81/a7/2681a71bd0c8f7fd0ab79c455338a49a.jpg",
         "Local save in /data/vehicles",
         "vehicles"
        ],
        [
         10625,
         "d31885b7-742a-4e2a-bbb7-ac5f9d334340",
         "Jaguar Type E",
         "1937 Jaguar SS100 - 2 1/2 Litre Roadster, one of the most sought after pre-war sports cars",
         8000.0,
         "hobbyDB",
         "Jaguar Type E,Jaguar Xk,Jaguar Cars,Jaguar Roadster,Jaguar Sport,Retro Cars,Vintage Cars,Antique Cars,British Sports Cars",
         "image",
         "https://i.pinimg.com/originals/26/81/a7/2681a71bd0c8f7fd0ab79c455338a49a.jpg",
         "Local save in /data/vehicles",
         "vehicles"
        ],
        [
         4988,
         "fbdfd355-a356-46c2-a251-301869ae2674",
         "Fun Book Page Crafts - MomAdvice",
         "Fun Book Page Crafts - MomAdvice",
         112000.0,
         "MomAdvice",
         "Harry Potter Wedding,Harry Potter Theme,Wedding Book,Wedding Table,Wedding Ideas,Wedding Vintage,Garden Wedding,Vintage Party,Wedding Paper",
         "image",
         "https://i.pinimg.com/originals/17/55/87/175587b334e71c12300453b8b4b4c6aa.jpg",
         "Local save in /data/event-planning",
         "event-planning"
        ],
        [
         9590,
         "b849e976-52f6-45d7-8b25-51559318f167",
         "Top 20 Things To See And Do In Ireland",
         "Best spots to see for travel through Ireland!",
         130000.0,
         "Fun Life Crisis",
         "Vacation Ideas,Vacation Spots,Emerald Isle,London England,Travel Guides,Travel Tips,Travel Hacks,Travel Packing,Places To Travel",
         "image",
         "https://i.pinimg.com/originals/c7/50/d3/c750d36524856873d64406652d69b4fb.png",
         "Local save in /data/travel",
         "travel"
        ],
        [
         6844,
         "69c3f268-274f-44bd-9cb4-427e64fefc44",
         "♔the-fashman♔",
         "billy-george: “Summer styles ”",
         377.0,
         "Au'vey Smith",
         "Fashion Week Hommes,La Fashion Week,Fashion Moda,Urban Fashion,Trendy Fashion,Fashion Spring,Fashion 2017,New Mens Fashion,Trendy Clothing",
         "image",
         "https://i.pinimg.com/originals/3c/8c/53/3c8c534cd02334c50047bd3a4feccce9.jpg",
         "Local save in /data/mens-fashion",
         "mens-fashion"
        ],
        [
         1014,
         "9ac94307-bb27-410e-b554-0a0ab6c19847",
         "Hairstyles & Beauty",
         "Untitled",
         0.0,
         "Grecia Perales",
         "Hair Inspo,Hair Inspiration,Motivation Inspiration,Cl Rapper,Foto Glamour,Kreative Portraits,Classy Aesthetic,Pretty Hairstyles,Hair Looks",
         "image",
         "https://i.pinimg.com/originals/af/c4/59/afc459bd6e1fd8f9aef212504afebf3a.jpg",
         "Local save in /data/beauty",
         "beauty"
        ],
        [
         10794,
         "c4bd2577-a7bb-4409-bb7a-17d5ed7e1cf1",
         "TireBuyer",
         "Nissan GT-R. Sick.",
         437.0,
         "Ray Uyemura",
         "Lowrider,Old Vintage Cars,Antique Cars,Austin Martin,Nissan Gtr Black,Jaguar,1959 Cadillac,Cadillac Ct6,Old School Cars",
         "image",
         "https://i.pinimg.com/originals/0d/29/9f/0d299f3df020395aa7ce8387f40fbeed.jpg",
         "Local save in /data/vehicles",
         "vehicles"
        ],
        [
         10794,
         "c4bd2577-a7bb-4409-bb7a-17d5ed7e1cf1",
         "TireBuyer",
         "Nissan GT-R. Sick.",
         437.0,
         "Ray Uyemura",
         "Lowrider,Old Vintage Cars,Antique Cars,Austin Martin,Nissan Gtr Black,Jaguar,1959 Cadillac,Cadillac Ct6,Old School Cars",
         "image",
         "https://i.pinimg.com/originals/0d/29/9f/0d299f3df020395aa7ce8387f40fbeed.jpg",
         "Local save in /data/vehicles",
         "vehicles"
        ],
        [
         1094,
         "6deacdcd-75ed-4dd8-8951-9b77453f38e0",
         "9 colors lazy lipstick - 9 colors lazy lipstick4",
         "9 colors lazy lipstick",
         8000.0,
         "Jiew82633",
         "Nail Inspo,Lazy,Lipstick,How To Apply,Makeup,Colors,Products,Make Up,Lipsticks",
         "image",
         "https://i.pinimg.com/originals/25/cf/8c/25cf8cb74b43ab95591342c2bbe4ecd8.jpg",
         "Local save in /data/beauty",
         "beauty"
        ],
        [
         3089,
         "88f9227e-88d0-4b1c-b0be-bcfc3028b8e2",
         null,
         null,
         null,
         null,
         null,
         "multi-video(story page format)",
         null,
         "Local save in /data/diy-and-crafts",
         "diy-and-crafts"
        ],
        [
         3089,
         "88f9227e-88d0-4b1c-b0be-bcfc3028b8e2",
         null,
         null,
         null,
         null,
         null,
         "multi-video(story page format)",
         null,
         "Local save in /data/diy-and-crafts",
         "diy-and-crafts"
        ],
        [
         7528,
         "fbe53c66-3442-4773-b19e-d3ec6f54dddf",
         null,
         null,
         null,
         null,
         null,
         "multi-video(story page format)",
         null,
         "Local save in /data/mens-fashion",
         "mens-fashion"
        ],
        [
         7528,
         "fbe53c66-3442-4773-b19e-d3ec6f54dddf",
         null,
         null,
         null,
         null,
         null,
         "multi-video(story page format)",
         null,
         "Local save in /data/mens-fashion",
         "mens-fashion"
        ],
        [
         7528,
         "fbe53c66-3442-4773-b19e-d3ec6f54dddf",
         null,
         null,
         null,
         null,
         null,
         "multi-video(story page format)",
         null,
         "Local save in /data/mens-fashion",
         "mens-fashion"
        ]
       ],
       "datasetInfos": [],
       "dbfsResultPath": null,
       "isJsonSchema": true,
       "metadata": {},
       "overflow": false,
       "plotOptions": {
        "customPlotOptions": {},
        "displayType": "table",
        "pivotAggregation": null,
        "pivotColumns": null,
        "xColumns": null,
        "yColumns": null
       },
       "removedWidgets": [],
       "schema": [
        {
         "metadata": "{}",
         "name": "ind",
         "type": "\"long\""
        },
        {
         "metadata": "{}",
         "name": "unique_id",
         "type": "\"string\""
        },
        {
         "metadata": "{}",
         "name": "title",
         "type": "\"string\""
        },
        {
         "metadata": "{}",
         "name": "description",
         "type": "\"string\""
        },
        {
         "metadata": "{}",
         "name": "follower_count",
         "type": "\"double\""
        },
        {
         "metadata": "{}",
         "name": "poster_name",
         "type": "\"string\""
        },
        {
         "metadata": "{}",
         "name": "tag_list",
         "type": "\"string\""
        },
        {
         "metadata": "{}",
         "name": "is_image_or_video",
         "type": "\"string\""
        },
        {
         "metadata": "{}",
         "name": "image_src",
         "type": "\"string\""
        },
        {
         "metadata": "{}",
         "name": "save_location",
         "type": "\"string\""
        },
        {
         "metadata": "{}",
         "name": "category",
         "type": "\"string\""
        }
       ],
       "type": "table"
      }
     },
     "output_type": "display_data"
    },
    {
     "output_type": "display_data",
     "data": {
      "text/html": [
       "<style scoped>\n",
       "  .ansiout {\n",
       "    display: block;\n",
       "    unicode-bidi: embed;\n",
       "    white-space: pre-wrap;\n",
       "    word-wrap: break-word;\n",
       "    word-break: break-all;\n",
       "    font-family: \"Menlo\", \"Monaco\", \"Consolas\", \"Ubuntu Mono\", \"Source Code Pro\", monospace;\n",
       "    font-size: 13px;\n",
       "    color: #555;\n",
       "    margin-left: 4px;\n",
       "    line-height: 19px;\n",
       "  }\n",
       "</style>\n",
       "<div class=\"ansiout\">root\n",
       "-- ind: long (nullable = true)\n",
       "-- unique_id: string (nullable = true)\n",
       "-- title: string (nullable = true)\n",
       "-- description: string (nullable = true)\n",
       "-- follower_count: double (nullable = true)\n",
       "-- poster_name: string (nullable = true)\n",
       "-- tag_list: string (nullable = true)\n",
       "-- is_image_or_video: string (nullable = true)\n",
       "-- image_src: string (nullable = true)\n",
       "-- save_location: string (nullable = true)\n",
       "-- category: string (nullable = true)\n",
       "\n",
       "</div>"
      ]
     },
     "metadata": {
      "application/vnd.databricks.v1+output": {
       "addedWidgets": {},
       "arguments": {},
       "data": "<div class=\"ansiout\">root\n |-- ind: long (nullable = true)\n |-- unique_id: string (nullable = true)\n |-- title: string (nullable = true)\n |-- description: string (nullable = true)\n |-- follower_count: double (nullable = true)\n |-- poster_name: string (nullable = true)\n |-- tag_list: string (nullable = true)\n |-- is_image_or_video: string (nullable = true)\n |-- image_src: string (nullable = true)\n |-- save_location: string (nullable = true)\n |-- category: string (nullable = true)\n\n</div>",
       "datasetInfos": [],
       "metadata": {},
       "removedWidgets": [],
       "type": "html"
      }
     },
     "output_type": "display_data"
    },
    {
     "output_type": "display_data",
     "data": {
      "text/html": [
       "<style scoped>\n",
       "  .table-result-container {\n",
       "    max-height: 300px;\n",
       "    overflow: auto;\n",
       "  }\n",
       "  table, th, td {\n",
       "    border: 1px solid black;\n",
       "    border-collapse: collapse;\n",
       "  }\n",
       "  th, td {\n",
       "    padding: 5px;\n",
       "  }\n",
       "  th {\n",
       "    text-align: left;\n",
       "  }\n",
       "</style><div class='table-result-container'><table class='table-result'><thead style='background-color: white'><tr><th>ind</th><th>country</th><th>coordinates</th><th>timestamp</th></tr></thead><tbody><tr><td>2418</td><td>Antarctica (the territory South of 60 deg S)</td><td>List(-88.4642, -171.061)</td><td>2022-05-27T11:30:59.000+0000</td></tr><tr><td>2418</td><td>Antarctica (the territory South of 60 deg S)</td><td>List(-88.4642, -171.061)</td><td>2022-05-27T11:30:59.000+0000</td></tr><tr><td>10794</td><td>Cocos (Keeling) Islands</td><td>List(-89.5236, -154.567)</td><td>2022-01-01T02:26:50.000+0000</td></tr><tr><td>10794</td><td>Cocos (Keeling) Islands</td><td>List(-89.5236, -154.567)</td><td>2022-01-01T02:26:50.000+0000</td></tr><tr><td>2074</td><td>Central African Republic</td><td>List(-52.3213, -50.11)</td><td>2019-11-03T05:41:59.000+0000</td></tr><tr><td>2074</td><td>Central African Republic</td><td>List(-52.3213, -50.11)</td><td>2019-11-03T05:41:59.000+0000</td></tr><tr><td>2293</td><td>British Virgin Islands</td><td>List(-87.7946, -159.647)</td><td>2022-03-21T10:46:53.000+0000</td></tr><tr><td>10663</td><td>Saint Kitts and Nevis</td><td>List(-27.3474, -162.83)</td><td>2019-07-25T18:53:51.000+0000</td></tr><tr><td>7922</td><td>Antigua and Barbuda</td><td>List(-88.0974, -172.052)</td><td>2021-01-27T09:14:19.000+0000</td></tr><tr><td>8606</td><td>Antigua and Barbuda</td><td>List(-88.0974, -172.052)</td><td>2021-03-28T14:54:07.000+0000</td></tr><tr><td>2604</td><td>Antigua and Barbuda</td><td>List(-80.8933, -104.972)</td><td>2018-12-01T09:23:35.000+0000</td></tr><tr><td>603</td><td>Netherlands Antilles</td><td>List(14.0083, -141.603)</td><td>2019-06-25T05:13:01.000+0000</td></tr><tr><td>9979</td><td>Dominican Republic</td><td>List(14.9967, -120.682)</td><td>2018-07-18T19:01:46.000+0000</td></tr><tr><td>10119</td><td>Christmas Island</td><td>List(-74.5431, -162.795)</td><td>2020-10-22T01:59:58.000+0000</td></tr><tr><td>1704</td><td>Christmas Island</td><td>List(-56.8702, -93.6232)</td><td>2018-11-29T04:46:39.000+0000</td></tr><tr><td>7790</td><td>Papua New Guinea</td><td>List(-43.692, 64.9839)</td><td>2018-07-31T08:19:15.000+0000</td></tr><tr><td>9759</td><td>American Samoa</td><td>List(-77.9744, -106.258)</td><td>2017-12-30T13:05:49.000+0000</td></tr><tr><td>1422</td><td>American Samoa</td><td>List(-88.5252, -172.436)</td><td>2018-04-30T08:27:21.000+0000</td></tr><tr><td>2923</td><td>Cote d'Ivoire</td><td>List(-84.6302, -164.507)</td><td>2019-09-08T22:53:09.000+0000</td></tr><tr><td>2923</td><td>Cote d'Ivoire</td><td>List(-84.6302, -164.507)</td><td>2019-09-08T22:53:09.000+0000</td></tr><tr><td>8304</td><td>French Guiana</td><td>List(-28.8852, -164.87)</td><td>2019-09-13T04:50:29.000+0000</td></tr><tr><td>4315</td><td>Cote d'Ivoire</td><td>List(-45.8508, 66.1003)</td><td>2019-12-15T03:51:28.000+0000</td></tr><tr><td>8304</td><td>French Guiana</td><td>List(-28.8852, -164.87)</td><td>2019-09-13T04:50:29.000+0000</td></tr><tr><td>4315</td><td>Cote d'Ivoire</td><td>List(-45.8508, 66.1003)</td><td>2019-12-15T03:51:28.000+0000</td></tr><tr><td>8578</td><td>Guinea-Bissau</td><td>List(34.6427, -161.397)</td><td>2018-01-26T19:27:11.000+0000</td></tr><tr><td>6844</td><td>New Caledonia</td><td>List(-22.6915, 5.69245)</td><td>2021-06-06T21:53:11.000+0000</td></tr><tr><td>3599</td><td>Afghanistan</td><td>List(-88.5478, -174.971)</td><td>2019-03-03T06:13:41.000+0000</td></tr><tr><td>5069</td><td>Azerbaijan</td><td>List(-63.0063, -157.474)</td><td>2021-03-20T09:32:44.000+0000</td></tr><tr><td>6145</td><td>Mozambique</td><td>List(-65.9079, -143.845)</td><td>2019-12-05T02:09:44.000+0000</td></tr><tr><td>5069</td><td>Azerbaijan</td><td>List(-63.0063, -157.474)</td><td>2021-03-20T09:32:44.000+0000</td></tr><tr><td>6145</td><td>Mozambique</td><td>List(-65.9079, -143.845)</td><td>2019-12-05T02:09:44.000+0000</td></tr><tr><td>4508</td><td>Philippines</td><td>List(69.1858, -76.0761)</td><td>2019-01-04T11:15:27.000+0000</td></tr><tr><td>4988</td><td>Madagascar</td><td>List(-32.1879, -35.2784)</td><td>2020-07-11T11:01:12.000+0000</td></tr><tr><td>427</td><td>Isle of Man</td><td>List(-66.9418, -30.0087)</td><td>2020-04-22T03:08:50.000+0000</td></tr><tr><td>428</td><td>Bangladesh</td><td>List(-83.4105, -150.788)</td><td>2020-09-27T18:46:41.000+0000</td></tr><tr><td>7343</td><td>Australia</td><td>List(-65.4428, -161.684)</td><td>2018-08-06T12:17:07.000+0000</td></tr><tr><td>428</td><td>Bangladesh</td><td>List(-83.4105, -150.788)</td><td>2020-09-27T18:46:41.000+0000</td></tr><tr><td>7343</td><td>Australia</td><td>List(-65.4428, -161.684)</td><td>2018-08-06T12:17:07.000+0000</td></tr><tr><td>8653</td><td>Seychelles</td><td>List(48.4569, -139.658)</td><td>2022-04-11T18:30:19.000+0000</td></tr><tr><td>5468</td><td>Isle of Man</td><td>List(-83.544, 33.9473)</td><td>2020-05-16T23:17:50.000+0000</td></tr><tr><td>8930</td><td>Argentina</td><td>List(-89.4739, -176.154)</td><td>2021-09-29T13:25:49.000+0000</td></tr><tr><td>7294</td><td>Australia</td><td>List(-76.2967, -136.501)</td><td>2018-02-12T08:06:28.000+0000</td></tr><tr><td>771</td><td>Montserrat</td><td>List(-29.1712, -107.111)</td><td>2018-06-21T08:42:57.000+0000</td></tr><tr><td>4076</td><td>Mauritania</td><td>List(-67.2157, 27.8139)</td><td>2019-06-07T20:13:50.000+0000</td></tr><tr><td>10509</td><td>Gibraltar</td><td>List(-67.187, -24.2977)</td><td>2019-03-06T12:21:56.000+0000</td></tr><tr><td>9936</td><td>Australia</td><td>List(-82.1715, -147.691)</td><td>2018-06-30T22:07:13.000+0000</td></tr><tr><td>6566</td><td>Cape Verde</td><td>List(-39.225, -71.6593)</td><td>2020-11-19T10:06:13.000+0000</td></tr><tr><td>5494</td><td>Bulgaria</td><td>List(-82.6768, -129.202)</td><td>2021-07-21T02:02:35.000+0000</td></tr><tr><td>6063</td><td>Anguilla</td><td>List(-89.1797, -174.015)</td><td>2021-07-20T09:02:47.000+0000</td></tr><tr><td>3454</td><td>Cambodia</td><td>List(-0.375174, 49.8106)</td><td>2021-07-25T02:20:29.000+0000</td></tr><tr><td>10625</td><td>Jamaica</td><td>List(-84.4944, -81.0613)</td><td>2018-07-13T11:51:15.000+0000</td></tr><tr><td>9875</td><td>Barbados</td><td>List(-74.3382, -110.484)</td><td>2020-03-20T13:03:18.000+0000</td></tr><tr><td>5494</td><td>Bulgaria</td><td>List(-82.6768, -129.202)</td><td>2021-07-21T02:02:35.000+0000</td></tr><tr><td>6063</td><td>Anguilla</td><td>List(-89.1797, -174.015)</td><td>2021-07-20T09:02:47.000+0000</td></tr><tr><td>3454</td><td>Cambodia</td><td>List(-0.375174, 49.8106)</td><td>2021-07-25T02:20:29.000+0000</td></tr><tr><td>10625</td><td>Jamaica</td><td>List(-84.4944, -81.0613)</td><td>2018-07-13T11:51:15.000+0000</td></tr><tr><td>9875</td><td>Barbados</td><td>List(-74.3382, -110.484)</td><td>2020-03-20T13:03:18.000+0000</td></tr><tr><td>8887</td><td>Botswana</td><td>List(-28.0137, -160.708)</td><td>2021-09-19T05:27:43.000+0000</td></tr><tr><td>4137</td><td>Australia</td><td>List(-55.3079, 108.918)</td><td>2019-06-23T22:16:34.000+0000</td></tr><tr><td>1268</td><td>Argentina</td><td>List(-41.7803, -177.23)</td><td>2019-07-06T04:10:29.000+0000</td></tr><tr><td>5309</td><td>Maldives</td><td>List(-89.4194, -84.2493)</td><td>2020-05-04T22:00:32.000+0000</td></tr><tr><td>7528</td><td>Albania</td><td>List(-89.9787, -173.293)</td><td>2020-08-28T03:52:47.000+0000</td></tr><tr><td>2863</td><td>Armenia</td><td>List(-5.34445, -177.924)</td><td>2020-04-27T13:34:16.000+0000</td></tr><tr><td>5730</td><td>Colombia</td><td>List(-77.015, -101.437)</td><td>2021-04-19T17:37:03.000+0000</td></tr><tr><td>3089</td><td>Albania</td><td>List(-89.9787, -173.293)</td><td>2018-02-28T05:31:29.000+0000</td></tr><tr><td>7528</td><td>Albania</td><td>List(-89.9787, -173.293)</td><td>2020-08-28T03:52:47.000+0000</td></tr><tr><td>2863</td><td>Armenia</td><td>List(-5.34445, -177.924)</td><td>2020-04-27T13:34:16.000+0000</td></tr><tr><td>5730</td><td>Colombia</td><td>List(-77.015, -101.437)</td><td>2021-04-19T17:37:03.000+0000</td></tr><tr><td>3089</td><td>Albania</td><td>List(-89.9787, -173.293)</td><td>2018-02-28T05:31:29.000+0000</td></tr><tr><td>10138</td><td>Austria</td><td>List(-72.142, -74.3545)</td><td>2019-08-03T00:59:29.000+0000</td></tr><tr><td>9546</td><td>Austria</td><td>List(-70.0295, -155.428)</td><td>2018-02-10T06:16:40.000+0000</td></tr><tr><td>2411</td><td>Albania</td><td>List(-71.6856, -179.126)</td><td>2020-11-15T17:10:07.000+0000</td></tr><tr><td>9590</td><td>Algeria</td><td>List(-64.3876, -174.281)</td><td>2019-05-20T19:48:48.000+0000</td></tr><tr><td>5076</td><td>Germany</td><td>List(-70.7195, -91.1935)</td><td>2019-05-05T16:22:23.000+0000</td></tr><tr><td>205</td><td>Barbados</td><td>List(-75.8378, -163.945)</td><td>2020-07-08T14:10:38.000+0000</td></tr><tr><td>1094</td><td>Armenia</td><td>List(-46.7328, -124.445)</td><td>2018-08-19T00:34:20.000+0000</td></tr><tr><td>5630</td><td>Bahrain</td><td>List(-19.1403, -164.987)</td><td>2019-05-12T14:43:19.000+0000</td></tr><tr><td>6398</td><td>Albania</td><td>List(-3.29267, -179.726)</td><td>2020-01-19T01:49:05.000+0000</td></tr><tr><td>46</td><td>Afghanistan</td><td>List(4.21689, -145.82)</td><td>2018-09-15T09:16:57.000+0000</td></tr><tr><td>10552</td><td>Grenada</td><td>List(32.7568, -179.812)</td><td>2020-08-24T11:39:32.000+0000</td></tr><tr><td>1371</td><td>Andorra</td><td>List(-89.4584, -134.271)</td><td>2018-08-08T04:41:17.000+0000</td></tr><tr><td>9074</td><td>Andorra</td><td>List(-84.7363, -179.087)</td><td>2022-04-10T17:06:13.000+0000</td></tr><tr><td>1313</td><td>Maldives</td><td>List(77.0447, 61.9119)</td><td>2018-06-26T02:39:25.000+0000</td></tr><tr><td>2959</td><td>Angola</td><td>List(-68.0095, -157.227)</td><td>2019-08-19T08:22:02.000+0000</td></tr><tr><td>3156</td><td>Armenia</td><td>List(-84.738, -160.795)</td><td>2018-01-13T19:33:49.000+0000</td></tr><tr><td>1313</td><td>Maldives</td><td>List(77.0447, 61.9119)</td><td>2018-06-26T02:39:25.000+0000</td></tr><tr><td>2959</td><td>Angola</td><td>List(-68.0095, -157.227)</td><td>2019-08-19T08:22:02.000+0000</td></tr><tr><td>3156</td><td>Armenia</td><td>List(-84.738, -160.795)</td><td>2018-01-13T19:33:49.000+0000</td></tr><tr><td>719</td><td>Armenia</td><td>List(-38.4062, -154.323)</td><td>2018-10-29T04:05:12.000+0000</td></tr><tr><td>2482</td><td>Bermuda</td><td>List(63.4563, -164.709)</td><td>2019-09-13T08:20:13.000+0000</td></tr><tr><td>808</td><td>Albania</td><td>List(-71.6856, -179.126)</td><td>2019-01-03T15:43:12.000+0000</td></tr><tr><td>1545</td><td>Anguilla</td><td>List(-30.18, -72.3784)</td><td>2022-06-17T05:47:12.000+0000</td></tr><tr><td>2015</td><td>Armenia</td><td>List(-17.629, -177.685)</td><td>2018-09-22T13:52:19.000+0000</td></tr><tr><td>7768</td><td>Algeria</td><td>List(-88.355, -96.0131)</td><td>2018-05-25T21:34:19.000+0000</td></tr><tr><td>3729</td><td>Turkey</td><td>List(-24.4793, -150.145)</td><td>2018-01-17T03:43:38.000+0000</td></tr><tr><td>159</td><td>Andorra</td><td>List(-88.0812, -166.603)</td><td>2017-11-20T21:14:56.000+0000</td></tr><tr><td>7554</td><td>Sudan</td><td>List(-51.2172, -77.9768)</td><td>2019-03-20T03:15:07.000+0000</td></tr><tr><td>7554</td><td>Sudan</td><td>List(-51.2172, -77.9768)</td><td>2019-03-20T03:15:07.000+0000</td></tr><tr><td>4913</td><td>Aruba</td><td>List(-84.3768, -157.544)</td><td>2019-03-08T06:45:39.000+0000</td></tr><tr><td>7166</td><td>Aruba</td><td>List(-86.4063, -136.657)</td><td>2022-07-25T03:07:37.000+0000</td></tr><tr><td>3419</td><td>Bhutan</td><td>List(7.60293, -108.979)</td><td>2021-12-20T05:01:54.000+0000</td></tr><tr><td>1555</td><td>Algeria</td><td>List(-1.7046, -55.332)</td><td>2017-12-24T18:41:23.000+0000</td></tr><tr><td>552</td><td>Lesotho</td><td>List(-80.6043, 31.9601)</td><td>2022-03-14T05:12:07.000+0000</td></tr><tr><td>8731</td><td>Aruba</td><td>List(-83.104, -171.302)</td><td>2020-07-17T04:39:09.000+0000</td></tr><tr><td>8731</td><td>Aruba</td><td>List(-83.104, -171.302)</td><td>2020-07-17T04:39:09.000+0000</td></tr><tr><td>9672</td><td>India</td><td>List(79.4658, -69.4133)</td><td>2019-11-03T13:15:52.000+0000</td></tr><tr><td>831</td><td>Congo</td><td>List(-43.7816, -66.1592)</td><td>2021-06-23T23:16:10.000+0000</td></tr><tr><td>3800</td><td>Aruba</td><td>List(-61.471, -154.912)</td><td>2018-01-27T16:49:07.000+0000</td></tr><tr><td>1014</td><td>Tonga</td><td>List(81.1477, 69.3538)</td><td>2022-02-03T22:05:34.000+0000</td></tr><tr><td>2698</td><td>Egypt</td><td>List(-72.7174, 24.169)</td><td>2021-11-24T08:33:51.000+0000</td></tr></tbody></table></div>"
      ]
     },
     "metadata": {
      "application/vnd.databricks.v1+output": {
       "addedWidgets": {},
       "aggData": [],
       "aggError": "",
       "aggOverflow": false,
       "aggSchema": [],
       "aggSeriesLimitReached": false,
       "aggType": "",
       "arguments": {},
       "columnCustomDisplayInfos": {},
       "data": [
        [
         2418,
         "Antarctica (the territory South of 60 deg S)",
         [
          -88.4642,
          -171.061
         ],
         "2022-05-27T11:30:59.000+0000"
        ],
        [
         2418,
         "Antarctica (the territory South of 60 deg S)",
         [
          -88.4642,
          -171.061
         ],
         "2022-05-27T11:30:59.000+0000"
        ],
        [
         10794,
         "Cocos (Keeling) Islands",
         [
          -89.5236,
          -154.567
         ],
         "2022-01-01T02:26:50.000+0000"
        ],
        [
         10794,
         "Cocos (Keeling) Islands",
         [
          -89.5236,
          -154.567
         ],
         "2022-01-01T02:26:50.000+0000"
        ],
        [
         2074,
         "Central African Republic",
         [
          -52.3213,
          -50.11
         ],
         "2019-11-03T05:41:59.000+0000"
        ],
        [
         2074,
         "Central African Republic",
         [
          -52.3213,
          -50.11
         ],
         "2019-11-03T05:41:59.000+0000"
        ],
        [
         2293,
         "British Virgin Islands",
         [
          -87.7946,
          -159.647
         ],
         "2022-03-21T10:46:53.000+0000"
        ],
        [
         10663,
         "Saint Kitts and Nevis",
         [
          -27.3474,
          -162.83
         ],
         "2019-07-25T18:53:51.000+0000"
        ],
        [
         7922,
         "Antigua and Barbuda",
         [
          -88.0974,
          -172.052
         ],
         "2021-01-27T09:14:19.000+0000"
        ],
        [
         8606,
         "Antigua and Barbuda",
         [
          -88.0974,
          -172.052
         ],
         "2021-03-28T14:54:07.000+0000"
        ],
        [
         2604,
         "Antigua and Barbuda",
         [
          -80.8933,
          -104.972
         ],
         "2018-12-01T09:23:35.000+0000"
        ],
        [
         603,
         "Netherlands Antilles",
         [
          14.0083,
          -141.603
         ],
         "2019-06-25T05:13:01.000+0000"
        ],
        [
         9979,
         "Dominican Republic",
         [
          14.9967,
          -120.682
         ],
         "2018-07-18T19:01:46.000+0000"
        ],
        [
         10119,
         "Christmas Island",
         [
          -74.5431,
          -162.795
         ],
         "2020-10-22T01:59:58.000+0000"
        ],
        [
         1704,
         "Christmas Island",
         [
          -56.8702,
          -93.6232
         ],
         "2018-11-29T04:46:39.000+0000"
        ],
        [
         7790,
         "Papua New Guinea",
         [
          -43.692,
          64.9839
         ],
         "2018-07-31T08:19:15.000+0000"
        ],
        [
         9759,
         "American Samoa",
         [
          -77.9744,
          -106.258
         ],
         "2017-12-30T13:05:49.000+0000"
        ],
        [
         1422,
         "American Samoa",
         [
          -88.5252,
          -172.436
         ],
         "2018-04-30T08:27:21.000+0000"
        ],
        [
         2923,
         "Cote d'Ivoire",
         [
          -84.6302,
          -164.507
         ],
         "2019-09-08T22:53:09.000+0000"
        ],
        [
         2923,
         "Cote d'Ivoire",
         [
          -84.6302,
          -164.507
         ],
         "2019-09-08T22:53:09.000+0000"
        ],
        [
         8304,
         "French Guiana",
         [
          -28.8852,
          -164.87
         ],
         "2019-09-13T04:50:29.000+0000"
        ],
        [
         4315,
         "Cote d'Ivoire",
         [
          -45.8508,
          66.1003
         ],
         "2019-12-15T03:51:28.000+0000"
        ],
        [
         8304,
         "French Guiana",
         [
          -28.8852,
          -164.87
         ],
         "2019-09-13T04:50:29.000+0000"
        ],
        [
         4315,
         "Cote d'Ivoire",
         [
          -45.8508,
          66.1003
         ],
         "2019-12-15T03:51:28.000+0000"
        ],
        [
         8578,
         "Guinea-Bissau",
         [
          34.6427,
          -161.397
         ],
         "2018-01-26T19:27:11.000+0000"
        ],
        [
         6844,
         "New Caledonia",
         [
          -22.6915,
          5.69245
         ],
         "2021-06-06T21:53:11.000+0000"
        ],
        [
         3599,
         "Afghanistan",
         [
          -88.5478,
          -174.971
         ],
         "2019-03-03T06:13:41.000+0000"
        ],
        [
         5069,
         "Azerbaijan",
         [
          -63.0063,
          -157.474
         ],
         "2021-03-20T09:32:44.000+0000"
        ],
        [
         6145,
         "Mozambique",
         [
          -65.9079,
          -143.845
         ],
         "2019-12-05T02:09:44.000+0000"
        ],
        [
         5069,
         "Azerbaijan",
         [
          -63.0063,
          -157.474
         ],
         "2021-03-20T09:32:44.000+0000"
        ],
        [
         6145,
         "Mozambique",
         [
          -65.9079,
          -143.845
         ],
         "2019-12-05T02:09:44.000+0000"
        ],
        [
         4508,
         "Philippines",
         [
          69.1858,
          -76.0761
         ],
         "2019-01-04T11:15:27.000+0000"
        ],
        [
         4988,
         "Madagascar",
         [
          -32.1879,
          -35.2784
         ],
         "2020-07-11T11:01:12.000+0000"
        ],
        [
         427,
         "Isle of Man",
         [
          -66.9418,
          -30.0087
         ],
         "2020-04-22T03:08:50.000+0000"
        ],
        [
         428,
         "Bangladesh",
         [
          -83.4105,
          -150.788
         ],
         "2020-09-27T18:46:41.000+0000"
        ],
        [
         7343,
         "Australia",
         [
          -65.4428,
          -161.684
         ],
         "2018-08-06T12:17:07.000+0000"
        ],
        [
         428,
         "Bangladesh",
         [
          -83.4105,
          -150.788
         ],
         "2020-09-27T18:46:41.000+0000"
        ],
        [
         7343,
         "Australia",
         [
          -65.4428,
          -161.684
         ],
         "2018-08-06T12:17:07.000+0000"
        ],
        [
         8653,
         "Seychelles",
         [
          48.4569,
          -139.658
         ],
         "2022-04-11T18:30:19.000+0000"
        ],
        [
         5468,
         "Isle of Man",
         [
          -83.544,
          33.9473
         ],
         "2020-05-16T23:17:50.000+0000"
        ],
        [
         8930,
         "Argentina",
         [
          -89.4739,
          -176.154
         ],
         "2021-09-29T13:25:49.000+0000"
        ],
        [
         7294,
         "Australia",
         [
          -76.2967,
          -136.501
         ],
         "2018-02-12T08:06:28.000+0000"
        ],
        [
         771,
         "Montserrat",
         [
          -29.1712,
          -107.111
         ],
         "2018-06-21T08:42:57.000+0000"
        ],
        [
         4076,
         "Mauritania",
         [
          -67.2157,
          27.8139
         ],
         "2019-06-07T20:13:50.000+0000"
        ],
        [
         10509,
         "Gibraltar",
         [
          -67.187,
          -24.2977
         ],
         "2019-03-06T12:21:56.000+0000"
        ],
        [
         9936,
         "Australia",
         [
          -82.1715,
          -147.691
         ],
         "2018-06-30T22:07:13.000+0000"
        ],
        [
         6566,
         "Cape Verde",
         [
          -39.225,
          -71.6593
         ],
         "2020-11-19T10:06:13.000+0000"
        ],
        [
         5494,
         "Bulgaria",
         [
          -82.6768,
          -129.202
         ],
         "2021-07-21T02:02:35.000+0000"
        ],
        [
         6063,
         "Anguilla",
         [
          -89.1797,
          -174.015
         ],
         "2021-07-20T09:02:47.000+0000"
        ],
        [
         3454,
         "Cambodia",
         [
          -0.375174,
          49.8106
         ],
         "2021-07-25T02:20:29.000+0000"
        ],
        [
         10625,
         "Jamaica",
         [
          -84.4944,
          -81.0613
         ],
         "2018-07-13T11:51:15.000+0000"
        ],
        [
         9875,
         "Barbados",
         [
          -74.3382,
          -110.484
         ],
         "2020-03-20T13:03:18.000+0000"
        ],
        [
         5494,
         "Bulgaria",
         [
          -82.6768,
          -129.202
         ],
         "2021-07-21T02:02:35.000+0000"
        ],
        [
         6063,
         "Anguilla",
         [
          -89.1797,
          -174.015
         ],
         "2021-07-20T09:02:47.000+0000"
        ],
        [
         3454,
         "Cambodia",
         [
          -0.375174,
          49.8106
         ],
         "2021-07-25T02:20:29.000+0000"
        ],
        [
         10625,
         "Jamaica",
         [
          -84.4944,
          -81.0613
         ],
         "2018-07-13T11:51:15.000+0000"
        ],
        [
         9875,
         "Barbados",
         [
          -74.3382,
          -110.484
         ],
         "2020-03-20T13:03:18.000+0000"
        ],
        [
         8887,
         "Botswana",
         [
          -28.0137,
          -160.708
         ],
         "2021-09-19T05:27:43.000+0000"
        ],
        [
         4137,
         "Australia",
         [
          -55.3079,
          108.918
         ],
         "2019-06-23T22:16:34.000+0000"
        ],
        [
         1268,
         "Argentina",
         [
          -41.7803,
          -177.23
         ],
         "2019-07-06T04:10:29.000+0000"
        ],
        [
         5309,
         "Maldives",
         [
          -89.4194,
          -84.2493
         ],
         "2020-05-04T22:00:32.000+0000"
        ],
        [
         7528,
         "Albania",
         [
          -89.9787,
          -173.293
         ],
         "2020-08-28T03:52:47.000+0000"
        ],
        [
         2863,
         "Armenia",
         [
          -5.34445,
          -177.924
         ],
         "2020-04-27T13:34:16.000+0000"
        ],
        [
         5730,
         "Colombia",
         [
          -77.015,
          -101.437
         ],
         "2021-04-19T17:37:03.000+0000"
        ],
        [
         3089,
         "Albania",
         [
          -89.9787,
          -173.293
         ],
         "2018-02-28T05:31:29.000+0000"
        ],
        [
         7528,
         "Albania",
         [
          -89.9787,
          -173.293
         ],
         "2020-08-28T03:52:47.000+0000"
        ],
        [
         2863,
         "Armenia",
         [
          -5.34445,
          -177.924
         ],
         "2020-04-27T13:34:16.000+0000"
        ],
        [
         5730,
         "Colombia",
         [
          -77.015,
          -101.437
         ],
         "2021-04-19T17:37:03.000+0000"
        ],
        [
         3089,
         "Albania",
         [
          -89.9787,
          -173.293
         ],
         "2018-02-28T05:31:29.000+0000"
        ],
        [
         10138,
         "Austria",
         [
          -72.142,
          -74.3545
         ],
         "2019-08-03T00:59:29.000+0000"
        ],
        [
         9546,
         "Austria",
         [
          -70.0295,
          -155.428
         ],
         "2018-02-10T06:16:40.000+0000"
        ],
        [
         2411,
         "Albania",
         [
          -71.6856,
          -179.126
         ],
         "2020-11-15T17:10:07.000+0000"
        ],
        [
         9590,
         "Algeria",
         [
          -64.3876,
          -174.281
         ],
         "2019-05-20T19:48:48.000+0000"
        ],
        [
         5076,
         "Germany",
         [
          -70.7195,
          -91.1935
         ],
         "2019-05-05T16:22:23.000+0000"
        ],
        [
         205,
         "Barbados",
         [
          -75.8378,
          -163.945
         ],
         "2020-07-08T14:10:38.000+0000"
        ],
        [
         1094,
         "Armenia",
         [
          -46.7328,
          -124.445
         ],
         "2018-08-19T00:34:20.000+0000"
        ],
        [
         5630,
         "Bahrain",
         [
          -19.1403,
          -164.987
         ],
         "2019-05-12T14:43:19.000+0000"
        ],
        [
         6398,
         "Albania",
         [
          -3.29267,
          -179.726
         ],
         "2020-01-19T01:49:05.000+0000"
        ],
        [
         46,
         "Afghanistan",
         [
          4.21689,
          -145.82
         ],
         "2018-09-15T09:16:57.000+0000"
        ],
        [
         10552,
         "Grenada",
         [
          32.7568,
          -179.812
         ],
         "2020-08-24T11:39:32.000+0000"
        ],
        [
         1371,
         "Andorra",
         [
          -89.4584,
          -134.271
         ],
         "2018-08-08T04:41:17.000+0000"
        ],
        [
         9074,
         "Andorra",
         [
          -84.7363,
          -179.087
         ],
         "2022-04-10T17:06:13.000+0000"
        ],
        [
         1313,
         "Maldives",
         [
          77.0447,
          61.9119
         ],
         "2018-06-26T02:39:25.000+0000"
        ],
        [
         2959,
         "Angola",
         [
          -68.0095,
          -157.227
         ],
         "2019-08-19T08:22:02.000+0000"
        ],
        [
         3156,
         "Armenia",
         [
          -84.738,
          -160.795
         ],
         "2018-01-13T19:33:49.000+0000"
        ],
        [
         1313,
         "Maldives",
         [
          77.0447,
          61.9119
         ],
         "2018-06-26T02:39:25.000+0000"
        ],
        [
         2959,
         "Angola",
         [
          -68.0095,
          -157.227
         ],
         "2019-08-19T08:22:02.000+0000"
        ],
        [
         3156,
         "Armenia",
         [
          -84.738,
          -160.795
         ],
         "2018-01-13T19:33:49.000+0000"
        ],
        [
         719,
         "Armenia",
         [
          -38.4062,
          -154.323
         ],
         "2018-10-29T04:05:12.000+0000"
        ],
        [
         2482,
         "Bermuda",
         [
          63.4563,
          -164.709
         ],
         "2019-09-13T08:20:13.000+0000"
        ],
        [
         808,
         "Albania",
         [
          -71.6856,
          -179.126
         ],
         "2019-01-03T15:43:12.000+0000"
        ],
        [
         1545,
         "Anguilla",
         [
          -30.18,
          -72.3784
         ],
         "2022-06-17T05:47:12.000+0000"
        ],
        [
         2015,
         "Armenia",
         [
          -17.629,
          -177.685
         ],
         "2018-09-22T13:52:19.000+0000"
        ],
        [
         7768,
         "Algeria",
         [
          -88.355,
          -96.0131
         ],
         "2018-05-25T21:34:19.000+0000"
        ],
        [
         3729,
         "Turkey",
         [
          -24.4793,
          -150.145
         ],
         "2018-01-17T03:43:38.000+0000"
        ],
        [
         159,
         "Andorra",
         [
          -88.0812,
          -166.603
         ],
         "2017-11-20T21:14:56.000+0000"
        ],
        [
         7554,
         "Sudan",
         [
          -51.2172,
          -77.9768
         ],
         "2019-03-20T03:15:07.000+0000"
        ],
        [
         7554,
         "Sudan",
         [
          -51.2172,
          -77.9768
         ],
         "2019-03-20T03:15:07.000+0000"
        ],
        [
         4913,
         "Aruba",
         [
          -84.3768,
          -157.544
         ],
         "2019-03-08T06:45:39.000+0000"
        ],
        [
         7166,
         "Aruba",
         [
          -86.4063,
          -136.657
         ],
         "2022-07-25T03:07:37.000+0000"
        ],
        [
         3419,
         "Bhutan",
         [
          7.60293,
          -108.979
         ],
         "2021-12-20T05:01:54.000+0000"
        ],
        [
         1555,
         "Algeria",
         [
          -1.7046,
          -55.332
         ],
         "2017-12-24T18:41:23.000+0000"
        ],
        [
         552,
         "Lesotho",
         [
          -80.6043,
          31.9601
         ],
         "2022-03-14T05:12:07.000+0000"
        ],
        [
         8731,
         "Aruba",
         [
          -83.104,
          -171.302
         ],
         "2020-07-17T04:39:09.000+0000"
        ],
        [
         8731,
         "Aruba",
         [
          -83.104,
          -171.302
         ],
         "2020-07-17T04:39:09.000+0000"
        ],
        [
         9672,
         "India",
         [
          79.4658,
          -69.4133
         ],
         "2019-11-03T13:15:52.000+0000"
        ],
        [
         831,
         "Congo",
         [
          -43.7816,
          -66.1592
         ],
         "2021-06-23T23:16:10.000+0000"
        ],
        [
         3800,
         "Aruba",
         [
          -61.471,
          -154.912
         ],
         "2018-01-27T16:49:07.000+0000"
        ],
        [
         1014,
         "Tonga",
         [
          81.1477,
          69.3538
         ],
         "2022-02-03T22:05:34.000+0000"
        ],
        [
         2698,
         "Egypt",
         [
          -72.7174,
          24.169
         ],
         "2021-11-24T08:33:51.000+0000"
        ]
       ],
       "datasetInfos": [],
       "dbfsResultPath": null,
       "isJsonSchema": true,
       "metadata": {},
       "overflow": false,
       "plotOptions": {
        "customPlotOptions": {},
        "displayType": "table",
        "pivotAggregation": null,
        "pivotColumns": null,
        "xColumns": null,
        "yColumns": null
       },
       "removedWidgets": [],
       "schema": [
        {
         "metadata": "{}",
         "name": "ind",
         "type": "\"long\""
        },
        {
         "metadata": "{}",
         "name": "country",
         "type": "\"string\""
        },
        {
         "metadata": "{}",
         "name": "coordinates",
         "type": "{\"type\":\"array\",\"elementType\":\"double\",\"containsNull\":true}"
        },
        {
         "metadata": "{}",
         "name": "timestamp",
         "type": "\"timestamp\""
        }
       ],
       "type": "table"
      }
     },
     "output_type": "display_data"
    },
    {
     "output_type": "display_data",
     "data": {
      "text/html": [
       "<style scoped>\n",
       "  .ansiout {\n",
       "    display: block;\n",
       "    unicode-bidi: embed;\n",
       "    white-space: pre-wrap;\n",
       "    word-wrap: break-word;\n",
       "    word-break: break-all;\n",
       "    font-family: \"Menlo\", \"Monaco\", \"Consolas\", \"Ubuntu Mono\", \"Source Code Pro\", monospace;\n",
       "    font-size: 13px;\n",
       "    color: #555;\n",
       "    margin-left: 4px;\n",
       "    line-height: 19px;\n",
       "  }\n",
       "</style>\n",
       "<div class=\"ansiout\">root\n",
       "-- ind: long (nullable = true)\n",
       "-- country: string (nullable = true)\n",
       "-- coordinates: array (nullable = true)\n",
       "    |-- element: double (containsNull = true)\n",
       "-- timestamp: timestamp (nullable = true)\n",
       "\n",
       "</div>"
      ]
     },
     "metadata": {
      "application/vnd.databricks.v1+output": {
       "addedWidgets": {},
       "arguments": {},
       "data": "<div class=\"ansiout\">root\n |-- ind: long (nullable = true)\n |-- country: string (nullable = true)\n |-- coordinates: array (nullable = true)\n |    |-- element: double (containsNull = true)\n |-- timestamp: timestamp (nullable = true)\n\n</div>",
       "datasetInfos": [],
       "metadata": {},
       "removedWidgets": [],
       "type": "html"
      }
     },
     "output_type": "display_data"
    },
    {
     "output_type": "display_data",
     "data": {
      "text/html": [
       "<style scoped>\n",
       "  .table-result-container {\n",
       "    max-height: 300px;\n",
       "    overflow: auto;\n",
       "  }\n",
       "  table, th, td {\n",
       "    border: 1px solid black;\n",
       "    border-collapse: collapse;\n",
       "  }\n",
       "  th, td {\n",
       "    padding: 5px;\n",
       "  }\n",
       "  th {\n",
       "    text-align: left;\n",
       "  }\n",
       "</style><div class='table-result-container'><table class='table-result'><thead style='background-color: white'><tr><th>ind</th><th>user_name</th><th>age</th><th>date_joined</th></tr></thead><tbody><tr><td>2015</td><td>Christopher Bradshaw</td><td>27</td><td>2016-03-08T13:38:37.000+0000</td></tr><tr><td>6398</td><td>Christina Davenport</td><td>39</td><td>2016-06-29T20:43:59.000+0000</td></tr><tr><td>3599</td><td>Alexandria Alvarado</td><td>20</td><td>2015-10-23T04:13:23.000+0000</td></tr><tr><td>5076</td><td>Christopher Butler</td><td>20</td><td>2015-12-01T15:08:31.000+0000</td></tr><tr><td>7790</td><td>Michelle Gutierrez</td><td>39</td><td>2017-07-19T07:12:04.000+0000</td></tr><tr><td>10509</td><td>Brittany Thompson</td><td>49</td><td>2016-04-22T20:36:02.000+0000</td></tr><tr><td>10119</td><td>Chelsea Gonzalez</td><td>43</td><td>2016-07-21T15:25:08.000+0000</td></tr><tr><td>8731</td><td>Andrea Alexander</td><td>21</td><td>2015-11-10T09:27:42.000+0000</td></tr><tr><td>8731</td><td>Andrea Alexander</td><td>21</td><td>2015-11-10T09:27:42.000+0000</td></tr><tr><td>8887</td><td>Austin Rodriguez</td><td>24</td><td>2016-03-31T20:56:39.000+0000</td></tr><tr><td>7768</td><td>Christine Cortez</td><td>23</td><td>2015-12-01T18:15:02.000+0000</td></tr><tr><td>4315</td><td>Michelle Prince</td><td>36</td><td>2015-12-20T16:38:13.000+0000</td></tr><tr><td>10625</td><td>Christian Lang</td><td>32</td><td>2017-10-10T20:09:33.000+0000</td></tr><tr><td>4315</td><td>Michelle Prince</td><td>36</td><td>2015-12-20T16:38:13.000+0000</td></tr><tr><td>10625</td><td>Christian Lang</td><td>32</td><td>2017-10-10T20:09:33.000+0000</td></tr><tr><td>9672</td><td>Jennifer Hudson</td><td>22</td><td>2016-02-11T20:46:04.000+0000</td></tr><tr><td>8930</td><td>Andrew Anderson</td><td>23</td><td>2015-11-28T11:52:37.000+0000</td></tr><tr><td>6566</td><td>Alexander Perez</td><td>31</td><td>2017-08-04T14:30:22.000+0000</td></tr><tr><td>3729</td><td>Richard Edwards</td><td>52</td><td>2016-02-07T20:00:25.000+0000</td></tr><tr><td>10552</td><td>Michael Hunter</td><td>40</td><td>2017-05-16T07:09:21.000+0000</td></tr><tr><td>9074</td><td>Aaron Alexander</td><td>21</td><td>2015-10-25T07:36:08.000+0000</td></tr><tr><td>1313</td><td>Brittany Jones</td><td>32</td><td>2016-04-02T03:51:23.000+0000</td></tr><tr><td>10794</td><td>Thomas Turner</td><td>34</td><td>2016-12-22T00:02:02.000+0000</td></tr><tr><td>2959</td><td>David Griffith</td><td>20</td><td>2016-01-07T19:49:22.000+0000</td></tr><tr><td>9875</td><td>Brendan Joseph</td><td>26</td><td>2015-12-20T10:28:00.000+0000</td></tr><tr><td>2074</td><td>Annette Forbes</td><td>21</td><td>2016-01-03T15:42:12.000+0000</td></tr><tr><td>1313</td><td>Brittany Jones</td><td>32</td><td>2016-04-02T03:51:23.000+0000</td></tr><tr><td>10794</td><td>Thomas Turner</td><td>34</td><td>2016-12-22T00:02:02.000+0000</td></tr><tr><td>2959</td><td>David Griffith</td><td>20</td><td>2016-01-07T19:49:22.000+0000</td></tr><tr><td>9875</td><td>Brendan Joseph</td><td>26</td><td>2015-12-20T10:28:00.000+0000</td></tr><tr><td>2074</td><td>Annette Forbes</td><td>21</td><td>2016-01-03T15:42:12.000+0000</td></tr><tr><td>1014</td><td>Gregory Ramsey</td><td>56</td><td>2016-10-15T17:21:39.000+0000</td></tr><tr><td>4137</td><td>Michael Decker</td><td>59</td><td>2017-06-29T22:35:17.000+0000</td></tr><tr><td>2411</td><td>Aaron Bartlett</td><td>21</td><td>2015-11-24T02:15:36.000+0000</td></tr><tr><td>4508</td><td>Michael Carter</td><td>58</td><td>2016-06-03T23:35:30.000+0000</td></tr><tr><td>771</td><td>Brittany Butler</td><td>32</td><td>2016-03-10T04:11:31.000+0000</td></tr><tr><td>1545</td><td>Jonathan Avila</td><td>46</td><td>2015-11-27T23:11:21.000+0000</td></tr><tr><td>603</td><td>Brandon Jackson</td><td>44</td><td>2016-10-29T02:07:21.000+0000</td></tr><tr><td>5630</td><td>Carlos Estrada</td><td>22</td><td>2016-02-09T17:01:38.000+0000</td></tr><tr><td>1268</td><td>Donna Campbell</td><td>32</td><td>2016-06-08T22:10:13.000+0000</td></tr><tr><td>1555</td><td>Alexis Bennett</td><td>54</td><td>2016-05-15T04:22:01.000+0000</td></tr><tr><td>3800</td><td>Adam Armstrong</td><td>20</td><td>2015-12-17T08:43:40.000+0000</td></tr><tr><td>8304</td><td>Charles Berry</td><td>25</td><td>2015-12-28T04:21:39.000+0000</td></tr><tr><td>6063</td><td>Corey Andrews</td><td>23</td><td>2015-11-25T13:36:22.000+0000</td></tr><tr><td>3454</td><td>Robert Murphy</td><td>48</td><td>2017-09-26T16:31:56.000+0000</td></tr><tr><td>7554</td><td>Cheryl Huerta</td><td>20</td><td>2017-04-11T16:35:33.000+0000</td></tr><tr><td>6145</td><td>Emily Hawkins</td><td>30</td><td>2015-12-25T20:24:37.000+0000</td></tr><tr><td>8304</td><td>Charles Berry</td><td>25</td><td>2015-12-28T04:21:39.000+0000</td></tr><tr><td>6063</td><td>Corey Andrews</td><td>23</td><td>2015-11-25T13:36:22.000+0000</td></tr><tr><td>3454</td><td>Robert Murphy</td><td>48</td><td>2017-09-26T16:31:56.000+0000</td></tr><tr><td>7554</td><td>Cheryl Huerta</td><td>20</td><td>2017-04-11T16:35:33.000+0000</td></tr><tr><td>6145</td><td>Emily Hawkins</td><td>30</td><td>2015-12-25T20:24:37.000+0000</td></tr><tr><td>9979</td><td>Kaylee Miller</td><td>31</td><td>2016-11-09T19:50:51.000+0000</td></tr><tr><td>4913</td><td>Angela Brooks</td><td>24</td><td>2015-11-20T05:37:11.000+0000</td></tr><tr><td>9759</td><td>Daniel Brooks</td><td>25</td><td>2015-11-19T21:24:33.000+0000</td></tr><tr><td>7294</td><td>Dawn Anderson</td><td>20</td><td>2016-12-31T00:06:36.000+0000</td></tr><tr><td>808</td><td>Aaron Bartlett</td><td>21</td><td>2015-11-24T02:15:36.000+0000</td></tr><tr><td>9936</td><td>Anthony Cantu</td><td>28</td><td>2016-11-15T10:40:03.000+0000</td></tr><tr><td>6844</td><td>Peter Roberts</td><td>30</td><td>2016-07-03T10:59:40.000+0000</td></tr><tr><td>3419</td><td>Aaron Jenkins</td><td>47</td><td>2017-04-26T03:26:23.000+0000</td></tr><tr><td>4988</td><td>Rhonda Durham</td><td>25</td><td>2017-07-20T05:51:23.000+0000</td></tr><tr><td>552</td><td>Regina Morales</td><td>20</td><td>2017-01-17T01:49:27.000+0000</td></tr><tr><td>2863</td><td>Dylan Holmes</td><td>32</td><td>2016-10-23T14:06:51.000+0000</td></tr><tr><td>5730</td><td>Rachel Davis</td><td>36</td><td>2015-12-08T20:02:43.000+0000</td></tr><tr><td>2923</td><td>Brian Nelson</td><td>26</td><td>2015-11-11T03:20:57.000+0000</td></tr><tr><td>2418</td><td>Amanda Adams</td><td>20</td><td>2015-10-21T08:27:36.000+0000</td></tr><tr><td>3156</td><td>Andrew Baker</td><td>22</td><td>2015-12-21T08:06:54.000+0000</td></tr><tr><td>428</td><td>Claudia Adams</td><td>20</td><td>2015-11-28T02:20:29.000+0000</td></tr><tr><td>7343</td><td>Anne Clayton</td><td>24</td><td>2016-01-11T12:03:48.000+0000</td></tr><tr><td>2863</td><td>Dylan Holmes</td><td>32</td><td>2016-10-23T14:06:51.000+0000</td></tr><tr><td>5730</td><td>Rachel Davis</td><td>36</td><td>2015-12-08T20:02:43.000+0000</td></tr><tr><td>2923</td><td>Brian Nelson</td><td>26</td><td>2015-11-11T03:20:57.000+0000</td></tr><tr><td>2418</td><td>Amanda Adams</td><td>20</td><td>2015-10-21T08:27:36.000+0000</td></tr><tr><td>3156</td><td>Andrew Baker</td><td>22</td><td>2015-12-21T08:06:54.000+0000</td></tr><tr><td>428</td><td>Claudia Adams</td><td>20</td><td>2015-11-28T02:20:29.000+0000</td></tr><tr><td>7343</td><td>Anne Clayton</td><td>24</td><td>2016-01-11T12:03:48.000+0000</td></tr><tr><td>10138</td><td>Carol Silva</td><td>22</td><td>2015-12-31T14:57:02.000+0000</td></tr><tr><td>7922</td><td>Denise Adams</td><td>21</td><td>2015-11-12T06:21:36.000+0000</td></tr><tr><td>9590</td><td>Amanda Allen</td><td>22</td><td>2015-10-24T18:56:30.000+0000</td></tr><tr><td>2698</td><td>Kayla Burton</td><td>44</td><td>2017-06-21T19:53:27.000+0000</td></tr><tr><td>831</td><td>Aimee Collins</td><td>28</td><td>2016-06-16T02:06:38.000+0000</td></tr><tr><td>8606</td><td>Denise Adams</td><td>21</td><td>2015-11-12T06:21:36.000+0000</td></tr><tr><td>4076</td><td>Larry Pineda</td><td>20</td><td>2015-10-23T22:47:39.000+0000</td></tr><tr><td>1422</td><td>Aaron Abbott</td><td>20</td><td>2015-10-31T18:51:07.000+0000</td></tr><tr><td>1371</td><td>Amanda Brown</td><td>20</td><td>2015-11-12T03:23:49.000+0000</td></tr><tr><td>7528</td><td>Abigail Ali</td><td>20</td><td>2015-10-24T11:23:51.000+0000</td></tr><tr><td>5069</td><td>Amanda Ball</td><td>25</td><td>2016-01-13T17:36:30.000+0000</td></tr><tr><td>3089</td><td>Abigail Ali</td><td>20</td><td>2015-10-24T11:23:51.000+0000</td></tr><tr><td>7528</td><td>Abigail Ali</td><td>20</td><td>2015-10-24T11:23:51.000+0000</td></tr><tr><td>5069</td><td>Amanda Ball</td><td>25</td><td>2016-01-13T17:36:30.000+0000</td></tr><tr><td>3089</td><td>Abigail Ali</td><td>20</td><td>2015-10-24T11:23:51.000+0000</td></tr><tr><td>8653</td><td>Tammy Davis</td><td>24</td><td>2016-03-09T10:48:14.000+0000</td></tr><tr><td>7166</td><td>Alvin Adams</td><td>20</td><td>2016-01-01T13:50:40.000+0000</td></tr><tr><td>9546</td><td>Alex Barnes</td><td>20</td><td>2016-02-27T21:13:44.000+0000</td></tr><tr><td>5468</td><td>Lisa Gamble</td><td>20</td><td>2016-07-23T20:51:06.000+0000</td></tr><tr><td>205</td><td>Brett Bryant</td><td>20</td><td>2015-10-23T12:40:19.000+0000</td></tr><tr><td>719</td><td>Alicia Avila</td><td>20</td><td>2016-01-26T01:49:23.000+0000</td></tr><tr><td>1094</td><td>Ann Elliott</td><td>20</td><td>2016-07-02T02:32:30.000+0000</td></tr><tr><td>5494</td><td>Anne Allen</td><td>27</td><td>2015-12-16T15:20:05.000+0000</td></tr><tr><td>5494</td><td>Anne Allen</td><td>27</td><td>2015-12-16T15:20:05.000+0000</td></tr><tr><td>10663</td><td>Julie Cox</td><td>23</td><td>2016-06-23T14:38:00.000+0000</td></tr><tr><td>1704</td><td>Barry Lynn</td><td>20</td><td>2015-10-28T05:00:33.000+0000</td></tr><tr><td>2482</td><td>David Moss</td><td>22</td><td>2016-03-01T07:11:48.000+0000</td></tr><tr><td>159</td><td>Alison Bell</td><td>21</td><td>2016-01-07T08:11:35.000+0000</td></tr><tr><td>5309</td><td>Daniel Roy</td><td>31</td><td>2016-03-07T01:01:24.000+0000</td></tr><tr><td>2293</td><td>Alex Bean</td><td>24</td><td>2016-01-11T23:08:27.000+0000</td></tr><tr><td>46</td><td>Erik Kelley</td><td>30</td><td>2016-01-06T09:58:56.000+0000</td></tr><tr><td>8578</td><td>Joe Pham</td><td>48</td><td>2017-06-01T23:13:27.000+0000</td></tr><tr><td>427</td><td>Jon Burke</td><td>25</td><td>2015-11-26T17:42:37.000+0000</td></tr></tbody></table></div>"
      ]
     },
     "metadata": {
      "application/vnd.databricks.v1+output": {
       "addedWidgets": {},
       "aggData": [],
       "aggError": "",
       "aggOverflow": false,
       "aggSchema": [],
       "aggSeriesLimitReached": false,
       "aggType": "",
       "arguments": {},
       "columnCustomDisplayInfos": {},
       "data": [
        [
         2015,
         "Christopher Bradshaw",
         27,
         "2016-03-08T13:38:37.000+0000"
        ],
        [
         6398,
         "Christina Davenport",
         39,
         "2016-06-29T20:43:59.000+0000"
        ],
        [
         3599,
         "Alexandria Alvarado",
         20,
         "2015-10-23T04:13:23.000+0000"
        ],
        [
         5076,
         "Christopher Butler",
         20,
         "2015-12-01T15:08:31.000+0000"
        ],
        [
         7790,
         "Michelle Gutierrez",
         39,
         "2017-07-19T07:12:04.000+0000"
        ],
        [
         10509,
         "Brittany Thompson",
         49,
         "2016-04-22T20:36:02.000+0000"
        ],
        [
         10119,
         "Chelsea Gonzalez",
         43,
         "2016-07-21T15:25:08.000+0000"
        ],
        [
         8731,
         "Andrea Alexander",
         21,
         "2015-11-10T09:27:42.000+0000"
        ],
        [
         8731,
         "Andrea Alexander",
         21,
         "2015-11-10T09:27:42.000+0000"
        ],
        [
         8887,
         "Austin Rodriguez",
         24,
         "2016-03-31T20:56:39.000+0000"
        ],
        [
         7768,
         "Christine Cortez",
         23,
         "2015-12-01T18:15:02.000+0000"
        ],
        [
         4315,
         "Michelle Prince",
         36,
         "2015-12-20T16:38:13.000+0000"
        ],
        [
         10625,
         "Christian Lang",
         32,
         "2017-10-10T20:09:33.000+0000"
        ],
        [
         4315,
         "Michelle Prince",
         36,
         "2015-12-20T16:38:13.000+0000"
        ],
        [
         10625,
         "Christian Lang",
         32,
         "2017-10-10T20:09:33.000+0000"
        ],
        [
         9672,
         "Jennifer Hudson",
         22,
         "2016-02-11T20:46:04.000+0000"
        ],
        [
         8930,
         "Andrew Anderson",
         23,
         "2015-11-28T11:52:37.000+0000"
        ],
        [
         6566,
         "Alexander Perez",
         31,
         "2017-08-04T14:30:22.000+0000"
        ],
        [
         3729,
         "Richard Edwards",
         52,
         "2016-02-07T20:00:25.000+0000"
        ],
        [
         10552,
         "Michael Hunter",
         40,
         "2017-05-16T07:09:21.000+0000"
        ],
        [
         9074,
         "Aaron Alexander",
         21,
         "2015-10-25T07:36:08.000+0000"
        ],
        [
         1313,
         "Brittany Jones",
         32,
         "2016-04-02T03:51:23.000+0000"
        ],
        [
         10794,
         "Thomas Turner",
         34,
         "2016-12-22T00:02:02.000+0000"
        ],
        [
         2959,
         "David Griffith",
         20,
         "2016-01-07T19:49:22.000+0000"
        ],
        [
         9875,
         "Brendan Joseph",
         26,
         "2015-12-20T10:28:00.000+0000"
        ],
        [
         2074,
         "Annette Forbes",
         21,
         "2016-01-03T15:42:12.000+0000"
        ],
        [
         1313,
         "Brittany Jones",
         32,
         "2016-04-02T03:51:23.000+0000"
        ],
        [
         10794,
         "Thomas Turner",
         34,
         "2016-12-22T00:02:02.000+0000"
        ],
        [
         2959,
         "David Griffith",
         20,
         "2016-01-07T19:49:22.000+0000"
        ],
        [
         9875,
         "Brendan Joseph",
         26,
         "2015-12-20T10:28:00.000+0000"
        ],
        [
         2074,
         "Annette Forbes",
         21,
         "2016-01-03T15:42:12.000+0000"
        ],
        [
         1014,
         "Gregory Ramsey",
         56,
         "2016-10-15T17:21:39.000+0000"
        ],
        [
         4137,
         "Michael Decker",
         59,
         "2017-06-29T22:35:17.000+0000"
        ],
        [
         2411,
         "Aaron Bartlett",
         21,
         "2015-11-24T02:15:36.000+0000"
        ],
        [
         4508,
         "Michael Carter",
         58,
         "2016-06-03T23:35:30.000+0000"
        ],
        [
         771,
         "Brittany Butler",
         32,
         "2016-03-10T04:11:31.000+0000"
        ],
        [
         1545,
         "Jonathan Avila",
         46,
         "2015-11-27T23:11:21.000+0000"
        ],
        [
         603,
         "Brandon Jackson",
         44,
         "2016-10-29T02:07:21.000+0000"
        ],
        [
         5630,
         "Carlos Estrada",
         22,
         "2016-02-09T17:01:38.000+0000"
        ],
        [
         1268,
         "Donna Campbell",
         32,
         "2016-06-08T22:10:13.000+0000"
        ],
        [
         1555,
         "Alexis Bennett",
         54,
         "2016-05-15T04:22:01.000+0000"
        ],
        [
         3800,
         "Adam Armstrong",
         20,
         "2015-12-17T08:43:40.000+0000"
        ],
        [
         8304,
         "Charles Berry",
         25,
         "2015-12-28T04:21:39.000+0000"
        ],
        [
         6063,
         "Corey Andrews",
         23,
         "2015-11-25T13:36:22.000+0000"
        ],
        [
         3454,
         "Robert Murphy",
         48,
         "2017-09-26T16:31:56.000+0000"
        ],
        [
         7554,
         "Cheryl Huerta",
         20,
         "2017-04-11T16:35:33.000+0000"
        ],
        [
         6145,
         "Emily Hawkins",
         30,
         "2015-12-25T20:24:37.000+0000"
        ],
        [
         8304,
         "Charles Berry",
         25,
         "2015-12-28T04:21:39.000+0000"
        ],
        [
         6063,
         "Corey Andrews",
         23,
         "2015-11-25T13:36:22.000+0000"
        ],
        [
         3454,
         "Robert Murphy",
         48,
         "2017-09-26T16:31:56.000+0000"
        ],
        [
         7554,
         "Cheryl Huerta",
         20,
         "2017-04-11T16:35:33.000+0000"
        ],
        [
         6145,
         "Emily Hawkins",
         30,
         "2015-12-25T20:24:37.000+0000"
        ],
        [
         9979,
         "Kaylee Miller",
         31,
         "2016-11-09T19:50:51.000+0000"
        ],
        [
         4913,
         "Angela Brooks",
         24,
         "2015-11-20T05:37:11.000+0000"
        ],
        [
         9759,
         "Daniel Brooks",
         25,
         "2015-11-19T21:24:33.000+0000"
        ],
        [
         7294,
         "Dawn Anderson",
         20,
         "2016-12-31T00:06:36.000+0000"
        ],
        [
         808,
         "Aaron Bartlett",
         21,
         "2015-11-24T02:15:36.000+0000"
        ],
        [
         9936,
         "Anthony Cantu",
         28,
         "2016-11-15T10:40:03.000+0000"
        ],
        [
         6844,
         "Peter Roberts",
         30,
         "2016-07-03T10:59:40.000+0000"
        ],
        [
         3419,
         "Aaron Jenkins",
         47,
         "2017-04-26T03:26:23.000+0000"
        ],
        [
         4988,
         "Rhonda Durham",
         25,
         "2017-07-20T05:51:23.000+0000"
        ],
        [
         552,
         "Regina Morales",
         20,
         "2017-01-17T01:49:27.000+0000"
        ],
        [
         2863,
         "Dylan Holmes",
         32,
         "2016-10-23T14:06:51.000+0000"
        ],
        [
         5730,
         "Rachel Davis",
         36,
         "2015-12-08T20:02:43.000+0000"
        ],
        [
         2923,
         "Brian Nelson",
         26,
         "2015-11-11T03:20:57.000+0000"
        ],
        [
         2418,
         "Amanda Adams",
         20,
         "2015-10-21T08:27:36.000+0000"
        ],
        [
         3156,
         "Andrew Baker",
         22,
         "2015-12-21T08:06:54.000+0000"
        ],
        [
         428,
         "Claudia Adams",
         20,
         "2015-11-28T02:20:29.000+0000"
        ],
        [
         7343,
         "Anne Clayton",
         24,
         "2016-01-11T12:03:48.000+0000"
        ],
        [
         2863,
         "Dylan Holmes",
         32,
         "2016-10-23T14:06:51.000+0000"
        ],
        [
         5730,
         "Rachel Davis",
         36,
         "2015-12-08T20:02:43.000+0000"
        ],
        [
         2923,
         "Brian Nelson",
         26,
         "2015-11-11T03:20:57.000+0000"
        ],
        [
         2418,
         "Amanda Adams",
         20,
         "2015-10-21T08:27:36.000+0000"
        ],
        [
         3156,
         "Andrew Baker",
         22,
         "2015-12-21T08:06:54.000+0000"
        ],
        [
         428,
         "Claudia Adams",
         20,
         "2015-11-28T02:20:29.000+0000"
        ],
        [
         7343,
         "Anne Clayton",
         24,
         "2016-01-11T12:03:48.000+0000"
        ],
        [
         10138,
         "Carol Silva",
         22,
         "2015-12-31T14:57:02.000+0000"
        ],
        [
         7922,
         "Denise Adams",
         21,
         "2015-11-12T06:21:36.000+0000"
        ],
        [
         9590,
         "Amanda Allen",
         22,
         "2015-10-24T18:56:30.000+0000"
        ],
        [
         2698,
         "Kayla Burton",
         44,
         "2017-06-21T19:53:27.000+0000"
        ],
        [
         831,
         "Aimee Collins",
         28,
         "2016-06-16T02:06:38.000+0000"
        ],
        [
         8606,
         "Denise Adams",
         21,
         "2015-11-12T06:21:36.000+0000"
        ],
        [
         4076,
         "Larry Pineda",
         20,
         "2015-10-23T22:47:39.000+0000"
        ],
        [
         1422,
         "Aaron Abbott",
         20,
         "2015-10-31T18:51:07.000+0000"
        ],
        [
         1371,
         "Amanda Brown",
         20,
         "2015-11-12T03:23:49.000+0000"
        ],
        [
         7528,
         "Abigail Ali",
         20,
         "2015-10-24T11:23:51.000+0000"
        ],
        [
         5069,
         "Amanda Ball",
         25,
         "2016-01-13T17:36:30.000+0000"
        ],
        [
         3089,
         "Abigail Ali",
         20,
         "2015-10-24T11:23:51.000+0000"
        ],
        [
         7528,
         "Abigail Ali",
         20,
         "2015-10-24T11:23:51.000+0000"
        ],
        [
         5069,
         "Amanda Ball",
         25,
         "2016-01-13T17:36:30.000+0000"
        ],
        [
         3089,
         "Abigail Ali",
         20,
         "2015-10-24T11:23:51.000+0000"
        ],
        [
         8653,
         "Tammy Davis",
         24,
         "2016-03-09T10:48:14.000+0000"
        ],
        [
         7166,
         "Alvin Adams",
         20,
         "2016-01-01T13:50:40.000+0000"
        ],
        [
         9546,
         "Alex Barnes",
         20,
         "2016-02-27T21:13:44.000+0000"
        ],
        [
         5468,
         "Lisa Gamble",
         20,
         "2016-07-23T20:51:06.000+0000"
        ],
        [
         205,
         "Brett Bryant",
         20,
         "2015-10-23T12:40:19.000+0000"
        ],
        [
         719,
         "Alicia Avila",
         20,
         "2016-01-26T01:49:23.000+0000"
        ],
        [
         1094,
         "Ann Elliott",
         20,
         "2016-07-02T02:32:30.000+0000"
        ],
        [
         5494,
         "Anne Allen",
         27,
         "2015-12-16T15:20:05.000+0000"
        ],
        [
         5494,
         "Anne Allen",
         27,
         "2015-12-16T15:20:05.000+0000"
        ],
        [
         10663,
         "Julie Cox",
         23,
         "2016-06-23T14:38:00.000+0000"
        ],
        [
         1704,
         "Barry Lynn",
         20,
         "2015-10-28T05:00:33.000+0000"
        ],
        [
         2482,
         "David Moss",
         22,
         "2016-03-01T07:11:48.000+0000"
        ],
        [
         159,
         "Alison Bell",
         21,
         "2016-01-07T08:11:35.000+0000"
        ],
        [
         5309,
         "Daniel Roy",
         31,
         "2016-03-07T01:01:24.000+0000"
        ],
        [
         2293,
         "Alex Bean",
         24,
         "2016-01-11T23:08:27.000+0000"
        ],
        [
         46,
         "Erik Kelley",
         30,
         "2016-01-06T09:58:56.000+0000"
        ],
        [
         8578,
         "Joe Pham",
         48,
         "2017-06-01T23:13:27.000+0000"
        ],
        [
         427,
         "Jon Burke",
         25,
         "2015-11-26T17:42:37.000+0000"
        ]
       ],
       "datasetInfos": [],
       "dbfsResultPath": null,
       "isJsonSchema": true,
       "metadata": {},
       "overflow": false,
       "plotOptions": {
        "customPlotOptions": {},
        "displayType": "table",
        "pivotAggregation": null,
        "pivotColumns": null,
        "xColumns": null,
        "yColumns": null
       },
       "removedWidgets": [],
       "schema": [
        {
         "metadata": "{}",
         "name": "ind",
         "type": "\"long\""
        },
        {
         "metadata": "{}",
         "name": "user_name",
         "type": "\"string\""
        },
        {
         "metadata": "{}",
         "name": "age",
         "type": "\"long\""
        },
        {
         "metadata": "{}",
         "name": "date_joined",
         "type": "\"timestamp\""
        }
       ],
       "type": "table"
      }
     },
     "output_type": "display_data"
    },
    {
     "output_type": "display_data",
     "data": {
      "text/html": [
       "<style scoped>\n",
       "  .ansiout {\n",
       "    display: block;\n",
       "    unicode-bidi: embed;\n",
       "    white-space: pre-wrap;\n",
       "    word-wrap: break-word;\n",
       "    word-break: break-all;\n",
       "    font-family: \"Menlo\", \"Monaco\", \"Consolas\", \"Ubuntu Mono\", \"Source Code Pro\", monospace;\n",
       "    font-size: 13px;\n",
       "    color: #555;\n",
       "    margin-left: 4px;\n",
       "    line-height: 19px;\n",
       "  }\n",
       "</style>\n",
       "<div class=\"ansiout\">root\n",
       "-- ind: long (nullable = true)\n",
       "-- user_name: string (nullable = false)\n",
       "-- age: long (nullable = true)\n",
       "-- date_joined: timestamp (nullable = true)\n",
       "\n",
       "</div>"
      ]
     },
     "metadata": {
      "application/vnd.databricks.v1+output": {
       "addedWidgets": {},
       "arguments": {},
       "data": "<div class=\"ansiout\">root\n |-- ind: long (nullable = true)\n |-- user_name: string (nullable = false)\n |-- age: long (nullable = true)\n |-- date_joined: timestamp (nullable = true)\n\n</div>",
       "datasetInfos": [],
       "metadata": {},
       "removedWidgets": [],
       "type": "html"
      }
     },
     "output_type": "display_data"
    }
   ],
   "source": [
    "%run ./pinterest_batch_data_and_cleaning"
   ]
  },
  {
   "cell_type": "code",
   "execution_count": 0,
   "metadata": {
    "application/vnd.databricks.v1+cell": {
     "cellMetadata": {
      "byteLimit": 2048000,
      "rowLimit": 10000
     },
     "inputWidgets": {},
     "nuid": "1146b822-f057-4cf6-a90d-d6c1b3ee6a53",
     "showTitle": false,
     "title": ""
    }
   },
   "outputs": [
    {
     "output_type": "display_data",
     "data": {
      "text/html": [
       "<style scoped>\n",
       "  .ansiout {\n",
       "    display: block;\n",
       "    unicode-bidi: embed;\n",
       "    white-space: pre-wrap;\n",
       "    word-wrap: break-word;\n",
       "    word-break: break-all;\n",
       "    font-family: \"Menlo\", \"Monaco\", \"Consolas\", \"Ubuntu Mono\", \"Source Code Pro\", monospace;\n",
       "    font-size: 13px;\n",
       "    color: #555;\n",
       "    margin-left: 4px;\n",
       "    line-height: 19px;\n",
       "  }\n",
       "</style>\n",
       "<div class=\"ansiout\"></div>"
      ]
     },
     "metadata": {
      "application/vnd.databricks.v1+output": {
       "addedWidgets": {},
       "arguments": {},
       "data": "<div class=\"ansiout\"></div>",
       "datasetInfos": [],
       "metadata": {},
       "removedWidgets": [],
       "type": "html"
      }
     },
     "output_type": "display_data"
    }
   ],
   "source": [
    "from pyspark.sql.window import Window\n",
    "\n",
    "# Join df_pin and df_geo dataframes on 'ind'\n",
    "pin_geo = df_pin.join(df_geo, df_pin.ind == df_geo.ind)\n",
    "\n",
    "# Join df_pin and df_user and create temp view for SQL query\n",
    "df_pin.join(df_user, df_pin.ind == df_user.ind).createOrReplaceTempView(\"category_age\")\n",
    "\n",
    "# SQL query to create an age group column\n",
    "pin_user_age_group = spark.sql(\n",
    "    \"SELECT CASE \\\n",
    "        WHEN age between 18 and 24 then '18-24' \\\n",
    "        WHEN age between 25 and 35 then '25-35' \\\n",
    "        WHEN age between 36 and 50 then '36-50' \\\n",
    "        WHEN age > 50 then '50+' \\\n",
    "        END as age_group, * FROM category_age\")"
   ]
  },
  {
   "cell_type": "code",
   "execution_count": 0,
   "metadata": {
    "application/vnd.databricks.v1+cell": {
     "cellMetadata": {
      "byteLimit": 2048000,
      "rowLimit": 10000
     },
     "inputWidgets": {},
     "nuid": "3d8ef525-7fb6-424d-ba37-28870c91a1c7",
     "showTitle": false,
     "title": ""
    }
   },
   "outputs": [
    {
     "output_type": "display_data",
     "data": {
      "text/html": [
       "<style scoped>\n",
       "  .ansiout {\n",
       "    display: block;\n",
       "    unicode-bidi: embed;\n",
       "    white-space: pre-wrap;\n",
       "    word-wrap: break-word;\n",
       "    word-break: break-all;\n",
       "    font-family: \"Menlo\", \"Monaco\", \"Consolas\", \"Ubuntu Mono\", \"Source Code Pro\", monospace;\n",
       "    font-size: 13px;\n",
       "    color: #555;\n",
       "    margin-left: 4px;\n",
       "    line-height: 19px;\n",
       "  }\n",
       "</style>\n",
       "<div class=\"ansiout\">+--------------------+--------------+--------------+\n",
       "             country|      category|category_count|\n",
       "+--------------------+--------------+--------------+\n",
       "         Afghanistan|     education|             1|\n",
       "             Albania|  mens-fashion|             6|\n",
       "             Algeria|        beauty|             1|\n",
       "      American Samoa|        travel|             1|\n",
       "             Andorra|           art|             1|\n",
       "              Angola|diy-and-crafts|             4|\n",
       "            Anguilla|    home-decor|             4|\n",
       "Antarctica (the t...|     christmas|             4|\n",
       " Antigua and Barbuda|     christmas|             1|\n",
       "           Argentina|       tattoos|             1|\n",
       "             Armenia|diy-and-crafts|            10|\n",
       "               Aruba|       tattoos|             6|\n",
       "           Australia|  mens-fashion|             5|\n",
       "             Austria|        travel|             2|\n",
       "          Azerbaijan|event-planning|             4|\n",
       "             Bahrain|       finance|             1|\n",
       "          Bangladesh|           art|             4|\n",
       "            Barbados|        travel|             4|\n",
       "             Bermuda|     christmas|             1|\n",
       "              Bhutan|diy-and-crafts|             1|\n",
       "+--------------------+--------------+--------------+\n",
       "only showing top 20 rows\n",
       "\n",
       "</div>"
      ]
     },
     "metadata": {
      "application/vnd.databricks.v1+output": {
       "addedWidgets": {},
       "arguments": {},
       "data": "<div class=\"ansiout\">+--------------------+--------------+--------------+\n|             country|      category|category_count|\n+--------------------+--------------+--------------+\n|         Afghanistan|     education|             1|\n|             Albania|  mens-fashion|             6|\n|             Algeria|        beauty|             1|\n|      American Samoa|        travel|             1|\n|             Andorra|           art|             1|\n|              Angola|diy-and-crafts|             4|\n|            Anguilla|    home-decor|             4|\n|Antarctica (the t...|     christmas|             4|\n| Antigua and Barbuda|     christmas|             1|\n|           Argentina|       tattoos|             1|\n|             Armenia|diy-and-crafts|            10|\n|               Aruba|       tattoos|             6|\n|           Australia|  mens-fashion|             5|\n|             Austria|        travel|             2|\n|          Azerbaijan|event-planning|             4|\n|             Bahrain|       finance|             1|\n|          Bangladesh|           art|             4|\n|            Barbados|        travel|             4|\n|             Bermuda|     christmas|             1|\n|              Bhutan|diy-and-crafts|             1|\n+--------------------+--------------+--------------+\nonly showing top 20 rows\n\n</div>",
       "datasetInfos": [],
       "metadata": {},
       "removedWidgets": [],
       "type": "html"
      }
     },
     "output_type": "display_data"
    }
   ],
   "source": [
    "# Find the most popular category in each country \n",
    "\n",
    "# Create partition by country and order by category_count (descending order)\n",
    "windowCountryByCatCount = Window.partitionBy(\"country\").orderBy(col(\"category_count\").desc())\n",
    "\n",
    "pin_geo.groupBy(\"country\", \"category\") \\\n",
    ".agg(count(\"category\") \\\n",
    ".alias(\"category_count\")) \\\n",
    ".withColumn(\"rank\", row_number().over(windowCountryByCatCount)) \\\n",
    ".filter(col(\"rank\") == 1) \\\n",
    ".drop(\"rank\") \\\n",
    ".show()"
   ]
  },
  {
   "cell_type": "code",
   "execution_count": 0,
   "metadata": {
    "application/vnd.databricks.v1+cell": {
     "cellMetadata": {
      "byteLimit": 2048000,
      "rowLimit": 10000
     },
     "inputWidgets": {},
     "nuid": "aa1420dd-ea54-4b1a-872f-5918aca74ebf",
     "showTitle": false,
     "title": ""
    }
   },
   "outputs": [
    {
     "output_type": "display_data",
     "data": {
      "text/html": [
       "<style scoped>\n",
       "  .ansiout {\n",
       "    display: block;\n",
       "    unicode-bidi: embed;\n",
       "    white-space: pre-wrap;\n",
       "    word-wrap: break-word;\n",
       "    word-break: break-all;\n",
       "    font-family: \"Menlo\", \"Monaco\", \"Consolas\", \"Ubuntu Mono\", \"Source Code Pro\", monospace;\n",
       "    font-size: 13px;\n",
       "    color: #555;\n",
       "    margin-left: 4px;\n",
       "    line-height: 19px;\n",
       "  }\n",
       "</style>\n",
       "<div class=\"ansiout\">+---------+---------+--------------+\n",
       "post_year| category|category_count|\n",
       "+---------+---------+--------------+\n",
       "     2018|   beauty|             9|\n",
       "     2019|education|             9|\n",
       "     2020|      art|             6|\n",
       "     2021|  finance|            10|\n",
       "     2022|christmas|             5|\n",
       "+---------+---------+--------------+\n",
       "\n",
       "</div>"
      ]
     },
     "metadata": {
      "application/vnd.databricks.v1+output": {
       "addedWidgets": {},
       "arguments": {},
       "data": "<div class=\"ansiout\">+---------+---------+--------------+\n|post_year| category|category_count|\n+---------+---------+--------------+\n|     2018|   beauty|             9|\n|     2019|education|             9|\n|     2020|      art|             6|\n|     2021|  finance|            10|\n|     2022|christmas|             5|\n+---------+---------+--------------+\n\n</div>",
       "datasetInfos": [],
       "metadata": {},
       "removedWidgets": [],
       "type": "html"
      }
     },
     "output_type": "display_data"
    }
   ],
   "source": [
    "# Find which was the most popular category each year\n",
    "# Find how many posts each category had between 2018 and 2022\n",
    "\n",
    "# Create partition by year and order by category_count (descending order)\n",
    "windowYearByCatCount = Window.partitionBy(\"post_year\").orderBy(col(\"category_count\").desc())\n",
    "\n",
    "pin_geo.withColumn(\"post_year\", year(\"timestamp\")) \\\n",
    ".filter(col(\"post_year\") >= 2018) \\\n",
    ".filter(col(\"post_year\") <= 2022) \\\n",
    ".groupBy(\"post_year\", \"category\") \\\n",
    ".agg(count(\"category\").alias(\"category_count\")) \\\n",
    ".withColumn(\"rank\", row_number().over(windowYearByCatCount)) \\\n",
    ".filter(col(\"rank\") == 1) \\\n",
    ".drop(\"rank\") \\\n",
    ".show()"
   ]
  },
  {
   "cell_type": "code",
   "execution_count": 0,
   "metadata": {
    "application/vnd.databricks.v1+cell": {
     "cellMetadata": {
      "byteLimit": 2048000,
      "rowLimit": 10000
     },
     "inputWidgets": {},
     "nuid": "61437fb1-e725-4a1e-b555-56f4e0b42810",
     "showTitle": false,
     "title": ""
    }
   },
   "outputs": [
    {
     "output_type": "display_data",
     "data": {
      "text/html": [
       "<style scoped>\n",
       "  .ansiout {\n",
       "    display: block;\n",
       "    unicode-bidi: embed;\n",
       "    white-space: pre-wrap;\n",
       "    word-wrap: break-word;\n",
       "    word-break: break-all;\n",
       "    font-family: \"Menlo\", \"Monaco\", \"Consolas\", \"Ubuntu Mono\", \"Source Code Pro\", monospace;\n",
       "    font-size: 13px;\n",
       "    color: #555;\n",
       "    margin-left: 4px;\n",
       "    line-height: 19px;\n",
       "  }\n",
       "</style>\n",
       "<div class=\"ansiout\">+--------------------+--------------------+--------------+\n",
       "             country|         poster_name|follower_count|\n",
       "+--------------------+--------------------+--------------+\n",
       "         Afghanistan|It&#39;s me, JD | DIY...|       27000.0|\n",
       "             Albania|          MojisStyle|      117000.0|\n",
       "             Algeria|        ELLE Germany|      326000.0|\n",
       "      American Samoa|TheFab20s | Trave...|       42000.0|\n",
       "             Andorra|           Glaminati|      799000.0|\n",
       "              Angola|     CraftGossip.com|      502000.0|\n",
       "            Anguilla|Kristen | Lifesty...|       92000.0|\n",
       "Antarctica (the t...|            HikenDip|      500000.0|\n",
       " Antigua and Barbuda|Sumcoco | Decor I...|      306000.0|\n",
       "           Argentina|         Next Luxury|      800000.0|\n",
       "             Armenia|Michelle {CraftyM...|      892000.0|\n",
       "               Aruba|     TheTrendSpotter|      211000.0|\n",
       "           Australia|LLEGANCE | Workwe...|       28000.0|\n",
       "             Austria|The World Pursuit...|       89000.0|\n",
       "          Azerbaijan|     Style Me Pretty|          null|\n",
       "             Bahrain|R.J. Weiss at The...|       46000.0|\n",
       "          Bangladesh|Architectural Digest|          null|\n",
       "            Barbados|The Creativity Ex...|      410000.0|\n",
       "             Bermuda|Life on Summerhil...|       46000.0|\n",
       "              Bhutan|Kids Crafts &amp; Fre...|        3000.0|\n",
       "+--------------------+--------------------+--------------+\n",
       "only showing top 20 rows\n",
       "\n",
       "+-------+------------+--------------+\n",
       "country| poster_name|follower_count|\n",
       "+-------+------------+--------------+\n",
       "Lesotho|The Guardian|      908000.0|\n",
       "+-------+------------+--------------+\n",
       "\n",
       "</div>"
      ]
     },
     "metadata": {
      "application/vnd.databricks.v1+output": {
       "addedWidgets": {},
       "arguments": {},
       "data": "<div class=\"ansiout\">+--------------------+--------------------+--------------+\n|             country|         poster_name|follower_count|\n+--------------------+--------------------+--------------+\n|         Afghanistan|It&#39;s me, JD | DIY...|       27000.0|\n|             Albania|          MojisStyle|      117000.0|\n|             Algeria|        ELLE Germany|      326000.0|\n|      American Samoa|TheFab20s | Trave...|       42000.0|\n|             Andorra|           Glaminati|      799000.0|\n|              Angola|     CraftGossip.com|      502000.0|\n|            Anguilla|Kristen | Lifesty...|       92000.0|\n|Antarctica (the t...|            HikenDip|      500000.0|\n| Antigua and Barbuda|Sumcoco | Decor I...|      306000.0|\n|           Argentina|         Next Luxury|      800000.0|\n|             Armenia|Michelle {CraftyM...|      892000.0|\n|               Aruba|     TheTrendSpotter|      211000.0|\n|           Australia|LLEGANCE | Workwe...|       28000.0|\n|             Austria|The World Pursuit...|       89000.0|\n|          Azerbaijan|     Style Me Pretty|          null|\n|             Bahrain|R.J. Weiss at The...|       46000.0|\n|          Bangladesh|Architectural Digest|          null|\n|            Barbados|The Creativity Ex...|      410000.0|\n|             Bermuda|Life on Summerhil...|       46000.0|\n|              Bhutan|Kids Crafts &amp; Fre...|        3000.0|\n+--------------------+--------------------+--------------+\nonly showing top 20 rows\n\n+-------+------------+--------------+\n|country| poster_name|follower_count|\n+-------+------------+--------------+\n|Lesotho|The Guardian|      908000.0|\n+-------+------------+--------------+\n\n</div>",
       "datasetInfos": [],
       "metadata": {},
       "removedWidgets": [],
       "type": "html"
      }
     },
     "output_type": "display_data"
    }
   ],
   "source": [
    "# Find the user with the most followers in each country \n",
    "\n",
    "# Create partition by country and order by follower_count (descending order)\n",
    "windowCountryByFollowers = Window.partitionBy(\"country\").orderBy(col(\"follower_count\").desc())\n",
    "\n",
    "max_followers_by_country = \\\n",
    "    df_pin.join(df_geo, df_pin.ind == df_geo.ind) \\\n",
    "    .withColumn(\"rank\", row_number().over(windowCountryByFollowers)) \\\n",
    "    .filter(col(\"rank\") == 1) \\\n",
    "    .select(\"country\", \"poster_name\", \"follower_count\")\n",
    "\n",
    "# Obtain the highest number of followers from all countries\n",
    "max_followers_all_countries = max_followers_by_country.select(max(\"follower_count\")).collect()[0][0]\n",
    "\n",
    "# Find the country with the user that has the most followers\n",
    "country_with_max_followers = \\\n",
    "    max_followers_by_country \\\n",
    "    .select(\"*\") \\\n",
    "    .where(col(\"follower_count\") == max_followers_all_countries)\n",
    "\n",
    "max_followers_by_country.show()\n",
    "country_with_max_followers.show()"
   ]
  },
  {
   "cell_type": "code",
   "execution_count": 0,
   "metadata": {
    "application/vnd.databricks.v1+cell": {
     "cellMetadata": {
      "byteLimit": 2048000,
      "rowLimit": 10000
     },
     "inputWidgets": {},
     "nuid": "0b012fef-a271-4469-96e2-d06a5378e550",
     "showTitle": false,
     "title": ""
    }
   },
   "outputs": [
    {
     "output_type": "display_data",
     "data": {
      "text/html": [
       "<style scoped>\n",
       "  .ansiout {\n",
       "    display: block;\n",
       "    unicode-bidi: embed;\n",
       "    white-space: pre-wrap;\n",
       "    word-wrap: break-word;\n",
       "    word-break: break-all;\n",
       "    font-family: \"Menlo\", \"Monaco\", \"Consolas\", \"Ubuntu Mono\", \"Source Code Pro\", monospace;\n",
       "    font-size: 13px;\n",
       "    color: #555;\n",
       "    margin-left: 4px;\n",
       "    line-height: 19px;\n",
       "  }\n",
       "</style>\n",
       "<div class=\"ansiout\">+---------+--------------+--------------+\n",
       "age_group|      category|category_count|\n",
       "+---------+--------------+--------------+\n",
       "    18-24|  mens-fashion|            16|\n",
       "    25-35|diy-and-crafts|            10|\n",
       "    36-50|     education|             6|\n",
       "      50+|     education|             2|\n",
       "+---------+--------------+--------------+\n",
       "\n",
       "</div>"
      ]
     },
     "metadata": {
      "application/vnd.databricks.v1+output": {
       "addedWidgets": {},
       "arguments": {},
       "data": "<div class=\"ansiout\">+---------+--------------+--------------+\n|age_group|      category|category_count|\n+---------+--------------+--------------+\n|    18-24|  mens-fashion|            16|\n|    25-35|diy-and-crafts|            10|\n|    36-50|     education|             6|\n|      50+|     education|             2|\n+---------+--------------+--------------+\n\n</div>",
       "datasetInfos": [],
       "metadata": {},
       "removedWidgets": [],
       "type": "html"
      }
     },
     "output_type": "display_data"
    }
   ],
   "source": [
    "# Find the most popular category for different age groups\n",
    "\n",
    "# Create partition by year and order by category_count (descending order)\n",
    "windowAgeGroup = Window.partitionBy(\"age_group\").orderBy(col(\"category_count\").desc())\n",
    "\n",
    "pin_user_age_group.groupBy(\"age_group\", \"category\") \\\n",
    ".agg(count(\"category\").alias(\"category_count\")) \\\n",
    ".withColumn(\"rank\", row_number().over(windowAgeGroup)) \\\n",
    ".filter(col(\"rank\") == 1) \\\n",
    ".drop(\"rank\") \\\n",
    ".show()"
   ]
  },
  {
   "cell_type": "code",
   "execution_count": 0,
   "metadata": {
    "application/vnd.databricks.v1+cell": {
     "cellMetadata": {
      "byteLimit": 2048000,
      "rowLimit": 10000
     },
     "inputWidgets": {},
     "nuid": "aa701f30-0668-4421-b9a3-5376a7b009bb",
     "showTitle": false,
     "title": ""
    }
   },
   "outputs": [
    {
     "output_type": "display_data",
     "data": {
      "text/html": [
       "<style scoped>\n",
       "  .ansiout {\n",
       "    display: block;\n",
       "    unicode-bidi: embed;\n",
       "    white-space: pre-wrap;\n",
       "    word-wrap: break-word;\n",
       "    word-break: break-all;\n",
       "    font-family: \"Menlo\", \"Monaco\", \"Consolas\", \"Ubuntu Mono\", \"Source Code Pro\", monospace;\n",
       "    font-size: 13px;\n",
       "    color: #555;\n",
       "    margin-left: 4px;\n",
       "    line-height: 19px;\n",
       "  }\n",
       "</style>\n",
       "<div class=\"ansiout\">+---------+---------------------+\n",
       "age_group|median_follower_count|\n",
       "+---------+---------------------+\n",
       "    18-24|              46000.0|\n",
       "    25-35|              28000.0|\n",
       "    36-50|               7000.0|\n",
       "      50+|               5000.0|\n",
       "+---------+---------------------+\n",
       "\n",
       "</div>"
      ]
     },
     "metadata": {
      "application/vnd.databricks.v1+output": {
       "addedWidgets": {},
       "arguments": {},
       "data": "<div class=\"ansiout\">+---------+---------------------+\n|age_group|median_follower_count|\n+---------+---------------------+\n|    18-24|              46000.0|\n|    25-35|              28000.0|\n|    36-50|               7000.0|\n|      50+|               5000.0|\n+---------+---------------------+\n\n</div>",
       "datasetInfos": [],
       "metadata": {},
       "removedWidgets": [],
       "type": "html"
      }
     },
     "output_type": "display_data"
    }
   ],
   "source": [
    "# Find the median follower count for different age groups\n",
    "\n",
    "pin_user_age_group \\\n",
    ".select(\"user_name\", \"date_joined\", \"age_group\", \"follower_count\") \\\n",
    ".distinct() \\\n",
    ".groupBy(\"age_group\") \\\n",
    ".agg(percentile_approx(\"follower_count\", 0.5).alias(\"median_follower_count\")) \\\n",
    ".orderBy(\"age_group\") \\\n",
    ".show()"
   ]
  },
  {
   "cell_type": "code",
   "execution_count": 0,
   "metadata": {
    "application/vnd.databricks.v1+cell": {
     "cellMetadata": {
      "byteLimit": 2048000,
      "rowLimit": 10000
     },
     "inputWidgets": {},
     "nuid": "da027c6b-fe26-47f8-8779-dd8f142d84f3",
     "showTitle": false,
     "title": ""
    }
   },
   "outputs": [
    {
     "output_type": "display_data",
     "data": {
      "text/html": [
       "<style scoped>\n",
       "  .ansiout {\n",
       "    display: block;\n",
       "    unicode-bidi: embed;\n",
       "    white-space: pre-wrap;\n",
       "    word-wrap: break-word;\n",
       "    word-break: break-all;\n",
       "    font-family: \"Menlo\", \"Monaco\", \"Consolas\", \"Ubuntu Mono\", \"Source Code Pro\", monospace;\n",
       "    font-size: 13px;\n",
       "    color: #555;\n",
       "    margin-left: 4px;\n",
       "    line-height: 19px;\n",
       "  }\n",
       "</style>\n",
       "<div class=\"ansiout\">+---------+-------------------+\n",
       "post_year|number_users_joined|\n",
       "+---------+-------------------+\n",
       "     2015|                 32|\n",
       "     2016|                 38|\n",
       "     2017|                 12|\n",
       "+---------+-------------------+\n",
       "\n",
       "</div>"
      ]
     },
     "metadata": {
      "application/vnd.databricks.v1+output": {
       "addedWidgets": {},
       "arguments": {},
       "data": "<div class=\"ansiout\">+---------+-------------------+\n|post_year|number_users_joined|\n+---------+-------------------+\n|     2015|                 32|\n|     2016|                 38|\n|     2017|                 12|\n+---------+-------------------+\n\n</div>",
       "datasetInfos": [],
       "metadata": {},
       "removedWidgets": [],
       "type": "html"
      }
     },
     "output_type": "display_data"
    }
   ],
   "source": [
    "# Find out how many users joined each year\n",
    "\n",
    "df_user.withColumn(\"post_year\", year(\"date_joined\")) \\\n",
    ".drop(\"ind\") \\\n",
    ".distinct() \\\n",
    ".groupBy(\"post_year\") \\\n",
    ".agg(count(\"user_name\").alias(\"number_users_joined\")) \\\n",
    ".orderBy(\"post_year\") \\\n",
    ".show()"
   ]
  },
  {
   "cell_type": "code",
   "execution_count": 0,
   "metadata": {
    "application/vnd.databricks.v1+cell": {
     "cellMetadata": {
      "byteLimit": 2048000,
      "rowLimit": 10000
     },
     "inputWidgets": {},
     "nuid": "fc41548f-635f-4556-8a60-f12f03f2f16d",
     "showTitle": false,
     "title": ""
    }
   },
   "outputs": [
    {
     "output_type": "display_data",
     "data": {
      "text/html": [
       "<style scoped>\n",
       "  .ansiout {\n",
       "    display: block;\n",
       "    unicode-bidi: embed;\n",
       "    white-space: pre-wrap;\n",
       "    word-wrap: break-word;\n",
       "    word-break: break-all;\n",
       "    font-family: \"Menlo\", \"Monaco\", \"Consolas\", \"Ubuntu Mono\", \"Source Code Pro\", monospace;\n",
       "    font-size: 13px;\n",
       "    color: #555;\n",
       "    margin-left: 4px;\n",
       "    line-height: 19px;\n",
       "  }\n",
       "</style>\n",
       "<div class=\"ansiout\">+---------+---------------------+\n",
       "post_year|median_follower_count|\n",
       "+---------+---------------------+\n",
       "     2015|              83000.0|\n",
       "     2016|              25000.0|\n",
       "     2017|               5000.0|\n",
       "+---------+---------------------+\n",
       "\n",
       "</div>"
      ]
     },
     "metadata": {
      "application/vnd.databricks.v1+output": {
       "addedWidgets": {},
       "arguments": {},
       "data": "<div class=\"ansiout\">+---------+---------------------+\n|post_year|median_follower_count|\n+---------+---------------------+\n|     2015|              83000.0|\n|     2016|              25000.0|\n|     2017|               5000.0|\n+---------+---------------------+\n\n</div>",
       "datasetInfos": [],
       "metadata": {},
       "removedWidgets": [],
       "type": "html"
      }
     },
     "output_type": "display_data"
    }
   ],
   "source": [
    "# Find the median follower count of users based on their joining year\n",
    "\n",
    "pin_user_age_group \\\n",
    ".select(\"user_name\", \"date_joined\", \"follower_count\") \\\n",
    ".distinct() \\\n",
    ".withColumn(\"post_year\", year(\"date_joined\")) \\\n",
    ".groupBy(\"post_year\") \\\n",
    ".agg(percentile_approx(\"follower_count\", 0.5).alias(\"median_follower_count\")) \\\n",
    ".orderBy(\"post_year\") \\\n",
    ".show()"
   ]
  },
  {
   "cell_type": "code",
   "execution_count": 0,
   "metadata": {
    "application/vnd.databricks.v1+cell": {
     "cellMetadata": {
      "byteLimit": 2048000,
      "rowLimit": 10000
     },
     "inputWidgets": {},
     "nuid": "2752d718-c408-4b26-958f-c8752286a312",
     "showTitle": false,
     "title": ""
    }
   },
   "outputs": [
    {
     "output_type": "display_data",
     "data": {
      "text/html": [
       "<style scoped>\n",
       "  .ansiout {\n",
       "    display: block;\n",
       "    unicode-bidi: embed;\n",
       "    white-space: pre-wrap;\n",
       "    word-wrap: break-word;\n",
       "    word-break: break-all;\n",
       "    font-family: \"Menlo\", \"Monaco\", \"Consolas\", \"Ubuntu Mono\", \"Source Code Pro\", monospace;\n",
       "    font-size: 13px;\n",
       "    color: #555;\n",
       "    margin-left: 4px;\n",
       "    line-height: 19px;\n",
       "  }\n",
       "</style>\n",
       "<div class=\"ansiout\">+---------+---------+---------------------+\n",
       "post_year|age_group|median_follower_count|\n",
       "+---------+---------+---------------------+\n",
       "     2015|    18-24|             130000.0|\n",
       "     2015|    25-35|              51000.0|\n",
       "     2015|    36-50|              25000.0|\n",
       "     2016|    18-24|              28000.0|\n",
       "     2016|    25-35|              22000.0|\n",
       "     2016|    36-50|               9000.0|\n",
       "     2016|      50+|                111.0|\n",
       "     2017|    18-24|                940.0|\n",
       "     2017|    25-35|             112000.0|\n",
       "     2017|    36-50|                314.0|\n",
       "     2017|      50+|               5000.0|\n",
       "+---------+---------+---------------------+\n",
       "\n",
       "</div>"
      ]
     },
     "metadata": {
      "application/vnd.databricks.v1+output": {
       "addedWidgets": {},
       "arguments": {},
       "data": "<div class=\"ansiout\">+---------+---------+---------------------+\n|post_year|age_group|median_follower_count|\n+---------+---------+---------------------+\n|     2015|    18-24|             130000.0|\n|     2015|    25-35|              51000.0|\n|     2015|    36-50|              25000.0|\n|     2016|    18-24|              28000.0|\n|     2016|    25-35|              22000.0|\n|     2016|    36-50|               9000.0|\n|     2016|      50+|                111.0|\n|     2017|    18-24|                940.0|\n|     2017|    25-35|             112000.0|\n|     2017|    36-50|                314.0|\n|     2017|      50+|               5000.0|\n+---------+---------+---------------------+\n\n</div>",
       "datasetInfos": [],
       "metadata": {},
       "removedWidgets": [],
       "type": "html"
      }
     },
     "output_type": "display_data"
    }
   ],
   "source": [
    "# Find the median follower count of users that have joined between 2015 and 2020, based on which age group they are part of\n",
    "pin_user_age_group \\\n",
    ".select(\"user_name\", \"age_group\", \"date_joined\", \"follower_count\") \\\n",
    ".distinct() \\\n",
    ".withColumn(\"post_year\", year(\"date_joined\")) \\\n",
    ".groupBy(\"post_year\", \"age_group\") \\\n",
    ".agg(percentile_approx(\"follower_count\", 0.5).alias(\"median_follower_count\")) \\\n",
    ".orderBy(\"post_year\", \"age_group\") \\\n",
    ".show()"
   ]
  }
 ],
 "metadata": {
  "application/vnd.databricks.v1+notebook": {
   "dashboards": [],
   "language": "python",
   "notebookMetadata": {
    "mostRecentlyExecutedCommandWithImplicitDF": {
     "commandId": 3829850617460724,
     "dataframes": [
      "_sqldf"
     ]
    },
    "pythonIndentUnit": 4
   },
   "notebookName": "query_pinterest_batch_data",
   "widgets": {}
  }
 },
 "nbformat": 4,
 "nbformat_minor": 0
}
