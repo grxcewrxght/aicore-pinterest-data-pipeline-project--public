{
 "cells": [
  {
   "cell_type": "code",
   "execution_count": 0,
   "metadata": {
    "application/vnd.databricks.v1+cell": {
     "cellMetadata": {
      "byteLimit": 2048000,
      "rowLimit": 10000
     },
     "inputWidgets": {},
     "nuid": "44f2888f-a5ae-488c-b644-60e861da70d6",
     "showTitle": false,
     "title": ""
    }
   },
   "outputs": [
    {
     "output_type": "display_data",
     "data": {
      "text/html": [
       "<style scoped>\n",
       "  .ansiout {\n",
       "    display: block;\n",
       "    unicode-bidi: embed;\n",
       "    white-space: pre-wrap;\n",
       "    word-wrap: break-word;\n",
       "    word-break: break-all;\n",
       "    font-family: \"Menlo\", \"Monaco\", \"Consolas\", \"Ubuntu Mono\", \"Source Code Pro\", monospace;\n",
       "    font-size: 13px;\n",
       "    color: #555;\n",
       "    margin-left: 4px;\n",
       "    line-height: 19px;\n",
       "  }\n",
       "</style>\n",
       "<div class=\"ansiout\"></div>"
      ]
     },
     "metadata": {
      "application/vnd.databricks.v1+output": {
       "addedWidgets": {},
       "arguments": {},
       "data": "<div class=\"ansiout\"></div>",
       "datasetInfos": [],
       "metadata": {},
       "removedWidgets": [],
       "type": "html"
      }
     },
     "output_type": "display_data"
    },
    {
     "output_type": "display_data",
     "data": {
      "text/html": [
       "<style scoped>\n",
       "  .ansiout {\n",
       "    display: block;\n",
       "    unicode-bidi: embed;\n",
       "    white-space: pre-wrap;\n",
       "    word-wrap: break-word;\n",
       "    word-break: break-all;\n",
       "    font-family: \"Menlo\", \"Monaco\", \"Consolas\", \"Ubuntu Mono\", \"Source Code Pro\", monospace;\n",
       "    font-size: 13px;\n",
       "    color: #555;\n",
       "    margin-left: 4px;\n",
       "    line-height: 19px;\n",
       "  }\n",
       "</style>\n",
       "<div class=\"ansiout\"></div>"
      ]
     },
     "metadata": {
      "application/vnd.databricks.v1+output": {
       "addedWidgets": {},
       "arguments": {},
       "data": "<div class=\"ansiout\"></div>",
       "datasetInfos": [],
       "metadata": {},
       "removedWidgets": [],
       "type": "html"
      }
     },
     "output_type": "display_data"
    },
    {
     "output_type": "display_data",
     "data": {
      "text/html": [
       "<style scoped>\n",
       "  .ansiout {\n",
       "    display: block;\n",
       "    unicode-bidi: embed;\n",
       "    white-space: pre-wrap;\n",
       "    word-wrap: break-word;\n",
       "    word-break: break-all;\n",
       "    font-family: \"Menlo\", \"Monaco\", \"Consolas\", \"Ubuntu Mono\", \"Source Code Pro\", monospace;\n",
       "    font-size: 13px;\n",
       "    color: #555;\n",
       "    margin-left: 4px;\n",
       "    line-height: 19px;\n",
       "  }\n",
       "</style>\n",
       "<div class=\"ansiout\"></div>"
      ]
     },
     "metadata": {
      "application/vnd.databricks.v1+output": {
       "addedWidgets": {},
       "arguments": {},
       "data": "<div class=\"ansiout\"></div>",
       "datasetInfos": [],
       "metadata": {},
       "removedWidgets": [],
       "type": "html"
      }
     },
     "output_type": "display_data"
    }
   ],
   "source": [
    "%run /Users/gracewrightmain@gmail.com/authenticate_aws"
   ]
  },
  {
   "cell_type": "code",
   "execution_count": 0,
   "metadata": {
    "application/vnd.databricks.v1+cell": {
     "cellMetadata": {
      "byteLimit": 2048000,
      "rowLimit": 10000
     },
     "inputWidgets": {},
     "nuid": "32b49517-bf47-4737-a23d-d458baacd0b5",
     "showTitle": false,
     "title": ""
    }
   },
   "outputs": [
    {
     "output_type": "display_data",
     "data": {
      "text/html": [
       "<style scoped>\n",
       "  .ansiout {\n",
       "    display: block;\n",
       "    unicode-bidi: embed;\n",
       "    white-space: pre-wrap;\n",
       "    word-wrap: break-word;\n",
       "    word-break: break-all;\n",
       "    font-family: \"Menlo\", \"Monaco\", \"Consolas\", \"Ubuntu Mono\", \"Source Code Pro\", monospace;\n",
       "    font-size: 13px;\n",
       "    color: #555;\n",
       "    margin-left: 4px;\n",
       "    line-height: 19px;\n",
       "  }\n",
       "</style>\n",
       "<div class=\"ansiout\">Out[7]: True</div>"
      ]
     },
     "metadata": {
      "application/vnd.databricks.v1+output": {
       "addedWidgets": {},
       "arguments": {},
       "data": "<div class=\"ansiout\">Out[7]: True</div>",
       "datasetInfos": [],
       "metadata": {},
       "removedWidgets": [],
       "type": "html"
      }
     },
     "output_type": "display_data"
    }
   ],
   "source": [
    "# Mount the S3 bucket by passing in the S3 URL and the desired mount name to dbutils.fs.mount()\n",
    "AWS_S3_BUCKET = \"user-12a3da8f7ced-bucket\"\n",
    "MOUNT_NAME = \"/mnt/s3_bucket_test\"\n",
    "SOURCE_URL = \"s3n://{0}:{1}@{2}\".format(ACCESS_KEY, ENCODED_SECRET_KEY, AWS_S3_BUCKET)\n",
    "\n",
    "# Unmount directory if already mounted (removes previous errors)\n",
    "if MOUNT_NAME in [mnt.mountPoint for mnt in dbutils.fs.mounts()]:\n",
    "  dbutils.fs.unmount(MOUNT_NAME)\n",
    "\n",
    "# Mount the new directory\n",
    "dbutils.fs.mount(SOURCE_URL, MOUNT_NAME)"
   ]
  },
  {
   "cell_type": "code",
   "execution_count": 0,
   "metadata": {
    "application/vnd.databricks.v1+cell": {
     "cellMetadata": {
      "byteLimit": 2048000,
      "rowLimit": 10000
     },
     "inputWidgets": {},
     "nuid": "67bdc1ae-98e7-4ab0-aca3-f1e1790f5030",
     "showTitle": false,
     "title": ""
    }
   },
   "outputs": [
    {
     "output_type": "display_data",
     "data": {
      "text/html": [
       "<style scoped>\n",
       "  .table-result-container {\n",
       "    max-height: 300px;\n",
       "    overflow: auto;\n",
       "  }\n",
       "  table, th, td {\n",
       "    border: 1px solid black;\n",
       "    border-collapse: collapse;\n",
       "  }\n",
       "  th, td {\n",
       "    padding: 5px;\n",
       "  }\n",
       "  th {\n",
       "    text-align: left;\n",
       "  }\n",
       "</style><div class='table-result-container'><table class='table-result'><thead style='background-color: white'><tr><th>path</th><th>name</th><th>size</th><th>modificationTime</th></tr></thead><tbody><tr><td>dbfs:/mnt/s3_bucket_test/topics/12a3da8f7ced.pin/partition=0/12a3da8f7ced.pin+0+0000000000.json</td><td>12a3da8f7ced.pin+0+0000000000.json</td><td>444</td><td>1705678762000</td></tr><tr><td>dbfs:/mnt/s3_bucket_test/topics/12a3da8f7ced.pin/partition=0/12a3da8f7ced.pin+0+0000000001.json</td><td>12a3da8f7ced.pin+0+0000000001.json</td><td>681</td><td>1705678764000</td></tr><tr><td>dbfs:/mnt/s3_bucket_test/topics/12a3da8f7ced.pin/partition=0/12a3da8f7ced.pin+0+0000000002.json</td><td>12a3da8f7ced.pin+0+0000000002.json</td><td>714</td><td>1705678766000</td></tr><tr><td>dbfs:/mnt/s3_bucket_test/topics/12a3da8f7ced.pin/partition=0/12a3da8f7ced.pin+0+0000000003.json</td><td>12a3da8f7ced.pin+0+0000000003.json</td><td>640</td><td>1705678767000</td></tr><tr><td>dbfs:/mnt/s3_bucket_test/topics/12a3da8f7ced.pin/partition=0/12a3da8f7ced.pin+0+0000000004.json</td><td>12a3da8f7ced.pin+0+0000000004.json</td><td>643</td><td>1705678768000</td></tr><tr><td>dbfs:/mnt/s3_bucket_test/topics/12a3da8f7ced.pin/partition=0/12a3da8f7ced.pin+0+0000000005.json</td><td>12a3da8f7ced.pin+0+0000000005.json</td><td>602</td><td>1705678769000</td></tr><tr><td>dbfs:/mnt/s3_bucket_test/topics/12a3da8f7ced.pin/partition=0/12a3da8f7ced.pin+0+0000000006.json</td><td>12a3da8f7ced.pin+0+0000000006.json</td><td>767</td><td>1705678770000</td></tr><tr><td>dbfs:/mnt/s3_bucket_test/topics/12a3da8f7ced.pin/partition=0/12a3da8f7ced.pin+0+0000000007.json</td><td>12a3da8f7ced.pin+0+0000000007.json</td><td>444</td><td>1705682924000</td></tr><tr><td>dbfs:/mnt/s3_bucket_test/topics/12a3da8f7ced.pin/partition=0/12a3da8f7ced.pin+0+0000000008.json</td><td>12a3da8f7ced.pin+0+0000000008.json</td><td>681</td><td>1705682928000</td></tr><tr><td>dbfs:/mnt/s3_bucket_test/topics/12a3da8f7ced.pin/partition=0/12a3da8f7ced.pin+0+0000000009.json</td><td>12a3da8f7ced.pin+0+0000000009.json</td><td>714</td><td>1705682933000</td></tr><tr><td>dbfs:/mnt/s3_bucket_test/topics/12a3da8f7ced.pin/partition=0/12a3da8f7ced.pin+0+0000000010.json</td><td>12a3da8f7ced.pin+0+0000000010.json</td><td>640</td><td>1705682941000</td></tr><tr><td>dbfs:/mnt/s3_bucket_test/topics/12a3da8f7ced.pin/partition=0/12a3da8f7ced.pin+0+0000000011.json</td><td>12a3da8f7ced.pin+0+0000000011.json</td><td>643</td><td>1705682942000</td></tr><tr><td>dbfs:/mnt/s3_bucket_test/topics/12a3da8f7ced.pin/partition=0/12a3da8f7ced.pin+0+0000000012.json</td><td>12a3da8f7ced.pin+0+0000000012.json</td><td>602</td><td>1705682945000</td></tr><tr><td>dbfs:/mnt/s3_bucket_test/topics/12a3da8f7ced.pin/partition=0/12a3da8f7ced.pin+0+0000000013.json</td><td>12a3da8f7ced.pin+0+0000000013.json</td><td>767</td><td>1705682949000</td></tr><tr><td>dbfs:/mnt/s3_bucket_test/topics/12a3da8f7ced.pin/partition=0/12a3da8f7ced.pin+0+0000000014.json</td><td>12a3da8f7ced.pin+0+0000000014.json</td><td>509</td><td>1705682952000</td></tr><tr><td>dbfs:/mnt/s3_bucket_test/topics/12a3da8f7ced.pin/partition=0/12a3da8f7ced.pin+0+0000000015.json</td><td>12a3da8f7ced.pin+0+0000000015.json</td><td>810</td><td>1705682956000</td></tr><tr><td>dbfs:/mnt/s3_bucket_test/topics/12a3da8f7ced.pin/partition=0/12a3da8f7ced.pin+0+0000000016.json</td><td>12a3da8f7ced.pin+0+0000000016.json</td><td>766</td><td>1705682959000</td></tr><tr><td>dbfs:/mnt/s3_bucket_test/topics/12a3da8f7ced.pin/partition=0/12a3da8f7ced.pin+0+0000000017.json</td><td>12a3da8f7ced.pin+0+0000000017.json</td><td>680</td><td>1705682963000</td></tr><tr><td>dbfs:/mnt/s3_bucket_test/topics/12a3da8f7ced.pin/partition=0/12a3da8f7ced.pin+0+0000000018.json</td><td>12a3da8f7ced.pin+0+0000000018.json</td><td>448</td><td>1705682966000</td></tr><tr><td>dbfs:/mnt/s3_bucket_test/topics/12a3da8f7ced.pin/partition=0/12a3da8f7ced.pin+0+0000000019.json</td><td>12a3da8f7ced.pin+0+0000000019.json</td><td>760</td><td>1705682971000</td></tr><tr><td>dbfs:/mnt/s3_bucket_test/topics/12a3da8f7ced.pin/partition=0/12a3da8f7ced.pin+0+0000000020.json</td><td>12a3da8f7ced.pin+0+0000000020.json</td><td>719</td><td>1705682976000</td></tr><tr><td>dbfs:/mnt/s3_bucket_test/topics/12a3da8f7ced.pin/partition=0/12a3da8f7ced.pin+0+0000000021.json</td><td>12a3da8f7ced.pin+0+0000000021.json</td><td>626</td><td>1705682980000</td></tr><tr><td>dbfs:/mnt/s3_bucket_test/topics/12a3da8f7ced.pin/partition=0/12a3da8f7ced.pin+0+0000000022.json</td><td>12a3da8f7ced.pin+0+0000000022.json</td><td>772</td><td>1705682985000</td></tr><tr><td>dbfs:/mnt/s3_bucket_test/topics/12a3da8f7ced.pin/partition=0/12a3da8f7ced.pin+0+0000000023.json</td><td>12a3da8f7ced.pin+0+0000000023.json</td><td>582</td><td>1705682988000</td></tr><tr><td>dbfs:/mnt/s3_bucket_test/topics/12a3da8f7ced.pin/partition=0/12a3da8f7ced.pin+0+0000000024.json</td><td>12a3da8f7ced.pin+0+0000000024.json</td><td>733</td><td>1705682992000</td></tr><tr><td>dbfs:/mnt/s3_bucket_test/topics/12a3da8f7ced.pin/partition=0/12a3da8f7ced.pin+0+0000000025.json</td><td>12a3da8f7ced.pin+0+0000000025.json</td><td>727</td><td>1705682995000</td></tr><tr><td>dbfs:/mnt/s3_bucket_test/topics/12a3da8f7ced.pin/partition=0/12a3da8f7ced.pin+0+0000000026.json</td><td>12a3da8f7ced.pin+0+0000000026.json</td><td>802</td><td>1705682999000</td></tr><tr><td>dbfs:/mnt/s3_bucket_test/topics/12a3da8f7ced.pin/partition=0/12a3da8f7ced.pin+0+0000000027.json</td><td>12a3da8f7ced.pin+0+0000000027.json</td><td>823</td><td>1705683003000</td></tr><tr><td>dbfs:/mnt/s3_bucket_test/topics/12a3da8f7ced.pin/partition=0/12a3da8f7ced.pin+0+0000000028.json</td><td>12a3da8f7ced.pin+0+0000000028.json</td><td>727</td><td>1705683006000</td></tr><tr><td>dbfs:/mnt/s3_bucket_test/topics/12a3da8f7ced.pin/partition=0/12a3da8f7ced.pin+0+0000000029.json</td><td>12a3da8f7ced.pin+0+0000000029.json</td><td>766</td><td>1705683010000</td></tr><tr><td>dbfs:/mnt/s3_bucket_test/topics/12a3da8f7ced.pin/partition=0/12a3da8f7ced.pin+0+0000000030.json</td><td>12a3da8f7ced.pin+0+0000000030.json</td><td>700</td><td>1705683014000</td></tr><tr><td>dbfs:/mnt/s3_bucket_test/topics/12a3da8f7ced.pin/partition=0/12a3da8f7ced.pin+0+0000000031.json</td><td>12a3da8f7ced.pin+0+0000000031.json</td><td>444</td><td>1706033263000</td></tr><tr><td>dbfs:/mnt/s3_bucket_test/topics/12a3da8f7ced.pin/partition=0/12a3da8f7ced.pin+0+0000000032.json</td><td>12a3da8f7ced.pin+0+0000000032.json</td><td>681</td><td>1706033270000</td></tr><tr><td>dbfs:/mnt/s3_bucket_test/topics/12a3da8f7ced.pin/partition=0/12a3da8f7ced.pin+0+0000000033.json</td><td>12a3da8f7ced.pin+0+0000000033.json</td><td>714</td><td>1706033278000</td></tr><tr><td>dbfs:/mnt/s3_bucket_test/topics/12a3da8f7ced.pin/partition=0/12a3da8f7ced.pin+0+0000000034.json</td><td>12a3da8f7ced.pin+0+0000000034.json</td><td>640</td><td>1706033283000</td></tr><tr><td>dbfs:/mnt/s3_bucket_test/topics/12a3da8f7ced.pin/partition=0/12a3da8f7ced.pin+0+0000000035.json</td><td>12a3da8f7ced.pin+0+0000000035.json</td><td>643</td><td>1706033288000</td></tr><tr><td>dbfs:/mnt/s3_bucket_test/topics/12a3da8f7ced.pin/partition=0/12a3da8f7ced.pin+0+0000000036.json</td><td>12a3da8f7ced.pin+0+0000000036.json</td><td>602</td><td>1706033292000</td></tr><tr><td>dbfs:/mnt/s3_bucket_test/topics/12a3da8f7ced.pin/partition=0/12a3da8f7ced.pin+0+0000000037.json</td><td>12a3da8f7ced.pin+0+0000000037.json</td><td>767</td><td>1706033297000</td></tr><tr><td>dbfs:/mnt/s3_bucket_test/topics/12a3da8f7ced.pin/partition=0/12a3da8f7ced.pin+0+0000000038.json</td><td>12a3da8f7ced.pin+0+0000000038.json</td><td>509</td><td>1706033302000</td></tr><tr><td>dbfs:/mnt/s3_bucket_test/topics/12a3da8f7ced.pin/partition=0/12a3da8f7ced.pin+0+0000000039.json</td><td>12a3da8f7ced.pin+0+0000000039.json</td><td>810</td><td>1706033307000</td></tr><tr><td>dbfs:/mnt/s3_bucket_test/topics/12a3da8f7ced.pin/partition=0/12a3da8f7ced.pin+0+0000000040.json</td><td>12a3da8f7ced.pin+0+0000000040.json</td><td>766</td><td>1706033311000</td></tr><tr><td>dbfs:/mnt/s3_bucket_test/topics/12a3da8f7ced.pin/partition=0/12a3da8f7ced.pin+0+0000000041.json</td><td>12a3da8f7ced.pin+0+0000000041.json</td><td>680</td><td>1706033317000</td></tr><tr><td>dbfs:/mnt/s3_bucket_test/topics/12a3da8f7ced.pin/partition=0/12a3da8f7ced.pin+0+0000000042.json</td><td>12a3da8f7ced.pin+0+0000000042.json</td><td>448</td><td>1706033321000</td></tr><tr><td>dbfs:/mnt/s3_bucket_test/topics/12a3da8f7ced.pin/partition=0/12a3da8f7ced.pin+0+0000000043.json</td><td>12a3da8f7ced.pin+0+0000000043.json</td><td>760</td><td>1706033327000</td></tr><tr><td>dbfs:/mnt/s3_bucket_test/topics/12a3da8f7ced.pin/partition=0/12a3da8f7ced.pin+0+0000000044.json</td><td>12a3da8f7ced.pin+0+0000000044.json</td><td>719</td><td>1706033332000</td></tr><tr><td>dbfs:/mnt/s3_bucket_test/topics/12a3da8f7ced.pin/partition=0/12a3da8f7ced.pin+0+0000000045.json</td><td>12a3da8f7ced.pin+0+0000000045.json</td><td>626</td><td>1706033337000</td></tr><tr><td>dbfs:/mnt/s3_bucket_test/topics/12a3da8f7ced.pin/partition=0/12a3da8f7ced.pin+0+0000000046.json</td><td>12a3da8f7ced.pin+0+0000000046.json</td><td>772</td><td>1706033343000</td></tr><tr><td>dbfs:/mnt/s3_bucket_test/topics/12a3da8f7ced.pin/partition=0/12a3da8f7ced.pin+0+0000000047.json</td><td>12a3da8f7ced.pin+0+0000000047.json</td><td>582</td><td>1706033347000</td></tr><tr><td>dbfs:/mnt/s3_bucket_test/topics/12a3da8f7ced.pin/partition=0/12a3da8f7ced.pin+0+0000000048.json</td><td>12a3da8f7ced.pin+0+0000000048.json</td><td>733</td><td>1706033353000</td></tr><tr><td>dbfs:/mnt/s3_bucket_test/topics/12a3da8f7ced.pin/partition=0/12a3da8f7ced.pin+0+0000000049.json</td><td>12a3da8f7ced.pin+0+0000000049.json</td><td>727</td><td>1706033357000</td></tr><tr><td>dbfs:/mnt/s3_bucket_test/topics/12a3da8f7ced.pin/partition=0/12a3da8f7ced.pin+0+0000000050.json</td><td>12a3da8f7ced.pin+0+0000000050.json</td><td>802</td><td>1706033362000</td></tr><tr><td>dbfs:/mnt/s3_bucket_test/topics/12a3da8f7ced.pin/partition=0/12a3da8f7ced.pin+0+0000000051.json</td><td>12a3da8f7ced.pin+0+0000000051.json</td><td>823</td><td>1706033366000</td></tr><tr><td>dbfs:/mnt/s3_bucket_test/topics/12a3da8f7ced.pin/partition=0/12a3da8f7ced.pin+0+0000000052.json</td><td>12a3da8f7ced.pin+0+0000000052.json</td><td>727</td><td>1706033370000</td></tr><tr><td>dbfs:/mnt/s3_bucket_test/topics/12a3da8f7ced.pin/partition=0/12a3da8f7ced.pin+0+0000000053.json</td><td>12a3da8f7ced.pin+0+0000000053.json</td><td>766</td><td>1706033375000</td></tr><tr><td>dbfs:/mnt/s3_bucket_test/topics/12a3da8f7ced.pin/partition=0/12a3da8f7ced.pin+0+0000000054.json</td><td>12a3da8f7ced.pin+0+0000000054.json</td><td>700</td><td>1706033382000</td></tr><tr><td>dbfs:/mnt/s3_bucket_test/topics/12a3da8f7ced.pin/partition=0/12a3da8f7ced.pin+0+0000000055.json</td><td>12a3da8f7ced.pin+0+0000000055.json</td><td>779</td><td>1706033387000</td></tr><tr><td>dbfs:/mnt/s3_bucket_test/topics/12a3da8f7ced.pin/partition=0/12a3da8f7ced.pin+0+0000000056.json</td><td>12a3da8f7ced.pin+0+0000000056.json</td><td>838</td><td>1706033391000</td></tr><tr><td>dbfs:/mnt/s3_bucket_test/topics/12a3da8f7ced.pin/partition=0/12a3da8f7ced.pin+0+0000000057.json</td><td>12a3da8f7ced.pin+0+0000000057.json</td><td>744</td><td>1706033398000</td></tr><tr><td>dbfs:/mnt/s3_bucket_test/topics/12a3da8f7ced.pin/partition=0/12a3da8f7ced.pin+0+0000000058.json</td><td>12a3da8f7ced.pin+0+0000000058.json</td><td>681</td><td>1706033403000</td></tr><tr><td>dbfs:/mnt/s3_bucket_test/topics/12a3da8f7ced.pin/partition=0/12a3da8f7ced.pin+0+0000000059.json</td><td>12a3da8f7ced.pin+0+0000000059.json</td><td>622</td><td>1706033409000</td></tr><tr><td>dbfs:/mnt/s3_bucket_test/topics/12a3da8f7ced.pin/partition=0/12a3da8f7ced.pin+0+0000000060.json</td><td>12a3da8f7ced.pin+0+0000000060.json</td><td>790</td><td>1706033415000</td></tr><tr><td>dbfs:/mnt/s3_bucket_test/topics/12a3da8f7ced.pin/partition=0/12a3da8f7ced.pin+0+0000000061.json</td><td>12a3da8f7ced.pin+0+0000000061.json</td><td>524</td><td>1706033420000</td></tr><tr><td>dbfs:/mnt/s3_bucket_test/topics/12a3da8f7ced.pin/partition=0/12a3da8f7ced.pin+0+0000000062.json</td><td>12a3da8f7ced.pin+0+0000000062.json</td><td>734</td><td>1706033425000</td></tr><tr><td>dbfs:/mnt/s3_bucket_test/topics/12a3da8f7ced.pin/partition=0/12a3da8f7ced.pin+0+0000000063.json</td><td>12a3da8f7ced.pin+0+0000000063.json</td><td>751</td><td>1706033430000</td></tr><tr><td>dbfs:/mnt/s3_bucket_test/topics/12a3da8f7ced.pin/partition=0/12a3da8f7ced.pin+0+0000000064.json</td><td>12a3da8f7ced.pin+0+0000000064.json</td><td>745</td><td>1706033434000</td></tr><tr><td>dbfs:/mnt/s3_bucket_test/topics/12a3da8f7ced.pin/partition=0/12a3da8f7ced.pin+0+0000000065.json</td><td>12a3da8f7ced.pin+0+0000000065.json</td><td>650</td><td>1706033439000</td></tr><tr><td>dbfs:/mnt/s3_bucket_test/topics/12a3da8f7ced.pin/partition=0/12a3da8f7ced.pin+0+0000000066.json</td><td>12a3da8f7ced.pin+0+0000000066.json</td><td>749</td><td>1706033445000</td></tr><tr><td>dbfs:/mnt/s3_bucket_test/topics/12a3da8f7ced.pin/partition=0/12a3da8f7ced.pin+0+0000000067.json</td><td>12a3da8f7ced.pin+0+0000000067.json</td><td>574</td><td>1706033449000</td></tr><tr><td>dbfs:/mnt/s3_bucket_test/topics/12a3da8f7ced.pin/partition=0/12a3da8f7ced.pin+0+0000000068.json</td><td>12a3da8f7ced.pin+0+0000000068.json</td><td>775</td><td>1706033456000</td></tr><tr><td>dbfs:/mnt/s3_bucket_test/topics/12a3da8f7ced.pin/partition=0/12a3da8f7ced.pin+0+0000000069.json</td><td>12a3da8f7ced.pin+0+0000000069.json</td><td>786</td><td>1706033459000</td></tr><tr><td>dbfs:/mnt/s3_bucket_test/topics/12a3da8f7ced.pin/partition=0/12a3da8f7ced.pin+0+0000000070.json</td><td>12a3da8f7ced.pin+0+0000000070.json</td><td>699</td><td>1706033464000</td></tr><tr><td>dbfs:/mnt/s3_bucket_test/topics/12a3da8f7ced.pin/partition=0/12a3da8f7ced.pin+0+0000000071.json</td><td>12a3da8f7ced.pin+0+0000000071.json</td><td>759</td><td>1706033470000</td></tr><tr><td>dbfs:/mnt/s3_bucket_test/topics/12a3da8f7ced.pin/partition=0/12a3da8f7ced.pin+0+0000000072.json</td><td>12a3da8f7ced.pin+0+0000000072.json</td><td>682</td><td>1706033477000</td></tr><tr><td>dbfs:/mnt/s3_bucket_test/topics/12a3da8f7ced.pin/partition=0/12a3da8f7ced.pin+0+0000000073.json</td><td>12a3da8f7ced.pin+0+0000000073.json</td><td>692</td><td>1706033482000</td></tr><tr><td>dbfs:/mnt/s3_bucket_test/topics/12a3da8f7ced.pin/partition=0/12a3da8f7ced.pin+0+0000000074.json</td><td>12a3da8f7ced.pin+0+0000000074.json</td><td>697</td><td>1706033487000</td></tr><tr><td>dbfs:/mnt/s3_bucket_test/topics/12a3da8f7ced.pin/partition=0/12a3da8f7ced.pin+0+0000000075.json</td><td>12a3da8f7ced.pin+0+0000000075.json</td><td>691</td><td>1706033493000</td></tr><tr><td>dbfs:/mnt/s3_bucket_test/topics/12a3da8f7ced.pin/partition=0/12a3da8f7ced.pin+0+0000000076.json</td><td>12a3da8f7ced.pin+0+0000000076.json</td><td>766</td><td>1706033499000</td></tr><tr><td>dbfs:/mnt/s3_bucket_test/topics/12a3da8f7ced.pin/partition=0/12a3da8f7ced.pin+0+0000000077.json</td><td>12a3da8f7ced.pin+0+0000000077.json</td><td>778</td><td>1706033504000</td></tr><tr><td>dbfs:/mnt/s3_bucket_test/topics/12a3da8f7ced.pin/partition=0/12a3da8f7ced.pin+0+0000000078.json</td><td>12a3da8f7ced.pin+0+0000000078.json</td><td>703</td><td>1706033511000</td></tr><tr><td>dbfs:/mnt/s3_bucket_test/topics/12a3da8f7ced.pin/partition=0/12a3da8f7ced.pin+0+0000000079.json</td><td>12a3da8f7ced.pin+0+0000000079.json</td><td>770</td><td>1706033518000</td></tr><tr><td>dbfs:/mnt/s3_bucket_test/topics/12a3da8f7ced.pin/partition=0/12a3da8f7ced.pin+0+0000000080.json</td><td>12a3da8f7ced.pin+0+0000000080.json</td><td>886</td><td>1706033525000</td></tr><tr><td>dbfs:/mnt/s3_bucket_test/topics/12a3da8f7ced.pin/partition=0/12a3da8f7ced.pin+0+0000000081.json</td><td>12a3da8f7ced.pin+0+0000000081.json</td><td>745</td><td>1706033532000</td></tr><tr><td>dbfs:/mnt/s3_bucket_test/topics/12a3da8f7ced.pin/partition=0/12a3da8f7ced.pin+0+0000000082.json</td><td>12a3da8f7ced.pin+0+0000000082.json</td><td>740</td><td>1706033538000</td></tr><tr><td>dbfs:/mnt/s3_bucket_test/topics/12a3da8f7ced.pin/partition=0/12a3da8f7ced.pin+0+0000000083.json</td><td>12a3da8f7ced.pin+0+0000000083.json</td><td>696</td><td>1706033543000</td></tr><tr><td>dbfs:/mnt/s3_bucket_test/topics/12a3da8f7ced.pin/partition=0/12a3da8f7ced.pin+0+0000000084.json</td><td>12a3da8f7ced.pin+0+0000000084.json</td><td>788</td><td>1706033548000</td></tr><tr><td>dbfs:/mnt/s3_bucket_test/topics/12a3da8f7ced.pin/partition=0/12a3da8f7ced.pin+0+0000000085.json</td><td>12a3da8f7ced.pin+0+0000000085.json</td><td>784</td><td>1706033554000</td></tr><tr><td>dbfs:/mnt/s3_bucket_test/topics/12a3da8f7ced.pin/partition=0/12a3da8f7ced.pin+0+0000000086.json</td><td>12a3da8f7ced.pin+0+0000000086.json</td><td>698</td><td>1706033558000</td></tr><tr><td>dbfs:/mnt/s3_bucket_test/topics/12a3da8f7ced.pin/partition=0/12a3da8f7ced.pin+0+0000000087.json</td><td>12a3da8f7ced.pin+0+0000000087.json</td><td>784</td><td>1706033561000</td></tr><tr><td>dbfs:/mnt/s3_bucket_test/topics/12a3da8f7ced.pin/partition=0/12a3da8f7ced.pin+0+0000000088.json</td><td>12a3da8f7ced.pin+0+0000000088.json</td><td>621</td><td>1706033565000</td></tr><tr><td>dbfs:/mnt/s3_bucket_test/topics/12a3da8f7ced.pin/partition=0/12a3da8f7ced.pin+0+0000000089.json</td><td>12a3da8f7ced.pin+0+0000000089.json</td><td>736</td><td>1706033569000</td></tr><tr><td>dbfs:/mnt/s3_bucket_test/topics/12a3da8f7ced.pin/partition=0/12a3da8f7ced.pin+0+0000000090.json</td><td>12a3da8f7ced.pin+0+0000000090.json</td><td>503</td><td>1706033574000</td></tr><tr><td>dbfs:/mnt/s3_bucket_test/topics/12a3da8f7ced.pin/partition=0/12a3da8f7ced.pin+0+0000000091.json</td><td>12a3da8f7ced.pin+0+0000000091.json</td><td>711</td><td>1706033580000</td></tr><tr><td>dbfs:/mnt/s3_bucket_test/topics/12a3da8f7ced.pin/partition=0/12a3da8f7ced.pin+0+0000000092.json</td><td>12a3da8f7ced.pin+0+0000000092.json</td><td>675</td><td>1706033585000</td></tr><tr><td>dbfs:/mnt/s3_bucket_test/topics/12a3da8f7ced.pin/partition=0/12a3da8f7ced.pin+0+0000000093.json</td><td>12a3da8f7ced.pin+0+0000000093.json</td><td>649</td><td>1706033590000</td></tr><tr><td>dbfs:/mnt/s3_bucket_test/topics/12a3da8f7ced.pin/partition=0/12a3da8f7ced.pin+0+0000000094.json</td><td>12a3da8f7ced.pin+0+0000000094.json</td><td>755</td><td>1706033596000</td></tr><tr><td>dbfs:/mnt/s3_bucket_test/topics/12a3da8f7ced.pin/partition=0/12a3da8f7ced.pin+0+0000000095.json</td><td>12a3da8f7ced.pin+0+0000000095.json</td><td>678</td><td>1706033600000</td></tr><tr><td>dbfs:/mnt/s3_bucket_test/topics/12a3da8f7ced.pin/partition=0/12a3da8f7ced.pin+0+0000000096.json</td><td>12a3da8f7ced.pin+0+0000000096.json</td><td>560</td><td>1706033605000</td></tr><tr><td>dbfs:/mnt/s3_bucket_test/topics/12a3da8f7ced.pin/partition=0/12a3da8f7ced.pin+0+0000000097.json</td><td>12a3da8f7ced.pin+0+0000000097.json</td><td>817</td><td>1706033610000</td></tr><tr><td>dbfs:/mnt/s3_bucket_test/topics/12a3da8f7ced.pin/partition=0/12a3da8f7ced.pin+0+0000000098.json</td><td>12a3da8f7ced.pin+0+0000000098.json</td><td>667</td><td>1706033615000</td></tr><tr><td>dbfs:/mnt/s3_bucket_test/topics/12a3da8f7ced.pin/partition=0/12a3da8f7ced.pin+0+0000000099.json</td><td>12a3da8f7ced.pin+0+0000000099.json</td><td>750</td><td>1706033621000</td></tr><tr><td>dbfs:/mnt/s3_bucket_test/topics/12a3da8f7ced.pin/partition=0/12a3da8f7ced.pin+0+0000000100.json</td><td>12a3da8f7ced.pin+0+0000000100.json</td><td>696</td><td>1706033627000</td></tr><tr><td>dbfs:/mnt/s3_bucket_test/topics/12a3da8f7ced.pin/partition=0/12a3da8f7ced.pin+0+0000000101.json</td><td>12a3da8f7ced.pin+0+0000000101.json</td><td>743</td><td>1706033631000</td></tr><tr><td>dbfs:/mnt/s3_bucket_test/topics/12a3da8f7ced.pin/partition=0/12a3da8f7ced.pin+0+0000000102.json</td><td>12a3da8f7ced.pin+0+0000000102.json</td><td>718</td><td>1706033636000</td></tr><tr><td>dbfs:/mnt/s3_bucket_test/topics/12a3da8f7ced.pin/partition=0/12a3da8f7ced.pin+0+0000000103.json</td><td>12a3da8f7ced.pin+0+0000000103.json</td><td>661</td><td>1706033644000</td></tr><tr><td>dbfs:/mnt/s3_bucket_test/topics/12a3da8f7ced.pin/partition=0/12a3da8f7ced.pin+0+0000000104.json</td><td>12a3da8f7ced.pin+0+0000000104.json</td><td>576</td><td>1706033648000</td></tr><tr><td>dbfs:/mnt/s3_bucket_test/topics/12a3da8f7ced.pin/partition=0/12a3da8f7ced.pin+0+0000000105.json</td><td>12a3da8f7ced.pin+0+0000000105.json</td><td>771</td><td>1706033652000</td></tr><tr><td>dbfs:/mnt/s3_bucket_test/topics/12a3da8f7ced.pin/partition=0/12a3da8f7ced.pin+0+0000000106.json</td><td>12a3da8f7ced.pin+0+0000000106.json</td><td>721</td><td>1706033657000</td></tr><tr><td>dbfs:/mnt/s3_bucket_test/topics/12a3da8f7ced.pin/partition=0/12a3da8f7ced.pin+0+0000000107.json</td><td>12a3da8f7ced.pin+0+0000000107.json</td><td>780</td><td>1706033661000</td></tr><tr><td>dbfs:/mnt/s3_bucket_test/topics/12a3da8f7ced.pin/partition=0/12a3da8f7ced.pin+0+0000000108.json</td><td>12a3da8f7ced.pin+0+0000000108.json</td><td>767</td><td>1706033665000</td></tr><tr><td>dbfs:/mnt/s3_bucket_test/topics/12a3da8f7ced.pin/partition=0/12a3da8f7ced.pin+0+0000000109.json</td><td>12a3da8f7ced.pin+0+0000000109.json</td><td>714</td><td>1706033670000</td></tr><tr><td>dbfs:/mnt/s3_bucket_test/topics/12a3da8f7ced.pin/partition=0/12a3da8f7ced.pin+0+0000000110.json</td><td>12a3da8f7ced.pin+0+0000000110.json</td><td>690</td><td>1706033674000</td></tr><tr><td>dbfs:/mnt/s3_bucket_test/topics/12a3da8f7ced.pin/partition=0/12a3da8f7ced.pin+0+0000000111.json</td><td>12a3da8f7ced.pin+0+0000000111.json</td><td>660</td><td>1706033680000</td></tr><tr><td>dbfs:/mnt/s3_bucket_test/topics/12a3da8f7ced.pin/partition=0/12a3da8f7ced.pin+0+0000000112.json</td><td>12a3da8f7ced.pin+0+0000000112.json</td><td>756</td><td>1706033686000</td></tr><tr><td>dbfs:/mnt/s3_bucket_test/topics/12a3da8f7ced.pin/partition=0/12a3da8f7ced.pin+0+0000000113.json</td><td>12a3da8f7ced.pin+0+0000000113.json</td><td>727</td><td>1706033690000</td></tr><tr><td>dbfs:/mnt/s3_bucket_test/topics/12a3da8f7ced.pin/partition=0/12a3da8f7ced.pin+0+0000000114.json</td><td>12a3da8f7ced.pin+0+0000000114.json</td><td>819</td><td>1706033693000</td></tr><tr><td>dbfs:/mnt/s3_bucket_test/topics/12a3da8f7ced.pin/partition=0/12a3da8f7ced.pin+0+0000000115.json</td><td>12a3da8f7ced.pin+0+0000000115.json</td><td>763</td><td>1706033698000</td></tr><tr><td>dbfs:/mnt/s3_bucket_test/topics/12a3da8f7ced.pin/partition=0/12a3da8f7ced.pin+0+0000000116.json</td><td>12a3da8f7ced.pin+0+0000000116.json</td><td>831</td><td>1706033701000</td></tr></tbody></table></div>"
      ]
     },
     "metadata": {
      "application/vnd.databricks.v1+output": {
       "addedWidgets": {},
       "aggData": [],
       "aggError": "",
       "aggOverflow": false,
       "aggSchema": [],
       "aggSeriesLimitReached": false,
       "aggType": "",
       "arguments": {},
       "columnCustomDisplayInfos": {},
       "data": [
        [
         "dbfs:/mnt/s3_bucket_test/topics/12a3da8f7ced.pin/partition=0/12a3da8f7ced.pin+0+0000000000.json",
         "12a3da8f7ced.pin+0+0000000000.json",
         444,
         1705678762000
        ],
        [
         "dbfs:/mnt/s3_bucket_test/topics/12a3da8f7ced.pin/partition=0/12a3da8f7ced.pin+0+0000000001.json",
         "12a3da8f7ced.pin+0+0000000001.json",
         681,
         1705678764000
        ],
        [
         "dbfs:/mnt/s3_bucket_test/topics/12a3da8f7ced.pin/partition=0/12a3da8f7ced.pin+0+0000000002.json",
         "12a3da8f7ced.pin+0+0000000002.json",
         714,
         1705678766000
        ],
        [
         "dbfs:/mnt/s3_bucket_test/topics/12a3da8f7ced.pin/partition=0/12a3da8f7ced.pin+0+0000000003.json",
         "12a3da8f7ced.pin+0+0000000003.json",
         640,
         1705678767000
        ],
        [
         "dbfs:/mnt/s3_bucket_test/topics/12a3da8f7ced.pin/partition=0/12a3da8f7ced.pin+0+0000000004.json",
         "12a3da8f7ced.pin+0+0000000004.json",
         643,
         1705678768000
        ],
        [
         "dbfs:/mnt/s3_bucket_test/topics/12a3da8f7ced.pin/partition=0/12a3da8f7ced.pin+0+0000000005.json",
         "12a3da8f7ced.pin+0+0000000005.json",
         602,
         1705678769000
        ],
        [
         "dbfs:/mnt/s3_bucket_test/topics/12a3da8f7ced.pin/partition=0/12a3da8f7ced.pin+0+0000000006.json",
         "12a3da8f7ced.pin+0+0000000006.json",
         767,
         1705678770000
        ],
        [
         "dbfs:/mnt/s3_bucket_test/topics/12a3da8f7ced.pin/partition=0/12a3da8f7ced.pin+0+0000000007.json",
         "12a3da8f7ced.pin+0+0000000007.json",
         444,
         1705682924000
        ],
        [
         "dbfs:/mnt/s3_bucket_test/topics/12a3da8f7ced.pin/partition=0/12a3da8f7ced.pin+0+0000000008.json",
         "12a3da8f7ced.pin+0+0000000008.json",
         681,
         1705682928000
        ],
        [
         "dbfs:/mnt/s3_bucket_test/topics/12a3da8f7ced.pin/partition=0/12a3da8f7ced.pin+0+0000000009.json",
         "12a3da8f7ced.pin+0+0000000009.json",
         714,
         1705682933000
        ],
        [
         "dbfs:/mnt/s3_bucket_test/topics/12a3da8f7ced.pin/partition=0/12a3da8f7ced.pin+0+0000000010.json",
         "12a3da8f7ced.pin+0+0000000010.json",
         640,
         1705682941000
        ],
        [
         "dbfs:/mnt/s3_bucket_test/topics/12a3da8f7ced.pin/partition=0/12a3da8f7ced.pin+0+0000000011.json",
         "12a3da8f7ced.pin+0+0000000011.json",
         643,
         1705682942000
        ],
        [
         "dbfs:/mnt/s3_bucket_test/topics/12a3da8f7ced.pin/partition=0/12a3da8f7ced.pin+0+0000000012.json",
         "12a3da8f7ced.pin+0+0000000012.json",
         602,
         1705682945000
        ],
        [
         "dbfs:/mnt/s3_bucket_test/topics/12a3da8f7ced.pin/partition=0/12a3da8f7ced.pin+0+0000000013.json",
         "12a3da8f7ced.pin+0+0000000013.json",
         767,
         1705682949000
        ],
        [
         "dbfs:/mnt/s3_bucket_test/topics/12a3da8f7ced.pin/partition=0/12a3da8f7ced.pin+0+0000000014.json",
         "12a3da8f7ced.pin+0+0000000014.json",
         509,
         1705682952000
        ],
        [
         "dbfs:/mnt/s3_bucket_test/topics/12a3da8f7ced.pin/partition=0/12a3da8f7ced.pin+0+0000000015.json",
         "12a3da8f7ced.pin+0+0000000015.json",
         810,
         1705682956000
        ],
        [
         "dbfs:/mnt/s3_bucket_test/topics/12a3da8f7ced.pin/partition=0/12a3da8f7ced.pin+0+0000000016.json",
         "12a3da8f7ced.pin+0+0000000016.json",
         766,
         1705682959000
        ],
        [
         "dbfs:/mnt/s3_bucket_test/topics/12a3da8f7ced.pin/partition=0/12a3da8f7ced.pin+0+0000000017.json",
         "12a3da8f7ced.pin+0+0000000017.json",
         680,
         1705682963000
        ],
        [
         "dbfs:/mnt/s3_bucket_test/topics/12a3da8f7ced.pin/partition=0/12a3da8f7ced.pin+0+0000000018.json",
         "12a3da8f7ced.pin+0+0000000018.json",
         448,
         1705682966000
        ],
        [
         "dbfs:/mnt/s3_bucket_test/topics/12a3da8f7ced.pin/partition=0/12a3da8f7ced.pin+0+0000000019.json",
         "12a3da8f7ced.pin+0+0000000019.json",
         760,
         1705682971000
        ],
        [
         "dbfs:/mnt/s3_bucket_test/topics/12a3da8f7ced.pin/partition=0/12a3da8f7ced.pin+0+0000000020.json",
         "12a3da8f7ced.pin+0+0000000020.json",
         719,
         1705682976000
        ],
        [
         "dbfs:/mnt/s3_bucket_test/topics/12a3da8f7ced.pin/partition=0/12a3da8f7ced.pin+0+0000000021.json",
         "12a3da8f7ced.pin+0+0000000021.json",
         626,
         1705682980000
        ],
        [
         "dbfs:/mnt/s3_bucket_test/topics/12a3da8f7ced.pin/partition=0/12a3da8f7ced.pin+0+0000000022.json",
         "12a3da8f7ced.pin+0+0000000022.json",
         772,
         1705682985000
        ],
        [
         "dbfs:/mnt/s3_bucket_test/topics/12a3da8f7ced.pin/partition=0/12a3da8f7ced.pin+0+0000000023.json",
         "12a3da8f7ced.pin+0+0000000023.json",
         582,
         1705682988000
        ],
        [
         "dbfs:/mnt/s3_bucket_test/topics/12a3da8f7ced.pin/partition=0/12a3da8f7ced.pin+0+0000000024.json",
         "12a3da8f7ced.pin+0+0000000024.json",
         733,
         1705682992000
        ],
        [
         "dbfs:/mnt/s3_bucket_test/topics/12a3da8f7ced.pin/partition=0/12a3da8f7ced.pin+0+0000000025.json",
         "12a3da8f7ced.pin+0+0000000025.json",
         727,
         1705682995000
        ],
        [
         "dbfs:/mnt/s3_bucket_test/topics/12a3da8f7ced.pin/partition=0/12a3da8f7ced.pin+0+0000000026.json",
         "12a3da8f7ced.pin+0+0000000026.json",
         802,
         1705682999000
        ],
        [
         "dbfs:/mnt/s3_bucket_test/topics/12a3da8f7ced.pin/partition=0/12a3da8f7ced.pin+0+0000000027.json",
         "12a3da8f7ced.pin+0+0000000027.json",
         823,
         1705683003000
        ],
        [
         "dbfs:/mnt/s3_bucket_test/topics/12a3da8f7ced.pin/partition=0/12a3da8f7ced.pin+0+0000000028.json",
         "12a3da8f7ced.pin+0+0000000028.json",
         727,
         1705683006000
        ],
        [
         "dbfs:/mnt/s3_bucket_test/topics/12a3da8f7ced.pin/partition=0/12a3da8f7ced.pin+0+0000000029.json",
         "12a3da8f7ced.pin+0+0000000029.json",
         766,
         1705683010000
        ],
        [
         "dbfs:/mnt/s3_bucket_test/topics/12a3da8f7ced.pin/partition=0/12a3da8f7ced.pin+0+0000000030.json",
         "12a3da8f7ced.pin+0+0000000030.json",
         700,
         1705683014000
        ],
        [
         "dbfs:/mnt/s3_bucket_test/topics/12a3da8f7ced.pin/partition=0/12a3da8f7ced.pin+0+0000000031.json",
         "12a3da8f7ced.pin+0+0000000031.json",
         444,
         1706033263000
        ],
        [
         "dbfs:/mnt/s3_bucket_test/topics/12a3da8f7ced.pin/partition=0/12a3da8f7ced.pin+0+0000000032.json",
         "12a3da8f7ced.pin+0+0000000032.json",
         681,
         1706033270000
        ],
        [
         "dbfs:/mnt/s3_bucket_test/topics/12a3da8f7ced.pin/partition=0/12a3da8f7ced.pin+0+0000000033.json",
         "12a3da8f7ced.pin+0+0000000033.json",
         714,
         1706033278000
        ],
        [
         "dbfs:/mnt/s3_bucket_test/topics/12a3da8f7ced.pin/partition=0/12a3da8f7ced.pin+0+0000000034.json",
         "12a3da8f7ced.pin+0+0000000034.json",
         640,
         1706033283000
        ],
        [
         "dbfs:/mnt/s3_bucket_test/topics/12a3da8f7ced.pin/partition=0/12a3da8f7ced.pin+0+0000000035.json",
         "12a3da8f7ced.pin+0+0000000035.json",
         643,
         1706033288000
        ],
        [
         "dbfs:/mnt/s3_bucket_test/topics/12a3da8f7ced.pin/partition=0/12a3da8f7ced.pin+0+0000000036.json",
         "12a3da8f7ced.pin+0+0000000036.json",
         602,
         1706033292000
        ],
        [
         "dbfs:/mnt/s3_bucket_test/topics/12a3da8f7ced.pin/partition=0/12a3da8f7ced.pin+0+0000000037.json",
         "12a3da8f7ced.pin+0+0000000037.json",
         767,
         1706033297000
        ],
        [
         "dbfs:/mnt/s3_bucket_test/topics/12a3da8f7ced.pin/partition=0/12a3da8f7ced.pin+0+0000000038.json",
         "12a3da8f7ced.pin+0+0000000038.json",
         509,
         1706033302000
        ],
        [
         "dbfs:/mnt/s3_bucket_test/topics/12a3da8f7ced.pin/partition=0/12a3da8f7ced.pin+0+0000000039.json",
         "12a3da8f7ced.pin+0+0000000039.json",
         810,
         1706033307000
        ],
        [
         "dbfs:/mnt/s3_bucket_test/topics/12a3da8f7ced.pin/partition=0/12a3da8f7ced.pin+0+0000000040.json",
         "12a3da8f7ced.pin+0+0000000040.json",
         766,
         1706033311000
        ],
        [
         "dbfs:/mnt/s3_bucket_test/topics/12a3da8f7ced.pin/partition=0/12a3da8f7ced.pin+0+0000000041.json",
         "12a3da8f7ced.pin+0+0000000041.json",
         680,
         1706033317000
        ],
        [
         "dbfs:/mnt/s3_bucket_test/topics/12a3da8f7ced.pin/partition=0/12a3da8f7ced.pin+0+0000000042.json",
         "12a3da8f7ced.pin+0+0000000042.json",
         448,
         1706033321000
        ],
        [
         "dbfs:/mnt/s3_bucket_test/topics/12a3da8f7ced.pin/partition=0/12a3da8f7ced.pin+0+0000000043.json",
         "12a3da8f7ced.pin+0+0000000043.json",
         760,
         1706033327000
        ],
        [
         "dbfs:/mnt/s3_bucket_test/topics/12a3da8f7ced.pin/partition=0/12a3da8f7ced.pin+0+0000000044.json",
         "12a3da8f7ced.pin+0+0000000044.json",
         719,
         1706033332000
        ],
        [
         "dbfs:/mnt/s3_bucket_test/topics/12a3da8f7ced.pin/partition=0/12a3da8f7ced.pin+0+0000000045.json",
         "12a3da8f7ced.pin+0+0000000045.json",
         626,
         1706033337000
        ],
        [
         "dbfs:/mnt/s3_bucket_test/topics/12a3da8f7ced.pin/partition=0/12a3da8f7ced.pin+0+0000000046.json",
         "12a3da8f7ced.pin+0+0000000046.json",
         772,
         1706033343000
        ],
        [
         "dbfs:/mnt/s3_bucket_test/topics/12a3da8f7ced.pin/partition=0/12a3da8f7ced.pin+0+0000000047.json",
         "12a3da8f7ced.pin+0+0000000047.json",
         582,
         1706033347000
        ],
        [
         "dbfs:/mnt/s3_bucket_test/topics/12a3da8f7ced.pin/partition=0/12a3da8f7ced.pin+0+0000000048.json",
         "12a3da8f7ced.pin+0+0000000048.json",
         733,
         1706033353000
        ],
        [
         "dbfs:/mnt/s3_bucket_test/topics/12a3da8f7ced.pin/partition=0/12a3da8f7ced.pin+0+0000000049.json",
         "12a3da8f7ced.pin+0+0000000049.json",
         727,
         1706033357000
        ],
        [
         "dbfs:/mnt/s3_bucket_test/topics/12a3da8f7ced.pin/partition=0/12a3da8f7ced.pin+0+0000000050.json",
         "12a3da8f7ced.pin+0+0000000050.json",
         802,
         1706033362000
        ],
        [
         "dbfs:/mnt/s3_bucket_test/topics/12a3da8f7ced.pin/partition=0/12a3da8f7ced.pin+0+0000000051.json",
         "12a3da8f7ced.pin+0+0000000051.json",
         823,
         1706033366000
        ],
        [
         "dbfs:/mnt/s3_bucket_test/topics/12a3da8f7ced.pin/partition=0/12a3da8f7ced.pin+0+0000000052.json",
         "12a3da8f7ced.pin+0+0000000052.json",
         727,
         1706033370000
        ],
        [
         "dbfs:/mnt/s3_bucket_test/topics/12a3da8f7ced.pin/partition=0/12a3da8f7ced.pin+0+0000000053.json",
         "12a3da8f7ced.pin+0+0000000053.json",
         766,
         1706033375000
        ],
        [
         "dbfs:/mnt/s3_bucket_test/topics/12a3da8f7ced.pin/partition=0/12a3da8f7ced.pin+0+0000000054.json",
         "12a3da8f7ced.pin+0+0000000054.json",
         700,
         1706033382000
        ],
        [
         "dbfs:/mnt/s3_bucket_test/topics/12a3da8f7ced.pin/partition=0/12a3da8f7ced.pin+0+0000000055.json",
         "12a3da8f7ced.pin+0+0000000055.json",
         779,
         1706033387000
        ],
        [
         "dbfs:/mnt/s3_bucket_test/topics/12a3da8f7ced.pin/partition=0/12a3da8f7ced.pin+0+0000000056.json",
         "12a3da8f7ced.pin+0+0000000056.json",
         838,
         1706033391000
        ],
        [
         "dbfs:/mnt/s3_bucket_test/topics/12a3da8f7ced.pin/partition=0/12a3da8f7ced.pin+0+0000000057.json",
         "12a3da8f7ced.pin+0+0000000057.json",
         744,
         1706033398000
        ],
        [
         "dbfs:/mnt/s3_bucket_test/topics/12a3da8f7ced.pin/partition=0/12a3da8f7ced.pin+0+0000000058.json",
         "12a3da8f7ced.pin+0+0000000058.json",
         681,
         1706033403000
        ],
        [
         "dbfs:/mnt/s3_bucket_test/topics/12a3da8f7ced.pin/partition=0/12a3da8f7ced.pin+0+0000000059.json",
         "12a3da8f7ced.pin+0+0000000059.json",
         622,
         1706033409000
        ],
        [
         "dbfs:/mnt/s3_bucket_test/topics/12a3da8f7ced.pin/partition=0/12a3da8f7ced.pin+0+0000000060.json",
         "12a3da8f7ced.pin+0+0000000060.json",
         790,
         1706033415000
        ],
        [
         "dbfs:/mnt/s3_bucket_test/topics/12a3da8f7ced.pin/partition=0/12a3da8f7ced.pin+0+0000000061.json",
         "12a3da8f7ced.pin+0+0000000061.json",
         524,
         1706033420000
        ],
        [
         "dbfs:/mnt/s3_bucket_test/topics/12a3da8f7ced.pin/partition=0/12a3da8f7ced.pin+0+0000000062.json",
         "12a3da8f7ced.pin+0+0000000062.json",
         734,
         1706033425000
        ],
        [
         "dbfs:/mnt/s3_bucket_test/topics/12a3da8f7ced.pin/partition=0/12a3da8f7ced.pin+0+0000000063.json",
         "12a3da8f7ced.pin+0+0000000063.json",
         751,
         1706033430000
        ],
        [
         "dbfs:/mnt/s3_bucket_test/topics/12a3da8f7ced.pin/partition=0/12a3da8f7ced.pin+0+0000000064.json",
         "12a3da8f7ced.pin+0+0000000064.json",
         745,
         1706033434000
        ],
        [
         "dbfs:/mnt/s3_bucket_test/topics/12a3da8f7ced.pin/partition=0/12a3da8f7ced.pin+0+0000000065.json",
         "12a3da8f7ced.pin+0+0000000065.json",
         650,
         1706033439000
        ],
        [
         "dbfs:/mnt/s3_bucket_test/topics/12a3da8f7ced.pin/partition=0/12a3da8f7ced.pin+0+0000000066.json",
         "12a3da8f7ced.pin+0+0000000066.json",
         749,
         1706033445000
        ],
        [
         "dbfs:/mnt/s3_bucket_test/topics/12a3da8f7ced.pin/partition=0/12a3da8f7ced.pin+0+0000000067.json",
         "12a3da8f7ced.pin+0+0000000067.json",
         574,
         1706033449000
        ],
        [
         "dbfs:/mnt/s3_bucket_test/topics/12a3da8f7ced.pin/partition=0/12a3da8f7ced.pin+0+0000000068.json",
         "12a3da8f7ced.pin+0+0000000068.json",
         775,
         1706033456000
        ],
        [
         "dbfs:/mnt/s3_bucket_test/topics/12a3da8f7ced.pin/partition=0/12a3da8f7ced.pin+0+0000000069.json",
         "12a3da8f7ced.pin+0+0000000069.json",
         786,
         1706033459000
        ],
        [
         "dbfs:/mnt/s3_bucket_test/topics/12a3da8f7ced.pin/partition=0/12a3da8f7ced.pin+0+0000000070.json",
         "12a3da8f7ced.pin+0+0000000070.json",
         699,
         1706033464000
        ],
        [
         "dbfs:/mnt/s3_bucket_test/topics/12a3da8f7ced.pin/partition=0/12a3da8f7ced.pin+0+0000000071.json",
         "12a3da8f7ced.pin+0+0000000071.json",
         759,
         1706033470000
        ],
        [
         "dbfs:/mnt/s3_bucket_test/topics/12a3da8f7ced.pin/partition=0/12a3da8f7ced.pin+0+0000000072.json",
         "12a3da8f7ced.pin+0+0000000072.json",
         682,
         1706033477000
        ],
        [
         "dbfs:/mnt/s3_bucket_test/topics/12a3da8f7ced.pin/partition=0/12a3da8f7ced.pin+0+0000000073.json",
         "12a3da8f7ced.pin+0+0000000073.json",
         692,
         1706033482000
        ],
        [
         "dbfs:/mnt/s3_bucket_test/topics/12a3da8f7ced.pin/partition=0/12a3da8f7ced.pin+0+0000000074.json",
         "12a3da8f7ced.pin+0+0000000074.json",
         697,
         1706033487000
        ],
        [
         "dbfs:/mnt/s3_bucket_test/topics/12a3da8f7ced.pin/partition=0/12a3da8f7ced.pin+0+0000000075.json",
         "12a3da8f7ced.pin+0+0000000075.json",
         691,
         1706033493000
        ],
        [
         "dbfs:/mnt/s3_bucket_test/topics/12a3da8f7ced.pin/partition=0/12a3da8f7ced.pin+0+0000000076.json",
         "12a3da8f7ced.pin+0+0000000076.json",
         766,
         1706033499000
        ],
        [
         "dbfs:/mnt/s3_bucket_test/topics/12a3da8f7ced.pin/partition=0/12a3da8f7ced.pin+0+0000000077.json",
         "12a3da8f7ced.pin+0+0000000077.json",
         778,
         1706033504000
        ],
        [
         "dbfs:/mnt/s3_bucket_test/topics/12a3da8f7ced.pin/partition=0/12a3da8f7ced.pin+0+0000000078.json",
         "12a3da8f7ced.pin+0+0000000078.json",
         703,
         1706033511000
        ],
        [
         "dbfs:/mnt/s3_bucket_test/topics/12a3da8f7ced.pin/partition=0/12a3da8f7ced.pin+0+0000000079.json",
         "12a3da8f7ced.pin+0+0000000079.json",
         770,
         1706033518000
        ],
        [
         "dbfs:/mnt/s3_bucket_test/topics/12a3da8f7ced.pin/partition=0/12a3da8f7ced.pin+0+0000000080.json",
         "12a3da8f7ced.pin+0+0000000080.json",
         886,
         1706033525000
        ],
        [
         "dbfs:/mnt/s3_bucket_test/topics/12a3da8f7ced.pin/partition=0/12a3da8f7ced.pin+0+0000000081.json",
         "12a3da8f7ced.pin+0+0000000081.json",
         745,
         1706033532000
        ],
        [
         "dbfs:/mnt/s3_bucket_test/topics/12a3da8f7ced.pin/partition=0/12a3da8f7ced.pin+0+0000000082.json",
         "12a3da8f7ced.pin+0+0000000082.json",
         740,
         1706033538000
        ],
        [
         "dbfs:/mnt/s3_bucket_test/topics/12a3da8f7ced.pin/partition=0/12a3da8f7ced.pin+0+0000000083.json",
         "12a3da8f7ced.pin+0+0000000083.json",
         696,
         1706033543000
        ],
        [
         "dbfs:/mnt/s3_bucket_test/topics/12a3da8f7ced.pin/partition=0/12a3da8f7ced.pin+0+0000000084.json",
         "12a3da8f7ced.pin+0+0000000084.json",
         788,
         1706033548000
        ],
        [
         "dbfs:/mnt/s3_bucket_test/topics/12a3da8f7ced.pin/partition=0/12a3da8f7ced.pin+0+0000000085.json",
         "12a3da8f7ced.pin+0+0000000085.json",
         784,
         1706033554000
        ],
        [
         "dbfs:/mnt/s3_bucket_test/topics/12a3da8f7ced.pin/partition=0/12a3da8f7ced.pin+0+0000000086.json",
         "12a3da8f7ced.pin+0+0000000086.json",
         698,
         1706033558000
        ],
        [
         "dbfs:/mnt/s3_bucket_test/topics/12a3da8f7ced.pin/partition=0/12a3da8f7ced.pin+0+0000000087.json",
         "12a3da8f7ced.pin+0+0000000087.json",
         784,
         1706033561000
        ],
        [
         "dbfs:/mnt/s3_bucket_test/topics/12a3da8f7ced.pin/partition=0/12a3da8f7ced.pin+0+0000000088.json",
         "12a3da8f7ced.pin+0+0000000088.json",
         621,
         1706033565000
        ],
        [
         "dbfs:/mnt/s3_bucket_test/topics/12a3da8f7ced.pin/partition=0/12a3da8f7ced.pin+0+0000000089.json",
         "12a3da8f7ced.pin+0+0000000089.json",
         736,
         1706033569000
        ],
        [
         "dbfs:/mnt/s3_bucket_test/topics/12a3da8f7ced.pin/partition=0/12a3da8f7ced.pin+0+0000000090.json",
         "12a3da8f7ced.pin+0+0000000090.json",
         503,
         1706033574000
        ],
        [
         "dbfs:/mnt/s3_bucket_test/topics/12a3da8f7ced.pin/partition=0/12a3da8f7ced.pin+0+0000000091.json",
         "12a3da8f7ced.pin+0+0000000091.json",
         711,
         1706033580000
        ],
        [
         "dbfs:/mnt/s3_bucket_test/topics/12a3da8f7ced.pin/partition=0/12a3da8f7ced.pin+0+0000000092.json",
         "12a3da8f7ced.pin+0+0000000092.json",
         675,
         1706033585000
        ],
        [
         "dbfs:/mnt/s3_bucket_test/topics/12a3da8f7ced.pin/partition=0/12a3da8f7ced.pin+0+0000000093.json",
         "12a3da8f7ced.pin+0+0000000093.json",
         649,
         1706033590000
        ],
        [
         "dbfs:/mnt/s3_bucket_test/topics/12a3da8f7ced.pin/partition=0/12a3da8f7ced.pin+0+0000000094.json",
         "12a3da8f7ced.pin+0+0000000094.json",
         755,
         1706033596000
        ],
        [
         "dbfs:/mnt/s3_bucket_test/topics/12a3da8f7ced.pin/partition=0/12a3da8f7ced.pin+0+0000000095.json",
         "12a3da8f7ced.pin+0+0000000095.json",
         678,
         1706033600000
        ],
        [
         "dbfs:/mnt/s3_bucket_test/topics/12a3da8f7ced.pin/partition=0/12a3da8f7ced.pin+0+0000000096.json",
         "12a3da8f7ced.pin+0+0000000096.json",
         560,
         1706033605000
        ],
        [
         "dbfs:/mnt/s3_bucket_test/topics/12a3da8f7ced.pin/partition=0/12a3da8f7ced.pin+0+0000000097.json",
         "12a3da8f7ced.pin+0+0000000097.json",
         817,
         1706033610000
        ],
        [
         "dbfs:/mnt/s3_bucket_test/topics/12a3da8f7ced.pin/partition=0/12a3da8f7ced.pin+0+0000000098.json",
         "12a3da8f7ced.pin+0+0000000098.json",
         667,
         1706033615000
        ],
        [
         "dbfs:/mnt/s3_bucket_test/topics/12a3da8f7ced.pin/partition=0/12a3da8f7ced.pin+0+0000000099.json",
         "12a3da8f7ced.pin+0+0000000099.json",
         750,
         1706033621000
        ],
        [
         "dbfs:/mnt/s3_bucket_test/topics/12a3da8f7ced.pin/partition=0/12a3da8f7ced.pin+0+0000000100.json",
         "12a3da8f7ced.pin+0+0000000100.json",
         696,
         1706033627000
        ],
        [
         "dbfs:/mnt/s3_bucket_test/topics/12a3da8f7ced.pin/partition=0/12a3da8f7ced.pin+0+0000000101.json",
         "12a3da8f7ced.pin+0+0000000101.json",
         743,
         1706033631000
        ],
        [
         "dbfs:/mnt/s3_bucket_test/topics/12a3da8f7ced.pin/partition=0/12a3da8f7ced.pin+0+0000000102.json",
         "12a3da8f7ced.pin+0+0000000102.json",
         718,
         1706033636000
        ],
        [
         "dbfs:/mnt/s3_bucket_test/topics/12a3da8f7ced.pin/partition=0/12a3da8f7ced.pin+0+0000000103.json",
         "12a3da8f7ced.pin+0+0000000103.json",
         661,
         1706033644000
        ],
        [
         "dbfs:/mnt/s3_bucket_test/topics/12a3da8f7ced.pin/partition=0/12a3da8f7ced.pin+0+0000000104.json",
         "12a3da8f7ced.pin+0+0000000104.json",
         576,
         1706033648000
        ],
        [
         "dbfs:/mnt/s3_bucket_test/topics/12a3da8f7ced.pin/partition=0/12a3da8f7ced.pin+0+0000000105.json",
         "12a3da8f7ced.pin+0+0000000105.json",
         771,
         1706033652000
        ],
        [
         "dbfs:/mnt/s3_bucket_test/topics/12a3da8f7ced.pin/partition=0/12a3da8f7ced.pin+0+0000000106.json",
         "12a3da8f7ced.pin+0+0000000106.json",
         721,
         1706033657000
        ],
        [
         "dbfs:/mnt/s3_bucket_test/topics/12a3da8f7ced.pin/partition=0/12a3da8f7ced.pin+0+0000000107.json",
         "12a3da8f7ced.pin+0+0000000107.json",
         780,
         1706033661000
        ],
        [
         "dbfs:/mnt/s3_bucket_test/topics/12a3da8f7ced.pin/partition=0/12a3da8f7ced.pin+0+0000000108.json",
         "12a3da8f7ced.pin+0+0000000108.json",
         767,
         1706033665000
        ],
        [
         "dbfs:/mnt/s3_bucket_test/topics/12a3da8f7ced.pin/partition=0/12a3da8f7ced.pin+0+0000000109.json",
         "12a3da8f7ced.pin+0+0000000109.json",
         714,
         1706033670000
        ],
        [
         "dbfs:/mnt/s3_bucket_test/topics/12a3da8f7ced.pin/partition=0/12a3da8f7ced.pin+0+0000000110.json",
         "12a3da8f7ced.pin+0+0000000110.json",
         690,
         1706033674000
        ],
        [
         "dbfs:/mnt/s3_bucket_test/topics/12a3da8f7ced.pin/partition=0/12a3da8f7ced.pin+0+0000000111.json",
         "12a3da8f7ced.pin+0+0000000111.json",
         660,
         1706033680000
        ],
        [
         "dbfs:/mnt/s3_bucket_test/topics/12a3da8f7ced.pin/partition=0/12a3da8f7ced.pin+0+0000000112.json",
         "12a3da8f7ced.pin+0+0000000112.json",
         756,
         1706033686000
        ],
        [
         "dbfs:/mnt/s3_bucket_test/topics/12a3da8f7ced.pin/partition=0/12a3da8f7ced.pin+0+0000000113.json",
         "12a3da8f7ced.pin+0+0000000113.json",
         727,
         1706033690000
        ],
        [
         "dbfs:/mnt/s3_bucket_test/topics/12a3da8f7ced.pin/partition=0/12a3da8f7ced.pin+0+0000000114.json",
         "12a3da8f7ced.pin+0+0000000114.json",
         819,
         1706033693000
        ],
        [
         "dbfs:/mnt/s3_bucket_test/topics/12a3da8f7ced.pin/partition=0/12a3da8f7ced.pin+0+0000000115.json",
         "12a3da8f7ced.pin+0+0000000115.json",
         763,
         1706033698000
        ],
        [
         "dbfs:/mnt/s3_bucket_test/topics/12a3da8f7ced.pin/partition=0/12a3da8f7ced.pin+0+0000000116.json",
         "12a3da8f7ced.pin+0+0000000116.json",
         831,
         1706033701000
        ]
       ],
       "datasetInfos": [],
       "dbfsResultPath": null,
       "isJsonSchema": true,
       "metadata": {},
       "overflow": false,
       "plotOptions": {
        "customPlotOptions": {},
        "displayType": "table",
        "pivotAggregation": null,
        "pivotColumns": null,
        "xColumns": null,
        "yColumns": null
       },
       "removedWidgets": [],
       "schema": [
        {
         "metadata": "{}",
         "name": "path",
         "type": "\"string\""
        },
        {
         "metadata": "{}",
         "name": "name",
         "type": "\"string\""
        },
        {
         "metadata": "{}",
         "name": "size",
         "type": "\"long\""
        },
        {
         "metadata": "{}",
         "name": "modificationTime",
         "type": "\"long\""
        }
       ],
       "type": "table"
      }
     },
     "output_type": "display_data"
    }
   ],
   "source": [
    "# Check if the S3 bucket was mounted successfully - using 12a3da8f7ced.pin for initial test\n",
    "display(dbutils.fs.ls(\"/mnt/s3_bucket_test/topics/12a3da8f7ced.pin/partition=0/\"))"
   ]
  },
  {
   "cell_type": "code",
   "execution_count": 0,
   "metadata": {
    "application/vnd.databricks.v1+cell": {
     "cellMetadata": {
      "byteLimit": 2048000,
      "rowLimit": 10000
     },
     "inputWidgets": {},
     "nuid": "72870769-3f85-448d-b655-d916bda3252c",
     "showTitle": false,
     "title": ""
    }
   },
   "outputs": [
    {
     "output_type": "display_data",
     "data": {
      "text/html": [
       "<style scoped>\n",
       "  .table-result-container {\n",
       "    max-height: 300px;\n",
       "    overflow: auto;\n",
       "  }\n",
       "  table, th, td {\n",
       "    border: 1px solid black;\n",
       "    border-collapse: collapse;\n",
       "  }\n",
       "  th, td {\n",
       "    padding: 5px;\n",
       "  }\n",
       "  th {\n",
       "    text-align: left;\n",
       "  }\n",
       "</style><div class='table-result-container'><table class='table-result'><thead style='background-color: white'><tr><th>path</th><th>name</th><th>size</th><th>modificationTime</th></tr></thead><tbody><tr><td>dbfs:/mnt/s3_bucket_test/topics/12a3da8f7ced.geo/partition=0/12a3da8f7ced.geo+0+0000000000.json</td><td>12a3da8f7ced.geo+0+0000000000.json</td><td>110</td><td>1705682925000</td></tr><tr><td>dbfs:/mnt/s3_bucket_test/topics/12a3da8f7ced.geo/partition=0/12a3da8f7ced.geo+0+0000000001.json</td><td>12a3da8f7ced.geo+0+0000000001.json</td><td>110</td><td>1705682929000</td></tr><tr><td>dbfs:/mnt/s3_bucket_test/topics/12a3da8f7ced.geo/partition=0/12a3da8f7ced.geo+0+0000000002.json</td><td>12a3da8f7ced.geo+0+0000000002.json</td><td>110</td><td>1705682934000</td></tr><tr><td>dbfs:/mnt/s3_bucket_test/topics/12a3da8f7ced.geo/partition=0/12a3da8f7ced.geo+0+0000000003.json</td><td>12a3da8f7ced.geo+0+0000000003.json</td><td>115</td><td>1705682942000</td></tr><tr><td>dbfs:/mnt/s3_bucket_test/topics/12a3da8f7ced.geo/partition=0/12a3da8f7ced.geo+0+0000000004.json</td><td>12a3da8f7ced.geo+0+0000000004.json</td><td>107</td><td>1705682942000</td></tr><tr><td>dbfs:/mnt/s3_bucket_test/topics/12a3da8f7ced.geo/partition=0/12a3da8f7ced.geo+0+0000000005.json</td><td>12a3da8f7ced.geo+0+0000000005.json</td><td>109</td><td>1705682946000</td></tr><tr><td>dbfs:/mnt/s3_bucket_test/topics/12a3da8f7ced.geo/partition=0/12a3da8f7ced.geo+0+0000000006.json</td><td>12a3da8f7ced.geo+0+0000000006.json</td><td>115</td><td>1705682950000</td></tr><tr><td>dbfs:/mnt/s3_bucket_test/topics/12a3da8f7ced.geo/partition=0/12a3da8f7ced.geo+0+0000000007.json</td><td>12a3da8f7ced.geo+0+0000000007.json</td><td>127</td><td>1705682953000</td></tr><tr><td>dbfs:/mnt/s3_bucket_test/topics/12a3da8f7ced.geo/partition=0/12a3da8f7ced.geo+0+0000000008.json</td><td>12a3da8f7ced.geo+0+0000000008.json</td><td>111</td><td>1705682957000</td></tr><tr><td>dbfs:/mnt/s3_bucket_test/topics/12a3da8f7ced.geo/partition=0/12a3da8f7ced.geo+0+0000000009.json</td><td>12a3da8f7ced.geo+0+0000000009.json</td><td>113</td><td>1705682960000</td></tr><tr><td>dbfs:/mnt/s3_bucket_test/topics/12a3da8f7ced.geo/partition=0/12a3da8f7ced.geo+0+0000000010.json</td><td>12a3da8f7ced.geo+0+0000000010.json</td><td>116</td><td>1705682964000</td></tr><tr><td>dbfs:/mnt/s3_bucket_test/topics/12a3da8f7ced.geo/partition=0/12a3da8f7ced.geo+0+0000000011.json</td><td>12a3da8f7ced.geo+0+0000000011.json</td><td>110</td><td>1705682967000</td></tr><tr><td>dbfs:/mnt/s3_bucket_test/topics/12a3da8f7ced.geo/partition=0/12a3da8f7ced.geo+0+0000000012.json</td><td>12a3da8f7ced.geo+0+0000000012.json</td><td>111</td><td>1705682972000</td></tr><tr><td>dbfs:/mnt/s3_bucket_test/topics/12a3da8f7ced.geo/partition=0/12a3da8f7ced.geo+0+0000000013.json</td><td>12a3da8f7ced.geo+0+0000000013.json</td><td>111</td><td>1705682977000</td></tr><tr><td>dbfs:/mnt/s3_bucket_test/topics/12a3da8f7ced.geo/partition=0/12a3da8f7ced.geo+0+0000000014.json</td><td>12a3da8f7ced.geo+0+0000000014.json</td><td>108</td><td>1705682981000</td></tr><tr><td>dbfs:/mnt/s3_bucket_test/topics/12a3da8f7ced.geo/partition=0/12a3da8f7ced.geo+0+0000000015.json</td><td>12a3da8f7ced.geo+0+0000000015.json</td><td>113</td><td>1705682986000</td></tr><tr><td>dbfs:/mnt/s3_bucket_test/topics/12a3da8f7ced.geo/partition=0/12a3da8f7ced.geo+0+0000000016.json</td><td>12a3da8f7ced.geo+0+0000000016.json</td><td>111</td><td>1705682989000</td></tr><tr><td>dbfs:/mnt/s3_bucket_test/topics/12a3da8f7ced.geo/partition=0/12a3da8f7ced.geo+0+0000000017.json</td><td>12a3da8f7ced.geo+0+0000000017.json</td><td>109</td><td>1705682993000</td></tr><tr><td>dbfs:/mnt/s3_bucket_test/topics/12a3da8f7ced.geo/partition=0/12a3da8f7ced.geo+0+0000000018.json</td><td>12a3da8f7ced.geo+0+0000000018.json</td><td>111</td><td>1705682996000</td></tr><tr><td>dbfs:/mnt/s3_bucket_test/topics/12a3da8f7ced.geo/partition=0/12a3da8f7ced.geo+0+0000000019.json</td><td>12a3da8f7ced.geo+0+0000000019.json</td><td>147</td><td>1705683000000</td></tr><tr><td>dbfs:/mnt/s3_bucket_test/topics/12a3da8f7ced.geo/partition=0/12a3da8f7ced.geo+0+0000000020.json</td><td>12a3da8f7ced.geo+0+0000000020.json</td><td>109</td><td>1705683004000</td></tr><tr><td>dbfs:/mnt/s3_bucket_test/topics/12a3da8f7ced.geo/partition=0/12a3da8f7ced.geo+0+0000000021.json</td><td>12a3da8f7ced.geo+0+0000000021.json</td><td>112</td><td>1705683007000</td></tr><tr><td>dbfs:/mnt/s3_bucket_test/topics/12a3da8f7ced.geo/partition=0/12a3da8f7ced.geo+0+0000000022.json</td><td>12a3da8f7ced.geo+0+0000000022.json</td><td>112</td><td>1705683010000</td></tr><tr><td>dbfs:/mnt/s3_bucket_test/topics/12a3da8f7ced.geo/partition=0/12a3da8f7ced.geo+0+0000000023.json</td><td>12a3da8f7ced.geo+0+0000000023.json</td><td>125</td><td>1705683015000</td></tr><tr><td>dbfs:/mnt/s3_bucket_test/topics/12a3da8f7ced.geo/partition=0/12a3da8f7ced.geo+0+0000000024.json</td><td>12a3da8f7ced.geo+0+0000000024.json</td><td>110</td><td>1706033264000</td></tr><tr><td>dbfs:/mnt/s3_bucket_test/topics/12a3da8f7ced.geo/partition=0/12a3da8f7ced.geo+0+0000000025.json</td><td>12a3da8f7ced.geo+0+0000000025.json</td><td>110</td><td>1706033271000</td></tr><tr><td>dbfs:/mnt/s3_bucket_test/topics/12a3da8f7ced.geo/partition=0/12a3da8f7ced.geo+0+0000000026.json</td><td>12a3da8f7ced.geo+0+0000000026.json</td><td>110</td><td>1706033279000</td></tr><tr><td>dbfs:/mnt/s3_bucket_test/topics/12a3da8f7ced.geo/partition=0/12a3da8f7ced.geo+0+0000000027.json</td><td>12a3da8f7ced.geo+0+0000000027.json</td><td>115</td><td>1706033284000</td></tr><tr><td>dbfs:/mnt/s3_bucket_test/topics/12a3da8f7ced.geo/partition=0/12a3da8f7ced.geo+0+0000000028.json</td><td>12a3da8f7ced.geo+0+0000000028.json</td><td>107</td><td>1706033289000</td></tr><tr><td>dbfs:/mnt/s3_bucket_test/topics/12a3da8f7ced.geo/partition=0/12a3da8f7ced.geo+0+0000000029.json</td><td>12a3da8f7ced.geo+0+0000000029.json</td><td>109</td><td>1706033293000</td></tr><tr><td>dbfs:/mnt/s3_bucket_test/topics/12a3da8f7ced.geo/partition=0/12a3da8f7ced.geo+0+0000000030.json</td><td>12a3da8f7ced.geo+0+0000000030.json</td><td>115</td><td>1706033299000</td></tr><tr><td>dbfs:/mnt/s3_bucket_test/topics/12a3da8f7ced.geo/partition=0/12a3da8f7ced.geo+0+0000000031.json</td><td>12a3da8f7ced.geo+0+0000000031.json</td><td>127</td><td>1706033303000</td></tr><tr><td>dbfs:/mnt/s3_bucket_test/topics/12a3da8f7ced.geo/partition=0/12a3da8f7ced.geo+0+0000000032.json</td><td>12a3da8f7ced.geo+0+0000000032.json</td><td>111</td><td>1706033308000</td></tr><tr><td>dbfs:/mnt/s3_bucket_test/topics/12a3da8f7ced.geo/partition=0/12a3da8f7ced.geo+0+0000000033.json</td><td>12a3da8f7ced.geo+0+0000000033.json</td><td>113</td><td>1706033313000</td></tr><tr><td>dbfs:/mnt/s3_bucket_test/topics/12a3da8f7ced.geo/partition=0/12a3da8f7ced.geo+0+0000000034.json</td><td>12a3da8f7ced.geo+0+0000000034.json</td><td>116</td><td>1706033319000</td></tr><tr><td>dbfs:/mnt/s3_bucket_test/topics/12a3da8f7ced.geo/partition=0/12a3da8f7ced.geo+0+0000000035.json</td><td>12a3da8f7ced.geo+0+0000000035.json</td><td>110</td><td>1706033323000</td></tr><tr><td>dbfs:/mnt/s3_bucket_test/topics/12a3da8f7ced.geo/partition=0/12a3da8f7ced.geo+0+0000000036.json</td><td>12a3da8f7ced.geo+0+0000000036.json</td><td>111</td><td>1706033328000</td></tr><tr><td>dbfs:/mnt/s3_bucket_test/topics/12a3da8f7ced.geo/partition=0/12a3da8f7ced.geo+0+0000000037.json</td><td>12a3da8f7ced.geo+0+0000000037.json</td><td>111</td><td>1706033333000</td></tr><tr><td>dbfs:/mnt/s3_bucket_test/topics/12a3da8f7ced.geo/partition=0/12a3da8f7ced.geo+0+0000000038.json</td><td>12a3da8f7ced.geo+0+0000000038.json</td><td>108</td><td>1706033338000</td></tr><tr><td>dbfs:/mnt/s3_bucket_test/topics/12a3da8f7ced.geo/partition=0/12a3da8f7ced.geo+0+0000000039.json</td><td>12a3da8f7ced.geo+0+0000000039.json</td><td>113</td><td>1706033344000</td></tr><tr><td>dbfs:/mnt/s3_bucket_test/topics/12a3da8f7ced.geo/partition=0/12a3da8f7ced.geo+0+0000000040.json</td><td>12a3da8f7ced.geo+0+0000000040.json</td><td>111</td><td>1706033349000</td></tr><tr><td>dbfs:/mnt/s3_bucket_test/topics/12a3da8f7ced.geo/partition=0/12a3da8f7ced.geo+0+0000000041.json</td><td>12a3da8f7ced.geo+0+0000000041.json</td><td>109</td><td>1706033354000</td></tr><tr><td>dbfs:/mnt/s3_bucket_test/topics/12a3da8f7ced.geo/partition=0/12a3da8f7ced.geo+0+0000000042.json</td><td>12a3da8f7ced.geo+0+0000000042.json</td><td>111</td><td>1706033358000</td></tr><tr><td>dbfs:/mnt/s3_bucket_test/topics/12a3da8f7ced.geo/partition=0/12a3da8f7ced.geo+0+0000000043.json</td><td>12a3da8f7ced.geo+0+0000000043.json</td><td>147</td><td>1706033363000</td></tr><tr><td>dbfs:/mnt/s3_bucket_test/topics/12a3da8f7ced.geo/partition=0/12a3da8f7ced.geo+0+0000000044.json</td><td>12a3da8f7ced.geo+0+0000000044.json</td><td>109</td><td>1706033367000</td></tr><tr><td>dbfs:/mnt/s3_bucket_test/topics/12a3da8f7ced.geo/partition=0/12a3da8f7ced.geo+0+0000000045.json</td><td>12a3da8f7ced.geo+0+0000000045.json</td><td>112</td><td>1706033372000</td></tr><tr><td>dbfs:/mnt/s3_bucket_test/topics/12a3da8f7ced.geo/partition=0/12a3da8f7ced.geo+0+0000000046.json</td><td>12a3da8f7ced.geo+0+0000000046.json</td><td>112</td><td>1706033376000</td></tr><tr><td>dbfs:/mnt/s3_bucket_test/topics/12a3da8f7ced.geo/partition=0/12a3da8f7ced.geo+0+0000000047.json</td><td>12a3da8f7ced.geo+0+0000000047.json</td><td>125</td><td>1706033383000</td></tr><tr><td>dbfs:/mnt/s3_bucket_test/topics/12a3da8f7ced.geo/partition=0/12a3da8f7ced.geo+0+0000000048.json</td><td>12a3da8f7ced.geo+0+0000000048.json</td><td>120</td><td>1706033388000</td></tr><tr><td>dbfs:/mnt/s3_bucket_test/topics/12a3da8f7ced.geo/partition=0/12a3da8f7ced.geo+0+0000000049.json</td><td>12a3da8f7ced.geo+0+0000000049.json</td><td>110</td><td>1706033393000</td></tr><tr><td>dbfs:/mnt/s3_bucket_test/topics/12a3da8f7ced.geo/partition=0/12a3da8f7ced.geo+0+0000000050.json</td><td>12a3da8f7ced.geo+0+0000000050.json</td><td>107</td><td>1706033399000</td></tr><tr><td>dbfs:/mnt/s3_bucket_test/topics/12a3da8f7ced.geo/partition=0/12a3da8f7ced.geo+0+0000000051.json</td><td>12a3da8f7ced.geo+0+0000000051.json</td><td>112</td><td>1706033404000</td></tr><tr><td>dbfs:/mnt/s3_bucket_test/topics/12a3da8f7ced.geo/partition=0/12a3da8f7ced.geo+0+0000000052.json</td><td>12a3da8f7ced.geo+0+0000000052.json</td><td>111</td><td>1706033411000</td></tr><tr><td>dbfs:/mnt/s3_bucket_test/topics/12a3da8f7ced.geo/partition=0/12a3da8f7ced.geo+0+0000000053.json</td><td>12a3da8f7ced.geo+0+0000000053.json</td><td>122</td><td>1706033416000</td></tr><tr><td>dbfs:/mnt/s3_bucket_test/topics/12a3da8f7ced.geo/partition=0/12a3da8f7ced.geo+0+0000000054.json</td><td>12a3da8f7ced.geo+0+0000000054.json</td><td>106</td><td>1706033421000</td></tr><tr><td>dbfs:/mnt/s3_bucket_test/topics/12a3da8f7ced.geo/partition=0/12a3da8f7ced.geo+0+0000000055.json</td><td>12a3da8f7ced.geo+0+0000000055.json</td><td>108</td><td>1706033426000</td></tr><tr><td>dbfs:/mnt/s3_bucket_test/topics/12a3da8f7ced.geo/partition=0/12a3da8f7ced.geo+0+0000000056.json</td><td>12a3da8f7ced.geo+0+0000000056.json</td><td>111</td><td>1706033431000</td></tr><tr><td>dbfs:/mnt/s3_bucket_test/topics/12a3da8f7ced.geo/partition=0/12a3da8f7ced.geo+0+0000000057.json</td><td>12a3da8f7ced.geo+0+0000000057.json</td><td>108</td><td>1706033435000</td></tr><tr><td>dbfs:/mnt/s3_bucket_test/topics/12a3da8f7ced.geo/partition=0/12a3da8f7ced.geo+0+0000000058.json</td><td>12a3da8f7ced.geo+0+0000000058.json</td><td>110</td><td>1706033440000</td></tr><tr><td>dbfs:/mnt/s3_bucket_test/topics/12a3da8f7ced.geo/partition=0/12a3da8f7ced.geo+0+0000000059.json</td><td>12a3da8f7ced.geo+0+0000000059.json</td><td>110</td><td>1706033446000</td></tr><tr><td>dbfs:/mnt/s3_bucket_test/topics/12a3da8f7ced.geo/partition=0/12a3da8f7ced.geo+0+0000000060.json</td><td>12a3da8f7ced.geo+0+0000000060.json</td><td>110</td><td>1706033450000</td></tr><tr><td>dbfs:/mnt/s3_bucket_test/topics/12a3da8f7ced.geo/partition=0/12a3da8f7ced.geo+0+0000000061.json</td><td>12a3da8f7ced.geo+0+0000000061.json</td><td>106</td><td>1706033457000</td></tr><tr><td>dbfs:/mnt/s3_bucket_test/topics/12a3da8f7ced.geo/partition=0/12a3da8f7ced.geo+0+0000000062.json</td><td>12a3da8f7ced.geo+0+0000000062.json</td><td>113</td><td>1706033460000</td></tr><tr><td>dbfs:/mnt/s3_bucket_test/topics/12a3da8f7ced.geo/partition=0/12a3da8f7ced.geo+0+0000000063.json</td><td>12a3da8f7ced.geo+0+0000000063.json</td><td>107</td><td>1706033465000</td></tr><tr><td>dbfs:/mnt/s3_bucket_test/topics/12a3da8f7ced.geo/partition=0/12a3da8f7ced.geo+0+0000000064.json</td><td>12a3da8f7ced.geo+0+0000000064.json</td><td>110</td><td>1706033472000</td></tr><tr><td>dbfs:/mnt/s3_bucket_test/topics/12a3da8f7ced.geo/partition=0/12a3da8f7ced.geo+0+0000000065.json</td><td>12a3da8f7ced.geo+0+0000000065.json</td><td>124</td><td>1706033478000</td></tr><tr><td>dbfs:/mnt/s3_bucket_test/topics/12a3da8f7ced.geo/partition=0/12a3da8f7ced.geo+0+0000000066.json</td><td>12a3da8f7ced.geo+0+0000000066.json</td><td>112</td><td>1706033483000</td></tr><tr><td>dbfs:/mnt/s3_bucket_test/topics/12a3da8f7ced.geo/partition=0/12a3da8f7ced.geo+0+0000000067.json</td><td>12a3da8f7ced.geo+0+0000000067.json</td><td>110</td><td>1706033488000</td></tr><tr><td>dbfs:/mnt/s3_bucket_test/topics/12a3da8f7ced.geo/partition=0/12a3da8f7ced.geo+0+0000000068.json</td><td>12a3da8f7ced.geo+0+0000000068.json</td><td>117</td><td>1706033495000</td></tr><tr><td>dbfs:/mnt/s3_bucket_test/topics/12a3da8f7ced.geo/partition=0/12a3da8f7ced.geo+0+0000000069.json</td><td>12a3da8f7ced.geo+0+0000000069.json</td><td>122</td><td>1706033500000</td></tr><tr><td>dbfs:/mnt/s3_bucket_test/topics/12a3da8f7ced.geo/partition=0/12a3da8f7ced.geo+0+0000000070.json</td><td>12a3da8f7ced.geo+0+0000000070.json</td><td>117</td><td>1706033505000</td></tr><tr><td>dbfs:/mnt/s3_bucket_test/topics/12a3da8f7ced.geo/partition=0/12a3da8f7ced.geo+0+0000000071.json</td><td>12a3da8f7ced.geo+0+0000000071.json</td><td>109</td><td>1706033513000</td></tr><tr><td>dbfs:/mnt/s3_bucket_test/topics/12a3da8f7ced.geo/partition=0/12a3da8f7ced.geo+0+0000000072.json</td><td>12a3da8f7ced.geo+0+0000000072.json</td><td>119</td><td>1706033519000</td></tr><tr><td>dbfs:/mnt/s3_bucket_test/topics/12a3da8f7ced.geo/partition=0/12a3da8f7ced.geo+0+0000000073.json</td><td>12a3da8f7ced.geo+0+0000000073.json</td><td>109</td><td>1706033526000</td></tr><tr><td>dbfs:/mnt/s3_bucket_test/topics/12a3da8f7ced.geo/partition=0/12a3da8f7ced.geo+0+0000000074.json</td><td>12a3da8f7ced.geo+0+0000000074.json</td><td>112</td><td>1706033533000</td></tr><tr><td>dbfs:/mnt/s3_bucket_test/topics/12a3da8f7ced.geo/partition=0/12a3da8f7ced.geo+0+0000000075.json</td><td>12a3da8f7ced.geo+0+0000000075.json</td><td>112</td><td>1706033539000</td></tr><tr><td>dbfs:/mnt/s3_bucket_test/topics/12a3da8f7ced.geo/partition=0/12a3da8f7ced.geo+0+0000000076.json</td><td>12a3da8f7ced.geo+0+0000000076.json</td><td>109</td><td>1706033544000</td></tr><tr><td>dbfs:/mnt/s3_bucket_test/topics/12a3da8f7ced.geo/partition=0/12a3da8f7ced.geo+0+0000000077.json</td><td>12a3da8f7ced.geo+0+0000000077.json</td><td>112</td><td>1706033550000</td></tr><tr><td>dbfs:/mnt/s3_bucket_test/topics/12a3da8f7ced.geo/partition=0/12a3da8f7ced.geo+0+0000000078.json</td><td>12a3da8f7ced.geo+0+0000000078.json</td><td>112</td><td>1706033555000</td></tr><tr><td>dbfs:/mnt/s3_bucket_test/topics/12a3da8f7ced.geo/partition=0/12a3da8f7ced.geo+0+0000000079.json</td><td>12a3da8f7ced.geo+0+0000000079.json</td><td>109</td><td>1706033559000</td></tr><tr><td>dbfs:/mnt/s3_bucket_test/topics/12a3da8f7ced.geo/partition=0/12a3da8f7ced.geo+0+0000000080.json</td><td>12a3da8f7ced.geo+0+0000000080.json</td><td>125</td><td>1706033562000</td></tr><tr><td>dbfs:/mnt/s3_bucket_test/topics/12a3da8f7ced.geo/partition=0/12a3da8f7ced.geo+0+0000000081.json</td><td>12a3da8f7ced.geo+0+0000000081.json</td><td>112</td><td>1706033566000</td></tr><tr><td>dbfs:/mnt/s3_bucket_test/topics/12a3da8f7ced.geo/partition=0/12a3da8f7ced.geo+0+0000000082.json</td><td>12a3da8f7ced.geo+0+0000000082.json</td><td>109</td><td>1706033570000</td></tr><tr><td>dbfs:/mnt/s3_bucket_test/topics/12a3da8f7ced.geo/partition=0/12a3da8f7ced.geo+0+0000000083.json</td><td>12a3da8f7ced.geo+0+0000000083.json</td><td>110</td><td>1706033575000</td></tr><tr><td>dbfs:/mnt/s3_bucket_test/topics/12a3da8f7ced.geo/partition=0/12a3da8f7ced.geo+0+0000000084.json</td><td>12a3da8f7ced.geo+0+0000000084.json</td><td>121</td><td>1706033581000</td></tr><tr><td>dbfs:/mnt/s3_bucket_test/topics/12a3da8f7ced.geo/partition=0/12a3da8f7ced.geo+0+0000000085.json</td><td>12a3da8f7ced.geo+0+0000000085.json</td><td>109</td><td>1706033586000</td></tr><tr><td>dbfs:/mnt/s3_bucket_test/topics/12a3da8f7ced.geo/partition=0/12a3da8f7ced.geo+0+0000000086.json</td><td>12a3da8f7ced.geo+0+0000000086.json</td><td>110</td><td>1706033592000</td></tr><tr><td>dbfs:/mnt/s3_bucket_test/topics/12a3da8f7ced.geo/partition=0/12a3da8f7ced.geo+0+0000000087.json</td><td>12a3da8f7ced.geo+0+0000000087.json</td><td>115</td><td>1706033597000</td></tr><tr><td>dbfs:/mnt/s3_bucket_test/topics/12a3da8f7ced.geo/partition=0/12a3da8f7ced.geo+0+0000000088.json</td><td>12a3da8f7ced.geo+0+0000000088.json</td><td>112</td><td>1706033601000</td></tr><tr><td>dbfs:/mnt/s3_bucket_test/topics/12a3da8f7ced.geo/partition=0/12a3da8f7ced.geo+0+0000000089.json</td><td>12a3da8f7ced.geo+0+0000000089.json</td><td>115</td><td>1706033606000</td></tr><tr><td>dbfs:/mnt/s3_bucket_test/topics/12a3da8f7ced.geo/partition=0/12a3da8f7ced.geo+0+0000000090.json</td><td>12a3da8f7ced.geo+0+0000000090.json</td><td>108</td><td>1706033611000</td></tr><tr><td>dbfs:/mnt/s3_bucket_test/topics/12a3da8f7ced.geo/partition=0/12a3da8f7ced.geo+0+0000000091.json</td><td>12a3da8f7ced.geo+0+0000000091.json</td><td>111</td><td>1706033617000</td></tr><tr><td>dbfs:/mnt/s3_bucket_test/topics/12a3da8f7ced.geo/partition=0/12a3da8f7ced.geo+0+0000000092.json</td><td>12a3da8f7ced.geo+0+0000000092.json</td><td>112</td><td>1706033622000</td></tr><tr><td>dbfs:/mnt/s3_bucket_test/topics/12a3da8f7ced.geo/partition=0/12a3da8f7ced.geo+0+0000000093.json</td><td>12a3da8f7ced.geo+0+0000000093.json</td><td>108</td><td>1706033628000</td></tr><tr><td>dbfs:/mnt/s3_bucket_test/topics/12a3da8f7ced.geo/partition=0/12a3da8f7ced.geo+0+0000000094.json</td><td>12a3da8f7ced.geo+0+0000000094.json</td><td>109</td><td>1706033632000</td></tr><tr><td>dbfs:/mnt/s3_bucket_test/topics/12a3da8f7ced.geo/partition=0/12a3da8f7ced.geo+0+0000000095.json</td><td>12a3da8f7ced.geo+0+0000000095.json</td><td>110</td><td>1706033637000</td></tr><tr><td>dbfs:/mnt/s3_bucket_test/topics/12a3da8f7ced.geo/partition=0/12a3da8f7ced.geo+0+0000000096.json</td><td>12a3da8f7ced.geo+0+0000000096.json</td><td>110</td><td>1706033644000</td></tr><tr><td>dbfs:/mnt/s3_bucket_test/topics/12a3da8f7ced.geo/partition=0/12a3da8f7ced.geo+0+0000000097.json</td><td>12a3da8f7ced.geo+0+0000000097.json</td><td>113</td><td>1706033649000</td></tr><tr><td>dbfs:/mnt/s3_bucket_test/topics/12a3da8f7ced.geo/partition=0/12a3da8f7ced.geo+0+0000000098.json</td><td>12a3da8f7ced.geo+0+0000000098.json</td><td>113</td><td>1706033653000</td></tr><tr><td>dbfs:/mnt/s3_bucket_test/topics/12a3da8f7ced.geo/partition=0/12a3da8f7ced.geo+0+0000000099.json</td><td>12a3da8f7ced.geo+0+0000000099.json</td><td>107</td><td>1706033658000</td></tr><tr><td>dbfs:/mnt/s3_bucket_test/topics/12a3da8f7ced.geo/partition=0/12a3da8f7ced.geo+0+0000000100.json</td><td>12a3da8f7ced.geo+0+0000000100.json</td><td>109</td><td>1706033662000</td></tr><tr><td>dbfs:/mnt/s3_bucket_test/topics/12a3da8f7ced.geo/partition=0/12a3da8f7ced.geo+0+0000000101.json</td><td>12a3da8f7ced.geo+0+0000000101.json</td><td>114</td><td>1706033666000</td></tr><tr><td>dbfs:/mnt/s3_bucket_test/topics/12a3da8f7ced.geo/partition=0/12a3da8f7ced.geo+0+0000000102.json</td><td>12a3da8f7ced.geo+0+0000000102.json</td><td>110</td><td>1706033671000</td></tr><tr><td>dbfs:/mnt/s3_bucket_test/topics/12a3da8f7ced.geo/partition=0/12a3da8f7ced.geo+0+0000000103.json</td><td>12a3da8f7ced.geo+0+0000000103.json</td><td>117</td><td>1706033676000</td></tr><tr><td>dbfs:/mnt/s3_bucket_test/topics/12a3da8f7ced.geo/partition=0/12a3da8f7ced.geo+0+0000000104.json</td><td>12a3da8f7ced.geo+0+0000000104.json</td><td>111</td><td>1706033681000</td></tr><tr><td>dbfs:/mnt/s3_bucket_test/topics/12a3da8f7ced.geo/partition=0/12a3da8f7ced.geo+0+0000000105.json</td><td>12a3da8f7ced.geo+0+0000000105.json</td><td>108</td><td>1706033687000</td></tr><tr><td>dbfs:/mnt/s3_bucket_test/topics/12a3da8f7ced.geo/partition=0/12a3da8f7ced.geo+0+0000000106.json</td><td>12a3da8f7ced.geo+0+0000000106.json</td><td>110</td><td>1706033691000</td></tr><tr><td>dbfs:/mnt/s3_bucket_test/topics/12a3da8f7ced.geo/partition=0/12a3da8f7ced.geo+0+0000000107.json</td><td>12a3da8f7ced.geo+0+0000000107.json</td><td>120</td><td>1706033694000</td></tr><tr><td>dbfs:/mnt/s3_bucket_test/topics/12a3da8f7ced.geo/partition=0/12a3da8f7ced.geo+0+0000000108.json</td><td>12a3da8f7ced.geo+0+0000000108.json</td><td>110</td><td>1706033699000</td></tr><tr><td>dbfs:/mnt/s3_bucket_test/topics/12a3da8f7ced.geo/partition=0/12a3da8f7ced.geo+0+0000000109.json</td><td>12a3da8f7ced.geo+0+0000000109.json</td><td>122</td><td>1706033702000</td></tr></tbody></table></div>"
      ]
     },
     "metadata": {
      "application/vnd.databricks.v1+output": {
       "addedWidgets": {},
       "aggData": [],
       "aggError": "",
       "aggOverflow": false,
       "aggSchema": [],
       "aggSeriesLimitReached": false,
       "aggType": "",
       "arguments": {},
       "columnCustomDisplayInfos": {},
       "data": [
        [
         "dbfs:/mnt/s3_bucket_test/topics/12a3da8f7ced.geo/partition=0/12a3da8f7ced.geo+0+0000000000.json",
         "12a3da8f7ced.geo+0+0000000000.json",
         110,
         1705682925000
        ],
        [
         "dbfs:/mnt/s3_bucket_test/topics/12a3da8f7ced.geo/partition=0/12a3da8f7ced.geo+0+0000000001.json",
         "12a3da8f7ced.geo+0+0000000001.json",
         110,
         1705682929000
        ],
        [
         "dbfs:/mnt/s3_bucket_test/topics/12a3da8f7ced.geo/partition=0/12a3da8f7ced.geo+0+0000000002.json",
         "12a3da8f7ced.geo+0+0000000002.json",
         110,
         1705682934000
        ],
        [
         "dbfs:/mnt/s3_bucket_test/topics/12a3da8f7ced.geo/partition=0/12a3da8f7ced.geo+0+0000000003.json",
         "12a3da8f7ced.geo+0+0000000003.json",
         115,
         1705682942000
        ],
        [
         "dbfs:/mnt/s3_bucket_test/topics/12a3da8f7ced.geo/partition=0/12a3da8f7ced.geo+0+0000000004.json",
         "12a3da8f7ced.geo+0+0000000004.json",
         107,
         1705682942000
        ],
        [
         "dbfs:/mnt/s3_bucket_test/topics/12a3da8f7ced.geo/partition=0/12a3da8f7ced.geo+0+0000000005.json",
         "12a3da8f7ced.geo+0+0000000005.json",
         109,
         1705682946000
        ],
        [
         "dbfs:/mnt/s3_bucket_test/topics/12a3da8f7ced.geo/partition=0/12a3da8f7ced.geo+0+0000000006.json",
         "12a3da8f7ced.geo+0+0000000006.json",
         115,
         1705682950000
        ],
        [
         "dbfs:/mnt/s3_bucket_test/topics/12a3da8f7ced.geo/partition=0/12a3da8f7ced.geo+0+0000000007.json",
         "12a3da8f7ced.geo+0+0000000007.json",
         127,
         1705682953000
        ],
        [
         "dbfs:/mnt/s3_bucket_test/topics/12a3da8f7ced.geo/partition=0/12a3da8f7ced.geo+0+0000000008.json",
         "12a3da8f7ced.geo+0+0000000008.json",
         111,
         1705682957000
        ],
        [
         "dbfs:/mnt/s3_bucket_test/topics/12a3da8f7ced.geo/partition=0/12a3da8f7ced.geo+0+0000000009.json",
         "12a3da8f7ced.geo+0+0000000009.json",
         113,
         1705682960000
        ],
        [
         "dbfs:/mnt/s3_bucket_test/topics/12a3da8f7ced.geo/partition=0/12a3da8f7ced.geo+0+0000000010.json",
         "12a3da8f7ced.geo+0+0000000010.json",
         116,
         1705682964000
        ],
        [
         "dbfs:/mnt/s3_bucket_test/topics/12a3da8f7ced.geo/partition=0/12a3da8f7ced.geo+0+0000000011.json",
         "12a3da8f7ced.geo+0+0000000011.json",
         110,
         1705682967000
        ],
        [
         "dbfs:/mnt/s3_bucket_test/topics/12a3da8f7ced.geo/partition=0/12a3da8f7ced.geo+0+0000000012.json",
         "12a3da8f7ced.geo+0+0000000012.json",
         111,
         1705682972000
        ],
        [
         "dbfs:/mnt/s3_bucket_test/topics/12a3da8f7ced.geo/partition=0/12a3da8f7ced.geo+0+0000000013.json",
         "12a3da8f7ced.geo+0+0000000013.json",
         111,
         1705682977000
        ],
        [
         "dbfs:/mnt/s3_bucket_test/topics/12a3da8f7ced.geo/partition=0/12a3da8f7ced.geo+0+0000000014.json",
         "12a3da8f7ced.geo+0+0000000014.json",
         108,
         1705682981000
        ],
        [
         "dbfs:/mnt/s3_bucket_test/topics/12a3da8f7ced.geo/partition=0/12a3da8f7ced.geo+0+0000000015.json",
         "12a3da8f7ced.geo+0+0000000015.json",
         113,
         1705682986000
        ],
        [
         "dbfs:/mnt/s3_bucket_test/topics/12a3da8f7ced.geo/partition=0/12a3da8f7ced.geo+0+0000000016.json",
         "12a3da8f7ced.geo+0+0000000016.json",
         111,
         1705682989000
        ],
        [
         "dbfs:/mnt/s3_bucket_test/topics/12a3da8f7ced.geo/partition=0/12a3da8f7ced.geo+0+0000000017.json",
         "12a3da8f7ced.geo+0+0000000017.json",
         109,
         1705682993000
        ],
        [
         "dbfs:/mnt/s3_bucket_test/topics/12a3da8f7ced.geo/partition=0/12a3da8f7ced.geo+0+0000000018.json",
         "12a3da8f7ced.geo+0+0000000018.json",
         111,
         1705682996000
        ],
        [
         "dbfs:/mnt/s3_bucket_test/topics/12a3da8f7ced.geo/partition=0/12a3da8f7ced.geo+0+0000000019.json",
         "12a3da8f7ced.geo+0+0000000019.json",
         147,
         1705683000000
        ],
        [
         "dbfs:/mnt/s3_bucket_test/topics/12a3da8f7ced.geo/partition=0/12a3da8f7ced.geo+0+0000000020.json",
         "12a3da8f7ced.geo+0+0000000020.json",
         109,
         1705683004000
        ],
        [
         "dbfs:/mnt/s3_bucket_test/topics/12a3da8f7ced.geo/partition=0/12a3da8f7ced.geo+0+0000000021.json",
         "12a3da8f7ced.geo+0+0000000021.json",
         112,
         1705683007000
        ],
        [
         "dbfs:/mnt/s3_bucket_test/topics/12a3da8f7ced.geo/partition=0/12a3da8f7ced.geo+0+0000000022.json",
         "12a3da8f7ced.geo+0+0000000022.json",
         112,
         1705683010000
        ],
        [
         "dbfs:/mnt/s3_bucket_test/topics/12a3da8f7ced.geo/partition=0/12a3da8f7ced.geo+0+0000000023.json",
         "12a3da8f7ced.geo+0+0000000023.json",
         125,
         1705683015000
        ],
        [
         "dbfs:/mnt/s3_bucket_test/topics/12a3da8f7ced.geo/partition=0/12a3da8f7ced.geo+0+0000000024.json",
         "12a3da8f7ced.geo+0+0000000024.json",
         110,
         1706033264000
        ],
        [
         "dbfs:/mnt/s3_bucket_test/topics/12a3da8f7ced.geo/partition=0/12a3da8f7ced.geo+0+0000000025.json",
         "12a3da8f7ced.geo+0+0000000025.json",
         110,
         1706033271000
        ],
        [
         "dbfs:/mnt/s3_bucket_test/topics/12a3da8f7ced.geo/partition=0/12a3da8f7ced.geo+0+0000000026.json",
         "12a3da8f7ced.geo+0+0000000026.json",
         110,
         1706033279000
        ],
        [
         "dbfs:/mnt/s3_bucket_test/topics/12a3da8f7ced.geo/partition=0/12a3da8f7ced.geo+0+0000000027.json",
         "12a3da8f7ced.geo+0+0000000027.json",
         115,
         1706033284000
        ],
        [
         "dbfs:/mnt/s3_bucket_test/topics/12a3da8f7ced.geo/partition=0/12a3da8f7ced.geo+0+0000000028.json",
         "12a3da8f7ced.geo+0+0000000028.json",
         107,
         1706033289000
        ],
        [
         "dbfs:/mnt/s3_bucket_test/topics/12a3da8f7ced.geo/partition=0/12a3da8f7ced.geo+0+0000000029.json",
         "12a3da8f7ced.geo+0+0000000029.json",
         109,
         1706033293000
        ],
        [
         "dbfs:/mnt/s3_bucket_test/topics/12a3da8f7ced.geo/partition=0/12a3da8f7ced.geo+0+0000000030.json",
         "12a3da8f7ced.geo+0+0000000030.json",
         115,
         1706033299000
        ],
        [
         "dbfs:/mnt/s3_bucket_test/topics/12a3da8f7ced.geo/partition=0/12a3da8f7ced.geo+0+0000000031.json",
         "12a3da8f7ced.geo+0+0000000031.json",
         127,
         1706033303000
        ],
        [
         "dbfs:/mnt/s3_bucket_test/topics/12a3da8f7ced.geo/partition=0/12a3da8f7ced.geo+0+0000000032.json",
         "12a3da8f7ced.geo+0+0000000032.json",
         111,
         1706033308000
        ],
        [
         "dbfs:/mnt/s3_bucket_test/topics/12a3da8f7ced.geo/partition=0/12a3da8f7ced.geo+0+0000000033.json",
         "12a3da8f7ced.geo+0+0000000033.json",
         113,
         1706033313000
        ],
        [
         "dbfs:/mnt/s3_bucket_test/topics/12a3da8f7ced.geo/partition=0/12a3da8f7ced.geo+0+0000000034.json",
         "12a3da8f7ced.geo+0+0000000034.json",
         116,
         1706033319000
        ],
        [
         "dbfs:/mnt/s3_bucket_test/topics/12a3da8f7ced.geo/partition=0/12a3da8f7ced.geo+0+0000000035.json",
         "12a3da8f7ced.geo+0+0000000035.json",
         110,
         1706033323000
        ],
        [
         "dbfs:/mnt/s3_bucket_test/topics/12a3da8f7ced.geo/partition=0/12a3da8f7ced.geo+0+0000000036.json",
         "12a3da8f7ced.geo+0+0000000036.json",
         111,
         1706033328000
        ],
        [
         "dbfs:/mnt/s3_bucket_test/topics/12a3da8f7ced.geo/partition=0/12a3da8f7ced.geo+0+0000000037.json",
         "12a3da8f7ced.geo+0+0000000037.json",
         111,
         1706033333000
        ],
        [
         "dbfs:/mnt/s3_bucket_test/topics/12a3da8f7ced.geo/partition=0/12a3da8f7ced.geo+0+0000000038.json",
         "12a3da8f7ced.geo+0+0000000038.json",
         108,
         1706033338000
        ],
        [
         "dbfs:/mnt/s3_bucket_test/topics/12a3da8f7ced.geo/partition=0/12a3da8f7ced.geo+0+0000000039.json",
         "12a3da8f7ced.geo+0+0000000039.json",
         113,
         1706033344000
        ],
        [
         "dbfs:/mnt/s3_bucket_test/topics/12a3da8f7ced.geo/partition=0/12a3da8f7ced.geo+0+0000000040.json",
         "12a3da8f7ced.geo+0+0000000040.json",
         111,
         1706033349000
        ],
        [
         "dbfs:/mnt/s3_bucket_test/topics/12a3da8f7ced.geo/partition=0/12a3da8f7ced.geo+0+0000000041.json",
         "12a3da8f7ced.geo+0+0000000041.json",
         109,
         1706033354000
        ],
        [
         "dbfs:/mnt/s3_bucket_test/topics/12a3da8f7ced.geo/partition=0/12a3da8f7ced.geo+0+0000000042.json",
         "12a3da8f7ced.geo+0+0000000042.json",
         111,
         1706033358000
        ],
        [
         "dbfs:/mnt/s3_bucket_test/topics/12a3da8f7ced.geo/partition=0/12a3da8f7ced.geo+0+0000000043.json",
         "12a3da8f7ced.geo+0+0000000043.json",
         147,
         1706033363000
        ],
        [
         "dbfs:/mnt/s3_bucket_test/topics/12a3da8f7ced.geo/partition=0/12a3da8f7ced.geo+0+0000000044.json",
         "12a3da8f7ced.geo+0+0000000044.json",
         109,
         1706033367000
        ],
        [
         "dbfs:/mnt/s3_bucket_test/topics/12a3da8f7ced.geo/partition=0/12a3da8f7ced.geo+0+0000000045.json",
         "12a3da8f7ced.geo+0+0000000045.json",
         112,
         1706033372000
        ],
        [
         "dbfs:/mnt/s3_bucket_test/topics/12a3da8f7ced.geo/partition=0/12a3da8f7ced.geo+0+0000000046.json",
         "12a3da8f7ced.geo+0+0000000046.json",
         112,
         1706033376000
        ],
        [
         "dbfs:/mnt/s3_bucket_test/topics/12a3da8f7ced.geo/partition=0/12a3da8f7ced.geo+0+0000000047.json",
         "12a3da8f7ced.geo+0+0000000047.json",
         125,
         1706033383000
        ],
        [
         "dbfs:/mnt/s3_bucket_test/topics/12a3da8f7ced.geo/partition=0/12a3da8f7ced.geo+0+0000000048.json",
         "12a3da8f7ced.geo+0+0000000048.json",
         120,
         1706033388000
        ],
        [
         "dbfs:/mnt/s3_bucket_test/topics/12a3da8f7ced.geo/partition=0/12a3da8f7ced.geo+0+0000000049.json",
         "12a3da8f7ced.geo+0+0000000049.json",
         110,
         1706033393000
        ],
        [
         "dbfs:/mnt/s3_bucket_test/topics/12a3da8f7ced.geo/partition=0/12a3da8f7ced.geo+0+0000000050.json",
         "12a3da8f7ced.geo+0+0000000050.json",
         107,
         1706033399000
        ],
        [
         "dbfs:/mnt/s3_bucket_test/topics/12a3da8f7ced.geo/partition=0/12a3da8f7ced.geo+0+0000000051.json",
         "12a3da8f7ced.geo+0+0000000051.json",
         112,
         1706033404000
        ],
        [
         "dbfs:/mnt/s3_bucket_test/topics/12a3da8f7ced.geo/partition=0/12a3da8f7ced.geo+0+0000000052.json",
         "12a3da8f7ced.geo+0+0000000052.json",
         111,
         1706033411000
        ],
        [
         "dbfs:/mnt/s3_bucket_test/topics/12a3da8f7ced.geo/partition=0/12a3da8f7ced.geo+0+0000000053.json",
         "12a3da8f7ced.geo+0+0000000053.json",
         122,
         1706033416000
        ],
        [
         "dbfs:/mnt/s3_bucket_test/topics/12a3da8f7ced.geo/partition=0/12a3da8f7ced.geo+0+0000000054.json",
         "12a3da8f7ced.geo+0+0000000054.json",
         106,
         1706033421000
        ],
        [
         "dbfs:/mnt/s3_bucket_test/topics/12a3da8f7ced.geo/partition=0/12a3da8f7ced.geo+0+0000000055.json",
         "12a3da8f7ced.geo+0+0000000055.json",
         108,
         1706033426000
        ],
        [
         "dbfs:/mnt/s3_bucket_test/topics/12a3da8f7ced.geo/partition=0/12a3da8f7ced.geo+0+0000000056.json",
         "12a3da8f7ced.geo+0+0000000056.json",
         111,
         1706033431000
        ],
        [
         "dbfs:/mnt/s3_bucket_test/topics/12a3da8f7ced.geo/partition=0/12a3da8f7ced.geo+0+0000000057.json",
         "12a3da8f7ced.geo+0+0000000057.json",
         108,
         1706033435000
        ],
        [
         "dbfs:/mnt/s3_bucket_test/topics/12a3da8f7ced.geo/partition=0/12a3da8f7ced.geo+0+0000000058.json",
         "12a3da8f7ced.geo+0+0000000058.json",
         110,
         1706033440000
        ],
        [
         "dbfs:/mnt/s3_bucket_test/topics/12a3da8f7ced.geo/partition=0/12a3da8f7ced.geo+0+0000000059.json",
         "12a3da8f7ced.geo+0+0000000059.json",
         110,
         1706033446000
        ],
        [
         "dbfs:/mnt/s3_bucket_test/topics/12a3da8f7ced.geo/partition=0/12a3da8f7ced.geo+0+0000000060.json",
         "12a3da8f7ced.geo+0+0000000060.json",
         110,
         1706033450000
        ],
        [
         "dbfs:/mnt/s3_bucket_test/topics/12a3da8f7ced.geo/partition=0/12a3da8f7ced.geo+0+0000000061.json",
         "12a3da8f7ced.geo+0+0000000061.json",
         106,
         1706033457000
        ],
        [
         "dbfs:/mnt/s3_bucket_test/topics/12a3da8f7ced.geo/partition=0/12a3da8f7ced.geo+0+0000000062.json",
         "12a3da8f7ced.geo+0+0000000062.json",
         113,
         1706033460000
        ],
        [
         "dbfs:/mnt/s3_bucket_test/topics/12a3da8f7ced.geo/partition=0/12a3da8f7ced.geo+0+0000000063.json",
         "12a3da8f7ced.geo+0+0000000063.json",
         107,
         1706033465000
        ],
        [
         "dbfs:/mnt/s3_bucket_test/topics/12a3da8f7ced.geo/partition=0/12a3da8f7ced.geo+0+0000000064.json",
         "12a3da8f7ced.geo+0+0000000064.json",
         110,
         1706033472000
        ],
        [
         "dbfs:/mnt/s3_bucket_test/topics/12a3da8f7ced.geo/partition=0/12a3da8f7ced.geo+0+0000000065.json",
         "12a3da8f7ced.geo+0+0000000065.json",
         124,
         1706033478000
        ],
        [
         "dbfs:/mnt/s3_bucket_test/topics/12a3da8f7ced.geo/partition=0/12a3da8f7ced.geo+0+0000000066.json",
         "12a3da8f7ced.geo+0+0000000066.json",
         112,
         1706033483000
        ],
        [
         "dbfs:/mnt/s3_bucket_test/topics/12a3da8f7ced.geo/partition=0/12a3da8f7ced.geo+0+0000000067.json",
         "12a3da8f7ced.geo+0+0000000067.json",
         110,
         1706033488000
        ],
        [
         "dbfs:/mnt/s3_bucket_test/topics/12a3da8f7ced.geo/partition=0/12a3da8f7ced.geo+0+0000000068.json",
         "12a3da8f7ced.geo+0+0000000068.json",
         117,
         1706033495000
        ],
        [
         "dbfs:/mnt/s3_bucket_test/topics/12a3da8f7ced.geo/partition=0/12a3da8f7ced.geo+0+0000000069.json",
         "12a3da8f7ced.geo+0+0000000069.json",
         122,
         1706033500000
        ],
        [
         "dbfs:/mnt/s3_bucket_test/topics/12a3da8f7ced.geo/partition=0/12a3da8f7ced.geo+0+0000000070.json",
         "12a3da8f7ced.geo+0+0000000070.json",
         117,
         1706033505000
        ],
        [
         "dbfs:/mnt/s3_bucket_test/topics/12a3da8f7ced.geo/partition=0/12a3da8f7ced.geo+0+0000000071.json",
         "12a3da8f7ced.geo+0+0000000071.json",
         109,
         1706033513000
        ],
        [
         "dbfs:/mnt/s3_bucket_test/topics/12a3da8f7ced.geo/partition=0/12a3da8f7ced.geo+0+0000000072.json",
         "12a3da8f7ced.geo+0+0000000072.json",
         119,
         1706033519000
        ],
        [
         "dbfs:/mnt/s3_bucket_test/topics/12a3da8f7ced.geo/partition=0/12a3da8f7ced.geo+0+0000000073.json",
         "12a3da8f7ced.geo+0+0000000073.json",
         109,
         1706033526000
        ],
        [
         "dbfs:/mnt/s3_bucket_test/topics/12a3da8f7ced.geo/partition=0/12a3da8f7ced.geo+0+0000000074.json",
         "12a3da8f7ced.geo+0+0000000074.json",
         112,
         1706033533000
        ],
        [
         "dbfs:/mnt/s3_bucket_test/topics/12a3da8f7ced.geo/partition=0/12a3da8f7ced.geo+0+0000000075.json",
         "12a3da8f7ced.geo+0+0000000075.json",
         112,
         1706033539000
        ],
        [
         "dbfs:/mnt/s3_bucket_test/topics/12a3da8f7ced.geo/partition=0/12a3da8f7ced.geo+0+0000000076.json",
         "12a3da8f7ced.geo+0+0000000076.json",
         109,
         1706033544000
        ],
        [
         "dbfs:/mnt/s3_bucket_test/topics/12a3da8f7ced.geo/partition=0/12a3da8f7ced.geo+0+0000000077.json",
         "12a3da8f7ced.geo+0+0000000077.json",
         112,
         1706033550000
        ],
        [
         "dbfs:/mnt/s3_bucket_test/topics/12a3da8f7ced.geo/partition=0/12a3da8f7ced.geo+0+0000000078.json",
         "12a3da8f7ced.geo+0+0000000078.json",
         112,
         1706033555000
        ],
        [
         "dbfs:/mnt/s3_bucket_test/topics/12a3da8f7ced.geo/partition=0/12a3da8f7ced.geo+0+0000000079.json",
         "12a3da8f7ced.geo+0+0000000079.json",
         109,
         1706033559000
        ],
        [
         "dbfs:/mnt/s3_bucket_test/topics/12a3da8f7ced.geo/partition=0/12a3da8f7ced.geo+0+0000000080.json",
         "12a3da8f7ced.geo+0+0000000080.json",
         125,
         1706033562000
        ],
        [
         "dbfs:/mnt/s3_bucket_test/topics/12a3da8f7ced.geo/partition=0/12a3da8f7ced.geo+0+0000000081.json",
         "12a3da8f7ced.geo+0+0000000081.json",
         112,
         1706033566000
        ],
        [
         "dbfs:/mnt/s3_bucket_test/topics/12a3da8f7ced.geo/partition=0/12a3da8f7ced.geo+0+0000000082.json",
         "12a3da8f7ced.geo+0+0000000082.json",
         109,
         1706033570000
        ],
        [
         "dbfs:/mnt/s3_bucket_test/topics/12a3da8f7ced.geo/partition=0/12a3da8f7ced.geo+0+0000000083.json",
         "12a3da8f7ced.geo+0+0000000083.json",
         110,
         1706033575000
        ],
        [
         "dbfs:/mnt/s3_bucket_test/topics/12a3da8f7ced.geo/partition=0/12a3da8f7ced.geo+0+0000000084.json",
         "12a3da8f7ced.geo+0+0000000084.json",
         121,
         1706033581000
        ],
        [
         "dbfs:/mnt/s3_bucket_test/topics/12a3da8f7ced.geo/partition=0/12a3da8f7ced.geo+0+0000000085.json",
         "12a3da8f7ced.geo+0+0000000085.json",
         109,
         1706033586000
        ],
        [
         "dbfs:/mnt/s3_bucket_test/topics/12a3da8f7ced.geo/partition=0/12a3da8f7ced.geo+0+0000000086.json",
         "12a3da8f7ced.geo+0+0000000086.json",
         110,
         1706033592000
        ],
        [
         "dbfs:/mnt/s3_bucket_test/topics/12a3da8f7ced.geo/partition=0/12a3da8f7ced.geo+0+0000000087.json",
         "12a3da8f7ced.geo+0+0000000087.json",
         115,
         1706033597000
        ],
        [
         "dbfs:/mnt/s3_bucket_test/topics/12a3da8f7ced.geo/partition=0/12a3da8f7ced.geo+0+0000000088.json",
         "12a3da8f7ced.geo+0+0000000088.json",
         112,
         1706033601000
        ],
        [
         "dbfs:/mnt/s3_bucket_test/topics/12a3da8f7ced.geo/partition=0/12a3da8f7ced.geo+0+0000000089.json",
         "12a3da8f7ced.geo+0+0000000089.json",
         115,
         1706033606000
        ],
        [
         "dbfs:/mnt/s3_bucket_test/topics/12a3da8f7ced.geo/partition=0/12a3da8f7ced.geo+0+0000000090.json",
         "12a3da8f7ced.geo+0+0000000090.json",
         108,
         1706033611000
        ],
        [
         "dbfs:/mnt/s3_bucket_test/topics/12a3da8f7ced.geo/partition=0/12a3da8f7ced.geo+0+0000000091.json",
         "12a3da8f7ced.geo+0+0000000091.json",
         111,
         1706033617000
        ],
        [
         "dbfs:/mnt/s3_bucket_test/topics/12a3da8f7ced.geo/partition=0/12a3da8f7ced.geo+0+0000000092.json",
         "12a3da8f7ced.geo+0+0000000092.json",
         112,
         1706033622000
        ],
        [
         "dbfs:/mnt/s3_bucket_test/topics/12a3da8f7ced.geo/partition=0/12a3da8f7ced.geo+0+0000000093.json",
         "12a3da8f7ced.geo+0+0000000093.json",
         108,
         1706033628000
        ],
        [
         "dbfs:/mnt/s3_bucket_test/topics/12a3da8f7ced.geo/partition=0/12a3da8f7ced.geo+0+0000000094.json",
         "12a3da8f7ced.geo+0+0000000094.json",
         109,
         1706033632000
        ],
        [
         "dbfs:/mnt/s3_bucket_test/topics/12a3da8f7ced.geo/partition=0/12a3da8f7ced.geo+0+0000000095.json",
         "12a3da8f7ced.geo+0+0000000095.json",
         110,
         1706033637000
        ],
        [
         "dbfs:/mnt/s3_bucket_test/topics/12a3da8f7ced.geo/partition=0/12a3da8f7ced.geo+0+0000000096.json",
         "12a3da8f7ced.geo+0+0000000096.json",
         110,
         1706033644000
        ],
        [
         "dbfs:/mnt/s3_bucket_test/topics/12a3da8f7ced.geo/partition=0/12a3da8f7ced.geo+0+0000000097.json",
         "12a3da8f7ced.geo+0+0000000097.json",
         113,
         1706033649000
        ],
        [
         "dbfs:/mnt/s3_bucket_test/topics/12a3da8f7ced.geo/partition=0/12a3da8f7ced.geo+0+0000000098.json",
         "12a3da8f7ced.geo+0+0000000098.json",
         113,
         1706033653000
        ],
        [
         "dbfs:/mnt/s3_bucket_test/topics/12a3da8f7ced.geo/partition=0/12a3da8f7ced.geo+0+0000000099.json",
         "12a3da8f7ced.geo+0+0000000099.json",
         107,
         1706033658000
        ],
        [
         "dbfs:/mnt/s3_bucket_test/topics/12a3da8f7ced.geo/partition=0/12a3da8f7ced.geo+0+0000000100.json",
         "12a3da8f7ced.geo+0+0000000100.json",
         109,
         1706033662000
        ],
        [
         "dbfs:/mnt/s3_bucket_test/topics/12a3da8f7ced.geo/partition=0/12a3da8f7ced.geo+0+0000000101.json",
         "12a3da8f7ced.geo+0+0000000101.json",
         114,
         1706033666000
        ],
        [
         "dbfs:/mnt/s3_bucket_test/topics/12a3da8f7ced.geo/partition=0/12a3da8f7ced.geo+0+0000000102.json",
         "12a3da8f7ced.geo+0+0000000102.json",
         110,
         1706033671000
        ],
        [
         "dbfs:/mnt/s3_bucket_test/topics/12a3da8f7ced.geo/partition=0/12a3da8f7ced.geo+0+0000000103.json",
         "12a3da8f7ced.geo+0+0000000103.json",
         117,
         1706033676000
        ],
        [
         "dbfs:/mnt/s3_bucket_test/topics/12a3da8f7ced.geo/partition=0/12a3da8f7ced.geo+0+0000000104.json",
         "12a3da8f7ced.geo+0+0000000104.json",
         111,
         1706033681000
        ],
        [
         "dbfs:/mnt/s3_bucket_test/topics/12a3da8f7ced.geo/partition=0/12a3da8f7ced.geo+0+0000000105.json",
         "12a3da8f7ced.geo+0+0000000105.json",
         108,
         1706033687000
        ],
        [
         "dbfs:/mnt/s3_bucket_test/topics/12a3da8f7ced.geo/partition=0/12a3da8f7ced.geo+0+0000000106.json",
         "12a3da8f7ced.geo+0+0000000106.json",
         110,
         1706033691000
        ],
        [
         "dbfs:/mnt/s3_bucket_test/topics/12a3da8f7ced.geo/partition=0/12a3da8f7ced.geo+0+0000000107.json",
         "12a3da8f7ced.geo+0+0000000107.json",
         120,
         1706033694000
        ],
        [
         "dbfs:/mnt/s3_bucket_test/topics/12a3da8f7ced.geo/partition=0/12a3da8f7ced.geo+0+0000000108.json",
         "12a3da8f7ced.geo+0+0000000108.json",
         110,
         1706033699000
        ],
        [
         "dbfs:/mnt/s3_bucket_test/topics/12a3da8f7ced.geo/partition=0/12a3da8f7ced.geo+0+0000000109.json",
         "12a3da8f7ced.geo+0+0000000109.json",
         122,
         1706033702000
        ]
       ],
       "datasetInfos": [],
       "dbfsResultPath": null,
       "isJsonSchema": true,
       "metadata": {},
       "overflow": false,
       "plotOptions": {
        "customPlotOptions": {},
        "displayType": "table",
        "pivotAggregation": null,
        "pivotColumns": null,
        "xColumns": null,
        "yColumns": null
       },
       "removedWidgets": [],
       "schema": [
        {
         "metadata": "{}",
         "name": "path",
         "type": "\"string\""
        },
        {
         "metadata": "{}",
         "name": "name",
         "type": "\"string\""
        },
        {
         "metadata": "{}",
         "name": "size",
         "type": "\"long\""
        },
        {
         "metadata": "{}",
         "name": "modificationTime",
         "type": "\"long\""
        }
       ],
       "type": "table"
      }
     },
     "output_type": "display_data"
    }
   ],
   "source": [
    "# Repeat for 12a3da8f7ced.geo \n",
    "display(dbutils.fs.ls(\"/mnt/s3_bucket_test/topics/12a3da8f7ced.geo/partition=0/\"))"
   ]
  },
  {
   "cell_type": "code",
   "execution_count": 0,
   "metadata": {
    "application/vnd.databricks.v1+cell": {
     "cellMetadata": {
      "byteLimit": 2048000,
      "rowLimit": 10000
     },
     "inputWidgets": {},
     "nuid": "22736454-8ffc-47a5-acf4-46f8bc0931f8",
     "showTitle": false,
     "title": ""
    }
   },
   "outputs": [
    {
     "output_type": "display_data",
     "data": {
      "text/html": [
       "<style scoped>\n",
       "  .table-result-container {\n",
       "    max-height: 300px;\n",
       "    overflow: auto;\n",
       "  }\n",
       "  table, th, td {\n",
       "    border: 1px solid black;\n",
       "    border-collapse: collapse;\n",
       "  }\n",
       "  th, td {\n",
       "    padding: 5px;\n",
       "  }\n",
       "  th {\n",
       "    text-align: left;\n",
       "  }\n",
       "</style><div class='table-result-container'><table class='table-result'><thead style='background-color: white'><tr><th>path</th><th>name</th><th>size</th><th>modificationTime</th></tr></thead><tbody><tr><td>dbfs:/mnt/s3_bucket_test/topics/12a3da8f7ced.user/partition=0/12a3da8f7ced.user+0+0000000000.json</td><td>12a3da8f7ced.user+0+0000000000.json</td><td>101</td><td>1705682925000</td></tr><tr><td>dbfs:/mnt/s3_bucket_test/topics/12a3da8f7ced.user/partition=0/12a3da8f7ced.user+0+0000000001.json</td><td>12a3da8f7ced.user+0+0000000001.json</td><td>102</td><td>1705682930000</td></tr><tr><td>dbfs:/mnt/s3_bucket_test/topics/12a3da8f7ced.user/partition=0/12a3da8f7ced.user+0+0000000002.json</td><td>12a3da8f7ced.user+0+0000000002.json</td><td>102</td><td>1705682942000</td></tr><tr><td>dbfs:/mnt/s3_bucket_test/topics/12a3da8f7ced.user/partition=0/12a3da8f7ced.user+0+0000000003.json</td><td>12a3da8f7ced.user+0+0000000003.json</td><td>103</td><td>1705682942000</td></tr><tr><td>dbfs:/mnt/s3_bucket_test/topics/12a3da8f7ced.user/partition=0/12a3da8f7ced.user+0+0000000004.json</td><td>12a3da8f7ced.user+0+0000000004.json</td><td>106</td><td>1705682943000</td></tr><tr><td>dbfs:/mnt/s3_bucket_test/topics/12a3da8f7ced.user/partition=0/12a3da8f7ced.user+0+0000000005.json</td><td>12a3da8f7ced.user+0+0000000005.json</td><td>104</td><td>1705682947000</td></tr><tr><td>dbfs:/mnt/s3_bucket_test/topics/12a3da8f7ced.user/partition=0/12a3da8f7ced.user+0+0000000006.json</td><td>12a3da8f7ced.user+0+0000000006.json</td><td>105</td><td>1705682951000</td></tr><tr><td>dbfs:/mnt/s3_bucket_test/topics/12a3da8f7ced.user/partition=0/12a3da8f7ced.user+0+0000000007.json</td><td>12a3da8f7ced.user+0+0000000007.json</td><td>104</td><td>1705682954000</td></tr><tr><td>dbfs:/mnt/s3_bucket_test/topics/12a3da8f7ced.user/partition=0/12a3da8f7ced.user+0+0000000008.json</td><td>12a3da8f7ced.user+0+0000000008.json</td><td>100</td><td>1705682958000</td></tr><tr><td>dbfs:/mnt/s3_bucket_test/topics/12a3da8f7ced.user/partition=0/12a3da8f7ced.user+0+0000000009.json</td><td>12a3da8f7ced.user+0+0000000009.json</td><td>101</td><td>1705682961000</td></tr><tr><td>dbfs:/mnt/s3_bucket_test/topics/12a3da8f7ced.user/partition=0/12a3da8f7ced.user+0+0000000010.json</td><td>12a3da8f7ced.user+0+0000000010.json</td><td>102</td><td>1705682965000</td></tr><tr><td>dbfs:/mnt/s3_bucket_test/topics/12a3da8f7ced.user/partition=0/12a3da8f7ced.user+0+0000000011.json</td><td>12a3da8f7ced.user+0+0000000011.json</td><td>101</td><td>1705682968000</td></tr><tr><td>dbfs:/mnt/s3_bucket_test/topics/12a3da8f7ced.user/partition=0/12a3da8f7ced.user+0+0000000012.json</td><td>12a3da8f7ced.user+0+0000000012.json</td><td>103</td><td>1705682973000</td></tr><tr><td>dbfs:/mnt/s3_bucket_test/topics/12a3da8f7ced.user/partition=0/12a3da8f7ced.user+0+0000000013.json</td><td>12a3da8f7ced.user+0+0000000013.json</td><td>103</td><td>1705682978000</td></tr><tr><td>dbfs:/mnt/s3_bucket_test/topics/12a3da8f7ced.user/partition=0/12a3da8f7ced.user+0+0000000014.json</td><td>12a3da8f7ced.user+0+0000000014.json</td><td>103</td><td>1705682982000</td></tr><tr><td>dbfs:/mnt/s3_bucket_test/topics/12a3da8f7ced.user/partition=0/12a3da8f7ced.user+0+0000000015.json</td><td>12a3da8f7ced.user+0+0000000015.json</td><td>103</td><td>1705682987000</td></tr><tr><td>dbfs:/mnt/s3_bucket_test/topics/12a3da8f7ced.user/partition=0/12a3da8f7ced.user+0+0000000016.json</td><td>12a3da8f7ced.user+0+0000000016.json</td><td>105</td><td>1705682990000</td></tr><tr><td>dbfs:/mnt/s3_bucket_test/topics/12a3da8f7ced.user/partition=0/12a3da8f7ced.user+0+0000000017.json</td><td>12a3da8f7ced.user+0+0000000017.json</td><td>104</td><td>1705682994000</td></tr><tr><td>dbfs:/mnt/s3_bucket_test/topics/12a3da8f7ced.user/partition=0/12a3da8f7ced.user+0+0000000018.json</td><td>12a3da8f7ced.user+0+0000000018.json</td><td>104</td><td>1705682997000</td></tr><tr><td>dbfs:/mnt/s3_bucket_test/topics/12a3da8f7ced.user/partition=0/12a3da8f7ced.user+0+0000000019.json</td><td>12a3da8f7ced.user+0+0000000019.json</td><td>102</td><td>1705683001000</td></tr><tr><td>dbfs:/mnt/s3_bucket_test/topics/12a3da8f7ced.user/partition=0/12a3da8f7ced.user+0+0000000020.json</td><td>12a3da8f7ced.user+0+0000000020.json</td><td>102</td><td>1705683005000</td></tr><tr><td>dbfs:/mnt/s3_bucket_test/topics/12a3da8f7ced.user/partition=0/12a3da8f7ced.user+0+0000000021.json</td><td>12a3da8f7ced.user+0+0000000021.json</td><td>102</td><td>1705683008000</td></tr><tr><td>dbfs:/mnt/s3_bucket_test/topics/12a3da8f7ced.user/partition=0/12a3da8f7ced.user+0+0000000022.json</td><td>12a3da8f7ced.user+0+0000000022.json</td><td>102</td><td>1705683011000</td></tr><tr><td>dbfs:/mnt/s3_bucket_test/topics/12a3da8f7ced.user/partition=0/12a3da8f7ced.user+0+0000000023.json</td><td>12a3da8f7ced.user+0+0000000023.json</td><td>104</td><td>1705683016000</td></tr><tr><td>dbfs:/mnt/s3_bucket_test/topics/12a3da8f7ced.user/partition=0/12a3da8f7ced.user+0+0000000024.json</td><td>12a3da8f7ced.user+0+0000000024.json</td><td>101</td><td>1706033266000</td></tr><tr><td>dbfs:/mnt/s3_bucket_test/topics/12a3da8f7ced.user/partition=0/12a3da8f7ced.user+0+0000000025.json</td><td>12a3da8f7ced.user+0+0000000025.json</td><td>102</td><td>1706033272000</td></tr><tr><td>dbfs:/mnt/s3_bucket_test/topics/12a3da8f7ced.user/partition=0/12a3da8f7ced.user+0+0000000026.json</td><td>12a3da8f7ced.user+0+0000000026.json</td><td>102</td><td>1706033280000</td></tr><tr><td>dbfs:/mnt/s3_bucket_test/topics/12a3da8f7ced.user/partition=0/12a3da8f7ced.user+0+0000000027.json</td><td>12a3da8f7ced.user+0+0000000027.json</td><td>103</td><td>1706033286000</td></tr><tr><td>dbfs:/mnt/s3_bucket_test/topics/12a3da8f7ced.user/partition=0/12a3da8f7ced.user+0+0000000028.json</td><td>12a3da8f7ced.user+0+0000000028.json</td><td>106</td><td>1706033290000</td></tr><tr><td>dbfs:/mnt/s3_bucket_test/topics/12a3da8f7ced.user/partition=0/12a3da8f7ced.user+0+0000000029.json</td><td>12a3da8f7ced.user+0+0000000029.json</td><td>104</td><td>1706033294000</td></tr><tr><td>dbfs:/mnt/s3_bucket_test/topics/12a3da8f7ced.user/partition=0/12a3da8f7ced.user+0+0000000030.json</td><td>12a3da8f7ced.user+0+0000000030.json</td><td>105</td><td>1706033300000</td></tr><tr><td>dbfs:/mnt/s3_bucket_test/topics/12a3da8f7ced.user/partition=0/12a3da8f7ced.user+0+0000000031.json</td><td>12a3da8f7ced.user+0+0000000031.json</td><td>104</td><td>1706033305000</td></tr><tr><td>dbfs:/mnt/s3_bucket_test/topics/12a3da8f7ced.user/partition=0/12a3da8f7ced.user+0+0000000032.json</td><td>12a3da8f7ced.user+0+0000000032.json</td><td>100</td><td>1706033310000</td></tr><tr><td>dbfs:/mnt/s3_bucket_test/topics/12a3da8f7ced.user/partition=0/12a3da8f7ced.user+0+0000000033.json</td><td>12a3da8f7ced.user+0+0000000033.json</td><td>101</td><td>1706033314000</td></tr><tr><td>dbfs:/mnt/s3_bucket_test/topics/12a3da8f7ced.user/partition=0/12a3da8f7ced.user+0+0000000034.json</td><td>12a3da8f7ced.user+0+0000000034.json</td><td>102</td><td>1706033320000</td></tr><tr><td>dbfs:/mnt/s3_bucket_test/topics/12a3da8f7ced.user/partition=0/12a3da8f7ced.user+0+0000000035.json</td><td>12a3da8f7ced.user+0+0000000035.json</td><td>101</td><td>1706033324000</td></tr><tr><td>dbfs:/mnt/s3_bucket_test/topics/12a3da8f7ced.user/partition=0/12a3da8f7ced.user+0+0000000036.json</td><td>12a3da8f7ced.user+0+0000000036.json</td><td>103</td><td>1706033329000</td></tr><tr><td>dbfs:/mnt/s3_bucket_test/topics/12a3da8f7ced.user/partition=0/12a3da8f7ced.user+0+0000000037.json</td><td>12a3da8f7ced.user+0+0000000037.json</td><td>103</td><td>1706033334000</td></tr><tr><td>dbfs:/mnt/s3_bucket_test/topics/12a3da8f7ced.user/partition=0/12a3da8f7ced.user+0+0000000038.json</td><td>12a3da8f7ced.user+0+0000000038.json</td><td>103</td><td>1706033340000</td></tr><tr><td>dbfs:/mnt/s3_bucket_test/topics/12a3da8f7ced.user/partition=0/12a3da8f7ced.user+0+0000000039.json</td><td>12a3da8f7ced.user+0+0000000039.json</td><td>103</td><td>1706033345000</td></tr><tr><td>dbfs:/mnt/s3_bucket_test/topics/12a3da8f7ced.user/partition=0/12a3da8f7ced.user+0+0000000040.json</td><td>12a3da8f7ced.user+0+0000000040.json</td><td>105</td><td>1706033351000</td></tr><tr><td>dbfs:/mnt/s3_bucket_test/topics/12a3da8f7ced.user/partition=0/12a3da8f7ced.user+0+0000000041.json</td><td>12a3da8f7ced.user+0+0000000041.json</td><td>104</td><td>1706033355000</td></tr><tr><td>dbfs:/mnt/s3_bucket_test/topics/12a3da8f7ced.user/partition=0/12a3da8f7ced.user+0+0000000042.json</td><td>12a3da8f7ced.user+0+0000000042.json</td><td>104</td><td>1706033359000</td></tr><tr><td>dbfs:/mnt/s3_bucket_test/topics/12a3da8f7ced.user/partition=0/12a3da8f7ced.user+0+0000000043.json</td><td>12a3da8f7ced.user+0+0000000043.json</td><td>102</td><td>1706033364000</td></tr><tr><td>dbfs:/mnt/s3_bucket_test/topics/12a3da8f7ced.user/partition=0/12a3da8f7ced.user+0+0000000044.json</td><td>12a3da8f7ced.user+0+0000000044.json</td><td>102</td><td>1706033368000</td></tr><tr><td>dbfs:/mnt/s3_bucket_test/topics/12a3da8f7ced.user/partition=0/12a3da8f7ced.user+0+0000000045.json</td><td>12a3da8f7ced.user+0+0000000045.json</td><td>102</td><td>1706033373000</td></tr><tr><td>dbfs:/mnt/s3_bucket_test/topics/12a3da8f7ced.user/partition=0/12a3da8f7ced.user+0+0000000046.json</td><td>12a3da8f7ced.user+0+0000000046.json</td><td>102</td><td>1706033377000</td></tr><tr><td>dbfs:/mnt/s3_bucket_test/topics/12a3da8f7ced.user/partition=0/12a3da8f7ced.user+0+0000000047.json</td><td>12a3da8f7ced.user+0+0000000047.json</td><td>104</td><td>1706033385000</td></tr><tr><td>dbfs:/mnt/s3_bucket_test/topics/12a3da8f7ced.user/partition=0/12a3da8f7ced.user+0+0000000048.json</td><td>12a3da8f7ced.user+0+0000000048.json</td><td>103</td><td>1706033389000</td></tr><tr><td>dbfs:/mnt/s3_bucket_test/topics/12a3da8f7ced.user/partition=0/12a3da8f7ced.user+0+0000000049.json</td><td>12a3da8f7ced.user+0+0000000049.json</td><td>102</td><td>1706033395000</td></tr><tr><td>dbfs:/mnt/s3_bucket_test/topics/12a3da8f7ced.user/partition=0/12a3da8f7ced.user+0+0000000050.json</td><td>12a3da8f7ced.user+0+0000000050.json</td><td>105</td><td>1706033400000</td></tr><tr><td>dbfs:/mnt/s3_bucket_test/topics/12a3da8f7ced.user/partition=0/12a3da8f7ced.user+0+0000000051.json</td><td>12a3da8f7ced.user+0+0000000051.json</td><td>101</td><td>1706033406000</td></tr><tr><td>dbfs:/mnt/s3_bucket_test/topics/12a3da8f7ced.user/partition=0/12a3da8f7ced.user+0+0000000052.json</td><td>12a3da8f7ced.user+0+0000000052.json</td><td>106</td><td>1706033412000</td></tr><tr><td>dbfs:/mnt/s3_bucket_test/topics/12a3da8f7ced.user/partition=0/12a3da8f7ced.user+0+0000000053.json</td><td>12a3da8f7ced.user+0+0000000053.json</td><td>102</td><td>1706033417000</td></tr><tr><td>dbfs:/mnt/s3_bucket_test/topics/12a3da8f7ced.user/partition=0/12a3da8f7ced.user+0+0000000054.json</td><td>12a3da8f7ced.user+0+0000000054.json</td><td>104</td><td>1706033423000</td></tr><tr><td>dbfs:/mnt/s3_bucket_test/topics/12a3da8f7ced.user/partition=0/12a3da8f7ced.user+0+0000000055.json</td><td>12a3da8f7ced.user+0+0000000055.json</td><td>103</td><td>1706033427000</td></tr><tr><td>dbfs:/mnt/s3_bucket_test/topics/12a3da8f7ced.user/partition=0/12a3da8f7ced.user+0+0000000056.json</td><td>12a3da8f7ced.user+0+0000000056.json</td><td>104</td><td>1706033433000</td></tr><tr><td>dbfs:/mnt/s3_bucket_test/topics/12a3da8f7ced.user/partition=0/12a3da8f7ced.user+0+0000000057.json</td><td>12a3da8f7ced.user+0+0000000057.json</td><td>101</td><td>1706033436000</td></tr><tr><td>dbfs:/mnt/s3_bucket_test/topics/12a3da8f7ced.user/partition=0/12a3da8f7ced.user+0+0000000058.json</td><td>12a3da8f7ced.user+0+0000000058.json</td><td>101</td><td>1706033442000</td></tr><tr><td>dbfs:/mnt/s3_bucket_test/topics/12a3da8f7ced.user/partition=0/12a3da8f7ced.user+0+0000000059.json</td><td>12a3da8f7ced.user+0+0000000059.json</td><td>104</td><td>1706033447000</td></tr><tr><td>dbfs:/mnt/s3_bucket_test/topics/12a3da8f7ced.user/partition=0/12a3da8f7ced.user+0+0000000060.json</td><td>12a3da8f7ced.user+0+0000000060.json</td><td>102</td><td>1706033451000</td></tr><tr><td>dbfs:/mnt/s3_bucket_test/topics/12a3da8f7ced.user/partition=0/12a3da8f7ced.user+0+0000000061.json</td><td>12a3da8f7ced.user+0+0000000061.json</td><td>102</td><td>1706033458000</td></tr><tr><td>dbfs:/mnt/s3_bucket_test/topics/12a3da8f7ced.user/partition=0/12a3da8f7ced.user+0+0000000062.json</td><td>12a3da8f7ced.user+0+0000000062.json</td><td>104</td><td>1706033461000</td></tr><tr><td>dbfs:/mnt/s3_bucket_test/topics/12a3da8f7ced.user/partition=0/12a3da8f7ced.user+0+0000000063.json</td><td>12a3da8f7ced.user+0+0000000063.json</td><td>102</td><td>1706033466000</td></tr><tr><td>dbfs:/mnt/s3_bucket_test/topics/12a3da8f7ced.user/partition=0/12a3da8f7ced.user+0+0000000064.json</td><td>12a3da8f7ced.user+0+0000000064.json</td><td>108</td><td>1706033474000</td></tr><tr><td>dbfs:/mnt/s3_bucket_test/topics/12a3da8f7ced.user/partition=0/12a3da8f7ced.user+0+0000000065.json</td><td>12a3da8f7ced.user+0+0000000065.json</td><td>100</td><td>1706033479000</td></tr><tr><td>dbfs:/mnt/s3_bucket_test/topics/12a3da8f7ced.user/partition=0/12a3da8f7ced.user+0+0000000066.json</td><td>12a3da8f7ced.user+0+0000000066.json</td><td>101</td><td>1706033484000</td></tr><tr><td>dbfs:/mnt/s3_bucket_test/topics/12a3da8f7ced.user/partition=0/12a3da8f7ced.user+0+0000000067.json</td><td>12a3da8f7ced.user+0+0000000067.json</td><td>101</td><td>1706033489000</td></tr><tr><td>dbfs:/mnt/s3_bucket_test/topics/12a3da8f7ced.user/partition=0/12a3da8f7ced.user+0+0000000068.json</td><td>12a3da8f7ced.user+0+0000000068.json</td><td>108</td><td>1706033496000</td></tr><tr><td>dbfs:/mnt/s3_bucket_test/topics/12a3da8f7ced.user/partition=0/12a3da8f7ced.user+0+0000000069.json</td><td>12a3da8f7ced.user+0+0000000069.json</td><td>102</td><td>1706033502000</td></tr><tr><td>dbfs:/mnt/s3_bucket_test/topics/12a3da8f7ced.user/partition=0/12a3da8f7ced.user+0+0000000070.json</td><td>12a3da8f7ced.user+0+0000000070.json</td><td>103</td><td>1706033508000</td></tr><tr><td>dbfs:/mnt/s3_bucket_test/topics/12a3da8f7ced.user/partition=0/12a3da8f7ced.user+0+0000000071.json</td><td>12a3da8f7ced.user+0+0000000071.json</td><td>101</td><td>1706033514000</td></tr><tr><td>dbfs:/mnt/s3_bucket_test/topics/12a3da8f7ced.user/partition=0/12a3da8f7ced.user+0+0000000072.json</td><td>12a3da8f7ced.user+0+0000000072.json</td><td>100</td><td>1706033520000</td></tr><tr><td>dbfs:/mnt/s3_bucket_test/topics/12a3da8f7ced.user/partition=0/12a3da8f7ced.user+0+0000000073.json</td><td>12a3da8f7ced.user+0+0000000073.json</td><td>100</td><td>1706033527000</td></tr><tr><td>dbfs:/mnt/s3_bucket_test/topics/12a3da8f7ced.user/partition=0/12a3da8f7ced.user+0+0000000074.json</td><td>12a3da8f7ced.user+0+0000000074.json</td><td>105</td><td>1706033535000</td></tr><tr><td>dbfs:/mnt/s3_bucket_test/topics/12a3da8f7ced.user/partition=0/12a3da8f7ced.user+0+0000000075.json</td><td>12a3da8f7ced.user+0+0000000075.json</td><td>103</td><td>1706033541000</td></tr><tr><td>dbfs:/mnt/s3_bucket_test/topics/12a3da8f7ced.user/partition=0/12a3da8f7ced.user+0+0000000076.json</td><td>12a3da8f7ced.user+0+0000000076.json</td><td>103</td><td>1706033545000</td></tr><tr><td>dbfs:/mnt/s3_bucket_test/topics/12a3da8f7ced.user/partition=0/12a3da8f7ced.user+0+0000000077.json</td><td>12a3da8f7ced.user+0+0000000077.json</td><td>104</td><td>1706033551000</td></tr><tr><td>dbfs:/mnt/s3_bucket_test/topics/12a3da8f7ced.user/partition=0/12a3da8f7ced.user+0+0000000078.json</td><td>12a3da8f7ced.user+0+0000000078.json</td><td>102</td><td>1706033556000</td></tr><tr><td>dbfs:/mnt/s3_bucket_test/topics/12a3da8f7ced.user/partition=0/12a3da8f7ced.user+0+0000000079.json</td><td>12a3da8f7ced.user+0+0000000079.json</td><td>104</td><td>1706033559000</td></tr><tr><td>dbfs:/mnt/s3_bucket_test/topics/12a3da8f7ced.user/partition=0/12a3da8f7ced.user+0+0000000080.json</td><td>12a3da8f7ced.user+0+0000000080.json</td><td>99</td><td>1706033563000</td></tr><tr><td>dbfs:/mnt/s3_bucket_test/topics/12a3da8f7ced.user/partition=0/12a3da8f7ced.user+0+0000000081.json</td><td>12a3da8f7ced.user+0+0000000081.json</td><td>108</td><td>1706033567000</td></tr><tr><td>dbfs:/mnt/s3_bucket_test/topics/12a3da8f7ced.user/partition=0/12a3da8f7ced.user+0+0000000082.json</td><td>12a3da8f7ced.user+0+0000000082.json</td><td>110</td><td>1706033571000</td></tr><tr><td>dbfs:/mnt/s3_bucket_test/topics/12a3da8f7ced.user/partition=0/12a3da8f7ced.user+0+0000000083.json</td><td>12a3da8f7ced.user+0+0000000083.json</td><td>101</td><td>1706033577000</td></tr><tr><td>dbfs:/mnt/s3_bucket_test/topics/12a3da8f7ced.user/partition=0/12a3da8f7ced.user+0+0000000084.json</td><td>12a3da8f7ced.user+0+0000000084.json</td><td>104</td><td>1706033582000</td></tr><tr><td>dbfs:/mnt/s3_bucket_test/topics/12a3da8f7ced.user/partition=0/12a3da8f7ced.user+0+0000000085.json</td><td>12a3da8f7ced.user+0+0000000085.json</td><td>106</td><td>1706033587000</td></tr><tr><td>dbfs:/mnt/s3_bucket_test/topics/12a3da8f7ced.user/partition=0/12a3da8f7ced.user+0+0000000086.json</td><td>12a3da8f7ced.user+0+0000000086.json</td><td>104</td><td>1706033593000</td></tr><tr><td>dbfs:/mnt/s3_bucket_test/topics/12a3da8f7ced.user/partition=0/12a3da8f7ced.user+0+0000000087.json</td><td>12a3da8f7ced.user+0+0000000087.json</td><td>98</td><td>1706033598000</td></tr><tr><td>dbfs:/mnt/s3_bucket_test/topics/12a3da8f7ced.user/partition=0/12a3da8f7ced.user+0+0000000088.json</td><td>12a3da8f7ced.user+0+0000000088.json</td><td>103</td><td>1706033602000</td></tr><tr><td>dbfs:/mnt/s3_bucket_test/topics/12a3da8f7ced.user/partition=0/12a3da8f7ced.user+0+0000000089.json</td><td>12a3da8f7ced.user+0+0000000089.json</td><td>103</td><td>1706033607000</td></tr><tr><td>dbfs:/mnt/s3_bucket_test/topics/12a3da8f7ced.user/partition=0/12a3da8f7ced.user+0+0000000090.json</td><td>12a3da8f7ced.user+0+0000000090.json</td><td>103</td><td>1706033612000</td></tr><tr><td>dbfs:/mnt/s3_bucket_test/topics/12a3da8f7ced.user/partition=0/12a3da8f7ced.user+0+0000000091.json</td><td>12a3da8f7ced.user+0+0000000091.json</td><td>104</td><td>1706033618000</td></tr><tr><td>dbfs:/mnt/s3_bucket_test/topics/12a3da8f7ced.user/partition=0/12a3da8f7ced.user+0+0000000092.json</td><td>12a3da8f7ced.user+0+0000000092.json</td><td>105</td><td>1706033623000</td></tr><tr><td>dbfs:/mnt/s3_bucket_test/topics/12a3da8f7ced.user/partition=0/12a3da8f7ced.user+0+0000000093.json</td><td>12a3da8f7ced.user+0+0000000093.json</td><td>104</td><td>1706033629000</td></tr><tr><td>dbfs:/mnt/s3_bucket_test/topics/12a3da8f7ced.user/partition=0/12a3da8f7ced.user+0+0000000094.json</td><td>12a3da8f7ced.user+0+0000000094.json</td><td>105</td><td>1706033633000</td></tr><tr><td>dbfs:/mnt/s3_bucket_test/topics/12a3da8f7ced.user/partition=0/12a3da8f7ced.user+0+0000000095.json</td><td>12a3da8f7ced.user+0+0000000095.json</td><td>109</td><td>1706033640000</td></tr><tr><td>dbfs:/mnt/s3_bucket_test/topics/12a3da8f7ced.user/partition=0/12a3da8f7ced.user+0+0000000096.json</td><td>12a3da8f7ced.user+0+0000000096.json</td><td>99</td><td>1706033646000</td></tr><tr><td>dbfs:/mnt/s3_bucket_test/topics/12a3da8f7ced.user/partition=0/12a3da8f7ced.user+0+0000000097.json</td><td>12a3da8f7ced.user+0+0000000097.json</td><td>103</td><td>1706033650000</td></tr><tr><td>dbfs:/mnt/s3_bucket_test/topics/12a3da8f7ced.user/partition=0/12a3da8f7ced.user+0+0000000098.json</td><td>12a3da8f7ced.user+0+0000000098.json</td><td>98</td><td>1706033654000</td></tr><tr><td>dbfs:/mnt/s3_bucket_test/topics/12a3da8f7ced.user/partition=0/12a3da8f7ced.user+0+0000000099.json</td><td>12a3da8f7ced.user+0+0000000099.json</td><td>104</td><td>1706033659000</td></tr><tr><td>dbfs:/mnt/s3_bucket_test/topics/12a3da8f7ced.user/partition=0/12a3da8f7ced.user+0+0000000100.json</td><td>12a3da8f7ced.user+0+0000000100.json</td><td>100</td><td>1706033663000</td></tr><tr><td>dbfs:/mnt/s3_bucket_test/topics/12a3da8f7ced.user/partition=0/12a3da8f7ced.user+0+0000000101.json</td><td>12a3da8f7ced.user+0+0000000101.json</td><td>109</td><td>1706033667000</td></tr><tr><td>dbfs:/mnt/s3_bucket_test/topics/12a3da8f7ced.user/partition=0/12a3da8f7ced.user+0+0000000102.json</td><td>12a3da8f7ced.user+0+0000000102.json</td><td>105</td><td>1706033673000</td></tr><tr><td>dbfs:/mnt/s3_bucket_test/topics/12a3da8f7ced.user/partition=0/12a3da8f7ced.user+0+0000000103.json</td><td>12a3da8f7ced.user+0+0000000103.json</td><td>102</td><td>1706033677000</td></tr><tr><td>dbfs:/mnt/s3_bucket_test/topics/12a3da8f7ced.user/partition=0/12a3da8f7ced.user+0+0000000104.json</td><td>12a3da8f7ced.user+0+0000000104.json</td><td>100</td><td>1706033683000</td></tr><tr><td>dbfs:/mnt/s3_bucket_test/topics/12a3da8f7ced.user/partition=0/12a3da8f7ced.user+0+0000000105.json</td><td>12a3da8f7ced.user+0+0000000105.json</td><td>103</td><td>1706033688000</td></tr><tr><td>dbfs:/mnt/s3_bucket_test/topics/12a3da8f7ced.user/partition=0/12a3da8f7ced.user+0+0000000106.json</td><td>12a3da8f7ced.user+0+0000000106.json</td><td>102</td><td>1706033692000</td></tr><tr><td>dbfs:/mnt/s3_bucket_test/topics/12a3da8f7ced.user/partition=0/12a3da8f7ced.user+0+0000000107.json</td><td>12a3da8f7ced.user+0+0000000107.json</td><td>107</td><td>1706033695000</td></tr><tr><td>dbfs:/mnt/s3_bucket_test/topics/12a3da8f7ced.user/partition=0/12a3da8f7ced.user+0+0000000108.json</td><td>12a3da8f7ced.user+0+0000000108.json</td><td>105</td><td>1706033700000</td></tr></tbody></table></div>"
      ]
     },
     "metadata": {
      "application/vnd.databricks.v1+output": {
       "addedWidgets": {},
       "aggData": [],
       "aggError": "",
       "aggOverflow": false,
       "aggSchema": [],
       "aggSeriesLimitReached": false,
       "aggType": "",
       "arguments": {},
       "columnCustomDisplayInfos": {},
       "data": [
        [
         "dbfs:/mnt/s3_bucket_test/topics/12a3da8f7ced.user/partition=0/12a3da8f7ced.user+0+0000000000.json",
         "12a3da8f7ced.user+0+0000000000.json",
         101,
         1705682925000
        ],
        [
         "dbfs:/mnt/s3_bucket_test/topics/12a3da8f7ced.user/partition=0/12a3da8f7ced.user+0+0000000001.json",
         "12a3da8f7ced.user+0+0000000001.json",
         102,
         1705682930000
        ],
        [
         "dbfs:/mnt/s3_bucket_test/topics/12a3da8f7ced.user/partition=0/12a3da8f7ced.user+0+0000000002.json",
         "12a3da8f7ced.user+0+0000000002.json",
         102,
         1705682942000
        ],
        [
         "dbfs:/mnt/s3_bucket_test/topics/12a3da8f7ced.user/partition=0/12a3da8f7ced.user+0+0000000003.json",
         "12a3da8f7ced.user+0+0000000003.json",
         103,
         1705682942000
        ],
        [
         "dbfs:/mnt/s3_bucket_test/topics/12a3da8f7ced.user/partition=0/12a3da8f7ced.user+0+0000000004.json",
         "12a3da8f7ced.user+0+0000000004.json",
         106,
         1705682943000
        ],
        [
         "dbfs:/mnt/s3_bucket_test/topics/12a3da8f7ced.user/partition=0/12a3da8f7ced.user+0+0000000005.json",
         "12a3da8f7ced.user+0+0000000005.json",
         104,
         1705682947000
        ],
        [
         "dbfs:/mnt/s3_bucket_test/topics/12a3da8f7ced.user/partition=0/12a3da8f7ced.user+0+0000000006.json",
         "12a3da8f7ced.user+0+0000000006.json",
         105,
         1705682951000
        ],
        [
         "dbfs:/mnt/s3_bucket_test/topics/12a3da8f7ced.user/partition=0/12a3da8f7ced.user+0+0000000007.json",
         "12a3da8f7ced.user+0+0000000007.json",
         104,
         1705682954000
        ],
        [
         "dbfs:/mnt/s3_bucket_test/topics/12a3da8f7ced.user/partition=0/12a3da8f7ced.user+0+0000000008.json",
         "12a3da8f7ced.user+0+0000000008.json",
         100,
         1705682958000
        ],
        [
         "dbfs:/mnt/s3_bucket_test/topics/12a3da8f7ced.user/partition=0/12a3da8f7ced.user+0+0000000009.json",
         "12a3da8f7ced.user+0+0000000009.json",
         101,
         1705682961000
        ],
        [
         "dbfs:/mnt/s3_bucket_test/topics/12a3da8f7ced.user/partition=0/12a3da8f7ced.user+0+0000000010.json",
         "12a3da8f7ced.user+0+0000000010.json",
         102,
         1705682965000
        ],
        [
         "dbfs:/mnt/s3_bucket_test/topics/12a3da8f7ced.user/partition=0/12a3da8f7ced.user+0+0000000011.json",
         "12a3da8f7ced.user+0+0000000011.json",
         101,
         1705682968000
        ],
        [
         "dbfs:/mnt/s3_bucket_test/topics/12a3da8f7ced.user/partition=0/12a3da8f7ced.user+0+0000000012.json",
         "12a3da8f7ced.user+0+0000000012.json",
         103,
         1705682973000
        ],
        [
         "dbfs:/mnt/s3_bucket_test/topics/12a3da8f7ced.user/partition=0/12a3da8f7ced.user+0+0000000013.json",
         "12a3da8f7ced.user+0+0000000013.json",
         103,
         1705682978000
        ],
        [
         "dbfs:/mnt/s3_bucket_test/topics/12a3da8f7ced.user/partition=0/12a3da8f7ced.user+0+0000000014.json",
         "12a3da8f7ced.user+0+0000000014.json",
         103,
         1705682982000
        ],
        [
         "dbfs:/mnt/s3_bucket_test/topics/12a3da8f7ced.user/partition=0/12a3da8f7ced.user+0+0000000015.json",
         "12a3da8f7ced.user+0+0000000015.json",
         103,
         1705682987000
        ],
        [
         "dbfs:/mnt/s3_bucket_test/topics/12a3da8f7ced.user/partition=0/12a3da8f7ced.user+0+0000000016.json",
         "12a3da8f7ced.user+0+0000000016.json",
         105,
         1705682990000
        ],
        [
         "dbfs:/mnt/s3_bucket_test/topics/12a3da8f7ced.user/partition=0/12a3da8f7ced.user+0+0000000017.json",
         "12a3da8f7ced.user+0+0000000017.json",
         104,
         1705682994000
        ],
        [
         "dbfs:/mnt/s3_bucket_test/topics/12a3da8f7ced.user/partition=0/12a3da8f7ced.user+0+0000000018.json",
         "12a3da8f7ced.user+0+0000000018.json",
         104,
         1705682997000
        ],
        [
         "dbfs:/mnt/s3_bucket_test/topics/12a3da8f7ced.user/partition=0/12a3da8f7ced.user+0+0000000019.json",
         "12a3da8f7ced.user+0+0000000019.json",
         102,
         1705683001000
        ],
        [
         "dbfs:/mnt/s3_bucket_test/topics/12a3da8f7ced.user/partition=0/12a3da8f7ced.user+0+0000000020.json",
         "12a3da8f7ced.user+0+0000000020.json",
         102,
         1705683005000
        ],
        [
         "dbfs:/mnt/s3_bucket_test/topics/12a3da8f7ced.user/partition=0/12a3da8f7ced.user+0+0000000021.json",
         "12a3da8f7ced.user+0+0000000021.json",
         102,
         1705683008000
        ],
        [
         "dbfs:/mnt/s3_bucket_test/topics/12a3da8f7ced.user/partition=0/12a3da8f7ced.user+0+0000000022.json",
         "12a3da8f7ced.user+0+0000000022.json",
         102,
         1705683011000
        ],
        [
         "dbfs:/mnt/s3_bucket_test/topics/12a3da8f7ced.user/partition=0/12a3da8f7ced.user+0+0000000023.json",
         "12a3da8f7ced.user+0+0000000023.json",
         104,
         1705683016000
        ],
        [
         "dbfs:/mnt/s3_bucket_test/topics/12a3da8f7ced.user/partition=0/12a3da8f7ced.user+0+0000000024.json",
         "12a3da8f7ced.user+0+0000000024.json",
         101,
         1706033266000
        ],
        [
         "dbfs:/mnt/s3_bucket_test/topics/12a3da8f7ced.user/partition=0/12a3da8f7ced.user+0+0000000025.json",
         "12a3da8f7ced.user+0+0000000025.json",
         102,
         1706033272000
        ],
        [
         "dbfs:/mnt/s3_bucket_test/topics/12a3da8f7ced.user/partition=0/12a3da8f7ced.user+0+0000000026.json",
         "12a3da8f7ced.user+0+0000000026.json",
         102,
         1706033280000
        ],
        [
         "dbfs:/mnt/s3_bucket_test/topics/12a3da8f7ced.user/partition=0/12a3da8f7ced.user+0+0000000027.json",
         "12a3da8f7ced.user+0+0000000027.json",
         103,
         1706033286000
        ],
        [
         "dbfs:/mnt/s3_bucket_test/topics/12a3da8f7ced.user/partition=0/12a3da8f7ced.user+0+0000000028.json",
         "12a3da8f7ced.user+0+0000000028.json",
         106,
         1706033290000
        ],
        [
         "dbfs:/mnt/s3_bucket_test/topics/12a3da8f7ced.user/partition=0/12a3da8f7ced.user+0+0000000029.json",
         "12a3da8f7ced.user+0+0000000029.json",
         104,
         1706033294000
        ],
        [
         "dbfs:/mnt/s3_bucket_test/topics/12a3da8f7ced.user/partition=0/12a3da8f7ced.user+0+0000000030.json",
         "12a3da8f7ced.user+0+0000000030.json",
         105,
         1706033300000
        ],
        [
         "dbfs:/mnt/s3_bucket_test/topics/12a3da8f7ced.user/partition=0/12a3da8f7ced.user+0+0000000031.json",
         "12a3da8f7ced.user+0+0000000031.json",
         104,
         1706033305000
        ],
        [
         "dbfs:/mnt/s3_bucket_test/topics/12a3da8f7ced.user/partition=0/12a3da8f7ced.user+0+0000000032.json",
         "12a3da8f7ced.user+0+0000000032.json",
         100,
         1706033310000
        ],
        [
         "dbfs:/mnt/s3_bucket_test/topics/12a3da8f7ced.user/partition=0/12a3da8f7ced.user+0+0000000033.json",
         "12a3da8f7ced.user+0+0000000033.json",
         101,
         1706033314000
        ],
        [
         "dbfs:/mnt/s3_bucket_test/topics/12a3da8f7ced.user/partition=0/12a3da8f7ced.user+0+0000000034.json",
         "12a3da8f7ced.user+0+0000000034.json",
         102,
         1706033320000
        ],
        [
         "dbfs:/mnt/s3_bucket_test/topics/12a3da8f7ced.user/partition=0/12a3da8f7ced.user+0+0000000035.json",
         "12a3da8f7ced.user+0+0000000035.json",
         101,
         1706033324000
        ],
        [
         "dbfs:/mnt/s3_bucket_test/topics/12a3da8f7ced.user/partition=0/12a3da8f7ced.user+0+0000000036.json",
         "12a3da8f7ced.user+0+0000000036.json",
         103,
         1706033329000
        ],
        [
         "dbfs:/mnt/s3_bucket_test/topics/12a3da8f7ced.user/partition=0/12a3da8f7ced.user+0+0000000037.json",
         "12a3da8f7ced.user+0+0000000037.json",
         103,
         1706033334000
        ],
        [
         "dbfs:/mnt/s3_bucket_test/topics/12a3da8f7ced.user/partition=0/12a3da8f7ced.user+0+0000000038.json",
         "12a3da8f7ced.user+0+0000000038.json",
         103,
         1706033340000
        ],
        [
         "dbfs:/mnt/s3_bucket_test/topics/12a3da8f7ced.user/partition=0/12a3da8f7ced.user+0+0000000039.json",
         "12a3da8f7ced.user+0+0000000039.json",
         103,
         1706033345000
        ],
        [
         "dbfs:/mnt/s3_bucket_test/topics/12a3da8f7ced.user/partition=0/12a3da8f7ced.user+0+0000000040.json",
         "12a3da8f7ced.user+0+0000000040.json",
         105,
         1706033351000
        ],
        [
         "dbfs:/mnt/s3_bucket_test/topics/12a3da8f7ced.user/partition=0/12a3da8f7ced.user+0+0000000041.json",
         "12a3da8f7ced.user+0+0000000041.json",
         104,
         1706033355000
        ],
        [
         "dbfs:/mnt/s3_bucket_test/topics/12a3da8f7ced.user/partition=0/12a3da8f7ced.user+0+0000000042.json",
         "12a3da8f7ced.user+0+0000000042.json",
         104,
         1706033359000
        ],
        [
         "dbfs:/mnt/s3_bucket_test/topics/12a3da8f7ced.user/partition=0/12a3da8f7ced.user+0+0000000043.json",
         "12a3da8f7ced.user+0+0000000043.json",
         102,
         1706033364000
        ],
        [
         "dbfs:/mnt/s3_bucket_test/topics/12a3da8f7ced.user/partition=0/12a3da8f7ced.user+0+0000000044.json",
         "12a3da8f7ced.user+0+0000000044.json",
         102,
         1706033368000
        ],
        [
         "dbfs:/mnt/s3_bucket_test/topics/12a3da8f7ced.user/partition=0/12a3da8f7ced.user+0+0000000045.json",
         "12a3da8f7ced.user+0+0000000045.json",
         102,
         1706033373000
        ],
        [
         "dbfs:/mnt/s3_bucket_test/topics/12a3da8f7ced.user/partition=0/12a3da8f7ced.user+0+0000000046.json",
         "12a3da8f7ced.user+0+0000000046.json",
         102,
         1706033377000
        ],
        [
         "dbfs:/mnt/s3_bucket_test/topics/12a3da8f7ced.user/partition=0/12a3da8f7ced.user+0+0000000047.json",
         "12a3da8f7ced.user+0+0000000047.json",
         104,
         1706033385000
        ],
        [
         "dbfs:/mnt/s3_bucket_test/topics/12a3da8f7ced.user/partition=0/12a3da8f7ced.user+0+0000000048.json",
         "12a3da8f7ced.user+0+0000000048.json",
         103,
         1706033389000
        ],
        [
         "dbfs:/mnt/s3_bucket_test/topics/12a3da8f7ced.user/partition=0/12a3da8f7ced.user+0+0000000049.json",
         "12a3da8f7ced.user+0+0000000049.json",
         102,
         1706033395000
        ],
        [
         "dbfs:/mnt/s3_bucket_test/topics/12a3da8f7ced.user/partition=0/12a3da8f7ced.user+0+0000000050.json",
         "12a3da8f7ced.user+0+0000000050.json",
         105,
         1706033400000
        ],
        [
         "dbfs:/mnt/s3_bucket_test/topics/12a3da8f7ced.user/partition=0/12a3da8f7ced.user+0+0000000051.json",
         "12a3da8f7ced.user+0+0000000051.json",
         101,
         1706033406000
        ],
        [
         "dbfs:/mnt/s3_bucket_test/topics/12a3da8f7ced.user/partition=0/12a3da8f7ced.user+0+0000000052.json",
         "12a3da8f7ced.user+0+0000000052.json",
         106,
         1706033412000
        ],
        [
         "dbfs:/mnt/s3_bucket_test/topics/12a3da8f7ced.user/partition=0/12a3da8f7ced.user+0+0000000053.json",
         "12a3da8f7ced.user+0+0000000053.json",
         102,
         1706033417000
        ],
        [
         "dbfs:/mnt/s3_bucket_test/topics/12a3da8f7ced.user/partition=0/12a3da8f7ced.user+0+0000000054.json",
         "12a3da8f7ced.user+0+0000000054.json",
         104,
         1706033423000
        ],
        [
         "dbfs:/mnt/s3_bucket_test/topics/12a3da8f7ced.user/partition=0/12a3da8f7ced.user+0+0000000055.json",
         "12a3da8f7ced.user+0+0000000055.json",
         103,
         1706033427000
        ],
        [
         "dbfs:/mnt/s3_bucket_test/topics/12a3da8f7ced.user/partition=0/12a3da8f7ced.user+0+0000000056.json",
         "12a3da8f7ced.user+0+0000000056.json",
         104,
         1706033433000
        ],
        [
         "dbfs:/mnt/s3_bucket_test/topics/12a3da8f7ced.user/partition=0/12a3da8f7ced.user+0+0000000057.json",
         "12a3da8f7ced.user+0+0000000057.json",
         101,
         1706033436000
        ],
        [
         "dbfs:/mnt/s3_bucket_test/topics/12a3da8f7ced.user/partition=0/12a3da8f7ced.user+0+0000000058.json",
         "12a3da8f7ced.user+0+0000000058.json",
         101,
         1706033442000
        ],
        [
         "dbfs:/mnt/s3_bucket_test/topics/12a3da8f7ced.user/partition=0/12a3da8f7ced.user+0+0000000059.json",
         "12a3da8f7ced.user+0+0000000059.json",
         104,
         1706033447000
        ],
        [
         "dbfs:/mnt/s3_bucket_test/topics/12a3da8f7ced.user/partition=0/12a3da8f7ced.user+0+0000000060.json",
         "12a3da8f7ced.user+0+0000000060.json",
         102,
         1706033451000
        ],
        [
         "dbfs:/mnt/s3_bucket_test/topics/12a3da8f7ced.user/partition=0/12a3da8f7ced.user+0+0000000061.json",
         "12a3da8f7ced.user+0+0000000061.json",
         102,
         1706033458000
        ],
        [
         "dbfs:/mnt/s3_bucket_test/topics/12a3da8f7ced.user/partition=0/12a3da8f7ced.user+0+0000000062.json",
         "12a3da8f7ced.user+0+0000000062.json",
         104,
         1706033461000
        ],
        [
         "dbfs:/mnt/s3_bucket_test/topics/12a3da8f7ced.user/partition=0/12a3da8f7ced.user+0+0000000063.json",
         "12a3da8f7ced.user+0+0000000063.json",
         102,
         1706033466000
        ],
        [
         "dbfs:/mnt/s3_bucket_test/topics/12a3da8f7ced.user/partition=0/12a3da8f7ced.user+0+0000000064.json",
         "12a3da8f7ced.user+0+0000000064.json",
         108,
         1706033474000
        ],
        [
         "dbfs:/mnt/s3_bucket_test/topics/12a3da8f7ced.user/partition=0/12a3da8f7ced.user+0+0000000065.json",
         "12a3da8f7ced.user+0+0000000065.json",
         100,
         1706033479000
        ],
        [
         "dbfs:/mnt/s3_bucket_test/topics/12a3da8f7ced.user/partition=0/12a3da8f7ced.user+0+0000000066.json",
         "12a3da8f7ced.user+0+0000000066.json",
         101,
         1706033484000
        ],
        [
         "dbfs:/mnt/s3_bucket_test/topics/12a3da8f7ced.user/partition=0/12a3da8f7ced.user+0+0000000067.json",
         "12a3da8f7ced.user+0+0000000067.json",
         101,
         1706033489000
        ],
        [
         "dbfs:/mnt/s3_bucket_test/topics/12a3da8f7ced.user/partition=0/12a3da8f7ced.user+0+0000000068.json",
         "12a3da8f7ced.user+0+0000000068.json",
         108,
         1706033496000
        ],
        [
         "dbfs:/mnt/s3_bucket_test/topics/12a3da8f7ced.user/partition=0/12a3da8f7ced.user+0+0000000069.json",
         "12a3da8f7ced.user+0+0000000069.json",
         102,
         1706033502000
        ],
        [
         "dbfs:/mnt/s3_bucket_test/topics/12a3da8f7ced.user/partition=0/12a3da8f7ced.user+0+0000000070.json",
         "12a3da8f7ced.user+0+0000000070.json",
         103,
         1706033508000
        ],
        [
         "dbfs:/mnt/s3_bucket_test/topics/12a3da8f7ced.user/partition=0/12a3da8f7ced.user+0+0000000071.json",
         "12a3da8f7ced.user+0+0000000071.json",
         101,
         1706033514000
        ],
        [
         "dbfs:/mnt/s3_bucket_test/topics/12a3da8f7ced.user/partition=0/12a3da8f7ced.user+0+0000000072.json",
         "12a3da8f7ced.user+0+0000000072.json",
         100,
         1706033520000
        ],
        [
         "dbfs:/mnt/s3_bucket_test/topics/12a3da8f7ced.user/partition=0/12a3da8f7ced.user+0+0000000073.json",
         "12a3da8f7ced.user+0+0000000073.json",
         100,
         1706033527000
        ],
        [
         "dbfs:/mnt/s3_bucket_test/topics/12a3da8f7ced.user/partition=0/12a3da8f7ced.user+0+0000000074.json",
         "12a3da8f7ced.user+0+0000000074.json",
         105,
         1706033535000
        ],
        [
         "dbfs:/mnt/s3_bucket_test/topics/12a3da8f7ced.user/partition=0/12a3da8f7ced.user+0+0000000075.json",
         "12a3da8f7ced.user+0+0000000075.json",
         103,
         1706033541000
        ],
        [
         "dbfs:/mnt/s3_bucket_test/topics/12a3da8f7ced.user/partition=0/12a3da8f7ced.user+0+0000000076.json",
         "12a3da8f7ced.user+0+0000000076.json",
         103,
         1706033545000
        ],
        [
         "dbfs:/mnt/s3_bucket_test/topics/12a3da8f7ced.user/partition=0/12a3da8f7ced.user+0+0000000077.json",
         "12a3da8f7ced.user+0+0000000077.json",
         104,
         1706033551000
        ],
        [
         "dbfs:/mnt/s3_bucket_test/topics/12a3da8f7ced.user/partition=0/12a3da8f7ced.user+0+0000000078.json",
         "12a3da8f7ced.user+0+0000000078.json",
         102,
         1706033556000
        ],
        [
         "dbfs:/mnt/s3_bucket_test/topics/12a3da8f7ced.user/partition=0/12a3da8f7ced.user+0+0000000079.json",
         "12a3da8f7ced.user+0+0000000079.json",
         104,
         1706033559000
        ],
        [
         "dbfs:/mnt/s3_bucket_test/topics/12a3da8f7ced.user/partition=0/12a3da8f7ced.user+0+0000000080.json",
         "12a3da8f7ced.user+0+0000000080.json",
         99,
         1706033563000
        ],
        [
         "dbfs:/mnt/s3_bucket_test/topics/12a3da8f7ced.user/partition=0/12a3da8f7ced.user+0+0000000081.json",
         "12a3da8f7ced.user+0+0000000081.json",
         108,
         1706033567000
        ],
        [
         "dbfs:/mnt/s3_bucket_test/topics/12a3da8f7ced.user/partition=0/12a3da8f7ced.user+0+0000000082.json",
         "12a3da8f7ced.user+0+0000000082.json",
         110,
         1706033571000
        ],
        [
         "dbfs:/mnt/s3_bucket_test/topics/12a3da8f7ced.user/partition=0/12a3da8f7ced.user+0+0000000083.json",
         "12a3da8f7ced.user+0+0000000083.json",
         101,
         1706033577000
        ],
        [
         "dbfs:/mnt/s3_bucket_test/topics/12a3da8f7ced.user/partition=0/12a3da8f7ced.user+0+0000000084.json",
         "12a3da8f7ced.user+0+0000000084.json",
         104,
         1706033582000
        ],
        [
         "dbfs:/mnt/s3_bucket_test/topics/12a3da8f7ced.user/partition=0/12a3da8f7ced.user+0+0000000085.json",
         "12a3da8f7ced.user+0+0000000085.json",
         106,
         1706033587000
        ],
        [
         "dbfs:/mnt/s3_bucket_test/topics/12a3da8f7ced.user/partition=0/12a3da8f7ced.user+0+0000000086.json",
         "12a3da8f7ced.user+0+0000000086.json",
         104,
         1706033593000
        ],
        [
         "dbfs:/mnt/s3_bucket_test/topics/12a3da8f7ced.user/partition=0/12a3da8f7ced.user+0+0000000087.json",
         "12a3da8f7ced.user+0+0000000087.json",
         98,
         1706033598000
        ],
        [
         "dbfs:/mnt/s3_bucket_test/topics/12a3da8f7ced.user/partition=0/12a3da8f7ced.user+0+0000000088.json",
         "12a3da8f7ced.user+0+0000000088.json",
         103,
         1706033602000
        ],
        [
         "dbfs:/mnt/s3_bucket_test/topics/12a3da8f7ced.user/partition=0/12a3da8f7ced.user+0+0000000089.json",
         "12a3da8f7ced.user+0+0000000089.json",
         103,
         1706033607000
        ],
        [
         "dbfs:/mnt/s3_bucket_test/topics/12a3da8f7ced.user/partition=0/12a3da8f7ced.user+0+0000000090.json",
         "12a3da8f7ced.user+0+0000000090.json",
         103,
         1706033612000
        ],
        [
         "dbfs:/mnt/s3_bucket_test/topics/12a3da8f7ced.user/partition=0/12a3da8f7ced.user+0+0000000091.json",
         "12a3da8f7ced.user+0+0000000091.json",
         104,
         1706033618000
        ],
        [
         "dbfs:/mnt/s3_bucket_test/topics/12a3da8f7ced.user/partition=0/12a3da8f7ced.user+0+0000000092.json",
         "12a3da8f7ced.user+0+0000000092.json",
         105,
         1706033623000
        ],
        [
         "dbfs:/mnt/s3_bucket_test/topics/12a3da8f7ced.user/partition=0/12a3da8f7ced.user+0+0000000093.json",
         "12a3da8f7ced.user+0+0000000093.json",
         104,
         1706033629000
        ],
        [
         "dbfs:/mnt/s3_bucket_test/topics/12a3da8f7ced.user/partition=0/12a3da8f7ced.user+0+0000000094.json",
         "12a3da8f7ced.user+0+0000000094.json",
         105,
         1706033633000
        ],
        [
         "dbfs:/mnt/s3_bucket_test/topics/12a3da8f7ced.user/partition=0/12a3da8f7ced.user+0+0000000095.json",
         "12a3da8f7ced.user+0+0000000095.json",
         109,
         1706033640000
        ],
        [
         "dbfs:/mnt/s3_bucket_test/topics/12a3da8f7ced.user/partition=0/12a3da8f7ced.user+0+0000000096.json",
         "12a3da8f7ced.user+0+0000000096.json",
         99,
         1706033646000
        ],
        [
         "dbfs:/mnt/s3_bucket_test/topics/12a3da8f7ced.user/partition=0/12a3da8f7ced.user+0+0000000097.json",
         "12a3da8f7ced.user+0+0000000097.json",
         103,
         1706033650000
        ],
        [
         "dbfs:/mnt/s3_bucket_test/topics/12a3da8f7ced.user/partition=0/12a3da8f7ced.user+0+0000000098.json",
         "12a3da8f7ced.user+0+0000000098.json",
         98,
         1706033654000
        ],
        [
         "dbfs:/mnt/s3_bucket_test/topics/12a3da8f7ced.user/partition=0/12a3da8f7ced.user+0+0000000099.json",
         "12a3da8f7ced.user+0+0000000099.json",
         104,
         1706033659000
        ],
        [
         "dbfs:/mnt/s3_bucket_test/topics/12a3da8f7ced.user/partition=0/12a3da8f7ced.user+0+0000000100.json",
         "12a3da8f7ced.user+0+0000000100.json",
         100,
         1706033663000
        ],
        [
         "dbfs:/mnt/s3_bucket_test/topics/12a3da8f7ced.user/partition=0/12a3da8f7ced.user+0+0000000101.json",
         "12a3da8f7ced.user+0+0000000101.json",
         109,
         1706033667000
        ],
        [
         "dbfs:/mnt/s3_bucket_test/topics/12a3da8f7ced.user/partition=0/12a3da8f7ced.user+0+0000000102.json",
         "12a3da8f7ced.user+0+0000000102.json",
         105,
         1706033673000
        ],
        [
         "dbfs:/mnt/s3_bucket_test/topics/12a3da8f7ced.user/partition=0/12a3da8f7ced.user+0+0000000103.json",
         "12a3da8f7ced.user+0+0000000103.json",
         102,
         1706033677000
        ],
        [
         "dbfs:/mnt/s3_bucket_test/topics/12a3da8f7ced.user/partition=0/12a3da8f7ced.user+0+0000000104.json",
         "12a3da8f7ced.user+0+0000000104.json",
         100,
         1706033683000
        ],
        [
         "dbfs:/mnt/s3_bucket_test/topics/12a3da8f7ced.user/partition=0/12a3da8f7ced.user+0+0000000105.json",
         "12a3da8f7ced.user+0+0000000105.json",
         103,
         1706033688000
        ],
        [
         "dbfs:/mnt/s3_bucket_test/topics/12a3da8f7ced.user/partition=0/12a3da8f7ced.user+0+0000000106.json",
         "12a3da8f7ced.user+0+0000000106.json",
         102,
         1706033692000
        ],
        [
         "dbfs:/mnt/s3_bucket_test/topics/12a3da8f7ced.user/partition=0/12a3da8f7ced.user+0+0000000107.json",
         "12a3da8f7ced.user+0+0000000107.json",
         107,
         1706033695000
        ],
        [
         "dbfs:/mnt/s3_bucket_test/topics/12a3da8f7ced.user/partition=0/12a3da8f7ced.user+0+0000000108.json",
         "12a3da8f7ced.user+0+0000000108.json",
         105,
         1706033700000
        ]
       ],
       "datasetInfos": [],
       "dbfsResultPath": null,
       "isJsonSchema": true,
       "metadata": {},
       "overflow": false,
       "plotOptions": {
        "customPlotOptions": {},
        "displayType": "table",
        "pivotAggregation": null,
        "pivotColumns": null,
        "xColumns": null,
        "yColumns": null
       },
       "removedWidgets": [],
       "schema": [
        {
         "metadata": "{}",
         "name": "path",
         "type": "\"string\""
        },
        {
         "metadata": "{}",
         "name": "name",
         "type": "\"string\""
        },
        {
         "metadata": "{}",
         "name": "size",
         "type": "\"long\""
        },
        {
         "metadata": "{}",
         "name": "modificationTime",
         "type": "\"long\""
        }
       ],
       "type": "table"
      }
     },
     "output_type": "display_data"
    }
   ],
   "source": [
    "# Repeat for 12a3da8f7ced.user\n",
    "display(dbutils.fs.ls(\"/mnt/s3_bucket_test/topics/12a3da8f7ced.user/partition=0/\"))"
   ]
  },
  {
   "cell_type": "code",
   "execution_count": 0,
   "metadata": {
    "application/vnd.databricks.v1+cell": {
     "cellMetadata": {
      "byteLimit": 2048000,
      "implicitDf": true,
      "rowLimit": 10000
     },
     "inputWidgets": {},
     "nuid": "1c74e3ef-ef97-4aae-9d5d-7cf7faa16a1c",
     "showTitle": false,
     "title": ""
    }
   },
   "outputs": [
    {
     "output_type": "display_data",
     "data": {
      "text/html": [
       "<style scoped>\n",
       "  .table-result-container {\n",
       "    max-height: 300px;\n",
       "    overflow: auto;\n",
       "  }\n",
       "  table, th, td {\n",
       "    border: 1px solid black;\n",
       "    border-collapse: collapse;\n",
       "  }\n",
       "  th, td {\n",
       "    padding: 5px;\n",
       "  }\n",
       "  th {\n",
       "    text-align: left;\n",
       "  }\n",
       "</style><div class='table-result-container'><table class='table-result'><thead style='background-color: white'><tr><th>key</th><th>value</th></tr></thead><tbody><tr><td>spark.databricks.delta.formatCheck.enabled</td><td>false</td></tr></tbody></table></div>"
      ]
     },
     "metadata": {
      "application/vnd.databricks.v1+output": {
       "addedWidgets": {},
       "aggData": [],
       "aggError": "",
       "aggOverflow": false,
       "aggSchema": [],
       "aggSeriesLimitReached": false,
       "aggType": "",
       "arguments": {},
       "columnCustomDisplayInfos": {},
       "data": [
        [
         "spark.databricks.delta.formatCheck.enabled",
         "false"
        ]
       ],
       "datasetInfos": [],
       "dbfsResultPath": null,
       "isJsonSchema": true,
       "metadata": {},
       "overflow": false,
       "plotOptions": {
        "customPlotOptions": {},
        "displayType": "table",
        "pivotAggregation": null,
        "pivotColumns": null,
        "xColumns": null,
        "yColumns": null
       },
       "removedWidgets": [],
       "schema": [
        {
         "metadata": "{}",
         "name": "key",
         "type": "\"string\""
        },
        {
         "metadata": "{}",
         "name": "value",
         "type": "\"string\""
        }
       ],
       "type": "table"
      }
     },
     "output_type": "display_data"
    }
   ],
   "source": [
    "%sql\n",
    "SET spark.databricks.delta.formatCheck.enabled=false"
   ]
  }
 ],
 "metadata": {
  "application/vnd.databricks.v1+notebook": {
   "dashboards": [],
   "language": "python",
   "notebookMetadata": {
    "mostRecentlyExecutedCommandWithImplicitDF": {
     "commandId": 3995871689976913,
     "dataframes": [
      "_sqldf"
     ]
    },
    "pythonIndentUnit": 4
   },
   "notebookName": "mount_s3_bucket",
   "widgets": {}
  }
 },
 "nbformat": 4,
 "nbformat_minor": 0
}
